{
 "cells": [
  {
   "cell_type": "markdown",
   "source": [
    "# Nomor 1\n",
    "\n",
    "Modul python ini berisi prosedur regresi untuk *data insurance* yang dengan sumber\n",
    "https://www.kaggle.com/datasets/mirichoi0218/insurance?resource=download\n",
    "\n",
    "Machine Learning pada soal ini akan dilakukan dengan algoritma SVR (*Support Vector Machine*). Adapun sebelum melakukan penulisan program, *data insurance* telah saya lakukan **Label Encoding** yang diterapkan dengan mengubah beberapa kolom berikut:\n",
    "\n",
    "| No | Kolom    | Enumerasi                            |\n",
    "|----|----------|--------------------------------------|\n",
    "| 1  | `sex`    | 0 artinya *female*, 1 artinya *male* |\n",
    "| 2  | `smoker` | 0 artinya *no*, 1 artinya *yes*      |\n",
    "\n",
    "Data yang akan digunakan ada pada `SOURCE_Number_1.csv`"
   ],
   "metadata": {
    "collapsed": false
   }
  },
  {
   "cell_type": "code",
   "execution_count": 39,
   "outputs": [],
   "source": [
    "# Importing required libraries\n",
    "\n",
    "# Pandas is a tool to help dataset manipulation\n",
    "import pandas\n",
    "\n",
    "# This is the machine learning library\n",
    "from sklearn.model_selection import train_test_split # Training test split\n",
    "from sklearn.svm import SVR # Support Vector Regression\n",
    "from sklearn.pipeline import make_pipeline # Model\n",
    "from sklearn import metrics # Testing performance metrics"
   ],
   "metadata": {
    "collapsed": false,
    "ExecuteTime": {
     "end_time": "2023-06-01T13:50:27.993888100Z",
     "start_time": "2023-06-01T13:50:27.981196800Z"
    }
   }
  },
  {
   "cell_type": "code",
   "execution_count": 40,
   "outputs": [
    {
     "data": {
      "text/plain": "   age  sex     bmi  children  smoker     region      charges\n0   19    0  27.900         0       1  southwest  16884.92400\n1   18    1  33.770         1       0  southeast   1725.55230\n2   28    1  33.000         3       0  southeast   4449.46200\n3   33    1  22.705         0       0  northwest  21984.47061\n4   32    1  28.880         0       0  northwest   3866.85520",
      "text/html": "<div>\n<style scoped>\n    .dataframe tbody tr th:only-of-type {\n        vertical-align: middle;\n    }\n\n    .dataframe tbody tr th {\n        vertical-align: top;\n    }\n\n    .dataframe thead th {\n        text-align: right;\n    }\n</style>\n<table border=\"1\" class=\"dataframe\">\n  <thead>\n    <tr style=\"text-align: right;\">\n      <th></th>\n      <th>age</th>\n      <th>sex</th>\n      <th>bmi</th>\n      <th>children</th>\n      <th>smoker</th>\n      <th>region</th>\n      <th>charges</th>\n    </tr>\n  </thead>\n  <tbody>\n    <tr>\n      <th>0</th>\n      <td>19</td>\n      <td>0</td>\n      <td>27.900</td>\n      <td>0</td>\n      <td>1</td>\n      <td>southwest</td>\n      <td>16884.92400</td>\n    </tr>\n    <tr>\n      <th>1</th>\n      <td>18</td>\n      <td>1</td>\n      <td>33.770</td>\n      <td>1</td>\n      <td>0</td>\n      <td>southeast</td>\n      <td>1725.55230</td>\n    </tr>\n    <tr>\n      <th>2</th>\n      <td>28</td>\n      <td>1</td>\n      <td>33.000</td>\n      <td>3</td>\n      <td>0</td>\n      <td>southeast</td>\n      <td>4449.46200</td>\n    </tr>\n    <tr>\n      <th>3</th>\n      <td>33</td>\n      <td>1</td>\n      <td>22.705</td>\n      <td>0</td>\n      <td>0</td>\n      <td>northwest</td>\n      <td>21984.47061</td>\n    </tr>\n    <tr>\n      <th>4</th>\n      <td>32</td>\n      <td>1</td>\n      <td>28.880</td>\n      <td>0</td>\n      <td>0</td>\n      <td>northwest</td>\n      <td>3866.85520</td>\n    </tr>\n  </tbody>\n</table>\n</div>"
     },
     "execution_count": 40,
     "metadata": {},
     "output_type": "execute_result"
    }
   ],
   "source": [
    "# load csv data\n",
    "dataset = pandas.read_csv('SOURCE_Number_1.csv')\n",
    "\n",
    "# Preview data from SOURCE_Number_1.csv\n",
    "dataset.head()"
   ],
   "metadata": {
    "collapsed": false,
    "ExecuteTime": {
     "end_time": "2023-06-01T13:50:28.034533400Z",
     "start_time": "2023-06-01T13:50:27.997209Z"
    }
   }
  },
  {
   "cell_type": "code",
   "execution_count": 41,
   "outputs": [
    {
     "name": "stdout",
     "output_type": "stream",
     "text": [
      "<class 'pandas.core.frame.DataFrame'>\n",
      "RangeIndex: 1338 entries, 0 to 1337\n",
      "Data columns (total 7 columns):\n",
      " #   Column    Non-Null Count  Dtype  \n",
      "---  ------    --------------  -----  \n",
      " 0   age       1338 non-null   int64  \n",
      " 1   sex       1338 non-null   int64  \n",
      " 2   bmi       1338 non-null   float64\n",
      " 3   children  1338 non-null   int64  \n",
      " 4   smoker    1338 non-null   int64  \n",
      " 5   region    1338 non-null   object \n",
      " 6   charges   1338 non-null   float64\n",
      "dtypes: float64(2), int64(4), object(1)\n",
      "memory usage: 73.3+ KB\n"
     ]
    }
   ],
   "source": [
    "# Check if there is any missing data\n",
    "dataset.info()"
   ],
   "metadata": {
    "collapsed": false,
    "ExecuteTime": {
     "end_time": "2023-06-01T13:50:28.034533400Z",
     "start_time": "2023-06-01T13:50:28.012545Z"
    }
   }
  },
  {
   "cell_type": "code",
   "execution_count": 42,
   "outputs": [
    {
     "data": {
      "text/plain": "southeast    364\nsouthwest    325\nnorthwest    325\nnortheast    324\nName: region, dtype: int64"
     },
     "execution_count": 42,
     "metadata": {},
     "output_type": "execute_result"
    }
   ],
   "source": [
    "# Count data by its region\n",
    "dataset['region'].value_counts()"
   ],
   "metadata": {
    "collapsed": false,
    "ExecuteTime": {
     "end_time": "2023-06-01T13:50:28.042247200Z",
     "start_time": "2023-06-01T13:50:28.027055100Z"
    }
   }
  },
  {
   "cell_type": "code",
   "execution_count": 43,
   "outputs": [
    {
     "data": {
      "text/plain": "   age  sex     bmi  children  smoker     region      charges  \\\n0   19    0  27.900         0       1  southwest  16884.92400   \n1   18    1  33.770         1       0  southeast   1725.55230   \n2   28    1  33.000         3       0  southeast   4449.46200   \n3   33    1  22.705         0       0  northwest  21984.47061   \n4   32    1  28.880         0       0  northwest   3866.85520   \n\n   region_northeast  region_northwest  region_southeast  region_southwest  \n0                 0                 0                 0                 1  \n1                 0                 0                 1                 0  \n2                 0                 0                 1                 0  \n3                 0                 1                 0                 0  \n4                 0                 1                 0                 0  ",
      "text/html": "<div>\n<style scoped>\n    .dataframe tbody tr th:only-of-type {\n        vertical-align: middle;\n    }\n\n    .dataframe tbody tr th {\n        vertical-align: top;\n    }\n\n    .dataframe thead th {\n        text-align: right;\n    }\n</style>\n<table border=\"1\" class=\"dataframe\">\n  <thead>\n    <tr style=\"text-align: right;\">\n      <th></th>\n      <th>age</th>\n      <th>sex</th>\n      <th>bmi</th>\n      <th>children</th>\n      <th>smoker</th>\n      <th>region</th>\n      <th>charges</th>\n      <th>region_northeast</th>\n      <th>region_northwest</th>\n      <th>region_southeast</th>\n      <th>region_southwest</th>\n    </tr>\n  </thead>\n  <tbody>\n    <tr>\n      <th>0</th>\n      <td>19</td>\n      <td>0</td>\n      <td>27.900</td>\n      <td>0</td>\n      <td>1</td>\n      <td>southwest</td>\n      <td>16884.92400</td>\n      <td>0</td>\n      <td>0</td>\n      <td>0</td>\n      <td>1</td>\n    </tr>\n    <tr>\n      <th>1</th>\n      <td>18</td>\n      <td>1</td>\n      <td>33.770</td>\n      <td>1</td>\n      <td>0</td>\n      <td>southeast</td>\n      <td>1725.55230</td>\n      <td>0</td>\n      <td>0</td>\n      <td>1</td>\n      <td>0</td>\n    </tr>\n    <tr>\n      <th>2</th>\n      <td>28</td>\n      <td>1</td>\n      <td>33.000</td>\n      <td>3</td>\n      <td>0</td>\n      <td>southeast</td>\n      <td>4449.46200</td>\n      <td>0</td>\n      <td>0</td>\n      <td>1</td>\n      <td>0</td>\n    </tr>\n    <tr>\n      <th>3</th>\n      <td>33</td>\n      <td>1</td>\n      <td>22.705</td>\n      <td>0</td>\n      <td>0</td>\n      <td>northwest</td>\n      <td>21984.47061</td>\n      <td>0</td>\n      <td>1</td>\n      <td>0</td>\n      <td>0</td>\n    </tr>\n    <tr>\n      <th>4</th>\n      <td>32</td>\n      <td>1</td>\n      <td>28.880</td>\n      <td>0</td>\n      <td>0</td>\n      <td>northwest</td>\n      <td>3866.85520</td>\n      <td>0</td>\n      <td>1</td>\n      <td>0</td>\n      <td>0</td>\n    </tr>\n  </tbody>\n</table>\n</div>"
     },
     "execution_count": 43,
     "metadata": {},
     "output_type": "execute_result"
    }
   ],
   "source": [
    "# Perform One Hot Encoding for region data\n",
    "encode_region = pandas.get_dummies(dataset['region'], prefix = 'region')\n",
    "\n",
    "# Combine the encoded with current table\n",
    "dataset = pandas.concat([dataset, encode_region], axis = 1)\n",
    "\n",
    "# Preview current dataset after One Hot Encoding\n",
    "dataset.head()"
   ],
   "metadata": {
    "collapsed": false,
    "ExecuteTime": {
     "end_time": "2023-06-01T13:50:28.105446200Z",
     "start_time": "2023-06-01T13:50:28.044548600Z"
    }
   }
  },
  {
   "cell_type": "code",
   "execution_count": 44,
   "outputs": [],
   "source": [
    "# Training Preparation\n",
    "\n",
    "# Define columns for input definitions\n",
    "train_input = dataset[\n",
    "    [\n",
    "        'age', 'sex', 'bmi', 'children',\n",
    "        'smoker', 'region_northwest', 'region_northeast',\n",
    "        'region_southwest', 'region_southeast'\n",
    "    ]\n",
    "]\n",
    "\n",
    "# Define columns for output definitions\n",
    "train_target = dataset [\n",
    "    [\n",
    "        'charges'\n",
    "    ]\n",
    "]\n",
    "\n",
    "# Split training and testing data\n",
    "x_train, x_test, y_train, y_test = train_test_split(train_input, train_target, test_size = 0.2)"
   ],
   "metadata": {
    "collapsed": false,
    "ExecuteTime": {
     "end_time": "2023-06-01T13:50:28.115471400Z",
     "start_time": "2023-06-01T13:50:28.060010600Z"
    }
   }
  },
  {
   "cell_type": "code",
   "execution_count": 45,
   "outputs": [
    {
     "name": "stdout",
     "output_type": "stream",
     "text": [
      "Starting train using kernel [ linear ]\n",
      "Training Error MAE [ linear ]:  6669.3181694361665\n",
      "Testing Error MAE [ linear ]:  6152.955913866509\n",
      "Training Error MSE [ linear ]:  170374514.21149662\n",
      "Testing Error MSE [ linear ]:  150210749.54572812\n",
      "\n",
      "\n",
      "\n",
      "Starting train using kernel [ poly ]\n",
      "Training Error MAE [ poly ]:  8092.947230877517\n",
      "Testing Error MAE [ poly ]:  7761.531984669477\n",
      "Training Error MSE [ poly ]:  162367588.9016269\n",
      "Testing Error MSE [ poly ]:  144660795.05777678\n",
      "\n",
      "\n",
      "\n",
      "Starting train using kernel [ rbf ]\n"
     ]
    },
    {
     "name": "stderr",
     "output_type": "stream",
     "text": [
      "C:\\Users\\yosua\\anaconda3\\envs\\DataSpell\\lib\\site-packages\\sklearn\\utils\\validation.py:1143: DataConversionWarning: A column-vector y was passed when a 1d array was expected. Please change the shape of y to (n_samples, ), for example using ravel().\n",
      "  y = column_or_1d(y, warn=True)\n",
      "C:\\Users\\yosua\\anaconda3\\envs\\DataSpell\\lib\\site-packages\\sklearn\\utils\\validation.py:1143: DataConversionWarning: A column-vector y was passed when a 1d array was expected. Please change the shape of y to (n_samples, ), for example using ravel().\n",
      "  y = column_or_1d(y, warn=True)\n",
      "C:\\Users\\yosua\\anaconda3\\envs\\DataSpell\\lib\\site-packages\\sklearn\\utils\\validation.py:1143: DataConversionWarning: A column-vector y was passed when a 1d array was expected. Please change the shape of y to (n_samples, ), for example using ravel().\n",
      "  y = column_or_1d(y, warn=True)\n"
     ]
    },
    {
     "name": "stdout",
     "output_type": "stream",
     "text": [
      "Training Error MAE [ rbf ]:  8375.503562498256\n",
      "Testing Error MAE [ rbf ]:  8071.790650365266\n",
      "Training Error MSE [ rbf ]:  163865960.70465785\n",
      "Testing Error MSE [ rbf ]:  146717776.88453314\n",
      "\n",
      "\n",
      "\n"
     ]
    }
   ],
   "source": [
    "# This part is to fulfil 3 kernels challenge in the question.\n",
    "for kernel_config in ['linear', 'poly' , 'rbf']:\n",
    "    print(\"Starting train using kernel [\", kernel_config, \"]\")\n",
    "\n",
    "    # Training Session\n",
    "    regression_model = make_pipeline(SVR(kernel = kernel_config, C = 1.0, epsilon = 0.2))\n",
    "    regression_model.fit(x_train, y_train)\n",
    "    regression_output_train = regression_model.predict(x_train)\n",
    "\n",
    "    # Testing Session\n",
    "    regression_test_output = regression_model.predict(x_test)\n",
    "\n",
    "    # Calculate error for training and testing\n",
    "    print(\"Training Error MAE [\", kernel_config, \"]: \", metrics.mean_absolute_error(regression_output_train, y_train))\n",
    "    print(\"Testing Error MAE [\", kernel_config, \"]: \", metrics.mean_absolute_error(regression_test_output, y_test))\n",
    "\n",
    "    print(\"Training Error MSE [\", kernel_config, \"]: \", metrics.mean_squared_error(regression_output_train, y_train))\n",
    "    print(\"Testing Error MSE [\", kernel_config, \"]: \", metrics.mean_squared_error(regression_test_output, y_test))\n",
    "\n",
    "    print(\"\\n\\n\")\n",
    "\n"
   ],
   "metadata": {
    "collapsed": false,
    "ExecuteTime": {
     "end_time": "2023-06-01T13:50:28.368159Z",
     "start_time": "2023-06-01T13:50:28.075246400Z"
    }
   }
  }
 ],
 "metadata": {
  "kernelspec": {
   "display_name": "Python 3",
   "language": "python",
   "name": "python3"
  },
  "language_info": {
   "codemirror_mode": {
    "name": "ipython",
    "version": 2
   },
   "file_extension": ".py",
   "mimetype": "text/x-python",
   "name": "python",
   "nbconvert_exporter": "python",
   "pygments_lexer": "ipython2",
   "version": "2.7.6"
  }
 },
 "nbformat": 4,
 "nbformat_minor": 0
}

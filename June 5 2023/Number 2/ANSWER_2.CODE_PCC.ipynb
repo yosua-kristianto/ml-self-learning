{
 "cells": [
  {
   "cell_type": "markdown",
   "source": [
    "# Nomor 2\n",
    "\n",
    "Modul python ini berisi prosedur klasifikasi untuk data *mobile price* pada soal nomor 2.\n",
    "https://www.kaggle.com/datasets/iabhishekofficial/mobile-price-classification\n",
    "\n",
    "Algoritma Machine Learning yang akan digunakan pada klasifikasi ini akan dilakukan 2 kali dengan algoritma sebagai berikut:\n",
    "\n",
    "1. Decision Tree\n",
    "2. K-Nearest Neighbor\n",
    "\n",
    "Data yang akan digunakan untuk melakukan machine learning ini adalah `test.csv` dan `train.csv`."
   ],
   "metadata": {
    "collapsed": false
   }
  },
  {
   "cell_type": "code",
   "execution_count": 9,
   "outputs": [],
   "source": [
    "# Importing required libraries\n",
    "\n",
    "# Pandas is a tool to help dataset manipulation\n",
    "import pandas\n",
    "\n",
    "# For math manipulation\n",
    "import numpy"
   ],
   "metadata": {
    "collapsed": false,
    "ExecuteTime": {
     "end_time": "2023-06-03T17:00:59.245376100Z",
     "start_time": "2023-06-03T17:00:59.223721400Z"
    }
   }
  },
  {
   "cell_type": "code",
   "execution_count": 10,
   "outputs": [
    {
     "data": {
      "text/plain": "   battery_power  blue  clock_speed  dual_sim  fc  four_g  int_memory  m_dep  \\\n0            842     0          2.2         0   1       0           7    0.6   \n1           1021     1          0.5         1   0       1          53    0.7   \n2            563     1          0.5         1   2       1          41    0.9   \n3            615     1          2.5         0   0       0          10    0.8   \n4           1821     1          1.2         0  13       1          44    0.6   \n\n   mobile_wt  n_cores  ...  px_height  px_width   ram  sc_h  sc_w  talk_time  \\\n0        188        2  ...         20       756  2549     9     7         19   \n1        136        3  ...        905      1988  2631    17     3          7   \n2        145        5  ...       1263      1716  2603    11     2          9   \n3        131        6  ...       1216      1786  2769    16     8         11   \n4        141        2  ...       1208      1212  1411     8     2         15   \n\n   three_g  touch_screen  wifi  price_range  \n0        0             0     1            1  \n1        1             1     0            2  \n2        1             1     0            2  \n3        1             0     0            2  \n4        1             1     0            1  \n\n[5 rows x 21 columns]",
      "text/html": "<div>\n<style scoped>\n    .dataframe tbody tr th:only-of-type {\n        vertical-align: middle;\n    }\n\n    .dataframe tbody tr th {\n        vertical-align: top;\n    }\n\n    .dataframe thead th {\n        text-align: right;\n    }\n</style>\n<table border=\"1\" class=\"dataframe\">\n  <thead>\n    <tr style=\"text-align: right;\">\n      <th></th>\n      <th>battery_power</th>\n      <th>blue</th>\n      <th>clock_speed</th>\n      <th>dual_sim</th>\n      <th>fc</th>\n      <th>four_g</th>\n      <th>int_memory</th>\n      <th>m_dep</th>\n      <th>mobile_wt</th>\n      <th>n_cores</th>\n      <th>...</th>\n      <th>px_height</th>\n      <th>px_width</th>\n      <th>ram</th>\n      <th>sc_h</th>\n      <th>sc_w</th>\n      <th>talk_time</th>\n      <th>three_g</th>\n      <th>touch_screen</th>\n      <th>wifi</th>\n      <th>price_range</th>\n    </tr>\n  </thead>\n  <tbody>\n    <tr>\n      <th>0</th>\n      <td>842</td>\n      <td>0</td>\n      <td>2.2</td>\n      <td>0</td>\n      <td>1</td>\n      <td>0</td>\n      <td>7</td>\n      <td>0.6</td>\n      <td>188</td>\n      <td>2</td>\n      <td>...</td>\n      <td>20</td>\n      <td>756</td>\n      <td>2549</td>\n      <td>9</td>\n      <td>7</td>\n      <td>19</td>\n      <td>0</td>\n      <td>0</td>\n      <td>1</td>\n      <td>1</td>\n    </tr>\n    <tr>\n      <th>1</th>\n      <td>1021</td>\n      <td>1</td>\n      <td>0.5</td>\n      <td>1</td>\n      <td>0</td>\n      <td>1</td>\n      <td>53</td>\n      <td>0.7</td>\n      <td>136</td>\n      <td>3</td>\n      <td>...</td>\n      <td>905</td>\n      <td>1988</td>\n      <td>2631</td>\n      <td>17</td>\n      <td>3</td>\n      <td>7</td>\n      <td>1</td>\n      <td>1</td>\n      <td>0</td>\n      <td>2</td>\n    </tr>\n    <tr>\n      <th>2</th>\n      <td>563</td>\n      <td>1</td>\n      <td>0.5</td>\n      <td>1</td>\n      <td>2</td>\n      <td>1</td>\n      <td>41</td>\n      <td>0.9</td>\n      <td>145</td>\n      <td>5</td>\n      <td>...</td>\n      <td>1263</td>\n      <td>1716</td>\n      <td>2603</td>\n      <td>11</td>\n      <td>2</td>\n      <td>9</td>\n      <td>1</td>\n      <td>1</td>\n      <td>0</td>\n      <td>2</td>\n    </tr>\n    <tr>\n      <th>3</th>\n      <td>615</td>\n      <td>1</td>\n      <td>2.5</td>\n      <td>0</td>\n      <td>0</td>\n      <td>0</td>\n      <td>10</td>\n      <td>0.8</td>\n      <td>131</td>\n      <td>6</td>\n      <td>...</td>\n      <td>1216</td>\n      <td>1786</td>\n      <td>2769</td>\n      <td>16</td>\n      <td>8</td>\n      <td>11</td>\n      <td>1</td>\n      <td>0</td>\n      <td>0</td>\n      <td>2</td>\n    </tr>\n    <tr>\n      <th>4</th>\n      <td>1821</td>\n      <td>1</td>\n      <td>1.2</td>\n      <td>0</td>\n      <td>13</td>\n      <td>1</td>\n      <td>44</td>\n      <td>0.6</td>\n      <td>141</td>\n      <td>2</td>\n      <td>...</td>\n      <td>1208</td>\n      <td>1212</td>\n      <td>1411</td>\n      <td>8</td>\n      <td>2</td>\n      <td>15</td>\n      <td>1</td>\n      <td>1</td>\n      <td>0</td>\n      <td>1</td>\n    </tr>\n  </tbody>\n</table>\n<p>5 rows × 21 columns</p>\n</div>"
     },
     "execution_count": 10,
     "metadata": {},
     "output_type": "execute_result"
    }
   ],
   "source": [
    "# load dataset\n",
    "\n",
    "dataset = pandas.read_csv('train.csv')\n",
    "\n",
    "# Describe the dataset\n",
    "dataset.head()"
   ],
   "metadata": {
    "collapsed": false,
    "ExecuteTime": {
     "end_time": "2023-06-03T17:00:59.268301800Z",
     "start_time": "2023-06-03T17:00:59.238758200Z"
    }
   }
  },
  {
   "cell_type": "markdown",
   "source": [
    "## A. Penghitungan koefisien dengan PCC (Pearson Correlation Coefficient)\n",
    "\n",
    "Dengan metode PCC, yang harus dilakukan adalah menghitung mean setiap kolom *feature* terhadap *hasil*."
   ],
   "metadata": {
    "collapsed": false
   }
  },
  {
   "cell_type": "code",
   "execution_count": 15,
   "outputs": [
    {
     "name": "stdout",
     "output_type": "stream",
     "text": [
      "The price_range has mean of  1.5  and result_standard_deviation of  50.0\n",
      "[{'label': 'ram', 'mean': 2124.213, 'deviation': 48498.56254840961, 'covariance': 1111.8850000000016}, {'label': 'battery_power', 'mean': 1238.5185, 'deviation': 19646.46612791979, 'covariance': 98.58724999999993}, {'label': 'px_width', 'mean': 1251.5155, 'deviation': 19323.71412331232, 'covariance': 80.10525000000003}, {'label': 'px_height', 'mean': 645.108, 'deviation': 19841.518960805402, 'covariance': 73.83900000000007}, {'label': 'int_memory', 'mean': 32.0465, 'deviation': 811.2981421770917, 'covariance': 0.901250000000001}, {'label': 'pc', 'mean': 9.9165, 'deviation': 271.13659933694015, 'covariance': 0.22775000000000026}, {'label': 'sc_w', 'mean': 5.767, 'deviation': 194.77531157721157, 'covariance': 0.18850000000000047}, {'label': 'talk_time', 'mean': 11.011, 'deviation': 244.2944084501321, 'covariance': 0.1335000000000005}, {'label': 'sc_h', 'mean': 12.3065, 'deviation': 188.37493331120277, 'covariance': 0.10824999999999983}, {'label': 'fc', 'mean': 4.3095, 'deviation': 194.10672193409428, 'covariance': 0.10674999999999991}, {'label': 'blue', 'mean': 0.495, 'deviation': 22.359561713056696, 'covariance': 0.011500000000000015}, {'label': 'three_g', 'mean': 0.7615, 'deviation': 19.058738153403656, 'covariance': 0.01124999999999999}, {'label': 'n_cores', 'mean': 4.5205, 'deviation': 102.28958646900465, 'covariance': 0.01124999999999998}, {'label': 'wifi', 'mean': 0.507, 'deviation': 22.358488320993263, 'covariance': 0.010499999999999992}, {'label': 'dual_sim', 'mean': 0.5095, 'deviation': 22.356643307974466, 'covariance': 0.009749999999999998}, {'label': 'four_g', 'mean': 0.5215, 'deviation': 22.339997761861948, 'covariance': 0.00825000000000005}, {'label': 'm_dep', 'mean': 0.50175, 'deviation': 12.895110507475358, 'covariance': 0.0002750000000000011}, {'label': 'clock_speed', 'mean': 1.52225, 'deviation': 36.48369327521558, 'covariance': -0.006025000000000025}, {'label': 'touch_screen', 'mean': 0.503, 'deviation': 22.360277279139506, 'covariance': -0.017}, {'label': 'mobile_wt', 'mean': 140.249, 'deviation': 1582.7248649086162, 'covariance': -1.199}]\n"
     ]
    }
   ],
   "source": [
    "# Start loop every columns\n",
    "\n",
    "result_mean = numpy.mean(dataset['price_range'])\n",
    "result_standard_deviation = 0\n",
    "\n",
    "# Count sigma of every price_range - result_mean squared\n",
    "for i in dataset['price_range']:\n",
    "    result_standard_deviation += ((i - result_mean) ** 2)\n",
    "\n",
    "result_standard_deviation = numpy.sqrt(result_standard_deviation)\n",
    "\n",
    "print(\"The price_range has mean of \", result_mean, \" and result_standard_deviation of \", result_standard_deviation)\n",
    "\n",
    "# Calculating everything inside the features\n",
    "features_count_repository = []\n",
    "\n",
    "# Loop every features\n",
    "for e in ([\n",
    "    'battery_power', 'blue', 'clock_speed',\n",
    "    'dual_sim', 'fc', 'four_g', 'int_memory',\n",
    "    'm_dep', 'mobile_wt', 'n_cores', 'pc', 'px_height',\n",
    "    'px_width', 'ram', 'sc_h', 'sc_w', 'talk_time', 'three_g',\n",
    "    'touch_screen', 'wifi'\n",
    "]):\n",
    "    feature_mean = numpy.mean(dataset[e])\n",
    "    feature_standard_deviation = 0\n",
    "    feature_covariance_from_result = 0\n",
    "\n",
    "    # Count Standard Deviation and Covariance\n",
    "    for i in range(len(dataset[e])):\n",
    "        feature_standard_deviation += ((dataset[e][i] - feature_mean) ** 2)\n",
    "        feature_covariance_from_result += ((dataset[e][i] - feature_mean) * (dataset['price_range'][i] - result_mean))\n",
    "\n",
    "    feature_standard_deviation = numpy.sqrt(feature_standard_deviation)\n",
    "    feature_covariance_from_result = feature_covariance_from_result / len(dataset[e])\n",
    "\n",
    "    # Push data to be process later in features_count_repository\n",
    "    features_count_repository.append(\n",
    "        {\n",
    "            'label': e,\n",
    "            'mean': feature_mean, # For debugging purpose. Just in case...\n",
    "            'deviation': feature_standard_deviation,\n",
    "            'covariance': feature_covariance_from_result\n",
    "        }\n",
    "    )\n",
    "\n",
    "# Sort the count result by its covariance to get top 5 of correlated data\n",
    "temp = features_count_repository\n",
    "features_count_repository = sorted(temp, key=lambda x : x['covariance'], reverse=True)\n",
    "\n",
    "print(features_count_repository)"
   ],
   "metadata": {
    "collapsed": false,
    "ExecuteTime": {
     "end_time": "2023-06-03T17:07:29.559793800Z",
     "start_time": "2023-06-03T17:07:28.968639100Z"
    }
   }
  }
 ],
 "metadata": {
  "kernelspec": {
   "display_name": "Python 3",
   "language": "python",
   "name": "python3"
  },
  "language_info": {
   "codemirror_mode": {
    "name": "ipython",
    "version": 2
   },
   "file_extension": ".py",
   "mimetype": "text/x-python",
   "name": "python",
   "nbconvert_exporter": "python",
   "pygments_lexer": "ipython2",
   "version": "2.7.6"
  }
 },
 "nbformat": 4,
 "nbformat_minor": 0
}

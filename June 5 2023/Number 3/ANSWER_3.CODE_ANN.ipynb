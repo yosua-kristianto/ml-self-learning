{
 "cells": [
  {
   "cell_type": "markdown",
   "source": [
    "# History of this code\n",
    "\n",
    "This code has already tested some learning process with these configuration of hidden layers below:\n",
    "\n",
    "| No | Test Date                           | Config                                       | Same Percentage | Description                                                                                                                                                                                     |\n",
    "|----|-------------------------------------|----------------------------------------------|-----------------|-------------------------------------------------------------------------------------------------------------------------------------------------------------------------------------------------|\n",
    "| 1  | Sunday, 4th June 2023 04:58PM UTC+7 | (20, 34, 34, 34, 20)                         | 48,7%           | I still have no idea how hidden layers affect learning process. So I may want to add another layer for instance                                                                                 |\n",
    "| 2  | Sunday, 4th June 2023 05:00PM UTC+7 | (25, 43, 43, 43, 25)                         | NG              | NG. Max iteration error again.                                                                                                                                                                  |\n",
    "| 3  | Sunday, 4th June 2023 05:01PM UTC+7 | (20, 34, 34, 34, 34, 34, 34, 20)             | 48,7%           | Adding new layers doesn't work                                                                                                                                                                  |\n",
    "| 4  | Sunday, 4th June 2023 05:01PM UTC+7 | (20, 34, 34, 34, 34, 34, 34, 34, 34, 34, 20) | 47,7%           | Adding more new layers causes overfitting (?)                                                                                                                                                   |\n",
    "| 5  | Sunday, 4th June 2023 05:05PM UTC+7 | (5, 10, 5) | 50.2%           | For some reason, the ANN learn a lot when given small amount of learning.                                                                                                                       |\n",
    "| 6  | Sunday, 4th June 2023 05:07PM UTC+7 | (20, 34, 34, 34, 34, 34, 34, 20)             | 52,6%           | Changing it the solver to adam giving better result with the same amount of hidden layers. (Before: lbfgs)                                                                                      |\n",
    "| 7  | Sunday, 4th June 2023 05:16PM UTC+7 | (5, 8, 8, 8, 8, 8, 8, 8, 5) | 47.4% -> 52.6%  | This time I'm playing with the alpha value. Changing it from 1e-5 to 1e-8                                                                                                                       |\n",
    "| 8  | Sunday, 4th June 2023 07:48PM UTC+7 | (20, 34, 34, 34, 20) | 48.7% -> 52.6%  | After changing alpha from 1e-5 to 1e-8 the percentage has been increased by 4%                                                                                                                  |\n",
    "| 9  | Sunday, 4th June 2023 07:57PM UTC+7 | (25, 43, 43, 43, 25)     | 52.6% -> 47.4%  | Increasing the alpha value from 10**-1 to 5 * 10**-1 degrading the percentage.                                                                                                                  |\n",
    "| 10 | Sunday, 4th June 2023 10:05PM UTC+7 | (100, 130, 130, 130, 130, 130, 130, 130, 130, 130, 130, 100) | 47.7%           | I've change the learning_rate to 'adaptive', learning_rate_init to 0.001 and max_iter to 999999. Also I am commonly see thing number, so I can say that this 47.7% is considered as overfitting. |\n",
    "| 11 | Sunday, 4th June 2023 10:05PM UTC+7 | (5, 8, 12, 8, 5) | 52.6%           | I've changed the alpha to 10^-8 and turns out this value might be the best result that I could got.                                                                                             |\n",
    "| 12 | Sunday, 4th June 2023 11:11PM UTC+7 | (5, 8, 12, 8, 5) | 47.4%           | I've changed the learning_rate_init to 0.01 and turns out the learning sucks.                                                                                                                   |\n",
    "| 13 | Sunday. 4th June 2023 11:13PM UTC+7 | (5, 8, 12, 12, 8, 5) | 52.6% | I've changed the learning_rate_init to 0.0001. |\n",
    "\n",
    "Please add the report above to track more time wasted..."
   ],
   "metadata": {
    "collapsed": false
   }
  },
  {
   "cell_type": "code",
   "execution_count": 380,
   "outputs": [],
   "source": [
    "# Importing pandas for data manipulation\n",
    "import pandas\n",
    "\n",
    "# Importing MLPClassifier for the Multilayer Perceptron\n",
    "from sklearn.neural_network import MLPClassifier\n",
    "\n",
    "# Train test split\n",
    "from sklearn.model_selection import train_test_split\n",
    "\n",
    "# Number manipulator\n",
    "import random"
   ],
   "metadata": {
    "collapsed": false,
    "ExecuteTime": {
     "end_time": "2023-06-04T17:07:32.913035Z",
     "start_time": "2023-06-04T17:07:32.831861600Z"
    }
   }
  },
  {
   "cell_type": "code",
   "execution_count": 381,
   "outputs": [
    {
     "data": {
      "text/plain": "              age   job_level      rating      onsite      awards  \\\ncount  500.000000  500.000000  500.000000  500.000000  500.000000   \nmean    38.610000    3.032000    3.072000    0.466000    4.538000   \nstd      9.438648    1.423738    1.425089    0.499342    2.853215   \nmin     23.000000    1.000000    1.000000    0.000000    0.000000   \n25%     30.000000    2.000000    2.000000    0.000000    2.000000   \n50%     39.000000    3.000000    3.000000    0.000000    5.000000   \n75%     47.000000    4.000000    4.000000    1.000000    7.000000   \nmax     54.000000    5.000000    5.000000    1.000000    9.000000   \n\n       certifications        salary   satisfied  \ncount      500.000000    500.000000  500.000000  \nmean         0.496000  50416.056000    0.526000  \nstd          0.500485  23671.392661    0.499824  \nmin          0.000000  24076.000000    0.000000  \n25%          0.000000  29805.000000    0.000000  \n50%          0.000000  42419.000000    1.000000  \n75%          1.000000  65715.000000    1.000000  \nmax          1.000000  86750.000000    1.000000  ",
      "text/html": "<div>\n<style scoped>\n    .dataframe tbody tr th:only-of-type {\n        vertical-align: middle;\n    }\n\n    .dataframe tbody tr th {\n        vertical-align: top;\n    }\n\n    .dataframe thead th {\n        text-align: right;\n    }\n</style>\n<table border=\"1\" class=\"dataframe\">\n  <thead>\n    <tr style=\"text-align: right;\">\n      <th></th>\n      <th>age</th>\n      <th>job_level</th>\n      <th>rating</th>\n      <th>onsite</th>\n      <th>awards</th>\n      <th>certifications</th>\n      <th>salary</th>\n      <th>satisfied</th>\n    </tr>\n  </thead>\n  <tbody>\n    <tr>\n      <th>count</th>\n      <td>500.000000</td>\n      <td>500.000000</td>\n      <td>500.000000</td>\n      <td>500.000000</td>\n      <td>500.000000</td>\n      <td>500.000000</td>\n      <td>500.000000</td>\n      <td>500.000000</td>\n    </tr>\n    <tr>\n      <th>mean</th>\n      <td>38.610000</td>\n      <td>3.032000</td>\n      <td>3.072000</td>\n      <td>0.466000</td>\n      <td>4.538000</td>\n      <td>0.496000</td>\n      <td>50416.056000</td>\n      <td>0.526000</td>\n    </tr>\n    <tr>\n      <th>std</th>\n      <td>9.438648</td>\n      <td>1.423738</td>\n      <td>1.425089</td>\n      <td>0.499342</td>\n      <td>2.853215</td>\n      <td>0.500485</td>\n      <td>23671.392661</td>\n      <td>0.499824</td>\n    </tr>\n    <tr>\n      <th>min</th>\n      <td>23.000000</td>\n      <td>1.000000</td>\n      <td>1.000000</td>\n      <td>0.000000</td>\n      <td>0.000000</td>\n      <td>0.000000</td>\n      <td>24076.000000</td>\n      <td>0.000000</td>\n    </tr>\n    <tr>\n      <th>25%</th>\n      <td>30.000000</td>\n      <td>2.000000</td>\n      <td>2.000000</td>\n      <td>0.000000</td>\n      <td>2.000000</td>\n      <td>0.000000</td>\n      <td>29805.000000</td>\n      <td>0.000000</td>\n    </tr>\n    <tr>\n      <th>50%</th>\n      <td>39.000000</td>\n      <td>3.000000</td>\n      <td>3.000000</td>\n      <td>0.000000</td>\n      <td>5.000000</td>\n      <td>0.000000</td>\n      <td>42419.000000</td>\n      <td>1.000000</td>\n    </tr>\n    <tr>\n      <th>75%</th>\n      <td>47.000000</td>\n      <td>4.000000</td>\n      <td>4.000000</td>\n      <td>1.000000</td>\n      <td>7.000000</td>\n      <td>1.000000</td>\n      <td>65715.000000</td>\n      <td>1.000000</td>\n    </tr>\n    <tr>\n      <th>max</th>\n      <td>54.000000</td>\n      <td>5.000000</td>\n      <td>5.000000</td>\n      <td>1.000000</td>\n      <td>9.000000</td>\n      <td>1.000000</td>\n      <td>86750.000000</td>\n      <td>1.000000</td>\n    </tr>\n  </tbody>\n</table>\n</div>"
     },
     "execution_count": 381,
     "metadata": {},
     "output_type": "execute_result"
    }
   ],
   "source": [
    "# Load dataset data\n",
    "dataset = pandas.read_csv('EmployeeSatisfactionIndex.csv')\n",
    "\n",
    "dataset.describe()"
   ],
   "metadata": {
    "collapsed": false,
    "ExecuteTime": {
     "end_time": "2023-06-04T17:07:32.913035Z",
     "start_time": "2023-06-04T17:07:32.854770900Z"
    }
   }
  },
  {
   "cell_type": "code",
   "execution_count": 382,
   "outputs": [
    {
     "name": "stdout",
     "output_type": "stream",
     "text": [
      "<class 'pandas.core.frame.DataFrame'>\n",
      "RangeIndex: 500 entries, 0 to 499\n",
      "Data columns (total 12 columns):\n",
      " #   Column            Non-Null Count  Dtype \n",
      "---  ------            --------------  ----- \n",
      " 0   age               500 non-null    int64 \n",
      " 1   Dept              500 non-null    object\n",
      " 2   location          500 non-null    object\n",
      " 3   education         500 non-null    object\n",
      " 4   recruitment_type  500 non-null    object\n",
      " 5   job_level         500 non-null    int64 \n",
      " 6   rating            500 non-null    int64 \n",
      " 7   onsite            500 non-null    int64 \n",
      " 8   awards            500 non-null    int64 \n",
      " 9   certifications    500 non-null    int64 \n",
      " 10  salary            500 non-null    int64 \n",
      " 11  satisfied         500 non-null    int64 \n",
      "dtypes: int64(8), object(4)\n",
      "memory usage: 47.0+ KB\n"
     ]
    }
   ],
   "source": [
    "# Print top 5 data\n",
    "dataset.info()"
   ],
   "metadata": {
    "collapsed": false,
    "ExecuteTime": {
     "end_time": "2023-06-04T17:07:32.913035Z",
     "start_time": "2023-06-04T17:07:32.883972800Z"
    }
   }
  },
  {
   "cell_type": "code",
   "execution_count": 383,
   "outputs": [
    {
     "data": {
      "text/plain": "   age        Dept location education    recruitment_type  job_level  rating  \\\n0   28          HR   Suburb        PG            Referral          5       2   \n1   50  Technology   Suburb        PG             Walk-in          3       5   \n2   43  Technology   Suburb        UG            Referral          4       1   \n3   44       Sales     City        PG           On-Campus          2       3   \n4   33          HR     City        UG  Recruitment Agency          2       1   \n\n   onsite  awards  certifications  ...  Dept_Marketing  Dept_Purchasing  \\\n0       0       1               0  ...               0                0   \n1       1       2               1  ...               0                0   \n2       0       2               0  ...               0                0   \n3       1       0               0  ...               0                0   \n4       0       5               0  ...               0                0   \n\n   Dept_Sales  Dept_Technology  recruitment_type_On-Campus  \\\n0           0                0                           0   \n1           0                1                           0   \n2           0                1                           0   \n3           1                0                           1   \n4           0                0                           0   \n\n   recruitment_type_Recruitment Agency  recruitment_type_Referral  \\\n0                                    0                          1   \n1                                    0                          0   \n2                                    0                          1   \n3                                    0                          0   \n4                                    1                          0   \n\n   recruitment_type_Walk-in  is_location_city  is_pg  \n0                         0                 0      1  \n1                         1                 0      1  \n2                         0                 0      0  \n3                         0                 1      1  \n4                         0                 1      0  \n\n[5 rows x 23 columns]",
      "text/html": "<div>\n<style scoped>\n    .dataframe tbody tr th:only-of-type {\n        vertical-align: middle;\n    }\n\n    .dataframe tbody tr th {\n        vertical-align: top;\n    }\n\n    .dataframe thead th {\n        text-align: right;\n    }\n</style>\n<table border=\"1\" class=\"dataframe\">\n  <thead>\n    <tr style=\"text-align: right;\">\n      <th></th>\n      <th>age</th>\n      <th>Dept</th>\n      <th>location</th>\n      <th>education</th>\n      <th>recruitment_type</th>\n      <th>job_level</th>\n      <th>rating</th>\n      <th>onsite</th>\n      <th>awards</th>\n      <th>certifications</th>\n      <th>...</th>\n      <th>Dept_Marketing</th>\n      <th>Dept_Purchasing</th>\n      <th>Dept_Sales</th>\n      <th>Dept_Technology</th>\n      <th>recruitment_type_On-Campus</th>\n      <th>recruitment_type_Recruitment Agency</th>\n      <th>recruitment_type_Referral</th>\n      <th>recruitment_type_Walk-in</th>\n      <th>is_location_city</th>\n      <th>is_pg</th>\n    </tr>\n  </thead>\n  <tbody>\n    <tr>\n      <th>0</th>\n      <td>28</td>\n      <td>HR</td>\n      <td>Suburb</td>\n      <td>PG</td>\n      <td>Referral</td>\n      <td>5</td>\n      <td>2</td>\n      <td>0</td>\n      <td>1</td>\n      <td>0</td>\n      <td>...</td>\n      <td>0</td>\n      <td>0</td>\n      <td>0</td>\n      <td>0</td>\n      <td>0</td>\n      <td>0</td>\n      <td>1</td>\n      <td>0</td>\n      <td>0</td>\n      <td>1</td>\n    </tr>\n    <tr>\n      <th>1</th>\n      <td>50</td>\n      <td>Technology</td>\n      <td>Suburb</td>\n      <td>PG</td>\n      <td>Walk-in</td>\n      <td>3</td>\n      <td>5</td>\n      <td>1</td>\n      <td>2</td>\n      <td>1</td>\n      <td>...</td>\n      <td>0</td>\n      <td>0</td>\n      <td>0</td>\n      <td>1</td>\n      <td>0</td>\n      <td>0</td>\n      <td>0</td>\n      <td>1</td>\n      <td>0</td>\n      <td>1</td>\n    </tr>\n    <tr>\n      <th>2</th>\n      <td>43</td>\n      <td>Technology</td>\n      <td>Suburb</td>\n      <td>UG</td>\n      <td>Referral</td>\n      <td>4</td>\n      <td>1</td>\n      <td>0</td>\n      <td>2</td>\n      <td>0</td>\n      <td>...</td>\n      <td>0</td>\n      <td>0</td>\n      <td>0</td>\n      <td>1</td>\n      <td>0</td>\n      <td>0</td>\n      <td>1</td>\n      <td>0</td>\n      <td>0</td>\n      <td>0</td>\n    </tr>\n    <tr>\n      <th>3</th>\n      <td>44</td>\n      <td>Sales</td>\n      <td>City</td>\n      <td>PG</td>\n      <td>On-Campus</td>\n      <td>2</td>\n      <td>3</td>\n      <td>1</td>\n      <td>0</td>\n      <td>0</td>\n      <td>...</td>\n      <td>0</td>\n      <td>0</td>\n      <td>1</td>\n      <td>0</td>\n      <td>1</td>\n      <td>0</td>\n      <td>0</td>\n      <td>0</td>\n      <td>1</td>\n      <td>1</td>\n    </tr>\n    <tr>\n      <th>4</th>\n      <td>33</td>\n      <td>HR</td>\n      <td>City</td>\n      <td>UG</td>\n      <td>Recruitment Agency</td>\n      <td>2</td>\n      <td>1</td>\n      <td>0</td>\n      <td>5</td>\n      <td>0</td>\n      <td>...</td>\n      <td>0</td>\n      <td>0</td>\n      <td>0</td>\n      <td>0</td>\n      <td>0</td>\n      <td>1</td>\n      <td>0</td>\n      <td>0</td>\n      <td>1</td>\n      <td>0</td>\n    </tr>\n  </tbody>\n</table>\n<p>5 rows × 23 columns</p>\n</div>"
     },
     "execution_count": 383,
     "metadata": {},
     "output_type": "execute_result"
    }
   ],
   "source": [
    "# Change the Dept, location, education, and recruitment_type into numerical\n",
    "\n",
    "# One Hot Encoding Dept\n",
    "dataset = pandas.concat([\n",
    "    dataset,\n",
    "    pandas.get_dummies(dataset['Dept'], prefix = 'Dept')\n",
    "], axis = 1)\n",
    "\n",
    "# One Hot Encoding Recruitment Type\n",
    "dataset = pandas.concat([\n",
    "    dataset,\n",
    "    pandas.get_dummies(dataset['recruitment_type'], prefix = 'recruitment_type')\n",
    "], axis = 1)\n",
    "\n",
    "# Enumerate location\n",
    "dataset['is_location_city'] = dataset['location'].map({\n",
    "    'City': 1,\n",
    "    'Suburb': 0\n",
    "})\n",
    "\n",
    "# Enumerate education\n",
    "dataset['is_pg'] = dataset['education'].map({\n",
    "    'PG': 1,\n",
    "    'UG': 0\n",
    "})\n",
    "\n",
    "dataset.head()"
   ],
   "metadata": {
    "collapsed": false,
    "ExecuteTime": {
     "end_time": "2023-06-04T17:07:32.929541600Z",
     "start_time": "2023-06-04T17:07:32.901504500Z"
    }
   }
  },
  {
   "cell_type": "code",
   "execution_count": 384,
   "outputs": [],
   "source": [
    "# Defining features and target\n",
    "features = [\n",
    "    'age', 'job_level', 'rating', 'onsite',\n",
    "    'awards', 'certifications', 'salary',\n",
    "    'Dept_Purchasing', 'Dept_Marketing', 'Dept_Sales', 'Dept_Technology',\n",
    "    'recruitment_type_Recruitment Agency', 'recruitment_type_On-Campus',\n",
    "    'recruitment_type_Referral', 'recruitment_type_Walk-in',\n",
    "    'is_location_city', 'is_pg'\n",
    "]\n",
    "\n",
    "prediction_features = dataset[features]\n",
    "prediction_target = dataset['satisfied']"
   ],
   "metadata": {
    "collapsed": false,
    "ExecuteTime": {
     "end_time": "2023-06-04T17:07:32.967023600Z",
     "start_time": "2023-06-04T17:07:32.929541600Z"
    }
   }
  },
  {
   "cell_type": "code",
   "execution_count": 385,
   "outputs": [],
   "source": [
    "def training_function(hidden_layer, alpha, learning_rate_init, learning_rate: str, epochs: int, optimizer: str):\n",
    "    train_X, val_X, train_y, val_y = train_test_split(prediction_features, prediction_target, random_state = 1)\n",
    "\n",
    "    # ANN Model\n",
    "    model = MLPClassifier(\n",
    "                solver = optimizer,\n",
    "                alpha = alpha,\n",
    "                hidden_layer_sizes = hidden_layer,\n",
    "                random_state = 1,\n",
    "                learning_rate =  learning_rate,\n",
    "                learning_rate_init = learning_rate_init,\n",
    "                max_iter = epochs\n",
    "            )\n",
    "\n",
    "    model.fit(train_X, train_y)\n",
    "\n",
    "    predicted_value = model.predict( dataset[features])\n",
    "    dataset['predicted_satisfied'] = predicted_value\n",
    "    pandas.set_option('display.max_rows', None)\n",
    "    dataset.loc[:,['satisfied', 'predicted_satisfied']].head(None)\n",
    "\n",
    "    satisfied_count = 0\n",
    "\n",
    "    for e in range(len(dataset['satisfied'])):\n",
    "        if dataset['satisfied'][e] != dataset['predicted_satisfied'][e]:\n",
    "            satisfied_count += 1\n",
    "\n",
    "    percentage = ((satisfied_count * 100) / len(dataset['satisfied']))\n",
    "\n",
    "    print(\"From ANN, I know that the percentage of satisfied value same rate is\", percentage, \"%\")\n",
    "\n",
    "    return percentage"
   ],
   "metadata": {
    "collapsed": false,
    "ExecuteTime": {
     "end_time": "2023-06-04T17:07:33.035517600Z",
     "start_time": "2023-06-04T17:07:32.948976700Z"
    }
   }
  },
  {
   "cell_type": "code",
   "execution_count": 386,
   "outputs": [
    {
     "name": "stdout",
     "output_type": "stream",
     "text": [
      "From ANN, I know that the percentage of satisfied value same rate is 50.0 %\n",
      "Data number 0\n",
      "From ANN, I know that the percentage of satisfied value same rate is 50.2 %\n",
      "Data number 1\n",
      "From ANN, I know that the percentage of satisfied value same rate is 52.6 %\n",
      "Data number 2\n",
      "From ANN, I know that the percentage of satisfied value same rate is 48.2 %\n",
      "Data number 3\n",
      "From ANN, I know that the percentage of satisfied value same rate is 49.2 %\n",
      "Data number 4\n",
      "From ANN, I know that the percentage of satisfied value same rate is 49.2 %\n",
      "Data number 5\n",
      "From ANN, I know that the percentage of satisfied value same rate is 47.4 %\n",
      "Data number 6\n",
      "From ANN, I know that the percentage of satisfied value same rate is 52.6 %\n",
      "Data number 7\n",
      "From ANN, I know that the percentage of satisfied value same rate is 47.4 %\n",
      "Data number 8\n"
     ]
    },
    {
     "name": "stderr",
     "output_type": "stream",
     "text": [
      "C:\\Users\\yosua\\anaconda3\\envs\\DataSpell\\lib\\site-packages\\sklearn\\neural_network\\_multilayer_perceptron.py:541: ConvergenceWarning: lbfgs failed to converge (status=2):\n",
      "ABNORMAL_TERMINATION_IN_LNSRCH.\n",
      "\n",
      "Increase the number of iterations (max_iter) or scale the data as shown in:\n",
      "    https://scikit-learn.org/stable/modules/preprocessing.html\n",
      "  self.n_iter_ = _check_optimize_result(\"lbfgs\", opt_res, self.max_iter)\n",
      "C:\\Users\\yosua\\anaconda3\\envs\\DataSpell\\lib\\site-packages\\sklearn\\neural_network\\_multilayer_perceptron.py:541: ConvergenceWarning: lbfgs failed to converge (status=2):\n",
      "ABNORMAL_TERMINATION_IN_LNSRCH.\n",
      "\n",
      "Increase the number of iterations (max_iter) or scale the data as shown in:\n",
      "    https://scikit-learn.org/stable/modules/preprocessing.html\n",
      "  self.n_iter_ = _check_optimize_result(\"lbfgs\", opt_res, self.max_iter)\n"
     ]
    },
    {
     "name": "stdout",
     "output_type": "stream",
     "text": [
      "From ANN, I know that the percentage of satisfied value same rate is 52.6 %\n",
      "Data number 9\n",
      "From ANN, I know that the percentage of satisfied value same rate is 49.2 %\n",
      "Data number 10\n",
      "From ANN, I know that the percentage of satisfied value same rate is 50.2 %\n",
      "Data number 11\n",
      "From ANN, I know that the percentage of satisfied value same rate is 47.4 %\n",
      "Data number 12\n",
      "From ANN, I know that the percentage of satisfied value same rate is 52.6 %\n",
      "Data number 13\n",
      "From ANN, I know that the percentage of satisfied value same rate is 52.6 %\n",
      "Data number 14\n",
      "From ANN, I know that the percentage of satisfied value same rate is 52.6 %\n",
      "Data number 15\n"
     ]
    },
    {
     "name": "stderr",
     "output_type": "stream",
     "text": [
      "C:\\Users\\yosua\\anaconda3\\envs\\DataSpell\\lib\\site-packages\\sklearn\\neural_network\\_multilayer_perceptron.py:541: ConvergenceWarning: lbfgs failed to converge (status=2):\n",
      "ABNORMAL_TERMINATION_IN_LNSRCH.\n",
      "\n",
      "Increase the number of iterations (max_iter) or scale the data as shown in:\n",
      "    https://scikit-learn.org/stable/modules/preprocessing.html\n",
      "  self.n_iter_ = _check_optimize_result(\"lbfgs\", opt_res, self.max_iter)\n",
      "C:\\Users\\yosua\\anaconda3\\envs\\DataSpell\\lib\\site-packages\\sklearn\\neural_network\\_multilayer_perceptron.py:541: ConvergenceWarning: lbfgs failed to converge (status=2):\n",
      "ABNORMAL_TERMINATION_IN_LNSRCH.\n",
      "\n",
      "Increase the number of iterations (max_iter) or scale the data as shown in:\n",
      "    https://scikit-learn.org/stable/modules/preprocessing.html\n",
      "  self.n_iter_ = _check_optimize_result(\"lbfgs\", opt_res, self.max_iter)\n"
     ]
    },
    {
     "name": "stdout",
     "output_type": "stream",
     "text": [
      "From ANN, I know that the percentage of satisfied value same rate is 50.2 %\n",
      "Data number 16\n",
      "From ANN, I know that the percentage of satisfied value same rate is 50.2 %\n",
      "Data number 17\n",
      "From ANN, I know that the percentage of satisfied value same rate is 52.6 %\n",
      "Data number 18\n",
      "From ANN, I know that the percentage of satisfied value same rate is 48.2 %\n",
      "Data number 19\n",
      "From ANN, I know that the percentage of satisfied value same rate is 52.6 %\n",
      "Data number 20\n"
     ]
    },
    {
     "name": "stderr",
     "output_type": "stream",
     "text": [
      "C:\\Users\\yosua\\anaconda3\\envs\\DataSpell\\lib\\site-packages\\sklearn\\neural_network\\_multilayer_perceptron.py:541: ConvergenceWarning: lbfgs failed to converge (status=2):\n",
      "ABNORMAL_TERMINATION_IN_LNSRCH.\n",
      "\n",
      "Increase the number of iterations (max_iter) or scale the data as shown in:\n",
      "    https://scikit-learn.org/stable/modules/preprocessing.html\n",
      "  self.n_iter_ = _check_optimize_result(\"lbfgs\", opt_res, self.max_iter)\n",
      "C:\\Users\\yosua\\anaconda3\\envs\\DataSpell\\lib\\site-packages\\sklearn\\neural_network\\_multilayer_perceptron.py:541: ConvergenceWarning: lbfgs failed to converge (status=2):\n",
      "ABNORMAL_TERMINATION_IN_LNSRCH.\n",
      "\n",
      "Increase the number of iterations (max_iter) or scale the data as shown in:\n",
      "    https://scikit-learn.org/stable/modules/preprocessing.html\n",
      "  self.n_iter_ = _check_optimize_result(\"lbfgs\", opt_res, self.max_iter)\n",
      "C:\\Users\\yosua\\anaconda3\\envs\\DataSpell\\lib\\site-packages\\sklearn\\neural_network\\_multilayer_perceptron.py:541: ConvergenceWarning: lbfgs failed to converge (status=2):\n",
      "ABNORMAL_TERMINATION_IN_LNSRCH.\n",
      "\n",
      "Increase the number of iterations (max_iter) or scale the data as shown in:\n",
      "    https://scikit-learn.org/stable/modules/preprocessing.html\n",
      "  self.n_iter_ = _check_optimize_result(\"lbfgs\", opt_res, self.max_iter)\n"
     ]
    },
    {
     "name": "stdout",
     "output_type": "stream",
     "text": [
      "From ANN, I know that the percentage of satisfied value same rate is 52.6 %\n",
      "Data number 21\n",
      "From ANN, I know that the percentage of satisfied value same rate is 49.2 %\n",
      "Data number 22\n",
      "From ANN, I know that the percentage of satisfied value same rate is 50.2 %\n",
      "Data number 23\n",
      "From ANN, I know that the percentage of satisfied value same rate is 52.6 %\n",
      "Data number 24\n",
      "From ANN, I know that the percentage of satisfied value same rate is 52.6 %\n",
      "Data number 25\n"
     ]
    },
    {
     "name": "stderr",
     "output_type": "stream",
     "text": [
      "C:\\Users\\yosua\\anaconda3\\envs\\DataSpell\\lib\\site-packages\\sklearn\\neural_network\\_multilayer_perceptron.py:541: ConvergenceWarning: lbfgs failed to converge (status=2):\n",
      "ABNORMAL_TERMINATION_IN_LNSRCH.\n",
      "\n",
      "Increase the number of iterations (max_iter) or scale the data as shown in:\n",
      "    https://scikit-learn.org/stable/modules/preprocessing.html\n",
      "  self.n_iter_ = _check_optimize_result(\"lbfgs\", opt_res, self.max_iter)\n",
      "C:\\Users\\yosua\\anaconda3\\envs\\DataSpell\\lib\\site-packages\\sklearn\\neural_network\\_multilayer_perceptron.py:541: ConvergenceWarning: lbfgs failed to converge (status=2):\n",
      "ABNORMAL_TERMINATION_IN_LNSRCH.\n",
      "\n",
      "Increase the number of iterations (max_iter) or scale the data as shown in:\n",
      "    https://scikit-learn.org/stable/modules/preprocessing.html\n",
      "  self.n_iter_ = _check_optimize_result(\"lbfgs\", opt_res, self.max_iter)\n"
     ]
    },
    {
     "name": "stdout",
     "output_type": "stream",
     "text": [
      "From ANN, I know that the percentage of satisfied value same rate is 47.4 %\n",
      "Data number 26\n",
      "From ANN, I know that the percentage of satisfied value same rate is 52.6 %\n",
      "Data number 27\n",
      "From ANN, I know that the percentage of satisfied value same rate is 50.0 %\n",
      "Data number 28\n",
      "From ANN, I know that the percentage of satisfied value same rate is 52.6 %\n",
      "Data number 29\n",
      "From ANN, I know that the percentage of satisfied value same rate is 52.6 %\n",
      "Data number 30\n",
      "From ANN, I know that the percentage of satisfied value same rate is 52.6 %\n",
      "Data number 31\n"
     ]
    },
    {
     "name": "stderr",
     "output_type": "stream",
     "text": [
      "C:\\Users\\yosua\\anaconda3\\envs\\DataSpell\\lib\\site-packages\\sklearn\\neural_network\\_multilayer_perceptron.py:541: ConvergenceWarning: lbfgs failed to converge (status=2):\n",
      "ABNORMAL_TERMINATION_IN_LNSRCH.\n",
      "\n",
      "Increase the number of iterations (max_iter) or scale the data as shown in:\n",
      "    https://scikit-learn.org/stable/modules/preprocessing.html\n",
      "  self.n_iter_ = _check_optimize_result(\"lbfgs\", opt_res, self.max_iter)\n",
      "C:\\Users\\yosua\\anaconda3\\envs\\DataSpell\\lib\\site-packages\\sklearn\\neural_network\\_multilayer_perceptron.py:541: ConvergenceWarning: lbfgs failed to converge (status=2):\n",
      "ABNORMAL_TERMINATION_IN_LNSRCH.\n",
      "\n",
      "Increase the number of iterations (max_iter) or scale the data as shown in:\n",
      "    https://scikit-learn.org/stable/modules/preprocessing.html\n",
      "  self.n_iter_ = _check_optimize_result(\"lbfgs\", opt_res, self.max_iter)\n"
     ]
    },
    {
     "name": "stdout",
     "output_type": "stream",
     "text": [
      "From ANN, I know that the percentage of satisfied value same rate is 47.4 %\n",
      "Data number 32\n",
      "From ANN, I know that the percentage of satisfied value same rate is 52.6 %\n",
      "Data number 33\n",
      "From ANN, I know that the percentage of satisfied value same rate is 49.2 %\n",
      "Data number 34\n",
      "From ANN, I know that the percentage of satisfied value same rate is 52.6 %\n",
      "Data number 35\n"
     ]
    },
    {
     "name": "stderr",
     "output_type": "stream",
     "text": [
      "C:\\Users\\yosua\\anaconda3\\envs\\DataSpell\\lib\\site-packages\\sklearn\\neural_network\\_multilayer_perceptron.py:541: ConvergenceWarning: lbfgs failed to converge (status=2):\n",
      "ABNORMAL_TERMINATION_IN_LNSRCH.\n",
      "\n",
      "Increase the number of iterations (max_iter) or scale the data as shown in:\n",
      "    https://scikit-learn.org/stable/modules/preprocessing.html\n",
      "  self.n_iter_ = _check_optimize_result(\"lbfgs\", opt_res, self.max_iter)\n",
      "C:\\Users\\yosua\\anaconda3\\envs\\DataSpell\\lib\\site-packages\\sklearn\\neural_network\\_multilayer_perceptron.py:541: ConvergenceWarning: lbfgs failed to converge (status=2):\n",
      "ABNORMAL_TERMINATION_IN_LNSRCH.\n",
      "\n",
      "Increase the number of iterations (max_iter) or scale the data as shown in:\n",
      "    https://scikit-learn.org/stable/modules/preprocessing.html\n",
      "  self.n_iter_ = _check_optimize_result(\"lbfgs\", opt_res, self.max_iter)\n"
     ]
    },
    {
     "name": "stdout",
     "output_type": "stream",
     "text": [
      "From ANN, I know that the percentage of satisfied value same rate is 50.0 %\n",
      "Data number 36\n",
      "From ANN, I know that the percentage of satisfied value same rate is 52.6 %\n",
      "Data number 37\n",
      "From ANN, I know that the percentage of satisfied value same rate is 52.6 %\n",
      "Data number 38\n"
     ]
    },
    {
     "name": "stderr",
     "output_type": "stream",
     "text": [
      "C:\\Users\\yosua\\anaconda3\\envs\\DataSpell\\lib\\site-packages\\sklearn\\neural_network\\_multilayer_perceptron.py:541: ConvergenceWarning: lbfgs failed to converge (status=2):\n",
      "ABNORMAL_TERMINATION_IN_LNSRCH.\n",
      "\n",
      "Increase the number of iterations (max_iter) or scale the data as shown in:\n",
      "    https://scikit-learn.org/stable/modules/preprocessing.html\n",
      "  self.n_iter_ = _check_optimize_result(\"lbfgs\", opt_res, self.max_iter)\n",
      "C:\\Users\\yosua\\anaconda3\\envs\\DataSpell\\lib\\site-packages\\sklearn\\neural_network\\_multilayer_perceptron.py:541: ConvergenceWarning: lbfgs failed to converge (status=2):\n",
      "ABNORMAL_TERMINATION_IN_LNSRCH.\n",
      "\n",
      "Increase the number of iterations (max_iter) or scale the data as shown in:\n",
      "    https://scikit-learn.org/stable/modules/preprocessing.html\n",
      "  self.n_iter_ = _check_optimize_result(\"lbfgs\", opt_res, self.max_iter)\n"
     ]
    },
    {
     "name": "stdout",
     "output_type": "stream",
     "text": [
      "From ANN, I know that the percentage of satisfied value same rate is 47.4 %\n",
      "Data number 39\n",
      "From ANN, I know that the percentage of satisfied value same rate is 48.2 %\n",
      "Data number 40\n",
      "From ANN, I know that the percentage of satisfied value same rate is 52.6 %\n",
      "Data number 41\n",
      "From ANN, I know that the percentage of satisfied value same rate is 49.2 %\n",
      "Data number 42\n",
      "From ANN, I know that the percentage of satisfied value same rate is 52.6 %\n",
      "Data number 43\n",
      "From ANN, I know that the percentage of satisfied value same rate is 48.0 %\n",
      "Data number 44\n",
      "From ANN, I know that the percentage of satisfied value same rate is 52.6 %\n",
      "Data number 45\n",
      "From ANN, I know that the percentage of satisfied value same rate is 49.2 %\n",
      "Data number 46\n",
      "From ANN, I know that the percentage of satisfied value same rate is 52.6 %\n",
      "Data number 47\n",
      "From ANN, I know that the percentage of satisfied value same rate is 52.6 %\n",
      "Data number 48\n",
      "From ANN, I know that the percentage of satisfied value same rate is 52.6 %\n",
      "Data number 49\n",
      "From ANN, I know that the percentage of satisfied value same rate is 52.6 %\n",
      "Data number 50\n"
     ]
    },
    {
     "name": "stderr",
     "output_type": "stream",
     "text": [
      "C:\\Users\\yosua\\anaconda3\\envs\\DataSpell\\lib\\site-packages\\sklearn\\neural_network\\_multilayer_perceptron.py:541: ConvergenceWarning: lbfgs failed to converge (status=2):\n",
      "ABNORMAL_TERMINATION_IN_LNSRCH.\n",
      "\n",
      "Increase the number of iterations (max_iter) or scale the data as shown in:\n",
      "    https://scikit-learn.org/stable/modules/preprocessing.html\n",
      "  self.n_iter_ = _check_optimize_result(\"lbfgs\", opt_res, self.max_iter)\n",
      "C:\\Users\\yosua\\anaconda3\\envs\\DataSpell\\lib\\site-packages\\sklearn\\neural_network\\_multilayer_perceptron.py:541: ConvergenceWarning: lbfgs failed to converge (status=2):\n",
      "ABNORMAL_TERMINATION_IN_LNSRCH.\n",
      "\n",
      "Increase the number of iterations (max_iter) or scale the data as shown in:\n",
      "    https://scikit-learn.org/stable/modules/preprocessing.html\n",
      "  self.n_iter_ = _check_optimize_result(\"lbfgs\", opt_res, self.max_iter)\n"
     ]
    },
    {
     "name": "stdout",
     "output_type": "stream",
     "text": [
      "From ANN, I know that the percentage of satisfied value same rate is 48.2 %\n",
      "Data number 51\n",
      "From ANN, I know that the percentage of satisfied value same rate is 52.6 %\n",
      "Data number 52\n",
      "From ANN, I know that the percentage of satisfied value same rate is 52.6 %\n",
      "Data number 53\n",
      "From ANN, I know that the percentage of satisfied value same rate is 49.2 %\n",
      "Data number 54\n",
      "From ANN, I know that the percentage of satisfied value same rate is 52.6 %\n",
      "Data number 55\n"
     ]
    },
    {
     "name": "stderr",
     "output_type": "stream",
     "text": [
      "C:\\Users\\yosua\\anaconda3\\envs\\DataSpell\\lib\\site-packages\\sklearn\\neural_network\\_multilayer_perceptron.py:541: ConvergenceWarning: lbfgs failed to converge (status=2):\n",
      "ABNORMAL_TERMINATION_IN_LNSRCH.\n",
      "\n",
      "Increase the number of iterations (max_iter) or scale the data as shown in:\n",
      "    https://scikit-learn.org/stable/modules/preprocessing.html\n",
      "  self.n_iter_ = _check_optimize_result(\"lbfgs\", opt_res, self.max_iter)\n"
     ]
    },
    {
     "name": "stdout",
     "output_type": "stream",
     "text": [
      "From ANN, I know that the percentage of satisfied value same rate is 49.2 %\n",
      "Data number 56\n",
      "From ANN, I know that the percentage of satisfied value same rate is 52.6 %\n",
      "Data number 57\n",
      "From ANN, I know that the percentage of satisfied value same rate is 52.6 %\n",
      "Data number 58\n",
      "From ANN, I know that the percentage of satisfied value same rate is 52.6 %\n",
      "Data number 59\n"
     ]
    },
    {
     "name": "stderr",
     "output_type": "stream",
     "text": [
      "C:\\Users\\yosua\\anaconda3\\envs\\DataSpell\\lib\\site-packages\\sklearn\\neural_network\\_multilayer_perceptron.py:541: ConvergenceWarning: lbfgs failed to converge (status=2):\n",
      "ABNORMAL_TERMINATION_IN_LNSRCH.\n",
      "\n",
      "Increase the number of iterations (max_iter) or scale the data as shown in:\n",
      "    https://scikit-learn.org/stable/modules/preprocessing.html\n",
      "  self.n_iter_ = _check_optimize_result(\"lbfgs\", opt_res, self.max_iter)\n"
     ]
    },
    {
     "name": "stdout",
     "output_type": "stream",
     "text": [
      "From ANN, I know that the percentage of satisfied value same rate is 52.6 %\n",
      "Data number 60\n",
      "From ANN, I know that the percentage of satisfied value same rate is 47.4 %\n",
      "Data number 61\n",
      "From ANN, I know that the percentage of satisfied value same rate is 47.4 %\n",
      "Data number 62\n",
      "From ANN, I know that the percentage of satisfied value same rate is 47.4 %\n",
      "Data number 63\n",
      "From ANN, I know that the percentage of satisfied value same rate is 48.2 %\n",
      "Data number 64\n",
      "From ANN, I know that the percentage of satisfied value same rate is 48.2 %\n",
      "Data number 65\n",
      "From ANN, I know that the percentage of satisfied value same rate is 49.2 %\n",
      "Data number 66\n",
      "From ANN, I know that the percentage of satisfied value same rate is 49.2 %\n",
      "Data number 67\n",
      "From ANN, I know that the percentage of satisfied value same rate is 52.6 %\n",
      "Data number 68\n"
     ]
    },
    {
     "name": "stderr",
     "output_type": "stream",
     "text": [
      "C:\\Users\\yosua\\anaconda3\\envs\\DataSpell\\lib\\site-packages\\sklearn\\neural_network\\_multilayer_perceptron.py:541: ConvergenceWarning: lbfgs failed to converge (status=2):\n",
      "ABNORMAL_TERMINATION_IN_LNSRCH.\n",
      "\n",
      "Increase the number of iterations (max_iter) or scale the data as shown in:\n",
      "    https://scikit-learn.org/stable/modules/preprocessing.html\n",
      "  self.n_iter_ = _check_optimize_result(\"lbfgs\", opt_res, self.max_iter)\n",
      "C:\\Users\\yosua\\anaconda3\\envs\\DataSpell\\lib\\site-packages\\sklearn\\neural_network\\_multilayer_perceptron.py:541: ConvergenceWarning: lbfgs failed to converge (status=2):\n",
      "ABNORMAL_TERMINATION_IN_LNSRCH.\n",
      "\n",
      "Increase the number of iterations (max_iter) or scale the data as shown in:\n",
      "    https://scikit-learn.org/stable/modules/preprocessing.html\n",
      "  self.n_iter_ = _check_optimize_result(\"lbfgs\", opt_res, self.max_iter)\n"
     ]
    },
    {
     "name": "stdout",
     "output_type": "stream",
     "text": [
      "From ANN, I know that the percentage of satisfied value same rate is 52.6 %\n",
      "Data number 69\n",
      "From ANN, I know that the percentage of satisfied value same rate is 47.4 %\n",
      "Data number 70\n",
      "From ANN, I know that the percentage of satisfied value same rate is 50.6 %\n",
      "Data number 71\n",
      "From ANN, I know that the percentage of satisfied value same rate is 47.4 %\n",
      "Data number 72\n",
      "From ANN, I know that the percentage of satisfied value same rate is 47.4 %\n",
      "Data number 73\n",
      "From ANN, I know that the percentage of satisfied value same rate is 52.6 %\n",
      "Data number 74\n"
     ]
    },
    {
     "name": "stderr",
     "output_type": "stream",
     "text": [
      "C:\\Users\\yosua\\anaconda3\\envs\\DataSpell\\lib\\site-packages\\sklearn\\neural_network\\_multilayer_perceptron.py:541: ConvergenceWarning: lbfgs failed to converge (status=2):\n",
      "ABNORMAL_TERMINATION_IN_LNSRCH.\n",
      "\n",
      "Increase the number of iterations (max_iter) or scale the data as shown in:\n",
      "    https://scikit-learn.org/stable/modules/preprocessing.html\n",
      "  self.n_iter_ = _check_optimize_result(\"lbfgs\", opt_res, self.max_iter)\n",
      "C:\\Users\\yosua\\anaconda3\\envs\\DataSpell\\lib\\site-packages\\sklearn\\neural_network\\_multilayer_perceptron.py:541: ConvergenceWarning: lbfgs failed to converge (status=2):\n",
      "ABNORMAL_TERMINATION_IN_LNSRCH.\n",
      "\n",
      "Increase the number of iterations (max_iter) or scale the data as shown in:\n",
      "    https://scikit-learn.org/stable/modules/preprocessing.html\n",
      "  self.n_iter_ = _check_optimize_result(\"lbfgs\", opt_res, self.max_iter)\n"
     ]
    },
    {
     "name": "stdout",
     "output_type": "stream",
     "text": [
      "From ANN, I know that the percentage of satisfied value same rate is 52.6 %\n",
      "Data number 75\n",
      "From ANN, I know that the percentage of satisfied value same rate is 52.6 %\n",
      "Data number 76\n",
      "From ANN, I know that the percentage of satisfied value same rate is 47.4 %\n",
      "Data number 77\n",
      "From ANN, I know that the percentage of satisfied value same rate is 52.6 %\n",
      "Data number 78\n",
      "From ANN, I know that the percentage of satisfied value same rate is 47.4 %\n",
      "Data number 79\n",
      "From ANN, I know that the percentage of satisfied value same rate is 52.6 %\n",
      "Data number 80\n"
     ]
    },
    {
     "name": "stderr",
     "output_type": "stream",
     "text": [
      "C:\\Users\\yosua\\anaconda3\\envs\\DataSpell\\lib\\site-packages\\sklearn\\neural_network\\_multilayer_perceptron.py:541: ConvergenceWarning: lbfgs failed to converge (status=2):\n",
      "ABNORMAL_TERMINATION_IN_LNSRCH.\n",
      "\n",
      "Increase the number of iterations (max_iter) or scale the data as shown in:\n",
      "    https://scikit-learn.org/stable/modules/preprocessing.html\n",
      "  self.n_iter_ = _check_optimize_result(\"lbfgs\", opt_res, self.max_iter)\n",
      "C:\\Users\\yosua\\anaconda3\\envs\\DataSpell\\lib\\site-packages\\sklearn\\neural_network\\_multilayer_perceptron.py:541: ConvergenceWarning: lbfgs failed to converge (status=2):\n",
      "ABNORMAL_TERMINATION_IN_LNSRCH.\n",
      "\n",
      "Increase the number of iterations (max_iter) or scale the data as shown in:\n",
      "    https://scikit-learn.org/stable/modules/preprocessing.html\n",
      "  self.n_iter_ = _check_optimize_result(\"lbfgs\", opt_res, self.max_iter)\n"
     ]
    },
    {
     "name": "stdout",
     "output_type": "stream",
     "text": [
      "From ANN, I know that the percentage of satisfied value same rate is 52.6 %\n",
      "Data number 81\n",
      "From ANN, I know that the percentage of satisfied value same rate is 48.4 %\n",
      "Data number 82\n",
      "From ANN, I know that the percentage of satisfied value same rate is 47.4 %\n",
      "Data number 83\n"
     ]
    },
    {
     "name": "stderr",
     "output_type": "stream",
     "text": [
      "C:\\Users\\yosua\\anaconda3\\envs\\DataSpell\\lib\\site-packages\\sklearn\\neural_network\\_multilayer_perceptron.py:541: ConvergenceWarning: lbfgs failed to converge (status=2):\n",
      "ABNORMAL_TERMINATION_IN_LNSRCH.\n",
      "\n",
      "Increase the number of iterations (max_iter) or scale the data as shown in:\n",
      "    https://scikit-learn.org/stable/modules/preprocessing.html\n",
      "  self.n_iter_ = _check_optimize_result(\"lbfgs\", opt_res, self.max_iter)\n"
     ]
    },
    {
     "name": "stdout",
     "output_type": "stream",
     "text": [
      "From ANN, I know that the percentage of satisfied value same rate is 48.4 %\n",
      "Data number 84\n",
      "From ANN, I know that the percentage of satisfied value same rate is 52.6 %\n",
      "Data number 85\n",
      "From ANN, I know that the percentage of satisfied value same rate is 52.6 %\n",
      "Data number 86\n"
     ]
    },
    {
     "name": "stderr",
     "output_type": "stream",
     "text": [
      "C:\\Users\\yosua\\anaconda3\\envs\\DataSpell\\lib\\site-packages\\sklearn\\neural_network\\_multilayer_perceptron.py:541: ConvergenceWarning: lbfgs failed to converge (status=2):\n",
      "ABNORMAL_TERMINATION_IN_LNSRCH.\n",
      "\n",
      "Increase the number of iterations (max_iter) or scale the data as shown in:\n",
      "    https://scikit-learn.org/stable/modules/preprocessing.html\n",
      "  self.n_iter_ = _check_optimize_result(\"lbfgs\", opt_res, self.max_iter)\n",
      "C:\\Users\\yosua\\anaconda3\\envs\\DataSpell\\lib\\site-packages\\sklearn\\neural_network\\_multilayer_perceptron.py:541: ConvergenceWarning: lbfgs failed to converge (status=2):\n",
      "ABNORMAL_TERMINATION_IN_LNSRCH.\n",
      "\n",
      "Increase the number of iterations (max_iter) or scale the data as shown in:\n",
      "    https://scikit-learn.org/stable/modules/preprocessing.html\n",
      "  self.n_iter_ = _check_optimize_result(\"lbfgs\", opt_res, self.max_iter)\n"
     ]
    },
    {
     "name": "stdout",
     "output_type": "stream",
     "text": [
      "From ANN, I know that the percentage of satisfied value same rate is 50.0 %\n",
      "Data number 87\n",
      "From ANN, I know that the percentage of satisfied value same rate is 52.6 %\n",
      "Data number 88\n",
      "From ANN, I know that the percentage of satisfied value same rate is 47.4 %\n",
      "Data number 89\n",
      "From ANN, I know that the percentage of satisfied value same rate is 52.6 %\n",
      "Data number 90\n",
      "From ANN, I know that the percentage of satisfied value same rate is 52.6 %\n",
      "Data number 91\n"
     ]
    },
    {
     "name": "stderr",
     "output_type": "stream",
     "text": [
      "C:\\Users\\yosua\\anaconda3\\envs\\DataSpell\\lib\\site-packages\\sklearn\\neural_network\\_multilayer_perceptron.py:541: ConvergenceWarning: lbfgs failed to converge (status=2):\n",
      "ABNORMAL_TERMINATION_IN_LNSRCH.\n",
      "\n",
      "Increase the number of iterations (max_iter) or scale the data as shown in:\n",
      "    https://scikit-learn.org/stable/modules/preprocessing.html\n",
      "  self.n_iter_ = _check_optimize_result(\"lbfgs\", opt_res, self.max_iter)\n",
      "C:\\Users\\yosua\\anaconda3\\envs\\DataSpell\\lib\\site-packages\\sklearn\\neural_network\\_multilayer_perceptron.py:541: ConvergenceWarning: lbfgs failed to converge (status=2):\n",
      "ABNORMAL_TERMINATION_IN_LNSRCH.\n",
      "\n",
      "Increase the number of iterations (max_iter) or scale the data as shown in:\n",
      "    https://scikit-learn.org/stable/modules/preprocessing.html\n",
      "  self.n_iter_ = _check_optimize_result(\"lbfgs\", opt_res, self.max_iter)\n",
      "C:\\Users\\yosua\\anaconda3\\envs\\DataSpell\\lib\\site-packages\\sklearn\\neural_network\\_multilayer_perceptron.py:541: ConvergenceWarning: lbfgs failed to converge (status=2):\n",
      "ABNORMAL_TERMINATION_IN_LNSRCH.\n",
      "\n",
      "Increase the number of iterations (max_iter) or scale the data as shown in:\n",
      "    https://scikit-learn.org/stable/modules/preprocessing.html\n",
      "  self.n_iter_ = _check_optimize_result(\"lbfgs\", opt_res, self.max_iter)\n"
     ]
    },
    {
     "name": "stdout",
     "output_type": "stream",
     "text": [
      "From ANN, I know that the percentage of satisfied value same rate is 48.2 %\n",
      "Data number 92\n",
      "From ANN, I know that the percentage of satisfied value same rate is 49.8 %\n",
      "Data number 93\n",
      "From ANN, I know that the percentage of satisfied value same rate is 52.6 %\n",
      "Data number 94\n",
      "From ANN, I know that the percentage of satisfied value same rate is 52.6 %\n",
      "Data number 95\n",
      "From ANN, I know that the percentage of satisfied value same rate is 52.6 %\n",
      "Data number 96\n"
     ]
    },
    {
     "name": "stderr",
     "output_type": "stream",
     "text": [
      "C:\\Users\\yosua\\anaconda3\\envs\\DataSpell\\lib\\site-packages\\sklearn\\neural_network\\_multilayer_perceptron.py:541: ConvergenceWarning: lbfgs failed to converge (status=2):\n",
      "ABNORMAL_TERMINATION_IN_LNSRCH.\n",
      "\n",
      "Increase the number of iterations (max_iter) or scale the data as shown in:\n",
      "    https://scikit-learn.org/stable/modules/preprocessing.html\n",
      "  self.n_iter_ = _check_optimize_result(\"lbfgs\", opt_res, self.max_iter)\n",
      "C:\\Users\\yosua\\anaconda3\\envs\\DataSpell\\lib\\site-packages\\sklearn\\neural_network\\_multilayer_perceptron.py:541: ConvergenceWarning: lbfgs failed to converge (status=2):\n",
      "ABNORMAL_TERMINATION_IN_LNSRCH.\n",
      "\n",
      "Increase the number of iterations (max_iter) or scale the data as shown in:\n",
      "    https://scikit-learn.org/stable/modules/preprocessing.html\n",
      "  self.n_iter_ = _check_optimize_result(\"lbfgs\", opt_res, self.max_iter)\n"
     ]
    },
    {
     "name": "stdout",
     "output_type": "stream",
     "text": [
      "From ANN, I know that the percentage of satisfied value same rate is 47.4 %\n",
      "Data number 97\n",
      "From ANN, I know that the percentage of satisfied value same rate is 48.2 %\n",
      "Data number 98\n",
      "From ANN, I know that the percentage of satisfied value same rate is 52.6 %\n",
      "Data number 99\n"
     ]
    },
    {
     "name": "stderr",
     "output_type": "stream",
     "text": [
      "C:\\Users\\yosua\\anaconda3\\envs\\DataSpell\\lib\\site-packages\\sklearn\\neural_network\\_multilayer_perceptron.py:541: ConvergenceWarning: lbfgs failed to converge (status=2):\n",
      "ABNORMAL_TERMINATION_IN_LNSRCH.\n",
      "\n",
      "Increase the number of iterations (max_iter) or scale the data as shown in:\n",
      "    https://scikit-learn.org/stable/modules/preprocessing.html\n",
      "  self.n_iter_ = _check_optimize_result(\"lbfgs\", opt_res, self.max_iter)\n",
      "C:\\Users\\yosua\\anaconda3\\envs\\DataSpell\\lib\\site-packages\\sklearn\\neural_network\\_multilayer_perceptron.py:541: ConvergenceWarning: lbfgs failed to converge (status=2):\n",
      "ABNORMAL_TERMINATION_IN_LNSRCH.\n",
      "\n",
      "Increase the number of iterations (max_iter) or scale the data as shown in:\n",
      "    https://scikit-learn.org/stable/modules/preprocessing.html\n",
      "  self.n_iter_ = _check_optimize_result(\"lbfgs\", opt_res, self.max_iter)\n"
     ]
    },
    {
     "name": "stdout",
     "output_type": "stream",
     "text": [
      "From ANN, I know that the percentage of satisfied value same rate is 52.6 %\n",
      "Data number 100\n",
      "From ANN, I know that the percentage of satisfied value same rate is 52.6 %\n",
      "Data number 101\n",
      "From ANN, I know that the percentage of satisfied value same rate is 50.0 %\n",
      "Data number 102\n",
      "From ANN, I know that the percentage of satisfied value same rate is 50.6 %\n",
      "Data number 103\n",
      "From ANN, I know that the percentage of satisfied value same rate is 50.2 %\n",
      "Data number 104\n",
      "From ANN, I know that the percentage of satisfied value same rate is 48.2 %\n",
      "Data number 105\n",
      "From ANN, I know that the percentage of satisfied value same rate is 52.6 %\n",
      "Data number 106\n"
     ]
    },
    {
     "name": "stderr",
     "output_type": "stream",
     "text": [
      "C:\\Users\\yosua\\anaconda3\\envs\\DataSpell\\lib\\site-packages\\sklearn\\neural_network\\_multilayer_perceptron.py:541: ConvergenceWarning: lbfgs failed to converge (status=2):\n",
      "ABNORMAL_TERMINATION_IN_LNSRCH.\n",
      "\n",
      "Increase the number of iterations (max_iter) or scale the data as shown in:\n",
      "    https://scikit-learn.org/stable/modules/preprocessing.html\n",
      "  self.n_iter_ = _check_optimize_result(\"lbfgs\", opt_res, self.max_iter)\n"
     ]
    },
    {
     "name": "stdout",
     "output_type": "stream",
     "text": [
      "From ANN, I know that the percentage of satisfied value same rate is 47.4 %\n",
      "Data number 107\n",
      "From ANN, I know that the percentage of satisfied value same rate is 52.6 %\n",
      "Data number 108\n",
      "From ANN, I know that the percentage of satisfied value same rate is 52.6 %\n",
      "Data number 109\n"
     ]
    },
    {
     "name": "stderr",
     "output_type": "stream",
     "text": [
      "C:\\Users\\yosua\\anaconda3\\envs\\DataSpell\\lib\\site-packages\\sklearn\\neural_network\\_multilayer_perceptron.py:541: ConvergenceWarning: lbfgs failed to converge (status=2):\n",
      "ABNORMAL_TERMINATION_IN_LNSRCH.\n",
      "\n",
      "Increase the number of iterations (max_iter) or scale the data as shown in:\n",
      "    https://scikit-learn.org/stable/modules/preprocessing.html\n",
      "  self.n_iter_ = _check_optimize_result(\"lbfgs\", opt_res, self.max_iter)\n"
     ]
    },
    {
     "name": "stdout",
     "output_type": "stream",
     "text": [
      "From ANN, I know that the percentage of satisfied value same rate is 49.2 %\n",
      "Data number 110\n",
      "From ANN, I know that the percentage of satisfied value same rate is 47.4 %\n",
      "Data number 111\n",
      "From ANN, I know that the percentage of satisfied value same rate is 52.6 %\n",
      "Data number 112\n",
      "From ANN, I know that the percentage of satisfied value same rate is 52.6 %\n",
      "Data number 113\n",
      "From ANN, I know that the percentage of satisfied value same rate is 47.4 %\n",
      "Data number 114\n"
     ]
    },
    {
     "name": "stderr",
     "output_type": "stream",
     "text": [
      "C:\\Users\\yosua\\anaconda3\\envs\\DataSpell\\lib\\site-packages\\sklearn\\neural_network\\_multilayer_perceptron.py:541: ConvergenceWarning: lbfgs failed to converge (status=2):\n",
      "ABNORMAL_TERMINATION_IN_LNSRCH.\n",
      "\n",
      "Increase the number of iterations (max_iter) or scale the data as shown in:\n",
      "    https://scikit-learn.org/stable/modules/preprocessing.html\n",
      "  self.n_iter_ = _check_optimize_result(\"lbfgs\", opt_res, self.max_iter)\n",
      "C:\\Users\\yosua\\anaconda3\\envs\\DataSpell\\lib\\site-packages\\sklearn\\neural_network\\_multilayer_perceptron.py:541: ConvergenceWarning: lbfgs failed to converge (status=2):\n",
      "ABNORMAL_TERMINATION_IN_LNSRCH.\n",
      "\n",
      "Increase the number of iterations (max_iter) or scale the data as shown in:\n",
      "    https://scikit-learn.org/stable/modules/preprocessing.html\n",
      "  self.n_iter_ = _check_optimize_result(\"lbfgs\", opt_res, self.max_iter)\n"
     ]
    },
    {
     "name": "stdout",
     "output_type": "stream",
     "text": [
      "From ANN, I know that the percentage of satisfied value same rate is 50.2 %\n",
      "Data number 115\n",
      "From ANN, I know that the percentage of satisfied value same rate is 48.2 %\n",
      "Data number 116\n",
      "From ANN, I know that the percentage of satisfied value same rate is 50.2 %\n",
      "Data number 117\n",
      "From ANN, I know that the percentage of satisfied value same rate is 52.6 %\n",
      "Data number 118\n",
      "From ANN, I know that the percentage of satisfied value same rate is 52.6 %\n",
      "Data number 119\n",
      "From ANN, I know that the percentage of satisfied value same rate is 52.6 %\n",
      "Data number 120\n"
     ]
    },
    {
     "name": "stderr",
     "output_type": "stream",
     "text": [
      "C:\\Users\\yosua\\anaconda3\\envs\\DataSpell\\lib\\site-packages\\sklearn\\neural_network\\_multilayer_perceptron.py:541: ConvergenceWarning: lbfgs failed to converge (status=2):\n",
      "ABNORMAL_TERMINATION_IN_LNSRCH.\n",
      "\n",
      "Increase the number of iterations (max_iter) or scale the data as shown in:\n",
      "    https://scikit-learn.org/stable/modules/preprocessing.html\n",
      "  self.n_iter_ = _check_optimize_result(\"lbfgs\", opt_res, self.max_iter)\n"
     ]
    },
    {
     "name": "stdout",
     "output_type": "stream",
     "text": [
      "From ANN, I know that the percentage of satisfied value same rate is 48.2 %\n",
      "Data number 121\n",
      "From ANN, I know that the percentage of satisfied value same rate is 48.2 %\n",
      "Data number 122\n",
      "From ANN, I know that the percentage of satisfied value same rate is 47.4 %\n",
      "Data number 123\n",
      "From ANN, I know that the percentage of satisfied value same rate is 48.2 %\n",
      "Data number 124\n",
      "From ANN, I know that the percentage of satisfied value same rate is 52.6 %\n",
      "Data number 125\n",
      "From ANN, I know that the percentage of satisfied value same rate is 47.4 %\n",
      "Data number 126\n",
      "From ANN, I know that the percentage of satisfied value same rate is 52.6 %\n",
      "Data number 127\n",
      "From ANN, I know that the percentage of satisfied value same rate is 47.4 %\n",
      "Data number 128\n"
     ]
    },
    {
     "name": "stderr",
     "output_type": "stream",
     "text": [
      "C:\\Users\\yosua\\anaconda3\\envs\\DataSpell\\lib\\site-packages\\sklearn\\neural_network\\_multilayer_perceptron.py:541: ConvergenceWarning: lbfgs failed to converge (status=2):\n",
      "ABNORMAL_TERMINATION_IN_LNSRCH.\n",
      "\n",
      "Increase the number of iterations (max_iter) or scale the data as shown in:\n",
      "    https://scikit-learn.org/stable/modules/preprocessing.html\n",
      "  self.n_iter_ = _check_optimize_result(\"lbfgs\", opt_res, self.max_iter)\n",
      "C:\\Users\\yosua\\anaconda3\\envs\\DataSpell\\lib\\site-packages\\sklearn\\neural_network\\_multilayer_perceptron.py:541: ConvergenceWarning: lbfgs failed to converge (status=2):\n",
      "ABNORMAL_TERMINATION_IN_LNSRCH.\n",
      "\n",
      "Increase the number of iterations (max_iter) or scale the data as shown in:\n",
      "    https://scikit-learn.org/stable/modules/preprocessing.html\n",
      "  self.n_iter_ = _check_optimize_result(\"lbfgs\", opt_res, self.max_iter)\n",
      "C:\\Users\\yosua\\anaconda3\\envs\\DataSpell\\lib\\site-packages\\sklearn\\neural_network\\_multilayer_perceptron.py:541: ConvergenceWarning: lbfgs failed to converge (status=2):\n",
      "ABNORMAL_TERMINATION_IN_LNSRCH.\n",
      "\n",
      "Increase the number of iterations (max_iter) or scale the data as shown in:\n",
      "    https://scikit-learn.org/stable/modules/preprocessing.html\n",
      "  self.n_iter_ = _check_optimize_result(\"lbfgs\", opt_res, self.max_iter)\n"
     ]
    },
    {
     "name": "stdout",
     "output_type": "stream",
     "text": [
      "From ANN, I know that the percentage of satisfied value same rate is 46.6 %\n",
      "Data number 129\n",
      "From ANN, I know that the percentage of satisfied value same rate is 49.8 %\n",
      "Data number 130\n",
      "From ANN, I know that the percentage of satisfied value same rate is 47.4 %\n",
      "Data number 131\n",
      "From ANN, I know that the percentage of satisfied value same rate is 52.6 %\n",
      "Data number 132\n",
      "From ANN, I know that the percentage of satisfied value same rate is 52.6 %\n",
      "Data number 133\n",
      "From ANN, I know that the percentage of satisfied value same rate is 52.6 %\n",
      "Data number 134\n"
     ]
    },
    {
     "name": "stderr",
     "output_type": "stream",
     "text": [
      "C:\\Users\\yosua\\anaconda3\\envs\\DataSpell\\lib\\site-packages\\sklearn\\neural_network\\_multilayer_perceptron.py:541: ConvergenceWarning: lbfgs failed to converge (status=2):\n",
      "ABNORMAL_TERMINATION_IN_LNSRCH.\n",
      "\n",
      "Increase the number of iterations (max_iter) or scale the data as shown in:\n",
      "    https://scikit-learn.org/stable/modules/preprocessing.html\n",
      "  self.n_iter_ = _check_optimize_result(\"lbfgs\", opt_res, self.max_iter)\n",
      "C:\\Users\\yosua\\anaconda3\\envs\\DataSpell\\lib\\site-packages\\sklearn\\neural_network\\_multilayer_perceptron.py:541: ConvergenceWarning: lbfgs failed to converge (status=2):\n",
      "ABNORMAL_TERMINATION_IN_LNSRCH.\n",
      "\n",
      "Increase the number of iterations (max_iter) or scale the data as shown in:\n",
      "    https://scikit-learn.org/stable/modules/preprocessing.html\n",
      "  self.n_iter_ = _check_optimize_result(\"lbfgs\", opt_res, self.max_iter)\n",
      "C:\\Users\\yosua\\anaconda3\\envs\\DataSpell\\lib\\site-packages\\sklearn\\neural_network\\_multilayer_perceptron.py:541: ConvergenceWarning: lbfgs failed to converge (status=2):\n",
      "ABNORMAL_TERMINATION_IN_LNSRCH.\n",
      "\n",
      "Increase the number of iterations (max_iter) or scale the data as shown in:\n",
      "    https://scikit-learn.org/stable/modules/preprocessing.html\n",
      "  self.n_iter_ = _check_optimize_result(\"lbfgs\", opt_res, self.max_iter)\n"
     ]
    },
    {
     "name": "stdout",
     "output_type": "stream",
     "text": [
      "From ANN, I know that the percentage of satisfied value same rate is 49.0 %\n",
      "Data number 135\n",
      "From ANN, I know that the percentage of satisfied value same rate is 49.2 %\n",
      "Data number 136\n",
      "From ANN, I know that the percentage of satisfied value same rate is 52.6 %\n",
      "Data number 137\n",
      "From ANN, I know that the percentage of satisfied value same rate is 47.4 %\n",
      "Data number 138\n",
      "From ANN, I know that the percentage of satisfied value same rate is 47.4 %\n",
      "Data number 139\n",
      "From ANN, I know that the percentage of satisfied value same rate is 52.6 %\n",
      "Data number 140\n"
     ]
    },
    {
     "name": "stderr",
     "output_type": "stream",
     "text": [
      "C:\\Users\\yosua\\anaconda3\\envs\\DataSpell\\lib\\site-packages\\sklearn\\neural_network\\_multilayer_perceptron.py:541: ConvergenceWarning: lbfgs failed to converge (status=2):\n",
      "ABNORMAL_TERMINATION_IN_LNSRCH.\n",
      "\n",
      "Increase the number of iterations (max_iter) or scale the data as shown in:\n",
      "    https://scikit-learn.org/stable/modules/preprocessing.html\n",
      "  self.n_iter_ = _check_optimize_result(\"lbfgs\", opt_res, self.max_iter)\n"
     ]
    },
    {
     "name": "stdout",
     "output_type": "stream",
     "text": [
      "From ANN, I know that the percentage of satisfied value same rate is 47.4 %\n",
      "Data number 141\n",
      "From ANN, I know that the percentage of satisfied value same rate is 48.4 %\n",
      "Data number 142\n",
      "From ANN, I know that the percentage of satisfied value same rate is 48.4 %\n",
      "Data number 143\n",
      "From ANN, I know that the percentage of satisfied value same rate is 47.4 %\n",
      "Data number 144\n",
      "From ANN, I know that the percentage of satisfied value same rate is 47.4 %\n",
      "Data number 145\n",
      "From ANN, I know that the percentage of satisfied value same rate is 47.4 %\n",
      "Data number 146\n",
      "From ANN, I know that the percentage of satisfied value same rate is 52.6 %\n",
      "Data number 147\n"
     ]
    },
    {
     "name": "stderr",
     "output_type": "stream",
     "text": [
      "C:\\Users\\yosua\\anaconda3\\envs\\DataSpell\\lib\\site-packages\\sklearn\\neural_network\\_multilayer_perceptron.py:541: ConvergenceWarning: lbfgs failed to converge (status=2):\n",
      "ABNORMAL_TERMINATION_IN_LNSRCH.\n",
      "\n",
      "Increase the number of iterations (max_iter) or scale the data as shown in:\n",
      "    https://scikit-learn.org/stable/modules/preprocessing.html\n",
      "  self.n_iter_ = _check_optimize_result(\"lbfgs\", opt_res, self.max_iter)\n",
      "C:\\Users\\yosua\\anaconda3\\envs\\DataSpell\\lib\\site-packages\\sklearn\\neural_network\\_multilayer_perceptron.py:541: ConvergenceWarning: lbfgs failed to converge (status=2):\n",
      "ABNORMAL_TERMINATION_IN_LNSRCH.\n",
      "\n",
      "Increase the number of iterations (max_iter) or scale the data as shown in:\n",
      "    https://scikit-learn.org/stable/modules/preprocessing.html\n",
      "  self.n_iter_ = _check_optimize_result(\"lbfgs\", opt_res, self.max_iter)\n"
     ]
    },
    {
     "name": "stdout",
     "output_type": "stream",
     "text": [
      "From ANN, I know that the percentage of satisfied value same rate is 52.6 %\n",
      "Data number 148\n",
      "From ANN, I know that the percentage of satisfied value same rate is 48.2 %\n",
      "Data number 149\n",
      "From ANN, I know that the percentage of satisfied value same rate is 52.6 %\n",
      "Data number 150\n",
      "From ANN, I know that the percentage of satisfied value same rate is 52.6 %\n",
      "Data number 151\n",
      "From ANN, I know that the percentage of satisfied value same rate is 47.4 %\n",
      "Data number 152\n",
      "From ANN, I know that the percentage of satisfied value same rate is 49.2 %\n",
      "Data number 153\n",
      "From ANN, I know that the percentage of satisfied value same rate is 47.4 %\n",
      "Data number 154\n",
      "From ANN, I know that the percentage of satisfied value same rate is 52.6 %\n",
      "Data number 155\n"
     ]
    },
    {
     "name": "stderr",
     "output_type": "stream",
     "text": [
      "C:\\Users\\yosua\\anaconda3\\envs\\DataSpell\\lib\\site-packages\\sklearn\\neural_network\\_multilayer_perceptron.py:541: ConvergenceWarning: lbfgs failed to converge (status=2):\n",
      "ABNORMAL_TERMINATION_IN_LNSRCH.\n",
      "\n",
      "Increase the number of iterations (max_iter) or scale the data as shown in:\n",
      "    https://scikit-learn.org/stable/modules/preprocessing.html\n",
      "  self.n_iter_ = _check_optimize_result(\"lbfgs\", opt_res, self.max_iter)\n"
     ]
    },
    {
     "name": "stdout",
     "output_type": "stream",
     "text": [
      "From ANN, I know that the percentage of satisfied value same rate is 50.2 %\n",
      "Data number 156\n",
      "From ANN, I know that the percentage of satisfied value same rate is 49.2 %\n",
      "Data number 157\n",
      "From ANN, I know that the percentage of satisfied value same rate is 52.6 %\n",
      "Data number 158\n"
     ]
    },
    {
     "name": "stderr",
     "output_type": "stream",
     "text": [
      "C:\\Users\\yosua\\anaconda3\\envs\\DataSpell\\lib\\site-packages\\sklearn\\neural_network\\_multilayer_perceptron.py:541: ConvergenceWarning: lbfgs failed to converge (status=2):\n",
      "ABNORMAL_TERMINATION_IN_LNSRCH.\n",
      "\n",
      "Increase the number of iterations (max_iter) or scale the data as shown in:\n",
      "    https://scikit-learn.org/stable/modules/preprocessing.html\n",
      "  self.n_iter_ = _check_optimize_result(\"lbfgs\", opt_res, self.max_iter)\n"
     ]
    },
    {
     "name": "stdout",
     "output_type": "stream",
     "text": [
      "From ANN, I know that the percentage of satisfied value same rate is 52.6 %\n",
      "Data number 159\n",
      "From ANN, I know that the percentage of satisfied value same rate is 52.6 %\n",
      "Data number 160\n",
      "From ANN, I know that the percentage of satisfied value same rate is 48.0 %\n",
      "Data number 161\n",
      "From ANN, I know that the percentage of satisfied value same rate is 47.4 %\n",
      "Data number 162\n",
      "From ANN, I know that the percentage of satisfied value same rate is 49.2 %\n",
      "Data number 163\n",
      "From ANN, I know that the percentage of satisfied value same rate is 49.2 %\n",
      "Data number 164\n",
      "From ANN, I know that the percentage of satisfied value same rate is 49.2 %\n",
      "Data number 165\n",
      "From ANN, I know that the percentage of satisfied value same rate is 52.6 %\n",
      "Data number 166\n"
     ]
    },
    {
     "name": "stderr",
     "output_type": "stream",
     "text": [
      "C:\\Users\\yosua\\anaconda3\\envs\\DataSpell\\lib\\site-packages\\sklearn\\neural_network\\_multilayer_perceptron.py:541: ConvergenceWarning: lbfgs failed to converge (status=2):\n",
      "ABNORMAL_TERMINATION_IN_LNSRCH.\n",
      "\n",
      "Increase the number of iterations (max_iter) or scale the data as shown in:\n",
      "    https://scikit-learn.org/stable/modules/preprocessing.html\n",
      "  self.n_iter_ = _check_optimize_result(\"lbfgs\", opt_res, self.max_iter)\n"
     ]
    },
    {
     "name": "stdout",
     "output_type": "stream",
     "text": [
      "From ANN, I know that the percentage of satisfied value same rate is 49.2 %\n",
      "Data number 167\n",
      "From ANN, I know that the percentage of satisfied value same rate is 52.6 %\n",
      "Data number 168\n",
      "From ANN, I know that the percentage of satisfied value same rate is 52.6 %\n",
      "Data number 169\n",
      "From ANN, I know that the percentage of satisfied value same rate is 52.6 %\n",
      "Data number 170\n"
     ]
    },
    {
     "name": "stderr",
     "output_type": "stream",
     "text": [
      "C:\\Users\\yosua\\anaconda3\\envs\\DataSpell\\lib\\site-packages\\sklearn\\neural_network\\_multilayer_perceptron.py:541: ConvergenceWarning: lbfgs failed to converge (status=2):\n",
      "ABNORMAL_TERMINATION_IN_LNSRCH.\n",
      "\n",
      "Increase the number of iterations (max_iter) or scale the data as shown in:\n",
      "    https://scikit-learn.org/stable/modules/preprocessing.html\n",
      "  self.n_iter_ = _check_optimize_result(\"lbfgs\", opt_res, self.max_iter)\n",
      "C:\\Users\\yosua\\anaconda3\\envs\\DataSpell\\lib\\site-packages\\sklearn\\neural_network\\_multilayer_perceptron.py:541: ConvergenceWarning: lbfgs failed to converge (status=2):\n",
      "ABNORMAL_TERMINATION_IN_LNSRCH.\n",
      "\n",
      "Increase the number of iterations (max_iter) or scale the data as shown in:\n",
      "    https://scikit-learn.org/stable/modules/preprocessing.html\n",
      "  self.n_iter_ = _check_optimize_result(\"lbfgs\", opt_res, self.max_iter)\n"
     ]
    },
    {
     "name": "stdout",
     "output_type": "stream",
     "text": [
      "From ANN, I know that the percentage of satisfied value same rate is 52.6 %\n",
      "Data number 171\n",
      "From ANN, I know that the percentage of satisfied value same rate is 52.6 %\n",
      "Data number 172\n",
      "From ANN, I know that the percentage of satisfied value same rate is 47.4 %\n",
      "Data number 173\n",
      "From ANN, I know that the percentage of satisfied value same rate is 52.6 %\n",
      "Data number 174\n"
     ]
    },
    {
     "name": "stderr",
     "output_type": "stream",
     "text": [
      "C:\\Users\\yosua\\anaconda3\\envs\\DataSpell\\lib\\site-packages\\sklearn\\neural_network\\_multilayer_perceptron.py:541: ConvergenceWarning: lbfgs failed to converge (status=2):\n",
      "ABNORMAL_TERMINATION_IN_LNSRCH.\n",
      "\n",
      "Increase the number of iterations (max_iter) or scale the data as shown in:\n",
      "    https://scikit-learn.org/stable/modules/preprocessing.html\n",
      "  self.n_iter_ = _check_optimize_result(\"lbfgs\", opt_res, self.max_iter)\n",
      "C:\\Users\\yosua\\anaconda3\\envs\\DataSpell\\lib\\site-packages\\sklearn\\neural_network\\_multilayer_perceptron.py:541: ConvergenceWarning: lbfgs failed to converge (status=2):\n",
      "ABNORMAL_TERMINATION_IN_LNSRCH.\n",
      "\n",
      "Increase the number of iterations (max_iter) or scale the data as shown in:\n",
      "    https://scikit-learn.org/stable/modules/preprocessing.html\n",
      "  self.n_iter_ = _check_optimize_result(\"lbfgs\", opt_res, self.max_iter)\n",
      "C:\\Users\\yosua\\anaconda3\\envs\\DataSpell\\lib\\site-packages\\sklearn\\neural_network\\_multilayer_perceptron.py:541: ConvergenceWarning: lbfgs failed to converge (status=2):\n",
      "ABNORMAL_TERMINATION_IN_LNSRCH.\n",
      "\n",
      "Increase the number of iterations (max_iter) or scale the data as shown in:\n",
      "    https://scikit-learn.org/stable/modules/preprocessing.html\n",
      "  self.n_iter_ = _check_optimize_result(\"lbfgs\", opt_res, self.max_iter)\n"
     ]
    },
    {
     "name": "stdout",
     "output_type": "stream",
     "text": [
      "From ANN, I know that the percentage of satisfied value same rate is 48.2 %\n",
      "Data number 175\n",
      "From ANN, I know that the percentage of satisfied value same rate is 52.6 %\n",
      "Data number 176\n",
      "From ANN, I know that the percentage of satisfied value same rate is 52.6 %\n",
      "Data number 177\n",
      "From ANN, I know that the percentage of satisfied value same rate is 52.6 %\n",
      "Data number 178\n",
      "From ANN, I know that the percentage of satisfied value same rate is 52.6 %\n",
      "Data number 179\n"
     ]
    },
    {
     "name": "stderr",
     "output_type": "stream",
     "text": [
      "C:\\Users\\yosua\\anaconda3\\envs\\DataSpell\\lib\\site-packages\\sklearn\\neural_network\\_multilayer_perceptron.py:541: ConvergenceWarning: lbfgs failed to converge (status=2):\n",
      "ABNORMAL_TERMINATION_IN_LNSRCH.\n",
      "\n",
      "Increase the number of iterations (max_iter) or scale the data as shown in:\n",
      "    https://scikit-learn.org/stable/modules/preprocessing.html\n",
      "  self.n_iter_ = _check_optimize_result(\"lbfgs\", opt_res, self.max_iter)\n",
      "C:\\Users\\yosua\\anaconda3\\envs\\DataSpell\\lib\\site-packages\\sklearn\\neural_network\\_multilayer_perceptron.py:541: ConvergenceWarning: lbfgs failed to converge (status=2):\n",
      "ABNORMAL_TERMINATION_IN_LNSRCH.\n",
      "\n",
      "Increase the number of iterations (max_iter) or scale the data as shown in:\n",
      "    https://scikit-learn.org/stable/modules/preprocessing.html\n",
      "  self.n_iter_ = _check_optimize_result(\"lbfgs\", opt_res, self.max_iter)\n",
      "C:\\Users\\yosua\\anaconda3\\envs\\DataSpell\\lib\\site-packages\\sklearn\\neural_network\\_multilayer_perceptron.py:541: ConvergenceWarning: lbfgs failed to converge (status=2):\n",
      "ABNORMAL_TERMINATION_IN_LNSRCH.\n",
      "\n",
      "Increase the number of iterations (max_iter) or scale the data as shown in:\n",
      "    https://scikit-learn.org/stable/modules/preprocessing.html\n",
      "  self.n_iter_ = _check_optimize_result(\"lbfgs\", opt_res, self.max_iter)\n",
      "C:\\Users\\yosua\\anaconda3\\envs\\DataSpell\\lib\\site-packages\\sklearn\\neural_network\\_multilayer_perceptron.py:541: ConvergenceWarning: lbfgs failed to converge (status=2):\n",
      "ABNORMAL_TERMINATION_IN_LNSRCH.\n",
      "\n",
      "Increase the number of iterations (max_iter) or scale the data as shown in:\n",
      "    https://scikit-learn.org/stable/modules/preprocessing.html\n",
      "  self.n_iter_ = _check_optimize_result(\"lbfgs\", opt_res, self.max_iter)\n"
     ]
    },
    {
     "name": "stdout",
     "output_type": "stream",
     "text": [
      "From ANN, I know that the percentage of satisfied value same rate is 50.2 %\n",
      "Data number 180\n",
      "From ANN, I know that the percentage of satisfied value same rate is 47.4 %\n",
      "Data number 181\n"
     ]
    },
    {
     "name": "stderr",
     "output_type": "stream",
     "text": [
      "C:\\Users\\yosua\\anaconda3\\envs\\DataSpell\\lib\\site-packages\\sklearn\\neural_network\\_multilayer_perceptron.py:541: ConvergenceWarning: lbfgs failed to converge (status=2):\n",
      "ABNORMAL_TERMINATION_IN_LNSRCH.\n",
      "\n",
      "Increase the number of iterations (max_iter) or scale the data as shown in:\n",
      "    https://scikit-learn.org/stable/modules/preprocessing.html\n",
      "  self.n_iter_ = _check_optimize_result(\"lbfgs\", opt_res, self.max_iter)\n"
     ]
    },
    {
     "name": "stdout",
     "output_type": "stream",
     "text": [
      "From ANN, I know that the percentage of satisfied value same rate is 50.2 %\n",
      "Data number 182\n",
      "From ANN, I know that the percentage of satisfied value same rate is 52.6 %\n",
      "Data number 183\n",
      "From ANN, I know that the percentage of satisfied value same rate is 52.6 %\n",
      "Data number 184\n",
      "From ANN, I know that the percentage of satisfied value same rate is 52.6 %\n",
      "Data number 185\n",
      "From ANN, I know that the percentage of satisfied value same rate is 52.6 %\n",
      "Data number 186\n"
     ]
    },
    {
     "name": "stderr",
     "output_type": "stream",
     "text": [
      "C:\\Users\\yosua\\anaconda3\\envs\\DataSpell\\lib\\site-packages\\sklearn\\neural_network\\_multilayer_perceptron.py:541: ConvergenceWarning: lbfgs failed to converge (status=2):\n",
      "ABNORMAL_TERMINATION_IN_LNSRCH.\n",
      "\n",
      "Increase the number of iterations (max_iter) or scale the data as shown in:\n",
      "    https://scikit-learn.org/stable/modules/preprocessing.html\n",
      "  self.n_iter_ = _check_optimize_result(\"lbfgs\", opt_res, self.max_iter)\n",
      "C:\\Users\\yosua\\anaconda3\\envs\\DataSpell\\lib\\site-packages\\sklearn\\neural_network\\_multilayer_perceptron.py:541: ConvergenceWarning: lbfgs failed to converge (status=2):\n",
      "ABNORMAL_TERMINATION_IN_LNSRCH.\n",
      "\n",
      "Increase the number of iterations (max_iter) or scale the data as shown in:\n",
      "    https://scikit-learn.org/stable/modules/preprocessing.html\n",
      "  self.n_iter_ = _check_optimize_result(\"lbfgs\", opt_res, self.max_iter)\n"
     ]
    },
    {
     "name": "stdout",
     "output_type": "stream",
     "text": [
      "From ANN, I know that the percentage of satisfied value same rate is 49.2 %\n",
      "Data number 187\n",
      "From ANN, I know that the percentage of satisfied value same rate is 52.6 %\n",
      "Data number 188\n",
      "From ANN, I know that the percentage of satisfied value same rate is 52.6 %\n",
      "Data number 189\n",
      "From ANN, I know that the percentage of satisfied value same rate is 52.6 %\n",
      "Data number 190\n"
     ]
    },
    {
     "name": "stderr",
     "output_type": "stream",
     "text": [
      "C:\\Users\\yosua\\anaconda3\\envs\\DataSpell\\lib\\site-packages\\sklearn\\neural_network\\_multilayer_perceptron.py:541: ConvergenceWarning: lbfgs failed to converge (status=2):\n",
      "ABNORMAL_TERMINATION_IN_LNSRCH.\n",
      "\n",
      "Increase the number of iterations (max_iter) or scale the data as shown in:\n",
      "    https://scikit-learn.org/stable/modules/preprocessing.html\n",
      "  self.n_iter_ = _check_optimize_result(\"lbfgs\", opt_res, self.max_iter)\n",
      "C:\\Users\\yosua\\anaconda3\\envs\\DataSpell\\lib\\site-packages\\sklearn\\neural_network\\_multilayer_perceptron.py:541: ConvergenceWarning: lbfgs failed to converge (status=2):\n",
      "ABNORMAL_TERMINATION_IN_LNSRCH.\n",
      "\n",
      "Increase the number of iterations (max_iter) or scale the data as shown in:\n",
      "    https://scikit-learn.org/stable/modules/preprocessing.html\n",
      "  self.n_iter_ = _check_optimize_result(\"lbfgs\", opt_res, self.max_iter)\n"
     ]
    },
    {
     "name": "stdout",
     "output_type": "stream",
     "text": [
      "From ANN, I know that the percentage of satisfied value same rate is 52.6 %\n",
      "Data number 191\n",
      "From ANN, I know that the percentage of satisfied value same rate is 49.2 %\n",
      "Data number 192\n",
      "From ANN, I know that the percentage of satisfied value same rate is 52.6 %\n",
      "Data number 193\n",
      "From ANN, I know that the percentage of satisfied value same rate is 48.2 %\n",
      "Data number 194\n",
      "From ANN, I know that the percentage of satisfied value same rate is 49.2 %\n",
      "Data number 195\n",
      "From ANN, I know that the percentage of satisfied value same rate is 52.6 %\n",
      "Data number 196\n"
     ]
    },
    {
     "name": "stderr",
     "output_type": "stream",
     "text": [
      "C:\\Users\\yosua\\anaconda3\\envs\\DataSpell\\lib\\site-packages\\sklearn\\neural_network\\_multilayer_perceptron.py:541: ConvergenceWarning: lbfgs failed to converge (status=2):\n",
      "ABNORMAL_TERMINATION_IN_LNSRCH.\n",
      "\n",
      "Increase the number of iterations (max_iter) or scale the data as shown in:\n",
      "    https://scikit-learn.org/stable/modules/preprocessing.html\n",
      "  self.n_iter_ = _check_optimize_result(\"lbfgs\", opt_res, self.max_iter)\n"
     ]
    },
    {
     "name": "stdout",
     "output_type": "stream",
     "text": [
      "From ANN, I know that the percentage of satisfied value same rate is 50.0 %\n",
      "Data number 197\n",
      "From ANN, I know that the percentage of satisfied value same rate is 52.6 %\n",
      "Data number 198\n",
      "From ANN, I know that the percentage of satisfied value same rate is 52.6 %\n",
      "Data number 199\n",
      "From ANN, I know that the percentage of satisfied value same rate is 52.6 %\n",
      "Data number 200\n",
      "From ANN, I know that the percentage of satisfied value same rate is 52.6 %\n",
      "Data number 201\n",
      "From ANN, I know that the percentage of satisfied value same rate is 47.4 %\n",
      "Data number 202\n"
     ]
    },
    {
     "name": "stderr",
     "output_type": "stream",
     "text": [
      "C:\\Users\\yosua\\anaconda3\\envs\\DataSpell\\lib\\site-packages\\sklearn\\neural_network\\_multilayer_perceptron.py:541: ConvergenceWarning: lbfgs failed to converge (status=2):\n",
      "ABNORMAL_TERMINATION_IN_LNSRCH.\n",
      "\n",
      "Increase the number of iterations (max_iter) or scale the data as shown in:\n",
      "    https://scikit-learn.org/stable/modules/preprocessing.html\n",
      "  self.n_iter_ = _check_optimize_result(\"lbfgs\", opt_res, self.max_iter)\n",
      "C:\\Users\\yosua\\anaconda3\\envs\\DataSpell\\lib\\site-packages\\sklearn\\neural_network\\_multilayer_perceptron.py:541: ConvergenceWarning: lbfgs failed to converge (status=2):\n",
      "ABNORMAL_TERMINATION_IN_LNSRCH.\n",
      "\n",
      "Increase the number of iterations (max_iter) or scale the data as shown in:\n",
      "    https://scikit-learn.org/stable/modules/preprocessing.html\n",
      "  self.n_iter_ = _check_optimize_result(\"lbfgs\", opt_res, self.max_iter)\n",
      "C:\\Users\\yosua\\anaconda3\\envs\\DataSpell\\lib\\site-packages\\sklearn\\neural_network\\_multilayer_perceptron.py:541: ConvergenceWarning: lbfgs failed to converge (status=2):\n",
      "ABNORMAL_TERMINATION_IN_LNSRCH.\n",
      "\n",
      "Increase the number of iterations (max_iter) or scale the data as shown in:\n",
      "    https://scikit-learn.org/stable/modules/preprocessing.html\n",
      "  self.n_iter_ = _check_optimize_result(\"lbfgs\", opt_res, self.max_iter)\n",
      "C:\\Users\\yosua\\anaconda3\\envs\\DataSpell\\lib\\site-packages\\sklearn\\neural_network\\_multilayer_perceptron.py:541: ConvergenceWarning: lbfgs failed to converge (status=2):\n",
      "ABNORMAL_TERMINATION_IN_LNSRCH.\n",
      "\n",
      "Increase the number of iterations (max_iter) or scale the data as shown in:\n",
      "    https://scikit-learn.org/stable/modules/preprocessing.html\n",
      "  self.n_iter_ = _check_optimize_result(\"lbfgs\", opt_res, self.max_iter)\n"
     ]
    },
    {
     "name": "stdout",
     "output_type": "stream",
     "text": [
      "From ANN, I know that the percentage of satisfied value same rate is 50.0 %\n",
      "Data number 203\n",
      "From ANN, I know that the percentage of satisfied value same rate is 52.6 %\n",
      "Data number 204\n",
      "From ANN, I know that the percentage of satisfied value same rate is 49.2 %\n",
      "Data number 205\n",
      "From ANN, I know that the percentage of satisfied value same rate is 52.6 %\n",
      "Data number 206\n"
     ]
    },
    {
     "name": "stderr",
     "output_type": "stream",
     "text": [
      "C:\\Users\\yosua\\anaconda3\\envs\\DataSpell\\lib\\site-packages\\sklearn\\neural_network\\_multilayer_perceptron.py:541: ConvergenceWarning: lbfgs failed to converge (status=2):\n",
      "ABNORMAL_TERMINATION_IN_LNSRCH.\n",
      "\n",
      "Increase the number of iterations (max_iter) or scale the data as shown in:\n",
      "    https://scikit-learn.org/stable/modules/preprocessing.html\n",
      "  self.n_iter_ = _check_optimize_result(\"lbfgs\", opt_res, self.max_iter)\n",
      "C:\\Users\\yosua\\anaconda3\\envs\\DataSpell\\lib\\site-packages\\sklearn\\neural_network\\_multilayer_perceptron.py:541: ConvergenceWarning: lbfgs failed to converge (status=2):\n",
      "ABNORMAL_TERMINATION_IN_LNSRCH.\n",
      "\n",
      "Increase the number of iterations (max_iter) or scale the data as shown in:\n",
      "    https://scikit-learn.org/stable/modules/preprocessing.html\n",
      "  self.n_iter_ = _check_optimize_result(\"lbfgs\", opt_res, self.max_iter)\n"
     ]
    },
    {
     "name": "stdout",
     "output_type": "stream",
     "text": [
      "From ANN, I know that the percentage of satisfied value same rate is 47.4 %\n",
      "Data number 207\n",
      "From ANN, I know that the percentage of satisfied value same rate is 52.6 %\n",
      "Data number 208\n",
      "From ANN, I know that the percentage of satisfied value same rate is 52.6 %\n",
      "Data number 209\n",
      "From ANN, I know that the percentage of satisfied value same rate is 47.4 %\n",
      "Data number 210\n",
      "From ANN, I know that the percentage of satisfied value same rate is 52.6 %\n",
      "Data number 211\n",
      "From ANN, I know that the percentage of satisfied value same rate is 48.2 %\n",
      "Data number 212\n",
      "From ANN, I know that the percentage of satisfied value same rate is 52.6 %\n",
      "Data number 213\n",
      "From ANN, I know that the percentage of satisfied value same rate is 52.6 %\n",
      "Data number 214\n",
      "From ANN, I know that the percentage of satisfied value same rate is 49.2 %\n",
      "Data number 215\n",
      "From ANN, I know that the percentage of satisfied value same rate is 47.4 %\n",
      "Data number 216\n",
      "From ANN, I know that the percentage of satisfied value same rate is 52.6 %\n",
      "Data number 217\n",
      "From ANN, I know that the percentage of satisfied value same rate is 52.6 %\n",
      "Data number 218\n",
      "From ANN, I know that the percentage of satisfied value same rate is 49.2 %\n",
      "Data number 219\n"
     ]
    },
    {
     "name": "stderr",
     "output_type": "stream",
     "text": [
      "C:\\Users\\yosua\\anaconda3\\envs\\DataSpell\\lib\\site-packages\\sklearn\\neural_network\\_multilayer_perceptron.py:541: ConvergenceWarning: lbfgs failed to converge (status=2):\n",
      "ABNORMAL_TERMINATION_IN_LNSRCH.\n",
      "\n",
      "Increase the number of iterations (max_iter) or scale the data as shown in:\n",
      "    https://scikit-learn.org/stable/modules/preprocessing.html\n",
      "  self.n_iter_ = _check_optimize_result(\"lbfgs\", opt_res, self.max_iter)\n"
     ]
    },
    {
     "name": "stdout",
     "output_type": "stream",
     "text": [
      "From ANN, I know that the percentage of satisfied value same rate is 52.6 %\n",
      "Data number 220\n",
      "From ANN, I know that the percentage of satisfied value same rate is 52.6 %\n",
      "Data number 221\n",
      "From ANN, I know that the percentage of satisfied value same rate is 52.6 %\n",
      "Data number 222\n"
     ]
    },
    {
     "name": "stderr",
     "output_type": "stream",
     "text": [
      "C:\\Users\\yosua\\anaconda3\\envs\\DataSpell\\lib\\site-packages\\sklearn\\neural_network\\_multilayer_perceptron.py:541: ConvergenceWarning: lbfgs failed to converge (status=2):\n",
      "ABNORMAL_TERMINATION_IN_LNSRCH.\n",
      "\n",
      "Increase the number of iterations (max_iter) or scale the data as shown in:\n",
      "    https://scikit-learn.org/stable/modules/preprocessing.html\n",
      "  self.n_iter_ = _check_optimize_result(\"lbfgs\", opt_res, self.max_iter)\n"
     ]
    },
    {
     "name": "stdout",
     "output_type": "stream",
     "text": [
      "From ANN, I know that the percentage of satisfied value same rate is 52.6 %\n",
      "Data number 223\n",
      "From ANN, I know that the percentage of satisfied value same rate is 52.6 %\n",
      "Data number 224\n",
      "From ANN, I know that the percentage of satisfied value same rate is 50.0 %\n",
      "Data number 225\n",
      "From ANN, I know that the percentage of satisfied value same rate is 52.6 %\n",
      "Data number 226\n",
      "From ANN, I know that the percentage of satisfied value same rate is 52.6 %\n",
      "Data number 227\n",
      "From ANN, I know that the percentage of satisfied value same rate is 52.6 %\n",
      "Data number 228\n",
      "From ANN, I know that the percentage of satisfied value same rate is 52.6 %\n",
      "Data number 229\n"
     ]
    },
    {
     "name": "stderr",
     "output_type": "stream",
     "text": [
      "C:\\Users\\yosua\\anaconda3\\envs\\DataSpell\\lib\\site-packages\\sklearn\\neural_network\\_multilayer_perceptron.py:541: ConvergenceWarning: lbfgs failed to converge (status=2):\n",
      "ABNORMAL_TERMINATION_IN_LNSRCH.\n",
      "\n",
      "Increase the number of iterations (max_iter) or scale the data as shown in:\n",
      "    https://scikit-learn.org/stable/modules/preprocessing.html\n",
      "  self.n_iter_ = _check_optimize_result(\"lbfgs\", opt_res, self.max_iter)\n",
      "C:\\Users\\yosua\\anaconda3\\envs\\DataSpell\\lib\\site-packages\\sklearn\\neural_network\\_multilayer_perceptron.py:541: ConvergenceWarning: lbfgs failed to converge (status=2):\n",
      "ABNORMAL_TERMINATION_IN_LNSRCH.\n",
      "\n",
      "Increase the number of iterations (max_iter) or scale the data as shown in:\n",
      "    https://scikit-learn.org/stable/modules/preprocessing.html\n",
      "  self.n_iter_ = _check_optimize_result(\"lbfgs\", opt_res, self.max_iter)\n"
     ]
    },
    {
     "name": "stdout",
     "output_type": "stream",
     "text": [
      "From ANN, I know that the percentage of satisfied value same rate is 48.2 %\n",
      "Data number 230\n",
      "From ANN, I know that the percentage of satisfied value same rate is 47.4 %\n",
      "Data number 231\n",
      "From ANN, I know that the percentage of satisfied value same rate is 47.4 %\n",
      "Data number 232\n",
      "From ANN, I know that the percentage of satisfied value same rate is 52.6 %\n",
      "Data number 233\n",
      "From ANN, I know that the percentage of satisfied value same rate is 52.6 %\n",
      "Data number 234\n",
      "From ANN, I know that the percentage of satisfied value same rate is 49.2 %\n",
      "Data number 235\n",
      "From ANN, I know that the percentage of satisfied value same rate is 52.6 %\n",
      "Data number 236\n",
      "From ANN, I know that the percentage of satisfied value same rate is 52.6 %\n",
      "Data number 237\n"
     ]
    },
    {
     "name": "stderr",
     "output_type": "stream",
     "text": [
      "C:\\Users\\yosua\\anaconda3\\envs\\DataSpell\\lib\\site-packages\\sklearn\\neural_network\\_multilayer_perceptron.py:541: ConvergenceWarning: lbfgs failed to converge (status=2):\n",
      "ABNORMAL_TERMINATION_IN_LNSRCH.\n",
      "\n",
      "Increase the number of iterations (max_iter) or scale the data as shown in:\n",
      "    https://scikit-learn.org/stable/modules/preprocessing.html\n",
      "  self.n_iter_ = _check_optimize_result(\"lbfgs\", opt_res, self.max_iter)\n",
      "C:\\Users\\yosua\\anaconda3\\envs\\DataSpell\\lib\\site-packages\\sklearn\\neural_network\\_multilayer_perceptron.py:541: ConvergenceWarning: lbfgs failed to converge (status=2):\n",
      "ABNORMAL_TERMINATION_IN_LNSRCH.\n",
      "\n",
      "Increase the number of iterations (max_iter) or scale the data as shown in:\n",
      "    https://scikit-learn.org/stable/modules/preprocessing.html\n",
      "  self.n_iter_ = _check_optimize_result(\"lbfgs\", opt_res, self.max_iter)\n"
     ]
    },
    {
     "name": "stdout",
     "output_type": "stream",
     "text": [
      "From ANN, I know that the percentage of satisfied value same rate is 48.2 %\n",
      "Data number 238\n",
      "From ANN, I know that the percentage of satisfied value same rate is 47.4 %\n",
      "Data number 239\n",
      "From ANN, I know that the percentage of satisfied value same rate is 52.6 %\n",
      "Data number 240\n",
      "From ANN, I know that the percentage of satisfied value same rate is 49.2 %\n",
      "Data number 241\n"
     ]
    },
    {
     "name": "stderr",
     "output_type": "stream",
     "text": [
      "C:\\Users\\yosua\\anaconda3\\envs\\DataSpell\\lib\\site-packages\\sklearn\\neural_network\\_multilayer_perceptron.py:541: ConvergenceWarning: lbfgs failed to converge (status=2):\n",
      "ABNORMAL_TERMINATION_IN_LNSRCH.\n",
      "\n",
      "Increase the number of iterations (max_iter) or scale the data as shown in:\n",
      "    https://scikit-learn.org/stable/modules/preprocessing.html\n",
      "  self.n_iter_ = _check_optimize_result(\"lbfgs\", opt_res, self.max_iter)\n"
     ]
    },
    {
     "name": "stdout",
     "output_type": "stream",
     "text": [
      "From ANN, I know that the percentage of satisfied value same rate is 52.6 %\n",
      "Data number 242\n",
      "From ANN, I know that the percentage of satisfied value same rate is 47.4 %\n",
      "Data number 243\n",
      "From ANN, I know that the percentage of satisfied value same rate is 49.2 %\n",
      "Data number 244\n",
      "From ANN, I know that the percentage of satisfied value same rate is 52.6 %\n",
      "Data number 245\n"
     ]
    },
    {
     "name": "stderr",
     "output_type": "stream",
     "text": [
      "C:\\Users\\yosua\\anaconda3\\envs\\DataSpell\\lib\\site-packages\\sklearn\\neural_network\\_multilayer_perceptron.py:541: ConvergenceWarning: lbfgs failed to converge (status=2):\n",
      "ABNORMAL_TERMINATION_IN_LNSRCH.\n",
      "\n",
      "Increase the number of iterations (max_iter) or scale the data as shown in:\n",
      "    https://scikit-learn.org/stable/modules/preprocessing.html\n",
      "  self.n_iter_ = _check_optimize_result(\"lbfgs\", opt_res, self.max_iter)\n",
      "C:\\Users\\yosua\\anaconda3\\envs\\DataSpell\\lib\\site-packages\\sklearn\\neural_network\\_multilayer_perceptron.py:541: ConvergenceWarning: lbfgs failed to converge (status=2):\n",
      "ABNORMAL_TERMINATION_IN_LNSRCH.\n",
      "\n",
      "Increase the number of iterations (max_iter) or scale the data as shown in:\n",
      "    https://scikit-learn.org/stable/modules/preprocessing.html\n",
      "  self.n_iter_ = _check_optimize_result(\"lbfgs\", opt_res, self.max_iter)\n"
     ]
    },
    {
     "name": "stdout",
     "output_type": "stream",
     "text": [
      "From ANN, I know that the percentage of satisfied value same rate is 52.6 %\n",
      "Data number 246\n",
      "From ANN, I know that the percentage of satisfied value same rate is 52.6 %\n",
      "Data number 247\n",
      "From ANN, I know that the percentage of satisfied value same rate is 48.2 %\n",
      "Data number 248\n",
      "From ANN, I know that the percentage of satisfied value same rate is 47.4 %\n",
      "Data number 249\n",
      "From ANN, I know that the percentage of satisfied value same rate is 47.4 %\n",
      "Data number 250\n",
      "From ANN, I know that the percentage of satisfied value same rate is 52.6 %\n",
      "Data number 251\n",
      "From ANN, I know that the percentage of satisfied value same rate is 52.6 %\n",
      "Data number 252\n",
      "From ANN, I know that the percentage of satisfied value same rate is 52.6 %\n",
      "Data number 253\n",
      "From ANN, I know that the percentage of satisfied value same rate is 52.6 %\n",
      "Data number 254\n"
     ]
    },
    {
     "name": "stderr",
     "output_type": "stream",
     "text": [
      "C:\\Users\\yosua\\anaconda3\\envs\\DataSpell\\lib\\site-packages\\sklearn\\neural_network\\_multilayer_perceptron.py:541: ConvergenceWarning: lbfgs failed to converge (status=2):\n",
      "ABNORMAL_TERMINATION_IN_LNSRCH.\n",
      "\n",
      "Increase the number of iterations (max_iter) or scale the data as shown in:\n",
      "    https://scikit-learn.org/stable/modules/preprocessing.html\n",
      "  self.n_iter_ = _check_optimize_result(\"lbfgs\", opt_res, self.max_iter)\n",
      "C:\\Users\\yosua\\anaconda3\\envs\\DataSpell\\lib\\site-packages\\sklearn\\neural_network\\_multilayer_perceptron.py:541: ConvergenceWarning: lbfgs failed to converge (status=2):\n",
      "ABNORMAL_TERMINATION_IN_LNSRCH.\n",
      "\n",
      "Increase the number of iterations (max_iter) or scale the data as shown in:\n",
      "    https://scikit-learn.org/stable/modules/preprocessing.html\n",
      "  self.n_iter_ = _check_optimize_result(\"lbfgs\", opt_res, self.max_iter)\n",
      "C:\\Users\\yosua\\anaconda3\\envs\\DataSpell\\lib\\site-packages\\sklearn\\neural_network\\_multilayer_perceptron.py:541: ConvergenceWarning: lbfgs failed to converge (status=2):\n",
      "ABNORMAL_TERMINATION_IN_LNSRCH.\n",
      "\n",
      "Increase the number of iterations (max_iter) or scale the data as shown in:\n",
      "    https://scikit-learn.org/stable/modules/preprocessing.html\n",
      "  self.n_iter_ = _check_optimize_result(\"lbfgs\", opt_res, self.max_iter)\n"
     ]
    },
    {
     "name": "stdout",
     "output_type": "stream",
     "text": [
      "From ANN, I know that the percentage of satisfied value same rate is 48.2 %\n",
      "Data number 255\n",
      "From ANN, I know that the percentage of satisfied value same rate is 50.0 %\n",
      "Data number 256\n",
      "From ANN, I know that the percentage of satisfied value same rate is 52.6 %\n",
      "Data number 257\n"
     ]
    },
    {
     "name": "stderr",
     "output_type": "stream",
     "text": [
      "C:\\Users\\yosua\\anaconda3\\envs\\DataSpell\\lib\\site-packages\\sklearn\\neural_network\\_multilayer_perceptron.py:541: ConvergenceWarning: lbfgs failed to converge (status=2):\n",
      "ABNORMAL_TERMINATION_IN_LNSRCH.\n",
      "\n",
      "Increase the number of iterations (max_iter) or scale the data as shown in:\n",
      "    https://scikit-learn.org/stable/modules/preprocessing.html\n",
      "  self.n_iter_ = _check_optimize_result(\"lbfgs\", opt_res, self.max_iter)\n"
     ]
    },
    {
     "name": "stdout",
     "output_type": "stream",
     "text": [
      "From ANN, I know that the percentage of satisfied value same rate is 50.2 %\n",
      "Data number 258\n",
      "From ANN, I know that the percentage of satisfied value same rate is 52.6 %\n",
      "Data number 259\n",
      "From ANN, I know that the percentage of satisfied value same rate is 48.2 %\n",
      "Data number 260\n",
      "From ANN, I know that the percentage of satisfied value same rate is 48.2 %\n",
      "Data number 261\n",
      "From ANN, I know that the percentage of satisfied value same rate is 50.0 %\n",
      "Data number 262\n",
      "From ANN, I know that the percentage of satisfied value same rate is 52.6 %\n",
      "Data number 263\n",
      "From ANN, I know that the percentage of satisfied value same rate is 52.6 %\n",
      "Data number 264\n",
      "From ANN, I know that the percentage of satisfied value same rate is 49.2 %\n",
      "Data number 265\n",
      "From ANN, I know that the percentage of satisfied value same rate is 52.6 %\n",
      "Data number 266\n"
     ]
    },
    {
     "name": "stderr",
     "output_type": "stream",
     "text": [
      "C:\\Users\\yosua\\anaconda3\\envs\\DataSpell\\lib\\site-packages\\sklearn\\neural_network\\_multilayer_perceptron.py:541: ConvergenceWarning: lbfgs failed to converge (status=2):\n",
      "ABNORMAL_TERMINATION_IN_LNSRCH.\n",
      "\n",
      "Increase the number of iterations (max_iter) or scale the data as shown in:\n",
      "    https://scikit-learn.org/stable/modules/preprocessing.html\n",
      "  self.n_iter_ = _check_optimize_result(\"lbfgs\", opt_res, self.max_iter)\n"
     ]
    },
    {
     "name": "stdout",
     "output_type": "stream",
     "text": [
      "From ANN, I know that the percentage of satisfied value same rate is 50.2 %\n",
      "Data number 267\n",
      "From ANN, I know that the percentage of satisfied value same rate is 52.6 %\n",
      "Data number 268\n",
      "From ANN, I know that the percentage of satisfied value same rate is 47.4 %\n",
      "Data number 269\n",
      "From ANN, I know that the percentage of satisfied value same rate is 52.6 %\n",
      "Data number 270\n"
     ]
    },
    {
     "name": "stderr",
     "output_type": "stream",
     "text": [
      "C:\\Users\\yosua\\anaconda3\\envs\\DataSpell\\lib\\site-packages\\sklearn\\neural_network\\_multilayer_perceptron.py:541: ConvergenceWarning: lbfgs failed to converge (status=2):\n",
      "ABNORMAL_TERMINATION_IN_LNSRCH.\n",
      "\n",
      "Increase the number of iterations (max_iter) or scale the data as shown in:\n",
      "    https://scikit-learn.org/stable/modules/preprocessing.html\n",
      "  self.n_iter_ = _check_optimize_result(\"lbfgs\", opt_res, self.max_iter)\n",
      "C:\\Users\\yosua\\anaconda3\\envs\\DataSpell\\lib\\site-packages\\sklearn\\neural_network\\_multilayer_perceptron.py:541: ConvergenceWarning: lbfgs failed to converge (status=2):\n",
      "ABNORMAL_TERMINATION_IN_LNSRCH.\n",
      "\n",
      "Increase the number of iterations (max_iter) or scale the data as shown in:\n",
      "    https://scikit-learn.org/stable/modules/preprocessing.html\n",
      "  self.n_iter_ = _check_optimize_result(\"lbfgs\", opt_res, self.max_iter)\n"
     ]
    },
    {
     "name": "stdout",
     "output_type": "stream",
     "text": [
      "From ANN, I know that the percentage of satisfied value same rate is 52.6 %\n",
      "Data number 271\n",
      "From ANN, I know that the percentage of satisfied value same rate is 52.6 %\n",
      "Data number 272\n",
      "From ANN, I know that the percentage of satisfied value same rate is 52.6 %\n",
      "Data number 273\n",
      "From ANN, I know that the percentage of satisfied value same rate is 52.6 %\n",
      "Data number 274\n",
      "From ANN, I know that the percentage of satisfied value same rate is 52.6 %\n",
      "Data number 275\n"
     ]
    },
    {
     "name": "stderr",
     "output_type": "stream",
     "text": [
      "C:\\Users\\yosua\\anaconda3\\envs\\DataSpell\\lib\\site-packages\\sklearn\\neural_network\\_multilayer_perceptron.py:541: ConvergenceWarning: lbfgs failed to converge (status=2):\n",
      "ABNORMAL_TERMINATION_IN_LNSRCH.\n",
      "\n",
      "Increase the number of iterations (max_iter) or scale the data as shown in:\n",
      "    https://scikit-learn.org/stable/modules/preprocessing.html\n",
      "  self.n_iter_ = _check_optimize_result(\"lbfgs\", opt_res, self.max_iter)\n",
      "C:\\Users\\yosua\\anaconda3\\envs\\DataSpell\\lib\\site-packages\\sklearn\\neural_network\\_multilayer_perceptron.py:541: ConvergenceWarning: lbfgs failed to converge (status=2):\n",
      "ABNORMAL_TERMINATION_IN_LNSRCH.\n",
      "\n",
      "Increase the number of iterations (max_iter) or scale the data as shown in:\n",
      "    https://scikit-learn.org/stable/modules/preprocessing.html\n",
      "  self.n_iter_ = _check_optimize_result(\"lbfgs\", opt_res, self.max_iter)\n"
     ]
    },
    {
     "name": "stdout",
     "output_type": "stream",
     "text": [
      "From ANN, I know that the percentage of satisfied value same rate is 49.2 %\n",
      "Data number 276\n",
      "From ANN, I know that the percentage of satisfied value same rate is 52.6 %\n",
      "Data number 277\n",
      "From ANN, I know that the percentage of satisfied value same rate is 49.2 %\n",
      "Data number 278\n"
     ]
    },
    {
     "name": "stderr",
     "output_type": "stream",
     "text": [
      "C:\\Users\\yosua\\anaconda3\\envs\\DataSpell\\lib\\site-packages\\sklearn\\neural_network\\_multilayer_perceptron.py:541: ConvergenceWarning: lbfgs failed to converge (status=2):\n",
      "ABNORMAL_TERMINATION_IN_LNSRCH.\n",
      "\n",
      "Increase the number of iterations (max_iter) or scale the data as shown in:\n",
      "    https://scikit-learn.org/stable/modules/preprocessing.html\n",
      "  self.n_iter_ = _check_optimize_result(\"lbfgs\", opt_res, self.max_iter)\n"
     ]
    },
    {
     "name": "stdout",
     "output_type": "stream",
     "text": [
      "From ANN, I know that the percentage of satisfied value same rate is 52.6 %\n",
      "Data number 279\n",
      "From ANN, I know that the percentage of satisfied value same rate is 52.6 %\n",
      "Data number 280\n",
      "From ANN, I know that the percentage of satisfied value same rate is 48.2 %\n",
      "Data number 281\n",
      "From ANN, I know that the percentage of satisfied value same rate is 52.6 %\n",
      "Data number 282\n",
      "From ANN, I know that the percentage of satisfied value same rate is 47.4 %\n",
      "Data number 283\n"
     ]
    },
    {
     "name": "stderr",
     "output_type": "stream",
     "text": [
      "C:\\Users\\yosua\\anaconda3\\envs\\DataSpell\\lib\\site-packages\\sklearn\\neural_network\\_multilayer_perceptron.py:541: ConvergenceWarning: lbfgs failed to converge (status=2):\n",
      "ABNORMAL_TERMINATION_IN_LNSRCH.\n",
      "\n",
      "Increase the number of iterations (max_iter) or scale the data as shown in:\n",
      "    https://scikit-learn.org/stable/modules/preprocessing.html\n",
      "  self.n_iter_ = _check_optimize_result(\"lbfgs\", opt_res, self.max_iter)\n"
     ]
    },
    {
     "name": "stdout",
     "output_type": "stream",
     "text": [
      "From ANN, I know that the percentage of satisfied value same rate is 48.2 %\n",
      "Data number 284\n",
      "From ANN, I know that the percentage of satisfied value same rate is 52.6 %\n",
      "Data number 285\n",
      "From ANN, I know that the percentage of satisfied value same rate is 47.4 %\n",
      "Data number 286\n"
     ]
    },
    {
     "name": "stderr",
     "output_type": "stream",
     "text": [
      "C:\\Users\\yosua\\anaconda3\\envs\\DataSpell\\lib\\site-packages\\sklearn\\neural_network\\_multilayer_perceptron.py:541: ConvergenceWarning: lbfgs failed to converge (status=2):\n",
      "ABNORMAL_TERMINATION_IN_LNSRCH.\n",
      "\n",
      "Increase the number of iterations (max_iter) or scale the data as shown in:\n",
      "    https://scikit-learn.org/stable/modules/preprocessing.html\n",
      "  self.n_iter_ = _check_optimize_result(\"lbfgs\", opt_res, self.max_iter)\n"
     ]
    },
    {
     "name": "stdout",
     "output_type": "stream",
     "text": [
      "From ANN, I know that the percentage of satisfied value same rate is 52.6 %\n",
      "Data number 287\n",
      "From ANN, I know that the percentage of satisfied value same rate is 47.4 %\n",
      "Data number 288\n",
      "From ANN, I know that the percentage of satisfied value same rate is 52.6 %\n",
      "Data number 289\n",
      "From ANN, I know that the percentage of satisfied value same rate is 49.2 %\n",
      "Data number 290\n",
      "From ANN, I know that the percentage of satisfied value same rate is 49.2 %\n",
      "Data number 291\n",
      "From ANN, I know that the percentage of satisfied value same rate is 49.2 %\n",
      "Data number 292\n",
      "From ANN, I know that the percentage of satisfied value same rate is 52.6 %\n",
      "Data number 293\n",
      "From ANN, I know that the percentage of satisfied value same rate is 47.4 %\n",
      "Data number 294\n",
      "From ANN, I know that the percentage of satisfied value same rate is 52.6 %\n",
      "Data number 295\n"
     ]
    },
    {
     "name": "stderr",
     "output_type": "stream",
     "text": [
      "C:\\Users\\yosua\\anaconda3\\envs\\DataSpell\\lib\\site-packages\\sklearn\\neural_network\\_multilayer_perceptron.py:541: ConvergenceWarning: lbfgs failed to converge (status=2):\n",
      "ABNORMAL_TERMINATION_IN_LNSRCH.\n",
      "\n",
      "Increase the number of iterations (max_iter) or scale the data as shown in:\n",
      "    https://scikit-learn.org/stable/modules/preprocessing.html\n",
      "  self.n_iter_ = _check_optimize_result(\"lbfgs\", opt_res, self.max_iter)\n"
     ]
    },
    {
     "name": "stdout",
     "output_type": "stream",
     "text": [
      "From ANN, I know that the percentage of satisfied value same rate is 48.2 %\n",
      "Data number 296\n",
      "From ANN, I know that the percentage of satisfied value same rate is 52.6 %\n",
      "Data number 297\n",
      "From ANN, I know that the percentage of satisfied value same rate is 47.4 %\n",
      "Data number 298\n",
      "From ANN, I know that the percentage of satisfied value same rate is 52.6 %\n",
      "Data number 299\n"
     ]
    },
    {
     "name": "stderr",
     "output_type": "stream",
     "text": [
      "C:\\Users\\yosua\\anaconda3\\envs\\DataSpell\\lib\\site-packages\\sklearn\\neural_network\\_multilayer_perceptron.py:541: ConvergenceWarning: lbfgs failed to converge (status=2):\n",
      "ABNORMAL_TERMINATION_IN_LNSRCH.\n",
      "\n",
      "Increase the number of iterations (max_iter) or scale the data as shown in:\n",
      "    https://scikit-learn.org/stable/modules/preprocessing.html\n",
      "  self.n_iter_ = _check_optimize_result(\"lbfgs\", opt_res, self.max_iter)\n",
      "C:\\Users\\yosua\\anaconda3\\envs\\DataSpell\\lib\\site-packages\\sklearn\\neural_network\\_multilayer_perceptron.py:541: ConvergenceWarning: lbfgs failed to converge (status=2):\n",
      "ABNORMAL_TERMINATION_IN_LNSRCH.\n",
      "\n",
      "Increase the number of iterations (max_iter) or scale the data as shown in:\n",
      "    https://scikit-learn.org/stable/modules/preprocessing.html\n",
      "  self.n_iter_ = _check_optimize_result(\"lbfgs\", opt_res, self.max_iter)\n"
     ]
    },
    {
     "name": "stdout",
     "output_type": "stream",
     "text": [
      "From ANN, I know that the percentage of satisfied value same rate is 52.6 %\n",
      "Data number 300\n",
      "From ANN, I know that the percentage of satisfied value same rate is 52.6 %\n",
      "Data number 301\n",
      "From ANN, I know that the percentage of satisfied value same rate is 47.4 %\n",
      "Data number 302\n"
     ]
    },
    {
     "name": "stderr",
     "output_type": "stream",
     "text": [
      "C:\\Users\\yosua\\anaconda3\\envs\\DataSpell\\lib\\site-packages\\sklearn\\neural_network\\_multilayer_perceptron.py:541: ConvergenceWarning: lbfgs failed to converge (status=2):\n",
      "ABNORMAL_TERMINATION_IN_LNSRCH.\n",
      "\n",
      "Increase the number of iterations (max_iter) or scale the data as shown in:\n",
      "    https://scikit-learn.org/stable/modules/preprocessing.html\n",
      "  self.n_iter_ = _check_optimize_result(\"lbfgs\", opt_res, self.max_iter)\n"
     ]
    },
    {
     "name": "stdout",
     "output_type": "stream",
     "text": [
      "From ANN, I know that the percentage of satisfied value same rate is 48.4 %\n",
      "Data number 303\n",
      "From ANN, I know that the percentage of satisfied value same rate is 52.6 %\n",
      "Data number 304\n",
      "From ANN, I know that the percentage of satisfied value same rate is 47.4 %\n",
      "Data number 305\n",
      "From ANN, I know that the percentage of satisfied value same rate is 52.6 %\n",
      "Data number 306\n",
      "From ANN, I know that the percentage of satisfied value same rate is 47.4 %\n",
      "Data number 307\n"
     ]
    },
    {
     "name": "stderr",
     "output_type": "stream",
     "text": [
      "C:\\Users\\yosua\\anaconda3\\envs\\DataSpell\\lib\\site-packages\\sklearn\\neural_network\\_multilayer_perceptron.py:541: ConvergenceWarning: lbfgs failed to converge (status=2):\n",
      "ABNORMAL_TERMINATION_IN_LNSRCH.\n",
      "\n",
      "Increase the number of iterations (max_iter) or scale the data as shown in:\n",
      "    https://scikit-learn.org/stable/modules/preprocessing.html\n",
      "  self.n_iter_ = _check_optimize_result(\"lbfgs\", opt_res, self.max_iter)\n",
      "C:\\Users\\yosua\\anaconda3\\envs\\DataSpell\\lib\\site-packages\\sklearn\\neural_network\\_multilayer_perceptron.py:541: ConvergenceWarning: lbfgs failed to converge (status=2):\n",
      "ABNORMAL_TERMINATION_IN_LNSRCH.\n",
      "\n",
      "Increase the number of iterations (max_iter) or scale the data as shown in:\n",
      "    https://scikit-learn.org/stable/modules/preprocessing.html\n",
      "  self.n_iter_ = _check_optimize_result(\"lbfgs\", opt_res, self.max_iter)\n",
      "C:\\Users\\yosua\\anaconda3\\envs\\DataSpell\\lib\\site-packages\\sklearn\\neural_network\\_multilayer_perceptron.py:541: ConvergenceWarning: lbfgs failed to converge (status=2):\n",
      "ABNORMAL_TERMINATION_IN_LNSRCH.\n",
      "\n",
      "Increase the number of iterations (max_iter) or scale the data as shown in:\n",
      "    https://scikit-learn.org/stable/modules/preprocessing.html\n",
      "  self.n_iter_ = _check_optimize_result(\"lbfgs\", opt_res, self.max_iter)\n",
      "C:\\Users\\yosua\\anaconda3\\envs\\DataSpell\\lib\\site-packages\\sklearn\\neural_network\\_multilayer_perceptron.py:541: ConvergenceWarning: lbfgs failed to converge (status=2):\n",
      "ABNORMAL_TERMINATION_IN_LNSRCH.\n",
      "\n",
      "Increase the number of iterations (max_iter) or scale the data as shown in:\n",
      "    https://scikit-learn.org/stable/modules/preprocessing.html\n",
      "  self.n_iter_ = _check_optimize_result(\"lbfgs\", opt_res, self.max_iter)\n"
     ]
    },
    {
     "name": "stdout",
     "output_type": "stream",
     "text": [
      "From ANN, I know that the percentage of satisfied value same rate is 52.6 %\n",
      "Data number 308\n",
      "From ANN, I know that the percentage of satisfied value same rate is 52.6 %\n",
      "Data number 309\n",
      "From ANN, I know that the percentage of satisfied value same rate is 52.6 %\n",
      "Data number 310\n",
      "From ANN, I know that the percentage of satisfied value same rate is 52.6 %\n",
      "Data number 311\n",
      "From ANN, I know that the percentage of satisfied value same rate is 47.4 %\n",
      "Data number 312\n"
     ]
    },
    {
     "name": "stderr",
     "output_type": "stream",
     "text": [
      "C:\\Users\\yosua\\anaconda3\\envs\\DataSpell\\lib\\site-packages\\sklearn\\neural_network\\_multilayer_perceptron.py:541: ConvergenceWarning: lbfgs failed to converge (status=2):\n",
      "ABNORMAL_TERMINATION_IN_LNSRCH.\n",
      "\n",
      "Increase the number of iterations (max_iter) or scale the data as shown in:\n",
      "    https://scikit-learn.org/stable/modules/preprocessing.html\n",
      "  self.n_iter_ = _check_optimize_result(\"lbfgs\", opt_res, self.max_iter)\n",
      "C:\\Users\\yosua\\anaconda3\\envs\\DataSpell\\lib\\site-packages\\sklearn\\neural_network\\_multilayer_perceptron.py:541: ConvergenceWarning: lbfgs failed to converge (status=2):\n",
      "ABNORMAL_TERMINATION_IN_LNSRCH.\n",
      "\n",
      "Increase the number of iterations (max_iter) or scale the data as shown in:\n",
      "    https://scikit-learn.org/stable/modules/preprocessing.html\n",
      "  self.n_iter_ = _check_optimize_result(\"lbfgs\", opt_res, self.max_iter)\n"
     ]
    },
    {
     "name": "stdout",
     "output_type": "stream",
     "text": [
      "From ANN, I know that the percentage of satisfied value same rate is 52.6 %\n",
      "Data number 313\n",
      "From ANN, I know that the percentage of satisfied value same rate is 52.6 %\n",
      "Data number 314\n",
      "From ANN, I know that the percentage of satisfied value same rate is 48.2 %\n",
      "Data number 315\n",
      "From ANN, I know that the percentage of satisfied value same rate is 52.6 %\n",
      "Data number 316\n",
      "From ANN, I know that the percentage of satisfied value same rate is 48.2 %\n",
      "Data number 317\n",
      "From ANN, I know that the percentage of satisfied value same rate is 52.6 %\n",
      "Data number 318\n",
      "From ANN, I know that the percentage of satisfied value same rate is 52.6 %\n",
      "Data number 319\n",
      "From ANN, I know that the percentage of satisfied value same rate is 49.2 %\n",
      "Data number 320\n",
      "From ANN, I know that the percentage of satisfied value same rate is 52.6 %\n",
      "Data number 321\n",
      "From ANN, I know that the percentage of satisfied value same rate is 52.6 %\n",
      "Data number 322\n",
      "From ANN, I know that the percentage of satisfied value same rate is 52.6 %\n",
      "Data number 323\n"
     ]
    },
    {
     "name": "stderr",
     "output_type": "stream",
     "text": [
      "C:\\Users\\yosua\\anaconda3\\envs\\DataSpell\\lib\\site-packages\\sklearn\\neural_network\\_multilayer_perceptron.py:541: ConvergenceWarning: lbfgs failed to converge (status=2):\n",
      "ABNORMAL_TERMINATION_IN_LNSRCH.\n",
      "\n",
      "Increase the number of iterations (max_iter) or scale the data as shown in:\n",
      "    https://scikit-learn.org/stable/modules/preprocessing.html\n",
      "  self.n_iter_ = _check_optimize_result(\"lbfgs\", opt_res, self.max_iter)\n"
     ]
    },
    {
     "name": "stdout",
     "output_type": "stream",
     "text": [
      "From ANN, I know that the percentage of satisfied value same rate is 52.6 %\n",
      "Data number 324\n",
      "From ANN, I know that the percentage of satisfied value same rate is 48.2 %\n",
      "Data number 325\n",
      "From ANN, I know that the percentage of satisfied value same rate is 52.6 %\n",
      "Data number 326\n",
      "From ANN, I know that the percentage of satisfied value same rate is 48.2 %\n",
      "Data number 327\n",
      "From ANN, I know that the percentage of satisfied value same rate is 47.4 %\n",
      "Data number 328\n"
     ]
    },
    {
     "name": "stderr",
     "output_type": "stream",
     "text": [
      "C:\\Users\\yosua\\anaconda3\\envs\\DataSpell\\lib\\site-packages\\sklearn\\neural_network\\_multilayer_perceptron.py:541: ConvergenceWarning: lbfgs failed to converge (status=2):\n",
      "ABNORMAL_TERMINATION_IN_LNSRCH.\n",
      "\n",
      "Increase the number of iterations (max_iter) or scale the data as shown in:\n",
      "    https://scikit-learn.org/stable/modules/preprocessing.html\n",
      "  self.n_iter_ = _check_optimize_result(\"lbfgs\", opt_res, self.max_iter)\n"
     ]
    },
    {
     "name": "stdout",
     "output_type": "stream",
     "text": [
      "From ANN, I know that the percentage of satisfied value same rate is 50.6 %\n",
      "Data number 329\n",
      "From ANN, I know that the percentage of satisfied value same rate is 49.2 %\n",
      "Data number 330\n",
      "From ANN, I know that the percentage of satisfied value same rate is 52.6 %\n",
      "Data number 331\n",
      "From ANN, I know that the percentage of satisfied value same rate is 47.4 %\n",
      "Data number 332\n"
     ]
    },
    {
     "name": "stderr",
     "output_type": "stream",
     "text": [
      "C:\\Users\\yosua\\anaconda3\\envs\\DataSpell\\lib\\site-packages\\sklearn\\neural_network\\_multilayer_perceptron.py:541: ConvergenceWarning: lbfgs failed to converge (status=2):\n",
      "ABNORMAL_TERMINATION_IN_LNSRCH.\n",
      "\n",
      "Increase the number of iterations (max_iter) or scale the data as shown in:\n",
      "    https://scikit-learn.org/stable/modules/preprocessing.html\n",
      "  self.n_iter_ = _check_optimize_result(\"lbfgs\", opt_res, self.max_iter)\n"
     ]
    },
    {
     "name": "stdout",
     "output_type": "stream",
     "text": [
      "From ANN, I know that the percentage of satisfied value same rate is 49.2 %\n",
      "Data number 333\n",
      "From ANN, I know that the percentage of satisfied value same rate is 52.6 %\n",
      "Data number 334\n",
      "From ANN, I know that the percentage of satisfied value same rate is 52.6 %\n",
      "Data number 335\n",
      "From ANN, I know that the percentage of satisfied value same rate is 52.6 %\n",
      "Data number 336\n",
      "From ANN, I know that the percentage of satisfied value same rate is 47.4 %\n",
      "Data number 337\n",
      "From ANN, I know that the percentage of satisfied value same rate is 48.2 %\n",
      "Data number 338\n"
     ]
    },
    {
     "name": "stderr",
     "output_type": "stream",
     "text": [
      "C:\\Users\\yosua\\anaconda3\\envs\\DataSpell\\lib\\site-packages\\sklearn\\neural_network\\_multilayer_perceptron.py:541: ConvergenceWarning: lbfgs failed to converge (status=2):\n",
      "ABNORMAL_TERMINATION_IN_LNSRCH.\n",
      "\n",
      "Increase the number of iterations (max_iter) or scale the data as shown in:\n",
      "    https://scikit-learn.org/stable/modules/preprocessing.html\n",
      "  self.n_iter_ = _check_optimize_result(\"lbfgs\", opt_res, self.max_iter)\n"
     ]
    },
    {
     "name": "stdout",
     "output_type": "stream",
     "text": [
      "From ANN, I know that the percentage of satisfied value same rate is 52.6 %\n",
      "Data number 339\n",
      "From ANN, I know that the percentage of satisfied value same rate is 52.6 %\n",
      "Data number 340\n",
      "From ANN, I know that the percentage of satisfied value same rate is 52.6 %\n",
      "Data number 341\n",
      "From ANN, I know that the percentage of satisfied value same rate is 50.2 %\n",
      "Data number 342\n",
      "From ANN, I know that the percentage of satisfied value same rate is 52.6 %\n",
      "Data number 343\n",
      "From ANN, I know that the percentage of satisfied value same rate is 50.2 %\n",
      "Data number 344\n",
      "From ANN, I know that the percentage of satisfied value same rate is 52.6 %\n",
      "Data number 345\n",
      "From ANN, I know that the percentage of satisfied value same rate is 48.0 %\n",
      "Data number 346\n",
      "From ANN, I know that the percentage of satisfied value same rate is 48.2 %\n",
      "Data number 347\n",
      "From ANN, I know that the percentage of satisfied value same rate is 52.6 %\n",
      "Data number 348\n",
      "From ANN, I know that the percentage of satisfied value same rate is 48.4 %\n",
      "Data number 349\n",
      "From ANN, I know that the percentage of satisfied value same rate is 52.6 %\n",
      "Data number 350\n",
      "From ANN, I know that the percentage of satisfied value same rate is 47.4 %\n",
      "Data number 351\n",
      "From ANN, I know that the percentage of satisfied value same rate is 47.4 %\n",
      "Data number 352\n",
      "From ANN, I know that the percentage of satisfied value same rate is 52.6 %\n",
      "Data number 353\n",
      "From ANN, I know that the percentage of satisfied value same rate is 49.2 %\n",
      "Data number 354\n",
      "From ANN, I know that the percentage of satisfied value same rate is 52.6 %\n",
      "Data number 355\n"
     ]
    },
    {
     "name": "stderr",
     "output_type": "stream",
     "text": [
      "C:\\Users\\yosua\\anaconda3\\envs\\DataSpell\\lib\\site-packages\\sklearn\\neural_network\\_multilayer_perceptron.py:541: ConvergenceWarning: lbfgs failed to converge (status=2):\n",
      "ABNORMAL_TERMINATION_IN_LNSRCH.\n",
      "\n",
      "Increase the number of iterations (max_iter) or scale the data as shown in:\n",
      "    https://scikit-learn.org/stable/modules/preprocessing.html\n",
      "  self.n_iter_ = _check_optimize_result(\"lbfgs\", opt_res, self.max_iter)\n",
      "C:\\Users\\yosua\\anaconda3\\envs\\DataSpell\\lib\\site-packages\\sklearn\\neural_network\\_multilayer_perceptron.py:541: ConvergenceWarning: lbfgs failed to converge (status=2):\n",
      "ABNORMAL_TERMINATION_IN_LNSRCH.\n",
      "\n",
      "Increase the number of iterations (max_iter) or scale the data as shown in:\n",
      "    https://scikit-learn.org/stable/modules/preprocessing.html\n",
      "  self.n_iter_ = _check_optimize_result(\"lbfgs\", opt_res, self.max_iter)\n"
     ]
    },
    {
     "name": "stdout",
     "output_type": "stream",
     "text": [
      "From ANN, I know that the percentage of satisfied value same rate is 52.6 %\n",
      "Data number 356\n",
      "From ANN, I know that the percentage of satisfied value same rate is 52.6 %\n",
      "Data number 357\n",
      "From ANN, I know that the percentage of satisfied value same rate is 47.4 %\n",
      "Data number 358\n",
      "From ANN, I know that the percentage of satisfied value same rate is 47.4 %\n",
      "Data number 359\n",
      "From ANN, I know that the percentage of satisfied value same rate is 52.6 %\n",
      "Data number 360\n"
     ]
    },
    {
     "name": "stderr",
     "output_type": "stream",
     "text": [
      "C:\\Users\\yosua\\anaconda3\\envs\\DataSpell\\lib\\site-packages\\sklearn\\neural_network\\_multilayer_perceptron.py:541: ConvergenceWarning: lbfgs failed to converge (status=2):\n",
      "ABNORMAL_TERMINATION_IN_LNSRCH.\n",
      "\n",
      "Increase the number of iterations (max_iter) or scale the data as shown in:\n",
      "    https://scikit-learn.org/stable/modules/preprocessing.html\n",
      "  self.n_iter_ = _check_optimize_result(\"lbfgs\", opt_res, self.max_iter)\n",
      "C:\\Users\\yosua\\anaconda3\\envs\\DataSpell\\lib\\site-packages\\sklearn\\neural_network\\_multilayer_perceptron.py:541: ConvergenceWarning: lbfgs failed to converge (status=2):\n",
      "ABNORMAL_TERMINATION_IN_LNSRCH.\n",
      "\n",
      "Increase the number of iterations (max_iter) or scale the data as shown in:\n",
      "    https://scikit-learn.org/stable/modules/preprocessing.html\n",
      "  self.n_iter_ = _check_optimize_result(\"lbfgs\", opt_res, self.max_iter)\n"
     ]
    },
    {
     "name": "stdout",
     "output_type": "stream",
     "text": [
      "From ANN, I know that the percentage of satisfied value same rate is 47.4 %\n",
      "Data number 361\n",
      "From ANN, I know that the percentage of satisfied value same rate is 49.2 %\n",
      "Data number 362\n",
      "From ANN, I know that the percentage of satisfied value same rate is 49.2 %\n",
      "Data number 363\n",
      "From ANN, I know that the percentage of satisfied value same rate is 52.6 %\n",
      "Data number 364\n",
      "From ANN, I know that the percentage of satisfied value same rate is 52.6 %\n",
      "Data number 365\n"
     ]
    },
    {
     "name": "stderr",
     "output_type": "stream",
     "text": [
      "C:\\Users\\yosua\\anaconda3\\envs\\DataSpell\\lib\\site-packages\\sklearn\\neural_network\\_multilayer_perceptron.py:541: ConvergenceWarning: lbfgs failed to converge (status=2):\n",
      "ABNORMAL_TERMINATION_IN_LNSRCH.\n",
      "\n",
      "Increase the number of iterations (max_iter) or scale the data as shown in:\n",
      "    https://scikit-learn.org/stable/modules/preprocessing.html\n",
      "  self.n_iter_ = _check_optimize_result(\"lbfgs\", opt_res, self.max_iter)\n",
      "C:\\Users\\yosua\\anaconda3\\envs\\DataSpell\\lib\\site-packages\\sklearn\\neural_network\\_multilayer_perceptron.py:541: ConvergenceWarning: lbfgs failed to converge (status=2):\n",
      "ABNORMAL_TERMINATION_IN_LNSRCH.\n",
      "\n",
      "Increase the number of iterations (max_iter) or scale the data as shown in:\n",
      "    https://scikit-learn.org/stable/modules/preprocessing.html\n",
      "  self.n_iter_ = _check_optimize_result(\"lbfgs\", opt_res, self.max_iter)\n"
     ]
    },
    {
     "name": "stdout",
     "output_type": "stream",
     "text": [
      "From ANN, I know that the percentage of satisfied value same rate is 49.2 %\n",
      "Data number 366\n",
      "From ANN, I know that the percentage of satisfied value same rate is 52.6 %\n",
      "Data number 367\n",
      "From ANN, I know that the percentage of satisfied value same rate is 52.6 %\n",
      "Data number 368\n"
     ]
    },
    {
     "name": "stderr",
     "output_type": "stream",
     "text": [
      "C:\\Users\\yosua\\anaconda3\\envs\\DataSpell\\lib\\site-packages\\sklearn\\neural_network\\_multilayer_perceptron.py:541: ConvergenceWarning: lbfgs failed to converge (status=2):\n",
      "ABNORMAL_TERMINATION_IN_LNSRCH.\n",
      "\n",
      "Increase the number of iterations (max_iter) or scale the data as shown in:\n",
      "    https://scikit-learn.org/stable/modules/preprocessing.html\n",
      "  self.n_iter_ = _check_optimize_result(\"lbfgs\", opt_res, self.max_iter)\n",
      "C:\\Users\\yosua\\anaconda3\\envs\\DataSpell\\lib\\site-packages\\sklearn\\neural_network\\_multilayer_perceptron.py:541: ConvergenceWarning: lbfgs failed to converge (status=2):\n",
      "ABNORMAL_TERMINATION_IN_LNSRCH.\n",
      "\n",
      "Increase the number of iterations (max_iter) or scale the data as shown in:\n",
      "    https://scikit-learn.org/stable/modules/preprocessing.html\n",
      "  self.n_iter_ = _check_optimize_result(\"lbfgs\", opt_res, self.max_iter)\n"
     ]
    },
    {
     "name": "stdout",
     "output_type": "stream",
     "text": [
      "From ANN, I know that the percentage of satisfied value same rate is 50.0 %\n",
      "Data number 369\n",
      "From ANN, I know that the percentage of satisfied value same rate is 49.2 %\n",
      "Data number 370\n",
      "From ANN, I know that the percentage of satisfied value same rate is 47.4 %\n",
      "Data number 371\n",
      "From ANN, I know that the percentage of satisfied value same rate is 47.4 %\n",
      "Data number 372\n",
      "From ANN, I know that the percentage of satisfied value same rate is 47.4 %\n",
      "Data number 373\n",
      "From ANN, I know that the percentage of satisfied value same rate is 52.6 %\n",
      "Data number 374\n"
     ]
    },
    {
     "name": "stderr",
     "output_type": "stream",
     "text": [
      "C:\\Users\\yosua\\anaconda3\\envs\\DataSpell\\lib\\site-packages\\sklearn\\neural_network\\_multilayer_perceptron.py:541: ConvergenceWarning: lbfgs failed to converge (status=2):\n",
      "ABNORMAL_TERMINATION_IN_LNSRCH.\n",
      "\n",
      "Increase the number of iterations (max_iter) or scale the data as shown in:\n",
      "    https://scikit-learn.org/stable/modules/preprocessing.html\n",
      "  self.n_iter_ = _check_optimize_result(\"lbfgs\", opt_res, self.max_iter)\n",
      "C:\\Users\\yosua\\anaconda3\\envs\\DataSpell\\lib\\site-packages\\sklearn\\neural_network\\_multilayer_perceptron.py:541: ConvergenceWarning: lbfgs failed to converge (status=2):\n",
      "ABNORMAL_TERMINATION_IN_LNSRCH.\n",
      "\n",
      "Increase the number of iterations (max_iter) or scale the data as shown in:\n",
      "    https://scikit-learn.org/stable/modules/preprocessing.html\n",
      "  self.n_iter_ = _check_optimize_result(\"lbfgs\", opt_res, self.max_iter)\n"
     ]
    },
    {
     "name": "stdout",
     "output_type": "stream",
     "text": [
      "From ANN, I know that the percentage of satisfied value same rate is 47.4 %\n",
      "Data number 375\n",
      "From ANN, I know that the percentage of satisfied value same rate is 52.6 %\n",
      "Data number 376\n",
      "From ANN, I know that the percentage of satisfied value same rate is 47.4 %\n",
      "Data number 377\n",
      "From ANN, I know that the percentage of satisfied value same rate is 52.6 %\n",
      "Data number 378\n",
      "From ANN, I know that the percentage of satisfied value same rate is 49.2 %\n",
      "Data number 379\n",
      "From ANN, I know that the percentage of satisfied value same rate is 50.2 %\n",
      "Data number 380\n",
      "From ANN, I know that the percentage of satisfied value same rate is 47.4 %\n",
      "Data number 381\n"
     ]
    },
    {
     "name": "stderr",
     "output_type": "stream",
     "text": [
      "C:\\Users\\yosua\\anaconda3\\envs\\DataSpell\\lib\\site-packages\\sklearn\\neural_network\\_multilayer_perceptron.py:541: ConvergenceWarning: lbfgs failed to converge (status=2):\n",
      "ABNORMAL_TERMINATION_IN_LNSRCH.\n",
      "\n",
      "Increase the number of iterations (max_iter) or scale the data as shown in:\n",
      "    https://scikit-learn.org/stable/modules/preprocessing.html\n",
      "  self.n_iter_ = _check_optimize_result(\"lbfgs\", opt_res, self.max_iter)\n"
     ]
    },
    {
     "name": "stdout",
     "output_type": "stream",
     "text": [
      "From ANN, I know that the percentage of satisfied value same rate is 50.6 %\n",
      "Data number 382\n",
      "From ANN, I know that the percentage of satisfied value same rate is 47.4 %\n",
      "Data number 383\n",
      "From ANN, I know that the percentage of satisfied value same rate is 48.2 %\n",
      "Data number 384\n"
     ]
    },
    {
     "name": "stderr",
     "output_type": "stream",
     "text": [
      "C:\\Users\\yosua\\anaconda3\\envs\\DataSpell\\lib\\site-packages\\sklearn\\neural_network\\_multilayer_perceptron.py:541: ConvergenceWarning: lbfgs failed to converge (status=2):\n",
      "ABNORMAL_TERMINATION_IN_LNSRCH.\n",
      "\n",
      "Increase the number of iterations (max_iter) or scale the data as shown in:\n",
      "    https://scikit-learn.org/stable/modules/preprocessing.html\n",
      "  self.n_iter_ = _check_optimize_result(\"lbfgs\", opt_res, self.max_iter)\n"
     ]
    },
    {
     "name": "stdout",
     "output_type": "stream",
     "text": [
      "From ANN, I know that the percentage of satisfied value same rate is 50.2 %\n",
      "Data number 385\n",
      "From ANN, I know that the percentage of satisfied value same rate is 49.2 %\n",
      "Data number 386\n",
      "From ANN, I know that the percentage of satisfied value same rate is 52.6 %\n",
      "Data number 387\n",
      "From ANN, I know that the percentage of satisfied value same rate is 52.6 %\n",
      "Data number 388\n"
     ]
    },
    {
     "name": "stderr",
     "output_type": "stream",
     "text": [
      "C:\\Users\\yosua\\anaconda3\\envs\\DataSpell\\lib\\site-packages\\sklearn\\neural_network\\_multilayer_perceptron.py:541: ConvergenceWarning: lbfgs failed to converge (status=2):\n",
      "ABNORMAL_TERMINATION_IN_LNSRCH.\n",
      "\n",
      "Increase the number of iterations (max_iter) or scale the data as shown in:\n",
      "    https://scikit-learn.org/stable/modules/preprocessing.html\n",
      "  self.n_iter_ = _check_optimize_result(\"lbfgs\", opt_res, self.max_iter)\n",
      "C:\\Users\\yosua\\anaconda3\\envs\\DataSpell\\lib\\site-packages\\sklearn\\neural_network\\_multilayer_perceptron.py:541: ConvergenceWarning: lbfgs failed to converge (status=2):\n",
      "ABNORMAL_TERMINATION_IN_LNSRCH.\n",
      "\n",
      "Increase the number of iterations (max_iter) or scale the data as shown in:\n",
      "    https://scikit-learn.org/stable/modules/preprocessing.html\n",
      "  self.n_iter_ = _check_optimize_result(\"lbfgs\", opt_res, self.max_iter)\n"
     ]
    },
    {
     "name": "stdout",
     "output_type": "stream",
     "text": [
      "From ANN, I know that the percentage of satisfied value same rate is 49.2 %\n",
      "Data number 389\n",
      "From ANN, I know that the percentage of satisfied value same rate is 52.6 %\n",
      "Data number 390\n",
      "From ANN, I know that the percentage of satisfied value same rate is 52.6 %\n",
      "Data number 391\n",
      "From ANN, I know that the percentage of satisfied value same rate is 47.4 %\n",
      "Data number 392\n",
      "From ANN, I know that the percentage of satisfied value same rate is 50.2 %\n",
      "Data number 393\n",
      "From ANN, I know that the percentage of satisfied value same rate is 49.2 %\n",
      "Data number 394\n",
      "From ANN, I know that the percentage of satisfied value same rate is 52.6 %\n",
      "Data number 395\n"
     ]
    },
    {
     "name": "stderr",
     "output_type": "stream",
     "text": [
      "C:\\Users\\yosua\\anaconda3\\envs\\DataSpell\\lib\\site-packages\\sklearn\\neural_network\\_multilayer_perceptron.py:541: ConvergenceWarning: lbfgs failed to converge (status=2):\n",
      "ABNORMAL_TERMINATION_IN_LNSRCH.\n",
      "\n",
      "Increase the number of iterations (max_iter) or scale the data as shown in:\n",
      "    https://scikit-learn.org/stable/modules/preprocessing.html\n",
      "  self.n_iter_ = _check_optimize_result(\"lbfgs\", opt_res, self.max_iter)\n"
     ]
    },
    {
     "name": "stdout",
     "output_type": "stream",
     "text": [
      "From ANN, I know that the percentage of satisfied value same rate is 48.4 %\n",
      "Data number 396\n",
      "From ANN, I know that the percentage of satisfied value same rate is 47.4 %\n",
      "Data number 397\n",
      "From ANN, I know that the percentage of satisfied value same rate is 47.4 %\n",
      "Data number 398\n",
      "From ANN, I know that the percentage of satisfied value same rate is 52.6 %\n",
      "Data number 399\n",
      "From ANN, I know that the percentage of satisfied value same rate is 47.4 %\n",
      "Data number 400\n",
      "From ANN, I know that the percentage of satisfied value same rate is 48.2 %\n",
      "Data number 401\n",
      "From ANN, I know that the percentage of satisfied value same rate is 47.4 %\n",
      "Data number 402\n",
      "From ANN, I know that the percentage of satisfied value same rate is 48.2 %\n",
      "Data number 403\n",
      "From ANN, I know that the percentage of satisfied value same rate is 52.6 %\n",
      "Data number 404\n",
      "From ANN, I know that the percentage of satisfied value same rate is 47.4 %\n",
      "Data number 405\n",
      "From ANN, I know that the percentage of satisfied value same rate is 47.4 %\n",
      "Data number 406\n",
      "From ANN, I know that the percentage of satisfied value same rate is 52.6 %\n",
      "Data number 407\n"
     ]
    },
    {
     "name": "stderr",
     "output_type": "stream",
     "text": [
      "C:\\Users\\yosua\\anaconda3\\envs\\DataSpell\\lib\\site-packages\\sklearn\\neural_network\\_multilayer_perceptron.py:541: ConvergenceWarning: lbfgs failed to converge (status=2):\n",
      "ABNORMAL_TERMINATION_IN_LNSRCH.\n",
      "\n",
      "Increase the number of iterations (max_iter) or scale the data as shown in:\n",
      "    https://scikit-learn.org/stable/modules/preprocessing.html\n",
      "  self.n_iter_ = _check_optimize_result(\"lbfgs\", opt_res, self.max_iter)\n"
     ]
    },
    {
     "name": "stdout",
     "output_type": "stream",
     "text": [
      "From ANN, I know that the percentage of satisfied value same rate is 49.2 %\n",
      "Data number 408\n",
      "From ANN, I know that the percentage of satisfied value same rate is 47.4 %\n",
      "Data number 409\n",
      "From ANN, I know that the percentage of satisfied value same rate is 48.2 %\n",
      "Data number 410\n",
      "From ANN, I know that the percentage of satisfied value same rate is 48.4 %\n",
      "Data number 411\n",
      "From ANN, I know that the percentage of satisfied value same rate is 47.4 %\n",
      "Data number 412\n",
      "From ANN, I know that the percentage of satisfied value same rate is 47.4 %\n",
      "Data number 413\n",
      "From ANN, I know that the percentage of satisfied value same rate is 47.4 %\n",
      "Data number 414\n",
      "From ANN, I know that the percentage of satisfied value same rate is 48.2 %\n",
      "Data number 415\n",
      "From ANN, I know that the percentage of satisfied value same rate is 50.0 %\n",
      "Data number 416\n",
      "From ANN, I know that the percentage of satisfied value same rate is 48.2 %\n",
      "Data number 417\n",
      "From ANN, I know that the percentage of satisfied value same rate is 52.6 %\n",
      "Data number 418\n"
     ]
    },
    {
     "name": "stderr",
     "output_type": "stream",
     "text": [
      "C:\\Users\\yosua\\anaconda3\\envs\\DataSpell\\lib\\site-packages\\sklearn\\neural_network\\_multilayer_perceptron.py:541: ConvergenceWarning: lbfgs failed to converge (status=2):\n",
      "ABNORMAL_TERMINATION_IN_LNSRCH.\n",
      "\n",
      "Increase the number of iterations (max_iter) or scale the data as shown in:\n",
      "    https://scikit-learn.org/stable/modules/preprocessing.html\n",
      "  self.n_iter_ = _check_optimize_result(\"lbfgs\", opt_res, self.max_iter)\n"
     ]
    },
    {
     "name": "stdout",
     "output_type": "stream",
     "text": [
      "From ANN, I know that the percentage of satisfied value same rate is 52.6 %\n",
      "Data number 419\n",
      "From ANN, I know that the percentage of satisfied value same rate is 49.2 %\n",
      "Data number 420\n",
      "From ANN, I know that the percentage of satisfied value same rate is 47.4 %\n",
      "Data number 421\n",
      "From ANN, I know that the percentage of satisfied value same rate is 52.6 %\n",
      "Data number 422\n",
      "From ANN, I know that the percentage of satisfied value same rate is 47.4 %\n",
      "Data number 423\n"
     ]
    },
    {
     "name": "stderr",
     "output_type": "stream",
     "text": [
      "C:\\Users\\yosua\\anaconda3\\envs\\DataSpell\\lib\\site-packages\\sklearn\\neural_network\\_multilayer_perceptron.py:541: ConvergenceWarning: lbfgs failed to converge (status=2):\n",
      "ABNORMAL_TERMINATION_IN_LNSRCH.\n",
      "\n",
      "Increase the number of iterations (max_iter) or scale the data as shown in:\n",
      "    https://scikit-learn.org/stable/modules/preprocessing.html\n",
      "  self.n_iter_ = _check_optimize_result(\"lbfgs\", opt_res, self.max_iter)\n"
     ]
    },
    {
     "name": "stdout",
     "output_type": "stream",
     "text": [
      "From ANN, I know that the percentage of satisfied value same rate is 52.6 %\n",
      "Data number 424\n",
      "From ANN, I know that the percentage of satisfied value same rate is 47.4 %\n",
      "Data number 425\n",
      "From ANN, I know that the percentage of satisfied value same rate is 49.2 %\n",
      "Data number 426\n",
      "From ANN, I know that the percentage of satisfied value same rate is 47.4 %\n",
      "Data number 427\n",
      "From ANN, I know that the percentage of satisfied value same rate is 52.6 %\n",
      "Data number 428\n",
      "From ANN, I know that the percentage of satisfied value same rate is 52.6 %\n",
      "Data number 429\n"
     ]
    },
    {
     "name": "stderr",
     "output_type": "stream",
     "text": [
      "C:\\Users\\yosua\\anaconda3\\envs\\DataSpell\\lib\\site-packages\\sklearn\\neural_network\\_multilayer_perceptron.py:541: ConvergenceWarning: lbfgs failed to converge (status=2):\n",
      "ABNORMAL_TERMINATION_IN_LNSRCH.\n",
      "\n",
      "Increase the number of iterations (max_iter) or scale the data as shown in:\n",
      "    https://scikit-learn.org/stable/modules/preprocessing.html\n",
      "  self.n_iter_ = _check_optimize_result(\"lbfgs\", opt_res, self.max_iter)\n"
     ]
    },
    {
     "name": "stdout",
     "output_type": "stream",
     "text": [
      "From ANN, I know that the percentage of satisfied value same rate is 52.6 %\n",
      "Data number 430\n",
      "From ANN, I know that the percentage of satisfied value same rate is 52.6 %\n",
      "Data number 431\n",
      "From ANN, I know that the percentage of satisfied value same rate is 50.2 %\n",
      "Data number 432\n",
      "From ANN, I know that the percentage of satisfied value same rate is 47.4 %\n",
      "Data number 433\n",
      "From ANN, I know that the percentage of satisfied value same rate is 52.6 %\n",
      "Data number 434\n"
     ]
    },
    {
     "name": "stderr",
     "output_type": "stream",
     "text": [
      "C:\\Users\\yosua\\anaconda3\\envs\\DataSpell\\lib\\site-packages\\sklearn\\neural_network\\_multilayer_perceptron.py:541: ConvergenceWarning: lbfgs failed to converge (status=2):\n",
      "ABNORMAL_TERMINATION_IN_LNSRCH.\n",
      "\n",
      "Increase the number of iterations (max_iter) or scale the data as shown in:\n",
      "    https://scikit-learn.org/stable/modules/preprocessing.html\n",
      "  self.n_iter_ = _check_optimize_result(\"lbfgs\", opt_res, self.max_iter)\n"
     ]
    },
    {
     "name": "stdout",
     "output_type": "stream",
     "text": [
      "From ANN, I know that the percentage of satisfied value same rate is 48.2 %\n",
      "Data number 435\n",
      "From ANN, I know that the percentage of satisfied value same rate is 49.2 %\n",
      "Data number 436\n",
      "From ANN, I know that the percentage of satisfied value same rate is 52.6 %\n",
      "Data number 437\n",
      "From ANN, I know that the percentage of satisfied value same rate is 52.6 %\n",
      "Data number 438\n",
      "From ANN, I know that the percentage of satisfied value same rate is 52.6 %\n",
      "Data number 439\n",
      "From ANN, I know that the percentage of satisfied value same rate is 50.0 %\n",
      "Data number 440\n",
      "From ANN, I know that the percentage of satisfied value same rate is 52.6 %\n",
      "Data number 441\n",
      "From ANN, I know that the percentage of satisfied value same rate is 49.2 %\n",
      "Data number 442\n",
      "From ANN, I know that the percentage of satisfied value same rate is 50.0 %\n",
      "Data number 443\n",
      "From ANN, I know that the percentage of satisfied value same rate is 52.6 %\n",
      "Data number 444\n",
      "From ANN, I know that the percentage of satisfied value same rate is 49.2 %\n",
      "Data number 445\n",
      "From ANN, I know that the percentage of satisfied value same rate is 52.6 %\n",
      "Data number 446\n",
      "From ANN, I know that the percentage of satisfied value same rate is 47.4 %\n",
      "Data number 447\n",
      "From ANN, I know that the percentage of satisfied value same rate is 52.6 %\n",
      "Data number 448\n",
      "From ANN, I know that the percentage of satisfied value same rate is 52.6 %\n",
      "Data number 449\n",
      "From ANN, I know that the percentage of satisfied value same rate is 52.6 %\n",
      "Data number 450\n",
      "From ANN, I know that the percentage of satisfied value same rate is 47.4 %\n",
      "Data number 451\n",
      "From ANN, I know that the percentage of satisfied value same rate is 49.2 %\n",
      "Data number 452\n",
      "From ANN, I know that the percentage of satisfied value same rate is 48.2 %\n",
      "Data number 453\n"
     ]
    },
    {
     "name": "stderr",
     "output_type": "stream",
     "text": [
      "C:\\Users\\yosua\\anaconda3\\envs\\DataSpell\\lib\\site-packages\\sklearn\\neural_network\\_multilayer_perceptron.py:541: ConvergenceWarning: lbfgs failed to converge (status=2):\n",
      "ABNORMAL_TERMINATION_IN_LNSRCH.\n",
      "\n",
      "Increase the number of iterations (max_iter) or scale the data as shown in:\n",
      "    https://scikit-learn.org/stable/modules/preprocessing.html\n",
      "  self.n_iter_ = _check_optimize_result(\"lbfgs\", opt_res, self.max_iter)\n"
     ]
    },
    {
     "name": "stdout",
     "output_type": "stream",
     "text": [
      "From ANN, I know that the percentage of satisfied value same rate is 52.6 %\n",
      "Data number 454\n",
      "From ANN, I know that the percentage of satisfied value same rate is 47.4 %\n",
      "Data number 455\n",
      "From ANN, I know that the percentage of satisfied value same rate is 48.0 %\n",
      "Data number 456\n"
     ]
    },
    {
     "name": "stderr",
     "output_type": "stream",
     "text": [
      "C:\\Users\\yosua\\anaconda3\\envs\\DataSpell\\lib\\site-packages\\sklearn\\neural_network\\_multilayer_perceptron.py:541: ConvergenceWarning: lbfgs failed to converge (status=2):\n",
      "ABNORMAL_TERMINATION_IN_LNSRCH.\n",
      "\n",
      "Increase the number of iterations (max_iter) or scale the data as shown in:\n",
      "    https://scikit-learn.org/stable/modules/preprocessing.html\n",
      "  self.n_iter_ = _check_optimize_result(\"lbfgs\", opt_res, self.max_iter)\n"
     ]
    },
    {
     "name": "stdout",
     "output_type": "stream",
     "text": [
      "From ANN, I know that the percentage of satisfied value same rate is 47.4 %\n",
      "Data number 457\n",
      "From ANN, I know that the percentage of satisfied value same rate is 49.2 %\n",
      "Data number 458\n",
      "From ANN, I know that the percentage of satisfied value same rate is 49.2 %\n",
      "Data number 459\n",
      "From ANN, I know that the percentage of satisfied value same rate is 49.2 %\n",
      "Data number 460\n",
      "From ANN, I know that the percentage of satisfied value same rate is 52.6 %\n",
      "Data number 461\n"
     ]
    },
    {
     "name": "stderr",
     "output_type": "stream",
     "text": [
      "C:\\Users\\yosua\\anaconda3\\envs\\DataSpell\\lib\\site-packages\\sklearn\\neural_network\\_multilayer_perceptron.py:541: ConvergenceWarning: lbfgs failed to converge (status=2):\n",
      "ABNORMAL_TERMINATION_IN_LNSRCH.\n",
      "\n",
      "Increase the number of iterations (max_iter) or scale the data as shown in:\n",
      "    https://scikit-learn.org/stable/modules/preprocessing.html\n",
      "  self.n_iter_ = _check_optimize_result(\"lbfgs\", opt_res, self.max_iter)\n"
     ]
    },
    {
     "name": "stdout",
     "output_type": "stream",
     "text": [
      "From ANN, I know that the percentage of satisfied value same rate is 48.2 %\n",
      "Data number 462\n",
      "From ANN, I know that the percentage of satisfied value same rate is 52.6 %\n",
      "Data number 463\n",
      "From ANN, I know that the percentage of satisfied value same rate is 52.6 %\n",
      "Data number 464\n",
      "From ANN, I know that the percentage of satisfied value same rate is 52.6 %\n",
      "Data number 465\n"
     ]
    },
    {
     "name": "stderr",
     "output_type": "stream",
     "text": [
      "C:\\Users\\yosua\\anaconda3\\envs\\DataSpell\\lib\\site-packages\\sklearn\\neural_network\\_multilayer_perceptron.py:541: ConvergenceWarning: lbfgs failed to converge (status=2):\n",
      "ABNORMAL_TERMINATION_IN_LNSRCH.\n",
      "\n",
      "Increase the number of iterations (max_iter) or scale the data as shown in:\n",
      "    https://scikit-learn.org/stable/modules/preprocessing.html\n",
      "  self.n_iter_ = _check_optimize_result(\"lbfgs\", opt_res, self.max_iter)\n",
      "C:\\Users\\yosua\\anaconda3\\envs\\DataSpell\\lib\\site-packages\\sklearn\\neural_network\\_multilayer_perceptron.py:541: ConvergenceWarning: lbfgs failed to converge (status=2):\n",
      "ABNORMAL_TERMINATION_IN_LNSRCH.\n",
      "\n",
      "Increase the number of iterations (max_iter) or scale the data as shown in:\n",
      "    https://scikit-learn.org/stable/modules/preprocessing.html\n",
      "  self.n_iter_ = _check_optimize_result(\"lbfgs\", opt_res, self.max_iter)\n",
      "C:\\Users\\yosua\\anaconda3\\envs\\DataSpell\\lib\\site-packages\\sklearn\\neural_network\\_multilayer_perceptron.py:541: ConvergenceWarning: lbfgs failed to converge (status=2):\n",
      "ABNORMAL_TERMINATION_IN_LNSRCH.\n",
      "\n",
      "Increase the number of iterations (max_iter) or scale the data as shown in:\n",
      "    https://scikit-learn.org/stable/modules/preprocessing.html\n",
      "  self.n_iter_ = _check_optimize_result(\"lbfgs\", opt_res, self.max_iter)\n"
     ]
    },
    {
     "name": "stdout",
     "output_type": "stream",
     "text": [
      "From ANN, I know that the percentage of satisfied value same rate is 47.4 %\n",
      "Data number 466\n",
      "From ANN, I know that the percentage of satisfied value same rate is 48.2 %\n",
      "Data number 467\n",
      "From ANN, I know that the percentage of satisfied value same rate is 47.4 %\n",
      "Data number 468\n",
      "From ANN, I know that the percentage of satisfied value same rate is 52.6 %\n",
      "Data number 469\n",
      "From ANN, I know that the percentage of satisfied value same rate is 52.6 %\n",
      "Data number 470\n",
      "From ANN, I know that the percentage of satisfied value same rate is 52.6 %\n",
      "Data number 471\n",
      "From ANN, I know that the percentage of satisfied value same rate is 50.0 %\n",
      "Data number 472\n",
      "From ANN, I know that the percentage of satisfied value same rate is 47.8 %\n",
      "Data number 473\n",
      "From ANN, I know that the percentage of satisfied value same rate is 48.4 %\n",
      "Data number 474\n",
      "From ANN, I know that the percentage of satisfied value same rate is 52.6 %\n",
      "Data number 475\n",
      "From ANN, I know that the percentage of satisfied value same rate is 47.4 %\n",
      "Data number 476\n",
      "From ANN, I know that the percentage of satisfied value same rate is 47.4 %\n",
      "Data number 477\n",
      "From ANN, I know that the percentage of satisfied value same rate is 52.6 %\n",
      "Data number 478\n"
     ]
    },
    {
     "name": "stderr",
     "output_type": "stream",
     "text": [
      "C:\\Users\\yosua\\anaconda3\\envs\\DataSpell\\lib\\site-packages\\sklearn\\neural_network\\_multilayer_perceptron.py:541: ConvergenceWarning: lbfgs failed to converge (status=2):\n",
      "ABNORMAL_TERMINATION_IN_LNSRCH.\n",
      "\n",
      "Increase the number of iterations (max_iter) or scale the data as shown in:\n",
      "    https://scikit-learn.org/stable/modules/preprocessing.html\n",
      "  self.n_iter_ = _check_optimize_result(\"lbfgs\", opt_res, self.max_iter)\n",
      "C:\\Users\\yosua\\anaconda3\\envs\\DataSpell\\lib\\site-packages\\sklearn\\neural_network\\_multilayer_perceptron.py:541: ConvergenceWarning: lbfgs failed to converge (status=2):\n",
      "ABNORMAL_TERMINATION_IN_LNSRCH.\n",
      "\n",
      "Increase the number of iterations (max_iter) or scale the data as shown in:\n",
      "    https://scikit-learn.org/stable/modules/preprocessing.html\n",
      "  self.n_iter_ = _check_optimize_result(\"lbfgs\", opt_res, self.max_iter)\n"
     ]
    },
    {
     "name": "stdout",
     "output_type": "stream",
     "text": [
      "From ANN, I know that the percentage of satisfied value same rate is 52.6 %\n",
      "Data number 479\n",
      "From ANN, I know that the percentage of satisfied value same rate is 47.4 %\n",
      "Data number 480\n",
      "From ANN, I know that the percentage of satisfied value same rate is 52.6 %\n",
      "Data number 481\n",
      "From ANN, I know that the percentage of satisfied value same rate is 52.6 %\n",
      "Data number 482\n",
      "From ANN, I know that the percentage of satisfied value same rate is 47.4 %\n",
      "Data number 483\n",
      "From ANN, I know that the percentage of satisfied value same rate is 48.2 %\n",
      "Data number 484\n"
     ]
    },
    {
     "name": "stderr",
     "output_type": "stream",
     "text": [
      "C:\\Users\\yosua\\anaconda3\\envs\\DataSpell\\lib\\site-packages\\sklearn\\neural_network\\_multilayer_perceptron.py:541: ConvergenceWarning: lbfgs failed to converge (status=2):\n",
      "ABNORMAL_TERMINATION_IN_LNSRCH.\n",
      "\n",
      "Increase the number of iterations (max_iter) or scale the data as shown in:\n",
      "    https://scikit-learn.org/stable/modules/preprocessing.html\n",
      "  self.n_iter_ = _check_optimize_result(\"lbfgs\", opt_res, self.max_iter)\n",
      "C:\\Users\\yosua\\anaconda3\\envs\\DataSpell\\lib\\site-packages\\sklearn\\neural_network\\_multilayer_perceptron.py:541: ConvergenceWarning: lbfgs failed to converge (status=2):\n",
      "ABNORMAL_TERMINATION_IN_LNSRCH.\n",
      "\n",
      "Increase the number of iterations (max_iter) or scale the data as shown in:\n",
      "    https://scikit-learn.org/stable/modules/preprocessing.html\n",
      "  self.n_iter_ = _check_optimize_result(\"lbfgs\", opt_res, self.max_iter)\n",
      "C:\\Users\\yosua\\anaconda3\\envs\\DataSpell\\lib\\site-packages\\sklearn\\neural_network\\_multilayer_perceptron.py:541: ConvergenceWarning: lbfgs failed to converge (status=2):\n",
      "ABNORMAL_TERMINATION_IN_LNSRCH.\n",
      "\n",
      "Increase the number of iterations (max_iter) or scale the data as shown in:\n",
      "    https://scikit-learn.org/stable/modules/preprocessing.html\n",
      "  self.n_iter_ = _check_optimize_result(\"lbfgs\", opt_res, self.max_iter)\n"
     ]
    },
    {
     "name": "stdout",
     "output_type": "stream",
     "text": [
      "From ANN, I know that the percentage of satisfied value same rate is 52.6 %\n",
      "Data number 485\n",
      "From ANN, I know that the percentage of satisfied value same rate is 52.6 %\n",
      "Data number 486\n",
      "From ANN, I know that the percentage of satisfied value same rate is 52.6 %\n",
      "Data number 487\n",
      "From ANN, I know that the percentage of satisfied value same rate is 52.6 %\n",
      "Data number 488\n",
      "From ANN, I know that the percentage of satisfied value same rate is 49.2 %\n",
      "Data number 489\n",
      "From ANN, I know that the percentage of satisfied value same rate is 49.8 %\n",
      "Data number 490\n",
      "From ANN, I know that the percentage of satisfied value same rate is 52.6 %\n",
      "Data number 491\n",
      "From ANN, I know that the percentage of satisfied value same rate is 49.2 %\n",
      "Data number 492\n",
      "From ANN, I know that the percentage of satisfied value same rate is 52.6 %\n",
      "Data number 493\n",
      "From ANN, I know that the percentage of satisfied value same rate is 52.6 %\n",
      "Data number 494\n",
      "From ANN, I know that the percentage of satisfied value same rate is 48.4 %\n",
      "Data number 495\n",
      "From ANN, I know that the percentage of satisfied value same rate is 47.4 %\n",
      "Data number 496\n"
     ]
    },
    {
     "name": "stderr",
     "output_type": "stream",
     "text": [
      "C:\\Users\\yosua\\anaconda3\\envs\\DataSpell\\lib\\site-packages\\sklearn\\neural_network\\_multilayer_perceptron.py:541: ConvergenceWarning: lbfgs failed to converge (status=2):\n",
      "ABNORMAL_TERMINATION_IN_LNSRCH.\n",
      "\n",
      "Increase the number of iterations (max_iter) or scale the data as shown in:\n",
      "    https://scikit-learn.org/stable/modules/preprocessing.html\n",
      "  self.n_iter_ = _check_optimize_result(\"lbfgs\", opt_res, self.max_iter)\n"
     ]
    },
    {
     "name": "stdout",
     "output_type": "stream",
     "text": [
      "From ANN, I know that the percentage of satisfied value same rate is 52.6 %\n",
      "Data number 497\n",
      "From ANN, I know that the percentage of satisfied value same rate is 52.6 %\n",
      "Data number 498\n",
      "From ANN, I know that the percentage of satisfied value same rate is 48.4 %\n",
      "Data number 499\n",
      "The process has elapsed in 55 second.\n"
     ]
    }
   ],
   "source": [
    "report = []\n",
    "\n",
    "import time\n",
    "start = round(time.time())\n",
    "\n",
    "for e in range(500):\n",
    "    layer_combination = [\n",
    "        (20, 34, 34, 34, 20),\n",
    "        (25, 43, 43, 43, 25),\n",
    "        (20, 34, 34, 34, 34, 34, 34, 20),\n",
    "        (20, 34, 34, 34, 34, 34, 34, 34, 34, 34, 20),\n",
    "        (5, 8, 8, 8, 8, 8, 8, 8, 5),\n",
    "        (5, 8, 12, 8, 5),\n",
    "        (5, 8, 12, 12, 8, 5)\n",
    "    ]\n",
    "    hidden_layer = layer_combination[random.randint(0, 6)]\n",
    "    alpha = 10 ** (-1 * (random.randint(0, 8)))\n",
    "    learning_rate_init = 10 ** (-1 * random.randint(1, 6))\n",
    "    learning_rate = ['adaptive', 'constant'][random.randint(0, 1)]\n",
    "    epochs = random.randint(200, 999999)\n",
    "    optimizer = ['lbfgs', 'adam'][random.randint(0, 1)]\n",
    "\n",
    "    try:\n",
    "        percentage = training_function(\n",
    "            hidden_layer,\n",
    "            alpha,\n",
    "            learning_rate_init,\n",
    "            learning_rate,\n",
    "            epochs,\n",
    "            optimizer\n",
    "        )\n",
    "    except Exception as error_message:\n",
    "        percentage = 'NG: ' + error_message\n",
    "\n",
    "\n",
    "\n",
    "    report.append({\n",
    "        'model number #': (e + 1),\n",
    "        'hidden_layer': \",\".join(str(x) for x in hidden_layer),\n",
    "        'alpha': alpha,\n",
    "        'learning_rate_init': learning_rate_init,\n",
    "        'learning_rate': learning_rate,\n",
    "        'epochs': epochs,\n",
    "        'percentage': percentage\n",
    "    })\n",
    "\n",
    "    print(\"Data number\", e)\n",
    "\n",
    "\n",
    "import json\n",
    "with open('data.json', 'w') as f:\n",
    "    json.dump(report, f)\n",
    "\n",
    "print(\"The process has elapsed in\", (round(time.time()) - start), \"second.\")\n",
    "\n"
   ],
   "metadata": {
    "collapsed": false,
    "ExecuteTime": {
     "end_time": "2023-06-04T17:08:28.183320500Z",
     "start_time": "2023-06-04T17:07:32.969024700Z"
    }
   }
  }
 ],
 "metadata": {
  "kernelspec": {
   "display_name": "Python 3",
   "language": "python",
   "name": "python3"
  },
  "language_info": {
   "codemirror_mode": {
    "name": "ipython",
    "version": 2
   },
   "file_extension": ".py",
   "mimetype": "text/x-python",
   "name": "python",
   "nbconvert_exporter": "python",
   "pygments_lexer": "ipython2",
   "version": "2.7.6"
  }
 },
 "nbformat": 4,
 "nbformat_minor": 0
}

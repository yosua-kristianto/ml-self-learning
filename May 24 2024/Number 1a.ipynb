{
 "cells": [
  {
   "cell_type": "code",
   "execution_count": 55,
   "metadata": {},
   "outputs": [],
   "source": [
    "import numpy;\n",
    "import matplotlib.pyplot as plt;\n",
    "\n",
    "import tensorflow;\n",
    "from tensorflow.keras.initializers import TruncatedNormal;\n",
    "from tensorflow.keras.metrics import MeanSquaredError;\n",
    "\n",
    "from tqdm import tqdm;"
   ]
  },
  {
   "cell_type": "code",
   "execution_count": 76,
   "metadata": {},
   "outputs": [],
   "source": [
    "# This will enable Tensorflow's Tensor uses numpy behavior\n",
    "from tensorflow.python.ops.numpy_ops import np_config;\n",
    "np_config.enable_numpy_behavior();"
   ]
  },
  {
   "cell_type": "code",
   "execution_count": 2,
   "metadata": {},
   "outputs": [],
   "source": [
    "# Training data\n",
    "feature = numpy.array(\n",
    "    [\n",
    "        [0.08, 0.72], [0.26, 0.58], [0.45, 0.15], \n",
    "        [0.60, 0.30], [0.10, 1.0], [0.35, 0.95], \n",
    "        [0.70, 0.65], [0.92, 0.45]\n",
    "    ]);\n",
    "\n",
    "label = numpy.array([1, 1, 1, 1, -1, -1, -1, -1]);"
   ]
  },
  {
   "cell_type": "code",
   "execution_count": 176,
   "metadata": {},
   "outputs": [],
   "source": [
    "class AdalineLMS:\n",
    "\n",
    "    # Hyperparameters\n",
    "    def __init__(self, feature, label):\n",
    "        \n",
    "        self.learning_rate = 1e-1;\n",
    "        self.epoch = 200;\n",
    "\n",
    "        initializer = TruncatedNormal(mean = 0, stddev = 0.05)(shape = (1, 2)).numpy();\n",
    "\n",
    "        # Weight initial\n",
    "        self.weight_x1 = initializer[0][0];\n",
    "        self.weight_x2 = initializer[0][1];\n",
    "\n",
    "        # Bias just in case\n",
    "        # self.bias = initializer(shape = (1, 1))[0][0];\n",
    "\n",
    "        # Load dataset\n",
    "        self.feature = feature;\n",
    "        self.label = label;\n",
    "    \n",
    "        print(\"AdalineLMS initial configuration:\");\n",
    "        print(f\"weight x1 {self.weight_x1} - weight x2: {self.weight_x2}\");\n",
    "        print(\"\\n\\n\\n\");\n",
    "\n",
    "    # Mean Squared Error\n",
    "    def _mse(self, prediction):\n",
    "        return numpy.mean((self.label - prediction) ** 2);\n",
    "\n",
    "    # Feed Forward process\n",
    "    def forward(self):\n",
    "        predictions = [];\n",
    "\n",
    "        for i in self.feature:\n",
    "            prediction = (self.weight_x1 * i[0]) + (self.weight_x2 * i[1]);\n",
    "\n",
    "            predictions.append(prediction);\n",
    "\n",
    "        return predictions;\n",
    "\n",
    "    # Learning Rule: LMS Implementation\n",
    "    def learning_rule(self, predictions):\n",
    "\n",
    "        # new weight x1 = current weight + (learning rate x (ground truth - prediction) x x1\n",
    "        for i in tqdm(range(len(self.feature))):\n",
    "            new_weight = (self.weight_x1 + (self.learning_rate * (self.label[i] - predictions[i]) * self.feature[i]));\n",
    "\n",
    "            # print(f\"new_weight_x1: {new_weight[0]} - new_weight_x2: {new_weight[1]}\")\n",
    "    \n",
    "            self.weight_x1 = new_weight[0];\n",
    "            self.weight_x2 = new_weight[1];\n",
    "    \n",
    "    def train(self):\n",
    "\n",
    "        loss_history = [];\n",
    "        \n",
    "        # Loop 200 epochs\n",
    "        for i in range(self.epoch):\n",
    "            \n",
    "            print(f\"Epoch [{i + 1} / {self.epoch}] -\", end = \" \");\n",
    "\n",
    "            loss = 0.0;\n",
    "\n",
    "            # Forward pass \n",
    "            predictions = self.forward();\n",
    "\n",
    "            # Count current epoch's loss\n",
    "            loss = self._mse(predictions);\n",
    "\n",
    "            # Apply LMS to update weight\n",
    "            self.learning_rule(predictions);\n",
    "                \n",
    "\n",
    "            loss_history.append(loss);\n",
    "            print(f\"Epoch {i + 1} - loss: {round(loss, 4)} - weight x1: {self.weight_x1} - weight x2: {self.weight_x2}\\n\");\n",
    "\n",
    "         # Plotting MSE curve\n",
    "        plt.figure(figsize=(10, 6));\n",
    "        plt.plot(range(self.epoch), loss_history, label='MSE');\n",
    "        plt.xlabel('Epoch');\n",
    "        plt.ylabel('Mean Squared Error');\n",
    "        plt.title('MSE over Epochs');\n",
    "        plt.legend();\n",
    "        plt.show()           \n"
   ]
  },
  {
   "cell_type": "code",
   "execution_count": 177,
   "metadata": {},
   "outputs": [
    {
     "name": "stdout",
     "output_type": "stream",
     "text": [
      "AdalineLMS initial configuration:\n",
      "weight x1 0.0494680292904377 - weight x2: 0.032311584800481796\n",
      "\n",
      "\n",
      "\n",
      "\n",
      "Epoch [1 / 200] - "
     ]
    },
    {
     "name": "stderr",
     "output_type": "stream",
     "text": [
      "100%|██████████| 8/8 [00:00<?, ?it/s]\n"
     ]
    },
    {
     "name": "stdout",
     "output_type": "stream",
     "text": [
      "Epoch 1 - loss: 1.0207 - weight x1: -0.034625407509207756 - weight x2: 0.015196980095840966\n",
      "\n",
      "Epoch [2 / 200] - "
     ]
    },
    {
     "name": "stderr",
     "output_type": "stream",
     "text": [
      "100%|██████████| 8/8 [00:00<?, ?it/s]\n"
     ]
    },
    {
     "name": "stdout",
     "output_type": "stream",
     "text": [
      "Epoch 2 - loss: 0.9992 - weight x1: -0.09800609149426226 - weight x2: -0.05218187798593336\n",
      "\n",
      "Epoch [3 / 200] - "
     ]
    },
    {
     "name": "stderr",
     "output_type": "stream",
     "text": [
      "100%|██████████| 8/8 [00:00<?, ?it/s]\n"
     ]
    },
    {
     "name": "stdout",
     "output_type": "stream",
     "text": [
      "Epoch 3 - loss: 0.9723 - weight x1: -0.13620144575381238 - weight x2: -0.09454287586942675\n",
      "\n",
      "Epoch [4 / 200] - "
     ]
    },
    {
     "name": "stderr",
     "output_type": "stream",
     "text": [
      "100%|██████████| 8/8 [00:00<?, ?it/s]\n"
     ]
    },
    {
     "name": "stdout",
     "output_type": "stream",
     "text": [
      "Epoch 4 - loss: 0.9606 - weight x1: -0.15891062835951164 - weight x2: -0.11979956069854487\n",
      "\n",
      "Epoch [5 / 200] - "
     ]
    },
    {
     "name": "stderr",
     "output_type": "stream",
     "text": [
      "100%|██████████| 8/8 [00:00<?, ?it/s]\n"
     ]
    },
    {
     "name": "stdout",
     "output_type": "stream",
     "text": [
      "Epoch 5 - loss: 0.9553 - weight x1: -0.17240000986753778 - weight x2: -0.13480506614657728\n",
      "\n",
      "Epoch [6 / 200] - "
     ]
    },
    {
     "name": "stderr",
     "output_type": "stream",
     "text": [
      "100%|██████████| 8/8 [00:00<?, ?it/s]\n"
     ]
    },
    {
     "name": "stdout",
     "output_type": "stream",
     "text": [
      "Epoch 6 - loss: 0.9529 - weight x1: -0.18041226946542688 - weight x2: -0.14371797304109932\n",
      "\n",
      "Epoch [7 / 200] - "
     ]
    },
    {
     "name": "stderr",
     "output_type": "stream",
     "text": [
      "100%|██████████| 8/8 [00:00<00:00, 7985.35it/s]\n"
     ]
    },
    {
     "name": "stdout",
     "output_type": "stream",
     "text": [
      "Epoch 7 - loss: 0.9516 - weight x1: -0.18517127366993313 - weight x2: -0.14901193533143742\n",
      "\n",
      "Epoch [8 / 200] - "
     ]
    },
    {
     "name": "stderr",
     "output_type": "stream",
     "text": [
      "100%|██████████| 8/8 [00:00<?, ?it/s]\n"
     ]
    },
    {
     "name": "stdout",
     "output_type": "stream",
     "text": [
      "Epoch 8 - loss: 0.9509 - weight x1: -0.1879979561963186 - weight x2: -0.1521563645020664\n",
      "\n",
      "Epoch [9 / 200] - "
     ]
    },
    {
     "name": "stderr",
     "output_type": "stream",
     "text": [
      "100%|██████████| 8/8 [00:00<00:00, 8031.22it/s]\n"
     ]
    },
    {
     "name": "stdout",
     "output_type": "stream",
     "text": [
      "Epoch 9 - loss: 0.9506 - weight x1: -0.18967690700115253 - weight x2: -0.15402404573630002\n",
      "\n",
      "Epoch [10 / 200] - "
     ]
    },
    {
     "name": "stderr",
     "output_type": "stream",
     "text": [
      "100%|██████████| 8/8 [00:00<?, ?it/s]\n"
     ]
    },
    {
     "name": "stdout",
     "output_type": "stream",
     "text": [
      "Epoch 10 - loss: 0.9504 - weight x1: -0.1906741452034325 - weight x2: -0.15513338322948506\n",
      "\n",
      "Epoch [11 / 200] - "
     ]
    },
    {
     "name": "stderr",
     "output_type": "stream",
     "text": [
      "100%|██████████| 8/8 [00:00<?, ?it/s]\n"
     ]
    },
    {
     "name": "stdout",
     "output_type": "stream",
     "text": [
      "Epoch 11 - loss: 0.9502 - weight x1: -0.19126646990355212 - weight x2: -0.15579229099745215\n",
      "\n",
      "Epoch [12 / 200] - "
     ]
    },
    {
     "name": "stderr",
     "output_type": "stream",
     "text": [
      "100%|██████████| 8/8 [00:00<00:00, 8013.96it/s]\n"
     ]
    },
    {
     "name": "stdout",
     "output_type": "stream",
     "text": [
      "Epoch 12 - loss: 0.9502 - weight x1: -0.191618290110166 - weight x2: -0.15618365922339172\n",
      "\n",
      "Epoch [13 / 200] - "
     ]
    },
    {
     "name": "stderr",
     "output_type": "stream",
     "text": [
      "100%|██████████| 8/8 [00:00<?, ?it/s]\n"
     ]
    },
    {
     "name": "stdout",
     "output_type": "stream",
     "text": [
      "Epoch 13 - loss: 0.9501 - weight x1: -0.19182725903845282 - weight x2: -0.15641611829539115\n",
      "\n",
      "Epoch [14 / 200] - "
     ]
    },
    {
     "name": "stderr",
     "output_type": "stream",
     "text": [
      "100%|██████████| 8/8 [00:00<00:00, 7998.67it/s]\n"
     ]
    },
    {
     "name": "stdout",
     "output_type": "stream",
     "text": [
      "Epoch 14 - loss: 0.9501 - weight x1: -0.19195137929126488 - weight x2: -0.1565541908740351\n",
      "\n",
      "Epoch [15 / 200] - "
     ]
    },
    {
     "name": "stderr",
     "output_type": "stream",
     "text": [
      "100%|██████████| 8/8 [00:00<?, ?it/s]\n"
     ]
    },
    {
     "name": "stdout",
     "output_type": "stream",
     "text": [
      "Epoch 15 - loss: 0.9501 - weight x1: -0.19202510239107906 - weight x2: -0.1566362011686192\n",
      "\n",
      "Epoch [16 / 200] - "
     ]
    },
    {
     "name": "stderr",
     "output_type": "stream",
     "text": [
      "100%|██████████| 8/8 [00:00<?, ?it/s]\n"
     ]
    },
    {
     "name": "stdout",
     "output_type": "stream",
     "text": [
      "Epoch 16 - loss: 0.9501 - weight x1: -0.19206889134028815 - weight x2: -0.15668491242239474\n",
      "\n",
      "Epoch [17 / 200] - "
     ]
    },
    {
     "name": "stderr",
     "output_type": "stream",
     "text": [
      "100%|██████████| 8/8 [00:00<?, ?it/s]\n"
     ]
    },
    {
     "name": "stdout",
     "output_type": "stream",
     "text": [
      "Epoch 17 - loss: 0.9501 - weight x1: -0.19209490044839223 - weight x2: -0.15671384520767992\n",
      "\n",
      "Epoch [18 / 200] - "
     ]
    },
    {
     "name": "stderr",
     "output_type": "stream",
     "text": [
      "100%|██████████| 8/8 [00:00<?, ?it/s]\n"
     ]
    },
    {
     "name": "stdout",
     "output_type": "stream",
     "text": [
      "Epoch 18 - loss: 0.9501 - weight x1: -0.19211034895119009 - weight x2: -0.156731030272721\n",
      "\n",
      "Epoch [19 / 200] - "
     ]
    },
    {
     "name": "stderr",
     "output_type": "stream",
     "text": [
      "100%|██████████| 8/8 [00:00<?, ?it/s]\n"
     ]
    },
    {
     "name": "stdout",
     "output_type": "stream",
     "text": [
      "Epoch 19 - loss: 0.9501 - weight x1: -0.19211952482287853 - weight x2: -0.15674123760179604\n",
      "\n",
      "Epoch [20 / 200] - "
     ]
    },
    {
     "name": "stderr",
     "output_type": "stream",
     "text": [
      "100%|██████████| 8/8 [00:00<?, ?it/s]\n"
     ]
    },
    {
     "name": "stdout",
     "output_type": "stream",
     "text": [
      "Epoch 20 - loss: 0.9501 - weight x1: -0.19212497497053005 - weight x2: -0.1567473003991493\n",
      "\n",
      "Epoch [21 / 200] - "
     ]
    },
    {
     "name": "stderr",
     "output_type": "stream",
     "text": [
      "100%|██████████| 8/8 [00:00<00:00, 8012.04it/s]\n"
     ]
    },
    {
     "name": "stdout",
     "output_type": "stream",
     "text": [
      "Epoch 21 - loss: 0.9501 - weight x1: -0.19212821216808817 - weight x2: -0.15675090148925588\n",
      "\n",
      "Epoch [22 / 200] - "
     ]
    },
    {
     "name": "stderr",
     "output_type": "stream",
     "text": [
      "100%|██████████| 8/8 [00:00<?, ?it/s]\n"
     ]
    },
    {
     "name": "stdout",
     "output_type": "stream",
     "text": [
      "Epoch 22 - loss: 0.9501 - weight x1: -0.19213013495049705 - weight x2: -0.15675304041114294\n",
      "\n",
      "Epoch [23 / 200] - "
     ]
    },
    {
     "name": "stderr",
     "output_type": "stream",
     "text": [
      "100%|██████████| 8/8 [00:00<?, ?it/s]\n"
     ]
    },
    {
     "name": "stdout",
     "output_type": "stream",
     "text": [
      "Epoch 23 - loss: 0.9501 - weight x1: -0.19213127701616511 - weight x2: -0.1567543108561203\n",
      "\n",
      "Epoch [24 / 200] - "
     ]
    },
    {
     "name": "stderr",
     "output_type": "stream",
     "text": [
      "100%|██████████| 8/8 [00:00<00:00, 8031.22it/s]\n"
     ]
    },
    {
     "name": "stdout",
     "output_type": "stream",
     "text": [
      "Epoch 24 - loss: 0.9501 - weight x1: -0.1921319553633271 - weight x2: -0.15675506545611304\n",
      "\n",
      "Epoch [25 / 200] - "
     ]
    },
    {
     "name": "stderr",
     "output_type": "stream",
     "text": [
      "100%|██████████| 8/8 [00:00<?, ?it/s]\n"
     ]
    },
    {
     "name": "stdout",
     "output_type": "stream",
     "text": [
      "Epoch 25 - loss: 0.9501 - weight x1: -0.19213235827787495 - weight x2: -0.156755513662182\n",
      "\n",
      "Epoch [26 / 200] - "
     ]
    },
    {
     "name": "stderr",
     "output_type": "stream",
     "text": [
      "100%|██████████| 8/8 [00:00<?, ?it/s]\n"
     ]
    },
    {
     "name": "stdout",
     "output_type": "stream",
     "text": [
      "Epoch 26 - loss: 0.9501 - weight x1: -0.1921325975950593 - weight x2: -0.15675577988094974\n",
      "\n",
      "Epoch [27 / 200] - "
     ]
    },
    {
     "name": "stderr",
     "output_type": "stream",
     "text": [
      "100%|██████████| 8/8 [00:00<?, ?it/s]\n"
     ]
    },
    {
     "name": "stdout",
     "output_type": "stream",
     "text": [
      "Epoch 27 - loss: 0.9501 - weight x1: -0.1921327397411174 - weight x2: -0.15675593800560983\n",
      "\n",
      "Epoch [28 / 200] - "
     ]
    },
    {
     "name": "stderr",
     "output_type": "stream",
     "text": [
      "100%|██████████| 8/8 [00:00<?, ?it/s]\n"
     ]
    },
    {
     "name": "stdout",
     "output_type": "stream",
     "text": [
      "Epoch 28 - loss: 0.9501 - weight x1: -0.1921328241709167 - weight x2: -0.15675603192614126\n",
      "\n",
      "Epoch [29 / 200] - "
     ]
    },
    {
     "name": "stderr",
     "output_type": "stream",
     "text": [
      "100%|██████████| 8/8 [00:00<00:00, 7987.25it/s]\n"
     ]
    },
    {
     "name": "stdout",
     "output_type": "stream",
     "text": [
      "Epoch 29 - loss: 0.9501 - weight x1: -0.19213287431927184 - weight x2: -0.15675608771166016\n",
      "\n",
      "Epoch [30 / 200] - "
     ]
    },
    {
     "name": "stderr",
     "output_type": "stream",
     "text": [
      "100%|██████████| 8/8 [00:00<00:00, 7994.86it/s]\n"
     ]
    },
    {
     "name": "stdout",
     "output_type": "stream",
     "text": [
      "Epoch 30 - loss: 0.9501 - weight x1: -0.19213290410564518 - weight x2: -0.1567561208463121\n",
      "\n",
      "Epoch [31 / 200] - "
     ]
    },
    {
     "name": "stderr",
     "output_type": "stream",
     "text": [
      "100%|██████████| 8/8 [00:00<?, ?it/s]\n"
     ]
    },
    {
     "name": "stdout",
     "output_type": "stream",
     "text": [
      "Epoch 31 - loss: 0.9501 - weight x1: -0.19213292179771174 - weight x2: -0.15675614052713935\n",
      "\n",
      "Epoch [32 / 200] - "
     ]
    },
    {
     "name": "stderr",
     "output_type": "stream",
     "text": [
      "100%|██████████| 8/8 [00:00<00:00, 7983.45it/s]\n"
     ]
    },
    {
     "name": "stdout",
     "output_type": "stream",
     "text": [
      "Epoch 32 - loss: 0.9501 - weight x1: -0.19213293230618206 - weight x2: -0.15675615221686412\n",
      "\n",
      "Epoch [33 / 200] - "
     ]
    },
    {
     "name": "stderr",
     "output_type": "stream",
     "text": [
      "100%|██████████| 8/8 [00:00<?, ?it/s]\n"
     ]
    },
    {
     "name": "stdout",
     "output_type": "stream",
     "text": [
      "Epoch 33 - loss: 0.9501 - weight x1: -0.1921329385478468 - weight x2: -0.15675615916015279\n",
      "\n",
      "Epoch [34 / 200] - "
     ]
    },
    {
     "name": "stderr",
     "output_type": "stream",
     "text": [
      "100%|██████████| 8/8 [00:00<?, ?it/s]\n"
     ]
    },
    {
     "name": "stdout",
     "output_type": "stream",
     "text": [
      "Epoch 34 - loss: 0.9501 - weight x1: -0.19213294225517785 - weight x2: -0.15675616328422398\n",
      "\n",
      "Epoch [35 / 200] - "
     ]
    },
    {
     "name": "stderr",
     "output_type": "stream",
     "text": [
      "100%|██████████| 8/8 [00:00<?, ?it/s]\n"
     ]
    },
    {
     "name": "stdout",
     "output_type": "stream",
     "text": [
      "Epoch 35 - loss: 0.9501 - weight x1: -0.1921329444572032 - weight x2: -0.1567561657337784\n",
      "\n",
      "Epoch [36 / 200] - "
     ]
    },
    {
     "name": "stderr",
     "output_type": "stream",
     "text": [
      "100%|██████████| 8/8 [00:00<?, ?it/s]\n"
     ]
    },
    {
     "name": "stdout",
     "output_type": "stream",
     "text": [
      "Epoch 36 - loss: 0.9501 - weight x1: -0.19213294576512946 - weight x2: -0.1567561671887283\n",
      "\n",
      "Epoch [37 / 200] - "
     ]
    },
    {
     "name": "stderr",
     "output_type": "stream",
     "text": [
      "100%|██████████| 8/8 [00:00<00:00, 8013.96it/s]\n"
     ]
    },
    {
     "name": "stdout",
     "output_type": "stream",
     "text": [
      "Epoch 37 - loss: 0.9501 - weight x1: -0.19213294654199198 - weight x2: -0.15675616805291778\n",
      "\n",
      "Epoch [38 / 200] - "
     ]
    },
    {
     "name": "stderr",
     "output_type": "stream",
     "text": [
      "100%|██████████| 8/8 [00:00<00:00, 7508.26it/s]\n"
     ]
    },
    {
     "name": "stdout",
     "output_type": "stream",
     "text": [
      "Epoch 38 - loss: 0.9501 - weight x1: -0.1921329470034212 - weight x2: -0.15675616856621616\n",
      "\n",
      "Epoch [39 / 200] - "
     ]
    },
    {
     "name": "stderr",
     "output_type": "stream",
     "text": [
      "100%|██████████| 8/8 [00:00<?, ?it/s]\n"
     ]
    },
    {
     "name": "stdout",
     "output_type": "stream",
     "text": [
      "Epoch 39 - loss: 0.9501 - weight x1: -0.19213294727749408 - weight x2: -0.15675616887109747\n",
      "\n",
      "Epoch [40 / 200] - "
     ]
    },
    {
     "name": "stderr",
     "output_type": "stream",
     "text": [
      "100%|██████████| 8/8 [00:00<00:00, 3996.00it/s]\n"
     ]
    },
    {
     "name": "stdout",
     "output_type": "stream",
     "text": [
      "Epoch 40 - loss: 0.9501 - weight x1: -0.1921329474402838 - weight x2: -0.15675616905218637\n",
      "\n",
      "Epoch [41 / 200] - "
     ]
    },
    {
     "name": "stderr",
     "output_type": "stream",
     "text": [
      "100%|██████████| 8/8 [00:00<?, ?it/s]\n"
     ]
    },
    {
     "name": "stdout",
     "output_type": "stream",
     "text": [
      "Epoch 41 - loss: 0.9501 - weight x1: -0.19213294753697524 - weight x2: -0.15675616915974683\n",
      "\n",
      "Epoch [42 / 200] - "
     ]
    },
    {
     "name": "stderr",
     "output_type": "stream",
     "text": [
      "100%|██████████| 8/8 [00:00<?, ?it/s]\n"
     ]
    },
    {
     "name": "stdout",
     "output_type": "stream",
     "text": [
      "Epoch 42 - loss: 0.9501 - weight x1: -0.19213294759440658 - weight x2: -0.15675616922363403\n",
      "\n",
      "Epoch [43 / 200] - "
     ]
    },
    {
     "name": "stderr",
     "output_type": "stream",
     "text": [
      "100%|██████████| 8/8 [00:00<00:00, 7932.49it/s]\n"
     ]
    },
    {
     "name": "stdout",
     "output_type": "stream",
     "text": [
      "Epoch 43 - loss: 0.9501 - weight x1: -0.1921329476285188 - weight x2: -0.15675616926158079\n",
      "\n",
      "Epoch [44 / 200] - "
     ]
    },
    {
     "name": "stderr",
     "output_type": "stream",
     "text": [
      "100%|██████████| 8/8 [00:00<?, ?it/s]\n"
     ]
    },
    {
     "name": "stdout",
     "output_type": "stream",
     "text": [
      "Epoch 44 - loss: 0.9501 - weight x1: -0.19213294764878025 - weight x2: -0.15675616928411984\n",
      "\n",
      "Epoch [45 / 200] - "
     ]
    },
    {
     "name": "stderr",
     "output_type": "stream",
     "text": [
      "100%|██████████| 8/8 [00:00<?, ?it/s]\n"
     ]
    },
    {
     "name": "stdout",
     "output_type": "stream",
     "text": [
      "Epoch 45 - loss: 0.9501 - weight x1: -0.19213294766081485 - weight x2: -0.15675616929750721\n",
      "\n",
      "Epoch [46 / 200] - "
     ]
    },
    {
     "name": "stderr",
     "output_type": "stream",
     "text": [
      "100%|██████████| 8/8 [00:00<?, ?it/s]\n"
     ]
    },
    {
     "name": "stdout",
     "output_type": "stream",
     "text": [
      "Epoch 46 - loss: 0.9501 - weight x1: -0.19213294766796296 - weight x2: -0.15675616930545885\n",
      "\n",
      "Epoch [47 / 200] - "
     ]
    },
    {
     "name": "stderr",
     "output_type": "stream",
     "text": [
      "100%|██████████| 8/8 [00:00<?, ?it/s]\n"
     ]
    },
    {
     "name": "stdout",
     "output_type": "stream",
     "text": [
      "Epoch 47 - loss: 0.9501 - weight x1: -0.19213294767220868 - weight x2: -0.15675616931018188\n",
      "\n",
      "Epoch [48 / 200] - "
     ]
    },
    {
     "name": "stderr",
     "output_type": "stream",
     "text": [
      "100%|██████████| 8/8 [00:00<00:00, 5303.37it/s]\n"
     ]
    },
    {
     "name": "stdout",
     "output_type": "stream",
     "text": [
      "Epoch 48 - loss: 0.9501 - weight x1: -0.1921329476747305 - weight x2: -0.15675616931298716\n",
      "\n",
      "Epoch [49 / 200] - "
     ]
    },
    {
     "name": "stderr",
     "output_type": "stream",
     "text": [
      "100%|██████████| 8/8 [00:00<?, ?it/s]\n"
     ]
    },
    {
     "name": "stdout",
     "output_type": "stream",
     "text": [
      "Epoch 49 - loss: 0.9501 - weight x1: -0.1921329476762284 - weight x2: -0.15675616931465342\n",
      "\n",
      "Epoch [50 / 200] - "
     ]
    },
    {
     "name": "stderr",
     "output_type": "stream",
     "text": [
      "100%|██████████| 8/8 [00:00<?, ?it/s]\n"
     ]
    },
    {
     "name": "stdout",
     "output_type": "stream",
     "text": [
      "Epoch 50 - loss: 0.9501 - weight x1: -0.19213294767711808 - weight x2: -0.15675616931564312\n",
      "\n",
      "Epoch [51 / 200] - "
     ]
    },
    {
     "name": "stderr",
     "output_type": "stream",
     "text": [
      "100%|██████████| 8/8 [00:00<?, ?it/s]\n"
     ]
    },
    {
     "name": "stdout",
     "output_type": "stream",
     "text": [
      "Epoch 51 - loss: 0.9501 - weight x1: -0.19213294767764655 - weight x2: -0.15675616931623096\n",
      "\n",
      "Epoch [52 / 200] - "
     ]
    },
    {
     "name": "stderr",
     "output_type": "stream",
     "text": [
      "100%|██████████| 8/8 [00:00<?, ?it/s]\n"
     ]
    },
    {
     "name": "stdout",
     "output_type": "stream",
     "text": [
      "Epoch 52 - loss: 0.9501 - weight x1: -0.1921329476779604 - weight x2: -0.15675616931658012\n",
      "\n",
      "Epoch [53 / 200] - "
     ]
    },
    {
     "name": "stderr",
     "output_type": "stream",
     "text": [
      "100%|██████████| 8/8 [00:00<?, ?it/s]\n"
     ]
    },
    {
     "name": "stdout",
     "output_type": "stream",
     "text": [
      "Epoch 53 - loss: 0.9501 - weight x1: -0.19213294767814687 - weight x2: -0.15675616931678754\n",
      "\n",
      "Epoch [54 / 200] - "
     ]
    },
    {
     "name": "stderr",
     "output_type": "stream",
     "text": [
      "100%|██████████| 8/8 [00:00<?, ?it/s]\n"
     ]
    },
    {
     "name": "stdout",
     "output_type": "stream",
     "text": [
      "Epoch 54 - loss: 0.9501 - weight x1: -0.1921329476782576 - weight x2: -0.15675616931691072\n",
      "\n",
      "Epoch [55 / 200] - "
     ]
    },
    {
     "name": "stderr",
     "output_type": "stream",
     "text": [
      "100%|██████████| 8/8 [00:00<?, ?it/s]\n"
     ]
    },
    {
     "name": "stdout",
     "output_type": "stream",
     "text": [
      "Epoch 55 - loss: 0.9501 - weight x1: -0.1921329476783233 - weight x2: -0.15675616931698383\n",
      "\n",
      "Epoch [56 / 200] - "
     ]
    },
    {
     "name": "stderr",
     "output_type": "stream",
     "text": [
      "100%|██████████| 8/8 [00:00<00:00, 7991.05it/s]\n"
     ]
    },
    {
     "name": "stdout",
     "output_type": "stream",
     "text": [
      "Epoch 56 - loss: 0.9501 - weight x1: -0.1921329476783624 - weight x2: -0.1567561693170273\n",
      "\n",
      "Epoch [57 / 200] - "
     ]
    },
    {
     "name": "stderr",
     "output_type": "stream",
     "text": [
      "100%|██████████| 8/8 [00:00<?, ?it/s]\n"
     ]
    },
    {
     "name": "stdout",
     "output_type": "stream",
     "text": [
      "Epoch 57 - loss: 0.9501 - weight x1: -0.19213294767838562 - weight x2: -0.15675616931705313\n",
      "\n",
      "Epoch [58 / 200] - "
     ]
    },
    {
     "name": "stderr",
     "output_type": "stream",
     "text": [
      "100%|██████████| 8/8 [00:00<00:00, 7989.15it/s]\n"
     ]
    },
    {
     "name": "stdout",
     "output_type": "stream",
     "text": [
      "Epoch 58 - loss: 0.9501 - weight x1: -0.1921329476783994 - weight x2: -0.15675616931706846\n",
      "\n",
      "Epoch [59 / 200] - "
     ]
    },
    {
     "name": "stderr",
     "output_type": "stream",
     "text": [
      "100%|██████████| 8/8 [00:00<?, ?it/s]\n"
     ]
    },
    {
     "name": "stdout",
     "output_type": "stream",
     "text": [
      "Epoch 59 - loss: 0.9501 - weight x1: -0.19213294767840755 - weight x2: -0.15675616931707753\n",
      "\n",
      "Epoch [60 / 200] - "
     ]
    },
    {
     "name": "stderr",
     "output_type": "stream",
     "text": [
      "100%|██████████| 8/8 [00:00<?, ?it/s]\n"
     ]
    },
    {
     "name": "stdout",
     "output_type": "stream",
     "text": [
      "Epoch 60 - loss: 0.9501 - weight x1: -0.19213294767841238 - weight x2: -0.15675616931708292\n",
      "\n",
      "Epoch [61 / 200] - "
     ]
    },
    {
     "name": "stderr",
     "output_type": "stream",
     "text": [
      "100%|██████████| 8/8 [00:00<?, ?it/s]\n"
     ]
    },
    {
     "name": "stdout",
     "output_type": "stream",
     "text": [
      "Epoch 61 - loss: 0.9501 - weight x1: -0.19213294767841527 - weight x2: -0.15675616931708614\n",
      "\n",
      "Epoch [62 / 200] - "
     ]
    },
    {
     "name": "stderr",
     "output_type": "stream",
     "text": [
      "100%|██████████| 8/8 [00:00<?, ?it/s]\n"
     ]
    },
    {
     "name": "stdout",
     "output_type": "stream",
     "text": [
      "Epoch 62 - loss: 0.9501 - weight x1: -0.192132947678417 - weight x2: -0.15675616931708802\n",
      "\n",
      "Epoch [63 / 200] - "
     ]
    },
    {
     "name": "stderr",
     "output_type": "stream",
     "text": [
      "100%|██████████| 8/8 [00:00<?, ?it/s]\n"
     ]
    },
    {
     "name": "stdout",
     "output_type": "stream",
     "text": [
      "Epoch 63 - loss: 0.9501 - weight x1: -0.19213294767841801 - weight x2: -0.1567561693170892\n",
      "\n",
      "Epoch [64 / 200] - "
     ]
    },
    {
     "name": "stderr",
     "output_type": "stream",
     "text": [
      "100%|██████████| 8/8 [00:00<?, ?it/s]\n"
     ]
    },
    {
     "name": "stdout",
     "output_type": "stream",
     "text": [
      "Epoch 64 - loss: 0.9501 - weight x1: -0.19213294767841865 - weight x2: -0.15675616931708988\n",
      "\n",
      "Epoch [65 / 200] - "
     ]
    },
    {
     "name": "stderr",
     "output_type": "stream",
     "text": [
      "100%|██████████| 8/8 [00:00<?, ?it/s]\n"
     ]
    },
    {
     "name": "stdout",
     "output_type": "stream",
     "text": [
      "Epoch 65 - loss: 0.9501 - weight x1: -0.19213294767841904 - weight x2: -0.1567561693170903\n",
      "\n",
      "Epoch [66 / 200] - "
     ]
    },
    {
     "name": "stderr",
     "output_type": "stream",
     "text": [
      "100%|██████████| 8/8 [00:00<?, ?it/s]\n"
     ]
    },
    {
     "name": "stdout",
     "output_type": "stream",
     "text": [
      "Epoch 66 - loss: 0.9501 - weight x1: -0.19213294767841926 - weight x2: -0.15675616931709055\n",
      "\n",
      "Epoch [67 / 200] - "
     ]
    },
    {
     "name": "stderr",
     "output_type": "stream",
     "text": [
      "100%|██████████| 8/8 [00:00<?, ?it/s]\n"
     ]
    },
    {
     "name": "stdout",
     "output_type": "stream",
     "text": [
      "Epoch 67 - loss: 0.9501 - weight x1: -0.19213294767841937 - weight x2: -0.1567561693170907\n",
      "\n",
      "Epoch [68 / 200] - "
     ]
    },
    {
     "name": "stderr",
     "output_type": "stream",
     "text": [
      "100%|██████████| 8/8 [00:00<00:00, 8006.31it/s]\n"
     ]
    },
    {
     "name": "stdout",
     "output_type": "stream",
     "text": [
      "Epoch 68 - loss: 0.9501 - weight x1: -0.19213294767841943 - weight x2: -0.15675616931709077\n",
      "\n",
      "Epoch [69 / 200] - "
     ]
    },
    {
     "name": "stderr",
     "output_type": "stream",
     "text": [
      "100%|██████████| 8/8 [00:00<?, ?it/s]\n"
     ]
    },
    {
     "name": "stdout",
     "output_type": "stream",
     "text": [
      "Epoch 69 - loss: 0.9501 - weight x1: -0.19213294767841946 - weight x2: -0.15675616931709077\n",
      "\n",
      "Epoch [70 / 200] - "
     ]
    },
    {
     "name": "stderr",
     "output_type": "stream",
     "text": [
      "100%|██████████| 8/8 [00:00<?, ?it/s]\n"
     ]
    },
    {
     "name": "stdout",
     "output_type": "stream",
     "text": [
      "Epoch 70 - loss: 0.9501 - weight x1: -0.19213294767841949 - weight x2: -0.1567561693170908\n",
      "\n",
      "Epoch [71 / 200] - "
     ]
    },
    {
     "name": "stderr",
     "output_type": "stream",
     "text": [
      "100%|██████████| 8/8 [00:00<?, ?it/s]\n"
     ]
    },
    {
     "name": "stdout",
     "output_type": "stream",
     "text": [
      "Epoch 71 - loss: 0.9501 - weight x1: -0.19213294767841949 - weight x2: -0.15675616931709083\n",
      "\n",
      "Epoch [72 / 200] - "
     ]
    },
    {
     "name": "stderr",
     "output_type": "stream",
     "text": [
      "100%|██████████| 8/8 [00:00<00:00, 8013.96it/s]\n"
     ]
    },
    {
     "name": "stdout",
     "output_type": "stream",
     "text": [
      "Epoch 72 - loss: 0.9501 - weight x1: -0.19213294767841949 - weight x2: -0.15675616931709083\n",
      "\n",
      "Epoch [73 / 200] - "
     ]
    },
    {
     "name": "stderr",
     "output_type": "stream",
     "text": [
      "100%|██████████| 8/8 [00:00<?, ?it/s]\n"
     ]
    },
    {
     "name": "stdout",
     "output_type": "stream",
     "text": [
      "Epoch 73 - loss: 0.9501 - weight x1: -0.19213294767841949 - weight x2: -0.15675616931709083\n",
      "\n",
      "Epoch [74 / 200] - "
     ]
    },
    {
     "name": "stderr",
     "output_type": "stream",
     "text": [
      "100%|██████████| 8/8 [00:00<00:00, 7987.25it/s]\n"
     ]
    },
    {
     "name": "stdout",
     "output_type": "stream",
     "text": [
      "Epoch 74 - loss: 0.9501 - weight x1: -0.19213294767841949 - weight x2: -0.15675616931709083\n",
      "\n",
      "Epoch [75 / 200] - "
     ]
    },
    {
     "name": "stderr",
     "output_type": "stream",
     "text": [
      "100%|██████████| 8/8 [00:00<?, ?it/s]\n"
     ]
    },
    {
     "name": "stdout",
     "output_type": "stream",
     "text": [
      "Epoch 75 - loss: 0.9501 - weight x1: -0.19213294767841949 - weight x2: -0.15675616931709083\n",
      "\n",
      "Epoch [76 / 200] - "
     ]
    },
    {
     "name": "stderr",
     "output_type": "stream",
     "text": [
      "100%|██████████| 8/8 [00:00<?, ?it/s]\n"
     ]
    },
    {
     "name": "stdout",
     "output_type": "stream",
     "text": [
      "Epoch 76 - loss: 0.9501 - weight x1: -0.19213294767841949 - weight x2: -0.15675616931709083\n",
      "\n",
      "Epoch [77 / 200] - "
     ]
    },
    {
     "name": "stderr",
     "output_type": "stream",
     "text": [
      "100%|██████████| 8/8 [00:00<?, ?it/s]\n"
     ]
    },
    {
     "name": "stdout",
     "output_type": "stream",
     "text": [
      "Epoch 77 - loss: 0.9501 - weight x1: -0.19213294767841949 - weight x2: -0.15675616931709083\n",
      "\n",
      "Epoch [78 / 200] - "
     ]
    },
    {
     "name": "stderr",
     "output_type": "stream",
     "text": [
      "100%|██████████| 8/8 [00:00<?, ?it/s]\n"
     ]
    },
    {
     "name": "stdout",
     "output_type": "stream",
     "text": [
      "Epoch 78 - loss: 0.9501 - weight x1: -0.19213294767841949 - weight x2: -0.15675616931709083\n",
      "\n",
      "Epoch [79 / 200] - "
     ]
    },
    {
     "name": "stderr",
     "output_type": "stream",
     "text": [
      "100%|██████████| 8/8 [00:00<00:00, 8010.13it/s]\n"
     ]
    },
    {
     "name": "stdout",
     "output_type": "stream",
     "text": [
      "Epoch 79 - loss: 0.9501 - weight x1: -0.19213294767841949 - weight x2: -0.15675616931709083\n",
      "\n",
      "Epoch [80 / 200] - "
     ]
    },
    {
     "name": "stderr",
     "output_type": "stream",
     "text": [
      "100%|██████████| 8/8 [00:00<?, ?it/s]\n"
     ]
    },
    {
     "name": "stdout",
     "output_type": "stream",
     "text": [
      "Epoch 80 - loss: 0.9501 - weight x1: -0.19213294767841949 - weight x2: -0.15675616931709083\n",
      "\n",
      "Epoch [81 / 200] - "
     ]
    },
    {
     "name": "stderr",
     "output_type": "stream",
     "text": [
      "100%|██████████| 8/8 [00:00<?, ?it/s]\n"
     ]
    },
    {
     "name": "stdout",
     "output_type": "stream",
     "text": [
      "Epoch 81 - loss: 0.9501 - weight x1: -0.19213294767841949 - weight x2: -0.15675616931709083\n",
      "\n",
      "Epoch [82 / 200] - "
     ]
    },
    {
     "name": "stderr",
     "output_type": "stream",
     "text": [
      "100%|██████████| 8/8 [00:00<?, ?it/s]\n"
     ]
    },
    {
     "name": "stdout",
     "output_type": "stream",
     "text": [
      "Epoch 82 - loss: 0.9501 - weight x1: -0.19213294767841949 - weight x2: -0.15675616931709083\n",
      "\n",
      "Epoch [83 / 200] - "
     ]
    },
    {
     "name": "stderr",
     "output_type": "stream",
     "text": [
      "100%|██████████| 8/8 [00:00<?, ?it/s]\n"
     ]
    },
    {
     "name": "stdout",
     "output_type": "stream",
     "text": [
      "Epoch 83 - loss: 0.9501 - weight x1: -0.19213294767841949 - weight x2: -0.15675616931709083\n",
      "\n",
      "Epoch [84 / 200] - "
     ]
    },
    {
     "name": "stderr",
     "output_type": "stream",
     "text": [
      "100%|██████████| 8/8 [00:00<?, ?it/s]\n"
     ]
    },
    {
     "name": "stdout",
     "output_type": "stream",
     "text": [
      "Epoch 84 - loss: 0.9501 - weight x1: -0.19213294767841949 - weight x2: -0.15675616931709083\n",
      "\n",
      "Epoch [85 / 200] - "
     ]
    },
    {
     "name": "stderr",
     "output_type": "stream",
     "text": [
      "100%|██████████| 8/8 [00:00<?, ?it/s]\n"
     ]
    },
    {
     "name": "stdout",
     "output_type": "stream",
     "text": [
      "Epoch 85 - loss: 0.9501 - weight x1: -0.19213294767841949 - weight x2: -0.15675616931709083\n",
      "\n",
      "Epoch [86 / 200] - "
     ]
    },
    {
     "name": "stderr",
     "output_type": "stream",
     "text": [
      "100%|██████████| 8/8 [00:00<?, ?it/s]\n"
     ]
    },
    {
     "name": "stdout",
     "output_type": "stream",
     "text": [
      "Epoch 86 - loss: 0.9501 - weight x1: -0.19213294767841949 - weight x2: -0.15675616931709083\n",
      "\n",
      "Epoch [87 / 200] - "
     ]
    },
    {
     "name": "stderr",
     "output_type": "stream",
     "text": [
      "100%|██████████| 8/8 [00:00<00:00, 8013.96it/s]"
     ]
    },
    {
     "name": "stdout",
     "output_type": "stream",
     "text": [
      "Epoch 87 - loss: 0.9501 - weight x1: -0.19213294767841949 - weight x2: -0.15675616931709083\n",
      "\n",
      "Epoch [88 / 200] - "
     ]
    },
    {
     "name": "stderr",
     "output_type": "stream",
     "text": [
      "\n",
      "100%|██████████| 8/8 [00:00<?, ?it/s]\n"
     ]
    },
    {
     "name": "stdout",
     "output_type": "stream",
     "text": [
      "Epoch 88 - loss: 0.9501 - weight x1: -0.19213294767841949 - weight x2: -0.15675616931709083\n",
      "\n",
      "Epoch [89 / 200] - "
     ]
    },
    {
     "name": "stderr",
     "output_type": "stream",
     "text": [
      "100%|██████████| 8/8 [00:00<?, ?it/s]\n"
     ]
    },
    {
     "name": "stdout",
     "output_type": "stream",
     "text": [
      "Epoch 89 - loss: 0.9501 - weight x1: -0.19213294767841949 - weight x2: -0.15675616931709083\n",
      "\n",
      "Epoch [90 / 200] - "
     ]
    },
    {
     "name": "stderr",
     "output_type": "stream",
     "text": [
      "100%|██████████| 8/8 [00:00<?, ?it/s]\n"
     ]
    },
    {
     "name": "stdout",
     "output_type": "stream",
     "text": [
      "Epoch 90 - loss: 0.9501 - weight x1: -0.19213294767841949 - weight x2: -0.15675616931709083\n",
      "\n",
      "Epoch [91 / 200] - "
     ]
    },
    {
     "name": "stderr",
     "output_type": "stream",
     "text": [
      "100%|██████████| 8/8 [00:00<00:00, 7996.77it/s]"
     ]
    },
    {
     "name": "stdout",
     "output_type": "stream",
     "text": [
      "Epoch 91 - loss: 0.9501 - weight x1: -0.19213294767841949 - weight x2: -0.15675616931709083\n",
      "\n",
      "Epoch [92 / 200] - "
     ]
    },
    {
     "name": "stderr",
     "output_type": "stream",
     "text": [
      "\n",
      "100%|██████████| 8/8 [00:00<?, ?it/s]\n"
     ]
    },
    {
     "name": "stdout",
     "output_type": "stream",
     "text": [
      "Epoch 92 - loss: 0.9501 - weight x1: -0.19213294767841949 - weight x2: -0.15675616931709083\n",
      "\n",
      "Epoch [93 / 200] - "
     ]
    },
    {
     "name": "stderr",
     "output_type": "stream",
     "text": [
      "100%|██████████| 8/8 [00:00<00:00, 8000.58it/s]\n"
     ]
    },
    {
     "name": "stdout",
     "output_type": "stream",
     "text": [
      "Epoch 93 - loss: 0.9501 - weight x1: -0.19213294767841949 - weight x2: -0.15675616931709083\n",
      "\n",
      "Epoch [94 / 200] - "
     ]
    },
    {
     "name": "stderr",
     "output_type": "stream",
     "text": [
      "100%|██████████| 8/8 [00:00<?, ?it/s]\n"
     ]
    },
    {
     "name": "stdout",
     "output_type": "stream",
     "text": [
      "Epoch 94 - loss: 0.9501 - weight x1: -0.19213294767841949 - weight x2: -0.15675616931709083\n",
      "\n",
      "Epoch [95 / 200] - "
     ]
    },
    {
     "name": "stderr",
     "output_type": "stream",
     "text": [
      "100%|██████████| 8/8 [00:00<00:00, 7979.65it/s]\n"
     ]
    },
    {
     "name": "stdout",
     "output_type": "stream",
     "text": [
      "Epoch 95 - loss: 0.9501 - weight x1: -0.19213294767841949 - weight x2: -0.15675616931709083\n",
      "\n",
      "Epoch [96 / 200] - "
     ]
    },
    {
     "name": "stderr",
     "output_type": "stream",
     "text": [
      "100%|██████████| 8/8 [00:00<?, ?it/s]\n"
     ]
    },
    {
     "name": "stdout",
     "output_type": "stream",
     "text": [
      "Epoch 96 - loss: 0.9501 - weight x1: -0.19213294767841949 - weight x2: -0.15675616931709083\n",
      "\n",
      "Epoch [97 / 200] - "
     ]
    },
    {
     "name": "stderr",
     "output_type": "stream",
     "text": [
      "100%|██████████| 8/8 [00:00<?, ?it/s]\n"
     ]
    },
    {
     "name": "stdout",
     "output_type": "stream",
     "text": [
      "Epoch 97 - loss: 0.9501 - weight x1: -0.19213294767841949 - weight x2: -0.15675616931709083\n",
      "\n",
      "Epoch [98 / 200] - "
     ]
    },
    {
     "name": "stderr",
     "output_type": "stream",
     "text": [
      "100%|██████████| 8/8 [00:00<?, ?it/s]\n"
     ]
    },
    {
     "name": "stdout",
     "output_type": "stream",
     "text": [
      "Epoch 98 - loss: 0.9501 - weight x1: -0.19213294767841949 - weight x2: -0.15675616931709083\n",
      "\n",
      "Epoch [99 / 200] - "
     ]
    },
    {
     "name": "stderr",
     "output_type": "stream",
     "text": [
      "100%|██████████| 8/8 [00:00<?, ?it/s]\n"
     ]
    },
    {
     "name": "stdout",
     "output_type": "stream",
     "text": [
      "Epoch 99 - loss: 0.9501 - weight x1: -0.19213294767841949 - weight x2: -0.15675616931709083\n",
      "\n",
      "Epoch [100 / 200] - "
     ]
    },
    {
     "name": "stderr",
     "output_type": "stream",
     "text": [
      "100%|██████████| 8/8 [00:00<00:00, 3998.86it/s]\n"
     ]
    },
    {
     "name": "stdout",
     "output_type": "stream",
     "text": [
      "Epoch 100 - loss: 0.9501 - weight x1: -0.19213294767841949 - weight x2: -0.15675616931709083\n",
      "\n",
      "Epoch [101 / 200] - "
     ]
    },
    {
     "name": "stderr",
     "output_type": "stream",
     "text": [
      "100%|██████████| 8/8 [00:00<?, ?it/s]\n"
     ]
    },
    {
     "name": "stdout",
     "output_type": "stream",
     "text": [
      "Epoch 101 - loss: 0.9501 - weight x1: -0.19213294767841949 - weight x2: -0.15675616931709083\n",
      "\n",
      "Epoch [102 / 200] - "
     ]
    },
    {
     "name": "stderr",
     "output_type": "stream",
     "text": [
      "100%|██████████| 8/8 [00:00<?, ?it/s]\n"
     ]
    },
    {
     "name": "stdout",
     "output_type": "stream",
     "text": [
      "Epoch 102 - loss: 0.9501 - weight x1: -0.19213294767841949 - weight x2: -0.15675616931709083\n",
      "\n",
      "Epoch [103 / 200] - "
     ]
    },
    {
     "name": "stderr",
     "output_type": "stream",
     "text": [
      "100%|██████████| 8/8 [00:00<?, ?it/s]\n"
     ]
    },
    {
     "name": "stdout",
     "output_type": "stream",
     "text": [
      "Epoch 103 - loss: 0.9501 - weight x1: -0.19213294767841949 - weight x2: -0.15675616931709083\n",
      "\n",
      "Epoch [104 / 200] - "
     ]
    },
    {
     "name": "stderr",
     "output_type": "stream",
     "text": [
      "100%|██████████| 8/8 [00:00<?, ?it/s]\n"
     ]
    },
    {
     "name": "stdout",
     "output_type": "stream",
     "text": [
      "Epoch 104 - loss: 0.9501 - weight x1: -0.19213294767841949 - weight x2: -0.15675616931709083\n",
      "\n",
      "Epoch [105 / 200] - "
     ]
    },
    {
     "name": "stderr",
     "output_type": "stream",
     "text": [
      "100%|██████████| 8/8 [00:00<?, ?it/s]\n"
     ]
    },
    {
     "name": "stdout",
     "output_type": "stream",
     "text": [
      "Epoch 105 - loss: 0.9501 - weight x1: -0.19213294767841949 - weight x2: -0.15675616931709083\n",
      "\n",
      "Epoch [106 / 200] - "
     ]
    },
    {
     "name": "stderr",
     "output_type": "stream",
     "text": [
      "100%|██████████| 8/8 [00:00<?, ?it/s]\n"
     ]
    },
    {
     "name": "stdout",
     "output_type": "stream",
     "text": [
      "Epoch 106 - loss: 0.9501 - weight x1: -0.19213294767841949 - weight x2: -0.15675616931709083\n",
      "\n",
      "Epoch [107 / 200] - "
     ]
    },
    {
     "name": "stderr",
     "output_type": "stream",
     "text": [
      "100%|██████████| 8/8 [00:00<?, ?it/s]\n"
     ]
    },
    {
     "name": "stdout",
     "output_type": "stream",
     "text": [
      "Epoch 107 - loss: 0.9501 - weight x1: -0.19213294767841949 - weight x2: -0.15675616931709083\n",
      "\n",
      "Epoch [108 / 200] - "
     ]
    },
    {
     "name": "stderr",
     "output_type": "stream",
     "text": [
      "100%|██████████| 8/8 [00:00<?, ?it/s]\n"
     ]
    },
    {
     "name": "stdout",
     "output_type": "stream",
     "text": [
      "Epoch 108 - loss: 0.9501 - weight x1: -0.19213294767841949 - weight x2: -0.15675616931709083\n",
      "\n",
      "Epoch [109 / 200] - "
     ]
    },
    {
     "name": "stderr",
     "output_type": "stream",
     "text": [
      "100%|██████████| 8/8 [00:00<?, ?it/s]\n"
     ]
    },
    {
     "name": "stdout",
     "output_type": "stream",
     "text": [
      "Epoch 109 - loss: 0.9501 - weight x1: -0.19213294767841949 - weight x2: -0.15675616931709083\n",
      "\n",
      "Epoch [110 / 200] - "
     ]
    },
    {
     "name": "stderr",
     "output_type": "stream",
     "text": [
      "100%|██████████| 8/8 [00:00<00:00, 7454.88it/s]\n"
     ]
    },
    {
     "name": "stdout",
     "output_type": "stream",
     "text": [
      "Epoch 110 - loss: 0.9501 - weight x1: -0.19213294767841949 - weight x2: -0.15675616931709083\n",
      "\n",
      "Epoch [111 / 200] - "
     ]
    },
    {
     "name": "stderr",
     "output_type": "stream",
     "text": [
      "100%|██████████| 8/8 [00:00<?, ?it/s]\n"
     ]
    },
    {
     "name": "stdout",
     "output_type": "stream",
     "text": [
      "Epoch 111 - loss: 0.9501 - weight x1: -0.19213294767841949 - weight x2: -0.15675616931709083\n",
      "\n",
      "Epoch [112 / 200] - "
     ]
    },
    {
     "name": "stderr",
     "output_type": "stream",
     "text": [
      "100%|██████████| 8/8 [00:00<00:00, 8004.40it/s]\n"
     ]
    },
    {
     "name": "stdout",
     "output_type": "stream",
     "text": [
      "Epoch 112 - loss: 0.9501 - weight x1: -0.19213294767841949 - weight x2: -0.15675616931709083\n",
      "\n",
      "Epoch [113 / 200] - "
     ]
    },
    {
     "name": "stderr",
     "output_type": "stream",
     "text": [
      "100%|██████████| 8/8 [00:00<?, ?it/s]\n"
     ]
    },
    {
     "name": "stdout",
     "output_type": "stream",
     "text": [
      "Epoch 113 - loss: 0.9501 - weight x1: -0.19213294767841949 - weight x2: -0.15675616931709083\n",
      "\n",
      "Epoch [114 / 200] - "
     ]
    },
    {
     "name": "stderr",
     "output_type": "stream",
     "text": [
      "100%|██████████| 8/8 [00:00<?, ?it/s]\n"
     ]
    },
    {
     "name": "stdout",
     "output_type": "stream",
     "text": [
      "Epoch 114 - loss: 0.9501 - weight x1: -0.19213294767841949 - weight x2: -0.15675616931709083\n",
      "\n",
      "Epoch [115 / 200] - "
     ]
    },
    {
     "name": "stderr",
     "output_type": "stream",
     "text": [
      "100%|██████████| 8/8 [00:00<?, ?it/s]\n"
     ]
    },
    {
     "name": "stdout",
     "output_type": "stream",
     "text": [
      "Epoch 115 - loss: 0.9501 - weight x1: -0.19213294767841949 - weight x2: -0.15675616931709083\n",
      "\n",
      "Epoch [116 / 200] - "
     ]
    },
    {
     "name": "stderr",
     "output_type": "stream",
     "text": [
      "100%|██████████| 8/8 [00:00<?, ?it/s]\n"
     ]
    },
    {
     "name": "stdout",
     "output_type": "stream",
     "text": [
      "Epoch 116 - loss: 0.9501 - weight x1: -0.19213294767841949 - weight x2: -0.15675616931709083\n",
      "\n",
      "Epoch [117 / 200] - "
     ]
    },
    {
     "name": "stderr",
     "output_type": "stream",
     "text": [
      "100%|██████████| 8/8 [00:00<?, ?it/s]\n"
     ]
    },
    {
     "name": "stdout",
     "output_type": "stream",
     "text": [
      "Epoch 117 - loss: 0.9501 - weight x1: -0.19213294767841949 - weight x2: -0.15675616931709083\n",
      "\n",
      "Epoch [118 / 200] - "
     ]
    },
    {
     "name": "stderr",
     "output_type": "stream",
     "text": [
      "100%|██████████| 8/8 [00:00<?, ?it/s]\n"
     ]
    },
    {
     "name": "stdout",
     "output_type": "stream",
     "text": [
      "Epoch 118 - loss: 0.9501 - weight x1: -0.19213294767841949 - weight x2: -0.15675616931709083\n",
      "\n",
      "Epoch [119 / 200] - "
     ]
    },
    {
     "name": "stderr",
     "output_type": "stream",
     "text": [
      "100%|██████████| 8/8 [00:00<00:00, 15060.34it/s]\n"
     ]
    },
    {
     "name": "stdout",
     "output_type": "stream",
     "text": [
      "Epoch 119 - loss: 0.9501 - weight x1: -0.19213294767841949 - weight x2: -0.15675616931709083\n",
      "\n",
      "Epoch [120 / 200] - "
     ]
    },
    {
     "name": "stderr",
     "output_type": "stream",
     "text": [
      "100%|██████████| 8/8 [00:00<?, ?it/s]\n"
     ]
    },
    {
     "name": "stdout",
     "output_type": "stream",
     "text": [
      "Epoch 120 - loss: 0.9501 - weight x1: -0.19213294767841949 - weight x2: -0.15675616931709083\n",
      "\n",
      "Epoch [121 / 200] - "
     ]
    },
    {
     "name": "stderr",
     "output_type": "stream",
     "text": [
      "100%|██████████| 8/8 [00:00<?, ?it/s]\n"
     ]
    },
    {
     "name": "stdout",
     "output_type": "stream",
     "text": [
      "Epoch 121 - loss: 0.9501 - weight x1: -0.19213294767841949 - weight x2: -0.15675616931709083\n",
      "\n",
      "Epoch [122 / 200] - "
     ]
    },
    {
     "name": "stderr",
     "output_type": "stream",
     "text": [
      "100%|██████████| 8/8 [00:00<00:00, 15114.61it/s]\n"
     ]
    },
    {
     "name": "stdout",
     "output_type": "stream",
     "text": [
      "Epoch 122 - loss: 0.9501 - weight x1: -0.19213294767841949 - weight x2: -0.15675616931709083\n",
      "\n",
      "Epoch [123 / 200] - "
     ]
    },
    {
     "name": "stderr",
     "output_type": "stream",
     "text": [
      "100%|██████████| 8/8 [00:00<?, ?it/s]\n"
     ]
    },
    {
     "name": "stdout",
     "output_type": "stream",
     "text": [
      "Epoch 123 - loss: 0.9501 - weight x1: -0.19213294767841949 - weight x2: -0.15675616931709083\n",
      "\n",
      "Epoch [124 / 200] - "
     ]
    },
    {
     "name": "stderr",
     "output_type": "stream",
     "text": [
      "100%|██████████| 8/8 [00:00<00:00, 14886.62it/s]\n"
     ]
    },
    {
     "name": "stdout",
     "output_type": "stream",
     "text": [
      "Epoch 124 - loss: 0.9501 - weight x1: -0.19213294767841949 - weight x2: -0.15675616931709083\n",
      "\n",
      "Epoch [125 / 200] - "
     ]
    },
    {
     "name": "stderr",
     "output_type": "stream",
     "text": [
      "100%|██████████| 8/8 [00:00<00:00, 6379.17it/s]\n"
     ]
    },
    {
     "name": "stdout",
     "output_type": "stream",
     "text": [
      "Epoch 125 - loss: 0.9501 - weight x1: -0.19213294767841949 - weight x2: -0.15675616931709083\n",
      "\n",
      "Epoch [126 / 200] - "
     ]
    },
    {
     "name": "stderr",
     "output_type": "stream",
     "text": [
      "100%|██████████| 8/8 [00:00<?, ?it/s]\n"
     ]
    },
    {
     "name": "stdout",
     "output_type": "stream",
     "text": [
      "Epoch 126 - loss: 0.9501 - weight x1: -0.19213294767841949 - weight x2: -0.15675616931709083\n",
      "\n",
      "Epoch [127 / 200] - "
     ]
    },
    {
     "name": "stderr",
     "output_type": "stream",
     "text": [
      "100%|██████████| 8/8 [00:00<?, ?it/s]\n"
     ]
    },
    {
     "name": "stdout",
     "output_type": "stream",
     "text": [
      "Epoch 127 - loss: 0.9501 - weight x1: -0.19213294767841949 - weight x2: -0.15675616931709083\n",
      "\n",
      "Epoch [128 / 200] - "
     ]
    },
    {
     "name": "stderr",
     "output_type": "stream",
     "text": [
      "100%|██████████| 8/8 [00:00<00:00, 14979.66it/s]\n"
     ]
    },
    {
     "name": "stdout",
     "output_type": "stream",
     "text": [
      "Epoch 128 - loss: 0.9501 - weight x1: -0.19213294767841949 - weight x2: -0.15675616931709083\n",
      "\n",
      "Epoch [129 / 200] - "
     ]
    },
    {
     "name": "stderr",
     "output_type": "stream",
     "text": [
      "100%|██████████| 8/8 [00:00<?, ?it/s]\n"
     ]
    },
    {
     "name": "stdout",
     "output_type": "stream",
     "text": [
      "Epoch 129 - loss: 0.9501 - weight x1: -0.19213294767841949 - weight x2: -0.15675616931709083\n",
      "\n",
      "Epoch [130 / 200] - "
     ]
    },
    {
     "name": "stderr",
     "output_type": "stream",
     "text": [
      "100%|██████████| 8/8 [00:00<?, ?it/s]\n"
     ]
    },
    {
     "name": "stdout",
     "output_type": "stream",
     "text": [
      "Epoch 130 - loss: 0.9501 - weight x1: -0.19213294767841949 - weight x2: -0.15675616931709083\n",
      "\n",
      "Epoch [131 / 200] - "
     ]
    },
    {
     "name": "stderr",
     "output_type": "stream",
     "text": [
      "100%|██████████| 8/8 [00:00<00:00, 15114.61it/s]\n"
     ]
    },
    {
     "name": "stdout",
     "output_type": "stream",
     "text": [
      "Epoch 131 - loss: 0.9501 - weight x1: -0.19213294767841949 - weight x2: -0.15675616931709083\n",
      "\n",
      "Epoch [132 / 200] - "
     ]
    },
    {
     "name": "stderr",
     "output_type": "stream",
     "text": [
      "100%|██████████| 8/8 [00:00<?, ?it/s]\n"
     ]
    },
    {
     "name": "stdout",
     "output_type": "stream",
     "text": [
      "Epoch 132 - loss: 0.9501 - weight x1: -0.19213294767841949 - weight x2: -0.15675616931709083\n",
      "\n",
      "Epoch [133 / 200] - "
     ]
    },
    {
     "name": "stderr",
     "output_type": "stream",
     "text": [
      "100%|██████████| 8/8 [00:00<?, ?it/s]\n"
     ]
    },
    {
     "name": "stdout",
     "output_type": "stream",
     "text": [
      "Epoch 133 - loss: 0.9501 - weight x1: -0.19213294767841949 - weight x2: -0.15675616931709083\n",
      "\n",
      "Epoch [134 / 200] - "
     ]
    },
    {
     "name": "stderr",
     "output_type": "stream",
     "text": [
      "100%|██████████| 8/8 [00:00<?, ?it/s]\n"
     ]
    },
    {
     "name": "stdout",
     "output_type": "stream",
     "text": [
      "Epoch 134 - loss: 0.9501 - weight x1: -0.19213294767841949 - weight x2: -0.15675616931709083\n",
      "\n",
      "Epoch [135 / 200] - "
     ]
    },
    {
     "name": "stderr",
     "output_type": "stream",
     "text": [
      "100%|██████████| 8/8 [00:00<?, ?it/s]\n"
     ]
    },
    {
     "name": "stdout",
     "output_type": "stream",
     "text": [
      "Epoch 135 - loss: 0.9501 - weight x1: -0.19213294767841949 - weight x2: -0.15675616931709083\n",
      "\n",
      "Epoch [136 / 200] - "
     ]
    },
    {
     "name": "stderr",
     "output_type": "stream",
     "text": [
      "100%|██████████| 8/8 [00:00<00:00, 15087.42it/s]\n"
     ]
    },
    {
     "name": "stdout",
     "output_type": "stream",
     "text": [
      "Epoch 136 - loss: 0.9501 - weight x1: -0.19213294767841949 - weight x2: -0.15675616931709083\n",
      "\n",
      "Epoch [137 / 200] - "
     ]
    },
    {
     "name": "stderr",
     "output_type": "stream",
     "text": [
      "100%|██████████| 8/8 [00:00<?, ?it/s]\n"
     ]
    },
    {
     "name": "stdout",
     "output_type": "stream",
     "text": [
      "Epoch 137 - loss: 0.9501 - weight x1: -0.19213294767841949 - weight x2: -0.15675616931709083\n",
      "\n",
      "Epoch [138 / 200] - "
     ]
    },
    {
     "name": "stderr",
     "output_type": "stream",
     "text": [
      "100%|██████████| 8/8 [00:00<00:00, 15686.97it/s]\n"
     ]
    },
    {
     "name": "stdout",
     "output_type": "stream",
     "text": [
      "Epoch 138 - loss: 0.9501 - weight x1: -0.19213294767841949 - weight x2: -0.15675616931709083\n",
      "\n",
      "Epoch [139 / 200] - "
     ]
    },
    {
     "name": "stderr",
     "output_type": "stream",
     "text": [
      "100%|██████████| 8/8 [00:00<?, ?it/s]\n"
     ]
    },
    {
     "name": "stdout",
     "output_type": "stream",
     "text": [
      "Epoch 139 - loss: 0.9501 - weight x1: -0.19213294767841949 - weight x2: -0.15675616931709083\n",
      "\n",
      "Epoch [140 / 200] - "
     ]
    },
    {
     "name": "stderr",
     "output_type": "stream",
     "text": [
      "100%|██████████| 8/8 [00:00<?, ?it/s]\n"
     ]
    },
    {
     "name": "stdout",
     "output_type": "stream",
     "text": [
      "Epoch 140 - loss: 0.9501 - weight x1: -0.19213294767841949 - weight x2: -0.15675616931709083\n",
      "\n",
      "Epoch [141 / 200] - "
     ]
    },
    {
     "name": "stderr",
     "output_type": "stream",
     "text": [
      "100%|██████████| 8/8 [00:00<?, ?it/s]\n"
     ]
    },
    {
     "name": "stdout",
     "output_type": "stream",
     "text": [
      "Epoch 141 - loss: 0.9501 - weight x1: -0.19213294767841949 - weight x2: -0.15675616931709083\n",
      "\n",
      "Epoch [142 / 200] - "
     ]
    },
    {
     "name": "stderr",
     "output_type": "stream",
     "text": [
      "100%|██████████| 8/8 [00:00<00:00, 6386.45it/s]\n"
     ]
    },
    {
     "name": "stdout",
     "output_type": "stream",
     "text": [
      "Epoch 142 - loss: 0.9501 - weight x1: -0.19213294767841949 - weight x2: -0.15675616931709083\n",
      "\n",
      "Epoch [143 / 200] - "
     ]
    },
    {
     "name": "stderr",
     "output_type": "stream",
     "text": [
      "100%|██████████| 8/8 [00:00<?, ?it/s]\n"
     ]
    },
    {
     "name": "stdout",
     "output_type": "stream",
     "text": [
      "Epoch 143 - loss: 0.9501 - weight x1: -0.19213294767841949 - weight x2: -0.15675616931709083\n",
      "\n",
      "Epoch [144 / 200] - "
     ]
    },
    {
     "name": "stderr",
     "output_type": "stream",
     "text": [
      "100%|██████████| 8/8 [00:00<00:00, 15701.65it/s]\n"
     ]
    },
    {
     "name": "stdout",
     "output_type": "stream",
     "text": [
      "Epoch 144 - loss: 0.9501 - weight x1: -0.19213294767841949 - weight x2: -0.15675616931709083\n",
      "\n",
      "Epoch [145 / 200] - "
     ]
    },
    {
     "name": "stderr",
     "output_type": "stream",
     "text": [
      "100%|██████████| 8/8 [00:00<?, ?it/s]\n"
     ]
    },
    {
     "name": "stdout",
     "output_type": "stream",
     "text": [
      "Epoch 145 - loss: 0.9501 - weight x1: -0.19213294767841949 - weight x2: -0.15675616931709083\n",
      "\n",
      "Epoch [146 / 200] - "
     ]
    },
    {
     "name": "stderr",
     "output_type": "stream",
     "text": [
      "100%|██████████| 8/8 [00:00<00:00, 15252.01it/s]\n"
     ]
    },
    {
     "name": "stdout",
     "output_type": "stream",
     "text": [
      "Epoch 146 - loss: 0.9501 - weight x1: -0.19213294767841949 - weight x2: -0.15675616931709083\n",
      "\n",
      "Epoch [147 / 200] - "
     ]
    },
    {
     "name": "stderr",
     "output_type": "stream",
     "text": [
      "100%|██████████| 8/8 [00:00<?, ?it/s]\n"
     ]
    },
    {
     "name": "stdout",
     "output_type": "stream",
     "text": [
      "Epoch 147 - loss: 0.9501 - weight x1: -0.19213294767841949 - weight x2: -0.15675616931709083\n",
      "\n",
      "Epoch [148 / 200] - "
     ]
    },
    {
     "name": "stderr",
     "output_type": "stream",
     "text": [
      "100%|██████████| 8/8 [00:00<00:00, 7958.83it/s]\n"
     ]
    },
    {
     "name": "stdout",
     "output_type": "stream",
     "text": [
      "Epoch 148 - loss: 0.9501 - weight x1: -0.19213294767841949 - weight x2: -0.15675616931709083\n",
      "\n",
      "Epoch [149 / 200] - "
     ]
    },
    {
     "name": "stderr",
     "output_type": "stream",
     "text": [
      "100%|██████████| 8/8 [00:00<?, ?it/s]\n"
     ]
    },
    {
     "name": "stdout",
     "output_type": "stream",
     "text": [
      "Epoch 149 - loss: 0.9501 - weight x1: -0.19213294767841949 - weight x2: -0.15675616931709083\n",
      "\n",
      "Epoch [150 / 200] - "
     ]
    },
    {
     "name": "stderr",
     "output_type": "stream",
     "text": [
      "100%|██████████| 8/8 [00:00<?, ?it/s]\n"
     ]
    },
    {
     "name": "stdout",
     "output_type": "stream",
     "text": [
      "Epoch 150 - loss: 0.9501 - weight x1: -0.19213294767841949 - weight x2: -0.15675616931709083\n",
      "\n",
      "Epoch [151 / 200] - "
     ]
    },
    {
     "name": "stderr",
     "output_type": "stream",
     "text": [
      "100%|██████████| 8/8 [00:00<?, ?it/s]\n"
     ]
    },
    {
     "name": "stdout",
     "output_type": "stream",
     "text": [
      "Epoch 151 - loss: 0.9501 - weight x1: -0.19213294767841949 - weight x2: -0.15675616931709083\n",
      "\n",
      "Epoch [152 / 200] - "
     ]
    },
    {
     "name": "stderr",
     "output_type": "stream",
     "text": [
      "100%|██████████| 8/8 [00:00<?, ?it/s]\n"
     ]
    },
    {
     "name": "stdout",
     "output_type": "stream",
     "text": [
      "Epoch 152 - loss: 0.9501 - weight x1: -0.19213294767841949 - weight x2: -0.15675616931709083\n",
      "\n",
      "Epoch [153 / 200] - "
     ]
    },
    {
     "name": "stderr",
     "output_type": "stream",
     "text": [
      "100%|██████████| 8/8 [00:00<00:00, 5300.02it/s]\n"
     ]
    },
    {
     "name": "stdout",
     "output_type": "stream",
     "text": [
      "Epoch 153 - loss: 0.9501 - weight x1: -0.19213294767841949 - weight x2: -0.15675616931709083\n",
      "\n",
      "Epoch [154 / 200] - "
     ]
    },
    {
     "name": "stderr",
     "output_type": "stream",
     "text": [
      "100%|██████████| 8/8 [00:00<?, ?it/s]\n"
     ]
    },
    {
     "name": "stdout",
     "output_type": "stream",
     "text": [
      "Epoch 154 - loss: 0.9501 - weight x1: -0.19213294767841949 - weight x2: -0.15675616931709083\n",
      "\n",
      "Epoch [155 / 200] - "
     ]
    },
    {
     "name": "stderr",
     "output_type": "stream",
     "text": [
      "100%|██████████| 8/8 [00:00<?, ?it/s]\n"
     ]
    },
    {
     "name": "stdout",
     "output_type": "stream",
     "text": [
      "Epoch 155 - loss: 0.9501 - weight x1: -0.19213294767841949 - weight x2: -0.15675616931709083\n",
      "\n",
      "Epoch [156 / 200] - "
     ]
    },
    {
     "name": "stderr",
     "output_type": "stream",
     "text": [
      "100%|██████████| 8/8 [00:00<?, ?it/s]\n"
     ]
    },
    {
     "name": "stdout",
     "output_type": "stream",
     "text": [
      "Epoch 156 - loss: 0.9501 - weight x1: -0.19213294767841949 - weight x2: -0.15675616931709083\n",
      "\n",
      "Epoch [157 / 200] - "
     ]
    },
    {
     "name": "stderr",
     "output_type": "stream",
     "text": [
      "100%|██████████| 8/8 [00:00<?, ?it/s]\n"
     ]
    },
    {
     "name": "stdout",
     "output_type": "stream",
     "text": [
      "Epoch 157 - loss: 0.9501 - weight x1: -0.19213294767841949 - weight x2: -0.15675616931709083\n",
      "\n",
      "Epoch [158 / 200] - "
     ]
    },
    {
     "name": "stderr",
     "output_type": "stream",
     "text": [
      "100%|██████████| 8/8 [00:00<?, ?it/s]\n"
     ]
    },
    {
     "name": "stdout",
     "output_type": "stream",
     "text": [
      "Epoch 158 - loss: 0.9501 - weight x1: -0.19213294767841949 - weight x2: -0.15675616931709083\n",
      "\n",
      "Epoch [159 / 200] - "
     ]
    },
    {
     "name": "stderr",
     "output_type": "stream",
     "text": [
      "100%|██████████| 8/8 [00:00<?, ?it/s]\n"
     ]
    },
    {
     "name": "stdout",
     "output_type": "stream",
     "text": [
      "Epoch 159 - loss: 0.9501 - weight x1: -0.19213294767841949 - weight x2: -0.15675616931709083\n",
      "\n",
      "Epoch [160 / 200] - "
     ]
    },
    {
     "name": "stderr",
     "output_type": "stream",
     "text": [
      "100%|██████████| 8/8 [00:00<?, ?it/s]\n"
     ]
    },
    {
     "name": "stdout",
     "output_type": "stream",
     "text": [
      "Epoch 160 - loss: 0.9501 - weight x1: -0.19213294767841949 - weight x2: -0.15675616931709083\n",
      "\n",
      "Epoch [161 / 200] - "
     ]
    },
    {
     "name": "stderr",
     "output_type": "stream",
     "text": [
      "100%|██████████| 8/8 [00:00<00:00, 15827.56it/s]\n"
     ]
    },
    {
     "name": "stdout",
     "output_type": "stream",
     "text": [
      "Epoch 161 - loss: 0.9501 - weight x1: -0.19213294767841949 - weight x2: -0.15675616931709083\n",
      "\n",
      "Epoch [162 / 200] - "
     ]
    },
    {
     "name": "stderr",
     "output_type": "stream",
     "text": [
      "100%|██████████| 8/8 [00:00<?, ?it/s]\n"
     ]
    },
    {
     "name": "stdout",
     "output_type": "stream",
     "text": [
      "Epoch 162 - loss: 0.9501 - weight x1: -0.19213294767841949 - weight x2: -0.15675616931709083\n",
      "\n",
      "Epoch [163 / 200] - "
     ]
    },
    {
     "name": "stderr",
     "output_type": "stream",
     "text": [
      "100%|██████████| 8/8 [00:00<?, ?it/s]\n"
     ]
    },
    {
     "name": "stdout",
     "output_type": "stream",
     "text": [
      "Epoch 163 - loss: 0.9501 - weight x1: -0.19213294767841949 - weight x2: -0.15675616931709083\n",
      "\n",
      "Epoch [164 / 200] - "
     ]
    },
    {
     "name": "stderr",
     "output_type": "stream",
     "text": [
      "100%|██████████| 8/8 [00:00<?, ?it/s]\n"
     ]
    },
    {
     "name": "stdout",
     "output_type": "stream",
     "text": [
      "Epoch 164 - loss: 0.9501 - weight x1: -0.19213294767841949 - weight x2: -0.15675616931709083\n",
      "\n",
      "Epoch [165 / 200] - "
     ]
    },
    {
     "name": "stderr",
     "output_type": "stream",
     "text": [
      "100%|██████████| 8/8 [00:00<00:00, 14710.40it/s]\n"
     ]
    },
    {
     "name": "stdout",
     "output_type": "stream",
     "text": [
      "Epoch 165 - loss: 0.9501 - weight x1: -0.19213294767841949 - weight x2: -0.15675616931709083\n",
      "\n",
      "Epoch [166 / 200] - "
     ]
    },
    {
     "name": "stderr",
     "output_type": "stream",
     "text": [
      "100%|██████████| 8/8 [00:00<?, ?it/s]\n"
     ]
    },
    {
     "name": "stdout",
     "output_type": "stream",
     "text": [
      "Epoch 166 - loss: 0.9501 - weight x1: -0.19213294767841949 - weight x2: -0.15675616931709083\n",
      "\n",
      "Epoch [167 / 200] - "
     ]
    },
    {
     "name": "stderr",
     "output_type": "stream",
     "text": [
      "100%|██████████| 8/8 [00:00<?, ?it/s]\n"
     ]
    },
    {
     "name": "stdout",
     "output_type": "stream",
     "text": [
      "Epoch 167 - loss: 0.9501 - weight x1: -0.19213294767841949 - weight x2: -0.15675616931709083\n",
      "\n",
      "Epoch [168 / 200] - "
     ]
    },
    {
     "name": "stderr",
     "output_type": "stream",
     "text": [
      "100%|██████████| 8/8 [00:00<?, ?it/s]\n"
     ]
    },
    {
     "name": "stdout",
     "output_type": "stream",
     "text": [
      "Epoch 168 - loss: 0.9501 - weight x1: -0.19213294767841949 - weight x2: -0.15675616931709083\n",
      "\n",
      "Epoch [169 / 200] - "
     ]
    },
    {
     "name": "stderr",
     "output_type": "stream",
     "text": [
      "100%|██████████| 8/8 [00:00<?, ?it/s]\n"
     ]
    },
    {
     "name": "stdout",
     "output_type": "stream",
     "text": [
      "Epoch 169 - loss: 0.9501 - weight x1: -0.19213294767841949 - weight x2: -0.15675616931709083\n",
      "\n",
      "Epoch [170 / 200] - "
     ]
    },
    {
     "name": "stderr",
     "output_type": "stream",
     "text": [
      "100%|██████████| 8/8 [00:00<00:00, 7934.37it/s]\n"
     ]
    },
    {
     "name": "stdout",
     "output_type": "stream",
     "text": [
      "Epoch 170 - loss: 0.9501 - weight x1: -0.19213294767841949 - weight x2: -0.15675616931709083\n",
      "\n",
      "Epoch [171 / 200] - "
     ]
    },
    {
     "name": "stderr",
     "output_type": "stream",
     "text": [
      "100%|██████████| 8/8 [00:00<?, ?it/s]\n"
     ]
    },
    {
     "name": "stdout",
     "output_type": "stream",
     "text": [
      "Epoch 171 - loss: 0.9501 - weight x1: -0.19213294767841949 - weight x2: -0.15675616931709083\n",
      "\n",
      "Epoch [172 / 200] - "
     ]
    },
    {
     "name": "stderr",
     "output_type": "stream",
     "text": [
      "100%|██████████| 8/8 [00:00<?, ?it/s]\n"
     ]
    },
    {
     "name": "stdout",
     "output_type": "stream",
     "text": [
      "Epoch 172 - loss: 0.9501 - weight x1: -0.19213294767841949 - weight x2: -0.15675616931709083\n",
      "\n",
      "Epoch [173 / 200] - "
     ]
    },
    {
     "name": "stderr",
     "output_type": "stream",
     "text": [
      "100%|██████████| 8/8 [00:00<?, ?it/s]\n"
     ]
    },
    {
     "name": "stdout",
     "output_type": "stream",
     "text": [
      "Epoch 173 - loss: 0.9501 - weight x1: -0.19213294767841949 - weight x2: -0.15675616931709083\n",
      "\n",
      "Epoch [174 / 200] - "
     ]
    },
    {
     "name": "stderr",
     "output_type": "stream",
     "text": [
      "100%|██████████| 8/8 [00:00<?, ?it/s]\n"
     ]
    },
    {
     "name": "stdout",
     "output_type": "stream",
     "text": [
      "Epoch 174 - loss: 0.9501 - weight x1: -0.19213294767841949 - weight x2: -0.15675616931709083\n",
      "\n",
      "Epoch [175 / 200] - "
     ]
    },
    {
     "name": "stderr",
     "output_type": "stream",
     "text": [
      "100%|██████████| 8/8 [00:00<?, ?it/s]\n"
     ]
    },
    {
     "name": "stdout",
     "output_type": "stream",
     "text": [
      "Epoch 175 - loss: 0.9501 - weight x1: -0.19213294767841949 - weight x2: -0.15675616931709083\n",
      "\n",
      "Epoch [176 / 200] - "
     ]
    },
    {
     "name": "stderr",
     "output_type": "stream",
     "text": [
      "100%|██████████| 8/8 [00:00<?, ?it/s]\n"
     ]
    },
    {
     "name": "stdout",
     "output_type": "stream",
     "text": [
      "Epoch 176 - loss: 0.9501 - weight x1: -0.19213294767841949 - weight x2: -0.15675616931709083\n",
      "\n",
      "Epoch [177 / 200] - "
     ]
    },
    {
     "name": "stderr",
     "output_type": "stream",
     "text": [
      "100%|██████████| 8/8 [00:00<?, ?it/s]\n"
     ]
    },
    {
     "name": "stdout",
     "output_type": "stream",
     "text": [
      "Epoch 177 - loss: 0.9501 - weight x1: -0.19213294767841949 - weight x2: -0.15675616931709083\n",
      "\n",
      "Epoch [178 / 200] - "
     ]
    },
    {
     "name": "stderr",
     "output_type": "stream",
     "text": [
      "100%|██████████| 8/8 [00:00<?, ?it/s]\n"
     ]
    },
    {
     "name": "stdout",
     "output_type": "stream",
     "text": [
      "Epoch 178 - loss: 0.9501 - weight x1: -0.19213294767841949 - weight x2: -0.15675616931709083\n",
      "\n",
      "Epoch [179 / 200] - "
     ]
    },
    {
     "name": "stderr",
     "output_type": "stream",
     "text": [
      "100%|██████████| 8/8 [00:00<00:00, 8012.04it/s]\n"
     ]
    },
    {
     "name": "stdout",
     "output_type": "stream",
     "text": [
      "Epoch 179 - loss: 0.9501 - weight x1: -0.19213294767841949 - weight x2: -0.15675616931709083\n",
      "\n",
      "Epoch [180 / 200] - "
     ]
    },
    {
     "name": "stderr",
     "output_type": "stream",
     "text": [
      "100%|██████████| 8/8 [00:00<?, ?it/s]\n"
     ]
    },
    {
     "name": "stdout",
     "output_type": "stream",
     "text": [
      "Epoch 180 - loss: 0.9501 - weight x1: -0.19213294767841949 - weight x2: -0.15675616931709083\n",
      "\n",
      "Epoch [181 / 200] - "
     ]
    },
    {
     "name": "stderr",
     "output_type": "stream",
     "text": [
      "100%|██████████| 8/8 [00:00<?, ?it/s]\n"
     ]
    },
    {
     "name": "stdout",
     "output_type": "stream",
     "text": [
      "Epoch 181 - loss: 0.9501 - weight x1: -0.19213294767841949 - weight x2: -0.15675616931709083\n",
      "\n",
      "Epoch [182 / 200] - "
     ]
    },
    {
     "name": "stderr",
     "output_type": "stream",
     "text": [
      "100%|██████████| 8/8 [00:00<?, ?it/s]\n"
     ]
    },
    {
     "name": "stdout",
     "output_type": "stream",
     "text": [
      "Epoch 182 - loss: 0.9501 - weight x1: -0.19213294767841949 - weight x2: -0.15675616931709083\n",
      "\n",
      "Epoch [183 / 200] - "
     ]
    },
    {
     "name": "stderr",
     "output_type": "stream",
     "text": [
      "100%|██████████| 8/8 [00:00<00:00, 7938.12it/s]\n"
     ]
    },
    {
     "name": "stdout",
     "output_type": "stream",
     "text": [
      "Epoch 183 - loss: 0.9501 - weight x1: -0.19213294767841949 - weight x2: -0.15675616931709083\n",
      "\n",
      "Epoch [184 / 200] - "
     ]
    },
    {
     "name": "stderr",
     "output_type": "stream",
     "text": [
      "100%|██████████| 8/8 [00:00<00:00, 8000.58it/s]\n"
     ]
    },
    {
     "name": "stdout",
     "output_type": "stream",
     "text": [
      "Epoch 184 - loss: 0.9501 - weight x1: -0.19213294767841949 - weight x2: -0.15675616931709083\n",
      "\n",
      "Epoch [185 / 200] - "
     ]
    },
    {
     "name": "stderr",
     "output_type": "stream",
     "text": [
      "100%|██████████| 8/8 [00:00<?, ?it/s]\n"
     ]
    },
    {
     "name": "stdout",
     "output_type": "stream",
     "text": [
      "Epoch 185 - loss: 0.9501 - weight x1: -0.19213294767841949 - weight x2: -0.15675616931709083\n",
      "\n",
      "Epoch [186 / 200] - "
     ]
    },
    {
     "name": "stderr",
     "output_type": "stream",
     "text": [
      "100%|██████████| 8/8 [00:00<?, ?it/s]\n"
     ]
    },
    {
     "name": "stdout",
     "output_type": "stream",
     "text": [
      "Epoch 186 - loss: 0.9501 - weight x1: -0.19213294767841949 - weight x2: -0.15675616931709083\n",
      "\n",
      "Epoch [187 / 200] - "
     ]
    },
    {
     "name": "stderr",
     "output_type": "stream",
     "text": [
      "100%|██████████| 8/8 [00:00<00:00, 7989.15it/s]\n"
     ]
    },
    {
     "name": "stdout",
     "output_type": "stream",
     "text": [
      "Epoch 187 - loss: 0.9501 - weight x1: -0.19213294767841949 - weight x2: -0.15675616931709083\n",
      "\n",
      "Epoch [188 / 200] - "
     ]
    },
    {
     "name": "stderr",
     "output_type": "stream",
     "text": [
      "100%|██████████| 8/8 [00:00<00:00, 7998.67it/s]\n"
     ]
    },
    {
     "name": "stdout",
     "output_type": "stream",
     "text": [
      "Epoch 188 - loss: 0.9501 - weight x1: -0.19213294767841949 - weight x2: -0.15675616931709083\n",
      "\n",
      "Epoch [189 / 200] - "
     ]
    },
    {
     "name": "stderr",
     "output_type": "stream",
     "text": [
      "100%|██████████| 8/8 [00:00<?, ?it/s]\n"
     ]
    },
    {
     "name": "stdout",
     "output_type": "stream",
     "text": [
      "Epoch 189 - loss: 0.9501 - weight x1: -0.19213294767841949 - weight x2: -0.15675616931709083\n",
      "\n",
      "Epoch [190 / 200] - "
     ]
    },
    {
     "name": "stderr",
     "output_type": "stream",
     "text": [
      "100%|██████████| 8/8 [00:00<?, ?it/s]\n"
     ]
    },
    {
     "name": "stdout",
     "output_type": "stream",
     "text": [
      "Epoch 190 - loss: 0.9501 - weight x1: -0.19213294767841949 - weight x2: -0.15675616931709083\n",
      "\n",
      "Epoch [191 / 200] - "
     ]
    },
    {
     "name": "stderr",
     "output_type": "stream",
     "text": [
      "100%|██████████| 8/8 [00:00<?, ?it/s]\n"
     ]
    },
    {
     "name": "stdout",
     "output_type": "stream",
     "text": [
      "Epoch 191 - loss: 0.9501 - weight x1: -0.19213294767841949 - weight x2: -0.15675616931709083\n",
      "\n",
      "Epoch [192 / 200] - "
     ]
    },
    {
     "name": "stderr",
     "output_type": "stream",
     "text": [
      "100%|██████████| 8/8 [00:00<?, ?it/s]\n"
     ]
    },
    {
     "name": "stdout",
     "output_type": "stream",
     "text": [
      "Epoch 192 - loss: 0.9501 - weight x1: -0.19213294767841949 - weight x2: -0.15675616931709083\n",
      "\n",
      "Epoch [193 / 200] - "
     ]
    },
    {
     "name": "stderr",
     "output_type": "stream",
     "text": [
      "100%|██████████| 8/8 [00:00<00:00, 8004.40it/s]\n"
     ]
    },
    {
     "name": "stdout",
     "output_type": "stream",
     "text": [
      "Epoch 193 - loss: 0.9501 - weight x1: -0.19213294767841949 - weight x2: -0.15675616931709083\n",
      "\n",
      "Epoch [194 / 200] - "
     ]
    },
    {
     "name": "stderr",
     "output_type": "stream",
     "text": [
      "100%|██████████| 8/8 [00:00<?, ?it/s]\n"
     ]
    },
    {
     "name": "stdout",
     "output_type": "stream",
     "text": [
      "Epoch 194 - loss: 0.9501 - weight x1: -0.19213294767841949 - weight x2: -0.15675616931709083\n",
      "\n",
      "Epoch [195 / 200] - "
     ]
    },
    {
     "name": "stderr",
     "output_type": "stream",
     "text": [
      "100%|██████████| 8/8 [00:00<00:00, 8002.49it/s]\n"
     ]
    },
    {
     "name": "stdout",
     "output_type": "stream",
     "text": [
      "Epoch 195 - loss: 0.9501 - weight x1: -0.19213294767841949 - weight x2: -0.15675616931709083\n",
      "\n",
      "Epoch [196 / 200] - "
     ]
    },
    {
     "name": "stderr",
     "output_type": "stream",
     "text": [
      "100%|██████████| 8/8 [00:00<00:00, 1998.36it/s]\n"
     ]
    },
    {
     "name": "stdout",
     "output_type": "stream",
     "text": [
      "Epoch 196 - loss: 0.9501 - weight x1: -0.19213294767841949 - weight x2: -0.15675616931709083\n",
      "\n",
      "Epoch [197 / 200] - "
     ]
    },
    {
     "name": "stderr",
     "output_type": "stream",
     "text": [
      "100%|██████████| 8/8 [00:00<?, ?it/s]\n"
     ]
    },
    {
     "name": "stdout",
     "output_type": "stream",
     "text": [
      "Epoch 197 - loss: 0.9501 - weight x1: -0.19213294767841949 - weight x2: -0.15675616931709083\n",
      "\n",
      "Epoch [198 / 200] - "
     ]
    },
    {
     "name": "stderr",
     "output_type": "stream",
     "text": [
      "100%|██████████| 8/8 [00:00<?, ?it/s]"
     ]
    },
    {
     "name": "stdout",
     "output_type": "stream",
     "text": [
      "Epoch 198 - loss: 0.9501 - weight x1: -0.19213294767841949 - weight x2: -0.15675616931709083\n",
      "\n",
      "Epoch [199 / 200] - "
     ]
    },
    {
     "name": "stderr",
     "output_type": "stream",
     "text": [
      "\n",
      "100%|██████████| 8/8 [00:00<?, ?it/s]\n"
     ]
    },
    {
     "name": "stdout",
     "output_type": "stream",
     "text": [
      "Epoch 199 - loss: 0.9501 - weight x1: -0.19213294767841949 - weight x2: -0.15675616931709083\n",
      "\n",
      "Epoch [200 / 200] - "
     ]
    },
    {
     "name": "stderr",
     "output_type": "stream",
     "text": [
      "100%|██████████| 8/8 [00:00<00:00, 7989.15it/s]\n"
     ]
    },
    {
     "name": "stdout",
     "output_type": "stream",
     "text": [
      "Epoch 200 - loss: 0.9501 - weight x1: -0.19213294767841949 - weight x2: -0.15675616931709083\n",
      "\n"
     ]
    },
    {
     "data": {
      "image/png": "[encoded data removed]",
      "text/plain": [
       "<Figure size 1000x600 with 1 Axes>"
      ]
     },
     "metadata": {},
     "output_type": "display_data"
    }
   ],
   "source": [
    "model = AdalineLMS(feature, label);\n",
    "model.train();"
   ]
  },
  {
   "cell_type": "code",
   "execution_count": 117,
   "metadata": {},
   "outputs": [
    {
     "data": {
      "text/plain": [
       "(1.1014485, float)"
      ]
     },
     "execution_count": 117,
     "metadata": {},
     "output_type": "execute_result"
    }
   ],
   "source": [
    "initializer = TruncatedNormal(mean = 1.0, stddev = 0.2)(shape = (1, 2)).numpy();\n",
    "initializer[0][0], type(initializer[0][1].item())"
   ]
  },
  {
   "cell_type": "code",
   "execution_count": 8,
   "metadata": {},
   "outputs": [],
   "source": [
    "# Hyperparameters\n",
    "learning_rate = 1e-1;\n",
    "epochs = 200;\n",
    "\n",
    "X_bias = numpy.c_[numpy.ones(feature.shape[0]), feature];\n",
    "weights = numpy.random.default_rng().random(feature.shape[1]);"
   ]
  },
  {
   "cell_type": "code",
   "execution_count": 4,
   "metadata": {},
   "outputs": [
    {
     "name": "stdout",
     "output_type": "stream",
     "text": [
      "0.2603155165490756\n",
      "0.9804277369809457\n"
     ]
    }
   ],
   "source": [
    "for i in weights:\n",
    "    print(i)"
   ]
  },
  {
   "cell_type": "code",
   "execution_count": 9,
   "metadata": {},
   "outputs": [
    {
     "data": {
      "text/plain": [
       "(array([[1.  , 0.08, 0.72],\n",
       "        [1.  , 0.26, 0.58],\n",
       "        [1.  , 0.45, 0.15],\n",
       "        [1.  , 0.6 , 0.3 ],\n",
       "        [1.  , 0.1 , 1.  ],\n",
       "        [1.  , 0.35, 0.95],\n",
       "        [1.  , 0.7 , 0.65],\n",
       "        [1.  , 0.92, 0.45]]),\n",
       " array([[1.  , 1.  , 1.  , 1.  , 1.  , 1.  , 1.  , 1.  ],\n",
       "        [0.08, 0.26, 0.45, 0.6 , 0.1 , 0.35, 0.7 , 0.92],\n",
       "        [0.72, 0.58, 0.15, 0.3 , 1.  , 0.95, 0.65, 0.45]]))"
      ]
     },
     "execution_count": 9,
     "metadata": {},
     "output_type": "execute_result"
    }
   ],
   "source": [
    "X_bias, X_bias.T"
   ]
  },
  {
   "cell_type": "code",
   "execution_count": 29,
   "metadata": {},
   "outputs": [],
   "source": [
    "# Function to calculate net input\n",
    "def net_input(X, weights):\n",
    "    return numpy.dot(X, weights)\n",
    "\n",
    "def net_input_without_style(X, weights):\n",
    "    lala = [];\n",
    "\n",
    "    for i in X:\n",
    "        y_pred = (i[0] * weights[0]) + (i[1] * weights[1]);\n",
    "        lala.append(y_pred);\n",
    "\n",
    "    return lala;\n",
    "\n",
    "# Function to calculate MSE\n",
    "def mean_squared_error(y_true, y_pred):\n",
    "    return numpy.mean((y_true - y_pred) ** 2)"
   ]
  },
  {
   "cell_type": "code",
   "execution_count": 28,
   "metadata": {},
   "outputs": [
    {
     "name": "stdout",
     "output_type": "stream",
     "text": [
      "0.6445494157414892\n",
      "0.6707644782558839\n",
      "0.47008911165642897\n",
      "0.7076957732826603\n",
      "0.8865970607509498\n",
      "1.0398772902390703\n",
      "1.0683759420520356\n",
      "1.0770424899260038\n"
     ]
    }
   ],
   "source": [
    "for i in net_input(feature,weights):\n",
    "    print(i)"
   ]
  },
  {
   "cell_type": "code",
   "execution_count": 25,
   "metadata": {},
   "outputs": [
    {
     "data": {
      "text/plain": [
       "array([0.7749415 , 0.80910291])"
      ]
     },
     "execution_count": 25,
     "metadata": {},
     "output_type": "execute_result"
    }
   ],
   "source": [
    "weights"
   ]
  },
  {
   "cell_type": "code",
   "execution_count": 30,
   "metadata": {},
   "outputs": [
    {
     "name": "stdout",
     "output_type": "stream",
     "text": [
      "0.6445494157414892\n",
      "0.6707644782558839\n",
      "0.47008911165642897\n",
      "0.7076957732826603\n",
      "0.8865970607509498\n",
      "1.0398772902390703\n",
      "1.0683759420520356\n",
      "1.0770424899260038\n"
     ]
    }
   ],
   "source": [
    "for i in net_input_without_style(feature, weights):\n",
    "    print(i);"
   ]
  },
  {
   "cell_type": "code",
   "execution_count": 5,
   "metadata": {},
   "outputs": [],
   "source": [
    "# Training ADALINE\n",
    "mse_history = []\n",
    "for epoch in range(epochs):\n",
    "    output = net_input(X_bias, weights)\n",
    "    errors = y - output\n",
    "    weights += learning_rate * np.dot(X_bias.T, errors)\n",
    "    mse = mean_squared_error(y, output)\n",
    "    mse_history.append(mse)"
   ]
  },
  {
   "cell_type": "code",
   "execution_count": 6,
   "metadata": {},
   "outputs": [
    {
     "data": {
      "image/png": "[encoded data removed]",
      "text/plain": [
       "<Figure size 1000x600 with 1 Axes>"
      ]
     },
     "metadata": {},
     "output_type": "display_data"
    }
   ],
   "source": [
    "# Plotting MSE curve\n",
    "plt.figure(figsize=(10, 6))\n",
    "plt.plot(range(epochs), mse_history, label='MSE')\n",
    "plt.xlabel('Epoch')\n",
    "plt.ylabel('Mean Squared Error')\n",
    "plt.title('MSE over Epochs')\n",
    "plt.legend()\n",
    "plt.show()"
   ]
  },
  {
   "cell_type": "code",
   "execution_count": 7,
   "metadata": {},
   "outputs": [
    {
     "data": {
      "image/png": "[encoded data removed]",
      "text/plain": [
       "<Figure size 640x480 with 1 Axes>"
      ]
     },
     "metadata": {},
     "output_type": "display_data"
    },
    {
     "name": "stdout",
     "output_type": "stream",
     "text": [
      "Final weights (including bias): [ 3.45844942 -2.97807657 -3.62045118]\n"
     ]
    }
   ],
   "source": [
    "# Plotting decision boundary\n",
    "def plot_decision_boundary(X, y, weights):\n",
    "    min_x1, max_x1 = X[:, 0].min() - 1, X[:, 0].max() + 1;\n",
    "    min_x2, max_x2 = X[:, 1].min() - 1, X[:, 1].max() + 1;\n",
    "    x1, x2 = np.meshgrid(np.linspace(min_x1, max_x1, 200), np.linspace(min_x2, max_x2, 200));\n",
    "    Z = net_input(np.c_[np.ones(x1.ravel().shape), x1.ravel(), x2.ravel()], weights).reshape(x1.shape)\n",
    "    plt.contourf(x1, x2, Z, levels=[-float('inf'), 0, float('inf')], alpha=0.3, colors=['red', 'blue'])\n",
    "    plt.scatter(X[:, 0], X[:, 1], c=y, marker='o', edgecolor='k', cmap=plt.cm.Paired)\n",
    "    plt.xlabel('Feature 1')\n",
    "    plt.ylabel('Feature 2')\n",
    "    plt.title('Decision Boundary')\n",
    "    plt.show()\n",
    "\n",
    "plot_decision_boundary(X, y, weights)\n",
    "\n",
    "# Final weights\n",
    "print(\"Final weights (including bias):\", weights)"
   ]
  }
 ],
 "metadata": {
  "kernelspec": {
   "display_name": "base",
   "language": "python",
   "name": "python3"
  },
  "language_info": {
   "codemirror_mode": {
    "name": "ipython",
    "version": 3
   },
   "file_extension": ".py",
   "mimetype": "text/x-python",
   "name": "python",
   "nbconvert_exporter": "python",
   "pygments_lexer": "ipython3",
   "version": "3.10.9"
  }
 },
 "nbformat": 4,
 "nbformat_minor": 2
}

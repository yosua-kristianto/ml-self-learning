{
 "cells": [
  {
   "cell_type": "code",
   "execution_count": 1,
   "metadata": {},
   "outputs": [],
   "source": [
    "import numpy;\n",
    "# import matplotlib.pyplot as plt;\n",
    "\n",
    "# from tensorflow.keras.initializers import TruncatedNormal;\n",
    "\n",
    "# from tqdm import tqdm;\n",
    "\n",
    "import numpy as np\n",
    "import random\n",
    "from tqdm import tqdm"
   ]
  },
  {
   "cell_type": "code",
   "execution_count": 2,
   "metadata": {},
   "outputs": [],
   "source": [
    "# Training data\n",
    "feature = numpy.array(\n",
    "    [\n",
    "        [0.08, 0.72], [0.26, 0.58], [0.45, 0.15], \n",
    "        [0.60, 0.30], [0.10, 1.0], [0.35, 0.95], \n",
    "        [0.70, 0.65], [0.92, 0.45]\n",
    "    ]);\n",
    "\n",
    "label = numpy.array([1, 1, 1, 1, -1, -1, -1, -1]);"
   ]
  },
  {
   "cell_type": "code",
   "execution_count": 3,
   "metadata": {},
   "outputs": [],
   "source": [
    "class AdalinePSO:\n",
    "\n",
    "    def __init__(self, feature, label):\n",
    "        self.feature = feature\n",
    "        self.label = label\n",
    "        self.num_particles = 30\n",
    "        self.iterations = 100\n",
    "        self.w = 0.5  # Inertia weight\n",
    "        self.c1 = 0.8  # Cognitive coefficient\n",
    "        self.c2 = 0.9  # Social coefficient\n",
    "\n",
    "    def initialize_particles(self):\n",
    "        particles = []\n",
    "        for _ in range(self.num_particles):\n",
    "            particle = {\n",
    "                'position': np.random.randn(3),\n",
    "                'velocity': np.random.randn(3),\n",
    "                'best_position': None,\n",
    "                'best_fitness': float('inf')\n",
    "            }\n",
    "            particles.append(particle)\n",
    "        return particles\n",
    "\n",
    "    def fitness(self, position):\n",
    "        predictions = []\n",
    "        for i in self.feature:\n",
    "            prediction = (position[0] * i[0]) + (position[1] * i[1]) + position[2]\n",
    "            predictions.append(prediction)\n",
    "        mse = np.mean((self.label - predictions) ** 2)\n",
    "        return mse\n",
    "\n",
    "    def update_velocity(self, particle, global_best_position):\n",
    "        inertia = self.w * particle['velocity']\n",
    "        cognitive = self.c1 * random.random() * (particle['best_position'] - particle['position'])\n",
    "        social = self.c2 * random.random() * (global_best_position - particle['position'])\n",
    "        new_velocity = inertia + cognitive + social\n",
    "        return new_velocity\n",
    "\n",
    "    def update_position(self, particle):\n",
    "        new_position = particle['position'] + particle['velocity']\n",
    "        return new_position\n",
    "\n",
    "    def train(self):\n",
    "        particles = self.initialize_particles()\n",
    "        global_best_position = None\n",
    "        global_best_fitness = float('inf')\n",
    "\n",
    "        for iteration in tqdm(range(self.iterations)):\n",
    "            for particle in particles:\n",
    "                fitness = self.fitness(particle['position'])\n",
    "                if fitness < particle['best_fitness']:\n",
    "                    particle['best_fitness'] = fitness\n",
    "                    particle['best_position'] = particle['position']\n",
    "                if fitness < global_best_fitness:\n",
    "                    global_best_fitness = fitness\n",
    "                    global_best_position = particle['position']\n",
    "\n",
    "            for particle in particles:\n",
    "                particle['velocity'] = self.update_velocity(particle, global_best_position)\n",
    "                particle['position'] = self.update_position(particle)\n",
    "\n",
    "        self.weight_x1 = global_best_position[0]\n",
    "        self.weight_x2 = global_best_position[1]\n",
    "        self.bias = global_best_position[2]\n",
    "        print(f\"Best weights - weight_x1: {self.weight_x1}, weight_x2: {self.weight_x2}, bias: {self.bias}\")\n"
   ]
  },
  {
   "cell_type": "code",
   "execution_count": 4,
   "metadata": {},
   "outputs": [
    {
     "name": "stderr",
     "output_type": "stream",
     "text": [
      "100%|██████████| 100/100 [00:00<00:00, 1113.80it/s]"
     ]
    },
    {
     "name": "stdout",
     "output_type": "stream",
     "text": [
      "Best weights - weight_x1: -3.0498925494977516, weight_x2: -3.6950158757625267, bias: 3.5360880519409714\n"
     ]
    },
    {
     "name": "stderr",
     "output_type": "stream",
     "text": [
      "\n"
     ]
    }
   ],
   "source": [
    "model = AdalinePSO(feature, label);\n",
    "model.train();"
   ]
  }
 ],
 "metadata": {
  "kernelspec": {
   "display_name": "base",
   "language": "python",
   "name": "python3"
  },
  "language_info": {
   "codemirror_mode": {
    "name": "ipython",
    "version": 3
   },
   "file_extension": ".py",
   "mimetype": "text/x-python",
   "name": "python",
   "nbconvert_exporter": "python",
   "pygments_lexer": "ipython3",
   "version": "3.10.9"
  }
 },
 "nbformat": 4,
 "nbformat_minor": 2
}

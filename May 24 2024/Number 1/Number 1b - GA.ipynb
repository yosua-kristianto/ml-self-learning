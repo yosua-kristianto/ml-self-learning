{
 "cells": [
  {
   "cell_type": "code",
   "execution_count": 1,
   "metadata": {},
   "outputs": [
    {
     "name": "stderr",
     "output_type": "stream",
     "text": [
      "2024-05-27 13:13:02.098916: I tensorflow/core/platform/cpu_feature_guard.cc:210] This TensorFlow binary is optimized to use available CPU instructions in performance-critical operations.\n",
      "To enable the following instructions: AVX2 FMA, in other operations, rebuild TensorFlow with the appropriate compiler flags.\n"
     ]
    }
   ],
   "source": [
    "import numpy;\n",
    "# import matplotlib.pyplot as plt;\n",
    "\n",
    "from tensorflow.keras.initializers import TruncatedNormal;\n",
    "\n",
    "from tqdm import tqdm;\n",
    "\n",
    "import numpy as np\n",
    "import random"
   ]
  },
  {
   "cell_type": "code",
   "execution_count": 2,
   "metadata": {},
   "outputs": [],
   "source": [
    "# Training data\n",
    "feature = numpy.array(\n",
    "    [\n",
    "        [0.08, 0.72], [0.26, 0.58], [0.45, 0.15], \n",
    "        [0.60, 0.30], [0.10, 1.0], [0.35, 0.95], \n",
    "        [0.70, 0.65], [0.92, 0.45]\n",
    "    ]);\n",
    "\n",
    "label = numpy.array([1, 1, 1, 1, -1, -1, -1, -1]);"
   ]
  },
  {
   "cell_type": "code",
   "execution_count": 17,
   "metadata": {},
   "outputs": [],
   "source": [
    "class AdalineGA:\n",
    "\n",
    "    # Hyperparameters\n",
    "    def __init__(self, feature, label):\n",
    "        self.feature = feature;\n",
    "        self.label = label;\n",
    "        self.population_size = 50;\n",
    "        self.generations = 200;\n",
    "        self.mutation_rate = 1e-2;\n",
    "        self.crossover_rate = 7e-1;\n",
    "\n",
    "        initializer = TruncatedNormal(mean = 0.5, stddev = 0.02)(shape = (1, 3)).numpy();\n",
    "        \n",
    "        # Initialize population\n",
    "        self.population = [];\n",
    "\n",
    "        for _ in range(self.population_size):\n",
    "            individual = {\n",
    "                'weight_x1': initializer[0][0],\n",
    "                'weight_x2': initializer[0][1],\n",
    "                'bias': initializer[0][2]\n",
    "            };\n",
    "        \n",
    "            self.population.append(individual);\n",
    "\n",
    "    def select_population(self, population):\n",
    "        sorted_population = sorted(population, key = self.forward, reverse = True);\n",
    "        return sorted_population[:int(0.2 * self.population_size)];  # Select top 20%\n",
    "\n",
    "    def crossover(self, parent1, parent2):\n",
    "        if random.random() < self.crossover_rate:\n",
    "            crossover_point = random.randint(0, 2);\n",
    "            child1 = parent1.copy();\n",
    "            child2 = parent2.copy();\n",
    "            if crossover_point == 0:\n",
    "                child1['weight_x1'], child2['weight_x1'] = child2['weight_x1'], child1['weight_x1'];\n",
    "            elif crossover_point == 1:\n",
    "                child1['weight_x2'], child2['weight_x2'] = child2['weight_x2'], child1['weight_x2'];\n",
    "            else:\n",
    "                child1['bias'], child2['bias'] = child2['bias'], child1['bias'];\n",
    "            return child1, child2;\n",
    "        else:\n",
    "            return parent1, parent2;\n",
    "\n",
    "    def mutate(self, individual):\n",
    "        if random.random() < self.mutation_rate:\n",
    "            individual['weight_x1'] += np.random.normal();\n",
    "        if random.random() < self.mutation_rate:\n",
    "            individual['weight_x2'] += np.random.normal();\n",
    "        if random.random() < self.mutation_rate:\n",
    "            individual['bias'] += np.random.normal();\n",
    "        \n",
    "        return individual;\n",
    "\n",
    "    def forward(self, individual):\n",
    "        predictions = [];\n",
    "        for i in self.feature:\n",
    "            prediction = (individual['weight_x1'] * i[0]) + (individual['weight_x2'] * i[1]) + individual['bias']\n",
    "            predictions.append(prediction)\n",
    "        mse = np.mean((self.label - predictions) ** 2);\n",
    "        return -mse;\n",
    "\n",
    "    # Get the best produced individual based on loss\n",
    "    def get_best_individual(self):\n",
    "        \n",
    "        result = [];\n",
    "\n",
    "        for i in self.population:\n",
    "            loss = self.forward(i);\n",
    "            result.append({\n",
    "                \"weight_x1\": i[\"weight_x1\"],\n",
    "                \"weight_x2\": i[\"weight_x2\"],\n",
    "                \"bias\": i[\"bias\"],\n",
    "                \"loss\": loss,\n",
    "            })\n",
    "\n",
    "        best_individual = max(result, key = lambda x: x[\"loss\"]);\n",
    "\n",
    "        return best_individual[\"weight_x1\"], best_individual[\"weight_x2\"], best_individual[\"bias\"], best_individual[\"loss\"];\n",
    "\n",
    "    def train(self):\n",
    "\n",
    "        for generation in range(self.generations):\n",
    "            \n",
    "            print(f\"Generation [{generation + 1} / {self.generations}] -\", end = \" \");\n",
    "\n",
    "            new_population = [];\n",
    "\n",
    "            selected_individuals = self.select_population(self.population);\n",
    "\n",
    "            for i in tqdm(range(self.population_size)):\n",
    "\n",
    "                parent1 = random.choice(selected_individuals);\n",
    "                parent2 = random.choice(selected_individuals);\n",
    "\n",
    "                child1, child2 = self.crossover(parent1, parent2);\n",
    "                \n",
    "                new_population.append(self.mutate(child1));\n",
    "                new_population.append(self.mutate(child2));\n",
    "                \n",
    "\n",
    "            self.population = new_population;\n",
    "\n",
    "            best_weight_x1, best_weight_x2, best_bias, loss = self.get_best_individual();\n",
    "\n",
    "            print(f\"Best weights of generation [{generation + 1}] - weight_x1: {best_weight_x1} - weight_x2: {best_weight_x2} - bias: {best_bias} - loss: {loss}\\n\\n\");"
   ]
  },
  {
   "cell_type": "code",
   "execution_count": 18,
   "metadata": {},
   "outputs": [
    {
     "name": "stdout",
     "output_type": "stream",
     "text": [
      "Generation [1 / 200] - "
     ]
    },
    {
     "name": "stderr",
     "output_type": "stream",
     "text": [
      "100%|██████████| 50/50 [00:00<00:00, 53308.39it/s]\n"
     ]
    },
    {
     "name": "stdout",
     "output_type": "stream",
     "text": [
      "{'weight_x1': 0.524304, 'weight_x2': 0.49561256, 'bias': 0.48108166, 'loss': -2.279758508118605}\n",
      "Best weights of generation [1] - weight_x1: 0.5243039727210999 - weight_x2: 0.49561256170272827 - bias: 0.48108166456222534 - loss: -2.279758508118605\n",
      "\n",
      "\n",
      "Generation [2 / 200] - "
     ]
    },
    {
     "name": "stderr",
     "output_type": "stream",
     "text": [
      "100%|██████████| 50/50 [00:00<00:00, 75086.00it/s]\n"
     ]
    },
    {
     "name": "stdout",
     "output_type": "stream",
     "text": [
      "{'weight_x1': 0.524304, 'weight_x2': 0.49561256, 'bias': 0.48108166, 'loss': -2.279758508118605}\n",
      "Best weights of generation [2] - weight_x1: 0.5243039727210999 - weight_x2: 0.49561256170272827 - bias: 0.48108166456222534 - loss: -2.279758508118605\n",
      "\n",
      "\n",
      "Generation [3 / 200] - "
     ]
    },
    {
     "name": "stderr",
     "output_type": "stream",
     "text": [
      "100%|██████████| 50/50 [00:00<00:00, 66218.88it/s]\n"
     ]
    },
    {
     "name": "stdout",
     "output_type": "stream",
     "text": [
      "{'weight_x1': -1.029503578242597, 'weight_x2': 0.49561256, 'bias': 0.48108166, 'loss': -1.237266894340962}\n",
      "Best weights of generation [3] - weight_x1: -1.029503578242597 - weight_x2: 0.49561256170272827 - bias: 0.48108166456222534 - loss: -1.237266894340962\n",
      "\n",
      "\n",
      "Generation [4 / 200] - "
     ]
    },
    {
     "name": "stderr",
     "output_type": "stream",
     "text": [
      "100%|██████████| 50/50 [00:00<00:00, 48121.89it/s]\n"
     ]
    },
    {
     "name": "stdout",
     "output_type": "stream",
     "text": [
      "{'weight_x1': -1.029503578242597, 'weight_x2': 0.49561256, 'bias': 0.48108166, 'loss': -1.237266894340962}\n",
      "Best weights of generation [4] - weight_x1: -1.029503578242597 - weight_x2: 0.49561256170272827 - bias: 0.48108166456222534 - loss: -1.237266894340962\n",
      "\n",
      "\n",
      "Generation [5 / 200] - "
     ]
    },
    {
     "name": "stderr",
     "output_type": "stream",
     "text": [
      "100%|██████████| 50/50 [00:00<00:00, 21161.98it/s]\n"
     ]
    },
    {
     "name": "stdout",
     "output_type": "stream",
     "text": [
      "{'weight_x1': -1.029503578242597, 'weight_x2': 0.49561256, 'bias': 0.48108166, 'loss': -1.237266894340962}\n",
      "Best weights of generation [5] - weight_x1: -1.029503578242597 - weight_x2: 0.49561256170272827 - bias: 0.48108166456222534 - loss: -1.237266894340962\n",
      "\n",
      "\n",
      "Generation [6 / 200] - "
     ]
    },
    {
     "name": "stderr",
     "output_type": "stream",
     "text": [
      "100%|██████████| 50/50 [00:00<00:00, 42992.05it/s]\n"
     ]
    },
    {
     "name": "stdout",
     "output_type": "stream",
     "text": [
      "{'weight_x1': -1.029503578242597, 'weight_x2': 0.49561256, 'bias': 0.40002968828441515, 'loss': -1.1898250789144078}\n",
      "Best weights of generation [6] - weight_x1: -1.029503578242597 - weight_x2: 0.49561256170272827 - bias: 0.40002968828441515 - loss: -1.1898250789144078\n",
      "\n",
      "\n",
      "Generation [7 / 200] - "
     ]
    },
    {
     "name": "stderr",
     "output_type": "stream",
     "text": [
      "100%|██████████| 50/50 [00:00<00:00, 36446.85it/s]\n"
     ]
    },
    {
     "name": "stdout",
     "output_type": "stream",
     "text": [
      "{'weight_x1': -1.029503578242597, 'weight_x2': 0.49561256, 'bias': 0.40002968828441515, 'loss': -1.1898250789144078}\n",
      "Best weights of generation [7] - weight_x1: -1.029503578242597 - weight_x2: 0.49561256170272827 - bias: 0.40002968828441515 - loss: -1.1898250789144078\n",
      "\n",
      "\n",
      "Generation [8 / 200] - "
     ]
    },
    {
     "name": "stderr",
     "output_type": "stream",
     "text": [
      "100%|██████████| 50/50 [00:00<00:00, 78751.48it/s]\n"
     ]
    },
    {
     "name": "stdout",
     "output_type": "stream",
     "text": [
      "{'weight_x1': -1.0909062368627884, 'weight_x2': 0.49561256, 'bias': 0.40002968828441515, 'loss': -1.1790345314395498}\n",
      "Best weights of generation [8] - weight_x1: -1.0909062368627884 - weight_x2: 0.49561256170272827 - bias: 0.40002968828441515 - loss: -1.1790345314395498\n",
      "\n",
      "\n",
      "Generation [9 / 200] - "
     ]
    },
    {
     "name": "stderr",
     "output_type": "stream",
     "text": [
      "100%|██████████| 50/50 [00:00<00:00, 26168.60it/s]\n"
     ]
    },
    {
     "name": "stdout",
     "output_type": "stream",
     "text": [
      "{'weight_x1': -1.029503578242597, 'weight_x2': 0.49561256, 'bias': 0.04142419195016622, 'loss': -1.1375876046998707}\n",
      "Best weights of generation [9] - weight_x1: -1.029503578242597 - weight_x2: 0.49561256170272827 - bias: 0.04142419195016622 - loss: -1.1375876046998707\n",
      "\n",
      "\n",
      "Generation [10 / 200] - "
     ]
    },
    {
     "name": "stderr",
     "output_type": "stream",
     "text": [
      "100%|██████████| 50/50 [00:00<00:00, 8282.26it/s]\n"
     ]
    },
    {
     "name": "stdout",
     "output_type": "stream",
     "text": [
      "{'weight_x1': -1.029503578242597, 'weight_x2': 0.4567350346941886, 'bias': 0.04142419195016622, 'loss': -1.1244302956469812}\n",
      "Best weights of generation [10] - weight_x1: -1.029503578242597 - weight_x2: 0.4567350346941886 - bias: 0.04142419195016622 - loss: -1.1244302956469812\n",
      "\n",
      "\n",
      "Generation [11 / 200] - "
     ]
    },
    {
     "name": "stderr",
     "output_type": "stream",
     "text": [
      "100%|██████████| 50/50 [00:00<00:00, 49356.37it/s]\n"
     ]
    },
    {
     "name": "stdout",
     "output_type": "stream",
     "text": [
      "{'weight_x1': -1.029503578242597, 'weight_x2': 0.4567350346941886, 'bias': 0.04142419195016622, 'loss': -1.1244302956469812}\n",
      "Best weights of generation [11] - weight_x1: -1.029503578242597 - weight_x2: 0.4567350346941886 - bias: 0.04142419195016622 - loss: -1.1244302956469812\n",
      "\n",
      "\n",
      "Generation [12 / 200] - "
     ]
    },
    {
     "name": "stderr",
     "output_type": "stream",
     "text": [
      "100%|██████████| 50/50 [00:00<00:00, 43672.47it/s]\n"
     ]
    },
    {
     "name": "stdout",
     "output_type": "stream",
     "text": [
      "{'weight_x1': -0.3182759504073953, 'weight_x2': 0.29515410598916847, 'bias': 0.04142419195016622, 'loss': -1.0702449006218115}\n",
      "Best weights of generation [12] - weight_x1: -0.3182759504073953 - weight_x2: 0.29515410598916847 - bias: 0.04142419195016622 - loss: -1.0702449006218115\n",
      "\n",
      "\n",
      "Generation [13 / 200] - "
     ]
    },
    {
     "name": "stderr",
     "output_type": "stream",
     "text": [
      "100%|██████████| 50/50 [00:00<00:00, 26566.40it/s]\n"
     ]
    },
    {
     "name": "stdout",
     "output_type": "stream",
     "text": [
      "{'weight_x1': -0.3182759504073953, 'weight_x2': 0.29515410598916847, 'bias': 0.04142419195016622, 'loss': -1.0702449006218115}\n",
      "Best weights of generation [13] - weight_x1: -0.3182759504073953 - weight_x2: 0.29515410598916847 - bias: 0.04142419195016622 - loss: -1.0702449006218115\n",
      "\n",
      "\n",
      "Generation [14 / 200] - "
     ]
    },
    {
     "name": "stderr",
     "output_type": "stream",
     "text": [
      "100%|██████████| 50/50 [00:00<00:00, 23032.97it/s]\n"
     ]
    },
    {
     "name": "stdout",
     "output_type": "stream",
     "text": [
      "{'weight_x1': -0.3182759504073953, 'weight_x2': 0.29515410598916847, 'bias': 0.04142419195016622, 'loss': -1.0702449006218115}\n",
      "Best weights of generation [14] - weight_x1: -0.3182759504073953 - weight_x2: 0.29515410598916847 - bias: 0.04142419195016622 - loss: -1.0702449006218115\n",
      "\n",
      "\n",
      "Generation [15 / 200] - "
     ]
    },
    {
     "name": "stderr",
     "output_type": "stream",
     "text": [
      "100%|██████████| 50/50 [00:00<00:00, 10649.77it/s]\n"
     ]
    },
    {
     "name": "stdout",
     "output_type": "stream",
     "text": [
      "{'weight_x1': -0.3182759504073953, 'weight_x2': 0.29515410598916847, 'bias': 0.04142419195016622, 'loss': -1.0702449006218115}\n",
      "Best weights of generation [15] - weight_x1: -0.3182759504073953 - weight_x2: 0.29515410598916847 - bias: 0.04142419195016622 - loss: -1.0702449006218115\n",
      "\n",
      "\n",
      "Generation [16 / 200] - "
     ]
    },
    {
     "name": "stderr",
     "output_type": "stream",
     "text": [
      "100%|██████████| 50/50 [00:00<00:00, 117421.72it/s]\n"
     ]
    },
    {
     "name": "stdout",
     "output_type": "stream",
     "text": [
      "{'weight_x1': -0.3182759504073953, 'weight_x2': 0.29515410598916847, 'bias': 0.04142419195016622, 'loss': -1.0702449006218115}\n",
      "Best weights of generation [16] - weight_x1: -0.3182759504073953 - weight_x2: 0.29515410598916847 - bias: 0.04142419195016622 - loss: -1.0702449006218115\n",
      "\n",
      "\n",
      "Generation [17 / 200] - "
     ]
    },
    {
     "name": "stderr",
     "output_type": "stream",
     "text": [
      "100%|██████████| 50/50 [00:00<00:00, 115736.87it/s]\n"
     ]
    },
    {
     "name": "stdout",
     "output_type": "stream",
     "text": [
      "{'weight_x1': -0.3182759504073953, 'weight_x2': -0.7053681569859132, 'bias': 0.04142419195016622, 'loss': -1.014543341594244}\n",
      "Best weights of generation [17] - weight_x1: -0.3182759504073953 - weight_x2: -0.7053681569859132 - bias: 0.04142419195016622 - loss: -1.014543341594244\n",
      "\n",
      "\n",
      "Generation [18 / 200] - "
     ]
    },
    {
     "name": "stderr",
     "output_type": "stream",
     "text": [
      "100%|██████████| 50/50 [00:00<00:00, 14358.15it/s]\n"
     ]
    },
    {
     "name": "stdout",
     "output_type": "stream",
     "text": [
      "{'weight_x1': -0.3182759504073953, 'weight_x2': -0.5176533926413741, 'bias': 0.04142419195016622, 'loss': -0.9583410770386307}\n",
      "Best weights of generation [18] - weight_x1: -0.3182759504073953 - weight_x2: -0.5176533926413741 - bias: 0.04142419195016622 - loss: -0.9583410770386307\n",
      "\n",
      "\n",
      "Generation [19 / 200] - "
     ]
    },
    {
     "name": "stderr",
     "output_type": "stream",
     "text": [
      "100%|██████████| 50/50 [00:00<00:00, 7016.47it/s]\n"
     ]
    },
    {
     "name": "stdout",
     "output_type": "stream",
     "text": [
      "{'weight_x1': -0.3182759504073953, 'weight_x2': -0.7053681569859132, 'bias': 0.991075806495257, 'loss': -0.9297864724777062}\n",
      "Best weights of generation [19] - weight_x1: -0.3182759504073953 - weight_x2: -0.7053681569859132 - bias: 0.991075806495257 - loss: -0.9297864724777062\n",
      "\n",
      "\n",
      "Generation [20 / 200] - "
     ]
    },
    {
     "name": "stderr",
     "output_type": "stream",
     "text": [
      "100%|██████████| 50/50 [00:00<00:00, 33288.13it/s]\n"
     ]
    },
    {
     "name": "stdout",
     "output_type": "stream",
     "text": [
      "{'weight_x1': -0.3182759504073953, 'weight_x2': -0.5176533926413741, 'bias': 0.41145981150194294, 'loss': -0.794190032909887}\n",
      "Best weights of generation [20] - weight_x1: -0.3182759504073953 - weight_x2: -0.5176533926413741 - bias: 0.41145981150194294 - loss: -0.794190032909887\n",
      "\n",
      "\n",
      "Generation [21 / 200] - "
     ]
    },
    {
     "name": "stderr",
     "output_type": "stream",
     "text": [
      "100%|██████████| 50/50 [00:00<00:00, 78869.95it/s]\n"
     ]
    },
    {
     "name": "stdout",
     "output_type": "stream",
     "text": [
      "{'weight_x1': -0.3182759504073953, 'weight_x2': -0.7053681569859132, 'bias': 0.41145981150194294, 'loss': -0.7670389185176035}\n",
      "Best weights of generation [21] - weight_x1: -0.3182759504073953 - weight_x2: -0.7053681569859132 - bias: 0.41145981150194294 - loss: -0.7670389185176035\n",
      "\n",
      "\n",
      "Generation [22 / 200] - "
     ]
    },
    {
     "name": "stderr",
     "output_type": "stream",
     "text": [
      "100%|██████████| 50/50 [00:00<00:00, 36308.03it/s]\n"
     ]
    },
    {
     "name": "stdout",
     "output_type": "stream",
     "text": [
      "{'weight_x1': -0.3182759504073953, 'weight_x2': -0.7053681569859132, 'bias': 0.41145981150194294, 'loss': -0.7670389185176035}\n",
      "Best weights of generation [22] - weight_x1: -0.3182759504073953 - weight_x2: -0.7053681569859132 - bias: 0.41145981150194294 - loss: -0.7670389185176035\n",
      "\n",
      "\n",
      "Generation [23 / 200] - "
     ]
    },
    {
     "name": "stderr",
     "output_type": "stream",
     "text": [
      "100%|██████████| 50/50 [00:00<00:00, 27887.66it/s]\n"
     ]
    },
    {
     "name": "stdout",
     "output_type": "stream",
     "text": [
      "{'weight_x1': -0.3182759504073953, 'weight_x2': -0.7053681569859132, 'bias': 0.41145981150194294, 'loss': -0.7670389185176035}\n",
      "Best weights of generation [23] - weight_x1: -0.3182759504073953 - weight_x2: -0.7053681569859132 - bias: 0.41145981150194294 - loss: -0.7670389185176035\n",
      "\n",
      "\n",
      "Generation [24 / 200] - "
     ]
    },
    {
     "name": "stderr",
     "output_type": "stream",
     "text": [
      "100%|██████████| 50/50 [00:00<00:00, 51337.87it/s]\n"
     ]
    },
    {
     "name": "stdout",
     "output_type": "stream",
     "text": [
      "{'weight_x1': -0.3182759504073953, 'weight_x2': -0.7053681569859132, 'bias': 0.41145981150194294, 'loss': -0.7670389185176035}\n",
      "Best weights of generation [24] - weight_x1: -0.3182759504073953 - weight_x2: -0.7053681569859132 - bias: 0.41145981150194294 - loss: -0.7670389185176035\n",
      "\n",
      "\n",
      "Generation [25 / 200] - "
     ]
    },
    {
     "name": "stderr",
     "output_type": "stream",
     "text": [
      "100%|██████████| 50/50 [00:00<00:00, 96155.52it/s]\n"
     ]
    },
    {
     "name": "stdout",
     "output_type": "stream",
     "text": [
      "{'weight_x1': -0.4926243557761127, 'weight_x2': -0.7053681569859132, 'bias': 0.41145981150194294, 'loss': -0.7665855169293583}\n",
      "Best weights of generation [25] - weight_x1: -0.4926243557761127 - weight_x2: -0.7053681569859132 - bias: 0.41145981150194294 - loss: -0.7665855169293583\n",
      "\n",
      "\n",
      "Generation [26 / 200] - "
     ]
    },
    {
     "name": "stderr",
     "output_type": "stream",
     "text": [
      "100%|██████████| 50/50 [00:00<00:00, 36548.48it/s]\n"
     ]
    },
    {
     "name": "stdout",
     "output_type": "stream",
     "text": [
      "{'weight_x1': -0.3182759504073953, 'weight_x2': -0.7996577297268458, 'bias': 0.41145981150194294, 'loss': -0.7650167205649849}\n",
      "Best weights of generation [26] - weight_x1: -0.3182759504073953 - weight_x2: -0.7996577297268458 - bias: 0.41145981150194294 - loss: -0.7650167205649849\n",
      "\n",
      "\n",
      "Generation [27 / 200] - "
     ]
    },
    {
     "name": "stderr",
     "output_type": "stream",
     "text": [
      "100%|██████████| 50/50 [00:00<00:00, 28214.07it/s]\n"
     ]
    },
    {
     "name": "stdout",
     "output_type": "stream",
     "text": [
      "{'weight_x1': -0.3182759504073953, 'weight_x2': -0.7996577297268458, 'bias': 0.41145981150194294, 'loss': -0.7650167205649849}\n",
      "Best weights of generation [27] - weight_x1: -0.3182759504073953 - weight_x2: -0.7996577297268458 - bias: 0.41145981150194294 - loss: -0.7650167205649849\n",
      "\n",
      "\n",
      "Generation [28 / 200] - "
     ]
    },
    {
     "name": "stderr",
     "output_type": "stream",
     "text": [
      "100%|██████████| 50/50 [00:00<00:00, 14615.32it/s]\n"
     ]
    },
    {
     "name": "stdout",
     "output_type": "stream",
     "text": [
      "{'weight_x1': -0.3182759504073953, 'weight_x2': -0.7996577297268458, 'bias': 0.41145981150194294, 'loss': -0.7650167205649849}\n",
      "Best weights of generation [28] - weight_x1: -0.3182759504073953 - weight_x2: -0.7996577297268458 - bias: 0.41145981150194294 - loss: -0.7650167205649849\n",
      "\n",
      "\n",
      "Generation [29 / 200] - "
     ]
    },
    {
     "name": "stderr",
     "output_type": "stream",
     "text": [
      "100%|██████████| 50/50 [00:00<00:00, 12048.44it/s]"
     ]
    },
    {
     "name": "stdout",
     "output_type": "stream",
     "text": [
      "{'weight_x1': -0.3182759504073953, 'weight_x2': -0.7996577297268458, 'bias': 0.41145981150194294, 'loss': -0.7650167205649849}"
     ]
    },
    {
     "name": "stderr",
     "output_type": "stream",
     "text": [
      "\n"
     ]
    },
    {
     "name": "stdout",
     "output_type": "stream",
     "text": [
      "\n",
      "Best weights of generation [29] - weight_x1: -0.3182759504073953 - weight_x2: -0.7996577297268458 - bias: 0.41145981150194294 - loss: -0.7650167205649849\n",
      "\n",
      "\n",
      "Generation [30 / 200] - "
     ]
    },
    {
     "name": "stderr",
     "output_type": "stream",
     "text": [
      "100%|██████████| 50/50 [00:00<00:00, 19833.10it/s]\n"
     ]
    },
    {
     "name": "stdout",
     "output_type": "stream",
     "text": [
      "{'weight_x1': -0.3182759504073953, 'weight_x2': -0.7996577297268458, 'bias': 0.41145981150194294, 'loss': -0.7650167205649849}\n",
      "Best weights of generation [30] - weight_x1: -0.3182759504073953 - weight_x2: -0.7996577297268458 - bias: 0.41145981150194294 - loss: -0.7650167205649849\n",
      "\n",
      "\n",
      "Generation [31 / 200] - "
     ]
    },
    {
     "name": "stderr",
     "output_type": "stream",
     "text": [
      "100%|██████████| 50/50 [00:00<00:00, 51175.01it/s]\n"
     ]
    },
    {
     "name": "stdout",
     "output_type": "stream",
     "text": [
      "{'weight_x1': -0.3182759504073953, 'weight_x2': -0.7996577297268458, 'bias': 0.41145981150194294, 'loss': -0.7650167205649849}\n",
      "Best weights of generation [31] - weight_x1: -0.3182759504073953 - weight_x2: -0.7996577297268458 - bias: 0.41145981150194294 - loss: -0.7650167205649849\n",
      "\n",
      "\n",
      "Generation [32 / 200] - "
     ]
    },
    {
     "name": "stderr",
     "output_type": "stream",
     "text": [
      "100%|██████████| 50/50 [00:00<00:00, 22829.87it/s]\n"
     ]
    },
    {
     "name": "stdout",
     "output_type": "stream",
     "text": [
      "{'weight_x1': -0.3182759504073953, 'weight_x2': -0.7996577297268458, 'bias': 0.41145981150194294, 'loss': -0.7650167205649849}\n",
      "Best weights of generation [32] - weight_x1: -0.3182759504073953 - weight_x2: -0.7996577297268458 - bias: 0.41145981150194294 - loss: -0.7650167205649849\n",
      "\n",
      "\n",
      "Generation [33 / 200] - "
     ]
    },
    {
     "name": "stderr",
     "output_type": "stream",
     "text": [
      "100%|██████████| 50/50 [00:00<00:00, 91738.93it/s]\n"
     ]
    },
    {
     "name": "stdout",
     "output_type": "stream",
     "text": [
      "{'weight_x1': -0.3182759504073953, 'weight_x2': -0.7996577297268458, 'bias': 0.41145981150194294, 'loss': -0.7650167205649849}\n",
      "Best weights of generation [33] - weight_x1: -0.3182759504073953 - weight_x2: -0.7996577297268458 - bias: 0.41145981150194294 - loss: -0.7650167205649849\n",
      "\n",
      "\n",
      "Generation [34 / 200] - "
     ]
    },
    {
     "name": "stderr",
     "output_type": "stream",
     "text": [
      "100%|██████████| 50/50 [00:00<00:00, 76121.67it/s]\n"
     ]
    },
    {
     "name": "stdout",
     "output_type": "stream",
     "text": [
      "{'weight_x1': -0.3182759504073953, 'weight_x2': -0.7996577297268458, 'bias': 0.41145981150194294, 'loss': -0.7650167205649849}\n",
      "Best weights of generation [34] - weight_x1: -0.3182759504073953 - weight_x2: -0.7996577297268458 - bias: 0.41145981150194294 - loss: -0.7650167205649849\n",
      "\n",
      "\n",
      "Generation [35 / 200] - "
     ]
    },
    {
     "name": "stderr",
     "output_type": "stream",
     "text": [
      "100%|██████████| 50/50 [00:00<00:00, 43293.81it/s]"
     ]
    },
    {
     "name": "stdout",
     "output_type": "stream",
     "text": [
      "{'weight_x1': -0.3182759504073953, 'weight_x2': -0.7996577297268458, 'bias': 0.41145981150194294, 'loss': -0.7650167205649849}\n",
      "Best weights of generation [35] - weight_x1: -0.3182759504073953 - weight_x2: -0.7996577297268458 - bias: 0.41145981150194294 - loss: -0.7650167205649849\n",
      "\n",
      "\n",
      "Generation [36 / 200] - "
     ]
    },
    {
     "name": "stderr",
     "output_type": "stream",
     "text": [
      "\n",
      "100%|██████████| 50/50 [00:00<00:00, 95760.37it/s]\n"
     ]
    },
    {
     "name": "stdout",
     "output_type": "stream",
     "text": [
      "{'weight_x1': -0.3182759504073953, 'weight_x2': -0.7996577297268458, 'bias': 0.41145981150194294, 'loss': -0.7650167205649849}\n",
      "Best weights of generation [36] - weight_x1: -0.3182759504073953 - weight_x2: -0.7996577297268458 - bias: 0.41145981150194294 - loss: -0.7650167205649849\n",
      "\n",
      "\n",
      "Generation [37 / 200] - "
     ]
    },
    {
     "name": "stderr",
     "output_type": "stream",
     "text": [
      "100%|██████████| 50/50 [00:00<00:00, 49932.19it/s]"
     ]
    },
    {
     "name": "stdout",
     "output_type": "stream",
     "text": [
      "{'weight_x1': -0.3182759504073953, 'weight_x2': -0.7996577297268458, 'bias': 0.6219381443907257, 'loss': -0.722605332934612}\n",
      "Best weights of generation [37] - weight_x1: -0.3182759504073953 - weight_x2: -0.7996577297268458 - bias: 0.6219381443907257 - loss: -0.722605332934612\n",
      "\n",
      "\n",
      "Generation [38 / 200] - "
     ]
    },
    {
     "name": "stderr",
     "output_type": "stream",
     "text": [
      "\n",
      "100%|██████████| 50/50 [00:00<00:00, 23942.82it/s]\n"
     ]
    },
    {
     "name": "stdout",
     "output_type": "stream",
     "text": [
      "{'weight_x1': -0.3182759504073953, 'weight_x2': -1.1581499118579301, 'bias': 1.0443797343148453, 'loss': -0.6957992975545326}\n",
      "Best weights of generation [38] - weight_x1: -0.3182759504073953 - weight_x2: -1.1581499118579301 - bias: 1.0443797343148453 - loss: -0.6957992975545326\n",
      "\n",
      "\n",
      "Generation [39 / 200] - "
     ]
    },
    {
     "name": "stderr",
     "output_type": "stream",
     "text": [
      "100%|██████████| 50/50 [00:00<00:00, 21854.44it/s]\n"
     ]
    },
    {
     "name": "stdout",
     "output_type": "stream",
     "text": [
      "{'weight_x1': -0.3182759504073953, 'weight_x2': -1.1581499118579301, 'bias': 0.6219381443907257, 'loss': -0.6952799954419309}\n",
      "Best weights of generation [39] - weight_x1: -0.3182759504073953 - weight_x2: -1.1581499118579301 - bias: 0.6219381443907257 - loss: -0.6952799954419309\n",
      "\n",
      "\n",
      "Generation [40 / 200] - "
     ]
    },
    {
     "name": "stderr",
     "output_type": "stream",
     "text": [
      "100%|██████████| 50/50 [00:00<00:00, 72166.28it/s]\n"
     ]
    },
    {
     "name": "stdout",
     "output_type": "stream",
     "text": [
      "{'weight_x1': -0.3182759504073953, 'weight_x2': -1.1581499118579301, 'bias': 0.6219381443907257, 'loss': -0.6952799954419309}\n",
      "Best weights of generation [40] - weight_x1: -0.3182759504073953 - weight_x2: -1.1581499118579301 - bias: 0.6219381443907257 - loss: -0.6952799954419309\n",
      "\n",
      "\n",
      "Generation [41 / 200] - "
     ]
    },
    {
     "name": "stderr",
     "output_type": "stream",
     "text": [
      "100%|██████████| 50/50 [00:00<00:00, 34295.21it/s]\n"
     ]
    },
    {
     "name": "stdout",
     "output_type": "stream",
     "text": [
      "{'weight_x1': -0.3182759504073953, 'weight_x2': -1.1581499118579301, 'bias': 0.9609343703538303, 'loss': -0.6674090557653234}\n",
      "Best weights of generation [41] - weight_x1: -0.3182759504073953 - weight_x2: -1.1581499118579301 - bias: 0.9609343703538303 - loss: -0.6674090557653234\n",
      "\n",
      "\n",
      "Generation [42 / 200] - "
     ]
    },
    {
     "name": "stderr",
     "output_type": "stream",
     "text": [
      "100%|██████████| 50/50 [00:00<00:00, 40658.24it/s]\n"
     ]
    },
    {
     "name": "stdout",
     "output_type": "stream",
     "text": [
      "{'weight_x1': -0.3182759504073953, 'weight_x2': -1.1581499118579301, 'bias': 0.9609343703538303, 'loss': -0.6674090557653234}\n",
      "Best weights of generation [42] - weight_x1: -0.3182759504073953 - weight_x2: -1.1581499118579301 - bias: 0.9609343703538303 - loss: -0.6674090557653234\n",
      "\n",
      "\n",
      "Generation [43 / 200] - "
     ]
    },
    {
     "name": "stderr",
     "output_type": "stream",
     "text": [
      "100%|██████████| 50/50 [00:00<00:00, 56299.38it/s]\n"
     ]
    },
    {
     "name": "stdout",
     "output_type": "stream",
     "text": [
      "{'weight_x1': -0.3182759504073953, 'weight_x2': -1.1581499118579301, 'bias': 0.9609343703538303, 'loss': -0.6674090557653234}\n",
      "Best weights of generation [43] - weight_x1: -0.3182759504073953 - weight_x2: -1.1581499118579301 - bias: 0.9609343703538303 - loss: -0.6674090557653234\n",
      "\n",
      "\n",
      "Generation [44 / 200] - "
     ]
    },
    {
     "name": "stderr",
     "output_type": "stream",
     "text": [
      "100%|██████████| 50/50 [00:00<00:00, 18825.42it/s]\n"
     ]
    },
    {
     "name": "stdout",
     "output_type": "stream",
     "text": [
      "{'weight_x1': -0.3182759504073953, 'weight_x2': -1.1581499118579301, 'bias': 0.9609343703538303, 'loss': -0.6674090557653234}\n",
      "Best weights of generation [44] - weight_x1: -0.3182759504073953 - weight_x2: -1.1581499118579301 - bias: 0.9609343703538303 - loss: -0.6674090557653234\n",
      "\n",
      "\n",
      "Generation [45 / 200] - "
     ]
    },
    {
     "name": "stderr",
     "output_type": "stream",
     "text": [
      "100%|██████████| 50/50 [00:00<00:00, 8023.38it/s]\n"
     ]
    },
    {
     "name": "stdout",
     "output_type": "stream",
     "text": [
      "{'weight_x1': -0.3182759504073953, 'weight_x2': -1.1581499118579301, 'bias': 0.9609343703538303, 'loss': -0.6674090557653234}\n",
      "Best weights of generation [45] - weight_x1: -0.3182759504073953 - weight_x2: -1.1581499118579301 - bias: 0.9609343703538303 - loss: -0.6674090557653234\n",
      "\n",
      "\n",
      "Generation [46 / 200] - "
     ]
    },
    {
     "name": "stderr",
     "output_type": "stream",
     "text": [
      "100%|██████████| 50/50 [00:00<00:00, 35940.91it/s]\n"
     ]
    },
    {
     "name": "stdout",
     "output_type": "stream",
     "text": [
      "{'weight_x1': -1.017461838159567, 'weight_x2': -1.1581499118579301, 'bias': 0.9609343703538303, 'loss': -0.56893412533304}\n",
      "Best weights of generation [46] - weight_x1: -1.017461838159567 - weight_x2: -1.1581499118579301 - bias: 0.9609343703538303 - loss: -0.56893412533304\n",
      "\n",
      "\n",
      "Generation [47 / 200] - "
     ]
    },
    {
     "name": "stderr",
     "output_type": "stream",
     "text": [
      "100%|██████████| 50/50 [00:00<00:00, 77903.12it/s]\n"
     ]
    },
    {
     "name": "stdout",
     "output_type": "stream",
     "text": [
      "{'weight_x1': -1.017461838159567, 'weight_x2': -1.1581499118579301, 'bias': 1.1029165451869132, 'loss': -0.5396810453590647}\n",
      "Best weights of generation [47] - weight_x1: -1.017461838159567 - weight_x2: -1.1581499118579301 - bias: 1.1029165451869132 - loss: -0.5396810453590647\n",
      "\n",
      "\n",
      "Generation [48 / 200] - "
     ]
    },
    {
     "name": "stderr",
     "output_type": "stream",
     "text": [
      "100%|██████████| 50/50 [00:00<00:00, 33490.13it/s]\n"
     ]
    },
    {
     "name": "stdout",
     "output_type": "stream",
     "text": [
      "{'weight_x1': -1.017461838159567, 'weight_x2': -1.1581499118579301, 'bias': 1.1029165451869132, 'loss': -0.5396810453590647}\n",
      "Best weights of generation [48] - weight_x1: -1.017461838159567 - weight_x2: -1.1581499118579301 - bias: 1.1029165451869132 - loss: -0.5396810453590647\n",
      "\n",
      "\n",
      "Generation [49 / 200] - "
     ]
    },
    {
     "name": "stderr",
     "output_type": "stream",
     "text": [
      "100%|██████████| 50/50 [00:00<00:00, 10663.30it/s]\n"
     ]
    },
    {
     "name": "stdout",
     "output_type": "stream",
     "text": [
      "{'weight_x1': -1.017461838159567, 'weight_x2': -1.1581499118579301, 'bias': 1.1029165451869132, 'loss': -0.5396810453590647}\n",
      "Best weights of generation [49] - weight_x1: -1.017461838159567 - weight_x2: -1.1581499118579301 - bias: 1.1029165451869132 - loss: -0.5396810453590647\n",
      "\n",
      "\n",
      "Generation [50 / 200] - "
     ]
    },
    {
     "name": "stderr",
     "output_type": "stream",
     "text": [
      "100%|██████████| 50/50 [00:00<00:00, 61881.14it/s]\n"
     ]
    },
    {
     "name": "stdout",
     "output_type": "stream",
     "text": [
      "{'weight_x1': -1.017461838159567, 'weight_x2': -1.1581499118579301, 'bias': 1.1029165451869132, 'loss': -0.5396810453590647}\n",
      "Best weights of generation [50] - weight_x1: -1.017461838159567 - weight_x2: -1.1581499118579301 - bias: 1.1029165451869132 - loss: -0.5396810453590647\n",
      "\n",
      "\n",
      "Generation [51 / 200] - "
     ]
    },
    {
     "name": "stderr",
     "output_type": "stream",
     "text": [
      "100%|██████████| 50/50 [00:00<00:00, 107711.97it/s]\n"
     ]
    },
    {
     "name": "stdout",
     "output_type": "stream",
     "text": [
      "{'weight_x1': -1.017461838159567, 'weight_x2': -1.1581499118579301, 'bias': 1.1029165451869132, 'loss': -0.5396810453590647}\n",
      "Best weights of generation [51] - weight_x1: -1.017461838159567 - weight_x2: -1.1581499118579301 - bias: 1.1029165451869132 - loss: -0.5396810453590647\n",
      "\n",
      "\n",
      "Generation [52 / 200] - "
     ]
    },
    {
     "name": "stderr",
     "output_type": "stream",
     "text": [
      "100%|██████████| 50/50 [00:00<00:00, 106834.03it/s]\n"
     ]
    },
    {
     "name": "stdout",
     "output_type": "stream",
     "text": [
      "{'weight_x1': -1.017461838159567, 'weight_x2': -1.1581499118579301, 'bias': 1.1029165451869132, 'loss': -0.5396810453590647}\n",
      "Best weights of generation [52] - weight_x1: -1.017461838159567 - weight_x2: -1.1581499118579301 - bias: 1.1029165451869132 - loss: -0.5396810453590647\n",
      "\n",
      "\n",
      "Generation [53 / 200] - "
     ]
    },
    {
     "name": "stderr",
     "output_type": "stream",
     "text": [
      "100%|██████████| 50/50 [00:00<00:00, 69511.17it/s]\n"
     ]
    },
    {
     "name": "stdout",
     "output_type": "stream",
     "text": [
      "{'weight_x1': -1.5664744857923052, 'weight_x2': -1.9172218105072996, 'bias': 1.9953374363836496, 'loss': -0.36871269592964206}\n",
      "Best weights of generation [53] - weight_x1: -1.5664744857923052 - weight_x2: -1.9172218105072996 - bias: 1.9953374363836496 - loss: -0.36871269592964206\n",
      "\n",
      "\n",
      "Generation [54 / 200] - "
     ]
    },
    {
     "name": "stderr",
     "output_type": "stream",
     "text": [
      "100%|██████████| 50/50 [00:00<00:00, 41209.51it/s]\n"
     ]
    },
    {
     "name": "stdout",
     "output_type": "stream",
     "text": [
      "{'weight_x1': -1.5664744857923052, 'weight_x2': -1.9172218105072996, 'bias': 1.9953374363836496, 'loss': -0.36871269592964206}\n",
      "Best weights of generation [54] - weight_x1: -1.5664744857923052 - weight_x2: -1.9172218105072996 - bias: 1.9953374363836496 - loss: -0.36871269592964206\n",
      "\n",
      "\n",
      "Generation [55 / 200] - "
     ]
    },
    {
     "name": "stderr",
     "output_type": "stream",
     "text": [
      "100%|██████████| 50/50 [00:00<00:00, 139253.12it/s]\n"
     ]
    },
    {
     "name": "stdout",
     "output_type": "stream",
     "text": [
      "{'weight_x1': -1.5664744857923052, 'weight_x2': -1.9172218105072996, 'bias': 1.9953374363836496, 'loss': -0.36871269592964206}\n",
      "Best weights of generation [55] - weight_x1: -1.5664744857923052 - weight_x2: -1.9172218105072996 - bias: 1.9953374363836496 - loss: -0.36871269592964206\n",
      "\n",
      "\n",
      "Generation [56 / 200] - "
     ]
    },
    {
     "name": "stderr",
     "output_type": "stream",
     "text": [
      "100%|██████████| 50/50 [00:00<00:00, 61410.01it/s]\n"
     ]
    },
    {
     "name": "stdout",
     "output_type": "stream",
     "text": [
      "{'weight_x1': -1.5664744857923052, 'weight_x2': -1.9172218105072996, 'bias': 1.9953374363836496, 'loss': -0.36871269592964206}\n",
      "Best weights of generation [56] - weight_x1: -1.5664744857923052 - weight_x2: -1.9172218105072996 - bias: 1.9953374363836496 - loss: -0.36871269592964206\n",
      "\n",
      "\n",
      "Generation [57 / 200] - "
     ]
    },
    {
     "name": "stderr",
     "output_type": "stream",
     "text": [
      "100%|██████████| 50/50 [00:00<00:00, 16671.85it/s]\n"
     ]
    },
    {
     "name": "stdout",
     "output_type": "stream",
     "text": [
      "{'weight_x1': -1.5664744857923052, 'weight_x2': -2.4621531526659224, 'bias': 1.9953374363836496, 'loss': -0.3043865995161288}\n",
      "Best weights of generation [57] - weight_x1: -1.5664744857923052 - weight_x2: -2.4621531526659224 - bias: 1.9953374363836496 - loss: -0.3043865995161288\n",
      "\n",
      "\n",
      "Generation [58 / 200] - "
     ]
    },
    {
     "name": "stderr",
     "output_type": "stream",
     "text": [
      "100%|██████████| 50/50 [00:00<00:00, 97860.57it/s]"
     ]
    },
    {
     "name": "stdout",
     "output_type": "stream",
     "text": [
      "{'weight_x1': -1.5664744857923052, 'weight_x2': -2.4621531526659224, 'bias': 1.9953374363836496, 'loss': -0.3043865995161288}"
     ]
    },
    {
     "name": "stderr",
     "output_type": "stream",
     "text": [
      "\n"
     ]
    },
    {
     "name": "stdout",
     "output_type": "stream",
     "text": [
      "\n",
      "Best weights of generation [58] - weight_x1: -1.5664744857923052 - weight_x2: -2.4621531526659224 - bias: 1.9953374363836496 - loss: -0.3043865995161288\n",
      "\n",
      "\n",
      "Generation [59 / 200] - "
     ]
    },
    {
     "name": "stderr",
     "output_type": "stream",
     "text": [
      "100%|██████████| 50/50 [00:00<00:00, 72042.32it/s]\n"
     ]
    },
    {
     "name": "stdout",
     "output_type": "stream",
     "text": [
      "{'weight_x1': -1.5664744857923052, 'weight_x2': -2.4621531526659224, 'bias': 1.9953374363836496, 'loss': -0.3043865995161288}\n",
      "Best weights of generation [59] - weight_x1: -1.5664744857923052 - weight_x2: -2.4621531526659224 - bias: 1.9953374363836496 - loss: -0.3043865995161288\n",
      "\n",
      "\n",
      "Generation [60 / 200] - "
     ]
    },
    {
     "name": "stderr",
     "output_type": "stream",
     "text": [
      "100%|██████████| 50/50 [00:00<00:00, 25893.96it/s]\n"
     ]
    },
    {
     "name": "stdout",
     "output_type": "stream",
     "text": [
      "{'weight_x1': -1.5664744857923052, 'weight_x2': -2.4621531526659224, 'bias': 1.9953374363836496, 'loss': -0.3043865995161288}\n",
      "Best weights of generation [60] - weight_x1: -1.5664744857923052 - weight_x2: -2.4621531526659224 - bias: 1.9953374363836496 - loss: -0.3043865995161288\n",
      "\n",
      "\n",
      "Generation [61 / 200] - "
     ]
    },
    {
     "name": "stderr",
     "output_type": "stream",
     "text": [
      "100%|██████████| 50/50 [00:00<00:00, 2159.54it/s]\n"
     ]
    },
    {
     "name": "stdout",
     "output_type": "stream",
     "text": [
      "{'weight_x1': -1.5664744857923052, 'weight_x2': -2.4621531526659224, 'bias': 1.9953374363836496, 'loss': -0.3043865995161288}\n",
      "Best weights of generation [61] - weight_x1: -1.5664744857923052 - weight_x2: -2.4621531526659224 - bias: 1.9953374363836496 - loss: -0.3043865995161288\n",
      "\n",
      "\n",
      "Generation [62 / 200] - "
     ]
    },
    {
     "name": "stderr",
     "output_type": "stream",
     "text": [
      "100%|██████████| 50/50 [00:00<00:00, 10343.03it/s]"
     ]
    },
    {
     "name": "stdout",
     "output_type": "stream",
     "text": [
      "{'weight_x1': -1.5664744857923052, 'weight_x2': -2.4621531526659224, 'bias': 1.9953374363836496, 'loss': -0.3043865995161288}"
     ]
    },
    {
     "name": "stderr",
     "output_type": "stream",
     "text": [
      "\n"
     ]
    },
    {
     "name": "stdout",
     "output_type": "stream",
     "text": [
      "\n",
      "Best weights of generation [62] - weight_x1: -1.5664744857923052 - weight_x2: -2.4621531526659224 - bias: 1.9953374363836496 - loss: -0.3043865995161288\n",
      "\n",
      "\n",
      "Generation [63 / 200] - "
     ]
    },
    {
     "name": "stderr",
     "output_type": "stream",
     "text": [
      "100%|██████████| 50/50 [00:00<00:00, 18671.23it/s]\n"
     ]
    },
    {
     "name": "stdout",
     "output_type": "stream",
     "text": [
      "{'weight_x1': -1.5664744857923052, 'weight_x2': -2.4621531526659224, 'bias': 1.9953374363836496, 'loss': -0.3043865995161288}\n",
      "Best weights of generation [63] - weight_x1: -1.5664744857923052 - weight_x2: -2.4621531526659224 - bias: 1.9953374363836496 - loss: -0.3043865995161288\n",
      "\n",
      "\n",
      "Generation [64 / 200] - "
     ]
    },
    {
     "name": "stderr",
     "output_type": "stream",
     "text": [
      "100%|██████████| 50/50 [00:00<00:00, 16933.00it/s]\n"
     ]
    },
    {
     "name": "stdout",
     "output_type": "stream",
     "text": [
      "{'weight_x1': -1.5664744857923052, 'weight_x2': -2.4621531526659224, 'bias': 2.3140443713270518, 'loss': -0.3043220914162653}\n",
      "Best weights of generation [64] - weight_x1: -1.5664744857923052 - weight_x2: -2.4621531526659224 - bias: 2.3140443713270518 - loss: -0.3043220914162653\n",
      "\n",
      "\n",
      "Generation [65 / 200] - "
     ]
    },
    {
     "name": "stderr",
     "output_type": "stream",
     "text": [
      "100%|██████████| 50/50 [00:00<00:00, 111610.01it/s]\n"
     ]
    },
    {
     "name": "stdout",
     "output_type": "stream",
     "text": [
      "{'weight_x1': -1.5664744857923052, 'weight_x2': -2.4621531526659224, 'bias': 2.3140443713270518, 'loss': -0.3043220914162653}\n",
      "Best weights of generation [65] - weight_x1: -1.5664744857923052 - weight_x2: -2.4621531526659224 - bias: 2.3140443713270518 - loss: -0.3043220914162653\n",
      "\n",
      "\n",
      "Generation [66 / 200] - "
     ]
    },
    {
     "name": "stderr",
     "output_type": "stream",
     "text": [
      "100%|██████████| 50/50 [00:00<00:00, 60176.53it/s]\n"
     ]
    },
    {
     "name": "stdout",
     "output_type": "stream",
     "text": [
      "{'weight_x1': -1.5664744857923052, 'weight_x2': -2.4621531526659224, 'bias': 2.3140443713270518, 'loss': -0.3043220914162653}\n",
      "Best weights of generation [66] - weight_x1: -1.5664744857923052 - weight_x2: -2.4621531526659224 - bias: 2.3140443713270518 - loss: -0.3043220914162653\n",
      "\n",
      "\n",
      "Generation [67 / 200] - "
     ]
    },
    {
     "name": "stderr",
     "output_type": "stream",
     "text": [
      "100%|██████████| 50/50 [00:00<00:00, 72365.49it/s]\n"
     ]
    },
    {
     "name": "stdout",
     "output_type": "stream",
     "text": [
      "{'weight_x1': -1.5664744857923052, 'weight_x2': -2.4621531526659224, 'bias': 2.3140443713270518, 'loss': -0.3043220914162653}\n",
      "Best weights of generation [67] - weight_x1: -1.5664744857923052 - weight_x2: -2.4621531526659224 - bias: 2.3140443713270518 - loss: -0.3043220914162653\n",
      "\n",
      "\n",
      "Generation [68 / 200] - "
     ]
    },
    {
     "name": "stderr",
     "output_type": "stream",
     "text": [
      "100%|██████████| 50/50 [00:00<00:00, 40159.94it/s]\n"
     ]
    },
    {
     "name": "stdout",
     "output_type": "stream",
     "text": [
      "{'weight_x1': -1.5664744857923052, 'weight_x2': -2.4621531526659224, 'bias': 2.3140443713270518, 'loss': -0.3043220914162653}\n",
      "Best weights of generation [68] - weight_x1: -1.5664744857923052 - weight_x2: -2.4621531526659224 - bias: 2.3140443713270518 - loss: -0.3043220914162653\n",
      "\n",
      "\n",
      "Generation [69 / 200] - "
     ]
    },
    {
     "name": "stderr",
     "output_type": "stream",
     "text": [
      "100%|██████████| 50/50 [00:00<00:00, 23463.33it/s]\n"
     ]
    },
    {
     "name": "stdout",
     "output_type": "stream",
     "text": [
      "{'weight_x1': -1.5664744857923052, 'weight_x2': -2.4621531526659224, 'bias': 2.3140443713270518, 'loss': -0.3043220914162653}\n",
      "Best weights of generation [69] - weight_x1: -1.5664744857923052 - weight_x2: -2.4621531526659224 - bias: 2.3140443713270518 - loss: -0.3043220914162653\n",
      "\n",
      "\n",
      "Generation [70 / 200] - "
     ]
    },
    {
     "name": "stderr",
     "output_type": "stream",
     "text": [
      "100%|██████████| 50/50 [00:00<00:00, 61972.58it/s]\n"
     ]
    },
    {
     "name": "stdout",
     "output_type": "stream",
     "text": [
      "{'weight_x1': -1.5664744857923052, 'weight_x2': -2.4621531526659224, 'bias': 2.3140443713270518, 'loss': -0.3043220914162653}\n",
      "Best weights of generation [70] - weight_x1: -1.5664744857923052 - weight_x2: -2.4621531526659224 - bias: 2.3140443713270518 - loss: -0.3043220914162653\n",
      "\n",
      "\n",
      "Generation [71 / 200] - "
     ]
    },
    {
     "name": "stderr",
     "output_type": "stream",
     "text": [
      "100%|██████████| 50/50 [00:00<00:00, 51287.65it/s]\n"
     ]
    },
    {
     "name": "stdout",
     "output_type": "stream",
     "text": [
      "{'weight_x1': -1.5664744857923052, 'weight_x2': -2.4621531526659224, 'bias': 2.3140443713270518, 'loss': -0.3043220914162653}\n",
      "Best weights of generation [71] - weight_x1: -1.5664744857923052 - weight_x2: -2.4621531526659224 - bias: 2.3140443713270518 - loss: -0.3043220914162653\n",
      "\n",
      "\n",
      "Generation [72 / 200] - "
     ]
    },
    {
     "name": "stderr",
     "output_type": "stream",
     "text": [
      "100%|██████████| 50/50 [00:00<00:00, 30192.23it/s]"
     ]
    },
    {
     "name": "stdout",
     "output_type": "stream",
     "text": [
      "{'weight_x1': -1.5664744857923052, 'weight_x2': -2.4621531526659224, 'bias': 2.3140443713270518, 'loss': -0.3043220914162653}"
     ]
    },
    {
     "name": "stderr",
     "output_type": "stream",
     "text": [
      "\n"
     ]
    },
    {
     "name": "stdout",
     "output_type": "stream",
     "text": [
      "\n",
      "Best weights of generation [72] - weight_x1: -1.5664744857923052 - weight_x2: -2.4621531526659224 - bias: 2.3140443713270518 - loss: -0.3043220914162653\n",
      "\n",
      "\n",
      "Generation [73 / 200] - "
     ]
    },
    {
     "name": "stderr",
     "output_type": "stream",
     "text": [
      "100%|██████████| 50/50 [00:00<00:00, 7235.80it/s]\n"
     ]
    },
    {
     "name": "stdout",
     "output_type": "stream",
     "text": [
      "{'weight_x1': -1.5664744857923052, 'weight_x2': -2.4621531526659224, 'bias': 2.3140443713270518, 'loss': -0.3043220914162653}\n",
      "Best weights of generation [73] - weight_x1: -1.5664744857923052 - weight_x2: -2.4621531526659224 - bias: 2.3140443713270518 - loss: -0.3043220914162653\n",
      "\n",
      "\n",
      "Generation [74 / 200] - "
     ]
    },
    {
     "name": "stderr",
     "output_type": "stream",
     "text": [
      "100%|██████████| 50/50 [00:00<00:00, 40229.27it/s]\n"
     ]
    },
    {
     "name": "stdout",
     "output_type": "stream",
     "text": [
      "{'weight_x1': -1.6124716053547972, 'weight_x2': -2.4621531526659224, 'bias': 2.3140443713270518, 'loss': -0.29267183720229717}\n",
      "Best weights of generation [74] - weight_x1: -1.6124716053547972 - weight_x2: -2.4621531526659224 - bias: 2.3140443713270518 - loss: -0.29267183720229717\n",
      "\n",
      "\n",
      "Generation [75 / 200] - "
     ]
    },
    {
     "name": "stderr",
     "output_type": "stream",
     "text": [
      "100%|██████████| 50/50 [00:00<00:00, 63588.60it/s]\n"
     ]
    },
    {
     "name": "stdout",
     "output_type": "stream",
     "text": [
      "{'weight_x1': -1.8511834608028095, 'weight_x2': -2.4621531526659224, 'bias': 2.3140443713270518, 'loss': -0.25009662972991575}\n",
      "Best weights of generation [75] - weight_x1: -1.8511834608028095 - weight_x2: -2.4621531526659224 - bias: 2.3140443713270518 - loss: -0.25009662972991575\n",
      "\n",
      "\n",
      "Generation [76 / 200] - "
     ]
    },
    {
     "name": "stderr",
     "output_type": "stream",
     "text": [
      "100%|██████████| 50/50 [00:00<00:00, 28886.39it/s]\n"
     ]
    },
    {
     "name": "stdout",
     "output_type": "stream",
     "text": [
      "{'weight_x1': -1.8511834608028095, 'weight_x2': -2.4621531526659224, 'bias': 2.3140443713270518, 'loss': -0.25009662972991575}\n",
      "Best weights of generation [76] - weight_x1: -1.8511834608028095 - weight_x2: -2.4621531526659224 - bias: 2.3140443713270518 - loss: -0.25009662972991575\n",
      "\n",
      "\n",
      "Generation [77 / 200] - "
     ]
    },
    {
     "name": "stderr",
     "output_type": "stream",
     "text": [
      "100%|██████████| 50/50 [00:00<00:00, 91738.93it/s]\n"
     ]
    },
    {
     "name": "stdout",
     "output_type": "stream",
     "text": [
      "{'weight_x1': -1.8511834608028095, 'weight_x2': -2.4621531526659224, 'bias': 2.3140443713270518, 'loss': -0.25009662972991575}\n",
      "Best weights of generation [77] - weight_x1: -1.8511834608028095 - weight_x2: -2.4621531526659224 - bias: 2.3140443713270518 - loss: -0.25009662972991575\n",
      "\n",
      "\n",
      "Generation [78 / 200] - "
     ]
    },
    {
     "name": "stderr",
     "output_type": "stream",
     "text": [
      "100%|██████████| 50/50 [00:00<00:00, 45669.69it/s]\n"
     ]
    },
    {
     "name": "stdout",
     "output_type": "stream",
     "text": [
      "{'weight_x1': -1.8511834608028095, 'weight_x2': -2.4621531526659224, 'bias': 2.3140443713270518, 'loss': -0.25009662972991575}\n",
      "Best weights of generation [78] - weight_x1: -1.8511834608028095 - weight_x2: -2.4621531526659224 - bias: 2.3140443713270518 - loss: -0.25009662972991575\n",
      "\n",
      "\n",
      "Generation [79 / 200] - "
     ]
    },
    {
     "name": "stderr",
     "output_type": "stream",
     "text": [
      "100%|██████████| 50/50 [00:00<00:00, 17761.94it/s]\n"
     ]
    },
    {
     "name": "stdout",
     "output_type": "stream",
     "text": [
      "{'weight_x1': -1.8511834608028095, 'weight_x2': -2.4621531526659224, 'bias': 2.3140443713270518, 'loss': -0.25009662972991575}\n",
      "Best weights of generation [79] - weight_x1: -1.8511834608028095 - weight_x2: -2.4621531526659224 - bias: 2.3140443713270518 - loss: -0.25009662972991575\n",
      "\n",
      "\n",
      "Generation [80 / 200] - "
     ]
    },
    {
     "name": "stderr",
     "output_type": "stream",
     "text": [
      "100%|██████████| 50/50 [00:00<00:00, 104596.11it/s]\n"
     ]
    },
    {
     "name": "stdout",
     "output_type": "stream",
     "text": [
      "{'weight_x1': -1.8511834608028095, 'weight_x2': -2.4621531526659224, 'bias': 2.3140443713270518, 'loss': -0.25009662972991575}\n",
      "Best weights of generation [80] - weight_x1: -1.8511834608028095 - weight_x2: -2.4621531526659224 - bias: 2.3140443713270518 - loss: -0.25009662972991575\n",
      "\n",
      "\n",
      "Generation [81 / 200] - "
     ]
    },
    {
     "name": "stderr",
     "output_type": "stream",
     "text": [
      "100%|██████████| 50/50 [00:00<00:00, 32742.42it/s]\n"
     ]
    },
    {
     "name": "stdout",
     "output_type": "stream",
     "text": [
      "{'weight_x1': -1.8511834608028095, 'weight_x2': -2.4621531526659224, 'bias': 2.3140443713270518, 'loss': -0.25009662972991575}\n",
      "Best weights of generation [81] - weight_x1: -1.8511834608028095 - weight_x2: -2.4621531526659224 - bias: 2.3140443713270518 - loss: -0.25009662972991575\n",
      "\n",
      "\n",
      "Generation [82 / 200] - "
     ]
    },
    {
     "name": "stderr",
     "output_type": "stream",
     "text": [
      "100%|██████████| 50/50 [00:00<00:00, 84939.33it/s]\n"
     ]
    },
    {
     "name": "stdout",
     "output_type": "stream",
     "text": [
      "{'weight_x1': -2.051227849470245, 'weight_x2': -2.4621531526659224, 'bias': 2.3140443713270518, 'loss': -0.2375169789811664}\n",
      "Best weights of generation [82] - weight_x1: -2.051227849470245 - weight_x2: -2.4621531526659224 - bias: 2.3140443713270518 - loss: -0.2375169789811664\n",
      "\n",
      "\n",
      "Generation [83 / 200] - "
     ]
    },
    {
     "name": "stderr",
     "output_type": "stream",
     "text": [
      "100%|██████████| 50/50 [00:00<00:00, 67584.66it/s]\n"
     ]
    },
    {
     "name": "stdout",
     "output_type": "stream",
     "text": [
      "{'weight_x1': -2.051227849470245, 'weight_x2': -2.4621531526659224, 'bias': 2.3140443713270518, 'loss': -0.2375169789811664}\n",
      "Best weights of generation [83] - weight_x1: -2.051227849470245 - weight_x2: -2.4621531526659224 - bias: 2.3140443713270518 - loss: -0.2375169789811664\n",
      "\n",
      "\n",
      "Generation [84 / 200] - "
     ]
    },
    {
     "name": "stderr",
     "output_type": "stream",
     "text": [
      "100%|██████████| 50/50 [00:00<00:00, 73096.97it/s]\n"
     ]
    },
    {
     "name": "stdout",
     "output_type": "stream",
     "text": [
      "{'weight_x1': -2.051227849470245, 'weight_x2': -2.4621531526659224, 'bias': 2.3140443713270518, 'loss': -0.2375169789811664}\n",
      "Best weights of generation [84] - weight_x1: -2.051227849470245 - weight_x2: -2.4621531526659224 - bias: 2.3140443713270518 - loss: -0.2375169789811664\n",
      "\n",
      "\n",
      "Generation [85 / 200] - "
     ]
    },
    {
     "name": "stderr",
     "output_type": "stream",
     "text": [
      "100%|██████████| 50/50 [00:00<00:00, 10690.48it/s]\n"
     ]
    },
    {
     "name": "stdout",
     "output_type": "stream",
     "text": [
      "{'weight_x1': -2.051227849470245, 'weight_x2': -2.4621531526659224, 'bias': 2.3140443713270518, 'loss': -0.2375169789811664}\n",
      "Best weights of generation [85] - weight_x1: -2.051227849470245 - weight_x2: -2.4621531526659224 - bias: 2.3140443713270518 - loss: -0.2375169789811664\n",
      "\n",
      "\n",
      "Generation [86 / 200] - "
     ]
    },
    {
     "name": "stderr",
     "output_type": "stream",
     "text": [
      "100%|██████████| 50/50 [00:00<00:00, 48873.27it/s]\n"
     ]
    },
    {
     "name": "stdout",
     "output_type": "stream",
     "text": [
      "{'weight_x1': -2.051227849470245, 'weight_x2': -2.4621531526659224, 'bias': 2.3140443713270518, 'loss': -0.2375169789811664}\n",
      "Best weights of generation [86] - weight_x1: -2.051227849470245 - weight_x2: -2.4621531526659224 - bias: 2.3140443713270518 - loss: -0.2375169789811664\n",
      "\n",
      "\n",
      "Generation [87 / 200] - "
     ]
    },
    {
     "name": "stderr",
     "output_type": "stream",
     "text": [
      "100%|██████████| 50/50 [00:00<00:00, 80908.64it/s]\n"
     ]
    },
    {
     "name": "stdout",
     "output_type": "stream",
     "text": [
      "{'weight_x1': -2.051227849470245, 'weight_x2': -2.4621531526659224, 'bias': 2.3140443713270518, 'loss': -0.2375169789811664}\n",
      "Best weights of generation [87] - weight_x1: -2.051227849470245 - weight_x2: -2.4621531526659224 - bias: 2.3140443713270518 - loss: -0.2375169789811664\n",
      "\n",
      "\n",
      "Generation [88 / 200] - "
     ]
    },
    {
     "name": "stderr",
     "output_type": "stream",
     "text": [
      "100%|██████████| 50/50 [00:00<00:00, 50509.44it/s]\n"
     ]
    },
    {
     "name": "stdout",
     "output_type": "stream",
     "text": [
      "{'weight_x1': -2.051227849470245, 'weight_x2': -2.4621531526659224, 'bias': 2.3140443713270518, 'loss': -0.2375169789811664}\n",
      "Best weights of generation [88] - weight_x1: -2.051227849470245 - weight_x2: -2.4621531526659224 - bias: 2.3140443713270518 - loss: -0.2375169789811664\n",
      "\n",
      "\n",
      "Generation [89 / 200] - "
     ]
    },
    {
     "name": "stderr",
     "output_type": "stream",
     "text": [
      "100%|██████████| 50/50 [00:00<00:00, 19723.05it/s]\n"
     ]
    },
    {
     "name": "stdout",
     "output_type": "stream",
     "text": [
      "{'weight_x1': -2.051227849470245, 'weight_x2': -2.4621531526659224, 'bias': 2.3140443713270518, 'loss': -0.2375169789811664}\n",
      "Best weights of generation [89] - weight_x1: -2.051227849470245 - weight_x2: -2.4621531526659224 - bias: 2.3140443713270518 - loss: -0.2375169789811664\n",
      "\n",
      "\n",
      "Generation [90 / 200] - "
     ]
    },
    {
     "name": "stderr",
     "output_type": "stream",
     "text": [
      "100%|██████████| 50/50 [00:00<00:00, 12782.06it/s]\n"
     ]
    },
    {
     "name": "stdout",
     "output_type": "stream",
     "text": [
      "{'weight_x1': -2.051227849470245, 'weight_x2': -2.470691255082017, 'bias': 2.3140443713270518, 'loss': -0.23712650414692854}\n",
      "Best weights of generation [90] - weight_x1: -2.051227849470245 - weight_x2: -2.470691255082017 - bias: 2.3140443713270518 - loss: -0.23712650414692854\n",
      "\n",
      "\n",
      "Generation [91 / 200] - "
     ]
    },
    {
     "name": "stderr",
     "output_type": "stream",
     "text": [
      "100%|██████████| 50/50 [00:00<00:00, 26329.59it/s]\n"
     ]
    },
    {
     "name": "stdout",
     "output_type": "stream",
     "text": [
      "{'weight_x1': -2.051227849470245, 'weight_x2': -2.470691255082017, 'bias': 2.3140443713270518, 'loss': -0.23712650414692854}\n",
      "Best weights of generation [91] - weight_x1: -2.051227849470245 - weight_x2: -2.470691255082017 - bias: 2.3140443713270518 - loss: -0.23712650414692854\n",
      "\n",
      "\n",
      "Generation [92 / 200] - "
     ]
    },
    {
     "name": "stderr",
     "output_type": "stream",
     "text": [
      "100%|██████████| 50/50 [00:00<00:00, 32635.42it/s]\n"
     ]
    },
    {
     "name": "stdout",
     "output_type": "stream",
     "text": [
      "{'weight_x1': -2.051227849470245, 'weight_x2': -2.470691255082017, 'bias': 2.3140443713270518, 'loss': -0.23712650414692854}\n",
      "Best weights of generation [92] - weight_x1: -2.051227849470245 - weight_x2: -2.470691255082017 - bias: 2.3140443713270518 - loss: -0.23712650414692854\n",
      "\n",
      "\n",
      "Generation [93 / 200] - "
     ]
    },
    {
     "name": "stderr",
     "output_type": "stream",
     "text": [
      "100%|██████████| 50/50 [00:00<00:00, 32468.68it/s]\n"
     ]
    },
    {
     "name": "stdout",
     "output_type": "stream",
     "text": [
      "{'weight_x1': -2.051227849470245, 'weight_x2': -2.470691255082017, 'bias': 2.3140443713270518, 'loss': -0.23712650414692854}\n",
      "Best weights of generation [93] - weight_x1: -2.051227849470245 - weight_x2: -2.470691255082017 - bias: 2.3140443713270518 - loss: -0.23712650414692854\n",
      "\n",
      "\n",
      "Generation [94 / 200] - "
     ]
    },
    {
     "name": "stderr",
     "output_type": "stream",
     "text": [
      "100%|██████████| 50/50 [00:00<00:00, 1214.23it/s]\n"
     ]
    },
    {
     "name": "stdout",
     "output_type": "stream",
     "text": [
      "{'weight_x1': -2.051227849470245, 'weight_x2': -2.470691255082017, 'bias': 2.3140443713270518, 'loss': -0.23712650414692854}\n",
      "Best weights of generation [94] - weight_x1: -2.051227849470245 - weight_x2: -2.470691255082017 - bias: 2.3140443713270518 - loss: -0.23712650414692854\n",
      "\n",
      "\n",
      "Generation [95 / 200] - "
     ]
    },
    {
     "name": "stderr",
     "output_type": "stream",
     "text": [
      "100%|██████████| 50/50 [00:00<00:00, 100390.23it/s]\n"
     ]
    },
    {
     "name": "stdout",
     "output_type": "stream",
     "text": [
      "{'weight_x1': -2.051227849470245, 'weight_x2': -2.470691255082017, 'bias': 2.3140443713270518, 'loss': -0.23712650414692854}\n",
      "Best weights of generation [95] - weight_x1: -2.051227849470245 - weight_x2: -2.470691255082017 - bias: 2.3140443713270518 - loss: -0.23712650414692854\n",
      "\n",
      "\n",
      "Generation [96 / 200] - "
     ]
    },
    {
     "name": "stderr",
     "output_type": "stream",
     "text": [
      "100%|██████████| 50/50 [00:00<00:00, 74631.74it/s]\n"
     ]
    },
    {
     "name": "stdout",
     "output_type": "stream",
     "text": [
      "{'weight_x1': -2.051227849470245, 'weight_x2': -2.470691255082017, 'bias': 2.3140443713270518, 'loss': -0.23712650414692854}\n",
      "Best weights of generation [96] - weight_x1: -2.051227849470245 - weight_x2: -2.470691255082017 - bias: 2.3140443713270518 - loss: -0.23712650414692854\n",
      "\n",
      "\n",
      "Generation [97 / 200] - "
     ]
    },
    {
     "name": "stderr",
     "output_type": "stream",
     "text": [
      "100%|██████████| 50/50 [00:00<00:00, 99579.87it/s]\n"
     ]
    },
    {
     "name": "stdout",
     "output_type": "stream",
     "text": [
      "{'weight_x1': -2.051227849470245, 'weight_x2': -2.470691255082017, 'bias': 2.3140443713270518, 'loss': -0.23712650414692854}\n",
      "Best weights of generation [97] - weight_x1: -2.051227849470245 - weight_x2: -2.470691255082017 - bias: 2.3140443713270518 - loss: -0.23712650414692854\n",
      "\n",
      "\n",
      "Generation [98 / 200] - "
     ]
    },
    {
     "name": "stderr",
     "output_type": "stream",
     "text": [
      "100%|██████████| 50/50 [00:00<00:00, 21258.51it/s]\n"
     ]
    },
    {
     "name": "stdout",
     "output_type": "stream",
     "text": [
      "{'weight_x1': -2.051227849470245, 'weight_x2': -2.470691255082017, 'bias': 2.3140443713270518, 'loss': -0.23712650414692854}\n",
      "Best weights of generation [98] - weight_x1: -2.051227849470245 - weight_x2: -2.470691255082017 - bias: 2.3140443713270518 - loss: -0.23712650414692854\n",
      "\n",
      "\n",
      "Generation [99 / 200] - "
     ]
    },
    {
     "name": "stderr",
     "output_type": "stream",
     "text": [
      "100%|██████████| 50/50 [00:00<00:00, 62341.02it/s]\n"
     ]
    },
    {
     "name": "stdout",
     "output_type": "stream",
     "text": [
      "{'weight_x1': -2.051227849470245, 'weight_x2': -2.470691255082017, 'bias': 2.3140443713270518, 'loss': -0.23712650414692854}\n",
      "Best weights of generation [99] - weight_x1: -2.051227849470245 - weight_x2: -2.470691255082017 - bias: 2.3140443713270518 - loss: -0.23712650414692854\n",
      "\n",
      "\n",
      "Generation [100 / 200] - "
     ]
    },
    {
     "name": "stderr",
     "output_type": "stream",
     "text": [
      "100%|██████████| 50/50 [00:00<00:00, 30696.02it/s]\n"
     ]
    },
    {
     "name": "stdout",
     "output_type": "stream",
     "text": [
      "{'weight_x1': -2.051227849470245, 'weight_x2': -2.470691255082017, 'bias': 2.3140443713270518, 'loss': -0.23712650414692854}\n",
      "Best weights of generation [100] - weight_x1: -2.051227849470245 - weight_x2: -2.470691255082017 - bias: 2.3140443713270518 - loss: -0.23712650414692854\n",
      "\n",
      "\n",
      "Generation [101 / 200] - "
     ]
    },
    {
     "name": "stderr",
     "output_type": "stream",
     "text": [
      "100%|██████████| 50/50 [00:00<00:00, 25187.99it/s]\n"
     ]
    },
    {
     "name": "stdout",
     "output_type": "stream",
     "text": [
      "{'weight_x1': -2.051227849470245, 'weight_x2': -2.470691255082017, 'bias': 2.3140443713270518, 'loss': -0.23712650414692854}\n",
      "Best weights of generation [101] - weight_x1: -2.051227849470245 - weight_x2: -2.470691255082017 - bias: 2.3140443713270518 - loss: -0.23712650414692854\n",
      "\n",
      "\n",
      "Generation [102 / 200] - "
     ]
    },
    {
     "name": "stderr",
     "output_type": "stream",
     "text": [
      "100%|██████████| 50/50 [00:00<00:00, 65433.76it/s]\n"
     ]
    },
    {
     "name": "stdout",
     "output_type": "stream",
     "text": [
      "{'weight_x1': -2.051227849470245, 'weight_x2': -2.470691255082017, 'bias': 2.3140443713270518, 'loss': -0.23712650414692854}\n",
      "Best weights of generation [102] - weight_x1: -2.051227849470245 - weight_x2: -2.470691255082017 - bias: 2.3140443713270518 - loss: -0.23712650414692854\n",
      "\n",
      "\n",
      "Generation [103 / 200] - "
     ]
    },
    {
     "name": "stderr",
     "output_type": "stream",
     "text": [
      "100%|██████████| 50/50 [00:00<00:00, 75193.69it/s]\n"
     ]
    },
    {
     "name": "stdout",
     "output_type": "stream",
     "text": [
      "{'weight_x1': -2.051227849470245, 'weight_x2': -2.470691255082017, 'bias': 2.367706114699309, 'loss': -0.23404679713756715}\n",
      "Best weights of generation [103] - weight_x1: -2.051227849470245 - weight_x2: -2.470691255082017 - bias: 2.367706114699309 - loss: -0.23404679713756715\n",
      "\n",
      "\n",
      "Generation [104 / 200] - "
     ]
    },
    {
     "name": "stderr",
     "output_type": "stream",
     "text": [
      "100%|██████████| 50/50 [00:00<00:00, 73403.99it/s]"
     ]
    },
    {
     "name": "stdout",
     "output_type": "stream",
     "text": [
      "{'weight_x1': -2.051227849470245, 'weight_x2': -2.470691255082017, 'bias': 2.367706114699309, 'loss': -0.23404679713756715}"
     ]
    },
    {
     "name": "stderr",
     "output_type": "stream",
     "text": [
      "\n"
     ]
    },
    {
     "name": "stdout",
     "output_type": "stream",
     "text": [
      "\n",
      "Best weights of generation [104] - weight_x1: -2.051227849470245 - weight_x2: -2.470691255082017 - bias: 2.367706114699309 - loss: -0.23404679713756715\n",
      "\n",
      "\n",
      "Generation [105 / 200] - "
     ]
    },
    {
     "name": "stderr",
     "output_type": "stream",
     "text": [
      "100%|██████████| 50/50 [00:00<00:00, 40784.75it/s]\n"
     ]
    },
    {
     "name": "stdout",
     "output_type": "stream",
     "text": [
      "{'weight_x1': -2.051227849470245, 'weight_x2': -2.470691255082017, 'bias': 2.367706114699309, 'loss': -0.23404679713756715}\n",
      "Best weights of generation [105] - weight_x1: -2.051227849470245 - weight_x2: -2.470691255082017 - bias: 2.367706114699309 - loss: -0.23404679713756715\n",
      "\n",
      "\n",
      "Generation [106 / 200] - "
     ]
    },
    {
     "name": "stderr",
     "output_type": "stream",
     "text": [
      "100%|██████████| 50/50 [00:00<00:00, 85913.64it/s]\n"
     ]
    },
    {
     "name": "stdout",
     "output_type": "stream",
     "text": [
      "{'weight_x1': -2.051227849470245, 'weight_x2': -2.470691255082017, 'bias': 2.367706114699309, 'loss': -0.23404679713756715}\n",
      "Best weights of generation [106] - weight_x1: -2.051227849470245 - weight_x2: -2.470691255082017 - bias: 2.367706114699309 - loss: -0.23404679713756715\n",
      "\n",
      "\n",
      "Generation [107 / 200] - "
     ]
    },
    {
     "name": "stderr",
     "output_type": "stream",
     "text": [
      "100%|██████████| 50/50 [00:00<00:00, 22439.03it/s]\n"
     ]
    },
    {
     "name": "stdout",
     "output_type": "stream",
     "text": [
      "{'weight_x1': -2.051227849470245, 'weight_x2': -2.470691255082017, 'bias': 2.367706114699309, 'loss': -0.23404679713756715}\n",
      "Best weights of generation [107] - weight_x1: -2.051227849470245 - weight_x2: -2.470691255082017 - bias: 2.367706114699309 - loss: -0.23404679713756715\n",
      "\n",
      "\n",
      "Generation [108 / 200] - "
     ]
    },
    {
     "name": "stderr",
     "output_type": "stream",
     "text": [
      "100%|██████████| 50/50 [00:00<00:00, 78106.22it/s]\n"
     ]
    },
    {
     "name": "stdout",
     "output_type": "stream",
     "text": [
      "{'weight_x1': -2.051227849470245, 'weight_x2': -2.470691255082017, 'bias': 2.367706114699309, 'loss': -0.23404679713756715}\n",
      "Best weights of generation [108] - weight_x1: -2.051227849470245 - weight_x2: -2.470691255082017 - bias: 2.367706114699309 - loss: -0.23404679713756715\n",
      "\n",
      "\n",
      "Generation [109 / 200] - "
     ]
    },
    {
     "name": "stderr",
     "output_type": "stream",
     "text": [
      "100%|██████████| 50/50 [00:00<00:00, 110086.72it/s]\n"
     ]
    },
    {
     "name": "stdout",
     "output_type": "stream",
     "text": [
      "{'weight_x1': -2.051227849470245, 'weight_x2': -2.470691255082017, 'bias': 2.367706114699309, 'loss': -0.23404679713756715}\n",
      "Best weights of generation [109] - weight_x1: -2.051227849470245 - weight_x2: -2.470691255082017 - bias: 2.367706114699309 - loss: -0.23404679713756715\n",
      "\n",
      "\n",
      "Generation [110 / 200] - "
     ]
    },
    {
     "name": "stderr",
     "output_type": "stream",
     "text": [
      "100%|██████████| 50/50 [00:00<00:00, 2020.11it/s]\n"
     ]
    },
    {
     "name": "stdout",
     "output_type": "stream",
     "text": [
      "{'weight_x1': -2.166040189326722, 'weight_x2': -2.470691255082017, 'bias': 2.367706114699309, 'loss': -0.2314419267128882}\n",
      "Best weights of generation [110] - weight_x1: -2.166040189326722 - weight_x2: -2.470691255082017 - bias: 2.367706114699309 - loss: -0.2314419267128882\n",
      "\n",
      "\n",
      "Generation [111 / 200] - "
     ]
    },
    {
     "name": "stderr",
     "output_type": "stream",
     "text": [
      "100%|██████████| 50/50 [00:00<00:00, 57080.89it/s]\n"
     ]
    },
    {
     "name": "stdout",
     "output_type": "stream",
     "text": [
      "{'weight_x1': -2.166040189326722, 'weight_x2': -2.470691255082017, 'bias': 2.367706114699309, 'loss': -0.2314419267128882}\n",
      "Best weights of generation [111] - weight_x1: -2.166040189326722 - weight_x2: -2.470691255082017 - bias: 2.367706114699309 - loss: -0.2314419267128882\n",
      "\n",
      "\n",
      "Generation [112 / 200] - "
     ]
    },
    {
     "name": "stderr",
     "output_type": "stream",
     "text": [
      "100%|██████████| 50/50 [00:00<00:00, 50195.12it/s]\n"
     ]
    },
    {
     "name": "stdout",
     "output_type": "stream",
     "text": [
      "{'weight_x1': -2.166040189326722, 'weight_x2': -2.470691255082017, 'bias': 2.367706114699309, 'loss': -0.2314419267128882}\n",
      "Best weights of generation [112] - weight_x1: -2.166040189326722 - weight_x2: -2.470691255082017 - bias: 2.367706114699309 - loss: -0.2314419267128882\n",
      "\n",
      "\n",
      "Generation [113 / 200] - "
     ]
    },
    {
     "name": "stderr",
     "output_type": "stream",
     "text": [
      "100%|██████████| 50/50 [00:00<00:00, 27203.94it/s]\n"
     ]
    },
    {
     "name": "stdout",
     "output_type": "stream",
     "text": [
      "{'weight_x1': -2.166040189326722, 'weight_x2': -2.470691255082017, 'bias': 2.367706114699309, 'loss': -0.2314419267128882}\n",
      "Best weights of generation [113] - weight_x1: -2.166040189326722 - weight_x2: -2.470691255082017 - bias: 2.367706114699309 - loss: -0.2314419267128882\n",
      "\n",
      "\n",
      "Generation [114 / 200] - "
     ]
    },
    {
     "name": "stderr",
     "output_type": "stream",
     "text": [
      "100%|██████████| 50/50 [00:00<00:00, 39213.76it/s]\n"
     ]
    },
    {
     "name": "stdout",
     "output_type": "stream",
     "text": [
      "{'weight_x1': -2.166040189326722, 'weight_x2': -2.470691255082017, 'bias': 2.367706114699309, 'loss': -0.2314419267128882}\n",
      "Best weights of generation [114] - weight_x1: -2.166040189326722 - weight_x2: -2.470691255082017 - bias: 2.367706114699309 - loss: -0.2314419267128882\n",
      "\n",
      "\n",
      "Generation [115 / 200] - "
     ]
    },
    {
     "name": "stderr",
     "output_type": "stream",
     "text": [
      "100%|██████████| 50/50 [00:00<00:00, 70421.49it/s]\n"
     ]
    },
    {
     "name": "stdout",
     "output_type": "stream",
     "text": [
      "{'weight_x1': -2.166040189326722, 'weight_x2': -2.470691255082017, 'bias': 2.367706114699309, 'loss': -0.2314419267128882}\n",
      "Best weights of generation [115] - weight_x1: -2.166040189326722 - weight_x2: -2.470691255082017 - bias: 2.367706114699309 - loss: -0.2314419267128882\n",
      "\n",
      "\n",
      "Generation [116 / 200] - "
     ]
    },
    {
     "name": "stderr",
     "output_type": "stream",
     "text": [
      "100%|██████████| 50/50 [00:00<00:00, 76678.32it/s]\n"
     ]
    },
    {
     "name": "stdout",
     "output_type": "stream",
     "text": [
      "{'weight_x1': -2.166040189326722, 'weight_x2': -2.470691255082017, 'bias': 2.367706114699309, 'loss': -0.2314419267128882}\n",
      "Best weights of generation [116] - weight_x1: -2.166040189326722 - weight_x2: -2.470691255082017 - bias: 2.367706114699309 - loss: -0.2314419267128882\n",
      "\n",
      "\n",
      "Generation [117 / 200] - "
     ]
    },
    {
     "name": "stderr",
     "output_type": "stream",
     "text": [
      "100%|██████████| 50/50 [00:00<00:00, 71648.51it/s]\n"
     ]
    },
    {
     "name": "stdout",
     "output_type": "stream",
     "text": [
      "{'weight_x1': -2.166040189326722, 'weight_x2': -2.470691255082017, 'bias': 2.367706114699309, 'loss': -0.2314419267128882}\n",
      "Best weights of generation [117] - weight_x1: -2.166040189326722 - weight_x2: -2.470691255082017 - bias: 2.367706114699309 - loss: -0.2314419267128882\n",
      "\n",
      "\n",
      "Generation [118 / 200] - "
     ]
    },
    {
     "name": "stderr",
     "output_type": "stream",
     "text": [
      "100%|██████████| 50/50 [00:00<00:00, 44131.99it/s]\n"
     ]
    },
    {
     "name": "stdout",
     "output_type": "stream",
     "text": [
      "{'weight_x1': -2.166040189326722, 'weight_x2': -2.470691255082017, 'bias': 2.367706114699309, 'loss': -0.2314419267128882}\n",
      "Best weights of generation [118] - weight_x1: -2.166040189326722 - weight_x2: -2.470691255082017 - bias: 2.367706114699309 - loss: -0.2314419267128882\n",
      "\n",
      "\n",
      "Generation [119 / 200] - "
     ]
    },
    {
     "name": "stderr",
     "output_type": "stream",
     "text": [
      "100%|██████████| 50/50 [00:00<00:00, 94850.84it/s]\n"
     ]
    },
    {
     "name": "stdout",
     "output_type": "stream",
     "text": [
      "{'weight_x1': -2.166040189326722, 'weight_x2': -2.470691255082017, 'bias': 2.367706114699309, 'loss': -0.2314419267128882}\n",
      "Best weights of generation [119] - weight_x1: -2.166040189326722 - weight_x2: -2.470691255082017 - bias: 2.367706114699309 - loss: -0.2314419267128882\n",
      "\n",
      "\n",
      "Generation [120 / 200] - "
     ]
    },
    {
     "name": "stderr",
     "output_type": "stream",
     "text": [
      "100%|██████████| 50/50 [00:00<00:00, 17712.43it/s]\n"
     ]
    },
    {
     "name": "stdout",
     "output_type": "stream",
     "text": [
      "{'weight_x1': -2.166040189326722, 'weight_x2': -2.470691255082017, 'bias': 2.367706114699309, 'loss': -0.2314419267128882}\n",
      "Best weights of generation [120] - weight_x1: -2.166040189326722 - weight_x2: -2.470691255082017 - bias: 2.367706114699309 - loss: -0.2314419267128882\n",
      "\n",
      "\n",
      "Generation [121 / 200] - "
     ]
    },
    {
     "name": "stderr",
     "output_type": "stream",
     "text": [
      "100%|██████████| 50/50 [00:00<00:00, 25248.64it/s]\n"
     ]
    },
    {
     "name": "stdout",
     "output_type": "stream",
     "text": [
      "{'weight_x1': -2.166040189326722, 'weight_x2': -2.470691255082017, 'bias': 2.367706114699309, 'loss': -0.2314419267128882}\n",
      "Best weights of generation [121] - weight_x1: -2.166040189326722 - weight_x2: -2.470691255082017 - bias: 2.367706114699309 - loss: -0.2314419267128882\n",
      "\n",
      "\n",
      "Generation [122 / 200] - "
     ]
    },
    {
     "name": "stderr",
     "output_type": "stream",
     "text": [
      "100%|██████████| 50/50 [00:00<00:00, 66302.62it/s]\n"
     ]
    },
    {
     "name": "stdout",
     "output_type": "stream",
     "text": [
      "{'weight_x1': -2.166040189326722, 'weight_x2': -2.470691255082017, 'bias': 2.367706114699309, 'loss': -0.2314419267128882}\n",
      "Best weights of generation [122] - weight_x1: -2.166040189326722 - weight_x2: -2.470691255082017 - bias: 2.367706114699309 - loss: -0.2314419267128882\n",
      "\n",
      "\n",
      "Generation [123 / 200] - "
     ]
    },
    {
     "name": "stderr",
     "output_type": "stream",
     "text": [
      "100%|██████████| 50/50 [00:00<00:00, 62341.02it/s]\n"
     ]
    },
    {
     "name": "stdout",
     "output_type": "stream",
     "text": [
      "{'weight_x1': -2.166040189326722, 'weight_x2': -2.470691255082017, 'bias': 2.368119385095597, 'loss': -0.23139951328041036}\n",
      "Best weights of generation [123] - weight_x1: -2.166040189326722 - weight_x2: -2.470691255082017 - bias: 2.368119385095597 - loss: -0.23139951328041036\n",
      "\n",
      "\n",
      "Generation [124 / 200] - "
     ]
    },
    {
     "name": "stderr",
     "output_type": "stream",
     "text": [
      "100%|██████████| 50/50 [00:00<00:00, 17354.78it/s]"
     ]
    },
    {
     "name": "stdout",
     "output_type": "stream",
     "text": [
      "{'weight_x1': -2.166040189326722, 'weight_x2': -2.470691255082017, 'bias': 2.368119385095597, 'loss': -0.23139951328041036}\n",
      "Best weights of generation [124] - weight_x1: -2.166040189326722 - weight_x2: -2.470691255082017 - bias: 2.368119385095597 - loss: -0.23139951328041036\n",
      "\n",
      "\n",
      "Generation [125 / 200] - "
     ]
    },
    {
     "name": "stderr",
     "output_type": "stream",
     "text": [
      "\n",
      "100%|██████████| 50/50 [00:00<00:00, 64349.56it/s]\n"
     ]
    },
    {
     "name": "stdout",
     "output_type": "stream",
     "text": [
      "{'weight_x1': -2.166040189326722, 'weight_x2': -2.470691255082017, 'bias': 2.368119385095597, 'loss': -0.23139951328041036}\n",
      "Best weights of generation [125] - weight_x1: -2.166040189326722 - weight_x2: -2.470691255082017 - bias: 2.368119385095597 - loss: -0.23139951328041036\n",
      "\n",
      "\n",
      "Generation [126 / 200] - "
     ]
    },
    {
     "name": "stderr",
     "output_type": "stream",
     "text": [
      "100%|██████████| 50/50 [00:00<00:00, 15282.02it/s]\n"
     ]
    },
    {
     "name": "stdout",
     "output_type": "stream",
     "text": [
      "{'weight_x1': -2.166040189326722, 'weight_x2': -2.470691255082017, 'bias': 2.457397598370526, 'loss': -0.23024449546600018}\n",
      "Best weights of generation [126] - weight_x1: -2.166040189326722 - weight_x2: -2.470691255082017 - bias: 2.457397598370526 - loss: -0.23024449546600018\n",
      "\n",
      "\n",
      "Generation [127 / 200] - "
     ]
    },
    {
     "name": "stderr",
     "output_type": "stream",
     "text": [
      "100%|██████████| 50/50 [00:00<00:00, 168988.88it/s]\n"
     ]
    },
    {
     "name": "stdout",
     "output_type": "stream",
     "text": [
      "{'weight_x1': -2.166040189326722, 'weight_x2': -2.470691255082017, 'bias': 2.457397598370526, 'loss': -0.23024449546600018}\n",
      "Best weights of generation [127] - weight_x1: -2.166040189326722 - weight_x2: -2.470691255082017 - bias: 2.457397598370526 - loss: -0.23024449546600018\n",
      "\n",
      "\n",
      "Generation [128 / 200] - "
     ]
    },
    {
     "name": "stderr",
     "output_type": "stream",
     "text": [
      "100%|██████████| 50/50 [00:00<00:00, 9924.53it/s]"
     ]
    },
    {
     "name": "stdout",
     "output_type": "stream",
     "text": [
      "{'weight_x1': -2.166040189326722, 'weight_x2': -2.470691255082017, 'bias': 2.431172831251944, 'loss': -0.22893021084751006}"
     ]
    },
    {
     "name": "stderr",
     "output_type": "stream",
     "text": [
      "\n"
     ]
    },
    {
     "name": "stdout",
     "output_type": "stream",
     "text": [
      "\n",
      "Best weights of generation [128] - weight_x1: -2.166040189326722 - weight_x2: -2.470691255082017 - bias: 2.431172831251944 - loss: -0.22893021084751006\n",
      "\n",
      "\n",
      "Generation [129 / 200] - "
     ]
    },
    {
     "name": "stderr",
     "output_type": "stream",
     "text": [
      "100%|██████████| 50/50 [00:00<00:00, 10115.04it/s]\n"
     ]
    },
    {
     "name": "stdout",
     "output_type": "stream",
     "text": [
      "{'weight_x1': -2.166040189326722, 'weight_x2': -2.5446164889648717, 'bias': 2.457397598370526, 'loss': -0.22053883872954352}\n",
      "Best weights of generation [129] - weight_x1: -2.166040189326722 - weight_x2: -2.5446164889648717 - bias: 2.457397598370526 - loss: -0.22053883872954352\n",
      "\n",
      "\n",
      "Generation [130 / 200] - "
     ]
    },
    {
     "name": "stderr",
     "output_type": "stream",
     "text": [
      "100%|██████████| 50/50 [00:00<00:00, 63704.50it/s]\n"
     ]
    },
    {
     "name": "stdout",
     "output_type": "stream",
     "text": [
      "{'weight_x1': -2.166040189326722, 'weight_x2': -2.5446164889648717, 'bias': 2.457397598370526, 'loss': -0.22053883872954352}\n",
      "Best weights of generation [130] - weight_x1: -2.166040189326722 - weight_x2: -2.5446164889648717 - bias: 2.457397598370526 - loss: -0.22053883872954352\n",
      "\n",
      "\n",
      "Generation [131 / 200] - "
     ]
    },
    {
     "name": "stderr",
     "output_type": "stream",
     "text": [
      "100%|██████████| 50/50 [00:00<00:00, 74711.51it/s]\n"
     ]
    },
    {
     "name": "stdout",
     "output_type": "stream",
     "text": [
      "{'weight_x1': -2.166040189326722, 'weight_x2': -2.5446164889648717, 'bias': 2.457397598370526, 'loss': -0.22053883872954352}\n",
      "Best weights of generation [131] - weight_x1: -2.166040189326722 - weight_x2: -2.5446164889648717 - bias: 2.457397598370526 - loss: -0.22053883872954352\n",
      "\n",
      "\n",
      "Generation [132 / 200] - "
     ]
    },
    {
     "name": "stderr",
     "output_type": "stream",
     "text": [
      "100%|██████████| 50/50 [00:00<00:00, 6876.81it/s]\n"
     ]
    },
    {
     "name": "stdout",
     "output_type": "stream",
     "text": [
      "{'weight_x1': -2.2727379058781905, 'weight_x2': -2.5446164889648717, 'bias': 2.457397598370526, 'loss': -0.2195256112900818}\n",
      "Best weights of generation [132] - weight_x1: -2.2727379058781905 - weight_x2: -2.5446164889648717 - bias: 2.457397598370526 - loss: -0.2195256112900818\n",
      "\n",
      "\n",
      "Generation [133 / 200] - "
     ]
    },
    {
     "name": "stderr",
     "output_type": "stream",
     "text": [
      "100%|██████████| 50/50 [00:00<00:00, 121998.37it/s]\n"
     ]
    },
    {
     "name": "stdout",
     "output_type": "stream",
     "text": [
      "{'weight_x1': -2.2727379058781905, 'weight_x2': -2.5446164889648717, 'bias': 2.457397598370526, 'loss': -0.2195256112900818}\n",
      "Best weights of generation [133] - weight_x1: -2.2727379058781905 - weight_x2: -2.5446164889648717 - bias: 2.457397598370526 - loss: -0.2195256112900818\n",
      "\n",
      "\n",
      "Generation [134 / 200] - "
     ]
    },
    {
     "name": "stderr",
     "output_type": "stream",
     "text": [
      "100%|██████████| 50/50 [00:00<00:00, 9871.74it/s]\n"
     ]
    },
    {
     "name": "stdout",
     "output_type": "stream",
     "text": [
      "{'weight_x1': -2.2727379058781905, 'weight_x2': -2.5446164889648717, 'bias': 2.457397598370526, 'loss': -0.2195256112900818}\n",
      "Best weights of generation [134] - weight_x1: -2.2727379058781905 - weight_x2: -2.5446164889648717 - bias: 2.457397598370526 - loss: -0.2195256112900818\n",
      "\n",
      "\n",
      "Generation [135 / 200] - "
     ]
    },
    {
     "name": "stderr",
     "output_type": "stream",
     "text": [
      "100%|██████████| 50/50 [00:00<00:00, 48254.76it/s]\n"
     ]
    },
    {
     "name": "stdout",
     "output_type": "stream",
     "text": [
      "{'weight_x1': -2.2727379058781905, 'weight_x2': -2.5446164889648717, 'bias': 2.457397598370526, 'loss': -0.2195256112900818}\n",
      "Best weights of generation [135] - weight_x1: -2.2727379058781905 - weight_x2: -2.5446164889648717 - bias: 2.457397598370526 - loss: -0.2195256112900818\n",
      "\n",
      "\n",
      "Generation [136 / 200] - "
     ]
    },
    {
     "name": "stderr",
     "output_type": "stream",
     "text": [
      "100%|██████████| 50/50 [00:00<00:00, 49113.63it/s]\n"
     ]
    },
    {
     "name": "stdout",
     "output_type": "stream",
     "text": [
      "{'weight_x1': -2.2727379058781905, 'weight_x2': -2.5446164889648717, 'bias': 2.457397598370526, 'loss': -0.2195256112900818}\n",
      "Best weights of generation [136] - weight_x1: -2.2727379058781905 - weight_x2: -2.5446164889648717 - bias: 2.457397598370526 - loss: -0.2195256112900818\n",
      "\n",
      "\n",
      "Generation [137 / 200] - "
     ]
    },
    {
     "name": "stderr",
     "output_type": "stream",
     "text": [
      "100%|██████████| 50/50 [00:00<00:00, 84562.58it/s]\n"
     ]
    },
    {
     "name": "stdout",
     "output_type": "stream",
     "text": [
      "{'weight_x1': -2.2727379058781905, 'weight_x2': -2.5446164889648717, 'bias': 2.457397598370526, 'loss': -0.2195256112900818}\n",
      "Best weights of generation [137] - weight_x1: -2.2727379058781905 - weight_x2: -2.5446164889648717 - bias: 2.457397598370526 - loss: -0.2195256112900818\n",
      "\n",
      "\n",
      "Generation [138 / 200] - "
     ]
    },
    {
     "name": "stderr",
     "output_type": "stream",
     "text": [
      "100%|██████████| 50/50 [00:00<00:00, 13020.94it/s]\n"
     ]
    },
    {
     "name": "stdout",
     "output_type": "stream",
     "text": [
      "{'weight_x1': -2.2104939811875615, 'weight_x2': -2.5446164889648717, 'bias': 2.457397598370526, 'loss': -0.21938849516203934}\n",
      "Best weights of generation [138] - weight_x1: -2.2104939811875615 - weight_x2: -2.5446164889648717 - bias: 2.457397598370526 - loss: -0.21938849516203934\n",
      "\n",
      "\n",
      "Generation [139 / 200] - "
     ]
    },
    {
     "name": "stderr",
     "output_type": "stream",
     "text": [
      "100%|██████████| 50/50 [00:00<00:00, 49010.33it/s]\n"
     ]
    },
    {
     "name": "stdout",
     "output_type": "stream",
     "text": [
      "{'weight_x1': -2.2104939811875615, 'weight_x2': -2.5446164889648717, 'bias': 2.457397598370526, 'loss': -0.21938849516203934}\n",
      "Best weights of generation [139] - weight_x1: -2.2104939811875615 - weight_x2: -2.5446164889648717 - bias: 2.457397598370526 - loss: -0.21938849516203934\n",
      "\n",
      "\n",
      "Generation [140 / 200] - "
     ]
    },
    {
     "name": "stderr",
     "output_type": "stream",
     "text": [
      "100%|██████████| 50/50 [00:00<00:00, 61662.81it/s]\n"
     ]
    },
    {
     "name": "stdout",
     "output_type": "stream",
     "text": [
      "{'weight_x1': -2.2104939811875615, 'weight_x2': -2.5446164889648717, 'bias': 2.457397598370526, 'loss': -0.21938849516203934}\n",
      "Best weights of generation [140] - weight_x1: -2.2104939811875615 - weight_x2: -2.5446164889648717 - bias: 2.457397598370526 - loss: -0.21938849516203934\n",
      "\n",
      "\n",
      "Generation [141 / 200] - "
     ]
    },
    {
     "name": "stderr",
     "output_type": "stream",
     "text": [
      "100%|██████████| 50/50 [00:00<00:00, 18110.12it/s]"
     ]
    },
    {
     "name": "stdout",
     "output_type": "stream",
     "text": [
      "{'weight_x1': -2.2104939811875615, 'weight_x2': -2.5446164889648717, 'bias': 2.457397598370526, 'loss': -0.21938849516203934}\n",
      "Best weights of generation [141] - weight_x1: -2.2104939811875615 - weight_x2: -2.5446164889648717 - bias: 2.457397598370526 - loss: -0.21938849516203934\n",
      "\n",
      "\n",
      "Generation [142 / 200] - "
     ]
    },
    {
     "name": "stderr",
     "output_type": "stream",
     "text": [
      "\n",
      "100%|██████████| 50/50 [00:00<00:00, 87527.21it/s]\n"
     ]
    },
    {
     "name": "stdout",
     "output_type": "stream",
     "text": [
      "{'weight_x1': -2.2104939811875615, 'weight_x2': -2.5446164889648717, 'bias': 2.457397598370526, 'loss': -0.21938849516203934}\n",
      "Best weights of generation [142] - weight_x1: -2.2104939811875615 - weight_x2: -2.5446164889648717 - bias: 2.457397598370526 - loss: -0.21938849516203934\n",
      "\n",
      "\n",
      "Generation [143 / 200] - "
     ]
    },
    {
     "name": "stderr",
     "output_type": "stream",
     "text": [
      "100%|██████████| 50/50 [00:00<00:00, 23661.88it/s]\n"
     ]
    },
    {
     "name": "stdout",
     "output_type": "stream",
     "text": [
      "{'weight_x1': -2.2104939811875615, 'weight_x2': -2.5446164889648717, 'bias': 2.457397598370526, 'loss': -0.21938849516203934}\n",
      "Best weights of generation [143] - weight_x1: -2.2104939811875615 - weight_x2: -2.5446164889648717 - bias: 2.457397598370526 - loss: -0.21938849516203934\n",
      "\n",
      "\n",
      "Generation [144 / 200] - "
     ]
    },
    {
     "name": "stderr",
     "output_type": "stream",
     "text": [
      "100%|██████████| 50/50 [00:00<00:00, 73326.99it/s]\n"
     ]
    },
    {
     "name": "stdout",
     "output_type": "stream",
     "text": [
      "{'weight_x1': -2.2104939811875615, 'weight_x2': -2.5446164889648717, 'bias': 2.457397598370526, 'loss': -0.21938849516203934}\n",
      "Best weights of generation [144] - weight_x1: -2.2104939811875615 - weight_x2: -2.5446164889648717 - bias: 2.457397598370526 - loss: -0.21938849516203934\n",
      "\n",
      "\n",
      "Generation [145 / 200] - "
     ]
    },
    {
     "name": "stderr",
     "output_type": "stream",
     "text": [
      "100%|██████████| 50/50 [00:00<00:00, 42136.87it/s]\n"
     ]
    },
    {
     "name": "stdout",
     "output_type": "stream",
     "text": [
      "{'weight_x1': -2.2104939811875615, 'weight_x2': -2.5919682692489148, 'bias': 2.457397598370526, 'loss': -0.2166051794983886}\n",
      "Best weights of generation [145] - weight_x1: -2.2104939811875615 - weight_x2: -2.5919682692489148 - bias: 2.457397598370526 - loss: -0.2166051794983886\n",
      "\n",
      "\n",
      "Generation [146 / 200] - "
     ]
    },
    {
     "name": "stderr",
     "output_type": "stream",
     "text": [
      "100%|██████████| 50/50 [00:00<00:00, 8444.34it/s]"
     ]
    },
    {
     "name": "stdout",
     "output_type": "stream",
     "text": [
      "{'weight_x1': -2.2104939811875615, 'weight_x2': -2.5919682692489148, 'bias': 2.457397598370526, 'loss': -0.2166051794983886}"
     ]
    },
    {
     "name": "stderr",
     "output_type": "stream",
     "text": [
      "\n"
     ]
    },
    {
     "name": "stdout",
     "output_type": "stream",
     "text": [
      "\n",
      "Best weights of generation [146] - weight_x1: -2.2104939811875615 - weight_x2: -2.5919682692489148 - bias: 2.457397598370526 - loss: -0.2166051794983886\n",
      "\n",
      "\n",
      "Generation [147 / 200] - "
     ]
    },
    {
     "name": "stderr",
     "output_type": "stream",
     "text": [
      "100%|██████████| 50/50 [00:00<00:00, 63453.92it/s]"
     ]
    },
    {
     "name": "stdout",
     "output_type": "stream",
     "text": [
      "{'weight_x1': -2.2104939811875615, 'weight_x2': -2.5919682692489148, 'bias': 2.457397598370526, 'loss': -0.2166051794983886}"
     ]
    },
    {
     "name": "stderr",
     "output_type": "stream",
     "text": [
      "\n"
     ]
    },
    {
     "name": "stdout",
     "output_type": "stream",
     "text": [
      "\n",
      "Best weights of generation [147] - weight_x1: -2.2104939811875615 - weight_x2: -2.5919682692489148 - bias: 2.457397598370526 - loss: -0.2166051794983886\n",
      "\n",
      "\n",
      "Generation [148 / 200] - "
     ]
    },
    {
     "name": "stderr",
     "output_type": "stream",
     "text": [
      "100%|██████████| 50/50 [00:00<00:00, 20643.29it/s]\n"
     ]
    },
    {
     "name": "stdout",
     "output_type": "stream",
     "text": [
      "{'weight_x1': -2.2104939811875615, 'weight_x2': -2.5919682692489148, 'bias': 2.457397598370526, 'loss': -0.2166051794983886}\n",
      "Best weights of generation [148] - weight_x1: -2.2104939811875615 - weight_x2: -2.5919682692489148 - bias: 2.457397598370526 - loss: -0.2166051794983886\n",
      "\n",
      "\n",
      "Generation [149 / 200] - "
     ]
    },
    {
     "name": "stderr",
     "output_type": "stream",
     "text": [
      "100%|██████████| 50/50 [00:00<00:00, 116250.11it/s]\n"
     ]
    },
    {
     "name": "stdout",
     "output_type": "stream",
     "text": [
      "{'weight_x1': -2.2104939811875615, 'weight_x2': -2.5919682692489148, 'bias': 2.457397598370526, 'loss': -0.2166051794983886}\n",
      "Best weights of generation [149] - weight_x1: -2.2104939811875615 - weight_x2: -2.5919682692489148 - bias: 2.457397598370526 - loss: -0.2166051794983886\n",
      "\n",
      "\n",
      "Generation [150 / 200] - "
     ]
    },
    {
     "name": "stderr",
     "output_type": "stream",
     "text": [
      "100%|██████████| 50/50 [00:00<00:00, 16539.05it/s]\n"
     ]
    },
    {
     "name": "stdout",
     "output_type": "stream",
     "text": [
      "{'weight_x1': -2.2104939811875615, 'weight_x2': -2.5919682692489148, 'bias': 2.457397598370526, 'loss': -0.2166051794983886}\n",
      "Best weights of generation [150] - weight_x1: -2.2104939811875615 - weight_x2: -2.5919682692489148 - bias: 2.457397598370526 - loss: -0.2166051794983886\n",
      "\n",
      "\n",
      "Generation [151 / 200] - "
     ]
    },
    {
     "name": "stderr",
     "output_type": "stream",
     "text": [
      "100%|██████████| 50/50 [00:00<00:00, 14072.01it/s]\n"
     ]
    },
    {
     "name": "stdout",
     "output_type": "stream",
     "text": [
      "{'weight_x1': -2.2104939811875615, 'weight_x2': -2.5919682692489148, 'bias': 2.457397598370526, 'loss': -0.2166051794983886}\n",
      "Best weights of generation [151] - weight_x1: -2.2104939811875615 - weight_x2: -2.5919682692489148 - bias: 2.457397598370526 - loss: -0.2166051794983886\n",
      "\n",
      "\n",
      "Generation [152 / 200] - "
     ]
    },
    {
     "name": "stderr",
     "output_type": "stream",
     "text": [
      "100%|██████████| 50/50 [00:00<00:00, 37006.39it/s]\n"
     ]
    },
    {
     "name": "stdout",
     "output_type": "stream",
     "text": [
      "{'weight_x1': -2.2104939811875615, 'weight_x2': -2.5919682692489148, 'bias': 2.457397598370526, 'loss': -0.2166051794983886}\n",
      "Best weights of generation [152] - weight_x1: -2.2104939811875615 - weight_x2: -2.5919682692489148 - bias: 2.457397598370526 - loss: -0.2166051794983886\n",
      "\n",
      "\n",
      "Generation [153 / 200] - "
     ]
    },
    {
     "name": "stderr",
     "output_type": "stream",
     "text": [
      "100%|██████████| 50/50 [00:00<00:00, 33474.09it/s]\n"
     ]
    },
    {
     "name": "stdout",
     "output_type": "stream",
     "text": [
      "{'weight_x1': -2.2104939811875615, 'weight_x2': -2.5919682692489148, 'bias': 2.457397598370526, 'loss': -0.2166051794983886}\n",
      "Best weights of generation [153] - weight_x1: -2.2104939811875615 - weight_x2: -2.5919682692489148 - bias: 2.457397598370526 - loss: -0.2166051794983886\n",
      "\n",
      "\n",
      "Generation [154 / 200] - "
     ]
    },
    {
     "name": "stderr",
     "output_type": "stream",
     "text": [
      "100%|██████████| 50/50 [00:00<00:00, 100824.62it/s]\n"
     ]
    },
    {
     "name": "stdout",
     "output_type": "stream",
     "text": [
      "{'weight_x1': -2.2104939811875615, 'weight_x2': -2.5919682692489148, 'bias': 2.457397598370526, 'loss': -0.2166051794983886}\n",
      "Best weights of generation [154] - weight_x1: -2.2104939811875615 - weight_x2: -2.5919682692489148 - bias: 2.457397598370526 - loss: -0.2166051794983886\n",
      "\n",
      "\n",
      "Generation [155 / 200] - "
     ]
    },
    {
     "name": "stderr",
     "output_type": "stream",
     "text": [
      "100%|██████████| 50/50 [00:00<00:00, 85632.99it/s]\n"
     ]
    },
    {
     "name": "stdout",
     "output_type": "stream",
     "text": [
      "{'weight_x1': -2.2104939811875615, 'weight_x2': -2.5919682692489148, 'bias': 2.457397598370526, 'loss': -0.2166051794983886}\n",
      "Best weights of generation [155] - weight_x1: -2.2104939811875615 - weight_x2: -2.5919682692489148 - bias: 2.457397598370526 - loss: -0.2166051794983886\n",
      "\n",
      "\n",
      "Generation [156 / 200] - "
     ]
    },
    {
     "name": "stderr",
     "output_type": "stream",
     "text": [
      "100%|██████████| 50/50 [00:00<00:00, 39397.93it/s]\n"
     ]
    },
    {
     "name": "stdout",
     "output_type": "stream",
     "text": [
      "{'weight_x1': -2.2104939811875615, 'weight_x2': -2.6311354840577863, 'bias': 2.457397598370526, 'loss': -0.21578330591253117}\n",
      "Best weights of generation [156] - weight_x1: -2.2104939811875615 - weight_x2: -2.6311354840577863 - bias: 2.457397598370526 - loss: -0.21578330591253117\n",
      "\n",
      "\n",
      "Generation [157 / 200] - "
     ]
    },
    {
     "name": "stderr",
     "output_type": "stream",
     "text": [
      "100%|██████████| 50/50 [00:00<00:00, 2335.36it/s]\n"
     ]
    },
    {
     "name": "stdout",
     "output_type": "stream",
     "text": [
      "{'weight_x1': -2.2104939811875615, 'weight_x2': -2.6311354840577863, 'bias': 2.457397598370526, 'loss': -0.21578330591253117}\n",
      "Best weights of generation [157] - weight_x1: -2.2104939811875615 - weight_x2: -2.6311354840577863 - bias: 2.457397598370526 - loss: -0.21578330591253117\n",
      "\n",
      "\n",
      "Generation [158 / 200] - "
     ]
    },
    {
     "name": "stderr",
     "output_type": "stream",
     "text": [
      "100%|██████████| 50/50 [00:00<00:00, 42119.94it/s]\n"
     ]
    },
    {
     "name": "stdout",
     "output_type": "stream",
     "text": [
      "{'weight_x1': -2.2104939811875615, 'weight_x2': -2.6311354840577863, 'bias': 2.457397598370526, 'loss': -0.21578330591253117}\n",
      "Best weights of generation [158] - weight_x1: -2.2104939811875615 - weight_x2: -2.6311354840577863 - bias: 2.457397598370526 - loss: -0.21578330591253117\n",
      "\n",
      "\n",
      "Generation [159 / 200] - "
     ]
    },
    {
     "name": "stderr",
     "output_type": "stream",
     "text": [
      "100%|██████████| 50/50 [00:00<00:00, 51075.30it/s]\n"
     ]
    },
    {
     "name": "stdout",
     "output_type": "stream",
     "text": [
      "{'weight_x1': -2.2104939811875615, 'weight_x2': -2.6311354840577863, 'bias': 2.457397598370526, 'loss': -0.21578330591253117}\n",
      "Best weights of generation [159] - weight_x1: -2.2104939811875615 - weight_x2: -2.6311354840577863 - bias: 2.457397598370526 - loss: -0.21578330591253117\n",
      "\n",
      "\n",
      "Generation [160 / 200] - "
     ]
    },
    {
     "name": "stderr",
     "output_type": "stream",
     "text": [
      "100%|██████████| 50/50 [00:00<00:00, 35538.93it/s]\n"
     ]
    },
    {
     "name": "stdout",
     "output_type": "stream",
     "text": [
      "{'weight_x1': -2.2104939811875615, 'weight_x2': -2.6311354840577863, 'bias': 2.457397598370526, 'loss': -0.21578330591253117}\n",
      "Best weights of generation [160] - weight_x1: -2.2104939811875615 - weight_x2: -2.6311354840577863 - bias: 2.457397598370526 - loss: -0.21578330591253117\n",
      "\n",
      "\n",
      "Generation [161 / 200] - "
     ]
    },
    {
     "name": "stderr",
     "output_type": "stream",
     "text": [
      "100%|██████████| 50/50 [00:00<00:00, 112810.76it/s]\n"
     ]
    },
    {
     "name": "stdout",
     "output_type": "stream",
     "text": [
      "{'weight_x1': -2.2104939811875615, 'weight_x2': -2.6311354840577863, 'bias': 2.457397598370526, 'loss': -0.21578330591253117}\n",
      "Best weights of generation [161] - weight_x1: -2.2104939811875615 - weight_x2: -2.6311354840577863 - bias: 2.457397598370526 - loss: -0.21578330591253117\n",
      "\n",
      "\n",
      "Generation [162 / 200] - "
     ]
    },
    {
     "name": "stderr",
     "output_type": "stream",
     "text": [
      "100%|██████████| 50/50 [00:00<00:00, 69835.23it/s]\n"
     ]
    },
    {
     "name": "stdout",
     "output_type": "stream",
     "text": [
      "{'weight_x1': -2.2104939811875615, 'weight_x2': -2.6311354840577863, 'bias': 2.457397598370526, 'loss': -0.21578330591253117}\n",
      "Best weights of generation [162] - weight_x1: -2.2104939811875615 - weight_x2: -2.6311354840577863 - bias: 2.457397598370526 - loss: -0.21578330591253117\n",
      "\n",
      "\n",
      "Generation [163 / 200] - "
     ]
    },
    {
     "name": "stderr",
     "output_type": "stream",
     "text": [
      "100%|██████████| 50/50 [00:00<00:00, 64270.67it/s]\n"
     ]
    },
    {
     "name": "stdout",
     "output_type": "stream",
     "text": [
      "{'weight_x1': -2.2104939811875615, 'weight_x2': -2.6311354840577863, 'bias': 2.457397598370526, 'loss': -0.21578330591253117}\n",
      "Best weights of generation [163] - weight_x1: -2.2104939811875615 - weight_x2: -2.6311354840577863 - bias: 2.457397598370526 - loss: -0.21578330591253117\n",
      "\n",
      "\n",
      "Generation [164 / 200] - "
     ]
    },
    {
     "name": "stderr",
     "output_type": "stream",
     "text": [
      "100%|██████████| 50/50 [00:00<00:00, 109454.70it/s]\n"
     ]
    },
    {
     "name": "stdout",
     "output_type": "stream",
     "text": [
      "{'weight_x1': -2.2104939811875615, 'weight_x2': -2.6311354840577863, 'bias': 2.457397598370526, 'loss': -0.21578330591253117}\n",
      "Best weights of generation [164] - weight_x1: -2.2104939811875615 - weight_x2: -2.6311354840577863 - bias: 2.457397598370526 - loss: -0.21578330591253117\n",
      "\n",
      "\n",
      "Generation [165 / 200] - "
     ]
    },
    {
     "name": "stderr",
     "output_type": "stream",
     "text": [
      "100%|██████████| 50/50 [00:00<00:00, 7800.16it/s]\n"
     ]
    },
    {
     "name": "stdout",
     "output_type": "stream",
     "text": [
      "{'weight_x1': -2.2104939811875615, 'weight_x2': -2.6311354840577863, 'bias': 2.457397598370526, 'loss': -0.21578330591253117}\n",
      "Best weights of generation [165] - weight_x1: -2.2104939811875615 - weight_x2: -2.6311354840577863 - bias: 2.457397598370526 - loss: -0.21578330591253117\n",
      "\n",
      "\n",
      "Generation [166 / 200] - "
     ]
    },
    {
     "name": "stderr",
     "output_type": "stream",
     "text": [
      "100%|██████████| 50/50 [00:00<00:00, 15581.78it/s]\n"
     ]
    },
    {
     "name": "stdout",
     "output_type": "stream",
     "text": [
      "{'weight_x1': -2.2104939811875615, 'weight_x2': -2.6311354840577863, 'bias': 2.457397598370526, 'loss': -0.21578330591253117}\n",
      "Best weights of generation [166] - weight_x1: -2.2104939811875615 - weight_x2: -2.6311354840577863 - bias: 2.457397598370526 - loss: -0.21578330591253117\n",
      "\n",
      "\n",
      "Generation [167 / 200] - "
     ]
    },
    {
     "name": "stderr",
     "output_type": "stream",
     "text": [
      "100%|██████████| 50/50 [00:00<00:00, 28684.89it/s]\n"
     ]
    },
    {
     "name": "stdout",
     "output_type": "stream",
     "text": [
      "{'weight_x1': -2.2104939811875615, 'weight_x2': -2.6311354840577863, 'bias': 2.457397598370526, 'loss': -0.21578330591253117}\n",
      "Best weights of generation [167] - weight_x1: -2.2104939811875615 - weight_x2: -2.6311354840577863 - bias: 2.457397598370526 - loss: -0.21578330591253117\n",
      "\n",
      "\n",
      "Generation [168 / 200] - "
     ]
    },
    {
     "name": "stderr",
     "output_type": "stream",
     "text": [
      "100%|██████████| 50/50 [00:00<00:00, 42052.38it/s]\n"
     ]
    },
    {
     "name": "stdout",
     "output_type": "stream",
     "text": [
      "{'weight_x1': -2.2104939811875615, 'weight_x2': -2.6311354840577863, 'bias': 2.457397598370526, 'loss': -0.21578330591253117}\n",
      "Best weights of generation [168] - weight_x1: -2.2104939811875615 - weight_x2: -2.6311354840577863 - bias: 2.457397598370526 - loss: -0.21578330591253117\n",
      "\n",
      "\n",
      "Generation [169 / 200] - "
     ]
    },
    {
     "name": "stderr",
     "output_type": "stream",
     "text": [
      "100%|██████████| 50/50 [00:00<00:00, 19889.53it/s]\n"
     ]
    },
    {
     "name": "stdout",
     "output_type": "stream",
     "text": [
      "{'weight_x1': -2.2104939811875615, 'weight_x2': -2.6311354840577863, 'bias': 2.457397598370526, 'loss': -0.21578330591253117}\n",
      "Best weights of generation [169] - weight_x1: -2.2104939811875615 - weight_x2: -2.6311354840577863 - bias: 2.457397598370526 - loss: -0.21578330591253117\n",
      "\n",
      "\n",
      "Generation [170 / 200] - "
     ]
    },
    {
     "name": "stderr",
     "output_type": "stream",
     "text": [
      "100%|██████████| 50/50 [00:00<00:00, 10371.16it/s]\n"
     ]
    },
    {
     "name": "stdout",
     "output_type": "stream",
     "text": [
      "{'weight_x1': -2.2104939811875615, 'weight_x2': -2.6311354840577863, 'bias': 2.457397598370526, 'loss': -0.21578330591253117}\n",
      "Best weights of generation [170] - weight_x1: -2.2104939811875615 - weight_x2: -2.6311354840577863 - bias: 2.457397598370526 - loss: -0.21578330591253117\n",
      "\n",
      "\n",
      "Generation [171 / 200] - "
     ]
    },
    {
     "name": "stderr",
     "output_type": "stream",
     "text": [
      "100%|██████████| 50/50 [00:00<00:00, 46243.70it/s]\n"
     ]
    },
    {
     "name": "stdout",
     "output_type": "stream",
     "text": [
      "{'weight_x1': -2.2104939811875615, 'weight_x2': -2.6311354840577863, 'bias': 2.457397598370526, 'loss': -0.21578330591253117}\n",
      "Best weights of generation [171] - weight_x1: -2.2104939811875615 - weight_x2: -2.6311354840577863 - bias: 2.457397598370526 - loss: -0.21578330591253117\n",
      "\n",
      "\n",
      "Generation [172 / 200] - "
     ]
    },
    {
     "name": "stderr",
     "output_type": "stream",
     "text": [
      "100%|██████████| 50/50 [00:00<00:00, 27074.00it/s]\n"
     ]
    },
    {
     "name": "stdout",
     "output_type": "stream",
     "text": [
      "{'weight_x1': -2.2104939811875615, 'weight_x2': -2.6311354840577863, 'bias': 2.457397598370526, 'loss': -0.21578330591253117}\n",
      "Best weights of generation [172] - weight_x1: -2.2104939811875615 - weight_x2: -2.6311354840577863 - bias: 2.457397598370526 - loss: -0.21578330591253117\n",
      "\n",
      "\n",
      "Generation [173 / 200] - "
     ]
    },
    {
     "name": "stderr",
     "output_type": "stream",
     "text": [
      "100%|██████████| 50/50 [00:00<00:00, 25148.72it/s]\n"
     ]
    },
    {
     "name": "stdout",
     "output_type": "stream",
     "text": [
      "{'weight_x1': -2.2104939811875615, 'weight_x2': -2.6311354840577863, 'bias': 2.457397598370526, 'loss': -0.21578330591253117}\n",
      "Best weights of generation [173] - weight_x1: -2.2104939811875615 - weight_x2: -2.6311354840577863 - bias: 2.457397598370526 - loss: -0.21578330591253117\n",
      "\n",
      "\n",
      "Generation [174 / 200] - "
     ]
    },
    {
     "name": "stderr",
     "output_type": "stream",
     "text": [
      "100%|██████████| 50/50 [00:00<00:00, 27528.91it/s]\n"
     ]
    },
    {
     "name": "stdout",
     "output_type": "stream",
     "text": [
      "{'weight_x1': -2.2104939811875615, 'weight_x2': -2.6311354840577863, 'bias': 2.457397598370526, 'loss': -0.21578330591253117}\n",
      "Best weights of generation [174] - weight_x1: -2.2104939811875615 - weight_x2: -2.6311354840577863 - bias: 2.457397598370526 - loss: -0.21578330591253117\n",
      "\n",
      "\n",
      "Generation [175 / 200] - "
     ]
    },
    {
     "name": "stderr",
     "output_type": "stream",
     "text": [
      "100%|██████████| 50/50 [00:00<00:00, 61123.64it/s]\n"
     ]
    },
    {
     "name": "stdout",
     "output_type": "stream",
     "text": [
      "{'weight_x1': -2.2104939811875615, 'weight_x2': -2.6311354840577863, 'bias': 2.457397598370526, 'loss': -0.21578330591253117}\n",
      "Best weights of generation [175] - weight_x1: -2.2104939811875615 - weight_x2: -2.6311354840577863 - bias: 2.457397598370526 - loss: -0.21578330591253117\n",
      "\n",
      "\n",
      "Generation [176 / 200] - "
     ]
    },
    {
     "name": "stderr",
     "output_type": "stream",
     "text": [
      "100%|██████████| 50/50 [00:00<00:00, 64369.31it/s]\n"
     ]
    },
    {
     "name": "stdout",
     "output_type": "stream",
     "text": [
      "{'weight_x1': -2.2104939811875615, 'weight_x2': -2.6311354840577863, 'bias': 2.457397598370526, 'loss': -0.21578330591253117}\n",
      "Best weights of generation [176] - weight_x1: -2.2104939811875615 - weight_x2: -2.6311354840577863 - bias: 2.457397598370526 - loss: -0.21578330591253117\n",
      "\n",
      "\n",
      "Generation [177 / 200] - "
     ]
    },
    {
     "name": "stderr",
     "output_type": "stream",
     "text": [
      "100%|██████████| 50/50 [00:00<00:00, 63205.30it/s]\n"
     ]
    },
    {
     "name": "stdout",
     "output_type": "stream",
     "text": [
      "{'weight_x1': -2.2104939811875615, 'weight_x2': -2.6311354840577863, 'bias': 2.457397598370526, 'loss': -0.21578330591253117}\n",
      "Best weights of generation [177] - weight_x1: -2.2104939811875615 - weight_x2: -2.6311354840577863 - bias: 2.457397598370526 - loss: -0.21578330591253117\n",
      "\n",
      "\n",
      "Generation [178 / 200] - "
     ]
    },
    {
     "name": "stderr",
     "output_type": "stream",
     "text": [
      "100%|██████████| 50/50 [00:00<00:00, 105067.74it/s]\n"
     ]
    },
    {
     "name": "stdout",
     "output_type": "stream",
     "text": [
      "{'weight_x1': -2.2104939811875615, 'weight_x2': -2.6311354840577863, 'bias': 2.457397598370526, 'loss': -0.21578330591253117}\n",
      "Best weights of generation [178] - weight_x1: -2.2104939811875615 - weight_x2: -2.6311354840577863 - bias: 2.457397598370526 - loss: -0.21578330591253117\n",
      "\n",
      "\n",
      "Generation [179 / 200] - "
     ]
    },
    {
     "name": "stderr",
     "output_type": "stream",
     "text": [
      "100%|██████████| 50/50 [00:00<00:00, 43663.38it/s]\n"
     ]
    },
    {
     "name": "stdout",
     "output_type": "stream",
     "text": [
      "{'weight_x1': -2.2104939811875615, 'weight_x2': -2.6311354840577863, 'bias': 2.457397598370526, 'loss': -0.21578330591253117}\n",
      "Best weights of generation [179] - weight_x1: -2.2104939811875615 - weight_x2: -2.6311354840577863 - bias: 2.457397598370526 - loss: -0.21578330591253117\n",
      "\n",
      "\n",
      "Generation [180 / 200] - "
     ]
    },
    {
     "name": "stderr",
     "output_type": "stream",
     "text": [
      "100%|██████████| 50/50 [00:00<00:00, 45334.03it/s]\n"
     ]
    },
    {
     "name": "stdout",
     "output_type": "stream",
     "text": [
      "{'weight_x1': -2.2104939811875615, 'weight_x2': -2.6311354840577863, 'bias': 2.457397598370526, 'loss': -0.21578330591253117}\n",
      "Best weights of generation [180] - weight_x1: -2.2104939811875615 - weight_x2: -2.6311354840577863 - bias: 2.457397598370526 - loss: -0.21578330591253117\n",
      "\n",
      "\n",
      "Generation [181 / 200] - "
     ]
    },
    {
     "name": "stderr",
     "output_type": "stream",
     "text": [
      "100%|██████████| 50/50 [00:00<00:00, 16231.83it/s]\n"
     ]
    },
    {
     "name": "stdout",
     "output_type": "stream",
     "text": [
      "{'weight_x1': -2.2104939811875615, 'weight_x2': -2.6311354840577863, 'bias': 2.457397598370526, 'loss': -0.21578330591253117}\n",
      "Best weights of generation [181] - weight_x1: -2.2104939811875615 - weight_x2: -2.6311354840577863 - bias: 2.457397598370526 - loss: -0.21578330591253117\n",
      "\n",
      "\n",
      "Generation [182 / 200] - "
     ]
    },
    {
     "name": "stderr",
     "output_type": "stream",
     "text": [
      "100%|██████████| 50/50 [00:00<00:00, 85493.36it/s]\n"
     ]
    },
    {
     "name": "stdout",
     "output_type": "stream",
     "text": [
      "{'weight_x1': -2.2104939811875615, 'weight_x2': -2.6311354840577863, 'bias': 2.6033565307999162, 'loss': -0.21451554378277804}\n",
      "Best weights of generation [182] - weight_x1: -2.2104939811875615 - weight_x2: -2.6311354840577863 - bias: 2.6033565307999162 - loss: -0.21451554378277804\n",
      "\n",
      "\n",
      "Generation [183 / 200] - "
     ]
    },
    {
     "name": "stderr",
     "output_type": "stream",
     "text": [
      "100%|██████████| 50/50 [00:00<00:00, 19380.39it/s]\n"
     ]
    },
    {
     "name": "stdout",
     "output_type": "stream",
     "text": [
      "{'weight_x1': -2.2104939811875615, 'weight_x2': -2.6311354840577863, 'bias': 2.6033565307999162, 'loss': -0.21451554378277804}\n",
      "Best weights of generation [183] - weight_x1: -2.2104939811875615 - weight_x2: -2.6311354840577863 - bias: 2.6033565307999162 - loss: -0.21451554378277804\n",
      "\n",
      "\n",
      "Generation [184 / 200] - "
     ]
    },
    {
     "name": "stderr",
     "output_type": "stream",
     "text": [
      "100%|██████████| 50/50 [00:00<00:00, 119291.92it/s]\n"
     ]
    },
    {
     "name": "stdout",
     "output_type": "stream",
     "text": [
      "{'weight_x1': -2.2104939811875615, 'weight_x2': -2.681818121403576, 'bias': 2.6033565307999162, 'loss': -0.20656427304153985}\n",
      "Best weights of generation [184] - weight_x1: -2.2104939811875615 - weight_x2: -2.681818121403576 - bias: 2.6033565307999162 - loss: -0.20656427304153985\n",
      "\n",
      "\n",
      "Generation [185 / 200] - "
     ]
    },
    {
     "name": "stderr",
     "output_type": "stream",
     "text": [
      "100%|██████████| 50/50 [00:00<00:00, 70350.62it/s]\n"
     ]
    },
    {
     "name": "stdout",
     "output_type": "stream",
     "text": [
      "{'weight_x1': -2.2104939811875615, 'weight_x2': -2.681818121403576, 'bias': 2.6033565307999162, 'loss': -0.20656427304153985}\n",
      "Best weights of generation [185] - weight_x1: -2.2104939811875615 - weight_x2: -2.681818121403576 - bias: 2.6033565307999162 - loss: -0.20656427304153985\n",
      "\n",
      "\n",
      "Generation [186 / 200] - "
     ]
    },
    {
     "name": "stderr",
     "output_type": "stream",
     "text": [
      "100%|██████████| 50/50 [00:00<00:00, 47350.46it/s]\n"
     ]
    },
    {
     "name": "stdout",
     "output_type": "stream",
     "text": [
      "{'weight_x1': -2.371697864681819, 'weight_x2': -2.681818121403576, 'bias': 2.6033565307999162, 'loss': -0.20048232964721113}\n",
      "Best weights of generation [186] - weight_x1: -2.371697864681819 - weight_x2: -2.681818121403576 - bias: 2.6033565307999162 - loss: -0.20048232964721113\n",
      "\n",
      "\n",
      "Generation [187 / 200] - "
     ]
    },
    {
     "name": "stderr",
     "output_type": "stream",
     "text": [
      "100%|██████████| 50/50 [00:00<00:00, 65618.02it/s]\n"
     ]
    },
    {
     "name": "stdout",
     "output_type": "stream",
     "text": [
      "{'weight_x1': -2.371697864681819, 'weight_x2': -2.681818121403576, 'bias': 2.6033565307999162, 'loss': -0.20048232964721113}\n",
      "Best weights of generation [187] - weight_x1: -2.371697864681819 - weight_x2: -2.681818121403576 - bias: 2.6033565307999162 - loss: -0.20048232964721113\n",
      "\n",
      "\n",
      "Generation [188 / 200] - "
     ]
    },
    {
     "name": "stderr",
     "output_type": "stream",
     "text": [
      "100%|██████████| 50/50 [00:00<00:00, 56633.86it/s]\n"
     ]
    },
    {
     "name": "stdout",
     "output_type": "stream",
     "text": [
      "{'weight_x1': -2.371697864681819, 'weight_x2': -2.681818121403576, 'bias': 2.6033565307999162, 'loss': -0.20048232964721113}\n",
      "Best weights of generation [188] - weight_x1: -2.371697864681819 - weight_x2: -2.681818121403576 - bias: 2.6033565307999162 - loss: -0.20048232964721113\n",
      "\n",
      "\n",
      "Generation [189 / 200] - "
     ]
    },
    {
     "name": "stderr",
     "output_type": "stream",
     "text": [
      "100%|██████████| 50/50 [00:00<00:00, 77903.12it/s]\n"
     ]
    },
    {
     "name": "stdout",
     "output_type": "stream",
     "text": [
      "{'weight_x1': -2.371697864681819, 'weight_x2': -2.681818121403576, 'bias': 2.6033565307999162, 'loss': -0.20048232964721113}\n",
      "Best weights of generation [189] - weight_x1: -2.371697864681819 - weight_x2: -2.681818121403576 - bias: 2.6033565307999162 - loss: -0.20048232964721113\n",
      "\n",
      "\n",
      "Generation [190 / 200] - "
     ]
    },
    {
     "name": "stderr",
     "output_type": "stream",
     "text": [
      "100%|██████████| 50/50 [00:00<00:00, 103307.98it/s]\n"
     ]
    },
    {
     "name": "stdout",
     "output_type": "stream",
     "text": [
      "{'weight_x1': -2.371697864681819, 'weight_x2': -2.681818121403576, 'bias': 2.6033565307999162, 'loss': -0.20048232964721113}\n",
      "Best weights of generation [190] - weight_x1: -2.371697864681819 - weight_x2: -2.681818121403576 - bias: 2.6033565307999162 - loss: -0.20048232964721113\n",
      "\n",
      "\n",
      "Generation [191 / 200] - "
     ]
    },
    {
     "name": "stderr",
     "output_type": "stream",
     "text": [
      "100%|██████████| 50/50 [00:00<00:00, 69327.34it/s]"
     ]
    },
    {
     "name": "stdout",
     "output_type": "stream",
     "text": [
      "{'weight_x1': -2.371697864681819, 'weight_x2': -2.681818121403576, 'bias': 2.634736934955175, 'loss': -0.19949049131936086}"
     ]
    },
    {
     "name": "stderr",
     "output_type": "stream",
     "text": [
      "\n"
     ]
    },
    {
     "name": "stdout",
     "output_type": "stream",
     "text": [
      "\n",
      "Best weights of generation [191] - weight_x1: -2.371697864681819 - weight_x2: -2.681818121403576 - bias: 2.634736934955175 - loss: -0.19949049131936086\n",
      "\n",
      "\n",
      "Generation [192 / 200] - "
     ]
    },
    {
     "name": "stderr",
     "output_type": "stream",
     "text": [
      "100%|██████████| 50/50 [00:00<00:00, 62582.87it/s]\n"
     ]
    },
    {
     "name": "stdout",
     "output_type": "stream",
     "text": [
      "{'weight_x1': -2.371697864681819, 'weight_x2': -2.681818121403576, 'bias': 2.634736934955175, 'loss': -0.19949049131936086}\n",
      "Best weights of generation [192] - weight_x1: -2.371697864681819 - weight_x2: -2.681818121403576 - bias: 2.634736934955175 - loss: -0.19949049131936086\n",
      "\n",
      "\n",
      "Generation [193 / 200] - "
     ]
    },
    {
     "name": "stderr",
     "output_type": "stream",
     "text": [
      "100%|██████████| 50/50 [00:00<00:00, 32809.01it/s]\n"
     ]
    },
    {
     "name": "stdout",
     "output_type": "stream",
     "text": [
      "{'weight_x1': -2.371697864681819, 'weight_x2': -2.681818121403576, 'bias': 2.634736934955175, 'loss': -0.19949049131936086}\n",
      "Best weights of generation [193] - weight_x1: -2.371697864681819 - weight_x2: -2.681818121403576 - bias: 2.634736934955175 - loss: -0.19949049131936086\n",
      "\n",
      "\n",
      "Generation [194 / 200] - "
     ]
    },
    {
     "name": "stderr",
     "output_type": "stream",
     "text": [
      "100%|██████████| 50/50 [00:00<00:00, 78869.95it/s]\n"
     ]
    },
    {
     "name": "stdout",
     "output_type": "stream",
     "text": [
      "{'weight_x1': -2.443299806292322, 'weight_x2': -2.681818121403576, 'bias': 2.634736934955175, 'loss': -0.19923246333769726}\n",
      "Best weights of generation [194] - weight_x1: -2.443299806292322 - weight_x2: -2.681818121403576 - bias: 2.634736934955175 - loss: -0.19923246333769726\n",
      "\n",
      "\n",
      "Generation [195 / 200] - "
     ]
    },
    {
     "name": "stderr",
     "output_type": "stream",
     "text": [
      "100%|██████████| 50/50 [00:00<00:00, 147065.36it/s]\n"
     ]
    },
    {
     "name": "stdout",
     "output_type": "stream",
     "text": [
      "{'weight_x1': -2.443299806292322, 'weight_x2': -2.681818121403576, 'bias': 2.634736934955175, 'loss': -0.19923246333769726}\n",
      "Best weights of generation [195] - weight_x1: -2.443299806292322 - weight_x2: -2.681818121403576 - bias: 2.634736934955175 - loss: -0.19923246333769726\n",
      "\n",
      "\n",
      "Generation [196 / 200] - "
     ]
    },
    {
     "name": "stderr",
     "output_type": "stream",
     "text": [
      "100%|██████████| 50/50 [00:00<00:00, 63704.50it/s]"
     ]
    },
    {
     "name": "stdout",
     "output_type": "stream",
     "text": [
      "{'weight_x1': -2.443299806292322, 'weight_x2': -2.681818121403576, 'bias': 2.634736934955175, 'loss': -0.19923246333769726}"
     ]
    },
    {
     "name": "stderr",
     "output_type": "stream",
     "text": [
      "\n"
     ]
    },
    {
     "name": "stdout",
     "output_type": "stream",
     "text": [
      "\n",
      "Best weights of generation [196] - weight_x1: -2.443299806292322 - weight_x2: -2.681818121403576 - bias: 2.634736934955175 - loss: -0.19923246333769726\n",
      "\n",
      "\n",
      "Generation [197 / 200] - "
     ]
    },
    {
     "name": "stderr",
     "output_type": "stream",
     "text": [
      "100%|██████████| 50/50 [00:00<00:00, 102200.39it/s]\n"
     ]
    },
    {
     "name": "stdout",
     "output_type": "stream",
     "text": [
      "{'weight_x1': -2.443299806292322, 'weight_x2': -2.681818121403576, 'bias': 2.634736934955175, 'loss': -0.19923246333769726}\n",
      "Best weights of generation [197] - weight_x1: -2.443299806292322 - weight_x2: -2.681818121403576 - bias: 2.634736934955175 - loss: -0.19923246333769726\n",
      "\n",
      "\n",
      "Generation [198 / 200] - "
     ]
    },
    {
     "name": "stderr",
     "output_type": "stream",
     "text": [
      "100%|██████████| 50/50 [00:00<00:00, 15772.80it/s]\n"
     ]
    },
    {
     "name": "stdout",
     "output_type": "stream",
     "text": [
      "{'weight_x1': -2.443299806292322, 'weight_x2': -2.681818121403576, 'bias': 2.634736934955175, 'loss': -0.19923246333769726}\n",
      "Best weights of generation [198] - weight_x1: -2.443299806292322 - weight_x2: -2.681818121403576 - bias: 2.634736934955175 - loss: -0.19923246333769726\n",
      "\n",
      "\n",
      "Generation [199 / 200] - "
     ]
    },
    {
     "name": "stderr",
     "output_type": "stream",
     "text": [
      "100%|██████████| 50/50 [00:00<00:00, 45919.68it/s]\n"
     ]
    },
    {
     "name": "stdout",
     "output_type": "stream",
     "text": [
      "{'weight_x1': -2.443299806292322, 'weight_x2': -2.681818121403576, 'bias': 2.634736934955175, 'loss': -0.19923246333769726}\n",
      "Best weights of generation [199] - weight_x1: -2.443299806292322 - weight_x2: -2.681818121403576 - bias: 2.634736934955175 - loss: -0.19923246333769726\n",
      "\n",
      "\n",
      "Generation [200 / 200] - "
     ]
    },
    {
     "name": "stderr",
     "output_type": "stream",
     "text": [
      "100%|██████████| 50/50 [00:00<00:00, 82727.89it/s]\n"
     ]
    },
    {
     "name": "stdout",
     "output_type": "stream",
     "text": [
      "{'weight_x1': -2.443299806292322, 'weight_x2': -2.681818121403576, 'bias': 2.634736934955175, 'loss': -0.19923246333769726}\n",
      "Best weights of generation [200] - weight_x1: -2.443299806292322 - weight_x2: -2.681818121403576 - bias: 2.634736934955175 - loss: -0.19923246333769726\n",
      "\n",
      "\n"
     ]
    }
   ],
   "source": [
    "model = AdalineGA(feature, label);\n",
    "model.train();"
   ]
  }
 ],
 "metadata": {
  "kernelspec": {
   "display_name": "base",
   "language": "python",
   "name": "python3"
  },
  "language_info": {
   "codemirror_mode": {
    "name": "ipython",
    "version": 3
   },
   "file_extension": ".py",
   "mimetype": "text/x-python",
   "name": "python",
   "nbconvert_exporter": "python",
   "pygments_lexer": "ipython3",
   "version": "3.11.5"
  }
 },
 "nbformat": 4,
 "nbformat_minor": 2
}

{
 "cells": [
  {
   "cell_type": "code",
   "execution_count": 1,
   "metadata": {},
   "outputs": [],
   "source": [
    "import numpy;\n",
    "# import matplotlib.pyplot as plt;\n",
    "\n",
    "from tensorflow.keras.initializers import TruncatedNormal;\n",
    "\n",
    "from tqdm import tqdm;\n",
    "\n",
    "import numpy as np\n",
    "import random"
   ]
  },
  {
   "cell_type": "code",
   "execution_count": 2,
   "metadata": {},
   "outputs": [],
   "source": [
    "# Training data\n",
    "feature = numpy.array(\n",
    "    [\n",
    "        [0.08, 0.72], [0.26, 0.58], [0.45, 0.15], \n",
    "        [0.60, 0.30], [0.10, 1.0], [0.35, 0.95], \n",
    "        [0.70, 0.65], [0.92, 0.45]\n",
    "    ]);\n",
    "\n",
    "label = numpy.array([1, 1, 1, 1, -1, -1, -1, -1]);"
   ]
  },
  {
   "cell_type": "code",
   "execution_count": 3,
   "metadata": {},
   "outputs": [],
   "source": [
    "class AdalineGA:\n",
    "\n",
    "    # Hyperparameters\n",
    "    def __init__(self, feature, label):\n",
    "        self.feature = feature;\n",
    "        self.label = label;\n",
    "        self.population_size = 50;\n",
    "        self.generations = 200;\n",
    "        self.mutation_rate = 1e-1;\n",
    "        self.crossover_rate = 9e-1;\n",
    "\n",
    "        initializer = TruncatedNormal(mean = 0.5, stddev = 0.02)(shape = (1, 3)).numpy();\n",
    "        \n",
    "        # Initialize population\n",
    "        self.population = [];\n",
    "\n",
    "        for _ in range(self.population_size):\n",
    "            individual = {\n",
    "                'weight_x1': initializer[0][0],\n",
    "                'weight_x2': initializer[0][1],\n",
    "                'bias': initializer[0][2]\n",
    "            };\n",
    "        \n",
    "            self.population.append(individual);\n",
    "\n",
    "    def select_population(self, population):\n",
    "        sorted_population = sorted(population, key = self.forward);\n",
    "        return sorted_population[:int(0.2 * self.population_size)];  # Select top 20%\n",
    "\n",
    "    def crossover(self, parent1, parent2):\n",
    "        if random.random() < self.crossover_rate:\n",
    "            crossover_point = random.randint(0, 2);\n",
    "            child1 = parent1.copy();\n",
    "            child2 = parent2.copy();\n",
    "            if crossover_point == 0:\n",
    "                child1['weight_x1'], child2['weight_x1'] = child2['weight_x1'], child1['weight_x1'];\n",
    "            elif crossover_point == 1:\n",
    "                child1['weight_x2'], child2['weight_x2'] = child2['weight_x2'], child1['weight_x2'];\n",
    "            else:\n",
    "                child1['bias'], child2['bias'] = child2['bias'], child1['bias'];\n",
    "            return child1, child2;\n",
    "        else:\n",
    "            return parent1, parent2;\n",
    "\n",
    "    def mutate(self, individual):\n",
    "        if random.random() < self.mutation_rate:\n",
    "            individual['weight_x1'] += np.random.normal();\n",
    "        if random.random() < self.mutation_rate:\n",
    "            individual['weight_x2'] += np.random.normal();\n",
    "        if random.random() < self.mutation_rate:\n",
    "            individual['bias'] += np.random.normal();\n",
    "        \n",
    "        return individual;\n",
    "\n",
    "    def forward(self, individual):\n",
    "        predictions = [];\n",
    "        for i in self.feature:\n",
    "            prediction = (individual['weight_x1'] * i[0]) + (individual['weight_x2'] * i[1]) + individual['bias']\n",
    "            predictions.append(prediction)\n",
    "        mse = np.mean((self.label - predictions) ** 2);\n",
    "        return mse;\n",
    "\n",
    "    # Get the best produced individual based on loss\n",
    "    def get_best_individual(self):\n",
    "        \n",
    "        result = [];\n",
    "\n",
    "        for i in self.population:\n",
    "            loss = self.forward(i);\n",
    "            result.append({\n",
    "                \"weight_x1\": i[\"weight_x1\"],\n",
    "                \"weight_x2\": i[\"weight_x2\"],\n",
    "                \"bias\": i[\"bias\"],\n",
    "                \"loss\": loss,\n",
    "            })\n",
    "\n",
    "        best_individual_index = min(result, key = lambda x: x[\"loss\"]);\n",
    "        best_individual = result[result.index(best_individual_index)];\n",
    "\n",
    "        return best_individual[\"weight_x1\"], best_individual[\"weight_x2\"], best_individual[\"bias\"], best_individual[\"loss\"];\n",
    "\n",
    "    def train(self):\n",
    "\n",
    "        generations = [];\n",
    "        losses = [];\n",
    "\n",
    "        for generation in range(self.generations):\n",
    "            \n",
    "            print(f\"Generation [{generation + 1} / {self.generations}] -\", end = \" \");\n",
    "\n",
    "            new_population = [];\n",
    "\n",
    "            selected_individuals = self.select_population(self.population);\n",
    "\n",
    "            for i in tqdm(range(self.population_size)):\n",
    "\n",
    "                parent1 = random.choice(selected_individuals);\n",
    "                parent2 = random.choice(selected_individuals);\n",
    "\n",
    "                child1, child2 = self.crossover(parent1, parent2);\n",
    "                \n",
    "                new_population.append(self.mutate(child1));\n",
    "                new_population.append(self.mutate(child2));\n",
    "                \n",
    "\n",
    "            self.population = new_population;\n",
    "\n",
    "            best_weight_x1, best_weight_x2, best_bias, loss = self.get_best_individual();\n",
    "\n",
    "            print(f\"Best weights of generation [{generation + 1}] - weight_x1: {best_weight_x1} - weight_x2: {best_weight_x2} - bias: {best_bias} - loss: {loss}\\n\\n\");\n",
    "\n",
    "            generations.append(generation + 1);\n",
    "            losses.append(loss);\n",
    "\n",
    "        return generations, losses;"
   ]
  },
  {
   "cell_type": "code",
   "execution_count": 4,
   "metadata": {},
   "outputs": [
    {
     "name": "stdout",
     "output_type": "stream",
     "text": [
      "Generation [1 / 200] - "
     ]
    },
    {
     "name": "stderr",
     "output_type": "stream",
     "text": [
      "100%|██████████| 50/50 [00:00<?, ?it/s]\n"
     ]
    },
    {
     "name": "stdout",
     "output_type": "stream",
     "text": [
      "Best weights of generation [1] - weight_x1: 0.47774091362953186 - weight_x2: -0.3533927496758654 - bias: 0.4735366404056549 - loss: 1.225921244898792\n",
      "\n",
      "\n",
      "Generation [2 / 200] - "
     ]
    },
    {
     "name": "stderr",
     "output_type": "stream",
     "text": [
      "100%|██████████| 50/50 [00:00<?, ?it/s]\n"
     ]
    },
    {
     "name": "stdout",
     "output_type": "stream",
     "text": [
      "Best weights of generation [2] - weight_x1: -1.0277147964810829 - weight_x2: -0.5982444807606078 - bias: 0.4735366404056549 - loss: 0.7986208634086582\n",
      "\n",
      "\n",
      "Generation [3 / 200] - "
     ]
    },
    {
     "name": "stderr",
     "output_type": "stream",
     "text": [
      "100%|██████████| 50/50 [00:00<00:00, 49849.11it/s]\n"
     ]
    },
    {
     "name": "stdout",
     "output_type": "stream",
     "text": [
      "Best weights of generation [3] - weight_x1: -0.7618558293848317 - weight_x2: -0.6156820827495246 - bias: 0.4735366404056549 - loss: 0.7571334042874999\n",
      "\n",
      "\n",
      "Generation [4 / 200] - "
     ]
    },
    {
     "name": "stderr",
     "output_type": "stream",
     "text": [
      "100%|██████████| 50/50 [00:00<00:00, 49613.25it/s]\n"
     ]
    },
    {
     "name": "stdout",
     "output_type": "stream",
     "text": [
      "Best weights of generation [4] - weight_x1: -1.0277147964810829 - weight_x2: -0.5982444807606078 - bias: 0.8268949852049381 - loss: 0.6903394812609098\n",
      "\n",
      "\n",
      "Generation [5 / 200] - "
     ]
    },
    {
     "name": "stderr",
     "output_type": "stream",
     "text": [
      "100%|██████████| 50/50 [00:00<00:00, 49531.22it/s]\n"
     ]
    },
    {
     "name": "stdout",
     "output_type": "stream",
     "text": [
      "Best weights of generation [5] - weight_x1: -1.0277147964810829 - weight_x2: -0.6156820827495246 - bias: 0.8268949852049381 - loss: 0.684490148103575\n",
      "\n",
      "\n",
      "Generation [6 / 200] - "
     ]
    },
    {
     "name": "stderr",
     "output_type": "stream",
     "text": [
      "100%|██████████| 50/50 [00:00<00:00, 50087.22it/s]\n"
     ]
    },
    {
     "name": "stdout",
     "output_type": "stream",
     "text": [
      "Best weights of generation [6] - weight_x1: -0.7618558293848317 - weight_x2: -1.0898835677190575 - bias: 0.8268949852049381 - loss: 0.6101074701766607\n",
      "\n",
      "\n",
      "Generation [7 / 200] - "
     ]
    },
    {
     "name": "stderr",
     "output_type": "stream",
     "text": [
      "100%|██████████| 50/50 [00:00<?, ?it/s]\n"
     ]
    },
    {
     "name": "stdout",
     "output_type": "stream",
     "text": [
      "Best weights of generation [7] - weight_x1: -0.7618558293848317 - weight_x2: -1.0898835677190575 - bias: 0.8268949852049381 - loss: 0.6101074701766607\n",
      "\n",
      "\n",
      "Generation [8 / 200] - "
     ]
    },
    {
     "name": "stderr",
     "output_type": "stream",
     "text": [
      "100%|██████████| 50/50 [00:00<?, ?it/s]\n"
     ]
    },
    {
     "name": "stdout",
     "output_type": "stream",
     "text": [
      "Best weights of generation [8] - weight_x1: -1.124801813809176 - weight_x2: -2.462378843535672 - bias: 1.9510624367751888 - loss: 0.35033900483467384\n",
      "\n",
      "\n",
      "Generation [9 / 200] - "
     ]
    },
    {
     "name": "stderr",
     "output_type": "stream",
     "text": [
      "100%|██████████| 50/50 [00:00<00:00, 50015.55it/s]\n"
     ]
    },
    {
     "name": "stdout",
     "output_type": "stream",
     "text": [
      "Best weights of generation [9] - weight_x1: -1.124801813809176 - weight_x2: -2.462378843535672 - bias: 1.9510624367751888 - loss: 0.35033900483467384\n",
      "\n",
      "\n",
      "Generation [10 / 200] - "
     ]
    },
    {
     "name": "stderr",
     "output_type": "stream",
     "text": [
      "100%|██████████| 50/50 [00:00<00:00, 49967.88it/s]\n"
     ]
    },
    {
     "name": "stdout",
     "output_type": "stream",
     "text": [
      "Best weights of generation [10] - weight_x1: -1.4988134959031991 - weight_x2: -2.462378843535672 - bias: 1.9510624367751888 - loss: 0.3184160217242016\n",
      "\n",
      "\n",
      "Generation [11 / 200] - "
     ]
    },
    {
     "name": "stderr",
     "output_type": "stream",
     "text": [
      "100%|██████████| 50/50 [00:00<?, ?it/s]\n"
     ]
    },
    {
     "name": "stdout",
     "output_type": "stream",
     "text": [
      "Best weights of generation [11] - weight_x1: -1.4988134959031991 - weight_x2: -2.462378843535672 - bias: 1.9510624367751888 - loss: 0.3184160217242016\n",
      "\n",
      "\n",
      "Generation [12 / 200] - "
     ]
    },
    {
     "name": "stderr",
     "output_type": "stream",
     "text": [
      "100%|██████████| 50/50 [00:00<00:00, 50051.36it/s]\n"
     ]
    },
    {
     "name": "stdout",
     "output_type": "stream",
     "text": [
      "Best weights of generation [12] - weight_x1: -1.4988134959031991 - weight_x2: -2.462378843535672 - bias: 1.9510624367751888 - loss: 0.3184160217242016\n",
      "\n",
      "\n",
      "Generation [13 / 200] - "
     ]
    },
    {
     "name": "stderr",
     "output_type": "stream",
     "text": [
      "100%|██████████| 50/50 [00:00<00:00, 49944.08it/s]\n"
     ]
    },
    {
     "name": "stdout",
     "output_type": "stream",
     "text": [
      "Best weights of generation [13] - weight_x1: -1.4988134959031991 - weight_x2: -2.462378843535672 - bias: 2.1271318447424217 - loss: 0.28793242002094016\n",
      "\n",
      "\n",
      "Generation [14 / 200] - "
     ]
    },
    {
     "name": "stderr",
     "output_type": "stream",
     "text": [
      "100%|██████████| 50/50 [00:00<?, ?it/s]\n"
     ]
    },
    {
     "name": "stdout",
     "output_type": "stream",
     "text": [
      "Best weights of generation [14] - weight_x1: -1.842031176088397 - weight_x2: -2.462378843535672 - bias: 2.2122400732711216 - loss: 0.2533764389117337\n",
      "\n",
      "\n",
      "Generation [15 / 200] - "
     ]
    },
    {
     "name": "stderr",
     "output_type": "stream",
     "text": [
      "100%|██████████| 50/50 [00:00<00:00, 32524.07it/s]\n"
     ]
    },
    {
     "name": "stdout",
     "output_type": "stream",
     "text": [
      "Best weights of generation [15] - weight_x1: -1.842031176088397 - weight_x2: -2.462378843535672 - bias: 2.2122400732711216 - loss: 0.2533764389117337\n",
      "\n",
      "\n",
      "Generation [16 / 200] - "
     ]
    },
    {
     "name": "stderr",
     "output_type": "stream",
     "text": [
      "100%|██████████| 50/50 [00:00<00:00, 50111.16it/s]\n"
     ]
    },
    {
     "name": "stdout",
     "output_type": "stream",
     "text": [
      "Best weights of generation [16] - weight_x1: -1.842031176088397 - weight_x2: -2.570449803614167 - bias: 2.4192019881575155 - loss: 0.2468096388556124\n",
      "\n",
      "\n",
      "Generation [17 / 200] - "
     ]
    },
    {
     "name": "stderr",
     "output_type": "stream",
     "text": [
      "100%|██████████| 50/50 [00:00<00:00, 50063.31it/s]\n"
     ]
    },
    {
     "name": "stdout",
     "output_type": "stream",
     "text": [
      "Best weights of generation [17] - weight_x1: -2.201187618991572 - weight_x2: -2.462378843535672 - bias: 2.4192019881575155 - loss: 0.2286922044022483\n",
      "\n",
      "\n",
      "Generation [18 / 200] - "
     ]
    },
    {
     "name": "stderr",
     "output_type": "stream",
     "text": [
      "100%|██████████| 50/50 [00:00<00:00, 49461.13it/s]\n"
     ]
    },
    {
     "name": "stdout",
     "output_type": "stream",
     "text": [
      "Best weights of generation [18] - weight_x1: -2.201187618991572 - weight_x2: -2.576951505415613 - bias: 2.4192019881575155 - loss: 0.22187293781943274\n",
      "\n",
      "\n",
      "Generation [19 / 200] - "
     ]
    },
    {
     "name": "stderr",
     "output_type": "stream",
     "text": [
      "100%|██████████| 50/50 [00:00<00:00, 24862.50it/s]\n"
     ]
    },
    {
     "name": "stdout",
     "output_type": "stream",
     "text": [
      "Best weights of generation [19] - weight_x1: -2.201187618991572 - weight_x2: -2.576951505415613 - bias: 2.4192019881575155 - loss: 0.22187293781943274\n",
      "\n",
      "\n",
      "Generation [20 / 200] - "
     ]
    },
    {
     "name": "stderr",
     "output_type": "stream",
     "text": [
      "100%|██████████| 50/50 [00:00<00:00, 49379.61it/s]\n"
     ]
    },
    {
     "name": "stdout",
     "output_type": "stream",
     "text": [
      "Best weights of generation [20] - weight_x1: -2.201187618991572 - weight_x2: -2.576951505415613 - bias: 2.4192019881575155 - loss: 0.22187293781943274\n",
      "\n",
      "\n",
      "Generation [21 / 200] - "
     ]
    },
    {
     "name": "stderr",
     "output_type": "stream",
     "text": [
      "100%|██████████| 50/50 [00:00<00:00, 50003.62it/s]\n"
     ]
    },
    {
     "name": "stdout",
     "output_type": "stream",
     "text": [
      "Best weights of generation [21] - weight_x1: -2.201187618991572 - weight_x2: -2.9922997490958587 - bias: 2.806641044584922 - loss: 0.18910380901442997\n",
      "\n",
      "\n",
      "Generation [22 / 200] - "
     ]
    },
    {
     "name": "stderr",
     "output_type": "stream",
     "text": [
      "100%|██████████| 50/50 [00:00<00:00, 49944.08it/s]\n"
     ]
    },
    {
     "name": "stdout",
     "output_type": "stream",
     "text": [
      "Best weights of generation [22] - weight_x1: -2.201187618991572 - weight_x2: -2.9922997490958587 - bias: 2.806641044584922 - loss: 0.18910380901442997\n",
      "\n",
      "\n",
      "Generation [23 / 200] - "
     ]
    },
    {
     "name": "stderr",
     "output_type": "stream",
     "text": [
      "100%|██████████| 50/50 [00:00<00:00, 49967.88it/s]\n"
     ]
    },
    {
     "name": "stdout",
     "output_type": "stream",
     "text": [
      "Best weights of generation [23] - weight_x1: -2.201187618991572 - weight_x2: -2.9922997490958587 - bias: 2.806641044584922 - loss: 0.18910380901442997\n",
      "\n",
      "\n",
      "Generation [24 / 200] - "
     ]
    },
    {
     "name": "stderr",
     "output_type": "stream",
     "text": [
      "100%|██████████| 50/50 [00:00<00:00, 50123.14it/s]\n"
     ]
    },
    {
     "name": "stdout",
     "output_type": "stream",
     "text": [
      "Best weights of generation [24] - weight_x1: -3.0110622406774663 - weight_x2: -2.9922997490958587 - bias: 3.122075151044756 - loss: 0.1768056286346784\n",
      "\n",
      "\n",
      "Generation [25 / 200] - "
     ]
    },
    {
     "name": "stderr",
     "output_type": "stream",
     "text": [
      "100%|██████████| 50/50 [00:00<?, ?it/s]\n"
     ]
    },
    {
     "name": "stdout",
     "output_type": "stream",
     "text": [
      "Best weights of generation [25] - weight_x1: -3.0110622406774663 - weight_x2: -2.9922997490958587 - bias: 3.122075151044756 - loss: 0.1768056286346784\n",
      "\n",
      "\n",
      "Generation [26 / 200] - "
     ]
    },
    {
     "name": "stderr",
     "output_type": "stream",
     "text": [
      "100%|██████████| 50/50 [00:00<00:00, 49896.55it/s]\n"
     ]
    },
    {
     "name": "stdout",
     "output_type": "stream",
     "text": [
      "Best weights of generation [26] - weight_x1: -3.0110622406774663 - weight_x2: -2.9922997490958587 - bias: 3.122075151044756 - loss: 0.1768056286346784\n",
      "\n",
      "\n",
      "Generation [27 / 200] - "
     ]
    },
    {
     "name": "stderr",
     "output_type": "stream",
     "text": [
      "100%|██████████| 50/50 [00:00<?, ?it/s]\n"
     ]
    },
    {
     "name": "stdout",
     "output_type": "stream",
     "text": [
      "Best weights of generation [27] - weight_x1: -3.0110622406774663 - weight_x2: -3.0016167692870552 - bias: 3.122075151044756 - loss: 0.1755931344093793\n",
      "\n",
      "\n",
      "Generation [28 / 200] - "
     ]
    },
    {
     "name": "stderr",
     "output_type": "stream",
     "text": [
      "100%|██████████| 50/50 [00:00<00:00, 49636.73it/s]\n"
     ]
    },
    {
     "name": "stdout",
     "output_type": "stream",
     "text": [
      "Best weights of generation [28] - weight_x1: -3.0110622406774663 - weight_x2: -3.0500474431728906 - bias: 3.122075151044756 - loss: 0.1705122494268701\n",
      "\n",
      "\n",
      "Generation [29 / 200] - "
     ]
    },
    {
     "name": "stderr",
     "output_type": "stream",
     "text": [
      "100%|██████████| 50/50 [00:00<00:00, 50039.42it/s]\n"
     ]
    },
    {
     "name": "stdout",
     "output_type": "stream",
     "text": [
      "Best weights of generation [29] - weight_x1: -3.0110622406774663 - weight_x2: -3.1226306547829847 - bias: 3.122075151044756 - loss: 0.1667346156249278\n",
      "\n",
      "\n",
      "Generation [30 / 200] - "
     ]
    },
    {
     "name": "stderr",
     "output_type": "stream",
     "text": [
      "100%|██████████| 50/50 [00:00<00:00, 50003.62it/s]"
     ]
    },
    {
     "name": "stdout",
     "output_type": "stream",
     "text": [
      "Best weights of generation [30] - weight_x1: -2.9559391085198614 - weight_x2: -3.1226306547829847 - bias: 3.122075151044756 - loss: 0.1627823778590648\n",
      "\n",
      "\n",
      "Generation [31 / 200] - "
     ]
    },
    {
     "name": "stderr",
     "output_type": "stream",
     "text": [
      "\n",
      "100%|██████████| 50/50 [00:00<00:00, 49472.80it/s]\n"
     ]
    },
    {
     "name": "stdout",
     "output_type": "stream",
     "text": [
      "Best weights of generation [31] - weight_x1: -2.845831076782193 - weight_x2: -3.1226306547829847 - bias: 3.122075151044756 - loss: 0.15967582937577063\n",
      "\n",
      "\n",
      "Generation [32 / 200] - "
     ]
    },
    {
     "name": "stderr",
     "output_type": "stream",
     "text": [
      "100%|██████████| 50/50 [00:00<00:00, 49967.88it/s]\n"
     ]
    },
    {
     "name": "stdout",
     "output_type": "stream",
     "text": [
      "Best weights of generation [32] - weight_x1: -2.845831076782193 - weight_x2: -3.310025672235938 - bias: 3.122075151044756 - loss: 0.15760166988551533\n",
      "\n",
      "\n",
      "Generation [33 / 200] - "
     ]
    },
    {
     "name": "stderr",
     "output_type": "stream",
     "text": [
      "100%|██████████| 50/50 [00:00<00:00, 49367.98it/s]\n"
     ]
    },
    {
     "name": "stdout",
     "output_type": "stream",
     "text": [
      "Best weights of generation [33] - weight_x1: -2.845831076782193 - weight_x2: -3.2083525227931036 - bias: 3.122075151044756 - loss: 0.15491961183067693\n",
      "\n",
      "\n",
      "Generation [34 / 200] - "
     ]
    },
    {
     "name": "stderr",
     "output_type": "stream",
     "text": [
      "100%|██████████| 50/50 [00:00<00:00, 49554.63it/s]\n"
     ]
    },
    {
     "name": "stdout",
     "output_type": "stream",
     "text": [
      "Best weights of generation [34] - weight_x1: -2.845831076782193 - weight_x2: -3.310025672235938 - bias: 3.1667951433429478 - loss: 0.15112601851396953\n",
      "\n",
      "\n",
      "Generation [35 / 200] - "
     ]
    },
    {
     "name": "stderr",
     "output_type": "stream",
     "text": [
      "100%|██████████| 50/50 [00:00<00:00, 50099.19it/s]\n"
     ]
    },
    {
     "name": "stdout",
     "output_type": "stream",
     "text": [
      "Best weights of generation [35] - weight_x1: -2.845831076782193 - weight_x2: -3.310025672235938 - bias: 3.1667951433429478 - loss: 0.15112601851396953\n",
      "\n",
      "\n",
      "Generation [36 / 200] - "
     ]
    },
    {
     "name": "stderr",
     "output_type": "stream",
     "text": [
      "100%|██████████| 50/50 [00:00<?, ?it/s]\n"
     ]
    },
    {
     "name": "stdout",
     "output_type": "stream",
     "text": [
      "Best weights of generation [36] - weight_x1: -2.845831076782193 - weight_x2: -3.310025672235938 - bias: 3.1667951433429478 - loss: 0.15112601851396953\n",
      "\n",
      "\n",
      "Generation [37 / 200] - "
     ]
    },
    {
     "name": "stderr",
     "output_type": "stream",
     "text": [
      "100%|██████████| 50/50 [00:00<00:00, 50051.36it/s]\n"
     ]
    },
    {
     "name": "stdout",
     "output_type": "stream",
     "text": [
      "Best weights of generation [37] - weight_x1: -2.845831076782193 - weight_x2: -3.310025672235938 - bias: 3.264926464939442 - loss: 0.1509343602103112\n",
      "\n",
      "\n",
      "Generation [38 / 200] - "
     ]
    },
    {
     "name": "stderr",
     "output_type": "stream",
     "text": [
      "100%|██████████| 50/50 [00:00<?, ?it/s]\n"
     ]
    },
    {
     "name": "stdout",
     "output_type": "stream",
     "text": [
      "Best weights of generation [38] - weight_x1: -2.845831076782193 - weight_x2: -3.2737797535998614 - bias: 3.1667951433429478 - loss: 0.15107900350342562\n",
      "\n",
      "\n",
      "Generation [39 / 200] - "
     ]
    },
    {
     "name": "stderr",
     "output_type": "stream",
     "text": [
      "100%|██████████| 50/50 [00:00<00:00, 49837.26it/s]\n"
     ]
    },
    {
     "name": "stdout",
     "output_type": "stream",
     "text": [
      "Best weights of generation [39] - weight_x1: -2.845831076782193 - weight_x2: -3.2737797535998614 - bias: 3.1667951433429478 - loss: 0.15107900350342562\n",
      "\n",
      "\n",
      "Generation [40 / 200] - "
     ]
    },
    {
     "name": "stderr",
     "output_type": "stream",
     "text": [
      "100%|██████████| 50/50 [00:00<00:00, 49908.42it/s]\n"
     ]
    },
    {
     "name": "stdout",
     "output_type": "stream",
     "text": [
      "Best weights of generation [40] - weight_x1: -2.7915698824856507 - weight_x2: -3.2737797535998614 - bias: 3.1667951433429478 - loss: 0.15039095347949422\n",
      "\n",
      "\n",
      "Generation [41 / 200] - "
     ]
    },
    {
     "name": "stderr",
     "output_type": "stream",
     "text": [
      "100%|██████████| 50/50 [00:00<?, ?it/s]\n"
     ]
    },
    {
     "name": "stdout",
     "output_type": "stream",
     "text": [
      "Best weights of generation [41] - weight_x1: -2.845831076782193 - weight_x2: -3.2737797535998614 - bias: 3.1957445059702305 - loss: 0.15027884496091387\n",
      "\n",
      "\n",
      "Generation [42 / 200] - "
     ]
    },
    {
     "name": "stderr",
     "output_type": "stream",
     "text": [
      "100%|██████████| 50/50 [00:00<00:00, 49991.70it/s]\n"
     ]
    },
    {
     "name": "stdout",
     "output_type": "stream",
     "text": [
      "Best weights of generation [42] - weight_x1: -2.845831076782193 - weight_x2: -3.2737797535998614 - bias: 3.1957445059702305 - loss: 0.15027884496091387\n",
      "\n",
      "\n",
      "Generation [43 / 200] - "
     ]
    },
    {
     "name": "stderr",
     "output_type": "stream",
     "text": [
      "100%|██████████| 50/50 [00:00<00:00, 49979.79it/s]\n"
     ]
    },
    {
     "name": "stdout",
     "output_type": "stream",
     "text": [
      "Best weights of generation [43] - weight_x1: -2.845831076782193 - weight_x2: -3.2737797535998614 - bias: 3.1957445059702305 - loss: 0.15027884496091387\n",
      "\n",
      "\n",
      "Generation [44 / 200] - "
     ]
    },
    {
     "name": "stderr",
     "output_type": "stream",
     "text": [
      "100%|██████████| 50/50 [00:00<00:00, 50087.22it/s]\n"
     ]
    },
    {
     "name": "stdout",
     "output_type": "stream",
     "text": [
      "Best weights of generation [44] - weight_x1: -2.845831076782193 - weight_x2: -3.2737797535998614 - bias: 3.1957445059702305 - loss: 0.15027884496091387\n",
      "\n",
      "\n",
      "Generation [45 / 200] - "
     ]
    },
    {
     "name": "stderr",
     "output_type": "stream",
     "text": [
      "100%|██████████| 50/50 [00:00<00:00, 31361.63it/s]\n"
     ]
    },
    {
     "name": "stdout",
     "output_type": "stream",
     "text": [
      "Best weights of generation [45] - weight_x1: -2.845831076782193 - weight_x2: -3.2737797535998614 - bias: 3.1957445059702305 - loss: 0.15027884496091387\n",
      "\n",
      "\n",
      "Generation [46 / 200] - "
     ]
    },
    {
     "name": "stderr",
     "output_type": "stream",
     "text": [
      "100%|██████████| 50/50 [00:00<?, ?it/s]\n"
     ]
    },
    {
     "name": "stdout",
     "output_type": "stream",
     "text": [
      "Best weights of generation [46] - weight_x1: -2.845831076782193 - weight_x2: -3.2737797535998614 - bias: 3.1957445059702305 - loss: 0.15027884496091387\n",
      "\n",
      "\n",
      "Generation [47 / 200] - "
     ]
    },
    {
     "name": "stderr",
     "output_type": "stream",
     "text": [
      "100%|██████████| 50/50 [00:00<00:00, 55612.62it/s]\n"
     ]
    },
    {
     "name": "stdout",
     "output_type": "stream",
     "text": [
      "Best weights of generation [47] - weight_x1: -2.845831076782193 - weight_x2: -3.2737797535998614 - bias: 3.1957445059702305 - loss: 0.15027884496091387\n",
      "\n",
      "\n",
      "Generation [48 / 200] - "
     ]
    },
    {
     "name": "stderr",
     "output_type": "stream",
     "text": [
      "100%|██████████| 50/50 [00:00<?, ?it/s]\n"
     ]
    },
    {
     "name": "stdout",
     "output_type": "stream",
     "text": [
      "Best weights of generation [48] - weight_x1: -2.845831076782193 - weight_x2: -3.2737797535998614 - bias: 3.1957445059702305 - loss: 0.15027884496091387\n",
      "\n",
      "\n",
      "Generation [49 / 200] - "
     ]
    },
    {
     "name": "stderr",
     "output_type": "stream",
     "text": [
      "100%|██████████| 50/50 [00:00<00:00, 50003.62it/s]\n"
     ]
    },
    {
     "name": "stdout",
     "output_type": "stream",
     "text": [
      "Best weights of generation [49] - weight_x1: -2.845831076782193 - weight_x2: -3.2737797535998614 - bias: 3.1957445059702305 - loss: 0.15027884496091387\n",
      "\n",
      "\n",
      "Generation [50 / 200] - "
     ]
    },
    {
     "name": "stderr",
     "output_type": "stream",
     "text": [
      "100%|██████████| 50/50 [00:00<00:00, 49967.88it/s]\n"
     ]
    },
    {
     "name": "stdout",
     "output_type": "stream",
     "text": [
      "Best weights of generation [50] - weight_x1: -2.845831076782193 - weight_x2: -3.2737797535998614 - bias: 3.1957445059702305 - loss: 0.15027884496091387\n",
      "\n",
      "\n",
      "Generation [51 / 200] - "
     ]
    },
    {
     "name": "stderr",
     "output_type": "stream",
     "text": [
      "100%|██████████| 50/50 [00:00<?, ?it/s]\n"
     ]
    },
    {
     "name": "stdout",
     "output_type": "stream",
     "text": [
      "Best weights of generation [51] - weight_x1: -2.845831076782193 - weight_x2: -3.2737797535998614 - bias: 3.1957445059702305 - loss: 0.15027884496091387\n",
      "\n",
      "\n",
      "Generation [52 / 200] - "
     ]
    },
    {
     "name": "stderr",
     "output_type": "stream",
     "text": [
      "100%|██████████| 50/50 [00:00<?, ?it/s]\n"
     ]
    },
    {
     "name": "stdout",
     "output_type": "stream",
     "text": [
      "Best weights of generation [52] - weight_x1: -2.845831076782193 - weight_x2: -3.2737797535998614 - bias: 3.1957445059702305 - loss: 0.15027884496091387\n",
      "\n",
      "\n",
      "Generation [53 / 200] - "
     ]
    },
    {
     "name": "stderr",
     "output_type": "stream",
     "text": [
      "100%|██████████| 50/50 [00:00<?, ?it/s]\n"
     ]
    },
    {
     "name": "stdout",
     "output_type": "stream",
     "text": [
      "Best weights of generation [53] - weight_x1: -2.845831076782193 - weight_x2: -3.2737797535998614 - bias: 3.1957445059702305 - loss: 0.15027884496091387\n",
      "\n",
      "\n",
      "Generation [54 / 200] - "
     ]
    },
    {
     "name": "stderr",
     "output_type": "stream",
     "text": [
      "100%|██████████| 50/50 [00:00<?, ?it/s]\n"
     ]
    },
    {
     "name": "stdout",
     "output_type": "stream",
     "text": [
      "Best weights of generation [54] - weight_x1: -2.845831076782193 - weight_x2: -3.273815259634635 - bias: 3.1957445059702305 - loss: 0.15027709591084437\n",
      "\n",
      "\n",
      "Generation [55 / 200] - "
     ]
    },
    {
     "name": "stderr",
     "output_type": "stream",
     "text": [
      "100%|██████████| 50/50 [00:00<00:00, 49920.30it/s]\n"
     ]
    },
    {
     "name": "stdout",
     "output_type": "stream",
     "text": [
      "Best weights of generation [55] - weight_x1: -2.845831076782193 - weight_x2: -3.273815259634635 - bias: 3.1957445059702305 - loss: 0.15027709591084437\n",
      "\n",
      "\n",
      "Generation [56 / 200] - "
     ]
    },
    {
     "name": "stderr",
     "output_type": "stream",
     "text": [
      "100%|██████████| 50/50 [00:00<00:00, 50051.36it/s]\n"
     ]
    },
    {
     "name": "stdout",
     "output_type": "stream",
     "text": [
      "Best weights of generation [56] - weight_x1: -2.845831076782193 - weight_x2: -3.273815259634635 - bias: 3.1957445059702305 - loss: 0.15027709591084437\n",
      "\n",
      "\n",
      "Generation [57 / 200] - "
     ]
    },
    {
     "name": "stderr",
     "output_type": "stream",
     "text": [
      "100%|██████████| 50/50 [00:00<?, ?it/s]\n"
     ]
    },
    {
     "name": "stdout",
     "output_type": "stream",
     "text": [
      "Best weights of generation [57] - weight_x1: -2.845831076782193 - weight_x2: -3.273815259634635 - bias: 3.1957445059702305 - loss: 0.15027709591084437\n",
      "\n",
      "\n",
      "Generation [58 / 200] - "
     ]
    },
    {
     "name": "stderr",
     "output_type": "stream",
     "text": [
      "100%|██████████| 50/50 [00:00<00:00, 50123.14it/s]"
     ]
    },
    {
     "name": "stdout",
     "output_type": "stream",
     "text": [
      "Best weights of generation [58] - weight_x1: -2.845831076782193 - weight_x2: -3.273815259634635 - bias: 3.1957445059702305 - loss: 0.15027709591084437\n",
      "\n",
      "\n",
      "Generation [59 / 200] - "
     ]
    },
    {
     "name": "stderr",
     "output_type": "stream",
     "text": [
      "\n",
      "100%|██████████| 50/50 [00:00<00:00, 33083.33it/s]\n"
     ]
    },
    {
     "name": "stdout",
     "output_type": "stream",
     "text": [
      "Best weights of generation [59] - weight_x1: -2.845831076782193 - weight_x2: -3.273815259634635 - bias: 3.1957445059702305 - loss: 0.15027709591084437\n",
      "\n",
      "\n",
      "Generation [60 / 200] - "
     ]
    },
    {
     "name": "stderr",
     "output_type": "stream",
     "text": [
      "100%|██████████| 50/50 [00:00<00:00, 49967.88it/s]\n"
     ]
    },
    {
     "name": "stdout",
     "output_type": "stream",
     "text": [
      "Best weights of generation [60] - weight_x1: -2.845831076782193 - weight_x2: -3.273815259634635 - bias: 3.1957445059702305 - loss: 0.15027709591084437\n",
      "\n",
      "\n",
      "Generation [61 / 200] - "
     ]
    },
    {
     "name": "stderr",
     "output_type": "stream",
     "text": [
      "100%|██████████| 50/50 [00:00<?, ?it/s]\n"
     ]
    },
    {
     "name": "stdout",
     "output_type": "stream",
     "text": [
      "Best weights of generation [61] - weight_x1: -2.845831076782193 - weight_x2: -3.273815259634635 - bias: 3.1957445059702305 - loss: 0.15027709591084437\n",
      "\n",
      "\n",
      "Generation [62 / 200] - "
     ]
    },
    {
     "name": "stderr",
     "output_type": "stream",
     "text": [
      "100%|██████████| 50/50 [00:00<00:00, 49920.30it/s]\n"
     ]
    },
    {
     "name": "stdout",
     "output_type": "stream",
     "text": [
      "Best weights of generation [62] - weight_x1: -2.845831076782193 - weight_x2: -3.273815259634635 - bias: 3.1957445059702305 - loss: 0.15027709591084437\n",
      "\n",
      "\n",
      "Generation [63 / 200] - "
     ]
    },
    {
     "name": "stderr",
     "output_type": "stream",
     "text": [
      "100%|██████████| 50/50 [00:00<00:00, 49182.74it/s]\n"
     ]
    },
    {
     "name": "stdout",
     "output_type": "stream",
     "text": [
      "Best weights of generation [63] - weight_x1: -2.845831076782193 - weight_x2: -3.273815259634635 - bias: 3.1957445059702305 - loss: 0.15027709591084437\n",
      "\n",
      "\n",
      "Generation [64 / 200] - "
     ]
    },
    {
     "name": "stderr",
     "output_type": "stream",
     "text": [
      "100%|██████████| 50/50 [00:00<00:00, 49601.51it/s]"
     ]
    },
    {
     "name": "stdout",
     "output_type": "stream",
     "text": [
      "Best weights of generation [64] - weight_x1: -2.845831076782193 - weight_x2: -3.273815259634635 - bias: 3.1957445059702305 - loss: 0.15027709591084437\n",
      "\n",
      "\n",
      "Generation [65 / 200] - "
     ]
    },
    {
     "name": "stderr",
     "output_type": "stream",
     "text": [
      "\n",
      "100%|██████████| 50/50 [00:00<00:00, 33214.32it/s]\n"
     ]
    },
    {
     "name": "stdout",
     "output_type": "stream",
     "text": [
      "Best weights of generation [65] - weight_x1: -2.845831076782193 - weight_x2: -3.273815259634635 - bias: 3.1957445059702305 - loss: 0.15027709591084437\n",
      "\n",
      "\n",
      "Generation [66 / 200] - "
     ]
    },
    {
     "name": "stderr",
     "output_type": "stream",
     "text": [
      "100%|██████████| 50/50 [00:00<00:00, 50039.42it/s]\n"
     ]
    },
    {
     "name": "stdout",
     "output_type": "stream",
     "text": [
      "Best weights of generation [66] - weight_x1: -2.845831076782193 - weight_x2: -3.273815259634635 - bias: 3.1957445059702305 - loss: 0.15027709591084437\n",
      "\n",
      "\n",
      "Generation [67 / 200] - "
     ]
    },
    {
     "name": "stderr",
     "output_type": "stream",
     "text": [
      "100%|██████████| 50/50 [00:00<00:00, 33119.90it/s]\n"
     ]
    },
    {
     "name": "stdout",
     "output_type": "stream",
     "text": [
      "Best weights of generation [67] - weight_x1: -2.845831076782193 - weight_x2: -3.273815259634635 - bias: 3.1957445059702305 - loss: 0.15027709591084437\n",
      "\n",
      "\n",
      "Generation [68 / 200] - "
     ]
    },
    {
     "name": "stderr",
     "output_type": "stream",
     "text": [
      "100%|██████████| 50/50 [00:00<00:00, 25055.58it/s]\n"
     ]
    },
    {
     "name": "stdout",
     "output_type": "stream",
     "text": [
      "Best weights of generation [68] - weight_x1: -2.845831076782193 - weight_x2: -3.274012680970709 - bias: 3.1957445059702305 - loss: 0.1502673908975495\n",
      "\n",
      "\n",
      "Generation [69 / 200] - "
     ]
    },
    {
     "name": "stderr",
     "output_type": "stream",
     "text": [
      "100%|██████████| 50/50 [00:00<?, ?it/s]\n"
     ]
    },
    {
     "name": "stdout",
     "output_type": "stream",
     "text": [
      "Best weights of generation [69] - weight_x1: -2.845831076782193 - weight_x2: -3.3260152115602435 - bias: 3.1957445059702305 - loss: 0.14889684658915572\n",
      "\n",
      "\n",
      "Generation [70 / 200] - "
     ]
    },
    {
     "name": "stderr",
     "output_type": "stream",
     "text": [
      "100%|██████████| 50/50 [00:00<00:00, 49896.55it/s]\n"
     ]
    },
    {
     "name": "stdout",
     "output_type": "stream",
     "text": [
      "Best weights of generation [70] - weight_x1: -2.845831076782193 - weight_x2: -3.3260152115602435 - bias: 3.1957445059702305 - loss: 0.14889684658915572\n",
      "\n",
      "\n",
      "Generation [71 / 200] - "
     ]
    },
    {
     "name": "stderr",
     "output_type": "stream",
     "text": [
      "100%|██████████| 50/50 [00:00<?, ?it/s]\n"
     ]
    },
    {
     "name": "stdout",
     "output_type": "stream",
     "text": [
      "Best weights of generation [71] - weight_x1: -2.845831076782193 - weight_x2: -3.3260152115602435 - bias: 3.1957445059702305 - loss: 0.14889684658915572\n",
      "\n",
      "\n",
      "Generation [72 / 200] - "
     ]
    },
    {
     "name": "stderr",
     "output_type": "stream",
     "text": [
      "100%|██████████| 50/50 [00:00<00:00, 49766.30it/s]\n"
     ]
    },
    {
     "name": "stdout",
     "output_type": "stream",
     "text": [
      "Best weights of generation [72] - weight_x1: -2.845831076782193 - weight_x2: -3.3260152115602435 - bias: 3.1957445059702305 - loss: 0.14889684658915572\n",
      "\n",
      "\n",
      "Generation [73 / 200] - "
     ]
    },
    {
     "name": "stderr",
     "output_type": "stream",
     "text": [
      "100%|██████████| 50/50 [00:00<?, ?it/s]\n"
     ]
    },
    {
     "name": "stdout",
     "output_type": "stream",
     "text": [
      "Best weights of generation [73] - weight_x1: -2.845831076782193 - weight_x2: -3.3260152115602435 - bias: 3.1957445059702305 - loss: 0.14889684658915572\n",
      "\n",
      "\n",
      "Generation [74 / 200] - "
     ]
    },
    {
     "name": "stderr",
     "output_type": "stream",
     "text": [
      "100%|██████████| 50/50 [00:00<00:00, 50099.19it/s]\n"
     ]
    },
    {
     "name": "stdout",
     "output_type": "stream",
     "text": [
      "Best weights of generation [74] - weight_x1: -2.845831076782193 - weight_x2: -3.3260152115602435 - bias: 3.238428710776988 - loss: 0.14809912496250627\n",
      "\n",
      "\n",
      "Generation [75 / 200] - "
     ]
    },
    {
     "name": "stderr",
     "output_type": "stream",
     "text": [
      "100%|██████████| 50/50 [00:00<00:00, 49461.13it/s]\n"
     ]
    },
    {
     "name": "stdout",
     "output_type": "stream",
     "text": [
      "Best weights of generation [75] - weight_x1: -2.845831076782193 - weight_x2: -3.3260152115602435 - bias: 3.238428710776988 - loss: 0.14809912496250627\n",
      "\n",
      "\n",
      "Generation [76 / 200] - "
     ]
    },
    {
     "name": "stderr",
     "output_type": "stream",
     "text": [
      "100%|██████████| 50/50 [00:00<00:00, 50099.19it/s]"
     ]
    },
    {
     "name": "stdout",
     "output_type": "stream",
     "text": [
      "Best weights of generation [76] - weight_x1: -2.845831076782193 - weight_x2: -3.3260152115602435 - bias: 3.238428710776988 - loss: 0.14809912496250627\n",
      "\n",
      "\n",
      "Generation [77 / 200] - "
     ]
    },
    {
     "name": "stderr",
     "output_type": "stream",
     "text": [
      "\n",
      "100%|██████████| 50/50 [00:00<00:00, 49789.93it/s]\n"
     ]
    },
    {
     "name": "stdout",
     "output_type": "stream",
     "text": [
      "Best weights of generation [77] - weight_x1: -2.845831076782193 - weight_x2: -3.3260152115602435 - bias: 3.234972060003869 - loss: 0.14802813007225413\n",
      "\n",
      "\n",
      "Generation [78 / 200] - "
     ]
    },
    {
     "name": "stderr",
     "output_type": "stream",
     "text": [
      "100%|██████████| 50/50 [00:00<00:00, 50087.22it/s]\n"
     ]
    },
    {
     "name": "stdout",
     "output_type": "stream",
     "text": [
      "Best weights of generation [78] - weight_x1: -2.845831076782193 - weight_x2: -3.3260152115602435 - bias: 3.234972060003869 - loss: 0.14802813007225413\n",
      "\n",
      "\n",
      "Generation [79 / 200] - "
     ]
    },
    {
     "name": "stderr",
     "output_type": "stream",
     "text": [
      "100%|██████████| 50/50 [00:00<00:00, 33151.31it/s]\n"
     ]
    },
    {
     "name": "stdout",
     "output_type": "stream",
     "text": [
      "Best weights of generation [79] - weight_x1: -2.845831076782193 - weight_x2: -3.3260152115602435 - bias: 3.234972060003869 - loss: 0.14802813007225413\n",
      "\n",
      "\n",
      "Generation [80 / 200] - "
     ]
    },
    {
     "name": "stderr",
     "output_type": "stream",
     "text": [
      "100%|██████████| 50/50 [00:00<00:00, 50039.42it/s]\n"
     ]
    },
    {
     "name": "stdout",
     "output_type": "stream",
     "text": [
      "Best weights of generation [80] - weight_x1: -2.845831076782193 - weight_x2: -3.3260152115602435 - bias: 3.219801996870482 - loss: 0.1479991261010966\n",
      "\n",
      "\n",
      "Generation [81 / 200] - "
     ]
    },
    {
     "name": "stderr",
     "output_type": "stream",
     "text": [
      "100%|██████████| 50/50 [00:00<00:00, 50051.36it/s]\n"
     ]
    },
    {
     "name": "stdout",
     "output_type": "stream",
     "text": [
      "Best weights of generation [81] - weight_x1: -2.845831076782193 - weight_x2: -3.374557877971643 - bias: 3.219801996870482 - loss: 0.14745053773405037\n",
      "\n",
      "\n",
      "Generation [82 / 200] - "
     ]
    },
    {
     "name": "stderr",
     "output_type": "stream",
     "text": [
      "100%|██████████| 50/50 [00:00<?, ?it/s]\n"
     ]
    },
    {
     "name": "stdout",
     "output_type": "stream",
     "text": [
      "Best weights of generation [82] - weight_x1: -2.845831076782193 - weight_x2: -3.374557877971643 - bias: 3.219801996870482 - loss: 0.14745053773405037\n",
      "\n",
      "\n",
      "Generation [83 / 200] - "
     ]
    },
    {
     "name": "stderr",
     "output_type": "stream",
     "text": [
      "100%|██████████| 50/50 [00:00<?, ?it/s]\n"
     ]
    },
    {
     "name": "stdout",
     "output_type": "stream",
     "text": [
      "Best weights of generation [83] - weight_x1: -2.845831076782193 - weight_x2: -3.374557877971643 - bias: 3.234972060003869 - loss: 0.14659586732825924\n",
      "\n",
      "\n",
      "Generation [84 / 200] - "
     ]
    },
    {
     "name": "stderr",
     "output_type": "stream",
     "text": [
      "100%|██████████| 50/50 [00:00<?, ?it/s]\n"
     ]
    },
    {
     "name": "stdout",
     "output_type": "stream",
     "text": [
      "Best weights of generation [84] - weight_x1: -2.822184392199075 - weight_x2: -3.374557877971643 - bias: 3.234972060003869 - loss: 0.14645301432917418\n",
      "\n",
      "\n",
      "Generation [85 / 200] - "
     ]
    },
    {
     "name": "stderr",
     "output_type": "stream",
     "text": [
      "100%|██████████| 50/50 [00:00<00:00, 50075.26it/s]\n"
     ]
    },
    {
     "name": "stdout",
     "output_type": "stream",
     "text": [
      "Best weights of generation [85] - weight_x1: -2.822184392199075 - weight_x2: -3.374557877971643 - bias: 3.234972060003869 - loss: 0.14645301432917418\n",
      "\n",
      "\n",
      "Generation [86 / 200] - "
     ]
    },
    {
     "name": "stderr",
     "output_type": "stream",
     "text": [
      "100%|██████████| 50/50 [00:00<?, ?it/s]\n"
     ]
    },
    {
     "name": "stdout",
     "output_type": "stream",
     "text": [
      "Best weights of generation [86] - weight_x1: -2.822184392199075 - weight_x2: -3.374557877971643 - bias: 3.234972060003869 - loss: 0.14645301432917418\n",
      "\n",
      "\n",
      "Generation [87 / 200] - "
     ]
    },
    {
     "name": "stderr",
     "output_type": "stream",
     "text": [
      "100%|██████████| 50/50 [00:00<00:00, 50039.42it/s]\n"
     ]
    },
    {
     "name": "stdout",
     "output_type": "stream",
     "text": [
      "Best weights of generation [87] - weight_x1: -2.822184392199075 - weight_x2: -3.374557877971643 - bias: 3.234972060003869 - loss: 0.14645301432917418\n",
      "\n",
      "\n",
      "Generation [88 / 200] - "
     ]
    },
    {
     "name": "stderr",
     "output_type": "stream",
     "text": [
      "100%|██████████| 50/50 [00:00<00:00, 49979.79it/s]\n"
     ]
    },
    {
     "name": "stdout",
     "output_type": "stream",
     "text": [
      "Best weights of generation [88] - weight_x1: -2.822184392199075 - weight_x2: -3.374557877971643 - bias: 3.234972060003869 - loss: 0.14645301432917418\n",
      "\n",
      "\n",
      "Generation [89 / 200] - "
     ]
    },
    {
     "name": "stderr",
     "output_type": "stream",
     "text": [
      "100%|██████████| 50/50 [00:00<00:00, 50039.42it/s]\n"
     ]
    },
    {
     "name": "stdout",
     "output_type": "stream",
     "text": [
      "Best weights of generation [89] - weight_x1: -2.822184392199075 - weight_x2: -3.374557877971643 - bias: 3.234972060003869 - loss: 0.14645301432917418\n",
      "\n",
      "\n",
      "Generation [90 / 200] - "
     ]
    },
    {
     "name": "stderr",
     "output_type": "stream",
     "text": [
      "100%|██████████| 50/50 [00:00<00:00, 24877.25it/s]"
     ]
    },
    {
     "name": "stdout",
     "output_type": "stream",
     "text": [
      "Best weights of generation [90] - weight_x1: -2.822184392199075 - weight_x2: -3.374557877971643 - bias: 3.234972060003869 - loss: 0.14645301432917418\n",
      "\n",
      "\n",
      "Generation [91 / 200] - "
     ]
    },
    {
     "name": "stderr",
     "output_type": "stream",
     "text": [
      "\n",
      "100%|██████████| 50/50 [00:00<?, ?it/s]\n"
     ]
    },
    {
     "name": "stdout",
     "output_type": "stream",
     "text": [
      "Best weights of generation [91] - weight_x1: -2.822184392199075 - weight_x2: -3.374557877971643 - bias: 3.255307368027085 - loss: 0.1464452965757237\n",
      "\n",
      "\n",
      "Generation [92 / 200] - "
     ]
    },
    {
     "name": "stderr",
     "output_type": "stream",
     "text": [
      "100%|██████████| 50/50 [00:00<00:00, 33151.31it/s]\n"
     ]
    },
    {
     "name": "stdout",
     "output_type": "stream",
     "text": [
      "Best weights of generation [92] - weight_x1: -2.822184392199075 - weight_x2: -3.374557877971643 - bias: 3.255307368027085 - loss: 0.1464452965757237\n",
      "\n",
      "\n",
      "Generation [93 / 200] - "
     ]
    },
    {
     "name": "stderr",
     "output_type": "stream",
     "text": [
      "100%|██████████| 50/50 [00:00<00:00, 24986.92it/s]\n"
     ]
    },
    {
     "name": "stdout",
     "output_type": "stream",
     "text": [
      "Best weights of generation [93] - weight_x1: -2.822184392199075 - weight_x2: -3.374557877971643 - bias: 3.255307368027085 - loss: 0.1464452965757237\n",
      "\n",
      "\n",
      "Generation [94 / 200] - "
     ]
    },
    {
     "name": "stderr",
     "output_type": "stream",
     "text": [
      "100%|██████████| 50/50 [00:00<00:00, 50015.55it/s]\n"
     ]
    },
    {
     "name": "stdout",
     "output_type": "stream",
     "text": [
      "Best weights of generation [94] - weight_x1: -2.822184392199075 - weight_x2: -3.374557877971643 - bias: 3.255307368027085 - loss: 0.1464452965757237\n",
      "\n",
      "\n",
      "Generation [95 / 200] - "
     ]
    },
    {
     "name": "stderr",
     "output_type": "stream",
     "text": [
      "100%|██████████| 50/50 [00:00<00:00, 49896.55it/s]\n"
     ]
    },
    {
     "name": "stdout",
     "output_type": "stream",
     "text": [
      "Best weights of generation [95] - weight_x1: -2.822184392199075 - weight_x2: -3.459528208717035 - bias: 3.326407495222422 - loss: 0.1451622911085177\n",
      "\n",
      "\n",
      "Generation [96 / 200] - "
     ]
    },
    {
     "name": "stderr",
     "output_type": "stream",
     "text": [
      "100%|██████████| 50/50 [00:00<00:00, 49778.12it/s]\n"
     ]
    },
    {
     "name": "stdout",
     "output_type": "stream",
     "text": [
      "Best weights of generation [96] - weight_x1: -2.822184392199075 - weight_x2: -3.459528208717035 - bias: 3.326407495222422 - loss: 0.1451622911085177\n",
      "\n",
      "\n",
      "Generation [97 / 200] - "
     ]
    },
    {
     "name": "stderr",
     "output_type": "stream",
     "text": [
      "100%|██████████| 50/50 [00:00<00:00, 24992.87it/s]"
     ]
    },
    {
     "name": "stdout",
     "output_type": "stream",
     "text": [
      "Best weights of generation [97] - weight_x1: -2.822184392199075 - weight_x2: -3.459528208717035 - bias: 3.31003676280021 - loss: 0.1444449107440766\n",
      "\n",
      "\n",
      "Generation [98 / 200] - "
     ]
    },
    {
     "name": "stderr",
     "output_type": "stream",
     "text": [
      "\n",
      "100%|██████████| 50/50 [00:00<00:00, 49531.22it/s]\n"
     ]
    },
    {
     "name": "stdout",
     "output_type": "stream",
     "text": [
      "Best weights of generation [98] - weight_x1: -2.822184392199075 - weight_x2: -3.526301737750095 - bias: 3.326407495222422 - loss: 0.14349278798946247\n",
      "\n",
      "\n",
      "Generation [99 / 200] - "
     ]
    },
    {
     "name": "stderr",
     "output_type": "stream",
     "text": [
      "100%|██████████| 50/50 [00:00<00:00, 24992.87it/s]\n"
     ]
    },
    {
     "name": "stdout",
     "output_type": "stream",
     "text": [
      "Best weights of generation [99] - weight_x1: -2.822184392199075 - weight_x2: -3.526301737750095 - bias: 3.326407495222422 - loss: 0.14349278798946247\n",
      "\n",
      "\n",
      "Generation [100 / 200] - "
     ]
    },
    {
     "name": "stderr",
     "output_type": "stream",
     "text": [
      "100%|██████████| 50/50 [00:00<00:00, 24957.18it/s]\n"
     ]
    },
    {
     "name": "stdout",
     "output_type": "stream",
     "text": [
      "Best weights of generation [100] - weight_x1: -2.822184392199075 - weight_x2: -3.526301737750095 - bias: 3.326407495222422 - loss: 0.14349278798946247\n",
      "\n",
      "\n",
      "Generation [101 / 200] - "
     ]
    },
    {
     "name": "stderr",
     "output_type": "stream",
     "text": [
      "100%|██████████| 50/50 [00:00<00:00, 49849.11it/s]\n"
     ]
    },
    {
     "name": "stdout",
     "output_type": "stream",
     "text": [
      "Best weights of generation [101] - weight_x1: -2.822184392199075 - weight_x2: -3.526301737750095 - bias: 3.326407495222422 - loss: 0.14349278798946247\n",
      "\n",
      "\n",
      "Generation [102 / 200] - "
     ]
    },
    {
     "name": "stderr",
     "output_type": "stream",
     "text": [
      "100%|██████████| 50/50 [00:00<00:00, 50015.55it/s]\n"
     ]
    },
    {
     "name": "stdout",
     "output_type": "stream",
     "text": [
      "Best weights of generation [102] - weight_x1: -2.822184392199075 - weight_x2: -3.526301737750095 - bias: 3.326407495222422 - loss: 0.14349278798946247\n",
      "\n",
      "\n",
      "Generation [103 / 200] - "
     ]
    },
    {
     "name": "stderr",
     "output_type": "stream",
     "text": [
      "100%|██████████| 50/50 [00:00<00:00, 49991.70it/s]\n"
     ]
    },
    {
     "name": "stdout",
     "output_type": "stream",
     "text": [
      "Best weights of generation [103] - weight_x1: -2.822184392199075 - weight_x2: -3.526301737750095 - bias: 3.326407495222422 - loss: 0.14349278798946247\n",
      "\n",
      "\n",
      "Generation [104 / 200] - "
     ]
    },
    {
     "name": "stderr",
     "output_type": "stream",
     "text": [
      "100%|██████████| 50/50 [00:00<00:00, 79679.03it/s]\n"
     ]
    },
    {
     "name": "stdout",
     "output_type": "stream",
     "text": [
      "Best weights of generation [104] - weight_x1: -2.822184392199075 - weight_x2: -3.526301737750095 - bias: 3.326407495222422 - loss: 0.14349278798946247\n",
      "\n",
      "\n",
      "Generation [105 / 200] - "
     ]
    },
    {
     "name": "stderr",
     "output_type": "stream",
     "text": [
      "100%|██████████| 50/50 [00:00<00:00, 97951.99it/s]\n"
     ]
    },
    {
     "name": "stdout",
     "output_type": "stream",
     "text": [
      "Best weights of generation [105] - weight_x1: -2.8313540934647365 - weight_x2: -3.526301737750095 - bias: 3.326407495222422 - loss: 0.1433993320087426\n",
      "\n",
      "\n",
      "Generation [106 / 200] - "
     ]
    },
    {
     "name": "stderr",
     "output_type": "stream",
     "text": [
      "100%|██████████| 50/50 [00:00<00:00, 98319.36it/s]\n"
     ]
    },
    {
     "name": "stdout",
     "output_type": "stream",
     "text": [
      "Best weights of generation [106] - weight_x1: -2.8313540934647365 - weight_x2: -3.526301737750095 - bias: 3.326407495222422 - loss: 0.1433993320087426\n",
      "\n",
      "\n",
      "Generation [107 / 200] - "
     ]
    },
    {
     "name": "stderr",
     "output_type": "stream",
     "text": [
      "100%|██████████| 50/50 [00:00<00:00, 93123.98it/s]\n"
     ]
    },
    {
     "name": "stdout",
     "output_type": "stream",
     "text": [
      "Best weights of generation [107] - weight_x1: -2.8313540934647365 - weight_x2: -3.526301737750095 - bias: 3.326407495222422 - loss: 0.1433993320087426\n",
      "\n",
      "\n",
      "Generation [108 / 200] - "
     ]
    },
    {
     "name": "stderr",
     "output_type": "stream",
     "text": [
      "100%|██████████| 50/50 [00:00<00:00, 49391.24it/s]\n"
     ]
    },
    {
     "name": "stdout",
     "output_type": "stream",
     "text": [
      "Best weights of generation [108] - weight_x1: -2.8313540934647365 - weight_x2: -3.526301737750095 - bias: 3.326407495222422 - loss: 0.1433993320087426\n",
      "\n",
      "\n",
      "Generation [109 / 200] - "
     ]
    },
    {
     "name": "stderr",
     "output_type": "stream",
     "text": [
      "100%|██████████| 50/50 [00:00<?, ?it/s]\n"
     ]
    },
    {
     "name": "stdout",
     "output_type": "stream",
     "text": [
      "Best weights of generation [109] - weight_x1: -2.8313540934647365 - weight_x2: -3.526301737750095 - bias: 3.326407495222422 - loss: 0.1433993320087426\n",
      "\n",
      "\n",
      "Generation [110 / 200] - "
     ]
    },
    {
     "name": "stderr",
     "output_type": "stream",
     "text": [
      "100%|██████████| 50/50 [00:00<00:00, 93165.35it/s]\n"
     ]
    },
    {
     "name": "stdout",
     "output_type": "stream",
     "text": [
      "Best weights of generation [110] - weight_x1: -2.8313540934647365 - weight_x2: -3.526301737750095 - bias: 3.326407495222422 - loss: 0.1433993320087426\n",
      "\n",
      "\n",
      "Generation [111 / 200] - "
     ]
    },
    {
     "name": "stderr",
     "output_type": "stream",
     "text": [
      "100%|██████████| 50/50 [00:00<00:00, 91061.75it/s]\n"
     ]
    },
    {
     "name": "stdout",
     "output_type": "stream",
     "text": [
      "Best weights of generation [111] - weight_x1: -2.8601177787273016 - weight_x2: -3.526301737750095 - bias: 3.326407495222422 - loss: 0.14339332888603182\n",
      "\n",
      "\n",
      "Generation [112 / 200] - "
     ]
    },
    {
     "name": "stderr",
     "output_type": "stream",
     "text": [
      "100%|██████████| 50/50 [00:00<00:00, 94000.54it/s]\n"
     ]
    },
    {
     "name": "stdout",
     "output_type": "stream",
     "text": [
      "Best weights of generation [112] - weight_x1: -2.8601177787273016 - weight_x2: -3.526301737750095 - bias: 3.326407495222422 - loss: 0.14339332888603182\n",
      "\n",
      "\n",
      "Generation [113 / 200] - "
     ]
    },
    {
     "name": "stderr",
     "output_type": "stream",
     "text": [
      "100%|██████████| 50/50 [00:00<00:00, 32403.46it/s]\n"
     ]
    },
    {
     "name": "stdout",
     "output_type": "stream",
     "text": [
      "Best weights of generation [113] - weight_x1: -2.8601177787273016 - weight_x2: -3.526301737750095 - bias: 3.326407495222422 - loss: 0.14339332888603182\n",
      "\n",
      "\n",
      "Generation [114 / 200] - "
     ]
    },
    {
     "name": "stderr",
     "output_type": "stream",
     "text": [
      "100%|██████████| 50/50 [00:00<00:00, 98181.27it/s]\n"
     ]
    },
    {
     "name": "stdout",
     "output_type": "stream",
     "text": [
      "Best weights of generation [114] - weight_x1: -2.8601177787273016 - weight_x2: -3.52053514062063 - bias: 3.326407495222422 - loss: 0.14328771687659883\n",
      "\n",
      "\n",
      "Generation [115 / 200] - "
     ]
    },
    {
     "name": "stderr",
     "output_type": "stream",
     "text": [
      "100%|██████████| 50/50 [00:00<00:00, 91658.74it/s]\n"
     ]
    },
    {
     "name": "stdout",
     "output_type": "stream",
     "text": [
      "Best weights of generation [115] - weight_x1: -2.8601177787273016 - weight_x2: -3.5109622276115897 - bias: 3.326407495222422 - loss: 0.14317654302760013\n",
      "\n",
      "\n",
      "Generation [116 / 200] - "
     ]
    },
    {
     "name": "stderr",
     "output_type": "stream",
     "text": [
      "100%|██████████| 50/50 [00:00<00:00, 47074.12it/s]\n"
     ]
    },
    {
     "name": "stdout",
     "output_type": "stream",
     "text": [
      "Best weights of generation [116] - weight_x1: -2.8601177787273016 - weight_x2: -3.5109622276115897 - bias: 3.326407495222422 - loss: 0.14317654302760013\n",
      "\n",
      "\n",
      "Generation [117 / 200] - "
     ]
    },
    {
     "name": "stderr",
     "output_type": "stream",
     "text": [
      "100%|██████████| 50/50 [00:00<?, ?it/s]\n"
     ]
    },
    {
     "name": "stdout",
     "output_type": "stream",
     "text": [
      "Best weights of generation [117] - weight_x1: -2.8601177787273016 - weight_x2: -3.5109622276115897 - bias: 3.326407495222422 - loss: 0.14317654302760013\n",
      "\n",
      "\n",
      "Generation [118 / 200] - "
     ]
    },
    {
     "name": "stderr",
     "output_type": "stream",
     "text": [
      "100%|██████████| 50/50 [00:00<00:00, 98273.29it/s]\n"
     ]
    },
    {
     "name": "stdout",
     "output_type": "stream",
     "text": [
      "Best weights of generation [118] - weight_x1: -2.8601177787273016 - weight_x2: -3.5109622276115897 - bias: 3.326407495222422 - loss: 0.14317654302760013\n",
      "\n",
      "\n",
      "Generation [119 / 200] - "
     ]
    },
    {
     "name": "stderr",
     "output_type": "stream",
     "text": [
      "100%|██████████| 50/50 [00:00<00:00, 49955.98it/s]\n"
     ]
    },
    {
     "name": "stdout",
     "output_type": "stream",
     "text": [
      "Best weights of generation [119] - weight_x1: -2.8601177787273016 - weight_x2: -3.5109622276115897 - bias: 3.326407495222422 - loss: 0.14317654302760013\n",
      "\n",
      "\n",
      "Generation [120 / 200] - "
     ]
    },
    {
     "name": "stderr",
     "output_type": "stream",
     "text": [
      "100%|██████████| 50/50 [00:00<00:00, 94127.11it/s]\n"
     ]
    },
    {
     "name": "stdout",
     "output_type": "stream",
     "text": [
      "Best weights of generation [120] - weight_x1: -2.8601177787273016 - weight_x2: -3.5109622276115897 - bias: 3.326407495222422 - loss: 0.14317654302760013\n",
      "\n",
      "\n",
      "Generation [121 / 200] - "
     ]
    },
    {
     "name": "stderr",
     "output_type": "stream",
     "text": [
      "100%|██████████| 50/50 [00:00<00:00, 49837.26it/s]\n"
     ]
    },
    {
     "name": "stdout",
     "output_type": "stream",
     "text": [
      "Best weights of generation [121] - weight_x1: -2.8601177787273016 - weight_x2: -3.5109622276115897 - bias: 3.326407495222422 - loss: 0.14317654302760013\n",
      "\n",
      "\n",
      "Generation [122 / 200] - "
     ]
    },
    {
     "name": "stderr",
     "output_type": "stream",
     "text": [
      "100%|██████████| 50/50 [00:00<00:00, 50195.12it/s]\n"
     ]
    },
    {
     "name": "stdout",
     "output_type": "stream",
     "text": [
      "Best weights of generation [122] - weight_x1: -2.8601177787273016 - weight_x2: -3.5109622276115897 - bias: 3.3553580849580507 - loss: 0.14302047122190578\n",
      "\n",
      "\n",
      "Generation [123 / 200] - "
     ]
    },
    {
     "name": "stderr",
     "output_type": "stream",
     "text": [
      "100%|██████████| 50/50 [00:00<00:00, 50075.26it/s]\n"
     ]
    },
    {
     "name": "stdout",
     "output_type": "stream",
     "text": [
      "Best weights of generation [123] - weight_x1: -2.876953468313693 - weight_x2: -3.5109622276115897 - bias: 3.353050720045145 - loss: 0.1426684949264775\n",
      "\n",
      "\n",
      "Generation [124 / 200] - "
     ]
    },
    {
     "name": "stderr",
     "output_type": "stream",
     "text": [
      "100%|██████████| 50/50 [00:00<00:00, 33052.04it/s]\n"
     ]
    },
    {
     "name": "stdout",
     "output_type": "stream",
     "text": [
      "Best weights of generation [124] - weight_x1: -2.876953468313693 - weight_x2: -3.5109622276115897 - bias: 3.353050720045145 - loss: 0.1426684949264775\n",
      "\n",
      "\n",
      "Generation [125 / 200] - "
     ]
    },
    {
     "name": "stderr",
     "output_type": "stream",
     "text": [
      "100%|██████████| 50/50 [00:00<?, ?it/s]\n"
     ]
    },
    {
     "name": "stdout",
     "output_type": "stream",
     "text": [
      "Best weights of generation [125] - weight_x1: -2.876953468313693 - weight_x2: -3.5109622276115897 - bias: 3.353050720045145 - loss: 0.1426684949264775\n",
      "\n",
      "\n",
      "Generation [126 / 200] - "
     ]
    },
    {
     "name": "stderr",
     "output_type": "stream",
     "text": [
      "100%|██████████| 50/50 [00:00<00:00, 50027.48it/s]\n"
     ]
    },
    {
     "name": "stdout",
     "output_type": "stream",
     "text": [
      "Best weights of generation [126] - weight_x1: -2.876953468313693 - weight_x2: -3.528348256642713 - bias: 3.353050720045145 - loss: 0.1425024831642389\n",
      "\n",
      "\n",
      "Generation [127 / 200] - "
     ]
    },
    {
     "name": "stderr",
     "output_type": "stream",
     "text": [
      "100%|██████████| 50/50 [00:00<00:00, 37389.05it/s]\n"
     ]
    },
    {
     "name": "stdout",
     "output_type": "stream",
     "text": [
      "Best weights of generation [127] - weight_x1: -2.9000940976577003 - weight_x2: -3.5109622276115897 - bias: 3.353050720045145 - loss: 0.14249556211165856\n",
      "\n",
      "\n",
      "Generation [128 / 200] - "
     ]
    },
    {
     "name": "stderr",
     "output_type": "stream",
     "text": [
      "100%|██████████| 50/50 [00:00<?, ?it/s]\n"
     ]
    },
    {
     "name": "stdout",
     "output_type": "stream",
     "text": [
      "Best weights of generation [128] - weight_x1: -2.9000940976577003 - weight_x2: -3.5109622276115897 - bias: 3.353050720045145 - loss: 0.14249556211165856\n",
      "\n",
      "\n",
      "Generation [129 / 200] - "
     ]
    },
    {
     "name": "stderr",
     "output_type": "stream",
     "text": [
      "100%|██████████| 50/50 [00:00<?, ?it/s]"
     ]
    },
    {
     "name": "stdout",
     "output_type": "stream",
     "text": [
      "Best weights of generation [129] - weight_x1: -2.9000940976577003 - weight_x2: -3.5109622276115897 - bias: 3.353050720045145 - loss: 0.14249556211165856\n",
      "\n",
      "\n",
      "Generation [130 / 200] - "
     ]
    },
    {
     "name": "stderr",
     "output_type": "stream",
     "text": [
      "\n",
      "100%|██████████| 50/50 [00:00<?, ?it/s]\n"
     ]
    },
    {
     "name": "stdout",
     "output_type": "stream",
     "text": [
      "Best weights of generation [130] - weight_x1: -2.9000940976577003 - weight_x2: -3.5109622276115897 - bias: 3.353050720045145 - loss: 0.14249556211165856\n",
      "\n",
      "\n",
      "Generation [131 / 200] - "
     ]
    },
    {
     "name": "stderr",
     "output_type": "stream",
     "text": [
      "100%|██████████| 50/50 [00:00<00:00, 50087.22it/s]\n"
     ]
    },
    {
     "name": "stdout",
     "output_type": "stream",
     "text": [
      "Best weights of generation [131] - weight_x1: -2.9000940976577003 - weight_x2: -3.5109622276115897 - bias: 3.353050720045145 - loss: 0.14249556211165856\n",
      "\n",
      "\n",
      "Generation [132 / 200] - "
     ]
    },
    {
     "name": "stderr",
     "output_type": "stream",
     "text": [
      "100%|██████████| 50/50 [00:00<?, ?it/s]\n"
     ]
    },
    {
     "name": "stdout",
     "output_type": "stream",
     "text": [
      "Best weights of generation [132] - weight_x1: -2.9000940976577003 - weight_x2: -3.5109622276115897 - bias: 3.353050720045145 - loss: 0.14249556211165856\n",
      "\n",
      "\n",
      "Generation [133 / 200] - "
     ]
    },
    {
     "name": "stderr",
     "output_type": "stream",
     "text": [
      "100%|██████████| 50/50 [00:00<00:00, 50027.48it/s]\n"
     ]
    },
    {
     "name": "stdout",
     "output_type": "stream",
     "text": [
      "Best weights of generation [133] - weight_x1: -2.9000940976577003 - weight_x2: -3.5109622276115897 - bias: 3.353050720045145 - loss: 0.14249556211165856\n",
      "\n",
      "\n",
      "Generation [134 / 200] - "
     ]
    },
    {
     "name": "stderr",
     "output_type": "stream",
     "text": [
      "100%|██████████| 50/50 [00:00<?, ?it/s]\n"
     ]
    },
    {
     "name": "stdout",
     "output_type": "stream",
     "text": [
      "Best weights of generation [134] - weight_x1: -2.9000940976577003 - weight_x2: -3.5109622276115897 - bias: 3.353050720045145 - loss: 0.14249556211165856\n",
      "\n",
      "\n",
      "Generation [135 / 200] - "
     ]
    },
    {
     "name": "stderr",
     "output_type": "stream",
     "text": [
      "100%|██████████| 50/50 [00:00<00:00, 50027.48it/s]\n"
     ]
    },
    {
     "name": "stdout",
     "output_type": "stream",
     "text": [
      "Best weights of generation [135] - weight_x1: -2.9000940976577003 - weight_x2: -3.5109622276115897 - bias: 3.353050720045145 - loss: 0.14249556211165856\n",
      "\n",
      "\n",
      "Generation [136 / 200] - "
     ]
    },
    {
     "name": "stderr",
     "output_type": "stream",
     "text": [
      "100%|██████████| 50/50 [00:00<00:00, 49955.98it/s]\n"
     ]
    },
    {
     "name": "stdout",
     "output_type": "stream",
     "text": [
      "Best weights of generation [136] - weight_x1: -2.9000940976577003 - weight_x2: -3.5109622276115897 - bias: 3.353050720045145 - loss: 0.14249556211165856\n",
      "\n",
      "\n",
      "Generation [137 / 200] - "
     ]
    },
    {
     "name": "stderr",
     "output_type": "stream",
     "text": [
      "100%|██████████| 50/50 [00:00<00:00, 49860.96it/s]\n"
     ]
    },
    {
     "name": "stdout",
     "output_type": "stream",
     "text": [
      "Best weights of generation [137] - weight_x1: -2.9000940976577003 - weight_x2: -3.5109622276115897 - bias: 3.353050720045145 - loss: 0.14249556211165856\n",
      "\n",
      "\n",
      "Generation [138 / 200] - "
     ]
    },
    {
     "name": "stderr",
     "output_type": "stream",
     "text": [
      "100%|██████████| 50/50 [00:00<00:00, 49979.79it/s]\n"
     ]
    },
    {
     "name": "stdout",
     "output_type": "stream",
     "text": [
      "Best weights of generation [138] - weight_x1: -2.9000940976577003 - weight_x2: -3.5109622276115897 - bias: 3.353050720045145 - loss: 0.14249556211165856\n",
      "\n",
      "\n",
      "Generation [139 / 200] - "
     ]
    },
    {
     "name": "stderr",
     "output_type": "stream",
     "text": [
      "100%|██████████| 50/50 [00:00<00:00, 50087.22it/s]\n"
     ]
    },
    {
     "name": "stdout",
     "output_type": "stream",
     "text": [
      "Best weights of generation [139] - weight_x1: -2.9000940976577003 - weight_x2: -3.5109622276115897 - bias: 3.353050720045145 - loss: 0.14249556211165856\n",
      "\n",
      "\n",
      "Generation [140 / 200] - "
     ]
    },
    {
     "name": "stderr",
     "output_type": "stream",
     "text": [
      "100%|██████████| 50/50 [00:00<00:00, 49967.88it/s]\n"
     ]
    },
    {
     "name": "stdout",
     "output_type": "stream",
     "text": [
      "Best weights of generation [140] - weight_x1: -2.9000940976577003 - weight_x2: -3.5109622276115897 - bias: 3.353050720045145 - loss: 0.14249556211165856\n",
      "\n",
      "\n",
      "Generation [141 / 200] - "
     ]
    },
    {
     "name": "stderr",
     "output_type": "stream",
     "text": [
      "100%|██████████| 50/50 [00:00<?, ?it/s]\n"
     ]
    },
    {
     "name": "stdout",
     "output_type": "stream",
     "text": [
      "Best weights of generation [141] - weight_x1: -2.9000940976577003 - weight_x2: -3.5109622276115897 - bias: 3.3637413876913502 - loss: 0.14244270787981805\n",
      "\n",
      "\n",
      "Generation [142 / 200] - "
     ]
    },
    {
     "name": "stderr",
     "output_type": "stream",
     "text": [
      "100%|██████████| 50/50 [00:00<00:00, 50003.62it/s]\n"
     ]
    },
    {
     "name": "stdout",
     "output_type": "stream",
     "text": [
      "Best weights of generation [142] - weight_x1: -2.9000940976577003 - weight_x2: -3.5109622276115897 - bias: 3.3637413876913502 - loss: 0.14244270787981805\n",
      "\n",
      "\n",
      "Generation [143 / 200] - "
     ]
    },
    {
     "name": "stderr",
     "output_type": "stream",
     "text": [
      "100%|██████████| 50/50 [00:00<?, ?it/s]\n"
     ]
    },
    {
     "name": "stdout",
     "output_type": "stream",
     "text": [
      "Best weights of generation [143] - weight_x1: -2.9000940976577003 - weight_x2: -3.5126185378132155 - bias: 3.3637413876913502 - loss: 0.14241110205915486\n",
      "\n",
      "\n",
      "Generation [144 / 200] - "
     ]
    },
    {
     "name": "stderr",
     "output_type": "stream",
     "text": [
      "100%|██████████| 50/50 [00:00<00:00, 49402.87it/s]\n"
     ]
    },
    {
     "name": "stdout",
     "output_type": "stream",
     "text": [
      "Best weights of generation [144] - weight_x1: -2.9000940976577003 - weight_x2: -3.5126185378132155 - bias: 3.3637413876913502 - loss: 0.14241110205915486\n",
      "\n",
      "\n",
      "Generation [145 / 200] - "
     ]
    },
    {
     "name": "stderr",
     "output_type": "stream",
     "text": [
      "100%|██████████| 50/50 [00:00<?, ?it/s]\n"
     ]
    },
    {
     "name": "stdout",
     "output_type": "stream",
     "text": [
      "Best weights of generation [145] - weight_x1: -2.9000940976577003 - weight_x2: -3.5270868545889846 - bias: 3.3637413876913502 - loss: 0.1422369321326133\n",
      "\n",
      "\n",
      "Generation [146 / 200] - "
     ]
    },
    {
     "name": "stderr",
     "output_type": "stream",
     "text": [
      "100%|██████████| 50/50 [00:00<?, ?it/s]\n"
     ]
    },
    {
     "name": "stdout",
     "output_type": "stream",
     "text": [
      "Best weights of generation [146] - weight_x1: -2.9000940976577003 - weight_x2: -3.5270868545889846 - bias: 3.3637413876913502 - loss: 0.1422369321326133\n",
      "\n",
      "\n",
      "Generation [147 / 200] - "
     ]
    },
    {
     "name": "stderr",
     "output_type": "stream",
     "text": [
      "100%|██████████| 50/50 [00:00<00:00, 49920.30it/s]"
     ]
    },
    {
     "name": "stdout",
     "output_type": "stream",
     "text": [
      "Best weights of generation [147] - weight_x1: -2.9000940976577003 - weight_x2: -3.5270868545889846 - bias: 3.3637413876913502 - loss: 0.1422369321326133\n",
      "\n",
      "\n",
      "Generation [148 / 200] - "
     ]
    },
    {
     "name": "stderr",
     "output_type": "stream",
     "text": [
      "\n",
      "100%|██████████| 50/50 [00:00<00:00, 50003.62it/s]\n"
     ]
    },
    {
     "name": "stdout",
     "output_type": "stream",
     "text": [
      "Best weights of generation [148] - weight_x1: -2.9000940976577003 - weight_x2: -3.5270868545889846 - bias: 3.3637413876913502 - loss: 0.1422369321326133\n",
      "\n",
      "\n",
      "Generation [149 / 200] - "
     ]
    },
    {
     "name": "stderr",
     "output_type": "stream",
     "text": [
      "100%|██████████| 50/50 [00:00<00:00, 50051.36it/s]\n"
     ]
    },
    {
     "name": "stdout",
     "output_type": "stream",
     "text": [
      "Best weights of generation [149] - weight_x1: -2.9000940976577003 - weight_x2: -3.5270868545889846 - bias: 3.3637413876913502 - loss: 0.1422369321326133\n",
      "\n",
      "\n",
      "Generation [150 / 200] - "
     ]
    },
    {
     "name": "stderr",
     "output_type": "stream",
     "text": [
      "100%|██████████| 50/50 [00:00<?, ?it/s]\n"
     ]
    },
    {
     "name": "stdout",
     "output_type": "stream",
     "text": [
      "Best weights of generation [150] - weight_x1: -2.9000940976577003 - weight_x2: -3.5270868545889846 - bias: 3.3637413876913502 - loss: 0.1422369321326133\n",
      "\n",
      "\n",
      "Generation [151 / 200] - "
     ]
    },
    {
     "name": "stderr",
     "output_type": "stream",
     "text": [
      "100%|██████████| 50/50 [00:00<00:00, 50291.41it/s]\n"
     ]
    },
    {
     "name": "stdout",
     "output_type": "stream",
     "text": [
      "Best weights of generation [151] - weight_x1: -2.911145159612875 - weight_x2: -3.5270868545889846 - bias: 3.3637413876913502 - loss: 0.14222988377350745\n",
      "\n",
      "\n",
      "Generation [152 / 200] - "
     ]
    },
    {
     "name": "stderr",
     "output_type": "stream",
     "text": [
      "100%|██████████| 50/50 [00:00<00:00, 50015.55it/s]\n"
     ]
    },
    {
     "name": "stdout",
     "output_type": "stream",
     "text": [
      "Best weights of generation [152] - weight_x1: -2.911145159612875 - weight_x2: -3.5270868545889846 - bias: 3.3637413876913502 - loss: 0.14222988377350745\n",
      "\n",
      "\n",
      "Generation [153 / 200] - "
     ]
    },
    {
     "name": "stderr",
     "output_type": "stream",
     "text": [
      "100%|██████████| 50/50 [00:00<?, ?it/s]\n"
     ]
    },
    {
     "name": "stdout",
     "output_type": "stream",
     "text": [
      "Best weights of generation [153] - weight_x1: -2.911145159612875 - weight_x2: -3.5270868545889846 - bias: 3.3723670678252073 - loss: 0.1421044980142527\n",
      "\n",
      "\n",
      "Generation [154 / 200] - "
     ]
    },
    {
     "name": "stderr",
     "output_type": "stream",
     "text": [
      "100%|██████████| 50/50 [00:00<?, ?it/s]\n"
     ]
    },
    {
     "name": "stdout",
     "output_type": "stream",
     "text": [
      "Best weights of generation [154] - weight_x1: -2.911145159612875 - weight_x2: -3.5270868545889846 - bias: 3.3723670678252073 - loss: 0.1421044980142527\n",
      "\n",
      "\n",
      "Generation [155 / 200] - "
     ]
    },
    {
     "name": "stderr",
     "output_type": "stream",
     "text": [
      "100%|██████████| 50/50 [00:00<00:00, 50051.36it/s]\n"
     ]
    },
    {
     "name": "stdout",
     "output_type": "stream",
     "text": [
      "Best weights of generation [155] - weight_x1: -2.911145159612875 - weight_x2: -3.5270868545889846 - bias: 3.3723670678252073 - loss: 0.1421044980142527\n",
      "\n",
      "\n",
      "Generation [156 / 200] - "
     ]
    },
    {
     "name": "stderr",
     "output_type": "stream",
     "text": [
      "100%|██████████| 50/50 [00:00<?, ?it/s]\n"
     ]
    },
    {
     "name": "stdout",
     "output_type": "stream",
     "text": [
      "Best weights of generation [156] - weight_x1: -2.911145159612875 - weight_x2: -3.5270868545889846 - bias: 3.3723670678252073 - loss: 0.1421044980142527\n",
      "\n",
      "\n",
      "Generation [157 / 200] - "
     ]
    },
    {
     "name": "stderr",
     "output_type": "stream",
     "text": [
      "100%|██████████| 50/50 [00:00<?, ?it/s]\n"
     ]
    },
    {
     "name": "stdout",
     "output_type": "stream",
     "text": [
      "Best weights of generation [157] - weight_x1: -2.911145159612875 - weight_x2: -3.5270868545889846 - bias: 3.3723670678252073 - loss: 0.1421044980142527\n",
      "\n",
      "\n",
      "Generation [158 / 200] - "
     ]
    },
    {
     "name": "stderr",
     "output_type": "stream",
     "text": [
      "100%|██████████| 50/50 [00:00<?, ?it/s]\n"
     ]
    },
    {
     "name": "stdout",
     "output_type": "stream",
     "text": [
      "Best weights of generation [158] - weight_x1: -2.911145159612875 - weight_x2: -3.5270868545889846 - bias: 3.3723670678252073 - loss: 0.1421044980142527\n",
      "\n",
      "\n",
      "Generation [159 / 200] - "
     ]
    },
    {
     "name": "stderr",
     "output_type": "stream",
     "text": [
      "100%|██████████| 50/50 [00:00<?, ?it/s]\n"
     ]
    },
    {
     "name": "stdout",
     "output_type": "stream",
     "text": [
      "Best weights of generation [159] - weight_x1: -2.911145159612875 - weight_x2: -3.5270868545889846 - bias: 3.3723670678252073 - loss: 0.1421044980142527\n",
      "\n",
      "\n",
      "Generation [160 / 200] - "
     ]
    },
    {
     "name": "stderr",
     "output_type": "stream",
     "text": [
      "100%|██████████| 50/50 [00:00<?, ?it/s]\n"
     ]
    },
    {
     "name": "stdout",
     "output_type": "stream",
     "text": [
      "Best weights of generation [160] - weight_x1: -2.911145159612875 - weight_x2: -3.5270868545889846 - bias: 3.3723670678252073 - loss: 0.1421044980142527\n",
      "\n",
      "\n",
      "Generation [161 / 200] - "
     ]
    },
    {
     "name": "stderr",
     "output_type": "stream",
     "text": [
      "100%|██████████| 50/50 [00:00<00:00, 50135.12it/s]\n"
     ]
    },
    {
     "name": "stdout",
     "output_type": "stream",
     "text": [
      "Best weights of generation [161] - weight_x1: -2.911145159612875 - weight_x2: -3.5270868545889846 - bias: 3.3723670678252073 - loss: 0.1421044980142527\n",
      "\n",
      "\n",
      "Generation [162 / 200] - "
     ]
    },
    {
     "name": "stderr",
     "output_type": "stream",
     "text": [
      "100%|██████████| 50/50 [00:00<?, ?it/s]\n"
     ]
    },
    {
     "name": "stdout",
     "output_type": "stream",
     "text": [
      "Best weights of generation [162] - weight_x1: -2.911145159612875 - weight_x2: -3.5270868545889846 - bias: 3.3723670678252073 - loss: 0.1421044980142527\n",
      "\n",
      "\n",
      "Generation [163 / 200] - "
     ]
    },
    {
     "name": "stderr",
     "output_type": "stream",
     "text": [
      "100%|██████████| 50/50 [00:00<00:00, 50123.14it/s]\n"
     ]
    },
    {
     "name": "stdout",
     "output_type": "stream",
     "text": [
      "Best weights of generation [163] - weight_x1: -2.911145159612875 - weight_x2: -3.5270868545889846 - bias: 3.3723670678252073 - loss: 0.1421044980142527\n",
      "\n",
      "\n",
      "Generation [164 / 200] - "
     ]
    },
    {
     "name": "stderr",
     "output_type": "stream",
     "text": [
      "100%|██████████| 50/50 [00:00<?, ?it/s]\n"
     ]
    },
    {
     "name": "stdout",
     "output_type": "stream",
     "text": [
      "Best weights of generation [164] - weight_x1: -2.911145159612875 - weight_x2: -3.5270868545889846 - bias: 3.3723670678252073 - loss: 0.1421044980142527\n",
      "\n",
      "\n",
      "Generation [165 / 200] - "
     ]
    },
    {
     "name": "stderr",
     "output_type": "stream",
     "text": [
      "100%|██████████| 50/50 [00:00<00:00, 49979.79it/s]\n"
     ]
    },
    {
     "name": "stdout",
     "output_type": "stream",
     "text": [
      "Best weights of generation [165] - weight_x1: -2.911145159612875 - weight_x2: -3.5270868545889846 - bias: 3.3723670678252073 - loss: 0.1421044980142527\n",
      "\n",
      "\n",
      "Generation [166 / 200] - "
     ]
    },
    {
     "name": "stderr",
     "output_type": "stream",
     "text": [
      "100%|██████████| 50/50 [00:00<?, ?it/s]\n"
     ]
    },
    {
     "name": "stdout",
     "output_type": "stream",
     "text": [
      "Best weights of generation [166] - weight_x1: -2.911145159612875 - weight_x2: -3.5270868545889846 - bias: 3.3723670678252073 - loss: 0.1421044980142527\n",
      "\n",
      "\n",
      "Generation [167 / 200] - "
     ]
    },
    {
     "name": "stderr",
     "output_type": "stream",
     "text": [
      "100%|██████████| 50/50 [00:00<00:00, 49932.19it/s]\n"
     ]
    },
    {
     "name": "stdout",
     "output_type": "stream",
     "text": [
      "Best weights of generation [167] - weight_x1: -2.911145159612875 - weight_x2: -3.5270868545889846 - bias: 3.3723670678252073 - loss: 0.1421044980142527\n",
      "\n",
      "\n",
      "Generation [168 / 200] - "
     ]
    },
    {
     "name": "stderr",
     "output_type": "stream",
     "text": [
      "100%|██████████| 50/50 [00:00<00:00, 19810.62it/s]\n"
     ]
    },
    {
     "name": "stdout",
     "output_type": "stream",
     "text": [
      "Best weights of generation [168] - weight_x1: -2.911145159612875 - weight_x2: -3.5270868545889846 - bias: 3.3723670678252073 - loss: 0.1421044980142527\n",
      "\n",
      "\n",
      "Generation [169 / 200] - "
     ]
    },
    {
     "name": "stderr",
     "output_type": "stream",
     "text": [
      "100%|██████████| 50/50 [00:00<00:00, 49872.82it/s]\n"
     ]
    },
    {
     "name": "stdout",
     "output_type": "stream",
     "text": [
      "Best weights of generation [169] - weight_x1: -2.911145159612875 - weight_x2: -3.5270868545889846 - bias: 3.3723670678252073 - loss: 0.1421044980142527\n",
      "\n",
      "\n",
      "Generation [170 / 200] - "
     ]
    },
    {
     "name": "stderr",
     "output_type": "stream",
     "text": [
      "100%|██████████| 50/50 [00:00<00:00, 49601.51it/s]\n"
     ]
    },
    {
     "name": "stdout",
     "output_type": "stream",
     "text": [
      "Best weights of generation [170] - weight_x1: -2.911145159612875 - weight_x2: -3.5270868545889846 - bias: 3.3723670678252073 - loss: 0.1421044980142527\n",
      "\n",
      "\n",
      "Generation [171 / 200] - "
     ]
    },
    {
     "name": "stderr",
     "output_type": "stream",
     "text": [
      "100%|██████████| 50/50 [00:00<00:00, 38771.53it/s]\n"
     ]
    },
    {
     "name": "stdout",
     "output_type": "stream",
     "text": [
      "Best weights of generation [171] - weight_x1: -2.911145159612875 - weight_x2: -3.5270868545889846 - bias: 3.378081755568804 - loss: 0.14210337813445234\n",
      "\n",
      "\n",
      "Generation [172 / 200] - "
     ]
    },
    {
     "name": "stderr",
     "output_type": "stream",
     "text": [
      "100%|██████████| 50/50 [00:00<00:00, 50123.14it/s]\n"
     ]
    },
    {
     "name": "stdout",
     "output_type": "stream",
     "text": [
      "Best weights of generation [172] - weight_x1: -2.911145159612875 - weight_x2: -3.5270868545889846 - bias: 3.378081755568804 - loss: 0.14210337813445234\n",
      "\n",
      "\n",
      "Generation [173 / 200] - "
     ]
    },
    {
     "name": "stderr",
     "output_type": "stream",
     "text": [
      "100%|██████████| 50/50 [00:00<?, ?it/s]\n"
     ]
    },
    {
     "name": "stdout",
     "output_type": "stream",
     "text": [
      "Best weights of generation [173] - weight_x1: -2.911145159612875 - weight_x2: -3.5270868545889846 - bias: 3.378081755568804 - loss: 0.14210337813445234\n",
      "\n",
      "\n",
      "Generation [174 / 200] - "
     ]
    },
    {
     "name": "stderr",
     "output_type": "stream",
     "text": [
      "100%|██████████| 50/50 [00:00<00:00, 50015.55it/s]\n"
     ]
    },
    {
     "name": "stdout",
     "output_type": "stream",
     "text": [
      "Best weights of generation [174] - weight_x1: -2.911145159612875 - weight_x2: -3.5270868545889846 - bias: 3.378081755568804 - loss: 0.14210337813445234\n",
      "\n",
      "\n",
      "Generation [175 / 200] - "
     ]
    },
    {
     "name": "stderr",
     "output_type": "stream",
     "text": [
      "100%|██████████| 50/50 [00:00<00:00, 49944.08it/s]\n"
     ]
    },
    {
     "name": "stdout",
     "output_type": "stream",
     "text": [
      "Best weights of generation [175] - weight_x1: -2.911145159612875 - weight_x2: -3.542576017897274 - bias: 3.378081755568804 - loss: 0.14192828468328247\n",
      "\n",
      "\n",
      "Generation [176 / 200] - "
     ]
    },
    {
     "name": "stderr",
     "output_type": "stream",
     "text": [
      "100%|██████████| 50/50 [00:00<?, ?it/s]\n"
     ]
    },
    {
     "name": "stdout",
     "output_type": "stream",
     "text": [
      "Best weights of generation [176] - weight_x1: -2.911145159612875 - weight_x2: -3.542576017897274 - bias: 3.378081755568804 - loss: 0.14192828468328247\n",
      "\n",
      "\n",
      "Generation [177 / 200] - "
     ]
    },
    {
     "name": "stderr",
     "output_type": "stream",
     "text": [
      "100%|██████████| 50/50 [00:00<00:00, 50087.22it/s]\n"
     ]
    },
    {
     "name": "stdout",
     "output_type": "stream",
     "text": [
      "Best weights of generation [177] - weight_x1: -2.911145159612875 - weight_x2: -3.542576017897274 - bias: 3.378081755568804 - loss: 0.14192828468328247\n",
      "\n",
      "\n",
      "Generation [178 / 200] - "
     ]
    },
    {
     "name": "stderr",
     "output_type": "stream",
     "text": [
      "100%|██████████| 50/50 [00:00<?, ?it/s]\n"
     ]
    },
    {
     "name": "stdout",
     "output_type": "stream",
     "text": [
      "Best weights of generation [178] - weight_x1: -2.911145159612875 - weight_x2: -3.542576017897274 - bias: 3.378081755568804 - loss: 0.14192828468328247\n",
      "\n",
      "\n",
      "Generation [179 / 200] - "
     ]
    },
    {
     "name": "stderr",
     "output_type": "stream",
     "text": [
      "100%|██████████| 50/50 [00:00<00:00, 50051.36it/s]\n"
     ]
    },
    {
     "name": "stdout",
     "output_type": "stream",
     "text": [
      "Best weights of generation [179] - weight_x1: -2.911145159612875 - weight_x2: -3.542576017897274 - bias: 3.378081755568804 - loss: 0.14192828468328247\n",
      "\n",
      "\n",
      "Generation [180 / 200] - "
     ]
    },
    {
     "name": "stderr",
     "output_type": "stream",
     "text": [
      "100%|██████████| 50/50 [00:00<00:00, 25013.74it/s]\n"
     ]
    },
    {
     "name": "stdout",
     "output_type": "stream",
     "text": [
      "Best weights of generation [180] - weight_x1: -2.911145159612875 - weight_x2: -3.542576017897274 - bias: 3.378081755568804 - loss: 0.14192828468328247\n",
      "\n",
      "\n",
      "Generation [181 / 200] - "
     ]
    },
    {
     "name": "stderr",
     "output_type": "stream",
     "text": [
      "100%|██████████| 50/50 [00:00<00:00, 49920.30it/s]\n"
     ]
    },
    {
     "name": "stdout",
     "output_type": "stream",
     "text": [
      "Best weights of generation [181] - weight_x1: -2.911145159612875 - weight_x2: -3.542576017897274 - bias: 3.378081755568804 - loss: 0.14192828468328247\n",
      "\n",
      "\n",
      "Generation [182 / 200] - "
     ]
    },
    {
     "name": "stderr",
     "output_type": "stream",
     "text": [
      "100%|██████████| 50/50 [00:00<?, ?it/s]\n"
     ]
    },
    {
     "name": "stdout",
     "output_type": "stream",
     "text": [
      "Best weights of generation [182] - weight_x1: -2.911145159612875 - weight_x2: -3.542576017897274 - bias: 3.378081755568804 - loss: 0.14192828468328247\n",
      "\n",
      "\n",
      "Generation [183 / 200] - "
     ]
    },
    {
     "name": "stderr",
     "output_type": "stream",
     "text": [
      "100%|██████████| 50/50 [00:00<?, ?it/s]\n"
     ]
    },
    {
     "name": "stdout",
     "output_type": "stream",
     "text": [
      "Best weights of generation [183] - weight_x1: -2.911145159612875 - weight_x2: -3.542576017897274 - bias: 3.378081755568804 - loss: 0.14192828468328247\n",
      "\n",
      "\n",
      "Generation [184 / 200] - "
     ]
    },
    {
     "name": "stderr",
     "output_type": "stream",
     "text": [
      "100%|██████████| 50/50 [00:00<00:00, 50015.55it/s]"
     ]
    },
    {
     "name": "stdout",
     "output_type": "stream",
     "text": [
      "Best weights of generation [184] - weight_x1: -2.913695293401084 - weight_x2: -3.542576017897274 - bias: 3.378081755568804 - loss: 0.14192150755258354\n",
      "\n",
      "\n",
      "Generation [185 / 200] - "
     ]
    },
    {
     "name": "stderr",
     "output_type": "stream",
     "text": [
      "\n",
      "100%|██████████| 50/50 [00:00<00:00, 50123.14it/s]\n"
     ]
    },
    {
     "name": "stdout",
     "output_type": "stream",
     "text": [
      "Best weights of generation [185] - weight_x1: -2.913695293401084 - weight_x2: -3.542576017897274 - bias: 3.378081755568804 - loss: 0.14192150755258354\n",
      "\n",
      "\n",
      "Generation [186 / 200] - "
     ]
    },
    {
     "name": "stderr",
     "output_type": "stream",
     "text": [
      "100%|██████████| 50/50 [00:00<?, ?it/s]\n"
     ]
    },
    {
     "name": "stdout",
     "output_type": "stream",
     "text": [
      "Best weights of generation [186] - weight_x1: -2.913695293401084 - weight_x2: -3.542576017897274 - bias: 3.378081755568804 - loss: 0.14192150755258354\n",
      "\n",
      "\n",
      "Generation [187 / 200] - "
     ]
    },
    {
     "name": "stderr",
     "output_type": "stream",
     "text": [
      "100%|██████████| 50/50 [00:00<00:00, 50015.55it/s]\n"
     ]
    },
    {
     "name": "stdout",
     "output_type": "stream",
     "text": [
      "Best weights of generation [187] - weight_x1: -2.913695293401084 - weight_x2: -3.542576017897274 - bias: 3.378081755568804 - loss: 0.14192150755258354\n",
      "\n",
      "\n",
      "Generation [188 / 200] - "
     ]
    },
    {
     "name": "stderr",
     "output_type": "stream",
     "text": [
      "100%|██████████| 50/50 [00:00<?, ?it/s]"
     ]
    },
    {
     "name": "stdout",
     "output_type": "stream",
     "text": [
      "Best weights of generation [188] - weight_x1: -2.913695293401084 - weight_x2: -3.542576017897274 - bias: 3.378081755568804 - loss: 0.14192150755258354\n",
      "\n",
      "\n",
      "Generation [189 / 200] - "
     ]
    },
    {
     "name": "stderr",
     "output_type": "stream",
     "text": [
      "\n",
      "100%|██████████| 50/50 [00:00<00:00, 49967.88it/s]\n"
     ]
    },
    {
     "name": "stdout",
     "output_type": "stream",
     "text": [
      "Best weights of generation [189] - weight_x1: -2.913695293401084 - weight_x2: -3.542576017897274 - bias: 3.378081755568804 - loss: 0.14192150755258354\n",
      "\n",
      "\n",
      "Generation [190 / 200] - "
     ]
    },
    {
     "name": "stderr",
     "output_type": "stream",
     "text": [
      "100%|██████████| 50/50 [00:00<00:00, 50207.13it/s]\n"
     ]
    },
    {
     "name": "stdout",
     "output_type": "stream",
     "text": [
      "Best weights of generation [190] - weight_x1: -2.913695293401084 - weight_x2: -3.542576017897274 - bias: 3.378081755568804 - loss: 0.14192150755258354\n",
      "\n",
      "\n",
      "Generation [191 / 200] - "
     ]
    },
    {
     "name": "stderr",
     "output_type": "stream",
     "text": [
      "100%|██████████| 50/50 [00:00<00:00, 33119.90it/s]\n"
     ]
    },
    {
     "name": "stdout",
     "output_type": "stream",
     "text": [
      "Best weights of generation [191] - weight_x1: -2.913695293401084 - weight_x2: -3.542576017897274 - bias: 3.378081755568804 - loss: 0.14192150755258354\n",
      "\n",
      "\n",
      "Generation [192 / 200] - "
     ]
    },
    {
     "name": "stderr",
     "output_type": "stream",
     "text": [
      "100%|██████████| 50/50 [00:00<00:00, 49991.70it/s]"
     ]
    },
    {
     "name": "stdout",
     "output_type": "stream",
     "text": [
      "Best weights of generation [192] - weight_x1: -2.913695293401084 - weight_x2: -3.542576017897274 - bias: 3.378081755568804 - loss: 0.14192150755258354\n",
      "\n",
      "\n",
      "Generation [193 / 200] - "
     ]
    },
    {
     "name": "stderr",
     "output_type": "stream",
     "text": [
      "\n",
      "100%|██████████| 50/50 [00:00<00:00, 49884.68it/s]\n"
     ]
    },
    {
     "name": "stdout",
     "output_type": "stream",
     "text": [
      "Best weights of generation [193] - weight_x1: -2.913695293401084 - weight_x2: -3.542576017897274 - bias: 3.378081755568804 - loss: 0.14192150755258354\n",
      "\n",
      "\n",
      "Generation [194 / 200] - "
     ]
    },
    {
     "name": "stderr",
     "output_type": "stream",
     "text": [
      "100%|██████████| 50/50 [00:00<?, ?it/s]\n"
     ]
    },
    {
     "name": "stdout",
     "output_type": "stream",
     "text": [
      "Best weights of generation [194] - weight_x1: -2.913695293401084 - weight_x2: -3.542576017897274 - bias: 3.378081755568804 - loss: 0.14192150755258354\n",
      "\n",
      "\n",
      "Generation [195 / 200] - "
     ]
    },
    {
     "name": "stderr",
     "output_type": "stream",
     "text": [
      "100%|██████████| 50/50 [00:00<?, ?it/s]\n"
     ]
    },
    {
     "name": "stdout",
     "output_type": "stream",
     "text": [
      "Best weights of generation [195] - weight_x1: -2.913695293401084 - weight_x2: -3.542576017897274 - bias: 3.378081755568804 - loss: 0.14192150755258354\n",
      "\n",
      "\n",
      "Generation [196 / 200] - "
     ]
    },
    {
     "name": "stderr",
     "output_type": "stream",
     "text": [
      "100%|██████████| 50/50 [00:00<?, ?it/s]\n"
     ]
    },
    {
     "name": "stdout",
     "output_type": "stream",
     "text": [
      "Best weights of generation [196] - weight_x1: -2.913695293401084 - weight_x2: -3.542576017897274 - bias: 3.378081755568804 - loss: 0.14192150755258354\n",
      "\n",
      "\n",
      "Generation [197 / 200] - "
     ]
    },
    {
     "name": "stderr",
     "output_type": "stream",
     "text": [
      "100%|██████████| 50/50 [00:00<?, ?it/s]\n"
     ]
    },
    {
     "name": "stdout",
     "output_type": "stream",
     "text": [
      "Best weights of generation [197] - weight_x1: -2.913695293401084 - weight_x2: -3.542576017897274 - bias: 3.378081755568804 - loss: 0.14192150755258354\n",
      "\n",
      "\n",
      "Generation [198 / 200] - "
     ]
    },
    {
     "name": "stderr",
     "output_type": "stream",
     "text": [
      "100%|██████████| 50/50 [00:00<?, ?it/s]\n"
     ]
    },
    {
     "name": "stdout",
     "output_type": "stream",
     "text": [
      "Best weights of generation [198] - weight_x1: -2.913695293401084 - weight_x2: -3.542576017897274 - bias: 3.378081755568804 - loss: 0.14192150755258354\n",
      "\n",
      "\n",
      "Generation [199 / 200] - "
     ]
    },
    {
     "name": "stderr",
     "output_type": "stream",
     "text": [
      "100%|██████████| 50/50 [00:00<?, ?it/s]\n"
     ]
    },
    {
     "name": "stdout",
     "output_type": "stream",
     "text": [
      "Best weights of generation [199] - weight_x1: -2.913695293401084 - weight_x2: -3.542576017897274 - bias: 3.378081755568804 - loss: 0.14192150755258354\n",
      "\n",
      "\n",
      "Generation [200 / 200] - "
     ]
    },
    {
     "name": "stderr",
     "output_type": "stream",
     "text": [
      "100%|██████████| 50/50 [00:00<?, ?it/s]"
     ]
    },
    {
     "name": "stdout",
     "output_type": "stream",
     "text": [
      "Best weights of generation [200] - weight_x1: -2.913695293401084 - weight_x2: -3.542576017897274 - bias: 3.378081755568804 - loss: 0.14192150755258354\n",
      "\n",
      "\n"
     ]
    },
    {
     "name": "stderr",
     "output_type": "stream",
     "text": [
      "\n"
     ]
    }
   ],
   "source": [
    "model = AdalineGA(feature, label);\n",
    "generation_history, losses_history = model.train();"
   ]
  },
  {
   "cell_type": "code",
   "execution_count": 5,
   "metadata": {},
   "outputs": [
    {
     "data": {
      "image/png": "[encoded data removed]",
      "text/plain": [
       "<Figure size 2000x600 with 1 Axes>"
      ]
     },
     "metadata": {},
     "output_type": "display_data"
    }
   ],
   "source": [
    "import matplotlib.pyplot as plt;\n",
    "\n",
    "plt.figure(figsize = (20, 6));\n",
    "\n",
    "# Get the most minimum loss\n",
    "minimum_loss = min(losses_history);\n",
    "index_of_most_minimum_loss = losses_history.index(minimum_loss);\n",
    "\n",
    "color = [\"red\" if loss == minimum_loss else \"blue\" for loss in losses_history];\n",
    "\n",
    "plt.scatter(generation_history, losses_history, label = \"Loss\", marker = \"o\", color = color);\n",
    "plt.title(\"Loss (MSE) Produced by Best Individual in each Generation\");\n",
    "plt.xlabel(\"Generation\");\n",
    "plt.ylabel(\"Loss\");\n",
    "plt.legend([f\"The most minimum point of loss is clocking at {minimum_loss} produced by generation {generation_history[index_of_most_minimum_loss]}\"]);\n",
    "\n",
    "plt.show();"
   ]
  }
 ],
 "metadata": {
  "kernelspec": {
   "display_name": "base",
   "language": "python",
   "name": "python3"
  },
  "language_info": {
   "codemirror_mode": {
    "name": "ipython",
    "version": 3
   },
   "file_extension": ".py",
   "mimetype": "text/x-python",
   "name": "python",
   "nbconvert_exporter": "python",
   "pygments_lexer": "ipython3",
   "version": "3.10.9"
  }
 },
 "nbformat": 4,
 "nbformat_minor": 2
}

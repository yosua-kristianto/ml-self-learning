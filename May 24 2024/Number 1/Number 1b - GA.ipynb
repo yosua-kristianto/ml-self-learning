{
 "cells": [
  {
   "cell_type": "code",
   "execution_count": 3,
   "metadata": {},
   "outputs": [],
   "source": [
    "import numpy;\n",
    "# import matplotlib.pyplot as plt;\n",
    "\n",
    "# from tensorflow.keras.initializers import TruncatedNormal;\n",
    "\n",
    "# from tqdm import tqdm;\n",
    "\n",
    "import numpy as np\n",
    "import random\n",
    "from tqdm import tqdm"
   ]
  },
  {
   "cell_type": "code",
   "execution_count": 4,
   "metadata": {},
   "outputs": [],
   "source": [
    "# Training data\n",
    "feature = numpy.array(\n",
    "    [\n",
    "        [0.08, 0.72], [0.26, 0.58], [0.45, 0.15], \n",
    "        [0.60, 0.30], [0.10, 1.0], [0.35, 0.95], \n",
    "        [0.70, 0.65], [0.92, 0.45]\n",
    "    ]);\n",
    "\n",
    "label = numpy.array([1, 1, 1, 1, -1, -1, -1, -1]);"
   ]
  },
  {
   "cell_type": "code",
   "execution_count": 5,
   "metadata": {},
   "outputs": [],
   "source": [
    "class AdalineGA:\n",
    "\n",
    "    def __init__(self, feature, label):\n",
    "        self.feature = feature\n",
    "        self.label = label\n",
    "        self.population_size = 50\n",
    "        self.generations = 100\n",
    "        self.mutation_rate = 0.01\n",
    "        self.crossover_rate = 0.7\n",
    "\n",
    "    def initialize_population(self):\n",
    "        population = []\n",
    "        for _ in range(self.population_size):\n",
    "            individual = {\n",
    "                'weight_x1': np.random.randn(),\n",
    "                'weight_x2': np.random.randn(),\n",
    "                'bias': np.random.randn()\n",
    "            }\n",
    "            population.append(individual)\n",
    "        return population\n",
    "\n",
    "    def fitness(self, individual):\n",
    "        predictions = []\n",
    "        for i in self.feature:\n",
    "            prediction = (individual['weight_x1'] * i[0]) + (individual['weight_x2'] * i[1]) + individual['bias']\n",
    "            predictions.append(prediction)\n",
    "        mse = np.mean((self.label - predictions) ** 2)\n",
    "        return -mse  # We use negative MSE because GA maximizes fitness\n",
    "\n",
    "    def select(self, population):\n",
    "        sorted_population = sorted(population, key=self.fitness, reverse=True)\n",
    "        return sorted_population[:int(0.2 * self.population_size)]  # Select top 20%\n",
    "\n",
    "    def crossover(self, parent1, parent2):\n",
    "        if random.random() < self.crossover_rate:\n",
    "            crossover_point = random.randint(0, 2)\n",
    "            child1 = parent1.copy()\n",
    "            child2 = parent2.copy()\n",
    "            if crossover_point == 0:\n",
    "                child1['weight_x1'], child2['weight_x1'] = child2['weight_x1'], child1['weight_x1']\n",
    "            elif crossover_point == 1:\n",
    "                child1['weight_x2'], child2['weight_x2'] = child2['weight_x2'], child1['weight_x2']\n",
    "            else:\n",
    "                child1['bias'], child2['bias'] = child2['bias'], child1['bias']\n",
    "            return child1, child2\n",
    "        else:\n",
    "            return parent1, parent2\n",
    "\n",
    "    def mutate(self, individual):\n",
    "        if random.random() < self.mutation_rate:\n",
    "            individual['weight_x1'] += np.random.normal()\n",
    "        if random.random() < self.mutation_rate:\n",
    "            individual['weight_x2'] += np.random.normal()\n",
    "        if random.random() < self.mutation_rate:\n",
    "            individual['bias'] += np.random.normal()\n",
    "        return individual\n",
    "\n",
    "    def train(self):\n",
    "        population = self.initialize_population()\n",
    "        for generation in tqdm(range(self.generations)):\n",
    "            new_population = []\n",
    "            selected_individuals = self.select(population)\n",
    "            while len(new_population) < self.population_size:\n",
    "                parent1 = random.choice(selected_individuals)\n",
    "                parent2 = random.choice(selected_individuals)\n",
    "                child1, child2 = self.crossover(parent1, parent2)\n",
    "                new_population.append(self.mutate(child1))\n",
    "                new_population.append(self.mutate(child2))\n",
    "            population = new_population\n",
    "\n",
    "        best_individual = max(population, key=self.fitness)\n",
    "        self.weight_x1 = best_individual['weight_x1']\n",
    "        self.weight_x2 = best_individual['weight_x2']\n",
    "        self.bias = best_individual['bias']\n",
    "        print(f\"Best weights - weight_x1: {self.weight_x1}, weight_x2: {self.weight_x2}, bias: {self.bias}\")"
   ]
  },
  {
   "cell_type": "code",
   "execution_count": 6,
   "metadata": {},
   "outputs": [
    {
     "name": "stderr",
     "output_type": "stream",
     "text": [
      "100%|██████████| 100/100 [00:00<00:00, 813.18it/s]"
     ]
    },
    {
     "name": "stdout",
     "output_type": "stream",
     "text": [
      "Best weights - weight_x1: -1.5232310024097628, weight_x2: -2.209105990379644, bias: 1.8445584051450141\n"
     ]
    },
    {
     "name": "stderr",
     "output_type": "stream",
     "text": [
      "\n"
     ]
    }
   ],
   "source": [
    "model = AdalineGA(feature, label);\n",
    "model.train();"
   ]
  }
 ],
 "metadata": {
  "kernelspec": {
   "display_name": "base",
   "language": "python",
   "name": "python3"
  },
  "language_info": {
   "codemirror_mode": {
    "name": "ipython",
    "version": 3
   },
   "file_extension": ".py",
   "mimetype": "text/x-python",
   "name": "python",
   "nbconvert_exporter": "python",
   "pygments_lexer": "ipython3",
   "version": "3.10.9"
  }
 },
 "nbformat": 4,
 "nbformat_minor": 2
}

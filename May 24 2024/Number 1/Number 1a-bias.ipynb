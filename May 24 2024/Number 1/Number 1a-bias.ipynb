{
 "cells": [
  {
   "cell_type": "code",
   "execution_count": 20,
   "metadata": {},
   "outputs": [],
   "source": [
    "import numpy;\n",
    "import matplotlib.pyplot as plt;\n",
    "\n",
    "from tensorflow.keras.initializers import TruncatedNormal;\n",
    "\n",
    "from tqdm import tqdm;"
   ]
  },
  {
   "cell_type": "code",
   "execution_count": 21,
   "metadata": {},
   "outputs": [],
   "source": [
    "# Training data\n",
    "feature = numpy.array(\n",
    "    [\n",
    "        [0.08, 0.72], [0.26, 0.58], [0.45, 0.15], \n",
    "        [0.60, 0.30], [0.10, 1.0], [0.35, 0.95], \n",
    "        [0.70, 0.65], [0.92, 0.45]\n",
    "    ]);\n",
    "\n",
    "label = numpy.array([1, 1, 1, 1, -1, -1, -1, -1]);"
   ]
  },
  {
   "cell_type": "code",
   "execution_count": 22,
   "metadata": {},
   "outputs": [],
   "source": [
    "class AdalineLMS:\n",
    "\n",
    "    # Hyperparameters\n",
    "    def __init__(self, feature, label):\n",
    "        \n",
    "        self.learning_rate = 1e-1;\n",
    "        self.epoch = 200;\n",
    "\n",
    "        initializer = TruncatedNormal(mean = 0.5, stddev = 0.02)(shape = (1, 3)).numpy();\n",
    "\n",
    "        # Weight initial\n",
    "        self.weight_x1 = initializer[0][0];\n",
    "        self.weight_x2 = initializer[0][1];\n",
    "\n",
    "        # Bias just in case\n",
    "        self.bias = initializer[0][2];\n",
    "\n",
    "        # Load dataset\n",
    "        self.feature = feature;\n",
    "        self.label = label;\n",
    "    \n",
    "        print(\"AdalineLMS initial configuration:\");\n",
    "        print(f\"weight x1 {self.weight_x1} - weight x2: {self.weight_x2} - bias: {self.bias}\");\n",
    "        print(\"\\n\\n\\n\");\n",
    "\n",
    "    # Mean Squared Error\n",
    "    def _mse(self, prediction):\n",
    "        return numpy.mean((self.label - prediction) ** 2);\n",
    "\n",
    "    # Feed Forward process\n",
    "    def forward(self):\n",
    "        predictions = [];\n",
    "\n",
    "        for i in self.feature:\n",
    "            prediction = (self.weight_x1 * i[0]) + (self.weight_x2 * i[1]) + self.bias;\n",
    "\n",
    "            predictions.append(prediction);\n",
    "\n",
    "        return predictions;\n",
    "\n",
    "    # Learning Rule: LMS Implementation\n",
    "    def learning_rule(self, predictions):\n",
    "\n",
    "        # new weight x1 = current weight + (learning rate x (ground truth - prediction) x x1\n",
    "        for i in tqdm(range(len(self.feature))):\n",
    "            truth_difference = (self.label[i] - predictions[i]);\n",
    "\n",
    "            new_weight_x1 = (self.weight_x1 + (self.learning_rate * truth_difference * self.feature[i][0]));\n",
    "            new_weight_x2 = (self.weight_x2 + (self.learning_rate * truth_difference * self.feature[i][1]));\n",
    "            new_bias = self.bias + self.learning_rate * truth_difference;\n",
    "\n",
    "            # print(f\"new_weight_x1: {new_weight[0]} - new_weight_x2: {new_weight[1]}\")\n",
    "    \n",
    "            self.weight_x1 = new_weight_x1;\n",
    "            self.weight_x2 = new_weight_x2;\n",
    "            self.bias = new_bias;\n",
    "    \n",
    "    def train(self):\n",
    "\n",
    "        loss_history = [];\n",
    "        \n",
    "        # Loop 200 epochs\n",
    "        for i in range(self.epoch):\n",
    "            \n",
    "            print(f\"Epoch [{i + 1} / {self.epoch}] -\", end = \" \");\n",
    "\n",
    "            loss = 0.0;\n",
    "\n",
    "            # Forward pass \n",
    "            predictions = self.forward();\n",
    "\n",
    "            # Count current epoch's loss\n",
    "            loss = self._mse(predictions);\n",
    "\n",
    "            # Apply LMS to update weight\n",
    "            self.learning_rule(predictions);\n",
    "                \n",
    "\n",
    "            loss_history.append(loss);\n",
    "            print(f\"Epoch {i + 1} - loss: {round(loss, 4)} - weight x1: {self.weight_x1} - weight x2: {self.weight_x2}\\n\");\n",
    "\n",
    "         # Plotting MSE curve\n",
    "        plt.figure(figsize=(10, 6));\n",
    "        plt.plot(range(self.epoch), loss_history, label='MSE');\n",
    "        plt.xlabel('Epoch');\n",
    "        plt.ylabel('Mean Squared Error');\n",
    "        plt.title('MSE over Epochs');\n",
    "        plt.legend();\n",
    "        plt.show()           \n"
   ]
  },
  {
   "cell_type": "code",
   "execution_count": 23,
   "metadata": {},
   "outputs": [
    {
     "name": "stdout",
     "output_type": "stream",
     "text": [
      "AdalineLMS initial configuration:\n",
      "weight x1 0.4995368719100952 - weight x2: 0.4888303279876709 - bias: 0.511054277420044\n",
      "\n",
      "\n",
      "\n",
      "\n",
      "Epoch [1 / 200] - "
     ]
    },
    {
     "name": "stderr",
     "output_type": "stream",
     "text": [
      "100%|██████████| 8/8 [00:00<?, ?it/s]\n"
     ]
    },
    {
     "name": "stdout",
     "output_type": "stream",
     "text": [
      "Epoch 1 - loss: 2.3029 - weight x1: 0.06363255707025531 - weight x2: -0.14510075806856154\n",
      "\n",
      "Epoch [2 / 200] - "
     ]
    },
    {
     "name": "stderr",
     "output_type": "stream",
     "text": [
      "100%|██████████| 8/8 [00:00<?, ?it/s]\n"
     ]
    },
    {
     "name": "stdout",
     "output_type": "stream",
     "text": [
      "Epoch 2 - loss: 1.0994 - weight x1: 0.11335790675996708 - weight x2: -0.08904535009542353\n",
      "\n",
      "Epoch [3 / 200] - "
     ]
    },
    {
     "name": "stderr",
     "output_type": "stream",
     "text": [
      "100%|██████████| 8/8 [00:00<?, ?it/s]\n"
     ]
    },
    {
     "name": "stdout",
     "output_type": "stream",
     "text": [
      "Epoch 3 - loss: 0.993 - weight x1: 0.04178437240515215 - weight x2: -0.20140474313426737\n",
      "\n",
      "Epoch [4 / 200] - "
     ]
    },
    {
     "name": "stderr",
     "output_type": "stream",
     "text": [
      "100%|██████████| 8/8 [00:00<?, ?it/s]\n"
     ]
    },
    {
     "name": "stdout",
     "output_type": "stream",
     "text": [
      "Epoch 4 - loss: 0.956 - weight x1: 9.286552094761591e-05 - weight x2: -0.26876205530871444\n",
      "\n",
      "Epoch [5 / 200] - "
     ]
    },
    {
     "name": "stderr",
     "output_type": "stream",
     "text": [
      "100%|██████████| 8/8 [00:00<?, ?it/s]\n"
     ]
    },
    {
     "name": "stdout",
     "output_type": "stream",
     "text": [
      "Epoch 5 - loss: 0.9244 - weight x1: -0.049199303534051136 - weight x2: -0.34439572789486966\n",
      "\n",
      "Epoch [6 / 200] - "
     ]
    },
    {
     "name": "stderr",
     "output_type": "stream",
     "text": [
      "100%|██████████| 8/8 [00:00<?, ?it/s]\n"
     ]
    },
    {
     "name": "stdout",
     "output_type": "stream",
     "text": [
      "Epoch 6 - loss: 0.8945 - weight x1: -0.09664263375434753 - weight x2: -0.415206240842264\n",
      "\n",
      "Epoch [7 / 200] - "
     ]
    },
    {
     "name": "stderr",
     "output_type": "stream",
     "text": [
      "100%|██████████| 8/8 [00:00<?, ?it/s]\n"
     ]
    },
    {
     "name": "stdout",
     "output_type": "stream",
     "text": [
      "Epoch 7 - loss: 0.8657 - weight x1: -0.14447950655007016 - weight x2: -0.4845990268816672\n",
      "\n",
      "Epoch [8 / 200] - "
     ]
    },
    {
     "name": "stderr",
     "output_type": "stream",
     "text": [
      "100%|██████████| 8/8 [00:00<?, ?it/s]\n"
     ]
    },
    {
     "name": "stdout",
     "output_type": "stream",
     "text": [
      "Epoch 8 - loss: 0.8381 - weight x1: -0.19205495181284932 - weight x2: -0.5518610648989218\n",
      "\n",
      "Epoch [9 / 200] - "
     ]
    },
    {
     "name": "stderr",
     "output_type": "stream",
     "text": [
      "100%|██████████| 8/8 [00:00<?, ?it/s]\n"
     ]
    },
    {
     "name": "stdout",
     "output_type": "stream",
     "text": [
      "Epoch 9 - loss: 0.8116 - weight x1: -0.239445872414694 - weight x2: -0.617293801830422\n",
      "\n",
      "Epoch [10 / 200] - "
     ]
    },
    {
     "name": "stderr",
     "output_type": "stream",
     "text": [
      "100%|██████████| 8/8 [00:00<?, ?it/s]\n"
     ]
    },
    {
     "name": "stdout",
     "output_type": "stream",
     "text": [
      "Epoch 10 - loss: 0.7862 - weight x1: -0.2865569087128377 - weight x2: -0.6809367979231504\n",
      "\n",
      "Epoch [11 / 200] - "
     ]
    },
    {
     "name": "stderr",
     "output_type": "stream",
     "text": [
      "100%|██████████| 8/8 [00:00<?, ?it/s]\n"
     ]
    },
    {
     "name": "stdout",
     "output_type": "stream",
     "text": [
      "Epoch 11 - loss: 0.7617 - weight x1: -0.3333444775574187 - weight x2: -0.742886167395052\n",
      "\n",
      "Epoch [12 / 200] - "
     ]
    },
    {
     "name": "stderr",
     "output_type": "stream",
     "text": [
      "100%|██████████| 8/8 [00:00<?, ?it/s]\n"
     ]
    },
    {
     "name": "stdout",
     "output_type": "stream",
     "text": [
      "Epoch 12 - loss: 0.7382 - weight x1: -0.3797601651314155 - weight x2: -0.8032160953178661\n",
      "\n",
      "Epoch [13 / 200] - "
     ]
    },
    {
     "name": "stderr",
     "output_type": "stream",
     "text": [
      "100%|██████████| 8/8 [00:00<?, ?it/s]\n"
     ]
    },
    {
     "name": "stdout",
     "output_type": "stream",
     "text": [
      "Epoch 13 - loss: 0.7157 - weight x1: -0.42576403531710805 - weight x2: -0.8619990555445349\n",
      "\n",
      "Epoch [14 / 200] - "
     ]
    },
    {
     "name": "stderr",
     "output_type": "stream",
     "text": [
      "100%|██████████| 8/8 [00:00<?, ?it/s]\n"
     ]
    },
    {
     "name": "stdout",
     "output_type": "stream",
     "text": [
      "Epoch 14 - loss: 0.6939 - weight x1: -0.4713206127280358 - weight x2: -0.9193014051601744\n",
      "\n",
      "Epoch [15 / 200] - "
     ]
    },
    {
     "name": "stderr",
     "output_type": "stream",
     "text": [
      "100%|██████████| 8/8 [00:00<?, ?it/s]\n"
     ]
    },
    {
     "name": "stdout",
     "output_type": "stream",
     "text": [
      "Epoch 15 - loss: 0.6731 - weight x1: -0.516399242663883 - weight x2: -0.9751850492096923\n",
      "\n",
      "Epoch [16 / 200] - "
     ]
    },
    {
     "name": "stderr",
     "output_type": "stream",
     "text": [
      "100%|██████████| 8/8 [00:00<?, ?it/s]\n"
     ]
    },
    {
     "name": "stdout",
     "output_type": "stream",
     "text": [
      "Epoch 16 - loss: 0.653 - weight x1: -0.5609734215441605 - weight x2: -1.0297075431380587\n",
      "\n",
      "Epoch [17 / 200] - "
     ]
    },
    {
     "name": "stderr",
     "output_type": "stream",
     "text": [
      "100%|██████████| 8/8 [00:00<?, ?it/s]\n"
     ]
    },
    {
     "name": "stdout",
     "output_type": "stream",
     "text": [
      "Epoch 17 - loss: 0.6337 - weight x1: -0.6050204376444341 - weight x2: -1.0829225369859141\n",
      "\n",
      "Epoch [18 / 200] - "
     ]
    },
    {
     "name": "stderr",
     "output_type": "stream",
     "text": [
      "100%|██████████| 8/8 [00:00<00:00, 8010.13it/s]\n"
     ]
    },
    {
     "name": "stdout",
     "output_type": "stream",
     "text": [
      "Epoch 18 - loss: 0.6151 - weight x1: -0.6485209837314727 - weight x2: -1.13488009186269\n",
      "\n",
      "Epoch [19 / 200] - "
     ]
    },
    {
     "name": "stderr",
     "output_type": "stream",
     "text": [
      "100%|██████████| 8/8 [00:00<?, ?it/s]\n"
     ]
    },
    {
     "name": "stdout",
     "output_type": "stream",
     "text": [
      "Epoch 19 - loss: 0.5972 - weight x1: -0.6914588212640815 - weight x2: -1.1856269894459395\n",
      "\n",
      "Epoch [20 / 200] - "
     ]
    },
    {
     "name": "stderr",
     "output_type": "stream",
     "text": [
      "100%|██████████| 8/8 [00:00<00:00, 7110.50it/s]\n"
     ]
    },
    {
     "name": "stdout",
     "output_type": "stream",
     "text": [
      "Epoch 20 - loss: 0.58 - weight x1: -0.7338204722131415 - weight x2: -1.235207008022388\n",
      "\n",
      "Epoch [21 / 200] - "
     ]
    },
    {
     "name": "stderr",
     "output_type": "stream",
     "text": [
      "100%|██████████| 8/8 [00:00<00:00, 7996.77it/s]\n"
     ]
    },
    {
     "name": "stdout",
     "output_type": "stream",
     "text": [
      "Epoch 21 - loss: 0.5635 - weight x1: -0.7755949407178103 - weight x2: -1.2836611748952627\n",
      "\n",
      "Epoch [22 / 200] - "
     ]
    },
    {
     "name": "stderr",
     "output_type": "stream",
     "text": [
      "100%|██████████| 8/8 [00:00<?, ?it/s]\n"
     ]
    },
    {
     "name": "stdout",
     "output_type": "stream",
     "text": [
      "Epoch 22 - loss: 0.5476 - weight x1: -0.8167734606296715 - weight x2: -1.3310279956492899\n",
      "\n",
      "Epoch [23 / 200] - "
     ]
    },
    {
     "name": "stderr",
     "output_type": "stream",
     "text": [
      "100%|██████████| 8/8 [00:00<?, ?it/s]\n"
     ]
    },
    {
     "name": "stdout",
     "output_type": "stream",
     "text": [
      "Epoch 23 - loss: 0.5323 - weight x1: -0.8573492668442092 - weight x2: -1.3773436628166345\n",
      "\n",
      "Epoch [24 / 200] - "
     ]
    },
    {
     "name": "stderr",
     "output_type": "stream",
     "text": [
      "100%|██████████| 8/8 [00:00<?, ?it/s]\n"
     ]
    },
    {
     "name": "stdout",
     "output_type": "stream",
     "text": [
      "Epoch 24 - loss: 0.5175 - weight x1: -0.8973173881437926 - weight x2: -1.4226422457308314\n",
      "\n",
      "Epoch [25 / 200] - "
     ]
    },
    {
     "name": "stderr",
     "output_type": "stream",
     "text": [
      "100%|██████████| 8/8 [00:00<?, ?it/s]\n"
     ]
    },
    {
     "name": "stdout",
     "output_type": "stream",
     "text": [
      "Epoch 25 - loss: 0.5034 - weight x1: -0.9366744595782417 - weight x2: -1.46695586332098\n",
      "\n",
      "Epoch [26 / 200] - "
     ]
    },
    {
     "name": "stderr",
     "output_type": "stream",
     "text": [
      "100%|██████████| 8/8 [00:00<?, ?it/s]\n"
     ]
    },
    {
     "name": "stdout",
     "output_type": "stream",
     "text": [
      "Epoch 26 - loss: 0.4897 - weight x1: -0.9754185525684043 - weight x2: -1.5103148414046983\n",
      "\n",
      "Epoch [27 / 200] - "
     ]
    },
    {
     "name": "stderr",
     "output_type": "stream",
     "text": [
      "100%|██████████| 8/8 [00:00<?, ?it/s]\n"
     ]
    },
    {
     "name": "stdout",
     "output_type": "stream",
     "text": [
      "Epoch 27 - loss: 0.4766 - weight x1: -1.0135490210913667 - weight x2: -1.552747855902804\n",
      "\n",
      "Epoch [28 / 200] - "
     ]
    },
    {
     "name": "stderr",
     "output_type": "stream",
     "text": [
      "100%|██████████| 8/8 [00:00<?, ?it/s]\n"
     ]
    },
    {
     "name": "stdout",
     "output_type": "stream",
     "text": [
      "Epoch 28 - loss: 0.464 - weight x1: -1.0510663624560381 - weight x2: -1.5942820632656165\n",
      "\n",
      "Epoch [29 / 200] - "
     ]
    },
    {
     "name": "stderr",
     "output_type": "stream",
     "text": [
      "100%|██████████| 8/8 [00:00<?, ?it/s]\n"
     ]
    },
    {
     "name": "stdout",
     "output_type": "stream",
     "text": [
      "Epoch 29 - loss: 0.4518 - weight x1: -1.0879720913158775 - weight x2: -1.634943219282449\n",
      "\n",
      "Epoch [30 / 200] - "
     ]
    },
    {
     "name": "stderr",
     "output_type": "stream",
     "text": [
      "100%|██████████| 8/8 [00:00<?, ?it/s]\n"
     ]
    },
    {
     "name": "stdout",
     "output_type": "stream",
     "text": [
      "Epoch 30 - loss: 0.4401 - weight x1: -1.1242686256904024 - weight x2: -1.6747557873378478\n",
      "\n",
      "Epoch [31 / 200] - "
     ]
    },
    {
     "name": "stderr",
     "output_type": "stream",
     "text": [
      "100%|██████████| 8/8 [00:00<?, ?it/s]\n"
     ]
    },
    {
     "name": "stdout",
     "output_type": "stream",
     "text": [
      "Epoch 31 - loss: 0.4288 - weight x1: -1.1599591838805658 - weight x2: -1.713743037080219\n",
      "\n",
      "Epoch [32 / 200] - "
     ]
    },
    {
     "name": "stderr",
     "output_type": "stream",
     "text": [
      "100%|██████████| 8/8 [00:00<?, ?it/s]\n"
     ]
    },
    {
     "name": "stdout",
     "output_type": "stream",
     "text": [
      "Epoch 32 - loss: 0.418 - weight x1: -1.1950476912660506 - weight x2: -1.7519271343795622\n",
      "\n",
      "Epoch [33 / 200] - "
     ]
    },
    {
     "name": "stderr",
     "output_type": "stream",
     "text": [
      "100%|██████████| 8/8 [00:00<?, ?it/s]\n"
     ]
    },
    {
     "name": "stdout",
     "output_type": "stream",
     "text": [
      "Epoch 33 - loss: 0.4076 - weight x1: -1.2295386960659962 - weight x2: -1.7893292233703257\n",
      "\n",
      "Epoch [34 / 200] - "
     ]
    },
    {
     "name": "stderr",
     "output_type": "stream",
     "text": [
      "100%|██████████| 8/8 [00:00<?, ?it/s]\n"
     ]
    },
    {
     "name": "stdout",
     "output_type": "stream",
     "text": [
      "Epoch 34 - loss: 0.3975 - weight x1: -1.2634372932295173 - weight x2: -1.825969501302109\n",
      "\n",
      "Epoch [35 / 200] - "
     ]
    },
    {
     "name": "stderr",
     "output_type": "stream",
     "text": [
      "100%|██████████| 8/8 [00:00<00:00, 7994.86it/s]\n"
     ]
    },
    {
     "name": "stdout",
     "output_type": "stream",
     "text": [
      "Epoch 35 - loss: 0.3879 - weight x1: -1.2967490556993941 - weight x2: -1.861867286854433\n",
      "\n",
      "Epoch [36 / 200] - "
     ]
    },
    {
     "name": "stderr",
     "output_type": "stream",
     "text": [
      "100%|██████████| 8/8 [00:00<?, ?it/s]\n"
     ]
    },
    {
     "name": "stdout",
     "output_type": "stream",
     "text": [
      "Epoch 36 - loss: 0.3786 - weight x1: -1.3294799723622153 - weight x2: -1.8970410825114066\n",
      "\n",
      "Epoch [37 / 200] - "
     ]
    },
    {
     "name": "stderr",
     "output_type": "stream",
     "text": [
      "100%|██████████| 8/8 [00:00<?, ?it/s]\n"
     ]
    },
    {
     "name": "stdout",
     "output_type": "stream",
     "text": [
      "Epoch 37 - loss: 0.3696 - weight x1: -1.361636392061727 - weight x2: -1.931508631537296\n",
      "\n",
      "Epoch [38 / 200] - "
     ]
    },
    {
     "name": "stderr",
     "output_type": "stream",
     "text": [
      "100%|██████████| 8/8 [00:00<?, ?it/s]\n"
     ]
    },
    {
     "name": "stdout",
     "output_type": "stream",
     "text": [
      "Epoch 38 - loss: 0.361 - weight x1: -1.3932249731097373 - weight x2: -1.965286970044241\n",
      "\n",
      "Epoch [39 / 200] - "
     ]
    },
    {
     "name": "stderr",
     "output_type": "stream",
     "text": [
      "100%|██████████| 8/8 [00:00<00:00, 7704.81it/s]\n"
     ]
    },
    {
     "name": "stdout",
     "output_type": "stream",
     "text": [
      "Epoch 39 - loss: 0.3527 - weight x1: -1.4242526377812246 - weight x2: -1.9983924745981843\n",
      "\n",
      "Epoch [40 / 200] - "
     ]
    },
    {
     "name": "stderr",
     "output_type": "stream",
     "text": [
      "100%|██████████| 8/8 [00:00<?, ?it/s]\n"
     ]
    },
    {
     "name": "stdout",
     "output_type": "stream",
     "text": [
      "Epoch 40 - loss: 0.3448 - weight x1: -1.454726531327751 - weight x2: -2.0308409057680583\n",
      "\n",
      "Epoch [41 / 200] - "
     ]
    },
    {
     "name": "stderr",
     "output_type": "stream",
     "text": [
      "100%|██████████| 8/8 [00:00<?, ?it/s]\n"
     ]
    },
    {
     "name": "stdout",
     "output_type": "stream",
     "text": [
      "Epoch 41 - loss: 0.3371 - weight x1: -1.4846539850863856 - weight x2: -2.0626474479860497\n",
      "\n",
      "Epoch [42 / 200] - "
     ]
    },
    {
     "name": "stderr",
     "output_type": "stream",
     "text": [
      "100%|██████████| 8/8 [00:00<?, ?it/s]\n"
     ]
    },
    {
     "name": "stdout",
     "output_type": "stream",
     "text": [
      "Epoch 42 - loss: 0.3297 - weight x1: -1.5140424833004331 - weight x2: -2.093826746052948\n",
      "\n",
      "Epoch [43 / 200] - "
     ]
    },
    {
     "name": "stderr",
     "output_type": "stream",
     "text": [
      "100%|██████████| 8/8 [00:00<?, ?it/s]\n"
     ]
    },
    {
     "name": "stdout",
     "output_type": "stream",
     "text": [
      "Epoch 43 - loss: 0.3226 - weight x1: -1.5428996333037803 - weight x2: -2.1243929385919076\n",
      "\n",
      "Epoch [44 / 200] - "
     ]
    },
    {
     "name": "stderr",
     "output_type": "stream",
     "text": [
      "100%|██████████| 8/8 [00:00<?, ?it/s]\n"
     ]
    },
    {
     "name": "stdout",
     "output_type": "stream",
     "text": [
      "Epoch 44 - loss: 0.3157 - weight x1: -1.571233138752882 - weight x2: -2.1543596887260885\n",
      "\n",
      "Epoch [45 / 200] - "
     ]
    },
    {
     "name": "stderr",
     "output_type": "stream",
     "text": [
      "100%|██████████| 8/8 [00:00<00:00, 4059.82it/s]\n"
     ]
    },
    {
     "name": "stdout",
     "output_type": "stream",
     "text": [
      "Epoch 45 - loss: 0.3092 - weight x1: -1.599050775619671 - weight x2: -2.183740212230348\n",
      "\n",
      "Epoch [46 / 200] - "
     ]
    },
    {
     "name": "stderr",
     "output_type": "stream",
     "text": [
      "100%|██████████| 8/8 [00:00<?, ?it/s]\n"
     ]
    },
    {
     "name": "stdout",
     "output_type": "stream",
     "text": [
      "Epoch 46 - loss: 0.3028 - weight x1: -1.6263603706852217 - weight x2: -2.212547303384192\n",
      "\n",
      "Epoch [47 / 200] - "
     ]
    },
    {
     "name": "stderr",
     "output_type": "stream",
     "text": [
      "100%|██████████| 8/8 [00:00<?, ?it/s]\n"
     ]
    },
    {
     "name": "stdout",
     "output_type": "stream",
     "text": [
      "Epoch 47 - loss: 0.2967 - weight x1: -1.6531697822980933 - weight x2: -2.2407933587323514\n",
      "\n",
      "Epoch [48 / 200] - "
     ]
    },
    {
     "name": "stderr",
     "output_type": "stream",
     "text": [
      "100%|██████████| 8/8 [00:00<?, ?it/s]\n"
     ]
    },
    {
     "name": "stdout",
     "output_type": "stream",
     "text": [
      "Epoch 48 - loss: 0.2908 - weight x1: -1.6794868831831635 - weight x2: -2.2684903989404397\n",
      "\n",
      "Epoch [49 / 200] - "
     ]
    },
    {
     "name": "stderr",
     "output_type": "stream",
     "text": [
      "100%|██████████| 8/8 [00:00<00:00, 8012.04it/s]\n"
     ]
    },
    {
     "name": "stdout",
     "output_type": "stream",
     "text": [
      "Epoch 49 - loss: 0.2852 - weight x1: -1.7053195451066017 - weight x2: -2.295650088915914\n",
      "\n",
      "Epoch [50 / 200] - "
     ]
    },
    {
     "name": "stderr",
     "output_type": "stream",
     "text": [
      "100%|██████████| 8/8 [00:00<00:00, 7983.45it/s]\n"
     ]
    },
    {
     "name": "stdout",
     "output_type": "stream",
     "text": [
      "Epoch 50 - loss: 0.2797 - weight x1: -1.7306756252206816 - weight x2: -2.3222837563490413\n",
      "\n",
      "Epoch [51 / 200] - "
     ]
    },
    {
     "name": "stderr",
     "output_type": "stream",
     "text": [
      "100%|██████████| 8/8 [00:00<?, ?it/s]\n"
     ]
    },
    {
     "name": "stdout",
     "output_type": "stream",
     "text": [
      "Epoch 51 - loss: 0.2745 - weight x1: -1.755562953928457 - weight x2: -2.348402408814326\n",
      "\n",
      "Epoch [52 / 200] - "
     ]
    },
    {
     "name": "stderr",
     "output_type": "stream",
     "text": [
      "100%|██████████| 8/8 [00:00<?, ?it/s]\n"
     ]
    },
    {
     "name": "stdout",
     "output_type": "stream",
     "text": [
      "Epoch 52 - loss: 0.2695 - weight x1: -1.7799893241232014 - weight x2: -2.3740167495600644\n",
      "\n",
      "Epoch [53 / 200] - "
     ]
    },
    {
     "name": "stderr",
     "output_type": "stream",
     "text": [
      "100%|██████████| 8/8 [00:00<?, ?it/s]\n"
     ]
    },
    {
     "name": "stdout",
     "output_type": "stream",
     "text": [
      "Epoch 53 - loss: 0.2646 - weight x1: -1.8039624816709736 - weight x2: -2.3991371921019713\n",
      "\n",
      "Epoch [54 / 200] - "
     ]
    },
    {
     "name": "stderr",
     "output_type": "stream",
     "text": [
      "100%|██████████| 8/8 [00:00<?, ?it/s]\n"
     ]
    },
    {
     "name": "stdout",
     "output_type": "stream",
     "text": [
      "Epoch 54 - loss: 0.26 - weight x1: -1.8274901170169062 - weight x2: -2.423773873726252\n",
      "\n",
      "Epoch [55 / 200] - "
     ]
    },
    {
     "name": "stderr",
     "output_type": "stream",
     "text": [
      "100%|██████████| 8/8 [00:00<?, ?it/s]\n"
     ]
    },
    {
     "name": "stdout",
     "output_type": "stream",
     "text": [
      "Epoch 55 - loss: 0.2555 - weight x1: -1.8505798578069201 - weight x2: -2.4479366679978463\n",
      "\n",
      "Epoch [56 / 200] - "
     ]
    },
    {
     "name": "stderr",
     "output_type": "stream",
     "text": [
      "100%|██████████| 8/8 [00:00<?, ?it/s]\n"
     ]
    },
    {
     "name": "stdout",
     "output_type": "stream",
     "text": [
      "Epoch 56 - loss: 0.2511 - weight x1: -1.873239262426643 - weight x2: -2.4716351963608663\n",
      "\n",
      "Epoch [57 / 200] - "
     ]
    },
    {
     "name": "stderr",
     "output_type": "stream",
     "text": [
      "100%|██████████| 8/8 [00:00<?, ?it/s]\n"
     ]
    },
    {
     "name": "stdout",
     "output_type": "stream",
     "text": [
      "Epoch 57 - loss: 0.247 - weight x1: -1.8954758143684411 - weight x2: -2.4948788389102687\n",
      "\n",
      "Epoch [58 / 200] - "
     ]
    },
    {
     "name": "stderr",
     "output_type": "stream",
     "text": [
      "100%|██████████| 8/8 [00:00<00:00, 8031.22it/s]\n"
     ]
    },
    {
     "name": "stdout",
     "output_type": "stream",
     "text": [
      "Epoch 58 - loss: 0.243 - weight x1: -1.9172969173458123 - weight x2: -2.51767674440665\n",
      "\n",
      "Epoch [59 / 200] - "
     ]
    },
    {
     "name": "stderr",
     "output_type": "stream",
     "text": [
      "100%|██████████| 8/8 [00:00<00:00, 8004.40it/s]\n"
     ]
    },
    {
     "name": "stdout",
     "output_type": "stream",
     "text": [
      "Epoch 59 - loss: 0.2391 - weight x1: -1.9387098910818685 - weight x2: -2.5400378395994676\n",
      "\n",
      "Epoch [60 / 200] - "
     ]
    },
    {
     "name": "stderr",
     "output_type": "stream",
     "text": [
      "100%|██████████| 8/8 [00:00<?, ?it/s]\n"
     ]
    },
    {
     "name": "stdout",
     "output_type": "stream",
     "text": [
      "Epoch 60 - loss: 0.2354 - weight x1: -1.9597219677055229 - weight x2: -2.561970837918084\n",
      "\n",
      "Epoch [61 / 200] - "
     ]
    },
    {
     "name": "stderr",
     "output_type": "stream",
     "text": [
      "100%|██████████| 8/8 [00:00<?, ?it/s]\n"
     ]
    },
    {
     "name": "stdout",
     "output_type": "stream",
     "text": [
      "Epoch 61 - loss: 0.2318 - weight x1: -1.9803402886951629 - weight x2: -2.583484247584611\n",
      "\n",
      "Epoch [62 / 200] - "
     ]
    },
    {
     "name": "stderr",
     "output_type": "stream",
     "text": [
      "100%|██████████| 8/8 [00:00<?, ?it/s]\n"
     ]
    },
    {
     "name": "stdout",
     "output_type": "stream",
     "text": [
      "Epoch 62 - loss: 0.2284 - weight x1: -2.000571902315251 - weight x2: -2.6045863791976553\n",
      "\n",
      "Epoch [63 / 200] - "
     ]
    },
    {
     "name": "stderr",
     "output_type": "stream",
     "text": [
      "100%|██████████| 8/8 [00:00<?, ?it/s]\n"
     ]
    },
    {
     "name": "stdout",
     "output_type": "stream",
     "text": [
      "Epoch 63 - loss: 0.2251 - weight x1: -2.0204237614963816 - weight x2: -2.625285352831604\n",
      "\n",
      "Epoch [64 / 200] - "
     ]
    },
    {
     "name": "stderr",
     "output_type": "stream",
     "text": [
      "100%|██████████| 8/8 [00:00<?, ?it/s]\n"
     ]
    },
    {
     "name": "stdout",
     "output_type": "stream",
     "text": [
      "Epoch 64 - loss: 0.2219 - weight x1: -2.039902722113983 - weight x2: -2.645589104692064\n",
      "\n",
      "Epoch [65 / 200] - "
     ]
    },
    {
     "name": "stderr",
     "output_type": "stream",
     "text": [
      "100%|██████████| 8/8 [00:00<?, ?it/s]\n"
     ]
    },
    {
     "name": "stdout",
     "output_type": "stream",
     "text": [
      "Epoch 65 - loss: 0.2188 - weight x1: -2.05901554162503 - weight x2: -2.6655053933643753\n",
      "\n",
      "Epoch [66 / 200] - "
     ]
    },
    {
     "name": "stderr",
     "output_type": "stream",
     "text": [
      "100%|██████████| 8/8 [00:00<00:00, 3999.81it/s]\n"
     ]
    },
    {
     "name": "stdout",
     "output_type": "stream",
     "text": [
      "Epoch 66 - loss: 0.2159 - weight x1: -2.0777688780259984 - weight x2: -2.685041805688834\n",
      "\n",
      "Epoch [67 / 200] - "
     ]
    },
    {
     "name": "stderr",
     "output_type": "stream",
     "text": [
      "100%|██████████| 8/8 [00:00<?, ?it/s]\n"
     ]
    },
    {
     "name": "stdout",
     "output_type": "stream",
     "text": [
      "Epoch 67 - loss: 0.2131 - weight x1: -2.096169289098698 - weight x2: -2.7042057622931726\n",
      "\n",
      "Epoch [68 / 200] - "
     ]
    },
    {
     "name": "stderr",
     "output_type": "stream",
     "text": [
      "100%|██████████| 8/8 [00:00<?, ?it/s]\n"
     ]
    },
    {
     "name": "stdout",
     "output_type": "stream",
     "text": [
      "Epoch 68 - loss: 0.2103 - weight x1: -2.1142232319138277 - weight x2: -2.723004522810167\n",
      "\n",
      "Epoch [69 / 200] - "
     ]
    },
    {
     "name": "stderr",
     "output_type": "stream",
     "text": [
      "100%|██████████| 8/8 [00:00<?, ?it/s]\n"
     ]
    },
    {
     "name": "stdout",
     "output_type": "stream",
     "text": [
      "Epoch 69 - loss: 0.2077 - weight x1: -2.1319370625648952 - weight x2: -2.7414451908056763\n",
      "\n",
      "Epoch [70 / 200] - "
     ]
    },
    {
     "name": "stderr",
     "output_type": "stream",
     "text": [
      "100%|██████████| 8/8 [00:00<?, ?it/s]\n"
     ]
    },
    {
     "name": "stdout",
     "output_type": "stream",
     "text": [
      "Epoch 70 - loss: 0.2052 - weight x1: -2.149317036107774 - weight x2: -2.7595347184402126\n",
      "\n",
      "Epoch [71 / 200] - "
     ]
    },
    {
     "name": "stderr",
     "output_type": "stream",
     "text": [
      "100%|██████████| 8/8 [00:00<?, ?it/s]\n"
     ]
    },
    {
     "name": "stdout",
     "output_type": "stream",
     "text": [
      "Epoch 71 - loss: 0.2027 - weight x1: -2.1663693066834826 - weight x2: -2.7772799108850443\n",
      "\n",
      "Epoch [72 / 200] - "
     ]
    },
    {
     "name": "stderr",
     "output_type": "stream",
     "text": [
      "100%|██████████| 8/8 [00:00<?, ?it/s]\n"
     ]
    },
    {
     "name": "stdout",
     "output_type": "stream",
     "text": [
      "Epoch 72 - loss: 0.2004 - weight x1: -2.1830999278039376 - weight x2: -2.7946874305119676\n",
      "\n",
      "Epoch [73 / 200] - "
     ]
    },
    {
     "name": "stderr",
     "output_type": "stream",
     "text": [
      "100%|██████████| 8/8 [00:00<?, ?it/s]\n"
     ]
    },
    {
     "name": "stdout",
     "output_type": "stream",
     "text": [
      "Epoch 73 - loss: 0.1981 - weight x1: -2.199514852782338 - weight x2: -2.8117638008742043\n",
      "\n",
      "Epoch [74 / 200] - "
     ]
    },
    {
     "name": "stderr",
     "output_type": "stream",
     "text": [
      "100%|██████████| 8/8 [00:00<?, ?it/s]\n"
     ]
    },
    {
     "name": "stdout",
     "output_type": "stream",
     "text": [
      "Epoch 74 - loss: 0.196 - weight x1: -2.215619935291598 - weight x2: -2.8285154104943193\n",
      "\n",
      "Epoch [75 / 200] - "
     ]
    },
    {
     "name": "stderr",
     "output_type": "stream",
     "text": [
      "100%|██████████| 8/8 [00:00<00:00, 8002.49it/s]\n"
     ]
    },
    {
     "name": "stdout",
     "output_type": "stream",
     "text": [
      "Epoch 75 - loss: 0.1939 - weight x1: -2.2314209300358496 - weight x2: -2.8449485164736465\n",
      "\n",
      "Epoch [76 / 200] - "
     ]
    },
    {
     "name": "stderr",
     "output_type": "stream",
     "text": [
      "100%|██████████| 8/8 [00:00<00:00, 8004.40it/s]\n"
     ]
    },
    {
     "name": "stdout",
     "output_type": "stream",
     "text": [
      "Epoch 76 - loss: 0.1919 - weight x1: -2.246923493521451 - weight x2: -2.8610692479364617\n",
      "\n",
      "Epoch [77 / 200] - "
     ]
    },
    {
     "name": "stderr",
     "output_type": "stream",
     "text": [
      "100%|██████████| 8/8 [00:00<?, ?it/s]\n"
     ]
    },
    {
     "name": "stdout",
     "output_type": "stream",
     "text": [
      "Epoch 77 - loss: 0.1899 - weight x1: -2.262133184915292 - weight x2: -2.876883609320955\n",
      "\n",
      "Epoch [78 / 200] - "
     ]
    },
    {
     "name": "stderr",
     "output_type": "stream",
     "text": [
      "100%|██████████| 8/8 [00:00<?, ?it/s]\n"
     ]
    },
    {
     "name": "stdout",
     "output_type": "stream",
     "text": [
      "Epoch 78 - loss: 0.1881 - weight x1: -2.2770554669793026 - weight x2: -2.8923974835280144\n",
      "\n",
      "Epoch [79 / 200] - "
     ]
    },
    {
     "name": "stderr",
     "output_type": "stream",
     "text": [
      "100%|██████████| 8/8 [00:00<?, ?it/s]\n"
     ]
    },
    {
     "name": "stdout",
     "output_type": "stream",
     "text": [
      "Epoch 79 - loss: 0.1863 - weight x1: -2.2916957070712387 - weight x2: -2.907616634937893\n",
      "\n",
      "Epoch [80 / 200] - "
     ]
    },
    {
     "name": "stderr",
     "output_type": "stream",
     "text": [
      "100%|██████████| 8/8 [00:00<?, ?it/s]\n"
     ]
    },
    {
     "name": "stdout",
     "output_type": "stream",
     "text": [
      "Epoch 80 - loss: 0.1845 - weight x1: -2.3060591782026956 - weight x2: -2.922546712303914\n",
      "\n",
      "Epoch [81 / 200] - "
     ]
    },
    {
     "name": "stderr",
     "output_type": "stream",
     "text": [
      "100%|██████████| 8/8 [00:00<?, ?it/s]\n"
     ]
    },
    {
     "name": "stdout",
     "output_type": "stream",
     "text": [
      "Epoch 81 - loss: 0.1829 - weight x1: -2.3201510601462796 - weight x2: -2.9371932515316455\n",
      "\n",
      "Epoch [82 / 200] - "
     ]
    },
    {
     "name": "stderr",
     "output_type": "stream",
     "text": [
      "100%|██████████| 8/8 [00:00<?, ?it/s]\n"
     ]
    },
    {
     "name": "stdout",
     "output_type": "stream",
     "text": [
      "Epoch 82 - loss: 0.1813 - weight x1: -2.3339764405845926 - weight x2: -2.9515616783511938\n",
      "\n",
      "Epoch [83 / 200] - "
     ]
    },
    {
     "name": "stderr",
     "output_type": "stream",
     "text": [
      "100%|██████████| 8/8 [00:00<?, ?it/s]\n"
     ]
    },
    {
     "name": "stdout",
     "output_type": "stream",
     "text": [
      "Epoch 83 - loss: 0.1798 - weight x1: -2.3475403162944577 - weight x2: -2.9656573108896556\n",
      "\n",
      "Epoch [84 / 200] - "
     ]
    },
    {
     "name": "stderr",
     "output_type": "stream",
     "text": [
      "100%|██████████| 8/8 [00:00<?, ?it/s]\n"
     ]
    },
    {
     "name": "stdout",
     "output_type": "stream",
     "text": [
      "Epoch 84 - loss: 0.1783 - weight x1: -2.360847594360463 - weight x2: -2.9794853621501494\n",
      "\n",
      "Epoch [85 / 200] - "
     ]
    },
    {
     "name": "stderr",
     "output_type": "stream",
     "text": [
      "100%|██████████| 8/8 [00:00<?, ?it/s]\n"
     ]
    },
    {
     "name": "stdout",
     "output_type": "stream",
     "text": [
      "Epoch 85 - loss: 0.1768 - weight x1: -2.373903093412483 - weight x2: -2.9930509424033276\n",
      "\n",
      "Epoch [86 / 200] - "
     ]
    },
    {
     "name": "stderr",
     "output_type": "stream",
     "text": [
      "100%|██████████| 8/8 [00:00<?, ?it/s]\n"
     ]
    },
    {
     "name": "stdout",
     "output_type": "stream",
     "text": [
      "Epoch 86 - loss: 0.1755 - weight x1: -2.3867115448823997 - weight x2: -3.006359061496747\n",
      "\n",
      "Epoch [87 / 200] - "
     ]
    },
    {
     "name": "stderr",
     "output_type": "stream",
     "text": [
      "100%|██████████| 8/8 [00:00<?, ?it/s]\n"
     ]
    },
    {
     "name": "stdout",
     "output_type": "stream",
     "text": [
      "Epoch 87 - loss: 0.1742 - weight x1: -2.399277594275723 - weight x2: -3.0194146310870713\n",
      "\n",
      "Epoch [88 / 200] - "
     ]
    },
    {
     "name": "stderr",
     "output_type": "stream",
     "text": [
      "100%|██████████| 8/8 [00:00<?, ?it/s]\n"
     ]
    },
    {
     "name": "stdout",
     "output_type": "stream",
     "text": [
      "Epoch 88 - loss: 0.1729 - weight x1: -2.4116058024542513 - weight x2: -3.032222466799633\n",
      "\n",
      "Epoch [89 / 200] - "
     ]
    },
    {
     "name": "stderr",
     "output_type": "stream",
     "text": [
      "100%|██████████| 8/8 [00:00<?, ?it/s]\n"
     ]
    },
    {
     "name": "stdout",
     "output_type": "stream",
     "text": [
      "Epoch 89 - loss: 0.1717 - weight x1: -2.423700646926335 - weight x2: -3.0447872903195385\n",
      "\n",
      "Epoch [90 / 200] - "
     ]
    },
    {
     "name": "stderr",
     "output_type": "stream",
     "text": [
      "100%|██████████| 8/8 [00:00<?, ?it/s]\n"
     ]
    },
    {
     "name": "stdout",
     "output_type": "stream",
     "text": [
      "Epoch 90 - loss: 0.1705 - weight x1: -2.435566523141639 - weight x2: -3.05711373141814\n",
      "\n",
      "Epoch [91 / 200] - "
     ]
    },
    {
     "name": "stderr",
     "output_type": "stream",
     "text": [
      "100%|██████████| 8/8 [00:00<?, ?it/s]\n"
     ]
    },
    {
     "name": "stdout",
     "output_type": "stream",
     "text": [
      "Epoch 91 - loss: 0.1694 - weight x1: -2.4472077457876624 - weight x2: -3.0692063299184262\n",
      "\n",
      "Epoch [92 / 200] - "
     ]
    },
    {
     "name": "stderr",
     "output_type": "stream",
     "text": [
      "100%|██████████| 8/8 [00:00<?, ?it/s]\n"
     ]
    },
    {
     "name": "stdout",
     "output_type": "stream",
     "text": [
      "Epoch 92 - loss: 0.1683 - weight x1: -2.4586285500855505 - weight x2: -3.081069537602555\n",
      "\n",
      "Epoch [93 / 200] - "
     ]
    },
    {
     "name": "stderr",
     "output_type": "stream",
     "text": [
      "100%|██████████| 8/8 [00:00<00:00, 7908.19it/s]\n"
     ]
    },
    {
     "name": "stdout",
     "output_type": "stream",
     "text": [
      "Epoch 93 - loss: 0.1672 - weight x1: -2.4698330930830115 - weight x2: -3.092707720064549\n",
      "\n",
      "Epoch [94 / 200] - "
     ]
    },
    {
     "name": "stderr",
     "output_type": "stream",
     "text": [
      "100%|██████████| 8/8 [00:00<?, ?it/s]\n"
     ]
    },
    {
     "name": "stdout",
     "output_type": "stream",
     "text": [
      "Epoch 94 - loss: 0.1662 - weight x1: -2.4808254549423934 - weight x2: -3.1041251585108927\n",
      "\n",
      "Epoch [95 / 200] - "
     ]
    },
    {
     "name": "stderr",
     "output_type": "stream",
     "text": [
      "100%|██████████| 8/8 [00:00<00:00, 7955.06it/s]\n"
     ]
    },
    {
     "name": "stdout",
     "output_type": "stream",
     "text": [
      "Epoch 95 - loss: 0.1652 - weight x1: -2.491609640222209 - weight x2: -3.1153260515116115\n",
      "\n",
      "Epoch [96 / 200] - "
     ]
    },
    {
     "name": "stderr",
     "output_type": "stream",
     "text": [
      "100%|██████████| 8/8 [00:00<?, ?it/s]\n"
     ]
    },
    {
     "name": "stdout",
     "output_type": "stream",
     "text": [
      "Epoch 96 - loss: 0.1643 - weight x1: -2.502189579150565 - weight x2: -3.1263145167041606\n",
      "\n",
      "Epoch [97 / 200] - "
     ]
    },
    {
     "name": "stderr",
     "output_type": "stream",
     "text": [
      "100%|██████████| 8/8 [00:00<?, ?it/s]\n"
     ]
    },
    {
     "name": "stdout",
     "output_type": "stream",
     "text": [
      "Epoch 97 - loss: 0.1634 - weight x1: -2.5125691288891847 - weight x2: -3.1370945924523457\n",
      "\n",
      "Epoch [98 / 200] - "
     ]
    },
    {
     "name": "stderr",
     "output_type": "stream",
     "text": [
      "100%|██████████| 8/8 [00:00<?, ?it/s]\n"
     ]
    },
    {
     "name": "stdout",
     "output_type": "stream",
     "text": [
      "Epoch 98 - loss: 0.1625 - weight x1: -2.5227520747868106 - weight x2: -3.1476702394622538\n",
      "\n",
      "Epoch [99 / 200] - "
     ]
    },
    {
     "name": "stderr",
     "output_type": "stream",
     "text": [
      "100%|██████████| 8/8 [00:00<?, ?it/s]\n"
     ]
    },
    {
     "name": "stdout",
     "output_type": "stream",
     "text": [
      "Epoch 99 - loss: 0.1617 - weight x1: -2.532742131620988 - weight x2: -3.158045342357115\n",
      "\n",
      "Epoch [100 / 200] - "
     ]
    },
    {
     "name": "stderr",
     "output_type": "stream",
     "text": [
      "100%|██████████| 8/8 [00:00<?, ?it/s]\n"
     ]
    },
    {
     "name": "stdout",
     "output_type": "stream",
     "text": [
      "Epoch 100 - loss: 0.1609 - weight x1: -2.5425429448273125 - weight x2: -3.1682237112128075\n",
      "\n",
      "Epoch [101 / 200] - "
     ]
    },
    {
     "name": "stderr",
     "output_type": "stream",
     "text": [
      "100%|██████████| 8/8 [00:00<?, ?it/s]\n"
     ]
    },
    {
     "name": "stdout",
     "output_type": "stream",
     "text": [
      "Epoch 101 - loss: 0.1601 - weight x1: -2.5521580917153686 - weight x2: -3.178209083055642\n",
      "\n",
      "Epoch [102 / 200] - "
     ]
    },
    {
     "name": "stderr",
     "output_type": "stream",
     "text": [
      "100%|██████████| 8/8 [00:00<?, ?it/s]\n"
     ]
    },
    {
     "name": "stdout",
     "output_type": "stream",
     "text": [
      "Epoch 102 - loss: 0.1594 - weight x1: -2.561591082670693 - weight x2: -3.1880051233239364\n",
      "\n",
      "Epoch [103 / 200] - "
     ]
    },
    {
     "name": "stderr",
     "output_type": "stream",
     "text": [
      "100%|██████████| 8/8 [00:00<00:00, 7970.17it/s]\n"
     ]
    },
    {
     "name": "stdout",
     "output_type": "stream",
     "text": [
      "Epoch 103 - loss: 0.1587 - weight x1: -2.5708453623421907 - weight x2: -3.1976154272947754\n",
      "\n",
      "Epoch [104 / 200] - "
     ]
    },
    {
     "name": "stderr",
     "output_type": "stream",
     "text": [
      "100%|██████████| 8/8 [00:00<?, ?it/s]\n"
     ]
    },
    {
     "name": "stdout",
     "output_type": "stream",
     "text": [
      "Epoch 104 - loss: 0.158 - weight x1: -2.5799243108145125 - weight x2: -3.2070435214772917\n",
      "\n",
      "Epoch [105 / 200] - "
     ]
    },
    {
     "name": "stderr",
     "output_type": "stream",
     "text": [
      "100%|██████████| 8/8 [00:00<?, ?it/s]\n"
     ]
    },
    {
     "name": "stdout",
     "output_type": "stream",
     "text": [
      "Epoch 105 - loss: 0.1573 - weight x1: -2.5888312447650064 - weight x2: -3.216292864973675\n",
      "\n",
      "Epoch [106 / 200] - "
     ]
    },
    {
     "name": "stderr",
     "output_type": "stream",
     "text": [
      "100%|██████████| 8/8 [00:00<?, ?it/s]\n"
     ]
    },
    {
     "name": "stdout",
     "output_type": "stream",
     "text": [
      "Epoch 106 - loss: 0.1567 - weight x1: -2.597569418604887 - weight x2: -3.225366850809077\n",
      "\n",
      "Epoch [107 / 200] - "
     ]
    },
    {
     "name": "stderr",
     "output_type": "stream",
     "text": [
      "100%|██████████| 8/8 [00:00<00:00, 7996.77it/s]\n"
     ]
    },
    {
     "name": "stdout",
     "output_type": "stream",
     "text": [
      "Epoch 107 - loss: 0.1561 - weight x1: -2.6061420256043784 - weight x2: -3.2342688072314862\n",
      "\n",
      "Epoch [108 / 200] - "
     ]
    },
    {
     "name": "stderr",
     "output_type": "stream",
     "text": [
      "100%|██████████| 8/8 [00:00<?, ?it/s]\n"
     ]
    },
    {
     "name": "stdout",
     "output_type": "stream",
     "text": [
      "Epoch 108 - loss: 0.1555 - weight x1: -2.614552199001595 - weight x2: -3.2430019989825816\n",
      "\n",
      "Epoch [109 / 200] - "
     ]
    },
    {
     "name": "stderr",
     "output_type": "stream",
     "text": [
      "100%|██████████| 8/8 [00:00<?, ?it/s]\n"
     ]
    },
    {
     "name": "stdout",
     "output_type": "stream",
     "text": [
      "Epoch 109 - loss: 0.1549 - weight x1: -2.622803013095024 - weight x2: -3.251569628540531\n",
      "\n",
      "Epoch [110 / 200] - "
     ]
    },
    {
     "name": "stderr",
     "output_type": "stream",
     "text": [
      "100%|██████████| 8/8 [00:00<00:00, 7983.45it/s]\n"
     ]
    },
    {
     "name": "stdout",
     "output_type": "stream",
     "text": [
      "Epoch 110 - loss: 0.1544 - weight x1: -2.6308974843194717 - weight x2: -3.2599748373356228\n",
      "\n",
      "Epoch [111 / 200] - "
     ]
    },
    {
     "name": "stderr",
     "output_type": "stream",
     "text": [
      "100%|██████████| 8/8 [00:00<00:00, 8008.22it/s]\n"
     ]
    },
    {
     "name": "stdout",
     "output_type": "stream",
     "text": [
      "Epoch 111 - loss: 0.1538 - weight x1: -2.6388385723054206 - weight x2: -3.2682207069395766\n",
      "\n",
      "Epoch [112 / 200] - "
     ]
    },
    {
     "name": "stderr",
     "output_type": "stream",
     "text": [
      "100%|██████████| 8/8 [00:00<00:00, 8002.49it/s]\n"
     ]
    },
    {
     "name": "stdout",
     "output_type": "stream",
     "text": [
      "Epoch 112 - loss: 0.1533 - weight x1: -2.6466291809217535 - weight x2: -3.276310260229346\n",
      "\n",
      "Epoch [113 / 200] - "
     ]
    },
    {
     "name": "stderr",
     "output_type": "stream",
     "text": [
      "100%|██████████| 8/8 [00:00<00:00, 8000.58it/s]\n"
     ]
    },
    {
     "name": "stdout",
     "output_type": "stream",
     "text": [
      "Epoch 113 - loss: 0.1528 - weight x1: -2.654272159301838 - weight x2: -3.284246462526162\n",
      "\n",
      "Epoch [114 / 200] - "
     ]
    },
    {
     "name": "stderr",
     "output_type": "stream",
     "text": [
      "100%|██████████| 8/8 [00:00<00:00, 5299.18it/s]\n"
     ]
    },
    {
     "name": "stdout",
     "output_type": "stream",
     "text": [
      "Epoch 114 - loss: 0.1524 - weight x1: -2.6617703028530104 - weight x2: -3.2920322227105316\n",
      "\n",
      "Epoch [115 / 200] - "
     ]
    },
    {
     "name": "stderr",
     "output_type": "stream",
     "text": [
      "100%|██████████| 8/8 [00:00<?, ?it/s]\n"
     ]
    },
    {
     "name": "stdout",
     "output_type": "stream",
     "text": [
      "Epoch 115 - loss: 0.1519 - weight x1: -2.669126354249499 - weight x2: -3.299670394313888\n",
      "\n",
      "Epoch [116 / 200] - "
     ]
    },
    {
     "name": "stderr",
     "output_type": "stream",
     "text": [
      "100%|██████████| 8/8 [00:00<00:00, 7992.96it/s]\n"
     ]
    },
    {
     "name": "stdout",
     "output_type": "stream",
     "text": [
      "Epoch 116 - loss: 0.1515 - weight x1: -2.676343004408865 - weight x2: -3.307163776587523\n",
      "\n",
      "Epoch [117 / 200] - "
     ]
    },
    {
     "name": "stderr",
     "output_type": "stream",
     "text": [
      "100%|██████████| 8/8 [00:00<?, ?it/s]\n"
     ]
    },
    {
     "name": "stdout",
     "output_type": "stream",
     "text": [
      "Epoch 117 - loss: 0.1511 - weight x1: -2.6834228934520703 - weight x2: -3.31451511554943\n",
      "\n",
      "Epoch [118 / 200] - "
     ]
    },
    {
     "name": "stderr",
     "output_type": "stream",
     "text": [
      "100%|██████████| 8/8 [00:00<?, ?it/s]\n"
     ]
    },
    {
     "name": "stdout",
     "output_type": "stream",
     "text": [
      "Epoch 118 - loss: 0.1506 - weight x1: -2.6903686116472705 - weight x2: -3.321727105009644\n",
      "\n",
      "Epoch [119 / 200] - "
     ]
    },
    {
     "name": "stderr",
     "output_type": "stream",
     "text": [
      "100%|██████████| 8/8 [00:00<?, ?it/s]\n"
     ]
    },
    {
     "name": "stdout",
     "output_type": "stream",
     "text": [
      "Epoch 119 - loss: 0.1503 - weight x1: -2.6971827003374678 - weight x2: -3.32880238757463\n",
      "\n",
      "Epoch [120 / 200] - "
     ]
    },
    {
     "name": "stderr",
     "output_type": "stream",
     "text": [
      "100%|██████████| 8/8 [00:00<?, ?it/s]\n"
     ]
    },
    {
     "name": "stdout",
     "output_type": "stream",
     "text": [
      "Epoch 120 - loss: 0.1499 - weight x1: -2.70386765285218 - weight x2: -3.335743555631272\n",
      "\n",
      "Epoch [121 / 200] - "
     ]
    },
    {
     "name": "stderr",
     "output_type": "stream",
     "text": [
      "100%|██████████| 8/8 [00:00<00:00, 7989.15it/s]\n"
     ]
    },
    {
     "name": "stdout",
     "output_type": "stream",
     "text": [
      "Epoch 121 - loss: 0.1495 - weight x1: -2.7104259154032633 - weight x2: -3.3425531523109604\n",
      "\n",
      "Epoch [122 / 200] - "
     ]
    },
    {
     "name": "stderr",
     "output_type": "stream",
     "text": [
      "100%|██████████| 8/8 [00:00<?, ?it/s]\n"
     ]
    },
    {
     "name": "stdout",
     "output_type": "stream",
     "text": [
      "Epoch 122 - loss: 0.1492 - weight x1: -2.7168598879650694 - weight x2: -3.3492336724342806\n",
      "\n",
      "Epoch [123 / 200] - "
     ]
    },
    {
     "name": "stderr",
     "output_type": "stream",
     "text": [
      "100%|██████████| 8/8 [00:00<?, ?it/s]\n"
     ]
    },
    {
     "name": "stdout",
     "output_type": "stream",
     "text": [
      "Epoch 123 - loss: 0.1489 - weight x1: -2.7231719251391118 - weight x2: -3.3557875634367713\n",
      "\n",
      "Epoch [124 / 200] - "
     ]
    },
    {
     "name": "stderr",
     "output_type": "stream",
     "text": [
      "100%|██████████| 8/8 [00:00<?, ?it/s]\n"
     ]
    },
    {
     "name": "stdout",
     "output_type": "stream",
     "text": [
      "Epoch 124 - loss: 0.1485 - weight x1: -2.729364337003418 - weight x2: -3.362217226276199\n",
      "\n",
      "Epoch [125 / 200] - "
     ]
    },
    {
     "name": "stderr",
     "output_type": "stream",
     "text": [
      "100%|██████████| 8/8 [00:00<?, ?it/s]\n"
     ]
    },
    {
     "name": "stdout",
     "output_type": "stream",
     "text": [
      "Epoch 125 - loss: 0.1482 - weight x1: -2.735439389946766 - weight x2: -3.368525016321799\n",
      "\n",
      "Epoch [126 / 200] - "
     ]
    },
    {
     "name": "stderr",
     "output_type": "stream",
     "text": [
      "100%|██████████| 8/8 [00:00<?, ?it/s]\n"
     ]
    },
    {
     "name": "stdout",
     "output_type": "stream",
     "text": [
      "Epoch 126 - loss: 0.1479 - weight x1: -2.741399307487999 - weight x2: -3.374713244225893\n",
      "\n",
      "Epoch [127 / 200] - "
     ]
    },
    {
     "name": "stderr",
     "output_type": "stream",
     "text": [
      "100%|██████████| 8/8 [00:00<?, ?it/s]\n"
     ]
    },
    {
     "name": "stdout",
     "output_type": "stream",
     "text": [
      "Epoch 127 - loss: 0.1476 - weight x1: -2.747246271080612 - weight x2: -3.3807841767782842\n",
      "\n",
      "Epoch [128 / 200] - "
     ]
    },
    {
     "name": "stderr",
     "output_type": "stream",
     "text": [
      "100%|██████████| 8/8 [00:00<?, ?it/s]\n"
     ]
    },
    {
     "name": "stdout",
     "output_type": "stream",
     "text": [
      "Epoch 128 - loss: 0.1474 - weight x1: -2.752982420902833 - weight x2: -3.3867400377438353\n",
      "\n",
      "Epoch [129 / 200] - "
     ]
    },
    {
     "name": "stderr",
     "output_type": "stream",
     "text": [
      "100%|██████████| 8/8 [00:00<?, ?it/s]\n"
     ]
    },
    {
     "name": "stdout",
     "output_type": "stream",
     "text": [
      "Epoch 129 - loss: 0.1471 - weight x1: -2.7586098566333828 - weight x2: -3.3925830086835873\n",
      "\n",
      "Epoch [130 / 200] - "
     ]
    },
    {
     "name": "stderr",
     "output_type": "stream",
     "text": [
      "100%|██████████| 8/8 [00:00<00:00, 7975.86it/s]\n"
     ]
    },
    {
     "name": "stdout",
     "output_type": "stream",
     "text": [
      "Epoch 130 - loss: 0.1468 - weight x1: -2.7641306382131443 - weight x2: -3.3983152297598047\n",
      "\n",
      "Epoch [131 / 200] - "
     ]
    },
    {
     "name": "stderr",
     "output_type": "stream",
     "text": [
      "100%|██████████| 8/8 [00:00<?, ?it/s]\n"
     ]
    },
    {
     "name": "stdout",
     "output_type": "stream",
     "text": [
      "Epoch 131 - loss: 0.1466 - weight x1: -2.7695467865929344 - weight x2: -3.403938800525282\n",
      "\n",
      "Epoch [132 / 200] - "
     ]
    },
    {
     "name": "stderr",
     "output_type": "stream",
     "text": [
      "100%|██████████| 8/8 [00:00<?, ?it/s]\n"
     ]
    },
    {
     "name": "stdout",
     "output_type": "stream",
     "text": [
      "Epoch 132 - loss: 0.1464 - weight x1: -2.774860284467613 - weight x2: -3.409455780697265\n",
      "\n",
      "Epoch [133 / 200] - "
     ]
    },
    {
     "name": "stderr",
     "output_type": "stream",
     "text": [
      "100%|██████████| 8/8 [00:00<?, ?it/s]\n"
     ]
    },
    {
     "name": "stdout",
     "output_type": "stream",
     "text": [
      "Epoch 133 - loss: 0.1461 - weight x1: -2.780073076996717 - weight x2: -3.4148681909163066\n",
      "\n",
      "Epoch [134 / 200] - "
     ]
    },
    {
     "name": "stderr",
     "output_type": "stream",
     "text": [
      "100%|██████████| 8/8 [00:00<?, ?it/s]\n"
     ]
    },
    {
     "name": "stdout",
     "output_type": "stream",
     "text": [
      "Epoch 134 - loss: 0.1459 - weight x1: -2.7851870725118526 - weight x2: -3.420178013490396\n",
      "\n",
      "Epoch [135 / 200] - "
     ]
    },
    {
     "name": "stderr",
     "output_type": "stream",
     "text": [
      "100%|██████████| 8/8 [00:00<?, ?it/s]\n"
     ]
    },
    {
     "name": "stdout",
     "output_type": "stream",
     "text": [
      "Epoch 135 - loss: 0.1457 - weight x1: -2.7902041432110556 - weight x2: -3.425387193124655\n",
      "\n",
      "Epoch [136 / 200] - "
     ]
    },
    {
     "name": "stderr",
     "output_type": "stream",
     "text": [
      "100%|██████████| 8/8 [00:00<?, ?it/s]\n"
     ]
    },
    {
     "name": "stdout",
     "output_type": "stream",
     "text": [
      "Epoch 136 - loss: 0.1455 - weight x1: -2.7951261258403166 - weight x2: -3.4304976376369187\n",
      "\n",
      "Epoch [137 / 200] - "
     ]
    },
    {
     "name": "stderr",
     "output_type": "stream",
     "text": [
      "100%|██████████| 8/8 [00:00<?, ?it/s]\n"
     ]
    },
    {
     "name": "stdout",
     "output_type": "stream",
     "text": [
      "Epoch 137 - loss: 0.1453 - weight x1: -2.79995482236251 - weight x2: -3.43551121865948\n",
      "\n",
      "Epoch [138 / 200] - "
     ]
    },
    {
     "name": "stderr",
     "output_type": "stream",
     "text": [
      "100%|██████████| 8/8 [00:00<?, ?it/s]\n"
     ]
    },
    {
     "name": "stdout",
     "output_type": "stream",
     "text": [
      "Epoch 138 - loss: 0.1451 - weight x1: -2.804692000613914 - weight x2: -3.4404297723273007\n",
      "\n",
      "Epoch [139 / 200] - "
     ]
    },
    {
     "name": "stderr",
     "output_type": "stream",
     "text": [
      "100%|██████████| 8/8 [00:00<00:00, 7203.61it/s]\n"
     ]
    },
    {
     "name": "stdout",
     "output_type": "stream",
     "text": [
      "Epoch 139 - loss: 0.1449 - weight x1: -2.809339394948543 - weight x2: -3.4452550999529605\n",
      "\n",
      "Epoch [140 / 200] - "
     ]
    },
    {
     "name": "stderr",
     "output_type": "stream",
     "text": [
      "100%|██████████| 8/8 [00:00<?, ?it/s]\n"
     ]
    },
    {
     "name": "stdout",
     "output_type": "stream",
     "text": [
      "Epoch 140 - loss: 0.1448 - weight x1: -2.8138987068704933 - weight x2: -3.4499889686886114\n",
      "\n",
      "Epoch [141 / 200] - "
     ]
    },
    {
     "name": "stderr",
     "output_type": "stream",
     "text": [
      "100%|██████████| 8/8 [00:00<?, ?it/s]\n"
     ]
    },
    {
     "name": "stdout",
     "output_type": "stream",
     "text": [
      "Epoch 141 - loss: 0.1446 - weight x1: -2.8183716056545203 - weight x2: -3.454633112175204\n",
      "\n",
      "Epoch [142 / 200] - "
     ]
    },
    {
     "name": "stderr",
     "output_type": "stream",
     "text": [
      "100%|██████████| 8/8 [00:00<?, ?it/s]\n"
     ]
    },
    {
     "name": "stdout",
     "output_type": "stream",
     "text": [
      "Epoch 142 - loss: 0.1444 - weight x1: -2.822759728955035 - weight x2: -3.4591892311792574\n",
      "\n",
      "Epoch [143 / 200] - "
     ]
    },
    {
     "name": "stderr",
     "output_type": "stream",
     "text": [
      "100%|██████████| 8/8 [00:00<?, ?it/s]\n"
     ]
    },
    {
     "name": "stdout",
     "output_type": "stream",
     "text": [
      "Epoch 143 - loss: 0.1443 - weight x1: -2.8270646834037323 - weight x2: -3.4636589942173965\n",
      "\n",
      "Epoch [144 / 200] - "
     ]
    },
    {
     "name": "stderr",
     "output_type": "stream",
     "text": [
      "100%|██████████| 8/8 [00:00<?, ?it/s]\n"
     ]
    },
    {
     "name": "stdout",
     "output_type": "stream",
     "text": [
      "Epoch 144 - loss: 0.1441 - weight x1: -2.831288045196043 - weight x2: -3.468044038168927\n",
      "\n",
      "Epoch [145 / 200] - "
     ]
    },
    {
     "name": "stderr",
     "output_type": "stream",
     "text": [
      "100%|██████████| 8/8 [00:00<00:00, 8002.49it/s]\n"
     ]
    },
    {
     "name": "stdout",
     "output_type": "stream",
     "text": [
      "Epoch 145 - loss: 0.144 - weight x1: -2.835431360666626 - weight x2: -3.4723459688766773\n",
      "\n",
      "Epoch [146 / 200] - "
     ]
    },
    {
     "name": "stderr",
     "output_type": "stream",
     "text": [
      "100%|██████████| 8/8 [00:00<?, ?it/s]\n"
     ]
    },
    {
     "name": "stdout",
     "output_type": "stream",
     "text": [
      "Epoch 146 - loss: 0.1439 - weight x1: -2.8394961468540654 - weight x2: -3.476566361736339\n",
      "\n",
      "Epoch [147 / 200] - "
     ]
    },
    {
     "name": "stderr",
     "output_type": "stream",
     "text": [
      "100%|██████████| 8/8 [00:00<?, ?it/s]\n"
     ]
    },
    {
     "name": "stdout",
     "output_type": "stream",
     "text": [
      "Epoch 147 - loss: 0.1437 - weight x1: -2.8434838920549868 - weight x2: -3.480706762274537\n",
      "\n",
      "Epoch [148 / 200] - "
     ]
    },
    {
     "name": "stderr",
     "output_type": "stream",
     "text": [
      "100%|██████████| 8/8 [00:00<?, ?it/s]\n"
     ]
    },
    {
     "name": "stdout",
     "output_type": "stream",
     "text": [
      "Epoch 148 - loss: 0.1436 - weight x1: -2.847396056367779 - weight x2: -3.4847686867158534\n",
      "\n",
      "Epoch [149 / 200] - "
     ]
    },
    {
     "name": "stderr",
     "output_type": "stream",
     "text": [
      "100%|██████████| 8/8 [00:00<00:00, 7994.86it/s]\n"
     ]
    },
    {
     "name": "stdout",
     "output_type": "stream",
     "text": [
      "Epoch 149 - loss: 0.1435 - weight x1: -2.851234072226108 - weight x2: -3.4887536225390225\n",
      "\n",
      "Epoch [150 / 200] - "
     ]
    },
    {
     "name": "stderr",
     "output_type": "stream",
     "text": [
      "100%|██████████| 8/8 [00:00<?, ?it/s]\n"
     ]
    },
    {
     "name": "stdout",
     "output_type": "stream",
     "text": [
      "Epoch 150 - loss: 0.1434 - weight x1: -2.8549993449223985 - weight x2: -3.4926630290225016\n",
      "\n",
      "Epoch [151 / 200] - "
     ]
    },
    {
     "name": "stderr",
     "output_type": "stream",
     "text": [
      "100%|██████████| 8/8 [00:00<?, ?it/s]\n"
     ]
    },
    {
     "name": "stdout",
     "output_type": "stream",
     "text": [
      "Epoch 151 - loss: 0.1432 - weight x1: -2.858693253121481 - weight x2: -3.496498337779644\n",
      "\n",
      "Epoch [152 / 200] - "
     ]
    },
    {
     "name": "stderr",
     "output_type": "stream",
     "text": [
      "100%|██████████| 8/8 [00:00<00:00, 8025.46it/s]\n"
     ]
    },
    {
     "name": "stdout",
     "output_type": "stream",
     "text": [
      "Epoch 152 - loss: 0.1431 - weight x1: -2.8623171493645687 - weight x2: -3.50026095328366\n",
      "\n",
      "Epoch [153 / 200] - "
     ]
    },
    {
     "name": "stderr",
     "output_type": "stream",
     "text": [
      "100%|██████████| 8/8 [00:00<00:00, 8004.40it/s]\n"
     ]
    },
    {
     "name": "stdout",
     "output_type": "stream",
     "text": [
      "Epoch 153 - loss: 0.143 - weight x1: -2.865872360563752 - weight x2: -3.5039522533825656\n",
      "\n",
      "Epoch [154 / 200] - "
     ]
    },
    {
     "name": "stderr",
     "output_type": "stream",
     "text": [
      "100%|██████████| 8/8 [00:00<?, ?it/s]\n"
     ]
    },
    {
     "name": "stdout",
     "output_type": "stream",
     "text": [
      "Epoch 154 - loss: 0.1429 - weight x1: -2.8693601884871804 - weight x2: -3.507573589804337\n",
      "\n",
      "Epoch [155 / 200] - "
     ]
    },
    {
     "name": "stderr",
     "output_type": "stream",
     "text": [
      "100%|██████████| 8/8 [00:00<?, ?it/s]\n"
     ]
    },
    {
     "name": "stdout",
     "output_type": "stream",
     "text": [
      "Epoch 155 - loss: 0.1428 - weight x1: -2.8727819102350964 - weight x2: -3.511126288652428\n",
      "\n",
      "Epoch [156 / 200] - "
     ]
    },
    {
     "name": "stderr",
     "output_type": "stream",
     "text": [
      "100%|██████████| 8/8 [00:00<?, ?it/s]\n"
     ]
    },
    {
     "name": "stdout",
     "output_type": "stream",
     "text": [
      "Epoch 156 - loss: 0.1427 - weight x1: -2.8761387787069013 - weight x2: -3.5146116508918617\n",
      "\n",
      "Epoch [157 / 200] - "
     ]
    },
    {
     "name": "stderr",
     "output_type": "stream",
     "text": [
      "100%|██████████| 8/8 [00:00<?, ?it/s]\n"
     ]
    },
    {
     "name": "stdout",
     "output_type": "stream",
     "text": [
      "Epoch 157 - loss: 0.1426 - weight x1: -2.87943202305941 - weight x2: -3.518030952826067\n",
      "\n",
      "Epoch [158 / 200] - "
     ]
    },
    {
     "name": "stderr",
     "output_type": "stream",
     "text": [
      "100%|██████████| 8/8 [00:00<?, ?it/s]\n"
     ]
    },
    {
     "name": "stdout",
     "output_type": "stream",
     "text": [
      "Epoch 158 - loss: 0.1426 - weight x1: -2.882662849156463 - weight x2: -3.521385446564648\n",
      "\n",
      "Epoch [159 / 200] - "
     ]
    },
    {
     "name": "stderr",
     "output_type": "stream",
     "text": [
      "100%|██████████| 8/8 [00:00<00:00, 8012.04it/s]\n"
     ]
    },
    {
     "name": "stdout",
     "output_type": "stream",
     "text": [
      "Epoch 159 - loss: 0.1425 - weight x1: -2.885832440010051 - weight x2: -3.5246763604822497\n",
      "\n",
      "Epoch [160 / 200] - "
     ]
    },
    {
     "name": "stderr",
     "output_type": "stream",
     "text": [
      "100%|██████████| 8/8 [00:00<00:00, 8004.40it/s]\n"
     ]
    },
    {
     "name": "stdout",
     "output_type": "stream",
     "text": [
      "Epoch 160 - loss: 0.1424 - weight x1: -2.8889419562131082 - weight x2: -3.527904899668702\n",
      "\n",
      "Epoch [161 / 200] - "
     ]
    },
    {
     "name": "stderr",
     "output_type": "stream",
     "text": [
      "100%|██████████| 8/8 [00:00<?, ?it/s]\n"
     ]
    },
    {
     "name": "stdout",
     "output_type": "stream",
     "text": [
      "Epoch 161 - loss: 0.1423 - weight x1: -2.891992536364142 - weight x2: -3.5310722463706026\n",
      "\n",
      "Epoch [162 / 200] - "
     ]
    },
    {
     "name": "stderr",
     "output_type": "stream",
     "text": [
      "100%|██████████| 8/8 [00:00<?, ?it/s]\n"
     ]
    },
    {
     "name": "stdout",
     "output_type": "stream",
     "text": [
      "Epoch 162 - loss: 0.1422 - weight x1: -2.8949852974838364 - weight x2: -3.534179560424514\n",
      "\n",
      "Epoch [163 / 200] - "
     ]
    },
    {
     "name": "stderr",
     "output_type": "stream",
     "text": [
      "100%|██████████| 8/8 [00:00<?, ?it/s]\n"
     ]
    },
    {
     "name": "stdout",
     "output_type": "stream",
     "text": [
      "Epoch 163 - loss: 0.1422 - weight x1: -2.8979213354237787 - weight x2: -3.5372279796819175\n",
      "\n",
      "Epoch [164 / 200] - "
     ]
    },
    {
     "name": "stderr",
     "output_type": "stream",
     "text": [
      "100%|██████████| 8/8 [00:00<?, ?it/s]\n"
     ]
    },
    {
     "name": "stdout",
     "output_type": "stream",
     "text": [
      "Epoch 164 - loss: 0.1421 - weight x1: -2.9008017252674723 - weight x2: -3.5402186204261032\n",
      "\n",
      "Epoch [165 / 200] - "
     ]
    },
    {
     "name": "stderr",
     "output_type": "stream",
     "text": [
      "100%|██████████| 8/8 [00:00<?, ?it/s]\n"
     ]
    },
    {
     "name": "stdout",
     "output_type": "stream",
     "text": [
      "Epoch 165 - loss: 0.142 - weight x1: -2.903627521723765 - weight x2: -3.5431525777811377\n",
      "\n",
      "Epoch [166 / 200] - "
     ]
    },
    {
     "name": "stderr",
     "output_type": "stream",
     "text": [
      "100%|██████████| 8/8 [00:00<?, ?it/s]\n"
     ]
    },
    {
     "name": "stdout",
     "output_type": "stream",
     "text": [
      "Epoch 166 - loss: 0.142 - weight x1: -2.906399759512832 - weight x2: -3.5460309261130583\n",
      "\n",
      "Epoch [167 / 200] - "
     ]
    },
    {
     "name": "stderr",
     "output_type": "stream",
     "text": [
      "100%|██████████| 8/8 [00:00<?, ?it/s]\n"
     ]
    },
    {
     "name": "stdout",
     "output_type": "stream",
     "text": [
      "Epoch 167 - loss: 0.1419 - weight x1: -2.909119453744875 - weight x2: -3.5488547194234594\n",
      "\n",
      "Epoch [168 / 200] - "
     ]
    },
    {
     "name": "stderr",
     "output_type": "stream",
     "text": [
      "100%|██████████| 8/8 [00:00<?, ?it/s]\n"
     ]
    },
    {
     "name": "stdout",
     "output_type": "stream",
     "text": [
      "Epoch 168 - loss: 0.1418 - weight x1: -2.9117876002916416 - weight x2: -3.5516249917356\n",
      "\n",
      "Epoch [169 / 200] - "
     ]
    },
    {
     "name": "stderr",
     "output_type": "stream",
     "text": [
      "100%|██████████| 8/8 [00:00<?, ?it/s]\n"
     ]
    },
    {
     "name": "stdout",
     "output_type": "stream",
     "text": [
      "Epoch 169 - loss: 0.1418 - weight x1: -2.914405176150933 - weight x2: -3.5543427574731785\n",
      "\n",
      "Epoch [170 / 200] - "
     ]
    },
    {
     "name": "stderr",
     "output_type": "stream",
     "text": [
      "100%|██████████| 8/8 [00:00<?, ?it/s]\n"
     ]
    },
    {
     "name": "stdout",
     "output_type": "stream",
     "text": [
      "Epoch 170 - loss: 0.1417 - weight x1: -2.916973139804203 - weight x2: -3.5570090118319233\n",
      "\n",
      "Epoch [171 / 200] - "
     ]
    },
    {
     "name": "stderr",
     "output_type": "stream",
     "text": [
      "100%|██████████| 8/8 [00:00<?, ?it/s]\n"
     ]
    },
    {
     "name": "stdout",
     "output_type": "stream",
     "text": [
      "Epoch 171 - loss: 0.1417 - weight x1: -2.9194924315673996 - weight x2: -3.559624731144126\n",
      "\n",
      "Epoch [172 / 200] - "
     ]
    },
    {
     "name": "stderr",
     "output_type": "stream",
     "text": [
      "100%|██████████| 8/8 [00:00<00:00, 8008.22it/s]\n"
     ]
    },
    {
     "name": "stdout",
     "output_type": "stream",
     "text": [
      "Epoch 172 - loss: 0.1416 - weight x1: -2.921963973935159 - weight x2: -3.5621908732362617\n",
      "\n",
      "Epoch [173 / 200] - "
     ]
    },
    {
     "name": "stderr",
     "output_type": "stream",
     "text": [
      "100%|██████████| 8/8 [00:00<?, ?it/s]\n"
     ]
    },
    {
     "name": "stdout",
     "output_type": "stream",
     "text": [
      "Epoch 173 - loss: 0.1416 - weight x1: -2.9243886719184955 - weight x2: -3.564708377779816\n",
      "\n",
      "Epoch [174 / 200] - "
     ]
    },
    {
     "name": "stderr",
     "output_type": "stream",
     "text": [
      "100%|██████████| 8/8 [00:00<?, ?it/s]\n"
     ]
    },
    {
     "name": "stdout",
     "output_type": "stream",
     "text": [
      "Epoch 174 - loss: 0.1415 - weight x1: -2.9267674133760875 - weight x2: -3.5671781666354607\n",
      "\n",
      "Epoch [175 / 200] - "
     ]
    },
    {
     "name": "stderr",
     "output_type": "stream",
     "text": [
      "100%|██████████| 8/8 [00:00<?, ?it/s]\n"
     ]
    },
    {
     "name": "stdout",
     "output_type": "stream",
     "text": [
      "Epoch 175 - loss: 0.1415 - weight x1: -2.929101069339304 - weight x2: -3.5696011441906976\n",
      "\n",
      "Epoch [176 / 200] - "
     ]
    },
    {
     "name": "stderr",
     "output_type": "stream",
     "text": [
      "100%|██████████| 8/8 [00:00<?, ?it/s]\n"
     ]
    },
    {
     "name": "stdout",
     "output_type": "stream",
     "text": [
      "Epoch 176 - loss: 0.1414 - weight x1: -2.93139049433107 - weight x2: -3.571978197691097\n",
      "\n",
      "Epoch [177 / 200] - "
     ]
    },
    {
     "name": "stderr",
     "output_type": "stream",
     "text": [
      "100%|██████████| 8/8 [00:00<?, ?it/s]\n"
     ]
    },
    {
     "name": "stdout",
     "output_type": "stream",
     "text": [
      "Epoch 177 - loss: 0.1414 - weight x1: -2.933636526678695 - weight x2: -3.5743101975652487\n",
      "\n",
      "Epoch [178 / 200] - "
     ]
    },
    {
     "name": "stderr",
     "output_type": "stream",
     "text": [
      "100%|██████████| 8/8 [00:00<?, ?it/s]\n"
     ]
    },
    {
     "name": "stdout",
     "output_type": "stream",
     "text": [
      "Epoch 178 - loss: 0.1414 - weight x1: -2.935839988820786 - weight x2: -3.5765979977435607\n",
      "\n",
      "Epoch [179 / 200] - "
     ]
    },
    {
     "name": "stderr",
     "output_type": "stream",
     "text": [
      "100%|██████████| 8/8 [00:00<?, ?it/s]\n"
     ]
    },
    {
     "name": "stdout",
     "output_type": "stream",
     "text": [
      "Epoch 179 - loss: 0.1413 - weight x1: -2.938001687608335 - weight x2: -3.5788424359709925\n",
      "\n",
      "Epoch [180 / 200] - "
     ]
    },
    {
     "name": "stderr",
     "output_type": "stream",
     "text": [
      "100%|██████████| 8/8 [00:00<?, ?it/s]\n"
     ]
    },
    {
     "name": "stdout",
     "output_type": "stream",
     "text": [
      "Epoch 180 - loss: 0.1413 - weight x1: -2.94012241460012 - weight x2: -3.5810443341138773\n",
      "\n",
      "Epoch [181 / 200] - "
     ]
    },
    {
     "name": "stderr",
     "output_type": "stream",
     "text": [
      "100%|██████████| 8/8 [00:00<?, ?it/s]\n"
     ]
    },
    {
     "name": "stdout",
     "output_type": "stream",
     "text": [
      "Epoch 181 - loss: 0.1412 - weight x1: -2.942202946352497 - weight x2: -3.583204498460906\n",
      "\n",
      "Epoch [182 / 200] - "
     ]
    },
    {
     "name": "stderr",
     "output_type": "stream",
     "text": [
      "100%|██████████| 8/8 [00:00<00:00, 7962.61it/s]\n"
     ]
    },
    {
     "name": "stdout",
     "output_type": "stream",
     "text": [
      "Epoch 182 - loss: 0.1412 - weight x1: -2.944244044703715 - weight x2: -3.5853237200184216\n",
      "\n",
      "Epoch [183 / 200] - "
     ]
    },
    {
     "name": "stderr",
     "output_type": "stream",
     "text": [
      "100%|██████████| 8/8 [00:00<?, ?it/s]\n"
     ]
    },
    {
     "name": "stdout",
     "output_type": "stream",
     "text": [
      "Epoch 183 - loss: 0.1412 - weight x1: -2.946246457052838 - weight x2: -3.5874027748000916\n",
      "\n",
      "Epoch [184 / 200] - "
     ]
    },
    {
     "name": "stderr",
     "output_type": "stream",
     "text": [
      "100%|██████████| 8/8 [00:00<?, ?it/s]"
     ]
    },
    {
     "name": "stdout",
     "output_type": "stream",
     "text": [
      "Epoch 184 - loss: 0.1411 - weight x1: -2.948210916633391 - weight x2: -3.5894424241111142\n"
     ]
    },
    {
     "name": "stderr",
     "output_type": "stream",
     "text": [
      "\n"
     ]
    },
    {
     "name": "stdout",
     "output_type": "stream",
     "text": [
      "\n",
      "Epoch [185 / 200] - "
     ]
    },
    {
     "name": "stderr",
     "output_type": "stream",
     "text": [
      "100%|██████████| 8/8 [00:00<?, ?it/s]\n"
     ]
    },
    {
     "name": "stdout",
     "output_type": "stream",
     "text": [
      "Epoch 185 - loss: 0.1411 - weight x1: -2.9501381427818116 - weight x2: -3.591443414827012\n",
      "\n",
      "Epoch [186 / 200] - "
     ]
    },
    {
     "name": "stderr",
     "output_type": "stream",
     "text": [
      "100%|██████████| 8/8 [00:00<?, ?it/s]\n"
     ]
    },
    {
     "name": "stdout",
     "output_type": "stream",
     "text": [
      "Epoch 186 - loss: 0.1411 - weight x1: -2.952028841200827 - weight x2: -3.5934064796671468\n",
      "\n",
      "Epoch [187 / 200] - "
     ]
    },
    {
     "name": "stderr",
     "output_type": "stream",
     "text": [
      "100%|██████████| 8/8 [00:00<?, ?it/s]\n"
     ]
    },
    {
     "name": "stdout",
     "output_type": "stream",
     "text": [
      "Epoch 187 - loss: 0.1411 - weight x1: -2.9538837042178376 - weight x2: -3.595332337463057\n",
      "\n",
      "Epoch [188 / 200] - "
     ]
    },
    {
     "name": "stderr",
     "output_type": "stream",
     "text": [
      "100%|██████████| 8/8 [00:00<?, ?it/s]\n"
     ]
    },
    {
     "name": "stdout",
     "output_type": "stream",
     "text": [
      "Epoch 188 - loss: 0.141 - weight x1: -2.955703411038402 - weight x2: -3.5972216934216923\n",
      "\n",
      "Epoch [189 / 200] - "
     ]
    },
    {
     "name": "stderr",
     "output_type": "stream",
     "text": [
      "100%|██████████| 8/8 [00:00<00:00, 7998.67it/s]\n"
     ]
    },
    {
     "name": "stdout",
     "output_type": "stream",
     "text": [
      "Epoch 189 - loss: 0.141 - weight x1: -2.9574886279949246 - weight x2: -3.5990752393836707\n",
      "\n",
      "Epoch [190 / 200] - "
     ]
    },
    {
     "name": "stderr",
     "output_type": "stream",
     "text": [
      "100%|██████████| 8/8 [00:00<?, ?it/s]\n"
     ]
    },
    {
     "name": "stdout",
     "output_type": "stream",
     "text": [
      "Epoch 190 - loss: 0.141 - weight x1: -2.9592400087906303 - weight x2: -3.600893654076629\n",
      "\n",
      "Epoch [191 / 200] - "
     ]
    },
    {
     "name": "stderr",
     "output_type": "stream",
     "text": [
      "100%|██████████| 8/8 [00:00<?, ?it/s]\n"
     ]
    },
    {
     "name": "stdout",
     "output_type": "stream",
     "text": [
      "Epoch 191 - loss: 0.141 - weight x1: -2.960958194738913 - weight x2: -3.6026776033637766\n",
      "\n",
      "Epoch [192 / 200] - "
     ]
    },
    {
     "name": "stderr",
     "output_type": "stream",
     "text": [
      "100%|██████████| 8/8 [00:00<?, ?it/s]\n"
     ]
    },
    {
     "name": "stdout",
     "output_type": "stream",
     "text": [
      "Epoch 192 - loss: 0.1409 - weight x1: -2.962643814998156 - weight x2: -3.604427740487733\n",
      "\n",
      "Epoch [193 / 200] - "
     ]
    },
    {
     "name": "stderr",
     "output_type": "stream",
     "text": [
      "100%|██████████| 8/8 [00:00<00:00, 7998.67it/s]\n"
     ]
    },
    {
     "name": "stdout",
     "output_type": "stream",
     "text": [
      "Epoch 193 - loss: 0.1409 - weight x1: -2.964297486802095 - weight x2: -3.6061447063097463\n",
      "\n",
      "Epoch [194 / 200] - "
     ]
    },
    {
     "name": "stderr",
     "output_type": "stream",
     "text": [
      "100%|██████████| 8/8 [00:00<?, ?it/s]\n"
     ]
    },
    {
     "name": "stdout",
     "output_type": "stream",
     "text": [
      "Epoch 194 - loss: 0.1409 - weight x1: -2.9659198156858215 - weight x2: -3.607829129544372\n",
      "\n",
      "Epoch [195 / 200] - "
     ]
    },
    {
     "name": "stderr",
     "output_type": "stream",
     "text": [
      "100%|██████████| 8/8 [00:00<?, ?it/s]\n"
     ]
    },
    {
     "name": "stdout",
     "output_type": "stream",
     "text": [
      "Epoch 195 - loss: 0.1409 - weight x1: -2.9675113957075054 - weight x2: -3.609481626989707\n",
      "\n",
      "Epoch [196 / 200] - "
     ]
    },
    {
     "name": "stderr",
     "output_type": "stream",
     "text": [
      "100%|██████████| 8/8 [00:00<00:00, 5289.16it/s]\n"
     ]
    },
    {
     "name": "stdout",
     "output_type": "stream",
     "text": [
      "Epoch 196 - loss: 0.1408 - weight x1: -2.9690728096659105 - weight x2: -3.611102803753258\n",
      "\n",
      "Epoch [197 / 200] - "
     ]
    },
    {
     "name": "stderr",
     "output_type": "stream",
     "text": [
      "100%|██████████| 8/8 [00:00<00:00, 7940.00it/s]\n"
     ]
    },
    {
     "name": "stdout",
     "output_type": "stream",
     "text": [
      "Epoch 197 - loss: 0.1408 - weight x1: -2.9706046293137898 - weight x2: -3.6126932534735237\n",
      "\n",
      "Epoch [198 / 200] - "
     ]
    },
    {
     "name": "stderr",
     "output_type": "stream",
     "text": [
      "100%|██████████| 8/8 [00:00<00:00, 5313.45it/s]\n"
     ]
    },
    {
     "name": "stdout",
     "output_type": "stream",
     "text": [
      "Epoch 198 - loss: 0.1408 - weight x1: -2.97210741556724 - weight x2: -3.6142535585373845\n",
      "\n",
      "Epoch [199 / 200] - "
     ]
    },
    {
     "name": "stderr",
     "output_type": "stream",
     "text": [
      "100%|██████████| 8/8 [00:00<?, ?it/s]\n"
     ]
    },
    {
     "name": "stdout",
     "output_type": "stream",
     "text": [
      "Epoch 199 - loss: 0.1408 - weight x1: -2.9735817187110882 - weight x2: -3.615784290293365\n",
      "\n",
      "Epoch [200 / 200] - "
     ]
    },
    {
     "name": "stderr",
     "output_type": "stream",
     "text": [
      "100%|██████████| 8/8 [00:00<?, ?it/s]\n"
     ]
    },
    {
     "name": "stdout",
     "output_type": "stream",
     "text": [
      "Epoch 200 - loss: 0.1408 - weight x1: -2.9750280786003835 - weight x2: -3.6172860092608556\n",
      "\n"
     ]
    },
    {
     "data": {
      "image/png": "[encoded data removed]",
      "text/plain": [
       "<Figure size 1000x600 with 1 Axes>"
      ]
     },
     "metadata": {},
     "output_type": "display_data"
    }
   ],
   "source": [
    "model = AdalineLMS(feature, label);\n",
    "model.train();"
   ]
  },
  {
   "cell_type": "code",
   "execution_count": 30,
   "metadata": {},
   "outputs": [
    {
     "data": {
      "image/png": "[encoded data removed]",
      "text/plain": [
       "<Figure size 640x480 with 1 Axes>"
      ]
     },
     "metadata": {},
     "output_type": "display_data"
    },
    {
     "name": "stdout",
     "output_type": "stream",
     "text": [
      "Final weights - weight_x1: -2.9750280786003835 - weight_x2: -3.6172860092608556 - bias: 3.4551537606754774\n"
     ]
    }
   ],
   "source": [
    "# Plot decision boundary\n",
    "\n",
    "for i in range(len(label)):\n",
    "\n",
    "    if label[i] == 1:\n",
    "        plt.scatter(feature[i][0], feature[i][1], color='blue', marker='o', label='1' if i == 0 else \"\");\n",
    "    else:\n",
    "        plt.scatter(feature[i][0], feature[i][1], color='red', marker='x', label='-1' if i == 0 else \"\");\n",
    "\n",
    "# Plotting the decision boundary\n",
    "x1_min, x1_max = min(feature[:, 0]), max(feature[:, 0]); # Get min-max for x1\n",
    "\n",
    "# Get min-max for x2\n",
    "x2_min = (-model.weight_x1 * x1_min - model.bias) / model.weight_x2;\n",
    "x2_max = (-model.weight_x1 * x1_max - model.bias) / model.weight_x2;\n",
    "\n",
    "plt.plot([x1_min, x1_max], [x2_min, x2_max], 'k--', label='Decision Boundary'); #\n",
    "plt.xlabel('Feature 1');\n",
    "plt.ylabel('Feature 2');\n",
    "plt.title('Decision Boundary');\n",
    "plt.legend();\n",
    "plt.show();\n",
    "\n",
    "print(f\"Final weights - weight_x1: {model.weight_x1} - weight_x2: {model.weight_x2} - bias: {model.bias}\");"
   ]
  }
 ],
 "metadata": {
  "kernelspec": {
   "display_name": "base",
   "language": "python",
   "name": "python3"
  },
  "language_info": {
   "codemirror_mode": {
    "name": "ipython",
    "version": 3
   },
   "file_extension": ".py",
   "mimetype": "text/x-python",
   "name": "python",
   "nbconvert_exporter": "python",
   "pygments_lexer": "ipython3",
   "version": "3.10.9"
  }
 },
 "nbformat": 4,
 "nbformat_minor": 2
}

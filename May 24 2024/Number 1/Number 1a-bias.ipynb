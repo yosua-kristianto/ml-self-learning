{
 "cells": [
  {
   "cell_type": "code",
   "execution_count": 1,
   "metadata": {},
   "outputs": [],
   "source": [
    "import numpy;\n",
    "import matplotlib.pyplot as plt;\n",
    "\n",
    "from tensorflow.keras.initializers import TruncatedNormal;\n",
    "\n",
    "from tqdm import tqdm;"
   ]
  },
  {
   "cell_type": "code",
   "execution_count": 2,
   "metadata": {},
   "outputs": [],
   "source": [
    "# Training data\n",
    "feature = numpy.array(\n",
    "    [\n",
    "        [0.08, 0.72], [0.26, 0.58], [0.45, 0.15], \n",
    "        [0.60, 0.30], [0.10, 1.0], [0.35, 0.95], \n",
    "        [0.70, 0.65], [0.92, 0.45]\n",
    "    ]);\n",
    "\n",
    "label = numpy.array([1, 1, 1, 1, -1, -1, -1, -1]);"
   ]
  },
  {
   "cell_type": "code",
   "execution_count": 3,
   "metadata": {},
   "outputs": [],
   "source": [
    "class AdalineLMS:\n",
    "\n",
    "    # Hyperparameters\n",
    "    def __init__(self, feature, label):\n",
    "        \n",
    "        self.learning_rate = 1e-1;\n",
    "        self.epoch = 200;\n",
    "\n",
    "        initializer = TruncatedNormal(mean = 0.5, stddev = 0.02)(shape = (1, 3)).numpy();\n",
    "\n",
    "        # Weight initial\n",
    "        self.weight_x1 = initializer[0][0];\n",
    "        self.weight_x2 = initializer[0][1];\n",
    "\n",
    "        # Bias just in case\n",
    "        self.bias = initializer[0][2];\n",
    "\n",
    "        # Load dataset\n",
    "        self.feature = feature;\n",
    "        self.label = label;\n",
    "    \n",
    "        print(\"AdalineLMS initial configuration:\");\n",
    "        print(f\"weight x1 {self.weight_x1} - weight x2: {self.weight_x2} - bias: {self.bias}\");\n",
    "        print(\"\\n\\n\\n\");\n",
    "\n",
    "    # Mean Squared Error\n",
    "    def _mse(self, prediction):\n",
    "        return numpy.mean((self.label - prediction) ** 2);\n",
    "\n",
    "    # Feed Forward process\n",
    "    def forward(self):\n",
    "        predictions = [];\n",
    "\n",
    "        for i in self.feature:\n",
    "            prediction = (self.weight_x1 * i[0]) + (self.weight_x2 * i[1]) + self.bias;\n",
    "\n",
    "            predictions.append(prediction);\n",
    "\n",
    "        return predictions;\n",
    "\n",
    "    # Learning Rule: LMS Implementation\n",
    "    def learning_rule(self, predictions):\n",
    "\n",
    "        # new weight x1 = current weight + (learning rate x (ground truth - prediction) x x1\n",
    "        for i in tqdm(range(len(self.feature))):\n",
    "            truth_difference = (self.label[i] - predictions[i]);\n",
    "\n",
    "            new_weight_x1 = (self.weight_x1 + (self.learning_rate * truth_difference * self.feature[i][0]));\n",
    "            new_weight_x2 = (self.weight_x2 + (self.learning_rate * truth_difference * self.feature[i][1]));\n",
    "            new_bias = self.bias + self.learning_rate * truth_difference;\n",
    "\n",
    "            # print(f\"new_weight_x1: {new_weight[0]} - new_weight_x2: {new_weight[1]}\")\n",
    "    \n",
    "            self.weight_x1 = new_weight_x1;\n",
    "            self.weight_x2 = new_weight_x2;\n",
    "            self.bias = new_bias;\n",
    "    \n",
    "    def train(self):\n",
    "\n",
    "        loss_history = [];\n",
    "        \n",
    "        # Loop 200 epochs\n",
    "        for i in range(self.epoch):\n",
    "            \n",
    "            print(f\"Epoch [{i + 1} / {self.epoch}] -\", end = \" \");\n",
    "\n",
    "            loss = 0.0;\n",
    "\n",
    "            # Forward pass \n",
    "            predictions = self.forward();\n",
    "\n",
    "            # Count current epoch's loss\n",
    "            loss = self._mse(predictions);\n",
    "\n",
    "            # Apply LMS to update weight\n",
    "            self.learning_rule(predictions);\n",
    "                \n",
    "\n",
    "            loss_history.append(loss);\n",
    "            print(f\"Epoch {i + 1} - loss: {round(loss, 4)} - weight x1: {self.weight_x1} - weight x2: {self.weight_x2}\\n\");\n",
    "\n",
    "         # Plotting MSE curve\n",
    "        plt.figure(figsize=(10, 6));\n",
    "        plt.plot(range(self.epoch), loss_history, label='MSE');\n",
    "        plt.xlabel('Epoch');\n",
    "        plt.ylabel('Mean Squared Error');\n",
    "        plt.title('MSE over Epochs');\n",
    "        plt.legend();\n",
    "        plt.show()           \n"
   ]
  },
  {
   "cell_type": "code",
   "execution_count": 4,
   "metadata": {},
   "outputs": [
    {
     "name": "stdout",
     "output_type": "stream",
     "text": [
      "AdalineLMS initial configuration:\n",
      "weight x1 0.4853249192237854 - weight x2: 0.4947303831577301 - bias: 0.5065215229988098\n",
      "\n",
      "\n",
      "\n",
      "\n",
      "Epoch [1 / 200] - "
     ]
    },
    {
     "name": "stderr",
     "output_type": "stream",
     "text": [
      "100%|██████████| 8/8 [00:00<?, ?it/s]\n"
     ]
    },
    {
     "name": "stdout",
     "output_type": "stream",
     "text": [
      "Epoch 1 - loss: 2.2876 - weight x1: 0.0529442462366819 - weight x2: -0.13658932349205033\n",
      "\n",
      "Epoch [2 / 200] - "
     ]
    },
    {
     "name": "stderr",
     "output_type": "stream",
     "text": [
      "100%|██████████| 8/8 [00:00<?, ?it/s]\n"
     ]
    },
    {
     "name": "stdout",
     "output_type": "stream",
     "text": [
      "Epoch 2 - loss: 1.0987 - weight x1: 0.10301626301761672 - weight x2: -0.08219593189534144\n",
      "\n",
      "Epoch [3 / 200] - "
     ]
    },
    {
     "name": "stderr",
     "output_type": "stream",
     "text": [
      "100%|██████████| 8/8 [00:00<00:00, 8025.46it/s]\n"
     ]
    },
    {
     "name": "stdout",
     "output_type": "stream",
     "text": [
      "Epoch 3 - loss: 0.9931 - weight x1: 0.03246878874470846 - weight x2: -0.19505886006558543\n",
      "\n",
      "Epoch [4 / 200] - "
     ]
    },
    {
     "name": "stderr",
     "output_type": "stream",
     "text": [
      "100%|██████████| 8/8 [00:00<?, ?it/s]\n"
     ]
    },
    {
     "name": "stdout",
     "output_type": "stream",
     "text": [
      "Epoch 4 - loss: 0.956 - weight x1: -0.008466660061131087 - weight x2: -0.263121693207843\n",
      "\n",
      "Epoch [5 / 200] - "
     ]
    },
    {
     "name": "stderr",
     "output_type": "stream",
     "text": [
      "100%|██████████| 8/8 [00:00<?, ?it/s]\n"
     ]
    },
    {
     "name": "stdout",
     "output_type": "stream",
     "text": [
      "Epoch 5 - loss: 0.9244 - weight x1: -0.05702724787213602 - weight x2: -0.3393323256756092\n",
      "\n",
      "Epoch [6 / 200] - "
     ]
    },
    {
     "name": "stderr",
     "output_type": "stream",
     "text": [
      "100%|██████████| 8/8 [00:00<?, ?it/s]\n"
     ]
    },
    {
     "name": "stdout",
     "output_type": "stream",
     "text": [
      "Epoch 6 - loss: 0.8944 - weight x1: -0.10381614663166622 - weight x2: -0.4106807435053251\n",
      "\n",
      "Epoch [7 / 200] - "
     ]
    },
    {
     "name": "stderr",
     "output_type": "stream",
     "text": [
      "100%|██████████| 8/8 [00:00<?, ?it/s]\n"
     ]
    },
    {
     "name": "stdout",
     "output_type": "stream",
     "text": [
      "Epoch 7 - loss: 0.8656 - weight x1: -0.15105498359882744 - weight x2: -0.4805566903278751\n",
      "\n",
      "Epoch [8 / 200] - "
     ]
    },
    {
     "name": "stderr",
     "output_type": "stream",
     "text": [
      "100%|██████████| 8/8 [00:00<?, ?it/s]\n"
     ]
    },
    {
     "name": "stdout",
     "output_type": "stream",
     "text": [
      "Epoch 8 - loss: 0.838 - weight x1: -0.1980870107537541 - weight x2: -0.5482570248450135\n",
      "\n",
      "Epoch [9 / 200] - "
     ]
    },
    {
     "name": "stderr",
     "output_type": "stream",
     "text": [
      "100%|██████████| 8/8 [00:00<?, ?it/s]\n"
     ]
    },
    {
     "name": "stdout",
     "output_type": "stream",
     "text": [
      "Epoch 9 - loss: 0.8114 - weight x1: -0.2449832707415756 - weight x2: -0.6140861595540655\n",
      "\n",
      "Epoch [10 / 200] - "
     ]
    },
    {
     "name": "stderr",
     "output_type": "stream",
     "text": [
      "100%|██████████| 8/8 [00:00<?, ?it/s]\n"
     ]
    },
    {
     "name": "stdout",
     "output_type": "stream",
     "text": [
      "Epoch 10 - loss: 0.786 - weight x1: -0.29164414026090496 - weight x2: -0.6780878399876111\n",
      "\n",
      "Epoch [11 / 200] - "
     ]
    },
    {
     "name": "stderr",
     "output_type": "stream",
     "text": [
      "100%|██████████| 8/8 [00:00<?, ?it/s]\n"
     ]
    },
    {
     "name": "stdout",
     "output_type": "stream",
     "text": [
      "Epoch 11 - loss: 0.7615 - weight x1: -0.3380219023940474 - weight x2: -0.740361607520232\n",
      "\n",
      "Epoch [12 / 200] - "
     ]
    },
    {
     "name": "stderr",
     "output_type": "stream",
     "text": [
      "100%|██████████| 8/8 [00:00<?, ?it/s]\n"
     ]
    },
    {
     "name": "stdout",
     "output_type": "stream",
     "text": [
      "Epoch 12 - loss: 0.738 - weight x1: -0.3840644558036353 - weight x2: -0.8009848503571965\n",
      "\n",
      "Epoch [13 / 200] - "
     ]
    },
    {
     "name": "stderr",
     "output_type": "stream",
     "text": [
      "100%|██████████| 8/8 [00:00<?, ?it/s]\n"
     ]
    },
    {
     "name": "stdout",
     "output_type": "stream",
     "text": [
      "Epoch 13 - loss: 0.7154 - weight x1: -0.4297285002499774 - weight x2: -0.8600329266256705\n",
      "\n",
      "Epoch [14 / 200] - "
     ]
    },
    {
     "name": "stderr",
     "output_type": "stream",
     "text": [
      "100%|██████████| 8/8 [00:00<00:00, 8027.38it/s]\n"
     ]
    },
    {
     "name": "stdout",
     "output_type": "stream",
     "text": [
      "Epoch 14 - loss: 0.6937 - weight x1: -0.47497551013506556 - weight x2: -0.9175748169836138\n",
      "\n",
      "Epoch [15 / 200] - "
     ]
    },
    {
     "name": "stderr",
     "output_type": "stream",
     "text": [
      "100%|██████████| 8/8 [00:00<?, ?it/s]\n"
     ]
    },
    {
     "name": "stdout",
     "output_type": "stream",
     "text": [
      "Epoch 15 - loss: 0.6728 - weight x1: -0.519772060455029 - weight x2: -0.9736748062469176\n",
      "\n",
      "Epoch [16 / 200] - "
     ]
    },
    {
     "name": "stderr",
     "output_type": "stream",
     "text": [
      "100%|██████████| 8/8 [00:00<?, ?it/s]\n"
     ]
    },
    {
     "name": "stdout",
     "output_type": "stream",
     "text": [
      "Epoch 16 - loss: 0.6527 - weight x1: -0.5640891326850621 - weight x2: -1.028392610102409\n",
      "\n",
      "Epoch [17 / 200] - "
     ]
    },
    {
     "name": "stderr",
     "output_type": "stream",
     "text": [
      "100%|██████████| 8/8 [00:00<?, ?it/s]\n"
     ]
    },
    {
     "name": "stdout",
     "output_type": "stream",
     "text": [
      "Epoch 17 - loss: 0.6334 - weight x1: -0.6079017316586877 - weight x2: -1.0817838391148136\n",
      "\n",
      "Epoch [18 / 200] - "
     ]
    },
    {
     "name": "stderr",
     "output_type": "stream",
     "text": [
      "100%|██████████| 8/8 [00:00<?, ?it/s]\n"
     ]
    },
    {
     "name": "stdout",
     "output_type": "stream",
     "text": [
      "Epoch 18 - loss: 0.6149 - weight x1: -0.6511884769372707 - weight x2: -1.1339003337370144\n",
      "\n",
      "Epoch [19 / 200] - "
     ]
    },
    {
     "name": "stderr",
     "output_type": "stream",
     "text": [
      "100%|██████████| 8/8 [00:00<?, ?it/s]\n"
     ]
    },
    {
     "name": "stdout",
     "output_type": "stream",
     "text": [
      "Epoch 19 - loss: 0.597 - weight x1: -0.6939312476090023 - weight x2: -1.184790490499123\n",
      "\n",
      "Epoch [20 / 200] - "
     ]
    },
    {
     "name": "stderr",
     "output_type": "stream",
     "text": [
      "100%|██████████| 8/8 [00:00<00:00, 8013.96it/s]\n"
     ]
    },
    {
     "name": "stdout",
     "output_type": "stream",
     "text": [
      "Epoch 20 - loss: 0.5798 - weight x1: -0.7361148565205622 - weight x2: -1.2344995532341292\n",
      "\n",
      "Epoch [21 / 200] - "
     ]
    },
    {
     "name": "stderr",
     "output_type": "stream",
     "text": [
      "100%|██████████| 8/8 [00:00<00:00, 8008.22it/s]\n"
     ]
    },
    {
     "name": "stdout",
     "output_type": "stream",
     "text": [
      "Epoch 21 - loss: 0.5633 - weight x1: -0.7777267559609058 - weight x2: -1.2830698792607322\n",
      "\n",
      "Epoch [22 / 200] - "
     ]
    },
    {
     "name": "stderr",
     "output_type": "stream",
     "text": [
      "100%|██████████| 8/8 [00:00<?, ?it/s]\n"
     ]
    },
    {
     "name": "stdout",
     "output_type": "stream",
     "text": [
      "Epoch 22 - loss: 0.5474 - weight x1: -0.8187567707074653 - weight x2: -1.3305411811553582\n",
      "\n",
      "Epoch [23 / 200] - "
     ]
    },
    {
     "name": "stderr",
     "output_type": "stream",
     "text": [
      "100%|██████████| 8/8 [00:00<00:00, 8035.07it/s]\n"
     ]
    },
    {
     "name": "stdout",
     "output_type": "stream",
     "text": [
      "Epoch 23 - loss: 0.5321 - weight x1: -0.8591968561962811 - weight x2: -1.376950746770961\n",
      "\n",
      "Epoch [24 / 200] - "
     ]
    },
    {
     "name": "stderr",
     "output_type": "stream",
     "text": [
      "100%|██████████| 8/8 [00:00<?, ?it/s]\n"
     ]
    },
    {
     "name": "stdout",
     "output_type": "stream",
     "text": [
      "Epoch 24 - loss: 0.5173 - weight x1: -0.8990408794174457 - weight x2: -1.422333639396783\n",
      "\n",
      "Epoch [25 / 200] - "
     ]
    },
    {
     "name": "stderr",
     "output_type": "stream",
     "text": [
      "100%|██████████| 8/8 [00:00<?, ?it/s]\n"
     ]
    },
    {
     "name": "stdout",
     "output_type": "stream",
     "text": [
      "Epoch 25 - loss: 0.5032 - weight x1: -0.9382844204498729 - weight x2: -1.4667228799077356\n",
      "\n",
      "Epoch [26 / 200] - "
     ]
    },
    {
     "name": "stderr",
     "output_type": "stream",
     "text": [
      "100%|██████████| 8/8 [00:00<?, ?it/s]\n"
     ]
    },
    {
     "name": "stdout",
     "output_type": "stream",
     "text": [
      "Epoch 26 - loss: 0.4895 - weight x1: -0.9769245927192411 - weight x2: -1.51014961254962\n",
      "\n",
      "Epoch [27 / 200] - "
     ]
    },
    {
     "name": "stderr",
     "output_type": "stream",
     "text": [
      "100%|██████████| 8/8 [00:00<?, ?it/s]\n"
     ]
    },
    {
     "name": "stdout",
     "output_type": "stream",
     "text": [
      "Epoch 27 - loss: 0.4764 - weight x1: -1.0149598802454896 - weight x2: -1.5526432558627368\n",
      "\n",
      "Epoch [28 / 200] - "
     ]
    },
    {
     "name": "stderr",
     "output_type": "stream",
     "text": [
      "100%|██████████| 8/8 [00:00<00:00, 15701.65it/s]\n"
     ]
    },
    {
     "name": "stdout",
     "output_type": "stream",
     "text": [
      "Epoch 28 - loss: 0.4638 - weight x1: -1.0523899903048701 - weight x2: -1.5942316401060173\n",
      "\n",
      "Epoch [29 / 200] - "
     ]
    },
    {
     "name": "stderr",
     "output_type": "stream",
     "text": [
      "100%|██████████| 8/8 [00:00<?, ?it/s]\n"
     ]
    },
    {
     "name": "stdout",
     "output_type": "stream",
     "text": [
      "Epoch 29 - loss: 0.4516 - weight x1: -1.0892157200773205 - weight x2: -1.6349411324188403\n",
      "\n",
      "Epoch [30 / 200] - "
     ]
    },
    {
     "name": "stderr",
     "output_type": "stream",
     "text": [
      "100%|██████████| 8/8 [00:00<?, ?it/s]\n"
     ]
    },
    {
     "name": "stdout",
     "output_type": "stream",
     "text": [
      "Epoch 30 - loss: 0.4399 - weight x1: -1.1254388359817935 - weight x2: -1.6747967508436252\n",
      "\n",
      "Epoch [31 / 200] - "
     ]
    },
    {
     "name": "stderr",
     "output_type": "stream",
     "text": [
      "100%|██████████| 8/8 [00:00<?, ?it/s]\n"
     ]
    },
    {
     "name": "stdout",
     "output_type": "stream",
     "text": [
      "Epoch 31 - loss: 0.4287 - weight x1: -1.1610619645219935 - weight x2: -1.713822268228879\n",
      "\n",
      "Epoch [32 / 200] - "
     ]
    },
    {
     "name": "stderr",
     "output_type": "stream",
     "text": [
      "100%|██████████| 8/8 [00:00<?, ?it/s]\n"
     ]
    },
    {
     "name": "stdout",
     "output_type": "stream",
     "text": [
      "Epoch 32 - loss: 0.4178 - weight x1: -1.1960884935737088 - weight x2: -1.7520403069384876\n",
      "\n",
      "Epoch [33 / 200] - "
     ]
    },
    {
     "name": "stderr",
     "output_type": "stream",
     "text": [
      "100%|██████████| 8/8 [00:00<00:00, 8017.79it/s]\n"
     ]
    },
    {
     "name": "stdout",
     "output_type": "stream",
     "text": [
      "Epoch 33 - loss: 0.4074 - weight x1: -1.230522483143641 - weight x2: -1.7894724252077943\n",
      "\n",
      "Epoch [34 / 200] - "
     ]
    },
    {
     "name": "stderr",
     "output_type": "stream",
     "text": [
      "100%|██████████| 8/8 [00:00<?, ?it/s]\n"
     ]
    },
    {
     "name": "stdout",
     "output_type": "stream",
     "text": [
      "Epoch 34 - loss: 0.3974 - weight x1: -1.2643685847192374 - weight x2: -1.8261391959096223\n",
      "\n",
      "Epoch [35 / 200] - "
     ]
    },
    {
     "name": "stderr",
     "output_type": "stream",
     "text": [
      "100%|██████████| 8/8 [00:00<00:00, 8008.22it/s]\n"
     ]
    },
    {
     "name": "stdout",
     "output_type": "stream",
     "text": [
      "Epoch 35 - loss: 0.3877 - weight x1: -1.297631968410362 - weight x2: -1.8620602784231626\n",
      "\n",
      "Epoch [36 / 200] - "
     ]
    },
    {
     "name": "stderr",
     "output_type": "stream",
     "text": [
      "100%|██████████| 8/8 [00:00<?, ?it/s]\n"
     ]
    },
    {
     "name": "stdout",
     "output_type": "stream",
     "text": [
      "Epoch 36 - loss: 0.3784 - weight x1: -1.33031825715749 - weight x2: -1.8972544842348653\n",
      "\n",
      "Epoch [37 / 200] - "
     ]
    },
    {
     "name": "stderr",
     "output_type": "stream",
     "text": [
      "100%|██████████| 8/8 [00:00<?, ?it/s]\n"
     ]
    },
    {
     "name": "stdout",
     "output_type": "stream",
     "text": [
      "Epoch 37 - loss: 0.3695 - weight x1: -1.3624334673481173 - weight x2: -1.9317398368425904\n",
      "\n",
      "Epoch [38 / 200] - "
     ]
    },
    {
     "name": "stderr",
     "output_type": "stream",
     "text": [
      "100%|██████████| 8/8 [00:00<?, ?it/s]\n"
     ]
    },
    {
     "name": "stdout",
     "output_type": "stream",
     "text": [
      "Epoch 38 - loss: 0.3609 - weight x1: -1.3939839552439204 - weight x2: -1.9655336264817092\n",
      "\n",
      "Epoch [39 / 200] - "
     ]
    },
    {
     "name": "stderr",
     "output_type": "stream",
     "text": [
      "100%|██████████| 8/8 [00:00<?, ?it/s]\n"
     ]
    },
    {
     "name": "stdout",
     "output_type": "stream",
     "text": [
      "Epoch 39 - loss: 0.3526 - weight x1: -1.4249763686764332 - weight x2: -1.998652460144148\n",
      "\n",
      "Epoch [40 / 200] - "
     ]
    },
    {
     "name": "stderr",
     "output_type": "stream",
     "text": [
      "100%|██████████| 8/8 [00:00<?, ?it/s]\n"
     ]
    },
    {
     "name": "stdout",
     "output_type": "stream",
     "text": [
      "Epoch 40 - loss: 0.3446 - weight x1: -1.4554176035191204 - weight x2: -2.031112307318038\n",
      "\n",
      "Epoch [41 / 200] - "
     ]
    },
    {
     "name": "stderr",
     "output_type": "stream",
     "text": [
      "100%|██████████| 8/8 [00:00<?, ?it/s]\n"
     ]
    },
    {
     "name": "stdout",
     "output_type": "stream",
     "text": [
      "Epoch 41 - loss: 0.337 - weight x1: -1.4853147644892521 - weight x2: -2.062928541836326\n",
      "\n",
      "Epoch [42 / 200] - "
     ]
    },
    {
     "name": "stderr",
     "output_type": "stream",
     "text": [
      "100%|██████████| 8/8 [00:00<?, ?it/s]\n"
     ]
    },
    {
     "name": "stdout",
     "output_type": "stream",
     "text": [
      "Epoch 42 - loss: 0.3296 - weight x1: -1.5146751298742676 - weight x2: -2.094115980187006\n",
      "\n",
      "Epoch [43 / 200] - "
     ]
    },
    {
     "name": "stderr",
     "output_type": "stream",
     "text": [
      "100%|██████████| 8/8 [00:00<?, ?it/s]\n"
     ]
    },
    {
     "name": "stdout",
     "output_type": "stream",
     "text": [
      "Epoch 43 - loss: 0.3225 - weight x1: -1.5435061198148268 - weight x2: -2.1246889166052076\n",
      "\n",
      "Epoch [44 / 200] - "
     ]
    },
    {
     "name": "stderr",
     "output_type": "stream",
     "text": [
      "100%|██████████| 8/8 [00:00<?, ?it/s]\n"
     ]
    },
    {
     "name": "stdout",
     "output_type": "stream",
     "text": [
      "Epoch 44 - loss: 0.3156 - weight x1: -1.5718152678107704 - weight x2: -2.154661155237979\n",
      "\n",
      "Epoch [45 / 200] - "
     ]
    },
    {
     "name": "stderr",
     "output_type": "stream",
     "text": [
      "100%|██████████| 8/8 [00:00<?, ?it/s]\n"
     ]
    },
    {
     "name": "stdout",
     "output_type": "stream",
     "text": [
      "Epoch 45 - loss: 0.3091 - weight x1: -1.5996101951471042 - weight x2: -2.1840460396458745\n",
      "\n",
      "Epoch [46 / 200] - "
     ]
    },
    {
     "name": "stderr",
     "output_type": "stream",
     "text": [
      "100%|██████████| 8/8 [00:00<?, ?it/s]\n"
     ]
    },
    {
     "name": "stdout",
     "output_type": "stream",
     "text": [
      "Epoch 46 - loss: 0.3027 - weight x1: -1.6268985879651716 - weight x2: -2.212856479881231\n",
      "\n",
      "Epoch [47 / 200] - "
     ]
    },
    {
     "name": "stderr",
     "output_type": "stream",
     "text": [
      "100%|██████████| 8/8 [00:00<?, ?it/s]\n"
     ]
    },
    {
     "name": "stdout",
     "output_type": "stream",
     "text": [
      "Epoch 47 - loss: 0.2966 - weight x1: -1.6536881767296154 - weight x2: -2.2411049773609695\n",
      "\n",
      "Epoch [48 / 200] - "
     ]
    },
    {
     "name": "stderr",
     "output_type": "stream",
     "text": [
      "100%|██████████| 8/8 [00:00<?, ?it/s]\n"
     ]
    },
    {
     "name": "stdout",
     "output_type": "stream",
     "text": [
      "Epoch 48 - loss: 0.2908 - weight x1: -1.679986717864851 - weight x2: -2.2688036477318128\n",
      "\n",
      "Epoch [49 / 200] - "
     ]
    },
    {
     "name": "stderr",
     "output_type": "stream",
     "text": [
      "100%|██████████| 8/8 [00:00<?, ?it/s]\n"
     ]
    },
    {
     "name": "stdout",
     "output_type": "stream",
     "text": [
      "Epoch 49 - loss: 0.2851 - weight x1: -1.70580197735573 - weight x2: -2.295964241907635\n",
      "\n",
      "Epoch [50 / 200] - "
     ]
    },
    {
     "name": "stderr",
     "output_type": "stream",
     "text": [
      "100%|██████████| 8/8 [00:00<00:00, 7913.78it/s]\n"
     ]
    },
    {
     "name": "stdout",
     "output_type": "stream",
     "text": [
      "Epoch 50 - loss: 0.2797 - weight x1: -1.7311417161261213 - weight x2: -2.322598165442204\n",
      "\n",
      "Epoch [51 / 200] - "
     ]
    },
    {
     "name": "stderr",
     "output_type": "stream",
     "text": [
      "100%|██████████| 8/8 [00:00<?, ?it/s]\n"
     ]
    },
    {
     "name": "stdout",
     "output_type": "stream",
     "text": [
      "Epoch 51 - loss: 0.2744 - weight x1: -1.756013677026396 - weight x2: -2.348716496385606\n",
      "\n",
      "Epoch [52 / 200] - "
     ]
    },
    {
     "name": "stderr",
     "output_type": "stream",
     "text": [
      "100%|██████████| 8/8 [00:00<?, ?it/s]\n"
     ]
    },
    {
     "name": "stdout",
     "output_type": "stream",
     "text": [
      "Epoch 52 - loss: 0.2694 - weight x1: -1.7804255732765049 - weight x2: -2.3743300017590854\n",
      "\n",
      "Epoch [53 / 200] - "
     ]
    },
    {
     "name": "stderr",
     "output_type": "stream",
     "text": [
      "100%|██████████| 8/8 [00:00<?, ?it/s]\n"
     ]
    },
    {
     "name": "stdout",
     "output_type": "stream",
     "text": [
      "Epoch 53 - loss: 0.2646 - weight x1: -1.8043850782255522 - weight x2: -2.3994491527706834\n",
      "\n",
      "Epoch [54 / 200] - "
     ]
    },
    {
     "name": "stderr",
     "output_type": "stream",
     "text": [
      "100%|██████████| 8/8 [00:00<?, ?it/s]\n"
     ]
    },
    {
     "name": "stdout",
     "output_type": "stream",
     "text": [
      "Epoch 54 - loss: 0.2599 - weight x1: -1.8278998163017086 - weight x2: -2.424084138882877\n",
      "\n",
      "Epoch [55 / 200] - "
     ]
    },
    {
     "name": "stderr",
     "output_type": "stream",
     "text": [
      "100%|██████████| 8/8 [00:00<?, ?it/s]\n"
     ]
    },
    {
     "name": "stdout",
     "output_type": "stream",
     "text": [
      "Epoch 55 - loss: 0.2554 - weight x1: -1.8509773550380126 - weight x2: -2.4482448808332617\n",
      "\n",
      "Epoch [56 / 200] - "
     ]
    },
    {
     "name": "stderr",
     "output_type": "stream",
     "text": [
      "100%|██████████| 8/8 [00:00<?, ?it/s]\n"
     ]
    },
    {
     "name": "stdout",
     "output_type": "stream",
     "text": [
      "Epoch 56 - loss: 0.2511 - weight x1: -1.8736251980702638 - weight x2: -2.4719410427000823\n",
      "\n",
      "Epoch [57 / 200] - "
     ]
    },
    {
     "name": "stderr",
     "output_type": "stream",
     "text": [
      "100%|██████████| 8/8 [00:00<?, ?it/s]\n"
     ]
    },
    {
     "name": "stdout",
     "output_type": "stream",
     "text": [
      "Epoch 57 - loss: 0.2469 - weight x1: -1.8958507790128751 - weight x2: -2.495182043096048\n",
      "\n",
      "Epoch [58 / 200] - "
     ]
    },
    {
     "name": "stderr",
     "output_type": "stream",
     "text": [
      "100%|██████████| 8/8 [00:00<?, ?it/s]\n"
     ]
    },
    {
     "name": "stdout",
     "output_type": "stream",
     "text": [
      "Epoch 58 - loss: 0.2429 - weight x1: -1.9176614561273015 - weight x2: -2.5179770655662588\n",
      "\n",
      "Epoch [59 / 200] - "
     ]
    },
    {
     "name": "stderr",
     "output_type": "stream",
     "text": [
      "100%|██████████| 8/8 [00:00<?, ?it/s]\n"
     ]
    },
    {
     "name": "stdout",
     "output_type": "stream",
     "text": [
      "Epoch 59 - loss: 0.2391 - weight x1: -1.9390645077056416 - weight x2: -2.540335068259167\n",
      "\n",
      "Epoch [60 / 200] - "
     ]
    },
    {
     "name": "stderr",
     "output_type": "stream",
     "text": [
      "100%|██████████| 8/8 [00:00<00:00, 7991.05it/s]\n"
     ]
    },
    {
     "name": "stdout",
     "output_type": "stream",
     "text": [
      "Epoch 60 - loss: 0.2354 - weight x1: -1.9600671280992097 - weight x2: -2.5622647929332154\n",
      "\n",
      "Epoch [61 / 200] - "
     ]
    },
    {
     "name": "stderr",
     "output_type": "stream",
     "text": [
      "100%|██████████| 8/8 [00:00<?, ?it/s]\n"
     ]
    },
    {
     "name": "stdout",
     "output_type": "stream",
     "text": [
      "Epoch 61 - loss: 0.2318 - weight x1: -1.9806764243284458 - weight x2: -2.5837747733561165\n",
      "\n",
      "Epoch [62 / 200] - "
     ]
    },
    {
     "name": "stderr",
     "output_type": "stream",
     "text": [
      "100%|██████████| 8/8 [00:00<?, ?it/s]\n"
     ]
    },
    {
     "name": "stdout",
     "output_type": "stream",
     "text": [
      "Epoch 62 - loss: 0.2284 - weight x1: -2.00089941321647 - weight x2: -2.60487334314854\n",
      "\n",
      "Epoch [63 / 200] - "
     ]
    },
    {
     "name": "stderr",
     "output_type": "stream",
     "text": [
      "100%|██████████| 8/8 [00:00<?, ?it/s]\n"
     ]
    },
    {
     "name": "stdout",
     "output_type": "stream",
     "text": [
      "Epoch 63 - loss: 0.225 - weight x1: -2.020743018993986 - weight x2: -2.6255686431193235\n",
      "\n",
      "Epoch [64 / 200] - "
     ]
    },
    {
     "name": "stderr",
     "output_type": "stream",
     "text": [
      "100%|██████████| 8/8 [00:00<?, ?it/s]\n"
     ]
    },
    {
     "name": "stdout",
     "output_type": "stream",
     "text": [
      "Epoch 64 - loss: 0.2219 - weight x1: -2.0402140713281423 - weight x2: -2.645868628134994\n",
      "\n",
      "Epoch [65 / 200] - "
     ]
    },
    {
     "name": "stderr",
     "output_type": "stream",
     "text": [
      "100%|██████████| 8/8 [00:00<?, ?it/s]\n"
     ]
    },
    {
     "name": "stdout",
     "output_type": "stream",
     "text": [
      "Epoch 65 - loss: 0.2188 - weight x1: -2.0593193037324005 - weight x2: -2.6657810735625844\n",
      "\n",
      "Epoch [66 / 200] - "
     ]
    },
    {
     "name": "stderr",
     "output_type": "stream",
     "text": [
      "100%|██████████| 8/8 [00:00<00:00, 7989.15it/s]\n"
     ]
    },
    {
     "name": "stdout",
     "output_type": "stream",
     "text": [
      "Epoch 66 - loss: 0.2159 - weight x1: -2.078065352318498 - weight x2: -2.685313581321164\n",
      "\n",
      "Epoch [67 / 200] - "
     ]
    },
    {
     "name": "stderr",
     "output_type": "stream",
     "text": [
      "100%|██████████| 8/8 [00:00<?, ?it/s]\n"
     ]
    },
    {
     "name": "stdout",
     "output_type": "stream",
     "text": [
      "Epoch 67 - loss: 0.213 - weight x1: -2.096458754855243 - weight x2: -2.70447358557432\n",
      "\n",
      "Epoch [68 / 200] - "
     ]
    },
    {
     "name": "stderr",
     "output_type": "stream",
     "text": [
      "100%|██████████| 8/8 [00:00<?, ?it/s]\n"
     ]
    },
    {
     "name": "stdout",
     "output_type": "stream",
     "text": [
      "Epoch 68 - loss: 0.2103 - weight x1: -2.1145059501022216 - weight x2: -2.723268358092944\n",
      "\n",
      "Epoch [69 / 200] - "
     ]
    },
    {
     "name": "stderr",
     "output_type": "stream",
     "text": [
      "100%|██████████| 8/8 [00:00<?, ?it/s]\n"
     ]
    },
    {
     "name": "stdout",
     "output_type": "stream",
     "text": [
      "Epoch 69 - loss: 0.2077 - weight x1: -2.1322132773894853 - weight x2: -2.741705013315019\n",
      "\n",
      "Epoch [70 / 200] - "
     ]
    },
    {
     "name": "stderr",
     "output_type": "stream",
     "text": [
      "100%|██████████| 8/8 [00:00<?, ?it/s]\n"
     ]
    },
    {
     "name": "stdout",
     "output_type": "stream",
     "text": [
      "Epoch 70 - loss: 0.2051 - weight x1: -2.149586976417044 - weight x2: -2.759790513126722\n",
      "\n",
      "Epoch [71 / 200] - "
     ]
    },
    {
     "name": "stderr",
     "output_type": "stream",
     "text": [
      "100%|██████████| 8/8 [00:00<00:00, 7998.67it/s]\n"
     ]
    },
    {
     "name": "stdout",
     "output_type": "stream",
     "text": [
      "Epoch 71 - loss: 0.2027 - weight x1: -2.1666331872504525 - weight x2: -2.777531671386983\n",
      "\n",
      "Epoch [72 / 200] - "
     ]
    },
    {
     "name": "stderr",
     "output_type": "stream",
     "text": [
      "100%|██████████| 8/8 [00:00<?, ?it/s]\n"
     ]
    },
    {
     "name": "stdout",
     "output_type": "stream",
     "text": [
      "Epoch 72 - loss: 0.2004 - weight x1: -2.183357950491051 - weight x2: -2.794935158215668\n",
      "\n",
      "Epoch [73 / 200] - "
     ]
    },
    {
     "name": "stderr",
     "output_type": "stream",
     "text": [
      "100%|██████████| 8/8 [00:00<?, ?it/s]\n"
     ]
    },
    {
     "name": "stdout",
     "output_type": "stream",
     "text": [
      "Epoch 73 - loss: 0.1981 - weight x1: -2.199767207601441 - weight x2: -2.812007504063755\n",
      "\n",
      "Epoch [74 / 200] - "
     ]
    },
    {
     "name": "stderr",
     "output_type": "stream",
     "text": [
      "100%|██████████| 8/8 [00:00<?, ?it/s]\n"
     ]
    },
    {
     "name": "stdout",
     "output_type": "stream",
     "text": [
      "Epoch 74 - loss: 0.1959 - weight x1: -2.2158668013686333 - weight x2: -2.8287551035822402\n",
      "\n",
      "Epoch [75 / 200] - "
     ]
    },
    {
     "name": "stderr",
     "output_type": "stream",
     "text": [
      "100%|██████████| 8/8 [00:00<?, ?it/s]\n"
     ]
    },
    {
     "name": "stdout",
     "output_type": "stream",
     "text": [
      "Epoch 75 - loss: 0.1938 - weight x1: -2.2316624764890145 - weight x2: -2.8451842193050445\n",
      "\n",
      "Epoch [76 / 200] - "
     ]
    },
    {
     "name": "stderr",
     "output_type": "stream",
     "text": [
      "100%|██████████| 8/8 [00:00<?, ?it/s]\n"
     ]
    },
    {
     "name": "stdout",
     "output_type": "stream",
     "text": [
      "Epoch 76 - loss: 0.1918 - weight x1: -2.24715988026075 - weight x2: -2.861300985159839\n",
      "\n",
      "Epoch [77 / 200] - "
     ]
    },
    {
     "name": "stderr",
     "output_type": "stream",
     "text": [
      "100%|██████████| 8/8 [00:00<?, ?it/s]\n"
     ]
    },
    {
     "name": "stdout",
     "output_type": "stream",
     "text": [
      "Epoch 77 - loss: 0.1899 - weight x1: -2.262364563370682 - weight x2: -2.8771114098194714\n",
      "\n",
      "Epoch [78 / 200] - "
     ]
    },
    {
     "name": "stderr",
     "output_type": "stream",
     "text": [
      "100%|██████████| 8/8 [00:00<?, ?it/s]\n"
     ]
    },
    {
     "name": "stdout",
     "output_type": "stream",
     "text": [
      "Epoch 78 - loss: 0.188 - weight x1: -2.277281980763991 - weight x2: -2.892621379905595\n",
      "\n",
      "Epoch [79 / 200] - "
     ]
    },
    {
     "name": "stderr",
     "output_type": "stream",
     "text": [
      "100%|██████████| 8/8 [00:00<?, ?it/s]\n"
     ]
    },
    {
     "name": "stdout",
     "output_type": "stream",
     "text": [
      "Epoch 79 - loss: 0.1862 - weight x1: -2.2919174925860424 - weight x2: -2.9078366630550514\n",
      "\n",
      "Epoch [80 / 200] - "
     ]
    },
    {
     "name": "stderr",
     "output_type": "stream",
     "text": [
      "100%|██████████| 8/8 [00:00<?, ?it/s]\n"
     ]
    },
    {
     "name": "stdout",
     "output_type": "stream",
     "text": [
      "Epoch 80 - loss: 0.1845 - weight x1: -2.3062763651868887 - weight x2: -2.922762910858699\n",
      "\n",
      "Epoch [81 / 200] - "
     ]
    },
    {
     "name": "stderr",
     "output_type": "stream",
     "text": [
      "100%|██████████| 8/8 [00:00<?, ?it/s]\n"
     ]
    },
    {
     "name": "stdout",
     "output_type": "stream",
     "text": [
      "Epoch 81 - loss: 0.1829 - weight x1: -2.320363772179787 - weight x2: -2.9374056616814705\n",
      "\n",
      "Epoch [82 / 200] - "
     ]
    },
    {
     "name": "stderr",
     "output_type": "stream",
     "text": [
      "100%|██████████| 8/8 [00:00<?, ?it/s]\n"
     ]
    },
    {
     "name": "stdout",
     "output_type": "stream",
     "text": [
      "Epoch 82 - loss: 0.1813 - weight x1: -2.33418479554601 - weight x2: -2.9517703433717593\n",
      "\n",
      "Epoch [83 / 200] - "
     ]
    },
    {
     "name": "stderr",
     "output_type": "stream",
     "text": [
      "100%|██████████| 8/8 [00:00<?, ?it/s]\n"
     ]
    },
    {
     "name": "stdout",
     "output_type": "stream",
     "text": [
      "Epoch 83 - loss: 0.1797 - weight x1: -2.3477444267789056 - weight x2: -2.9658622758674924\n",
      "\n",
      "Epoch [84 / 200] - "
     ]
    },
    {
     "name": "stderr",
     "output_type": "stream",
     "text": [
      "100%|██████████| 8/8 [00:00<00:00, 7998.67it/s]\n"
     ]
    },
    {
     "name": "stdout",
     "output_type": "stream",
     "text": [
      "Epoch 84 - loss: 0.1782 - weight x1: -2.3610475680609504 - weight x2: -2.9796866737056416\n",
      "\n",
      "Epoch [85 / 200] - "
     ]
    },
    {
     "name": "stderr",
     "output_type": "stream",
     "text": [
      "100%|██████████| 8/8 [00:00<?, ?it/s]\n"
     ]
    },
    {
     "name": "stdout",
     "output_type": "stream",
     "text": [
      "Epoch 85 - loss: 0.1768 - weight x1: -2.3740990334681102 - weight x2: -2.9932486484413623\n",
      "\n",
      "Epoch [86 / 200] - "
     ]
    },
    {
     "name": "stderr",
     "output_type": "stream",
     "text": [
      "100%|██████████| 8/8 [00:00<?, ?it/s]\n"
     ]
    },
    {
     "name": "stdout",
     "output_type": "stream",
     "text": [
      "Epoch 86 - loss: 0.1755 - weight x1: -2.386903550196415 - weight x2: -3.0065532109824122\n",
      "\n",
      "Epoch [87 / 200] - "
     ]
    },
    {
     "name": "stderr",
     "output_type": "stream",
     "text": [
      "100%|██████████| 8/8 [00:00<?, ?it/s]\n"
     ]
    },
    {
     "name": "stdout",
     "output_type": "stream",
     "text": [
      "Epoch 87 - loss: 0.1741 - weight x1: -2.3994657598061755 - weight x2: -3.0196052738440393\n",
      "\n",
      "Epoch [88 / 200] - "
     ]
    },
    {
     "name": "stderr",
     "output_type": "stream",
     "text": [
      "100%|██████████| 8/8 [00:00<00:00, 15738.48it/s]\n"
     ]
    },
    {
     "name": "stdout",
     "output_type": "stream",
     "text": [
      "Epoch 88 - loss: 0.1729 - weight x1: -2.411790219479737 - weight x2: -3.032409653329111\n",
      "\n",
      "Epoch [89 / 200] - "
     ]
    },
    {
     "name": "stderr",
     "output_type": "stream",
     "text": [
      "100%|██████████| 8/8 [00:00<?, ?it/s]\n"
     ]
    },
    {
     "name": "stdout",
     "output_type": "stream",
     "text": [
      "Epoch 89 - loss: 0.1716 - weight x1: -2.4238814032890903 - weight x2: -3.0449710716378457\n",
      "\n",
      "Epoch [90 / 200] - "
     ]
    },
    {
     "name": "stderr",
     "output_type": "stream",
     "text": [
      "100%|██████████| 8/8 [00:00<?, ?it/s]\n"
     ]
    },
    {
     "name": "stdout",
     "output_type": "stream",
     "text": [
      "Epoch 90 - loss: 0.1705 - weight x1: -2.435743703470041 - weight x2: -3.057294158911161\n",
      "\n",
      "Epoch [91 / 200] - "
     ]
    },
    {
     "name": "stderr",
     "output_type": "stream",
     "text": [
      "100%|██████████| 8/8 [00:00<?, ?it/s]\n"
     ]
    },
    {
     "name": "stdout",
     "output_type": "stream",
     "text": [
      "Epoch 91 - loss: 0.1693 - weight x1: -2.447381431699995 - weight x2: -3.069383455211342\n",
      "\n",
      "Epoch [92 / 200] - "
     ]
    },
    {
     "name": "stderr",
     "output_type": "stream",
     "text": [
      "100%|██████████| 8/8 [00:00<00:00, 8000.58it/s]\n"
     ]
    },
    {
     "name": "stdout",
     "output_type": "stream",
     "text": [
      "Epoch 92 - loss: 0.1682 - weight x1: -2.4587988203767384 - weight x2: -3.0812434124434174\n",
      "\n",
      "Epoch [93 / 200] - "
     ]
    },
    {
     "name": "stderr",
     "output_type": "stream",
     "text": [
      "100%|██████████| 8/8 [00:00<?, ?it/s]\n"
     ]
    },
    {
     "name": "stdout",
     "output_type": "stream",
     "text": [
      "Epoch 93 - loss: 0.1672 - weight x1: -2.4700000238958504 - weight x2: -3.0928783962203705\n",
      "\n",
      "Epoch [94 / 200] - "
     ]
    },
    {
     "name": "stderr",
     "output_type": "stream",
     "text": [
      "100%|██████████| 8/8 [00:00<00:00, 5290.83it/s]\n"
     ]
    },
    {
     "name": "stdout",
     "output_type": "stream",
     "text": [
      "Epoch 94 - loss: 0.1662 - weight x1: -2.480989119924682 - weight x2: -3.104292687675088\n",
      "\n",
      "Epoch [95 / 200] - "
     ]
    },
    {
     "name": "stderr",
     "output_type": "stream",
     "text": [
      "100%|██████████| 8/8 [00:00<?, ?it/s]\n"
     ]
    },
    {
     "name": "stdout",
     "output_type": "stream",
     "text": [
      "Epoch 95 - loss: 0.1652 - weight x1: -2.491770110671041 - weight x2: -3.1154904852216854\n",
      "\n",
      "Epoch [96 / 200] - "
     ]
    },
    {
     "name": "stderr",
     "output_type": "stream",
     "text": [
      "100%|██████████| 8/8 [00:00<?, ?it/s]\n"
     ]
    },
    {
     "name": "stdout",
     "output_type": "stream",
     "text": [
      "Epoch 96 - loss: 0.1643 - weight x1: -2.502346924144947 - weight x2: -3.1264759062686833\n",
      "\n",
      "Epoch [97 / 200] - "
     ]
    },
    {
     "name": "stderr",
     "output_type": "stream",
     "text": [
      "100%|██████████| 8/8 [00:00<00:00, 7084.97it/s]\n"
     ]
    },
    {
     "name": "stdout",
     "output_type": "stream",
     "text": [
      "Epoch 97 - loss: 0.1634 - weight x1: -2.512723415412013 - weight x2: -3.1372529888863143\n",
      "\n",
      "Epoch [98 / 200] - "
     ]
    },
    {
     "name": "stderr",
     "output_type": "stream",
     "text": [
      "100%|██████████| 8/8 [00:00<?, ?it/s]\n"
     ]
    },
    {
     "name": "stdout",
     "output_type": "stream",
     "text": [
      "Epoch 98 - loss: 0.1625 - weight x1: -2.5229033678371664 - weight x2: -3.1478256934300446\n",
      "\n",
      "Epoch [99 / 200] - "
     ]
    },
    {
     "name": "stderr",
     "output_type": "stream",
     "text": [
      "100%|██████████| 8/8 [00:00<00:00, 7985.35it/s]\n"
     ]
    },
    {
     "name": "stdout",
     "output_type": "stream",
     "text": [
      "Epoch 99 - loss: 0.1617 - weight x1: -2.5328904943176123 - weight x2: -3.158197904122287\n",
      "\n",
      "Epoch [100 / 200] - "
     ]
    },
    {
     "name": "stderr",
     "output_type": "stream",
     "text": [
      "100%|██████████| 8/8 [00:00<?, ?it/s]\n"
     ]
    },
    {
     "name": "stdout",
     "output_type": "stream",
     "text": [
      "Epoch 100 - loss: 0.1609 - weight x1: -2.542688438504043 - weight x2: -3.168373430594108\n",
      "\n",
      "Epoch [101 / 200] - "
     ]
    },
    {
     "name": "stderr",
     "output_type": "stream",
     "text": [
      "100%|██████████| 8/8 [00:00<00:00, 8029.30it/s]\n"
     ]
    },
    {
     "name": "stdout",
     "output_type": "stream",
     "text": [
      "Epoch 101 - loss: 0.1601 - weight x1: -2.5523007760092526 - weight x2: -3.1783560093885934\n",
      "\n",
      "Epoch [102 / 200] - "
     ]
    },
    {
     "name": "stderr",
     "output_type": "stream",
     "text": [
      "100%|██████████| 8/8 [00:00<?, ?it/s]\n"
     ]
    },
    {
     "name": "stdout",
     "output_type": "stream",
     "text": [
      "Epoch 102 - loss: 0.1594 - weight x1: -2.5617310156034243 - weight x2: -3.1881493054274794\n",
      "\n",
      "Epoch [103 / 200] - "
     ]
    },
    {
     "name": "stderr",
     "output_type": "stream",
     "text": [
      "100%|██████████| 8/8 [00:00<?, ?it/s]\n"
     ]
    },
    {
     "name": "stdout",
     "output_type": "stream",
     "text": [
      "Epoch 103 - loss: 0.1587 - weight x1: -2.5709826003954572 - weight x2: -3.1977569134424626\n",
      "\n",
      "Epoch [104 / 200] - "
     ]
    },
    {
     "name": "stderr",
     "output_type": "stream",
     "text": [
      "100%|██████████| 8/8 [00:00<00:00, 8021.62it/s]\n"
     ]
    },
    {
     "name": "stdout",
     "output_type": "stream",
     "text": [
      "Epoch 104 - loss: 0.158 - weight x1: -2.580058908999795 - weight x2: -3.2071823593725854\n",
      "\n",
      "Epoch [105 / 200] - "
     ]
    },
    {
     "name": "stderr",
     "output_type": "stream",
     "text": [
      "100%|██████████| 8/8 [00:00<?, ?it/s]\n"
     ]
    },
    {
     "name": "stdout",
     "output_type": "stream",
     "text": [
      "Epoch 105 - loss: 0.1573 - weight x1: -2.588963256688302 - weight x2: -3.21642910172895\n",
      "\n",
      "Epoch [106 / 200] - "
     ]
    },
    {
     "name": "stderr",
     "output_type": "stream",
     "text": [
      "100%|██████████| 8/8 [00:00<?, ?it/s]\n"
     ]
    },
    {
     "name": "stdout",
     "output_type": "stream",
     "text": [
      "Epoch 106 - loss: 0.1567 - weight x1: -2.597698896526812 - weight x2: -3.2255005329279487\n",
      "\n",
      "Epoch [107 / 200] - "
     ]
    },
    {
     "name": "stderr",
     "output_type": "stream",
     "text": [
      "100%|██████████| 8/8 [00:00<?, ?it/s]\n"
     ]
    },
    {
     "name": "stdout",
     "output_type": "stream",
     "text": [
      "Epoch 107 - loss: 0.156 - weight x1: -2.606269020496043 - weight x2: -3.2343999805941377\n",
      "\n",
      "Epoch [108 / 200] - "
     ]
    },
    {
     "name": "stderr",
     "output_type": "stream",
     "text": [
      "100%|██████████| 8/8 [00:00<?, ?it/s]\n"
     ]
    },
    {
     "name": "stdout",
     "output_type": "stream",
     "text": [
      "Epoch 108 - loss: 0.1555 - weight x1: -2.6146767605966184 - weight x2: -3.2431307088337906\n",
      "\n",
      "Epoch [109 / 200] - "
     ]
    },
    {
     "name": "stderr",
     "output_type": "stream",
     "text": [
      "100%|██████████| 8/8 [00:00<?, ?it/s]\n"
     ]
    },
    {
     "name": "stdout",
     "output_type": "stream",
     "text": [
      "Epoch 109 - loss: 0.1549 - weight x1: -2.6229251899380204 - weight x2: -3.251695919480113\n",
      "\n",
      "Epoch [110 / 200] - "
     ]
    },
    {
     "name": "stderr",
     "output_type": "stream",
     "text": [
      "100%|██████████| 8/8 [00:00<?, ?it/s]\n"
     ]
    },
    {
     "name": "stdout",
     "output_type": "stream",
     "text": [
      "Epoch 110 - loss: 0.1543 - weight x1: -2.631017323811308 - weight x2: -3.2600987533110484\n",
      "\n",
      "Epoch [111 / 200] - "
     ]
    },
    {
     "name": "stderr",
     "output_type": "stream",
     "text": [
      "100%|██████████| 8/8 [00:00<?, ?it/s]\n"
     ]
    },
    {
     "name": "stdout",
     "output_type": "stream",
     "text": [
      "Epoch 111 - loss: 0.1538 - weight x1: -2.6389561207455237 - weight x2: -3.2683422912405393\n",
      "\n",
      "Epoch [112 / 200] - "
     ]
    },
    {
     "name": "stderr",
     "output_type": "stream",
     "text": [
      "100%|██████████| 8/8 [00:00<?, ?it/s]\n"
     ]
    },
    {
     "name": "stdout",
     "output_type": "stream",
     "text": [
      "Epoch 112 - loss: 0.1533 - weight x1: -2.646744483547708 - weight x2: -3.2764295554840714\n",
      "\n",
      "Epoch [113 / 200] - "
     ]
    },
    {
     "name": "stderr",
     "output_type": "stream",
     "text": [
      "100%|██████████| 8/8 [00:00<?, ?it/s]\n"
     ]
    },
    {
     "name": "stdout",
     "output_type": "stream",
     "text": [
      "Epoch 113 - loss: 0.1528 - weight x1: -2.654385260326514 - weight x2: -3.2843635106992792\n",
      "\n",
      "Epoch [114 / 200] - "
     ]
    },
    {
     "name": "stderr",
     "output_type": "stream",
     "text": [
      "100%|██████████| 8/8 [00:00<?, ?it/s]\n"
     ]
    },
    {
     "name": "stdout",
     "output_type": "stream",
     "text": [
      "Epoch 114 - loss: 0.1524 - weight x1: -2.6618812454994125 - weight x2: -3.2921470651023377\n",
      "\n",
      "Epoch [115 / 200] - "
     ]
    },
    {
     "name": "stderr",
     "output_type": "stream",
     "text": [
      "100%|██████████| 8/8 [00:00<?, ?it/s]\n"
     ]
    },
    {
     "name": "stdout",
     "output_type": "stream",
     "text": [
      "Epoch 115 - loss: 0.1519 - weight x1: -2.669235180783534 - weight x2: -3.2997830715608525\n",
      "\n",
      "Epoch [116 / 200] - "
     ]
    },
    {
     "name": "stderr",
     "output_type": "stream",
     "text": [
      "100%|██████████| 8/8 [00:00<?, ?it/s]\n"
     ]
    },
    {
     "name": "stdout",
     "output_type": "stream",
     "text": [
      "Epoch 116 - loss: 0.1515 - weight x1: -2.6764497561701988 - weight x2: -3.307274328663898\n",
      "\n",
      "Epoch [117 / 200] - "
     ]
    },
    {
     "name": "stderr",
     "output_type": "stream",
     "text": [
      "100%|██████████| 8/8 [00:00<?, ?it/s]\n"
     ]
    },
    {
     "name": "stdout",
     "output_type": "stream",
     "text": [
      "Epoch 117 - loss: 0.151 - weight x1: -2.683527610883227 - weight x2: -3.3146235817698435\n",
      "\n",
      "Epoch [118 / 200] - "
     ]
    },
    {
     "name": "stderr",
     "output_type": "stream",
     "text": [
      "100%|██████████| 8/8 [00:00<?, ?it/s]\n"
     ]
    },
    {
     "name": "stdout",
     "output_type": "stream",
     "text": [
      "Epoch 118 - loss: 0.1506 - weight x1: -2.6904713343211104 - weight x2: -3.3218335240325603\n",
      "\n",
      "Epoch [119 / 200] - "
     ]
    },
    {
     "name": "stderr",
     "output_type": "stream",
     "text": [
      "100%|██████████| 8/8 [00:00<?, ?it/s]\n"
     ]
    },
    {
     "name": "stdout",
     "output_type": "stream",
     "text": [
      "Epoch 119 - loss: 0.1503 - weight x1: -2.6972834669831878 - weight x2: -3.32890679740658\n",
      "\n",
      "Epoch [120 / 200] - "
     ]
    },
    {
     "name": "stderr",
     "output_type": "stream",
     "text": [
      "100%|██████████| 8/8 [00:00<?, ?it/s]\n"
     ]
    },
    {
     "name": "stdout",
     "output_type": "stream",
     "text": [
      "Epoch 120 - loss: 0.1499 - weight x1: -2.7039665013799334 - weight x2: -3.335845993631756\n",
      "\n",
      "Epoch [121 / 200] - "
     ]
    },
    {
     "name": "stderr",
     "output_type": "stream",
     "text": [
      "100%|██████████| 8/8 [00:00<00:00, 8012.04it/s]\n"
     ]
    },
    {
     "name": "stdout",
     "output_type": "stream",
     "text": [
      "Epoch 121 - loss: 0.1495 - weight x1: -2.7105228829275254 - weight x2: -3.342653655197954\n",
      "\n",
      "Epoch [122 / 200] - "
     ]
    },
    {
     "name": "stderr",
     "output_type": "stream",
     "text": [
      "100%|██████████| 8/8 [00:00<?, ?it/s]\n"
     ]
    },
    {
     "name": "stdout",
     "output_type": "stream",
     "text": [
      "Epoch 122 - loss: 0.1492 - weight x1: -2.716955010826831 - weight x2: -3.349332276290251\n",
      "\n",
      "Epoch [123 / 200] - "
     ]
    },
    {
     "name": "stderr",
     "output_type": "stream",
     "text": [
      "100%|██████████| 8/8 [00:00<?, ?it/s]\n"
     ]
    },
    {
     "name": "stdout",
     "output_type": "stream",
     "text": [
      "Epoch 123 - loss: 0.1488 - weight x1: -2.7232652389270005 - weight x2: -3.355884303715152\n",
      "\n",
      "Epoch [124 / 200] - "
     ]
    },
    {
     "name": "stderr",
     "output_type": "stream",
     "text": [
      "100%|██████████| 8/8 [00:00<?, ?it/s]\n"
     ]
    },
    {
     "name": "stdout",
     "output_type": "stream",
     "text": [
      "Epoch 124 - loss: 0.1485 - weight x1: -2.729455876573818 - weight x2: -3.3623121378082486\n",
      "\n",
      "Epoch [125 / 200] - "
     ]
    },
    {
     "name": "stderr",
     "output_type": "stream",
     "text": [
      "100%|██████████| 8/8 [00:00<?, ?it/s]\n"
     ]
    },
    {
     "name": "stdout",
     "output_type": "stream",
     "text": [
      "Epoch 125 - loss: 0.1482 - weight x1: -2.735529189443024 - weight x2: -3.3686181333238068\n",
      "\n",
      "Epoch [126 / 200] - "
     ]
    },
    {
     "name": "stderr",
     "output_type": "stream",
     "text": [
      "100%|██████████| 8/8 [00:00<?, ?it/s]\n"
     ]
    },
    {
     "name": "stdout",
     "output_type": "stream",
     "text": [
      "Epoch 126 - loss: 0.1479 - weight x1: -2.7414874003587655 - weight x2: -3.37480460030666\n",
      "\n",
      "Epoch [127 / 200] - "
     ]
    },
    {
     "name": "stderr",
     "output_type": "stream",
     "text": [
      "100%|██████████| 8/8 [00:00<?, ?it/s]\n"
     ]
    },
    {
     "name": "stdout",
     "output_type": "stream",
     "text": [
      "Epoch 127 - loss: 0.1476 - weight x1: -2.7473326900973976 - weight x2: -3.380873804946856\n",
      "\n",
      "Epoch [128 / 200] - "
     ]
    },
    {
     "name": "stderr",
     "output_type": "stream",
     "text": [
      "100%|██████████| 8/8 [00:00<?, ?it/s]\n"
     ]
    },
    {
     "name": "stdout",
     "output_type": "stream",
     "text": [
      "Epoch 128 - loss: 0.1474 - weight x1: -2.7530671981768235 - weight x2: -3.386827970417433\n",
      "\n",
      "Epoch [129 / 200] - "
     ]
    },
    {
     "name": "stderr",
     "output_type": "stream",
     "text": [
      "100%|██████████| 8/8 [00:00<?, ?it/s]\n"
     ]
    },
    {
     "name": "stdout",
     "output_type": "stream",
     "text": [
      "Epoch 129 - loss: 0.1471 - weight x1: -2.7586930236315683 - weight x2: -3.3926692776957093\n",
      "\n",
      "Epoch [130 / 200] - "
     ]
    },
    {
     "name": "stderr",
     "output_type": "stream",
     "text": [
      "100%|██████████| 8/8 [00:00<?, ?it/s]\n"
     ]
    },
    {
     "name": "stdout",
     "output_type": "stream",
     "text": [
      "Epoch 130 - loss: 0.1468 - weight x1: -2.764212225773808 - weight x2: -3.398399866368456\n",
      "\n",
      "Epoch [131 / 200] - "
     ]
    },
    {
     "name": "stderr",
     "output_type": "stream",
     "text": [
      "100%|██████████| 8/8 [00:00<?, ?it/s]\n"
     ]
    },
    {
     "name": "stdout",
     "output_type": "stream",
     "text": [
      "Epoch 131 - loss: 0.1466 - weight x1: -2.7696268249405533 - weight x2: -3.404021835421312\n",
      "\n",
      "Epoch [132 / 200] - "
     ]
    },
    {
     "name": "stderr",
     "output_type": "stream",
     "text": [
      "100%|██████████| 8/8 [00:00<?, ?it/s]\n"
     ]
    },
    {
     "name": "stdout",
     "output_type": "stream",
     "text": [
      "Epoch 132 - loss: 0.1464 - weight x1: -2.7749388032271893 - weight x2: -3.409537244012784\n",
      "\n",
      "Epoch [133 / 200] - "
     ]
    },
    {
     "name": "stderr",
     "output_type": "stream",
     "text": [
      "100%|██████████| 8/8 [00:00<?, ?it/s]\n"
     ]
    },
    {
     "name": "stdout",
     "output_type": "stream",
     "text": [
      "Epoch 133 - loss: 0.1461 - weight x1: -2.780150105207597 - weight x2: -3.4149481122331604\n",
      "\n",
      "Epoch [134 / 200] - "
     ]
    },
    {
     "name": "stderr",
     "output_type": "stream",
     "text": [
      "100%|██████████| 8/8 [00:00<?, ?it/s]\n"
     ]
    },
    {
     "name": "stdout",
     "output_type": "stream",
     "text": [
      "Epoch 134 - loss: 0.1459 - weight x1: -2.785262638641057 - weight x2: -3.4202564218486713\n",
      "\n",
      "Epoch [135 / 200] - "
     ]
    },
    {
     "name": "stderr",
     "output_type": "stream",
     "text": [
      "100%|██████████| 8/8 [00:00<?, ?it/s]\n"
     ]
    },
    {
     "name": "stdout",
     "output_type": "stream",
     "text": [
      "Epoch 135 - loss: 0.1457 - weight x1: -2.7902782751661435 - weight x2: -3.4254641170312046\n",
      "\n",
      "Epoch [136 / 200] - "
     ]
    },
    {
     "name": "stderr",
     "output_type": "stream",
     "text": [
      "100%|██████████| 8/8 [00:00<00:00, 8000.58it/s]\n"
     ]
    },
    {
     "name": "stdout",
     "output_type": "stream",
     "text": [
      "Epoch 136 - loss: 0.1455 - weight x1: -2.7951988509818317 - weight x2: -3.4305731050738792\n",
      "\n",
      "Epoch [137 / 200] - "
     ]
    },
    {
     "name": "stderr",
     "output_type": "stream",
     "text": [
      "100%|██████████| 8/8 [00:00<00:00, 7992.96it/s]\n"
     ]
    },
    {
     "name": "stdout",
     "output_type": "stream",
     "text": [
      "Epoch 137 - loss: 0.1453 - weight x1: -2.8000261675160125 - weight x2: -3.4355852570927827\n",
      "\n",
      "Epoch [138 / 200] - "
     ]
    },
    {
     "name": "stderr",
     "output_type": "stream",
     "text": [
      "100%|██████████| 8/8 [00:00<?, ?it/s]\n"
     ]
    },
    {
     "name": "stdout",
     "output_type": "stream",
     "text": [
      "Epoch 138 - loss: 0.1451 - weight x1: -2.804761992081632 - weight x2: -3.440502408715151\n",
      "\n",
      "Epoch [139 / 200] - "
     ]
    },
    {
     "name": "stderr",
     "output_type": "stream",
     "text": [
      "100%|██████████| 8/8 [00:00<00:00, 4000.29it/s]\n"
     ]
    },
    {
     "name": "stdout",
     "output_type": "stream",
     "text": [
      "Epoch 139 - loss: 0.1449 - weight x1: -2.809408058520666 - weight x2: -3.4453263607542737\n",
      "\n",
      "Epoch [140 / 200] - "
     ]
    },
    {
     "name": "stderr",
     "output_type": "stream",
     "text": [
      "100%|██████████| 8/8 [00:00<?, ?it/s]\n"
     ]
    },
    {
     "name": "stdout",
     "output_type": "stream",
     "text": [
      "Epoch 140 - loss: 0.1448 - weight x1: -2.8139660678361254 - weight x2: -3.4500588798714\n",
      "\n",
      "Epoch [141 / 200] - "
     ]
    },
    {
     "name": "stderr",
     "output_type": "stream",
     "text": [
      "100%|██████████| 8/8 [00:00<?, ?it/s]\n"
     ]
    },
    {
     "name": "stdout",
     "output_type": "stream",
     "text": [
      "Epoch 141 - loss: 0.1446 - weight x1: -2.818437688812309 - weight x2: -3.45470169922491\n",
      "\n",
      "Epoch [142 / 200] - "
     ]
    },
    {
     "name": "stderr",
     "output_type": "stream",
     "text": [
      "100%|██████████| 8/8 [00:00<?, ?it/s]\n"
     ]
    },
    {
     "name": "stdout",
     "output_type": "stream",
     "text": [
      "Epoch 142 - loss: 0.1444 - weight x1: -2.8228245586234926 - weight x2: -3.459256519107005\n",
      "\n",
      "Epoch [143 / 200] - "
     ]
    },
    {
     "name": "stderr",
     "output_type": "stream",
     "text": [
      "100%|██████████| 8/8 [00:00<?, ?it/s]\n"
     ]
    },
    {
     "name": "stdout",
     "output_type": "stream",
     "text": [
      "Epoch 143 - loss: 0.1443 - weight x1: -2.827128283431267 - weight x2: -3.463725007568182\n",
      "\n",
      "Epoch [144 / 200] - "
     ]
    },
    {
     "name": "stderr",
     "output_type": "stream",
     "text": [
      "100%|██████████| 8/8 [00:00<?, ?it/s]\n"
     ]
    },
    {
     "name": "stdout",
     "output_type": "stream",
     "text": [
      "Epoch 144 - loss: 0.1441 - weight x1: -2.831350438970723 - weight x2: -3.468108801029724\n",
      "\n",
      "Epoch [145 / 200] - "
     ]
    },
    {
     "name": "stderr",
     "output_type": "stream",
     "text": [
      "100%|██████████| 8/8 [00:00<?, ?it/s]\n"
     ]
    },
    {
     "name": "stdout",
     "output_type": "stream",
     "text": [
      "Epoch 145 - loss: 0.144 - weight x1: -2.8354925711256658 - weight x2: -3.472409504884451\n",
      "\n",
      "Epoch [146 / 200] - "
     ]
    },
    {
     "name": "stderr",
     "output_type": "stream",
     "text": [
      "100%|██████████| 8/8 [00:00<?, ?it/s]\n"
     ]
    },
    {
     "name": "stdout",
     "output_type": "stream",
     "text": [
      "Epoch 146 - loss: 0.1439 - weight x1: -2.839556196493071 - weight x2: -3.4766286940859765\n",
      "\n",
      "Epoch [147 / 200] - "
     ]
    },
    {
     "name": "stderr",
     "output_type": "stream",
     "text": [
      "100%|██████████| 8/8 [00:00<00:00, 5303.37it/s]\n"
     ]
    },
    {
     "name": "stdout",
     "output_type": "stream",
     "text": [
      "Epoch 147 - loss: 0.1437 - weight x1: -2.8435428029369594 - weight x2: -3.4807679137266794\n",
      "\n",
      "Epoch [148 / 200] - "
     ]
    },
    {
     "name": "stderr",
     "output_type": "stream",
     "text": [
      "100%|██████████| 8/8 [00:00<?, ?it/s]\n"
     ]
    },
    {
     "name": "stdout",
     "output_type": "stream",
     "text": [
      "Epoch 148 - loss: 0.1436 - weight x1: -2.847453850131891 - weight x2: -3.4848286796046284\n",
      "\n",
      "Epoch [149 / 200] - "
     ]
    },
    {
     "name": "stderr",
     "output_type": "stream",
     "text": [
      "100%|██████████| 8/8 [00:00<00:00, 7996.77it/s]\n"
     ]
    },
    {
     "name": "stdout",
     "output_type": "stream",
     "text": [
      "Epoch 149 - loss: 0.1435 - weight x1: -2.851290770096254 - weight x2: -3.488812478779679\n",
      "\n",
      "Epoch [150 / 200] - "
     ]
    },
    {
     "name": "stderr",
     "output_type": "stream",
     "text": [
      "100%|██████████| 8/8 [00:00<?, ?it/s]\n"
     ]
    },
    {
     "name": "stdout",
     "output_type": "stream",
     "text": [
      "Epoch 150 - loss: 0.1434 - weight x1: -2.855054967715544 - weight x2: -3.492720770118943\n",
      "\n",
      "Epoch [151 / 200] - "
     ]
    },
    {
     "name": "stderr",
     "output_type": "stream",
     "text": [
      "100%|██████████| 8/8 [00:00<00:00, 5298.35it/s]\n"
     ]
    },
    {
     "name": "stdout",
     "output_type": "stream",
     "text": [
      "Epoch 151 - loss: 0.1432 - weight x1: -2.858747821255802 - weight x2: -3.4965549848318496\n",
      "\n",
      "Epoch [152 / 200] - "
     ]
    },
    {
     "name": "stderr",
     "output_type": "stream",
     "text": [
      "100%|██████████| 8/8 [00:00<?, ?it/s]\n"
     ]
    },
    {
     "name": "stdout",
     "output_type": "stream",
     "text": [
      "Epoch 152 - loss: 0.1431 - weight x1: -2.862370682867403 - weight x2: -3.5003165269950025\n",
      "\n",
      "Epoch [153 / 200] - "
     ]
    },
    {
     "name": "stderr",
     "output_type": "stream",
     "text": [
      "100%|██████████| 8/8 [00:00<00:00, 8004.40it/s]\n"
     ]
    },
    {
     "name": "stdout",
     "output_type": "stream",
     "text": [
      "Epoch 153 - loss: 0.143 - weight x1: -2.865924879079361 - weight x2: -3.5040067740670295\n",
      "\n",
      "Epoch [154 / 200] - "
     ]
    },
    {
     "name": "stderr",
     "output_type": "stream",
     "text": [
      "100%|██████████| 8/8 [00:00<?, ?it/s]\n"
     ]
    },
    {
     "name": "stdout",
     "output_type": "stream",
     "text": [
      "Epoch 154 - loss: 0.1429 - weight x1: -2.8694117112843287 - weight x2: -3.5076270773936153\n",
      "\n",
      "Epoch [155 / 200] - "
     ]
    },
    {
     "name": "stderr",
     "output_type": "stream",
     "text": [
      "100%|██████████| 8/8 [00:00<?, ?it/s]\n"
     ]
    },
    {
     "name": "stdout",
     "output_type": "stream",
     "text": [
      "Epoch 155 - loss: 0.1428 - weight x1: -2.872832456214464 - weight x2: -3.5111787627029183\n",
      "\n",
      "Epoch [156 / 200] - "
     ]
    },
    {
     "name": "stderr",
     "output_type": "stream",
     "text": [
      "100%|██████████| 8/8 [00:00<?, ?it/s]\n"
     ]
    },
    {
     "name": "stdout",
     "output_type": "stream",
     "text": [
      "Epoch 156 - loss: 0.1427 - weight x1: -2.8761883664083245 - weight x2: -3.5146631305915497\n",
      "\n",
      "Epoch [157 / 200] - "
     ]
    },
    {
     "name": "stderr",
     "output_type": "stream",
     "text": [
      "100%|██████████| 8/8 [00:00<00:00, 7981.55it/s]\n"
     ]
    },
    {
     "name": "stdout",
     "output_type": "stream",
     "text": [
      "Epoch 157 - loss: 0.1426 - weight x1: -2.8794806706689617 - weight x2: -3.5180814570013017\n",
      "\n",
      "Epoch [158 / 200] - "
     ]
    },
    {
     "name": "stderr",
     "output_type": "stream",
     "text": [
      "100%|██████████| 8/8 [00:00<?, ?it/s]\n"
     ]
    },
    {
     "name": "stdout",
     "output_type": "stream",
     "text": [
      "Epoch 158 - loss: 0.1426 - weight x1: -2.8827105745133745 - weight x2: -3.5214349936868086\n",
      "\n",
      "Epoch [159 / 200] - "
     ]
    },
    {
     "name": "stderr",
     "output_type": "stream",
     "text": [
      "100%|██████████| 8/8 [00:00<00:00, 7991.05it/s]\n"
     ]
    },
    {
     "name": "stdout",
     "output_type": "stream",
     "text": [
      "Epoch 159 - loss: 0.1425 - weight x1: -2.8858792606134838 - weight x2: -3.5247249686743\n",
      "\n",
      "Epoch [160 / 200] - "
     ]
    },
    {
     "name": "stderr",
     "output_type": "stream",
     "text": [
      "100%|██████████| 8/8 [00:00<?, ?it/s]\n"
     ]
    },
    {
     "name": "stdout",
     "output_type": "stream",
     "text": [
      "Epoch 160 - loss: 0.1424 - weight x1: -2.888987889228783 - weight x2: -3.5279525867116415\n",
      "\n",
      "Epoch [161 / 200] - "
     ]
    },
    {
     "name": "stderr",
     "output_type": "stream",
     "text": [
      "100%|██████████| 8/8 [00:00<?, ?it/s]\n"
     ]
    },
    {
     "name": "stdout",
     "output_type": "stream",
     "text": [
      "Epoch 161 - loss: 0.1423 - weight x1: -2.892037598630819 - weight x2: -3.531119029709806\n",
      "\n",
      "Epoch [162 / 200] - "
     ]
    },
    {
     "name": "stderr",
     "output_type": "stream",
     "text": [
      "100%|██████████| 8/8 [00:00<00:00, 7992.96it/s]\n"
     ]
    },
    {
     "name": "stdout",
     "output_type": "stream",
     "text": [
      "Epoch 162 - loss: 0.1422 - weight x1: -2.895029505519661 - weight x2: -3.5342254571759653\n",
      "\n",
      "Epoch [163 / 200] - "
     ]
    },
    {
     "name": "stderr",
     "output_type": "stream",
     "text": [
      "100%|██████████| 8/8 [00:00<?, ?it/s]\n"
     ]
    },
    {
     "name": "stdout",
     "output_type": "stream",
     "text": [
      "Epoch 163 - loss: 0.1422 - weight x1: -2.897964705432494 - weight x2: -3.5372730066383333\n",
      "\n",
      "Epoch [164 / 200] - "
     ]
    },
    {
     "name": "stderr",
     "output_type": "stream",
     "text": [
      "100%|██████████| 8/8 [00:00<?, ?it/s]\n"
     ]
    },
    {
     "name": "stdout",
     "output_type": "stream",
     "text": [
      "Epoch 164 - loss: 0.1421 - weight x1: -2.900844273144501 - weight x2: -3.5402627940629596\n",
      "\n",
      "Epoch [165 / 200] - "
     ]
    },
    {
     "name": "stderr",
     "output_type": "stream",
     "text": [
      "100%|██████████| 8/8 [00:00<?, ?it/s]\n"
     ]
    },
    {
     "name": "stdout",
     "output_type": "stream",
     "text": [
      "Epoch 165 - loss: 0.142 - weight x1: -2.903669263062161 - weight x2: -3.543195914262582\n",
      "\n",
      "Epoch [166 / 200] - "
     ]
    },
    {
     "name": "stderr",
     "output_type": "stream",
     "text": [
      "100%|██████████| 8/8 [00:00<?, ?it/s]\n"
     ]
    },
    {
     "name": "stdout",
     "output_type": "stream",
     "text": [
      "Epoch 166 - loss: 0.142 - weight x1: -2.906440709609117 - weight x2: -3.546073441297727\n",
      "\n",
      "Epoch [167 / 200] - "
     ]
    },
    {
     "name": "stderr",
     "output_type": "stream",
     "text": [
      "100%|██████████| 8/8 [00:00<?, ?it/s]"
     ]
    },
    {
     "name": "stdout",
     "output_type": "stream",
     "text": [
      "Epoch 167 - loss: 0.1419 - weight x1: -2.9091596276047444 - weight x2: -3.5488964288701883\n",
      "\n",
      "Epoch [168 / 200] - "
     ]
    },
    {
     "name": "stderr",
     "output_type": "stream",
     "text": [
      "\n",
      "100%|██████████| 8/8 [00:00<?, ?it/s]\n"
     ]
    },
    {
     "name": "stdout",
     "output_type": "stream",
     "text": [
      "Epoch 168 - loss: 0.1418 - weight x1: -2.9118270126355656 - weight x2: -3.5516659107090347\n",
      "\n",
      "Epoch [169 / 200] - "
     ]
    },
    {
     "name": "stderr",
     "output_type": "stream",
     "text": [
      "100%|██████████| 8/8 [00:00<?, ?it/s]\n"
     ]
    },
    {
     "name": "stdout",
     "output_type": "stream",
     "text": [
      "Epoch 169 - loss: 0.1418 - weight x1: -2.9144438414196325 - weight x2: -3.554382900949285\n",
      "\n",
      "Epoch [170 / 200] - "
     ]
    },
    {
     "name": "stderr",
     "output_type": "stream",
     "text": [
      "100%|██████████| 8/8 [00:00<?, ?it/s]\n"
     ]
    },
    {
     "name": "stdout",
     "output_type": "stream",
     "text": [
      "Epoch 170 - loss: 0.1417 - weight x1: -2.917011072164024 - weight x2: -3.557048394503403\n",
      "\n",
      "Epoch [171 / 200] - "
     ]
    },
    {
     "name": "stderr",
     "output_type": "stream",
     "text": [
      "100%|██████████| 8/8 [00:00<?, ?it/s]\n"
     ]
    },
    {
     "name": "stdout",
     "output_type": "stream",
     "text": [
      "Epoch 171 - loss: 0.1417 - weight x1: -2.919529644915574 - weight x2: -3.559663367425728\n",
      "\n",
      "Epoch [172 / 200] - "
     ]
    },
    {
     "name": "stderr",
     "output_type": "stream",
     "text": [
      "100%|██████████| 8/8 [00:00<00:00, 8006.31it/s]\n"
     ]
    },
    {
     "name": "stdout",
     "output_type": "stream",
     "text": [
      "Epoch 172 - loss: 0.1416 - weight x1: -2.9220004819049636 - weight x2: -3.562228777270003\n",
      "\n",
      "Epoch [173 / 200] - "
     ]
    },
    {
     "name": "stderr",
     "output_type": "stream",
     "text": [
      "100%|██████████| 8/8 [00:00<00:00, 8006.31it/s]\n"
     ]
    },
    {
     "name": "stdout",
     "output_type": "stream",
     "text": [
      "Epoch 173 - loss: 0.1416 - weight x1: -2.924424487884303 - weight x2: -3.564745563440107\n",
      "\n",
      "Epoch [174 / 200] - "
     ]
    },
    {
     "name": "stderr",
     "output_type": "stream",
     "text": [
      "100%|██████████| 8/8 [00:00<?, ?it/s]\n"
     ]
    },
    {
     "name": "stdout",
     "output_type": "stream",
     "text": [
      "Epoch 174 - loss: 0.1415 - weight x1: -2.926802550458322 - weight x2: -3.567214647534137\n",
      "\n",
      "Epoch [175 / 200] - "
     ]
    },
    {
     "name": "stderr",
     "output_type": "stream",
     "text": [
      "100%|██████████| 8/8 [00:00<?, ?it/s]\n"
     ]
    },
    {
     "name": "stdout",
     "output_type": "stream",
     "text": [
      "Epoch 175 - loss: 0.1415 - weight x1: -2.929135540409297 - weight x2: -3.5696369336819593\n",
      "\n",
      "Epoch [176 / 200] - "
     ]
    },
    {
     "name": "stderr",
     "output_type": "stream",
     "text": [
      "100%|██████████| 8/8 [00:00<?, ?it/s]\n"
     ]
    },
    {
     "name": "stdout",
     "output_type": "stream",
     "text": [
      "Epoch 176 - loss: 0.1414 - weight x1: -2.931424312015818 - weight x2: -3.5720133088763615\n",
      "\n",
      "Epoch [177 / 200] - "
     ]
    },
    {
     "name": "stderr",
     "output_type": "stream",
     "text": [
      "100%|██████████| 8/8 [00:00<?, ?it/s]\n"
     ]
    },
    {
     "name": "stdout",
     "output_type": "stream",
     "text": [
      "Epoch 177 - loss: 0.1414 - weight x1: -2.9336697033655277 - weight x2: -3.574344643297911\n",
      "\n",
      "Epoch [178 / 200] - "
     ]
    },
    {
     "name": "stderr",
     "output_type": "stream",
     "text": [
      "100%|██████████| 8/8 [00:00<?, ?it/s]\n"
     ]
    },
    {
     "name": "stdout",
     "output_type": "stream",
     "text": [
      "Epoch 178 - loss: 0.1414 - weight x1: -2.935872536661937 - weight x2: -3.5766317906336638\n",
      "\n",
      "Epoch [179 / 200] - "
     ]
    },
    {
     "name": "stderr",
     "output_type": "stream",
     "text": [
      "100%|██████████| 8/8 [00:00<00:00, 7992.96it/s]\n"
     ]
    },
    {
     "name": "stdout",
     "output_type": "stream",
     "text": [
      "Epoch 179 - loss: 0.1413 - weight x1: -2.93803361852543 - weight x2: -3.578875588389821\n",
      "\n",
      "Epoch [180 / 200] - "
     ]
    },
    {
     "name": "stderr",
     "output_type": "stream",
     "text": [
      "100%|██████████| 8/8 [00:00<?, ?it/s]\n"
     ]
    },
    {
     "name": "stdout",
     "output_type": "stream",
     "text": [
      "Epoch 180 - loss: 0.1413 - weight x1: -2.940153740288569 - weight x2: -3.5810768581984536\n",
      "\n",
      "Epoch [181 / 200] - "
     ]
    },
    {
     "name": "stderr",
     "output_type": "stream",
     "text": [
      "100%|██████████| 8/8 [00:00<?, ?it/s]\n"
     ]
    },
    {
     "name": "stdout",
     "output_type": "stream",
     "text": [
      "Epoch 181 - loss: 0.1412 - weight x1: -2.942233678285812 - weight x2: -3.583236406118417\n",
      "\n",
      "Epoch [182 / 200] - "
     ]
    },
    {
     "name": "stderr",
     "output_type": "stream",
     "text": [
      "100%|██████████| 8/8 [00:00<00:00, 7910.05it/s]\n"
     ]
    },
    {
     "name": "stdout",
     "output_type": "stream",
     "text": [
      "Epoch 182 - loss: 0.1412 - weight x1: -2.9442741941377304 - weight x2: -3.585355022930548\n",
      "\n",
      "Epoch [183 / 200] - "
     ]
    },
    {
     "name": "stderr",
     "output_type": "stream",
     "text": [
      "100%|██████████| 8/8 [00:00<?, ?it/s]\n"
     ]
    },
    {
     "name": "stdout",
     "output_type": "stream",
     "text": [
      "Epoch 183 - loss: 0.1412 - weight x1: -2.9462760350298622 - weight x2: -3.5874334844272755\n",
      "\n",
      "Epoch [184 / 200] - "
     ]
    },
    {
     "name": "stderr",
     "output_type": "stream",
     "text": [
      "100%|██████████| 8/8 [00:00<00:00, 7989.15it/s]\n"
     ]
    },
    {
     "name": "stdout",
     "output_type": "stream",
     "text": [
      "Epoch 184 - loss: 0.1411 - weight x1: -2.9482399339862644 - weight x2: -3.5894725516967276\n",
      "\n",
      "Epoch [185 / 200] - "
     ]
    },
    {
     "name": "stderr",
     "output_type": "stream",
     "text": [
      "100%|██████████| 8/8 [00:00<?, ?it/s]\n"
     ]
    },
    {
     "name": "stdout",
     "output_type": "stream",
     "text": [
      "Epoch 185 - loss: 0.1411 - weight x1: -2.9501666101378983 - weight x2: -3.591472971401462\n",
      "\n",
      "Epoch [186 / 200] - "
     ]
    },
    {
     "name": "stderr",
     "output_type": "stream",
     "text": [
      "100%|██████████| 8/8 [00:00<?, ?it/s]\n"
     ]
    },
    {
     "name": "stdout",
     "output_type": "stream",
     "text": [
      "Epoch 186 - loss: 0.1411 - weight x1: -2.952056768985921 - weight x2: -3.5934354760518996\n",
      "\n",
      "Epoch [187 / 200] - "
     ]
    },
    {
     "name": "stderr",
     "output_type": "stream",
     "text": [
      "100%|██████████| 8/8 [00:00<?, ?it/s]\n"
     ]
    },
    {
     "name": "stdout",
     "output_type": "stream",
     "text": [
      "Epoch 187 - loss: 0.1411 - weight x1: -2.9539111026599976 - weight x2: -3.5953607842745865\n",
      "\n",
      "Epoch [188 / 200] - "
     ]
    },
    {
     "name": "stderr",
     "output_type": "stream",
     "text": [
      "100%|██████████| 8/8 [00:00<?, ?it/s]\n"
     ]
    },
    {
     "name": "stdout",
     "output_type": "stream",
     "text": [
      "Epoch 188 - loss: 0.141 - weight x1: -2.9557302901717106 - weight x2: -3.5972496010753536\n",
      "\n",
      "Epoch [189 / 200] - "
     ]
    },
    {
     "name": "stderr",
     "output_type": "stream",
     "text": [
      "100%|██████████| 8/8 [00:00<?, ?it/s]\n"
     ]
    },
    {
     "name": "stdout",
     "output_type": "stream",
     "text": [
      "Epoch 189 - loss: 0.141 - weight x1: -2.9575149976631763 - weight x2: -3.5991026180975036\n",
      "\n",
      "Epoch [190 / 200] - "
     ]
    },
    {
     "name": "stderr",
     "output_type": "stream",
     "text": [
      "100%|██████████| 8/8 [00:00<?, ?it/s]\n"
     ]
    },
    {
     "name": "stdout",
     "output_type": "stream",
     "text": [
      "Epoch 190 - loss: 0.141 - weight x1: -2.959265878650948 - weight x2: -3.600920513875089\n",
      "\n",
      "Epoch [191 / 200] - "
     ]
    },
    {
     "name": "stderr",
     "output_type": "stream",
     "text": [
      "100%|██████████| 8/8 [00:00<?, ?it/s]\n"
     ]
    },
    {
     "name": "stdout",
     "output_type": "stream",
     "text": [
      "Epoch 191 - loss: 0.141 - weight x1: -2.9609835742652937 - weight x2: -3.602703954081396\n",
      "\n",
      "Epoch [192 / 200] - "
     ]
    },
    {
     "name": "stderr",
     "output_type": "stream",
     "text": [
      "100%|██████████| 8/8 [00:00<?, ?it/s]\n"
     ]
    },
    {
     "name": "stdout",
     "output_type": "stream",
     "text": [
      "Epoch 192 - loss: 0.1409 - weight x1: -2.962668713484951 - weight x2: -3.604453591772715\n",
      "\n",
      "Epoch [193 / 200] - "
     ]
    },
    {
     "name": "stderr",
     "output_type": "stream",
     "text": [
      "100%|██████████| 8/8 [00:00<?, ?it/s]\n"
     ]
    },
    {
     "name": "stdout",
     "output_type": "stream",
     "text": [
      "Epoch 193 - loss: 0.1409 - weight x1: -2.964321913367422 - weight x2: -3.6061700676274886\n",
      "\n",
      "Epoch [194 / 200] - "
     ]
    },
    {
     "name": "stderr",
     "output_type": "stream",
     "text": [
      "100%|██████████| 8/8 [00:00<?, ?it/s]\n"
     ]
    },
    {
     "name": "stdout",
     "output_type": "stream",
     "text": [
      "Epoch 194 - loss: 0.1409 - weight x1: -2.9659437792749133 - weight x2: -3.6078540101809264\n",
      "\n",
      "Epoch [195 / 200] - "
     ]
    },
    {
     "name": "stderr",
     "output_type": "stream",
     "text": [
      "100%|██████████| 8/8 [00:00<?, ?it/s]\n"
     ]
    },
    {
     "name": "stdout",
     "output_type": "stream",
     "text": [
      "Epoch 195 - loss: 0.1409 - weight x1: -2.9675349050959894 - weight x2: -3.609506036055175\n",
      "\n",
      "Epoch [196 / 200] - "
     ]
    },
    {
     "name": "stderr",
     "output_type": "stream",
     "text": [
      "100%|██████████| 8/8 [00:00<?, ?it/s]\n"
     ]
    },
    {
     "name": "stdout",
     "output_type": "stream",
     "text": [
      "Epoch 196 - loss: 0.1408 - weight x1: -2.9690958734630293 - weight x2: -3.6111267501851163\n",
      "\n",
      "Epoch [197 / 200] - "
     ]
    },
    {
     "name": "stderr",
     "output_type": "stream",
     "text": [
      "100%|██████████| 8/8 [00:00<?, ?it/s]\n"
     ]
    },
    {
     "name": "stdout",
     "output_type": "stream",
     "text": [
      "Epoch 197 - loss: 0.1408 - weight x1: -2.970627255965563 - weight x2: -3.6127167460398977\n",
      "\n",
      "Epoch [198 / 200] - "
     ]
    },
    {
     "name": "stderr",
     "output_type": "stream",
     "text": [
      "100%|██████████| 8/8 [00:00<?, ?it/s]\n"
     ]
    },
    {
     "name": "stdout",
     "output_type": "stream",
     "text": [
      "Epoch 198 - loss: 0.1408 - weight x1: -2.97212961335956 - weight x2: -3.6142766058402507\n",
      "\n",
      "Epoch [199 / 200] - "
     ]
    },
    {
     "name": "stderr",
     "output_type": "stream",
     "text": [
      "100%|██████████| 8/8 [00:00<?, ?it/s]\n"
     ]
    },
    {
     "name": "stdout",
     "output_type": "stream",
     "text": [
      "Epoch 199 - loss: 0.1408 - weight x1: -2.9736034957727595 - weight x2: -3.6158069007716973\n",
      "\n",
      "Epoch [200 / 200] - "
     ]
    },
    {
     "name": "stderr",
     "output_type": "stream",
     "text": [
      "100%|██████████| 8/8 [00:00<?, ?it/s]\n"
     ]
    },
    {
     "name": "stdout",
     "output_type": "stream",
     "text": [
      "Epoch 200 - loss: 0.1408 - weight x1: -2.975049442906103 - weight x2: -3.6173081911937097\n",
      "\n"
     ]
    },
    {
     "data": {
      "image/png": "[encoded data removed]",
      "text/plain": [
       "<Figure size 1000x600 with 1 Axes>"
      ]
     },
     "metadata": {},
     "output_type": "display_data"
    }
   ],
   "source": [
    "model = AdalineLMS(feature, label);\n",
    "model.train();"
   ]
  },
  {
   "cell_type": "code",
   "execution_count": 5,
   "metadata": {},
   "outputs": [
    {
     "data": {
      "image/png": "[encoded data removed]",
      "text/plain": [
       "<Figure size 640x480 with 1 Axes>"
      ]
     },
     "metadata": {},
     "output_type": "display_data"
    },
    {
     "name": "stdout",
     "output_type": "stream",
     "text": [
      "Final weights - weight_x1: -2.975049442906103 - weight_x2: -3.6173081911937097 - bias: 3.455176857095627\n"
     ]
    }
   ],
   "source": [
    "# Plot decision boundary\n",
    "\n",
    "for i in range(len(label)):\n",
    "\n",
    "    if label[i] == 1:\n",
    "        plt.scatter(feature[i][0], feature[i][1], color='blue', marker='o', label='1' if i == 0 else \"\");\n",
    "    else:\n",
    "        plt.scatter(feature[i][0], feature[i][1], color='red', marker='x', label='-1' if i == 0 else \"\");\n",
    "\n",
    "# Plotting the decision boundary\n",
    "x1_min, x1_max = min(feature[:, 0]), max(feature[:, 0]); # Get min-max for x1\n",
    "\n",
    "# Get min-max for x2\n",
    "x2_min = (-model.weight_x1 * x1_min - model.bias) / model.weight_x2;\n",
    "x2_max = (-model.weight_x1 * x1_max - model.bias) / model.weight_x2;\n",
    "\n",
    "plt.plot([x1_min, x1_max], [x2_min, x2_max], 'k--', label='Decision Boundary'); #\n",
    "plt.xlabel('Feature 1');\n",
    "plt.ylabel('Feature 2');\n",
    "plt.title('Decision Boundary');\n",
    "plt.legend();\n",
    "plt.show();\n",
    "\n",
    "print(f\"Final weights - weight_x1: {model.weight_x1} - weight_x2: {model.weight_x2} - bias: {model.bias}\");"
   ]
  }
 ],
 "metadata": {
  "kernelspec": {
   "display_name": "base",
   "language": "python",
   "name": "python3"
  },
  "language_info": {
   "codemirror_mode": {
    "name": "ipython",
    "version": 3
   },
   "file_extension": ".py",
   "mimetype": "text/x-python",
   "name": "python",
   "nbconvert_exporter": "python",
   "pygments_lexer": "ipython3",
   "version": "3.10.9"
  }
 },
 "nbformat": 4,
 "nbformat_minor": 2
}

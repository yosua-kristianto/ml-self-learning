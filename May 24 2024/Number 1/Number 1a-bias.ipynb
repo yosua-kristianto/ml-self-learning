{
 "cells": [
  {
   "cell_type": "code",
   "execution_count": 21,
   "metadata": {},
   "outputs": [],
   "source": [
    "import numpy;\n",
    "import matplotlib.pyplot as plt;\n",
    "\n",
    "from tensorflow.keras.initializers import TruncatedNormal;\n",
    "\n",
    "from tqdm import tqdm;"
   ]
  },
  {
   "cell_type": "code",
   "execution_count": 22,
   "metadata": {},
   "outputs": [],
   "source": [
    "# Training data\n",
    "feature = numpy.array(\n",
    "    [\n",
    "        [0.08, 0.72], [0.26, 0.58], [0.45, 0.15], \n",
    "        [0.60, 0.30], [0.10, 1.0], [0.35, 0.95], \n",
    "        [0.70, 0.65], [0.92, 0.45]\n",
    "    ]);\n",
    "\n",
    "label = numpy.array([1, 1, 1, 1, -1, -1, -1, -1]);"
   ]
  },
  {
   "cell_type": "code",
   "execution_count": 23,
   "metadata": {},
   "outputs": [],
   "source": [
    "class AdalineLMS:\n",
    "\n",
    "    # Hyperparameters\n",
    "    def __init__(self, feature, label):\n",
    "        \n",
    "        self.learning_rate = 1e-1;\n",
    "        self.epoch = 200;\n",
    "\n",
    "        initializer = TruncatedNormal(mean = 0.5, stddev = 0.02)(shape = (1, 3)).numpy();\n",
    "\n",
    "        # Weight initial\n",
    "        self.weight_x1 = initializer[0][0];\n",
    "        self.weight_x2 = initializer[0][1];\n",
    "\n",
    "        # Bias just in case\n",
    "        self.bias = initializer[0][2];\n",
    "\n",
    "        # Load dataset\n",
    "        self.feature = feature;\n",
    "        self.label = label;\n",
    "    \n",
    "        print(\"AdalineLMS initial configuration:\");\n",
    "        print(f\"weight x1 {self.weight_x1} - weight x2: {self.weight_x2} - bias: {self.bias}\");\n",
    "        print(\"\\n\\n\\n\");\n",
    "\n",
    "    # Mean Squared Error\n",
    "    def _mse(self, prediction):\n",
    "        return numpy.mean((self.label - prediction) ** 2);\n",
    "\n",
    "    # Feed Forward process\n",
    "    def forward(self):\n",
    "        predictions = [];\n",
    "\n",
    "        for i in self.feature:\n",
    "            prediction = (self.weight_x1 * i[0]) + (self.weight_x2 * i[1]) + self.bias;\n",
    "\n",
    "            predictions.append(prediction);\n",
    "\n",
    "        return predictions;\n",
    "\n",
    "    # Learning Rule: LMS Implementation\n",
    "    def learning_rule(self, predictions):\n",
    "\n",
    "        # new weight x1 = current weight + (learning rate x (ground truth - prediction) x x1\n",
    "        for i in tqdm(range(len(self.feature))):\n",
    "            truth_difference = (self.label[i] - predictions[i]);\n",
    "\n",
    "            new_weight_x1 = (self.weight_x1 + (self.learning_rate * truth_difference * self.feature[i][0]));\n",
    "            new_weight_x2 = (self.weight_x2 + (self.learning_rate * truth_difference * self.feature[i][1]));\n",
    "            new_bias = self.learning_rate * truth_difference;\n",
    "\n",
    "            # print(f\"new_weight_x1: {new_weight[0]} - new_weight_x2: {new_weight[1]}\")\n",
    "    \n",
    "            self.weight_x1 = new_weight_x1;\n",
    "            self.weight_x2 = new_weight_x2;\n",
    "            self.bias = new_bias;\n",
    "    \n",
    "    def train(self):\n",
    "\n",
    "        loss_history = [];\n",
    "        \n",
    "        # Loop 200 epochs\n",
    "        for i in range(self.epoch):\n",
    "            \n",
    "            print(f\"Epoch [{i + 1} / {self.epoch}] -\", end = \" \");\n",
    "\n",
    "            loss = 0.0;\n",
    "\n",
    "            # Forward pass \n",
    "            predictions = self.forward();\n",
    "\n",
    "            # Count current epoch's loss\n",
    "            loss = self._mse(predictions);\n",
    "\n",
    "            # Apply LMS to update weight\n",
    "            self.learning_rule(predictions);\n",
    "                \n",
    "\n",
    "            loss_history.append(loss);\n",
    "            print(f\"Epoch {i + 1} - loss: {round(loss, 4)} - weight x1: {self.weight_x1} - weight x2: {self.weight_x2}\\n\");\n",
    "\n",
    "         # Plotting MSE curve\n",
    "        plt.figure(figsize=(10, 6));\n",
    "        plt.plot(range(self.epoch), loss_history, label='MSE');\n",
    "        plt.xlabel('Epoch');\n",
    "        plt.ylabel('Mean Squared Error');\n",
    "        plt.title('MSE over Epochs');\n",
    "        plt.legend();\n",
    "        plt.show()           \n"
   ]
  },
  {
   "cell_type": "code",
   "execution_count": 24,
   "metadata": {},
   "outputs": [
    {
     "name": "stdout",
     "output_type": "stream",
     "text": [
      "AdalineLMS initial configuration:\n",
      "weight x1 0.5077690482139587 - weight x2: 0.4978870749473572 - bias: 0.5014121532440186\n",
      "\n",
      "\n",
      "\n",
      "\n",
      "Epoch [1 / 200] - "
     ]
    },
    {
     "name": "stderr",
     "output_type": "stream",
     "text": [
      "100%|██████████| 8/8 [00:00<?, ?it/s]\n"
     ]
    },
    {
     "name": "stdout",
     "output_type": "stream",
     "text": [
      "Epoch 1 - loss: 2.3066 - weight x1: 0.071876073229313 - weight x2: -0.13602766609549521\n",
      "\n",
      "Epoch [2 / 200] - "
     ]
    },
    {
     "name": "stderr",
     "output_type": "stream",
     "text": [
      "100%|██████████| 8/8 [00:00<00:00, 7987.25it/s]\n"
     ]
    },
    {
     "name": "stdout",
     "output_type": "stream",
     "text": [
      "Epoch 2 - loss: 1.0434 - weight x1: 0.08851305341315589 - weight x2: -0.1258749931140568\n",
      "\n",
      "Epoch [3 / 200] - "
     ]
    },
    {
     "name": "stderr",
     "output_type": "stream",
     "text": [
      "100%|██████████| 8/8 [00:00<?, ?it/s]\n"
     ]
    },
    {
     "name": "stdout",
     "output_type": "stream",
     "text": [
      "Epoch 3 - loss: 0.9903 - weight x1: 0.05118236817915103 - weight x2: -0.18972815725561093\n",
      "\n",
      "Epoch [4 / 200] - "
     ]
    },
    {
     "name": "stderr",
     "output_type": "stream",
     "text": [
      "100%|██████████| 8/8 [00:00<00:00, 7981.55it/s]\n"
     ]
    },
    {
     "name": "stdout",
     "output_type": "stream",
     "text": [
      "Epoch 4 - loss: 0.9855 - weight x1: 0.03848857443810169 - weight x2: -0.21699804638144002\n",
      "\n",
      "Epoch [5 / 200] - "
     ]
    },
    {
     "name": "stderr",
     "output_type": "stream",
     "text": [
      "100%|██████████| 8/8 [00:00<00:00, 3980.36it/s]\n"
     ]
    },
    {
     "name": "stdout",
     "output_type": "stream",
     "text": [
      "Epoch 5 - loss: 0.9805 - weight x1: 0.03052166481245812 - weight x2: -0.23630533640776463\n",
      "\n",
      "Epoch [6 / 200] - "
     ]
    },
    {
     "name": "stderr",
     "output_type": "stream",
     "text": [
      "100%|██████████| 8/8 [00:00<?, ?it/s]\n"
     ]
    },
    {
     "name": "stdout",
     "output_type": "stream",
     "text": [
      "Epoch 6 - loss: 0.979 - weight x1: 0.027070318225950366 - weight x2: -0.24823474864837713\n",
      "\n",
      "Epoch [7 / 200] - "
     ]
    },
    {
     "name": "stderr",
     "output_type": "stream",
     "text": [
      "100%|██████████| 8/8 [00:00<?, ?it/s]\n"
     ]
    },
    {
     "name": "stdout",
     "output_type": "stream",
     "text": [
      "Epoch 7 - loss: 0.978 - weight x1: 0.025943361210285176 - weight x2: -0.25608041258063474\n",
      "\n",
      "Epoch [8 / 200] - "
     ]
    },
    {
     "name": "stderr",
     "output_type": "stream",
     "text": [
      "100%|██████████| 8/8 [00:00<?, ?it/s]\n"
     ]
    },
    {
     "name": "stdout",
     "output_type": "stream",
     "text": [
      "Epoch 8 - loss: 0.9776 - weight x1: 0.026186739675689658 - weight x2: -0.26132702099251065\n",
      "\n",
      "Epoch [9 / 200] - "
     ]
    },
    {
     "name": "stderr",
     "output_type": "stream",
     "text": [
      "100%|██████████| 8/8 [00:00<?, ?it/s]\n"
     ]
    },
    {
     "name": "stdout",
     "output_type": "stream",
     "text": [
      "Epoch 9 - loss: 0.9774 - weight x1: 0.027167459020989368 - weight x2: -0.2649679589372032\n",
      "\n",
      "Epoch [10 / 200] - "
     ]
    },
    {
     "name": "stderr",
     "output_type": "stream",
     "text": [
      "100%|██████████| 8/8 [00:00<?, ?it/s]\n"
     ]
    },
    {
     "name": "stdout",
     "output_type": "stream",
     "text": [
      "Epoch 10 - loss: 0.9773 - weight x1: 0.028520959398097942 - weight x2: -0.2675928783644829\n",
      "\n",
      "Epoch [11 / 200] - "
     ]
    },
    {
     "name": "stderr",
     "output_type": "stream",
     "text": [
      "100%|██████████| 8/8 [00:00<?, ?it/s]\n"
     ]
    },
    {
     "name": "stdout",
     "output_type": "stream",
     "text": [
      "Epoch 11 - loss: 0.9772 - weight x1: 0.030031385675524144 - weight x2: -0.2695652343141314\n",
      "\n",
      "Epoch [12 / 200] - "
     ]
    },
    {
     "name": "stderr",
     "output_type": "stream",
     "text": [
      "100%|██████████| 8/8 [00:00<?, ?it/s]\n"
     ]
    },
    {
     "name": "stdout",
     "output_type": "stream",
     "text": [
      "Epoch 12 - loss: 0.9772 - weight x1: 0.03157458441465723 - weight x2: -0.27110796838271356\n",
      "\n",
      "Epoch [13 / 200] - "
     ]
    },
    {
     "name": "stderr",
     "output_type": "stream",
     "text": [
      "100%|██████████| 8/8 [00:00<00:00, 7932.49it/s]\n"
     ]
    },
    {
     "name": "stdout",
     "output_type": "stream",
     "text": [
      "Epoch 13 - loss: 0.9772 - weight x1: 0.033080952906036395 - weight x2: -0.27235922848330196\n",
      "\n",
      "Epoch [14 / 200] - "
     ]
    },
    {
     "name": "stderr",
     "output_type": "stream",
     "text": [
      "100%|██████████| 8/8 [00:00<?, ?it/s]\n"
     ]
    },
    {
     "name": "stdout",
     "output_type": "stream",
     "text": [
      "Epoch 14 - loss: 0.9772 - weight x1: 0.03451347428517723 - weight x2: -0.2734054549033851\n",
      "\n",
      "Epoch [15 / 200] - "
     ]
    },
    {
     "name": "stderr",
     "output_type": "stream",
     "text": [
      "100%|██████████| 8/8 [00:00<?, ?it/s]\n"
     ]
    },
    {
     "name": "stdout",
     "output_type": "stream",
     "text": [
      "Epoch 15 - loss: 0.9773 - weight x1: 0.03585438432028462 - weight x2: -0.2743015506568638\n",
      "\n",
      "Epoch [16 / 200] - "
     ]
    },
    {
     "name": "stderr",
     "output_type": "stream",
     "text": [
      "100%|██████████| 8/8 [00:00<?, ?it/s]\n"
     ]
    },
    {
     "name": "stdout",
     "output_type": "stream",
     "text": [
      "Epoch 16 - loss: 0.9773 - weight x1: 0.0370971565118904 - weight x2: -0.2750830934190059\n",
      "\n",
      "Epoch [17 / 200] - "
     ]
    },
    {
     "name": "stderr",
     "output_type": "stream",
     "text": [
      "100%|██████████| 8/8 [00:00<?, ?it/s]\n"
     ]
    },
    {
     "name": "stdout",
     "output_type": "stream",
     "text": [
      "Epoch 17 - loss: 0.9773 - weight x1: 0.0382416856598929 - weight x2: -0.2757737521804103\n",
      "\n",
      "Epoch [18 / 200] - "
     ]
    },
    {
     "name": "stderr",
     "output_type": "stream",
     "text": [
      "100%|██████████| 8/8 [00:00<00:00, 8002.49it/s]\n"
     ]
    },
    {
     "name": "stdout",
     "output_type": "stream",
     "text": [
      "Epoch 18 - loss: 0.9774 - weight x1: 0.03929140712654096 - weight x2: -0.2763897950961477\n",
      "\n",
      "Epoch [19 / 200] - "
     ]
    },
    {
     "name": "stderr",
     "output_type": "stream",
     "text": [
      "100%|██████████| 8/8 [00:00<?, ?it/s]\n"
     ]
    },
    {
     "name": "stdout",
     "output_type": "stream",
     "text": [
      "Epoch 19 - loss: 0.9774 - weight x1: 0.040251584201063104 - weight x2: -0.2769428356037326\n",
      "\n",
      "Epoch [20 / 200] - "
     ]
    },
    {
     "name": "stderr",
     "output_type": "stream",
     "text": [
      "100%|██████████| 8/8 [00:00<?, ?it/s]\n"
     ]
    },
    {
     "name": "stdout",
     "output_type": "stream",
     "text": [
      "Epoch 20 - loss: 0.9774 - weight x1: 0.0411282998203016 - weight x2: -0.2774415104388669\n",
      "\n",
      "Epoch [21 / 200] - "
     ]
    },
    {
     "name": "stderr",
     "output_type": "stream",
     "text": [
      "100%|██████████| 8/8 [00:00<?, ?it/s]\n"
     ]
    },
    {
     "name": "stdout",
     "output_type": "stream",
     "text": [
      "Epoch 21 - loss: 0.9774 - weight x1: 0.04192787207580688 - weight x2: -0.2778925097103899\n",
      "\n",
      "Epoch [22 / 200] - "
     ]
    },
    {
     "name": "stderr",
     "output_type": "stream",
     "text": [
      "100%|██████████| 8/8 [00:00<00:00, 8006.31it/s]\n"
     ]
    },
    {
     "name": "stdout",
     "output_type": "stream",
     "text": [
      "Epoch 22 - loss: 0.9775 - weight x1: 0.042656523922302625 - weight x2: -0.27830121346789227\n",
      "\n",
      "Epoch [23 / 200] - "
     ]
    },
    {
     "name": "stderr",
     "output_type": "stream",
     "text": [
      "100%|██████████| 8/8 [00:00<?, ?it/s]\n"
     ]
    },
    {
     "name": "stdout",
     "output_type": "stream",
     "text": [
      "Epoch 23 - loss: 0.9775 - weight x1: 0.04332020464059155 - weight x2: -0.2786720888968669\n",
      "\n",
      "Epoch [24 / 200] - "
     ]
    },
    {
     "name": "stderr",
     "output_type": "stream",
     "text": [
      "100%|██████████| 8/8 [00:00<?, ?it/s]\n"
     ]
    },
    {
     "name": "stdout",
     "output_type": "stream",
     "text": [
      "Epoch 24 - loss: 0.9775 - weight x1: 0.043924501233092134 - weight x2: -0.2790089415474622\n",
      "\n",
      "Epoch [25 / 200] - "
     ]
    },
    {
     "name": "stderr",
     "output_type": "stream",
     "text": [
      "100%|██████████| 8/8 [00:00<?, ?it/s]\n"
     ]
    },
    {
     "name": "stdout",
     "output_type": "stream",
     "text": [
      "Epoch 25 - loss: 0.9775 - weight x1: 0.04447460250354347 - weight x2: -0.27931507723392907\n",
      "\n",
      "Epoch [26 / 200] - "
     ]
    },
    {
     "name": "stderr",
     "output_type": "stream",
     "text": [
      "100%|██████████| 8/8 [00:00<?, ?it/s]\n"
     ]
    },
    {
     "name": "stdout",
     "output_type": "stream",
     "text": [
      "Epoch 26 - loss: 0.9775 - weight x1: 0.044975293431644386 - weight x2: -0.2795934089759831\n",
      "\n",
      "Epoch [27 / 200] - "
     ]
    },
    {
     "name": "stderr",
     "output_type": "stream",
     "text": [
      "100%|██████████| 8/8 [00:00<?, ?it/s]\n"
     ]
    },
    {
     "name": "stdout",
     "output_type": "stream",
     "text": [
      "Epoch 27 - loss: 0.9775 - weight x1: 0.04543096643373511 - weight x2: -0.2798465298674506\n",
      "\n",
      "Epoch [28 / 200] - "
     ]
    },
    {
     "name": "stderr",
     "output_type": "stream",
     "text": [
      "100%|██████████| 8/8 [00:00<?, ?it/s]\n"
     ]
    },
    {
     "name": "stdout",
     "output_type": "stream",
     "text": [
      "Epoch 28 - loss: 0.9776 - weight x1: 0.045845641523667324 - weight x2: -0.28007676458710673\n",
      "\n",
      "Epoch [29 / 200] - "
     ]
    },
    {
     "name": "stderr",
     "output_type": "stream",
     "text": [
      "100%|██████████| 8/8 [00:00<00:00, 8042.77it/s]\n"
     ]
    },
    {
     "name": "stdout",
     "output_type": "stream",
     "text": [
      "Epoch 29 - loss: 0.9776 - weight x1: 0.04622299065889647 - weight x2: -0.28028620731433035\n",
      "\n",
      "Epoch [30 / 200] - "
     ]
    },
    {
     "name": "stderr",
     "output_type": "stream",
     "text": [
      "100%|██████████| 8/8 [00:00<?, ?it/s]\n"
     ]
    },
    {
     "name": "stdout",
     "output_type": "stream",
     "text": [
      "Epoch 30 - loss: 0.9776 - weight x1: 0.04656636352604454 - weight x2: -0.2804767508085334\n",
      "\n",
      "Epoch [31 / 200] - "
     ]
    },
    {
     "name": "stderr",
     "output_type": "stream",
     "text": [
      "100%|██████████| 8/8 [00:00<?, ?it/s]\n"
     ]
    },
    {
     "name": "stdout",
     "output_type": "stream",
     "text": [
      "Epoch 31 - loss: 0.9776 - weight x1: 0.0468788132024275 - weight x2: -0.28065010958772485\n",
      "\n",
      "Epoch [32 / 200] - "
     ]
    },
    {
     "name": "stderr",
     "output_type": "stream",
     "text": [
      "100%|██████████| 8/8 [00:00<?, ?it/s]\n"
     ]
    },
    {
     "name": "stdout",
     "output_type": "stream",
     "text": [
      "Epoch 32 - loss: 0.9776 - weight x1: 0.047163120836800895 - weight x2: -0.2808078390327865\n",
      "\n",
      "Epoch [33 / 200] - "
     ]
    },
    {
     "name": "stderr",
     "output_type": "stream",
     "text": [
      "100%|██████████| 8/8 [00:00<?, ?it/s]\n"
     ]
    },
    {
     "name": "stdout",
     "output_type": "stream",
     "text": [
      "Epoch 33 - loss: 0.9776 - weight x1: 0.047421818912314964 - weight x2: -0.2809513515683848\n",
      "\n",
      "Epoch [34 / 200] - "
     ]
    },
    {
     "name": "stderr",
     "output_type": "stream",
     "text": [
      "100%|██████████| 8/8 [00:00<?, ?it/s]\n"
     ]
    },
    {
     "name": "stdout",
     "output_type": "stream",
     "text": [
      "Epoch 34 - loss: 0.9776 - weight x1: 0.047657212901393464 - weight x2: -0.2810819306583792\n",
      "\n",
      "Epoch [35 / 200] - "
     ]
    },
    {
     "name": "stderr",
     "output_type": "stream",
     "text": [
      "100%|██████████| 8/8 [00:00<?, ?it/s]\n"
     ]
    },
    {
     "name": "stdout",
     "output_type": "stream",
     "text": [
      "Epoch 35 - loss: 0.9776 - weight x1: 0.047871401264909755 - weight x2: -0.28120074309984266\n",
      "\n",
      "Epoch [36 / 200] - "
     ]
    },
    {
     "name": "stderr",
     "output_type": "stream",
     "text": [
      "100%|██████████| 8/8 [00:00<?, ?it/s]\n"
     ]
    },
    {
     "name": "stdout",
     "output_type": "stream",
     "text": [
      "Epoch 36 - loss: 0.9776 - weight x1: 0.04806629382830098 - weight x2: -0.28130884994283406\n",
      "\n",
      "Epoch [37 / 200] - "
     ]
    },
    {
     "name": "stderr",
     "output_type": "stream",
     "text": [
      "100%|██████████| 8/8 [00:00<00:00, 5305.05it/s]\n"
     ]
    },
    {
     "name": "stdout",
     "output_type": "stream",
     "text": [
      "Epoch 37 - loss: 0.9776 - weight x1: 0.04824362861031031 - weight x2: -0.28140721626497334\n",
      "\n",
      "Epoch [38 / 200] - "
     ]
    },
    {
     "name": "stderr",
     "output_type": "stream",
     "text": [
      "100%|██████████| 8/8 [00:00<?, ?it/s]\n"
     ]
    },
    {
     "name": "stdout",
     "output_type": "stream",
     "text": [
      "Epoch 38 - loss: 0.9776 - weight x1: 0.048404987201067964 - weight x2: -0.2814967199676963\n",
      "\n",
      "Epoch [39 / 200] - "
     ]
    },
    {
     "name": "stderr",
     "output_type": "stream",
     "text": [
      "100%|██████████| 8/8 [00:00<?, ?it/s]\n"
     ]
    },
    {
     "name": "stdout",
     "output_type": "stream",
     "text": [
      "Epoch 39 - loss: 0.9776 - weight x1: 0.04855180879435922 - weight x2: -0.2815781597208906\n",
      "\n",
      "Epoch [40 / 200] - "
     ]
    },
    {
     "name": "stderr",
     "output_type": "stream",
     "text": [
      "100%|██████████| 8/8 [00:00<00:00, 6187.43it/s]\n"
     ]
    },
    {
     "name": "stdout",
     "output_type": "stream",
     "text": [
      "Epoch 40 - loss: 0.9776 - weight x1: 0.048685402979683434 - weight x2: -0.28165226215597866\n",
      "\n",
      "Epoch [41 / 200] - "
     ]
    },
    {
     "name": "stderr",
     "output_type": "stream",
     "text": [
      "100%|██████████| 8/8 [00:00<?, ?it/s]\n"
     ]
    },
    {
     "name": "stdout",
     "output_type": "stream",
     "text": [
      "Epoch 41 - loss: 0.9776 - weight x1: 0.048806961396366394 - weight x2: -0.28171968838928674\n",
      "\n",
      "Epoch [42 / 200] - "
     ]
    },
    {
     "name": "stderr",
     "output_type": "stream",
     "text": [
      "100%|██████████| 8/8 [00:00<00:00, 8019.70it/s]\n"
     ]
    },
    {
     "name": "stdout",
     "output_type": "stream",
     "text": [
      "Epoch 42 - loss: 0.9777 - weight x1: 0.04891756834651596 - weight x2: -0.2817810399445896\n",
      "\n",
      "Epoch [43 / 200] - "
     ]
    },
    {
     "name": "stderr",
     "output_type": "stream",
     "text": [
      "100%|██████████| 8/8 [00:00<?, ?it/s]\n"
     ]
    },
    {
     "name": "stdout",
     "output_type": "stream",
     "text": [
      "Epoch 43 - loss: 0.9777 - weight x1: 0.04901821045714985 - weight x2: -0.2818368641341369\n",
      "\n",
      "Epoch [44 / 200] - "
     ]
    },
    {
     "name": "stderr",
     "output_type": "stream",
     "text": [
      "100%|██████████| 8/8 [00:00<?, ?it/s]\n"
     ]
    },
    {
     "name": "stdout",
     "output_type": "stream",
     "text": [
      "Epoch 44 - loss: 0.9777 - weight x1: 0.049109785475059065 - weight x2: -0.2818876589500827\n",
      "\n",
      "Epoch [45 / 200] - "
     ]
    },
    {
     "name": "stderr",
     "output_type": "stream",
     "text": [
      "100%|██████████| 8/8 [00:00<00:00, 8008.22it/s]\n"
     ]
    },
    {
     "name": "stdout",
     "output_type": "stream",
     "text": [
      "Epoch 45 - loss: 0.9777 - weight x1: 0.049193110271268714 - weight x2: -0.28193387751232385\n",
      "\n",
      "Epoch [46 / 200] - "
     ]
    },
    {
     "name": "stderr",
     "output_type": "stream",
     "text": [
      "100%|██████████| 8/8 [00:00<?, ?it/s]\n"
     ]
    },
    {
     "name": "stdout",
     "output_type": "stream",
     "text": [
      "Epoch 46 - loss: 0.9777 - weight x1: 0.04926892812553674 - weight x2: -0.2819759321138599\n",
      "\n",
      "Epoch [47 / 200] - "
     ]
    },
    {
     "name": "stderr",
     "output_type": "stream",
     "text": [
      "100%|██████████| 8/8 [00:00<?, ?it/s]\n"
     ]
    },
    {
     "name": "stdout",
     "output_type": "stream",
     "text": [
      "Epoch 47 - loss: 0.9777 - weight x1: 0.049337915355287615 - weight x2: -0.2820141979006299\n",
      "\n",
      "Epoch [48 / 200] - "
     ]
    },
    {
     "name": "stderr",
     "output_type": "stream",
     "text": [
      "100%|██████████| 8/8 [00:00<?, ?it/s]\n"
     ]
    },
    {
     "name": "stdout",
     "output_type": "stream",
     "text": [
      "Epoch 48 - loss: 0.9777 - weight x1: 0.049400687347760194 - weight x2: -0.28204901621917766\n",
      "\n",
      "Epoch [49 / 200] - "
     ]
    },
    {
     "name": "stderr",
     "output_type": "stream",
     "text": [
      "100%|██████████| 8/8 [00:00<?, ?it/s]\n"
     ]
    },
    {
     "name": "stdout",
     "output_type": "stream",
     "text": [
      "Epoch 49 - loss: 0.9777 - weight x1: 0.04945780404896592 - weight x2: -0.2820806976623268\n",
      "\n",
      "Epoch [50 / 200] - "
     ]
    },
    {
     "name": "stderr",
     "output_type": "stream",
     "text": [
      "100%|██████████| 8/8 [00:00<00:00, 5296.67it/s]\n"
     ]
    },
    {
     "name": "stdout",
     "output_type": "stream",
     "text": [
      "Epoch 50 - loss: 0.9777 - weight x1: 0.04950977495829077 - weight x2: -0.282109524840226\n",
      "\n",
      "Epoch [51 / 200] - "
     ]
    },
    {
     "name": "stderr",
     "output_type": "stream",
     "text": [
      "100%|██████████| 8/8 [00:00<?, ?it/s]\n"
     ]
    },
    {
     "name": "stdout",
     "output_type": "stream",
     "text": [
      "Epoch 51 - loss: 0.9777 - weight x1: 0.049557063673216134 - weight x2: -0.2821357549016013\n",
      "\n",
      "Epoch [52 / 200] - "
     ]
    },
    {
     "name": "stderr",
     "output_type": "stream",
     "text": [
      "100%|██████████| 8/8 [00:00<?, ?it/s]"
     ]
    },
    {
     "name": "stdout",
     "output_type": "stream",
     "text": [
      "Epoch 52 - loss: 0.9777 - weight x1: 0.04960009202465236 - weight x2: -0.2821596218277747\n",
      "\n",
      "Epoch [53 / 200] - "
     ]
    },
    {
     "name": "stderr",
     "output_type": "stream",
     "text": [
      "\n",
      "100%|██████████| 8/8 [00:00<?, ?it/s]\n"
     ]
    },
    {
     "name": "stdout",
     "output_type": "stream",
     "text": [
      "Epoch 53 - loss: 0.9777 - weight x1: 0.049639243839744315 - weight x2: -0.2821813385199564\n",
      "\n",
      "Epoch [54 / 200] - "
     ]
    },
    {
     "name": "stderr",
     "output_type": "stream",
     "text": [
      "100%|██████████| 8/8 [00:00<?, ?it/s]\n"
     ]
    },
    {
     "name": "stdout",
     "output_type": "stream",
     "text": [
      "Epoch 54 - loss: 0.9777 - weight x1: 0.04967486836569705 - weight x2: -0.282201098698456\n",
      "\n",
      "Epoch [55 / 200] - "
     ]
    },
    {
     "name": "stderr",
     "output_type": "stream",
     "text": [
      "100%|██████████| 8/8 [00:00<?, ?it/s]\n"
     ]
    },
    {
     "name": "stdout",
     "output_type": "stream",
     "text": [
      "Epoch 55 - loss: 0.9777 - weight x1: 0.04970728338515332 - weight x2: -0.28221907863076945\n",
      "\n",
      "Epoch [56 / 200] - "
     ]
    },
    {
     "name": "stderr",
     "output_type": "stream",
     "text": [
      "100%|██████████| 8/8 [00:00<?, ?it/s]\n"
     ]
    },
    {
     "name": "stdout",
     "output_type": "stream",
     "text": [
      "Epoch 56 - loss: 0.9777 - weight x1: 0.049736778050906136 - weight x2: -0.2822354387039663\n",
      "\n",
      "Epoch [57 / 200] - "
     ]
    },
    {
     "name": "stderr",
     "output_type": "stream",
     "text": [
      "100%|██████████| 8/8 [00:00<?, ?it/s]\n"
     ]
    },
    {
     "name": "stdout",
     "output_type": "stream",
     "text": [
      "Epoch 57 - loss: 0.9777 - weight x1: 0.049763615465229366 - weight x2: -0.2822503248554096\n",
      "\n",
      "Epoch [58 / 200] - "
     ]
    },
    {
     "name": "stderr",
     "output_type": "stream",
     "text": [
      "100%|██████████| 8/8 [00:00<00:00, 5294.17it/s]\n"
     ]
    },
    {
     "name": "stdout",
     "output_type": "stream",
     "text": [
      "Epoch 58 - loss: 0.9777 - weight x1: 0.049788035026832766 - weight x2: -0.2822638698745742\n",
      "\n",
      "Epoch [59 / 200] - "
     ]
    },
    {
     "name": "stderr",
     "output_type": "stream",
     "text": [
      "100%|██████████| 8/8 [00:00<?, ?it/s]\n"
     ]
    },
    {
     "name": "stdout",
     "output_type": "stream",
     "text": [
      "Epoch 59 - loss: 0.9777 - weight x1: 0.04981025456637524 - weight x2: -0.2822761945875786\n",
      "\n",
      "Epoch [60 / 200] - "
     ]
    },
    {
     "name": "stderr",
     "output_type": "stream",
     "text": [
      "100%|██████████| 8/8 [00:00<?, ?it/s]\n"
     ]
    },
    {
     "name": "stdout",
     "output_type": "stream",
     "text": [
      "Epoch 60 - loss: 0.9777 - weight x1: 0.049830472289585245 - weight x2: -0.2822874089349968\n",
      "\n",
      "Epoch [61 / 200] - "
     ]
    },
    {
     "name": "stderr",
     "output_type": "stream",
     "text": [
      "100%|██████████| 8/8 [00:00<00:00, 8004.40it/s]\n"
     ]
    },
    {
     "name": "stdout",
     "output_type": "stream",
     "text": [
      "Epoch 61 - loss: 0.9777 - weight x1: 0.049848868545321154 - weight x2: -0.2822976129525674\n",
      "\n",
      "Epoch [62 / 200] - "
     ]
    },
    {
     "name": "stderr",
     "output_type": "stream",
     "text": [
      "100%|██████████| 8/8 [00:00<?, ?it/s]\n"
     ]
    },
    {
     "name": "stdout",
     "output_type": "stream",
     "text": [
      "Epoch 62 - loss: 0.9777 - weight x1: 0.04986560743434268 - weight x2: -0.28230689766354655\n",
      "\n",
      "Epoch [63 / 200] - "
     ]
    },
    {
     "name": "stderr",
     "output_type": "stream",
     "text": [
      "100%|██████████| 8/8 [00:00<00:00, 7996.77it/s]\n"
     ]
    },
    {
     "name": "stdout",
     "output_type": "stream",
     "text": [
      "Epoch 63 - loss: 0.9777 - weight x1: 0.04988083827314409 - weight x2: -0.28231534589066704\n",
      "\n",
      "Epoch [64 / 200] - "
     ]
    },
    {
     "name": "stderr",
     "output_type": "stream",
     "text": [
      "100%|██████████| 8/8 [00:00<?, ?it/s]\n"
     ]
    },
    {
     "name": "stdout",
     "output_type": "stream",
     "text": [
      "Epoch 64 - loss: 0.9777 - weight x1: 0.0498946969259071 - weight x2: -0.28232303299494454\n",
      "\n",
      "Epoch [65 / 200] - "
     ]
    },
    {
     "name": "stderr",
     "output_type": "stream",
     "text": [
      "100%|██████████| 8/8 [00:00<?, ?it/s]\n"
     ]
    },
    {
     "name": "stdout",
     "output_type": "stream",
     "text": [
      "Epoch 65 - loss: 0.9777 - weight x1: 0.04990730701645475 - weight x2: -0.2823300275479241\n",
      "\n",
      "Epoch [66 / 200] - "
     ]
    },
    {
     "name": "stderr",
     "output_type": "stream",
     "text": [
      "100%|██████████| 8/8 [00:00<?, ?it/s]\n"
     ]
    },
    {
     "name": "stdout",
     "output_type": "stream",
     "text": [
      "Epoch 66 - loss: 0.9777 - weight x1: 0.04991878103101706 - weight x2: -0.2823363919433607\n",
      "\n",
      "Epoch [67 / 200] - "
     ]
    },
    {
     "name": "stderr",
     "output_type": "stream",
     "text": [
      "100%|██████████| 8/8 [00:00<?, ?it/s]\n"
     ]
    },
    {
     "name": "stdout",
     "output_type": "stream",
     "text": [
      "Epoch 67 - loss: 0.9777 - weight x1: 0.04992922132164611 - weight x2: -0.2823421829537931\n",
      "\n",
      "Epoch [68 / 200] - "
     ]
    },
    {
     "name": "stderr",
     "output_type": "stream",
     "text": [
      "100%|██████████| 8/8 [00:00<?, ?it/s]\n"
     ]
    },
    {
     "name": "stdout",
     "output_type": "stream",
     "text": [
      "Epoch 68 - loss: 0.9777 - weight x1: 0.049938721019230234 - weight x2: -0.2823474522369738\n",
      "\n",
      "Epoch [69 / 200] - "
     ]
    },
    {
     "name": "stderr",
     "output_type": "stream",
     "text": [
      "100%|██████████| 8/8 [00:00<?, ?it/s]\n"
     ]
    },
    {
     "name": "stdout",
     "output_type": "stream",
     "text": [
      "Epoch 69 - loss: 0.9777 - weight x1: 0.04994736486425293 - weight x2: -0.28235224679667315\n",
      "\n",
      "Epoch [70 / 200] - "
     ]
    },
    {
     "name": "stderr",
     "output_type": "stream",
     "text": [
      "100%|██████████| 8/8 [00:00<00:00, 8000.58it/s]\n"
     ]
    },
    {
     "name": "stdout",
     "output_type": "stream",
     "text": [
      "Epoch 70 - loss: 0.9777 - weight x1: 0.04995522996270632 - weight x2: -0.2823566094019693\n",
      "\n",
      "Epoch [71 / 200] - "
     ]
    },
    {
     "name": "stderr",
     "output_type": "stream",
     "text": [
      "100%|██████████| 8/8 [00:00<00:00, 14762.18it/s]\n"
     ]
    },
    {
     "name": "stdout",
     "output_type": "stream",
     "text": [
      "Epoch 71 - loss: 0.9777 - weight x1: 0.049962386473902304 - weight x2: -0.2823605789687625\n",
      "\n",
      "Epoch [72 / 200] - "
     ]
    },
    {
     "name": "stderr",
     "output_type": "stream",
     "text": [
      "100%|██████████| 8/8 [00:00<?, ?it/s]\n"
     ]
    },
    {
     "name": "stdout",
     "output_type": "stream",
     "text": [
      "Epoch 72 - loss: 0.9777 - weight x1: 0.04996889823631723 - weight x2: -0.28236419090691767\n",
      "\n",
      "Epoch [73 / 200] - "
     ]
    },
    {
     "name": "stderr",
     "output_type": "stream",
     "text": [
      "100%|██████████| 8/8 [00:00<?, ?it/s]\n"
     ]
    },
    {
     "name": "stdout",
     "output_type": "stream",
     "text": [
      "Epoch 73 - loss: 0.9777 - weight x1: 0.04997482333705236 - weight x2: -0.2823674774361327\n",
      "\n",
      "Epoch [74 / 200] - "
     ]
    },
    {
     "name": "stderr",
     "output_type": "stream",
     "text": [
      "100%|██████████| 8/8 [00:00<?, ?it/s]\n"
     ]
    },
    {
     "name": "stdout",
     "output_type": "stream",
     "text": [
      "Epoch 74 - loss: 0.9777 - weight x1: 0.04998021462999029 - weight x2: -0.28237046787334885\n",
      "\n",
      "Epoch [75 / 200] - "
     ]
    },
    {
     "name": "stderr",
     "output_type": "stream",
     "text": [
      "100%|██████████| 8/8 [00:00<?, ?it/s]\n"
     ]
    },
    {
     "name": "stdout",
     "output_type": "stream",
     "text": [
      "Epoch 75 - loss: 0.9777 - weight x1: 0.049985120207269446 - weight x2: -0.2823731888942674\n",
      "\n",
      "Epoch [76 / 200] - "
     ]
    },
    {
     "name": "stderr",
     "output_type": "stream",
     "text": [
      "100%|██████████| 8/8 [00:00<?, ?it/s]\n"
     ]
    },
    {
     "name": "stdout",
     "output_type": "stream",
     "text": [
      "Epoch 76 - loss: 0.9777 - weight x1: 0.04998958382828181 - weight x2: -0.2823756647713061\n",
      "\n",
      "Epoch [77 / 200] - "
     ]
    },
    {
     "name": "stderr",
     "output_type": "stream",
     "text": [
      "100%|██████████| 8/8 [00:00<?, ?it/s]\n"
     ]
    },
    {
     "name": "stdout",
     "output_type": "stream",
     "text": [
      "Epoch 77 - loss: 0.9777 - weight x1: 0.04999364531002155 - weight x2: -0.28237791759011727\n",
      "\n",
      "Epoch [78 / 200] - "
     ]
    },
    {
     "name": "stderr",
     "output_type": "stream",
     "text": [
      "100%|██████████| 8/8 [00:00<00:00, 8008.22it/s]\n"
     ]
    },
    {
     "name": "stdout",
     "output_type": "stream",
     "text": [
      "Epoch 78 - loss: 0.9777 - weight x1: 0.04999734088226572 - weight x2: -0.28237996744659905\n",
      "\n",
      "Epoch [79 / 200] - "
     ]
    },
    {
     "name": "stderr",
     "output_type": "stream",
     "text": [
      "100%|██████████| 8/8 [00:00<?, ?it/s]\n"
     ]
    },
    {
     "name": "stdout",
     "output_type": "stream",
     "text": [
      "Epoch 79 - loss: 0.9777 - weight x1: 0.050000703510756375 - weight x2: -0.28238183262615774\n",
      "\n",
      "Epoch [80 / 200] - "
     ]
    },
    {
     "name": "stderr",
     "output_type": "stream",
     "text": [
      "100%|██████████| 8/8 [00:00<?, ?it/s]\n"
     ]
    },
    {
     "name": "stdout",
     "output_type": "stream",
     "text": [
      "Epoch 80 - loss: 0.9777 - weight x1: 0.050003763191265704 - weight x2: -0.2823835297668195\n",
      "\n",
      "Epoch [81 / 200] - "
     ]
    },
    {
     "name": "stderr",
     "output_type": "stream",
     "text": [
      "100%|██████████| 8/8 [00:00<?, ?it/s]\n"
     ]
    },
    {
     "name": "stdout",
     "output_type": "stream",
     "text": [
      "Epoch 81 - loss: 0.9777 - weight x1: 0.05000654721716832 - weight x2: -0.2823850740076474\n",
      "\n",
      "Epoch [82 / 200] - "
     ]
    },
    {
     "name": "stderr",
     "output_type": "stream",
     "text": [
      "100%|██████████| 8/8 [00:00<?, ?it/s]\n"
     ]
    },
    {
     "name": "stdout",
     "output_type": "stream",
     "text": [
      "Epoch 82 - loss: 0.9777 - weight x1: 0.05000908042290757 - weight x2: -0.28238647912378667\n",
      "\n",
      "Epoch [83 / 200] - "
     ]
    },
    {
     "name": "stderr",
     "output_type": "stream",
     "text": [
      "100%|██████████| 8/8 [00:00<?, ?it/s]\n"
     ]
    },
    {
     "name": "stdout",
     "output_type": "stream",
     "text": [
      "Epoch 83 - loss: 0.9777 - weight x1: 0.05001138540552691 - weight x2: -0.2823877576493439\n",
      "\n",
      "Epoch [84 / 200] - "
     ]
    },
    {
     "name": "stderr",
     "output_type": "stream",
     "text": [
      "100%|██████████| 8/8 [00:00<?, ?it/s]\n"
     ]
    },
    {
     "name": "stdout",
     "output_type": "stream",
     "text": [
      "Epoch 84 - loss: 0.9777 - weight x1: 0.050013482726243216 - weight x2: -0.2823889209891951\n",
      "\n",
      "Epoch [85 / 200] - "
     ]
    },
    {
     "name": "stderr",
     "output_type": "stream",
     "text": [
      "100%|██████████| 8/8 [00:00<?, ?it/s]\n"
     ]
    },
    {
     "name": "stdout",
     "output_type": "stream",
     "text": [
      "Epoch 85 - loss: 0.9777 - weight x1: 0.050015391093859565 - weight x2: -0.2823899795207213\n",
      "\n",
      "Epoch [86 / 200] - "
     ]
    },
    {
     "name": "stderr",
     "output_type": "stream",
     "text": [
      "100%|██████████| 8/8 [00:00<?, ?it/s]\n"
     ]
    },
    {
     "name": "stdout",
     "output_type": "stream",
     "text": [
      "Epoch 86 - loss: 0.9777 - weight x1: 0.05001712753165412 - weight x2: -0.2823909426863782\n",
      "\n",
      "Epoch [87 / 200] - "
     ]
    },
    {
     "name": "stderr",
     "output_type": "stream",
     "text": [
      "100%|██████████| 8/8 [00:00<?, ?it/s]\n"
     ]
    },
    {
     "name": "stdout",
     "output_type": "stream",
     "text": [
      "Epoch 87 - loss: 0.9777 - weight x1: 0.05001870752923347 - weight x2: -0.28239181907792604\n",
      "\n",
      "Epoch [88 / 200] - "
     ]
    },
    {
     "name": "stderr",
     "output_type": "stream",
     "text": [
      "100%|██████████| 8/8 [00:00<?, ?it/s]\n"
     ]
    },
    {
     "name": "stdout",
     "output_type": "stream",
     "text": [
      "Epoch 88 - loss: 0.9777 - weight x1: 0.05002014518070508 - weight x2: -0.28239261651307085\n",
      "\n",
      "Epoch [89 / 200] - "
     ]
    },
    {
     "name": "stderr",
     "output_type": "stream",
     "text": [
      "100%|██████████| 8/8 [00:00<?, ?it/s]\n"
     ]
    },
    {
     "name": "stdout",
     "output_type": "stream",
     "text": [
      "Epoch 89 - loss: 0.9777 - weight x1: 0.05002145331040157 - weight x2: -0.2823933421052012\n",
      "\n",
      "Epoch [90 / 200] - "
     ]
    },
    {
     "name": "stderr",
     "output_type": "stream",
     "text": [
      "100%|██████████| 8/8 [00:00<?, ?it/s]\n"
     ]
    },
    {
     "name": "stdout",
     "output_type": "stream",
     "text": [
      "Epoch 90 - loss: 0.9777 - weight x1: 0.05002264358727784 - weight x2: -0.28239400232684175\n",
      "\n",
      "Epoch [91 / 200] - "
     ]
    },
    {
     "name": "stderr",
     "output_type": "stream",
     "text": [
      "100%|██████████| 8/8 [00:00<?, ?it/s]\n"
     ]
    },
    {
     "name": "stdout",
     "output_type": "stream",
     "text": [
      "Epoch 91 - loss: 0.9777 - weight x1: 0.05002372662900226 - weight x2: -0.28239460306739067\n",
      "\n",
      "Epoch [92 / 200] - "
     ]
    },
    {
     "name": "stderr",
     "output_type": "stream",
     "text": [
      "100%|██████████| 8/8 [00:00<?, ?it/s]\n"
     ]
    },
    {
     "name": "stdout",
     "output_type": "stream",
     "text": [
      "Epoch 92 - loss: 0.9777 - weight x1: 0.0500247120966696 - weight x2: -0.28239514968565493\n",
      "\n",
      "Epoch [93 / 200] - "
     ]
    },
    {
     "name": "stderr",
     "output_type": "stream",
     "text": [
      "100%|██████████| 8/8 [00:00<?, ?it/s]\n"
     ]
    },
    {
     "name": "stdout",
     "output_type": "stream",
     "text": [
      "Epoch 93 - loss: 0.9777 - weight x1: 0.05002560878098146 - weight x2: -0.28239564705765235\n",
      "\n",
      "Epoch [94 / 200] - "
     ]
    },
    {
     "name": "stderr",
     "output_type": "stream",
     "text": [
      "100%|██████████| 8/8 [00:00<00:00, 7994.86it/s]\n"
     ]
    },
    {
     "name": "stdout",
     "output_type": "stream",
     "text": [
      "Epoch 94 - loss: 0.9777 - weight x1: 0.05002642468066219 - weight x2: -0.2823960996201078\n",
      "\n",
      "Epoch [95 / 200] - "
     ]
    },
    {
     "name": "stderr",
     "output_type": "stream",
     "text": [
      "100%|██████████| 8/8 [00:00<?, ?it/s]\n"
     ]
    },
    {
     "name": "stdout",
     "output_type": "stream",
     "text": [
      "Epoch 95 - loss: 0.9777 - weight x1: 0.05002716707381022 - weight x2: -0.28239651141002986\n",
      "\n",
      "Epoch [96 / 200] - "
     ]
    },
    {
     "name": "stderr",
     "output_type": "stream",
     "text": [
      "100%|██████████| 8/8 [00:00<?, ?it/s]\n"
     ]
    },
    {
     "name": "stdout",
     "output_type": "stream",
     "text": [
      "Epoch 96 - loss: 0.9777 - weight x1: 0.05002784258282093 - weight x2: -0.28239688610072256\n",
      "\n",
      "Epoch [97 / 200] - "
     ]
    },
    {
     "name": "stderr",
     "output_type": "stream",
     "text": [
      "100%|██████████| 8/8 [00:00<00:00, 7936.24it/s]\n"
     ]
    },
    {
     "name": "stdout",
     "output_type": "stream",
     "text": [
      "Epoch 97 - loss: 0.9777 - weight x1: 0.05002845723346094 - weight x2: -0.2823972270345523\n",
      "\n",
      "Epoch [98 / 200] - "
     ]
    },
    {
     "name": "stderr",
     "output_type": "stream",
     "text": [
      "100%|██████████| 8/8 [00:00<?, ?it/s]\n"
     ]
    },
    {
     "name": "stdout",
     "output_type": "stream",
     "text": [
      "Epoch 98 - loss: 0.9777 - weight x1: 0.05002901650861982 - weight x2: -0.282397537252763\n",
      "\n",
      "Epoch [99 / 200] - "
     ]
    },
    {
     "name": "stderr",
     "output_type": "stream",
     "text": [
      "100%|██████████| 8/8 [00:00<?, ?it/s]\n"
     ]
    },
    {
     "name": "stdout",
     "output_type": "stream",
     "text": [
      "Epoch 99 - loss: 0.9777 - weight x1: 0.05002952539721919 - weight x2: -0.2823978195226052\n",
      "\n",
      "Epoch [100 / 200] - "
     ]
    },
    {
     "name": "stderr",
     "output_type": "stream",
     "text": [
      "100%|██████████| 8/8 [00:00<?, ?it/s]\n"
     ]
    },
    {
     "name": "stdout",
     "output_type": "stream",
     "text": [
      "Epoch 100 - loss: 0.9777 - weight x1: 0.05002998843871581 - weight x2: -0.28239807636202013\n",
      "\n",
      "Epoch [101 / 200] - "
     ]
    },
    {
     "name": "stderr",
     "output_type": "stream",
     "text": [
      "100%|██████████| 8/8 [00:00<?, ?it/s]\n"
     ]
    },
    {
     "name": "stdout",
     "output_type": "stream",
     "text": [
      "Epoch 101 - loss: 0.9777 - weight x1: 0.050030409763594866 - weight x2: -0.2823983100621016\n",
      "\n",
      "Epoch [102 / 200] - "
     ]
    },
    {
     "name": "stderr",
     "output_type": "stream",
     "text": [
      "100%|██████████| 8/8 [00:00<?, ?it/s]\n"
     ]
    },
    {
     "name": "stdout",
     "output_type": "stream",
     "text": [
      "Epoch 102 - loss: 0.9777 - weight x1: 0.0500307931302154 - weight x2: -0.28239852270753246\n",
      "\n",
      "Epoch [103 / 200] - "
     ]
    },
    {
     "name": "stderr",
     "output_type": "stream",
     "text": [
      "100%|██████████| 8/8 [00:00<00:00, 5298.35it/s]\n"
     ]
    },
    {
     "name": "stdout",
     "output_type": "stream",
     "text": [
      "Epoch 103 - loss: 0.9777 - weight x1: 0.05003114195833604 - weight x2: -0.2823987161951811\n",
      "\n",
      "Epoch [104 / 200] - "
     ]
    },
    {
     "name": "stderr",
     "output_type": "stream",
     "text": [
      "100%|██████████| 8/8 [00:00<?, ?it/s]\n"
     ]
    },
    {
     "name": "stdout",
     "output_type": "stream",
     "text": [
      "Epoch 104 - loss: 0.9777 - weight x1: 0.05003145935962036 - weight x2: -0.2823988922510223\n",
      "\n",
      "Epoch [105 / 200] - "
     ]
    },
    {
     "name": "stderr",
     "output_type": "stream",
     "text": [
      "100%|██████████| 8/8 [00:00<?, ?it/s]\n"
     ]
    },
    {
     "name": "stdout",
     "output_type": "stream",
     "text": [
      "Epoch 105 - loss: 0.9777 - weight x1: 0.05003174816539423 - weight x2: -0.282399052445533\n",
      "\n",
      "Epoch [106 / 200] - "
     ]
    },
    {
     "name": "stderr",
     "output_type": "stream",
     "text": [
      "100%|██████████| 8/8 [00:00<?, ?it/s]\n"
     ]
    },
    {
     "name": "stdout",
     "output_type": "stream",
     "text": [
      "Epoch 106 - loss: 0.9777 - weight x1: 0.050032010951901726 - weight x2: -0.28239919820770193\n",
      "\n",
      "Epoch [107 / 200] - "
     ]
    },
    {
     "name": "stderr",
     "output_type": "stream",
     "text": [
      "100%|██████████| 8/8 [00:00<?, ?it/s]\n"
     ]
    },
    {
     "name": "stdout",
     "output_type": "stream",
     "text": [
      "Epoch 107 - loss: 0.9777 - weight x1: 0.050032250063286585 - weight x2: -0.28239933083777646\n",
      "\n",
      "Epoch [108 / 200] - "
     ]
    },
    {
     "name": "stderr",
     "output_type": "stream",
     "text": [
      "100%|██████████| 8/8 [00:00<?, ?it/s]\n"
     ]
    },
    {
     "name": "stdout",
     "output_type": "stream",
     "text": [
      "Epoch 108 - loss: 0.9777 - weight x1: 0.050032467632502436 - weight x2: -0.2823994515188612\n",
      "\n",
      "Epoch [109 / 200] - "
     ]
    },
    {
     "name": "stderr",
     "output_type": "stream",
     "text": [
      "100%|██████████| 8/8 [00:00<00:00, 7981.55it/s]\n"
     ]
    },
    {
     "name": "stdout",
     "output_type": "stream",
     "text": [
      "Epoch 109 - loss: 0.9777 - weight x1: 0.05003266560033946 - weight x2: -0.28239956132747196\n",
      "\n",
      "Epoch [110 / 200] - "
     ]
    },
    {
     "name": "stderr",
     "output_type": "stream",
     "text": [
      "100%|██████████| 8/8 [00:00<?, ?it/s]\n"
     ]
    },
    {
     "name": "stdout",
     "output_type": "stream",
     "text": [
      "Epoch 110 - loss: 0.9777 - weight x1: 0.05003284573273714 - weight x2: -0.2823996612431382\n",
      "\n",
      "Epoch [111 / 200] - "
     ]
    },
    {
     "name": "stderr",
     "output_type": "stream",
     "text": [
      "100%|██████████| 8/8 [00:00<?, ?it/s]\n"
     ]
    },
    {
     "name": "stdout",
     "output_type": "stream",
     "text": [
      "Epoch 111 - loss: 0.9777 - weight x1: 0.05003300963653674 - weight x2: -0.28239975215714114\n",
      "\n",
      "Epoch [112 / 200] - "
     ]
    },
    {
     "name": "stderr",
     "output_type": "stream",
     "text": [
      "100%|██████████| 8/8 [00:00<?, ?it/s]\n"
     ]
    },
    {
     "name": "stdout",
     "output_type": "stream",
     "text": [
      "Epoch 112 - loss: 0.9777 - weight x1: 0.05003315877381499 - weight x2: -0.2823998348804642\n",
      "\n",
      "Epoch [113 / 200] - "
     ]
    },
    {
     "name": "stderr",
     "output_type": "stream",
     "text": [
      "100%|██████████| 8/8 [00:00<?, ?it/s]\n"
     ]
    },
    {
     "name": "stdout",
     "output_type": "stream",
     "text": [
      "Epoch 113 - loss: 0.9777 - weight x1: 0.05003329447492645 - weight x2: -0.28239991015102706\n",
      "\n",
      "Epoch [114 / 200] - "
     ]
    },
    {
     "name": "stderr",
     "output_type": "stream",
     "text": [
      "100%|██████████| 8/8 [00:00<00:00, 8044.70it/s]\n"
     ]
    },
    {
     "name": "stdout",
     "output_type": "stream",
     "text": [
      "Epoch 114 - loss: 0.9777 - weight x1: 0.050033417950370404 - weight x2: -0.2823999786402684\n",
      "\n",
      "Epoch [115 / 200] - "
     ]
    },
    {
     "name": "stderr",
     "output_type": "stream",
     "text": [
      "100%|██████████| 8/8 [00:00<?, ?it/s]\n"
     ]
    },
    {
     "name": "stdout",
     "output_type": "stream",
     "text": [
      "Epoch 115 - loss: 0.9777 - weight x1: 0.05003353030158923 - weight x2: -0.28240004095913507\n",
      "\n",
      "Epoch [116 / 200] - "
     ]
    },
    {
     "name": "stderr",
     "output_type": "stream",
     "text": [
      "100%|██████████| 8/8 [00:00<?, ?it/s]\n"
     ]
    },
    {
     "name": "stdout",
     "output_type": "stream",
     "text": [
      "Epoch 116 - loss: 0.9777 - weight x1: 0.05003363253079335 - weight x2: -0.28240009766353236\n",
      "\n",
      "Epoch [117 / 200] - "
     ]
    },
    {
     "name": "stderr",
     "output_type": "stream",
     "text": [
      "100%|██████████| 8/8 [00:00<?, ?it/s]\n"
     ]
    },
    {
     "name": "stdout",
     "output_type": "stream",
     "text": [
      "Epoch 117 - loss: 0.9777 - weight x1: 0.05003372554990154 - weight x2: -0.28240014925928236\n",
      "\n",
      "Epoch [118 / 200] - "
     ]
    },
    {
     "name": "stderr",
     "output_type": "stream",
     "text": [
      "100%|██████████| 8/8 [00:00<?, ?it/s]\n"
     ]
    },
    {
     "name": "stdout",
     "output_type": "stream",
     "text": [
      "Epoch 118 - loss: 0.9777 - weight x1: 0.05003381018867535 - weight x2: -0.2824001962066366\n",
      "\n",
      "Epoch [119 / 200] - "
     ]
    },
    {
     "name": "stderr",
     "output_type": "stream",
     "text": [
      "100%|██████████| 8/8 [00:00<?, ?it/s]\n"
     ]
    },
    {
     "name": "stdout",
     "output_type": "stream",
     "text": [
      "Epoch 119 - loss: 0.9777 - weight x1: 0.05003388720212104 - weight x2: -0.282400238924381\n",
      "\n",
      "Epoch [120 / 200] - "
     ]
    },
    {
     "name": "stderr",
     "output_type": "stream",
     "text": [
      "100%|██████████| 8/8 [00:00<?, ?it/s]\n"
     ]
    },
    {
     "name": "stdout",
     "output_type": "stream",
     "text": [
      "Epoch 120 - loss: 0.9777 - weight x1: 0.050033957277224275 - weight x2: -0.28240027779357235\n",
      "\n",
      "Epoch [121 / 200] - "
     ]
    },
    {
     "name": "stderr",
     "output_type": "stream",
     "text": [
      "100%|██████████| 8/8 [00:00<?, ?it/s]\n"
     ]
    },
    {
     "name": "stdout",
     "output_type": "stream",
     "text": [
      "Epoch 121 - loss: 0.9777 - weight x1: 0.05003402103907849 - weight x2: -0.2824003131609368\n",
      "\n",
      "Epoch [122 / 200] - "
     ]
    },
    {
     "name": "stderr",
     "output_type": "stream",
     "text": [
      "100%|██████████| 8/8 [00:00<?, ?it/s]\n"
     ]
    },
    {
     "name": "stdout",
     "output_type": "stream",
     "text": [
      "Epoch 122 - loss: 0.9777 - weight x1: 0.05003407905646076 - weight x2: -0.2824003453419629\n",
      "\n",
      "Epoch [123 / 200] - "
     ]
    },
    {
     "name": "stderr",
     "output_type": "stream",
     "text": [
      "100%|██████████| 8/8 [00:00<00:00, 7996.77it/s]\n"
     ]
    },
    {
     "name": "stdout",
     "output_type": "stream",
     "text": [
      "Epoch 123 - loss: 0.9777 - weight x1: 0.050034131846905514 - weight x2: -0.28240037462371637\n",
      "\n",
      "Epoch [124 / 200] - "
     ]
    },
    {
     "name": "stderr",
     "output_type": "stream",
     "text": [
      "100%|██████████| 8/8 [00:00<?, ?it/s]\n"
     ]
    },
    {
     "name": "stdout",
     "output_type": "stream",
     "text": [
      "Epoch 124 - loss: 0.9777 - weight x1: 0.050034179881321306 - weight x2: -0.2824004012674002\n",
      "\n",
      "Epoch [125 / 200] - "
     ]
    },
    {
     "name": "stderr",
     "output_type": "stream",
     "text": [
      "100%|██████████| 8/8 [00:00<?, ?it/s]\n"
     ]
    },
    {
     "name": "stdout",
     "output_type": "stream",
     "text": [
      "Epoch 125 - loss: 0.9777 - weight x1: 0.05003422358819111 - weight x2: -0.282400425510685\n",
      "\n",
      "Epoch [126 / 200] - "
     ]
    },
    {
     "name": "stderr",
     "output_type": "stream",
     "text": [
      "100%|██████████| 8/8 [00:00<?, ?it/s]\n"
     ]
    },
    {
     "name": "stdout",
     "output_type": "stream",
     "text": [
      "Epoch 126 - loss: 0.9777 - weight x1: 0.05003426335739493 - weight x2: -0.28240044756982896\n",
      "\n",
      "Epoch [127 / 200] - "
     ]
    },
    {
     "name": "stderr",
     "output_type": "stream",
     "text": [
      "100%|██████████| 8/8 [00:00<00:00, 7992.96it/s]\n"
     ]
    },
    {
     "name": "stdout",
     "output_type": "stream",
     "text": [
      "Epoch 127 - loss: 0.9777 - weight x1: 0.05003429954368731 - weight x2: -0.2824004676416071\n",
      "\n",
      "Epoch [128 / 200] - "
     ]
    },
    {
     "name": "stderr",
     "output_type": "stream",
     "text": [
      "100%|██████████| 8/8 [00:00<?, ?it/s]\n"
     ]
    },
    {
     "name": "stdout",
     "output_type": "stream",
     "text": [
      "Epoch 128 - loss: 0.9777 - weight x1: 0.050034332469862164 - weight x2: -0.2824004859050662\n",
      "\n",
      "Epoch [129 / 200] - "
     ]
    },
    {
     "name": "stderr",
     "output_type": "stream",
     "text": [
      "100%|██████████| 8/8 [00:00<00:00, 7403.89it/s]\n"
     ]
    },
    {
     "name": "stdout",
     "output_type": "stream",
     "text": [
      "Epoch 129 - loss: 0.9777 - weight x1: 0.05003436242963187 - weight x2: -0.2824005025231227\n",
      "\n",
      "Epoch [130 / 200] - "
     ]
    },
    {
     "name": "stderr",
     "output_type": "stream",
     "text": [
      "100%|██████████| 8/8 [00:00<?, ?it/s]\n"
     ]
    },
    {
     "name": "stdout",
     "output_type": "stream",
     "text": [
      "Epoch 130 - loss: 0.9777 - weight x1: 0.05003438969024773 - weight x2: -0.2824005176440151\n",
      "\n",
      "Epoch [131 / 200] - "
     ]
    },
    {
     "name": "stderr",
     "output_type": "stream",
     "text": [
      "100%|██████████| 8/8 [00:00<?, ?it/s]\n"
     ]
    },
    {
     "name": "stdout",
     "output_type": "stream",
     "text": [
      "Epoch 131 - loss: 0.9777 - weight x1: 0.050034414494883536 - weight x2: -0.2824005314026268\n",
      "\n",
      "Epoch [132 / 200] - "
     ]
    },
    {
     "name": "stderr",
     "output_type": "stream",
     "text": [
      "100%|██████████| 8/8 [00:00<?, ?it/s]\n"
     ]
    },
    {
     "name": "stdout",
     "output_type": "stream",
     "text": [
      "Epoch 132 - loss: 0.9777 - weight x1: 0.050034437064804926 - weight x2: -0.2824005439216892\n",
      "\n",
      "Epoch [133 / 200] - "
     ]
    },
    {
     "name": "stderr",
     "output_type": "stream",
     "text": [
      "100%|██████████| 8/8 [00:00<?, ?it/s]\n"
     ]
    },
    {
     "name": "stdout",
     "output_type": "stream",
     "text": [
      "Epoch 133 - loss: 0.9777 - weight x1: 0.05003445760134313 - weight x2: -0.2824005553128766\n",
      "\n",
      "Epoch [134 / 200] - "
     ]
    },
    {
     "name": "stderr",
     "output_type": "stream",
     "text": [
      "100%|██████████| 8/8 [00:00<?, ?it/s]\n"
     ]
    },
    {
     "name": "stdout",
     "output_type": "stream",
     "text": [
      "Epoch 134 - loss: 0.9777 - weight x1: 0.05003447628769096 - weight x2: -0.28240056567780225\n",
      "\n",
      "Epoch [135 / 200] - "
     ]
    },
    {
     "name": "stderr",
     "output_type": "stream",
     "text": [
      "100%|██████████| 8/8 [00:00<?, ?it/s]\n"
     ]
    },
    {
     "name": "stdout",
     "output_type": "stream",
     "text": [
      "Epoch 135 - loss: 0.9777 - weight x1: 0.050034493290536955 - weight x2: -0.2824005751089246\n",
      "\n",
      "Epoch [136 / 200] - "
     ]
    },
    {
     "name": "stderr",
     "output_type": "stream",
     "text": [
      "100%|██████████| 8/8 [00:00<?, ?it/s]\n"
     ]
    },
    {
     "name": "stdout",
     "output_type": "stream",
     "text": [
      "Epoch 136 - loss: 0.9777 - weight x1: 0.050034508761552174 - weight x2: -0.2824005836903725\n",
      "\n",
      "Epoch [137 / 200] - "
     ]
    },
    {
     "name": "stderr",
     "output_type": "stream",
     "text": [
      "100%|██████████| 8/8 [00:00<?, ?it/s]\n"
     ]
    },
    {
     "name": "stdout",
     "output_type": "stream",
     "text": [
      "Epoch 137 - loss: 0.9777 - weight x1: 0.050034522838743226 - weight x2: -0.2824005914986954\n",
      "\n",
      "Epoch [138 / 200] - "
     ]
    },
    {
     "name": "stderr",
     "output_type": "stream",
     "text": [
      "100%|██████████| 8/8 [00:00<?, ?it/s]\n"
     ]
    },
    {
     "name": "stdout",
     "output_type": "stream",
     "text": [
      "Epoch 138 - loss: 0.9777 - weight x1: 0.0500345356476834 - weight x2: -0.28240059860354605\n",
      "\n",
      "Epoch [139 / 200] - "
     ]
    },
    {
     "name": "stderr",
     "output_type": "stream",
     "text": [
      "100%|██████████| 8/8 [00:00<?, ?it/s]\n"
     ]
    },
    {
     "name": "stdout",
     "output_type": "stream",
     "text": [
      "Epoch 139 - loss: 0.9777 - weight x1: 0.05003454730263261 - weight x2: -0.28240060506830217\n",
      "\n",
      "Epoch [140 / 200] - "
     ]
    },
    {
     "name": "stderr",
     "output_type": "stream",
     "text": [
      "100%|██████████| 8/8 [00:00<?, ?it/s]\n"
     ]
    },
    {
     "name": "stdout",
     "output_type": "stream",
     "text": [
      "Epoch 140 - loss: 0.9777 - weight x1: 0.05003455790755709 - weight x2: -0.28240061095063157\n",
      "\n",
      "Epoch [141 / 200] - "
     ]
    },
    {
     "name": "stderr",
     "output_type": "stream",
     "text": [
      "100%|██████████| 8/8 [00:00<00:00, 7994.86it/s]\n"
     ]
    },
    {
     "name": "stdout",
     "output_type": "stream",
     "text": [
      "Epoch 141 - loss: 0.9777 - weight x1: 0.05003456755705621 - weight x2: -0.28240061630300656\n",
      "\n",
      "Epoch [142 / 200] - "
     ]
    },
    {
     "name": "stderr",
     "output_type": "stream",
     "text": [
      "100%|██████████| 8/8 [00:00<?, ?it/s]\n"
     ]
    },
    {
     "name": "stdout",
     "output_type": "stream",
     "text": [
      "Epoch 142 - loss: 0.9777 - weight x1: 0.05003457633720673 - weight x2: -0.28240062117317205\n",
      "\n",
      "Epoch [143 / 200] - "
     ]
    },
    {
     "name": "stderr",
     "output_type": "stream",
     "text": [
      "100%|██████████| 8/8 [00:00<?, ?it/s]\n"
     ]
    },
    {
     "name": "stdout",
     "output_type": "stream",
     "text": [
      "Epoch 143 - loss: 0.9777 - weight x1: 0.050034584326330594 - weight x2: -0.28240062560457163\n",
      "\n",
      "Epoch [144 / 200] - "
     ]
    },
    {
     "name": "stderr",
     "output_type": "stream",
     "text": [
      "100%|██████████| 8/8 [00:00<?, ?it/s]\n"
     ]
    },
    {
     "name": "stdout",
     "output_type": "stream",
     "text": [
      "Epoch 144 - loss: 0.9777 - weight x1: 0.05003459159569347 - weight x2: -0.28240062963673485\n",
      "\n",
      "Epoch [145 / 200] - "
     ]
    },
    {
     "name": "stderr",
     "output_type": "stream",
     "text": [
      "100%|██████████| 8/8 [00:00<?, ?it/s]\n"
     ]
    },
    {
     "name": "stdout",
     "output_type": "stream",
     "text": [
      "Epoch 145 - loss: 0.9777 - weight x1: 0.05003459821014042 - weight x2: -0.28240063330563\n",
      "\n",
      "Epoch [146 / 200] - "
     ]
    },
    {
     "name": "stderr",
     "output_type": "stream",
     "text": [
      "100%|██████████| 8/8 [00:00<?, ?it/s]\n"
     ]
    },
    {
     "name": "stdout",
     "output_type": "stream",
     "text": [
      "Epoch 146 - loss: 0.9777 - weight x1: 0.05003460422867459 - weight x2: -0.28240063664398474\n",
      "\n",
      "Epoch [147 / 200] - "
     ]
    },
    {
     "name": "stderr",
     "output_type": "stream",
     "text": [
      "100%|██████████| 8/8 [00:00<00:00, 8048.56it/s]\n"
     ]
    },
    {
     "name": "stdout",
     "output_type": "stream",
     "text": [
      "Epoch 147 - loss: 0.9777 - weight x1: 0.050034609704983274 - weight x2: -0.2824006396815784\n",
      "\n",
      "Epoch [148 / 200] - "
     ]
    },
    {
     "name": "stderr",
     "output_type": "stream",
     "text": [
      "100%|██████████| 8/8 [00:00<?, ?it/s]\n"
     ]
    },
    {
     "name": "stdout",
     "output_type": "stream",
     "text": [
      "Epoch 148 - loss: 0.9777 - weight x1: 0.050034614687917006 - weight x2: -0.28240064244550733\n",
      "\n",
      "Epoch [149 / 200] - "
     ]
    },
    {
     "name": "stderr",
     "output_type": "stream",
     "text": [
      "100%|██████████| 8/8 [00:00<?, ?it/s]\n"
     ]
    },
    {
     "name": "stdout",
     "output_type": "stream",
     "text": [
      "Epoch 149 - loss: 0.9777 - weight x1: 0.05003461922192523 - weight x2: -0.2824006449604267\n",
      "\n",
      "Epoch [150 / 200] - "
     ]
    },
    {
     "name": "stderr",
     "output_type": "stream",
     "text": [
      "100%|██████████| 8/8 [00:00<?, ?it/s]\n"
     ]
    },
    {
     "name": "stdout",
     "output_type": "stream",
     "text": [
      "Epoch 150 - loss: 0.9777 - weight x1: 0.05003462334745282 - weight x2: -0.28240064724877045\n",
      "\n",
      "Epoch [151 / 200] - "
     ]
    },
    {
     "name": "stderr",
     "output_type": "stream",
     "text": [
      "100%|██████████| 8/8 [00:00<?, ?it/s]\n"
     ]
    },
    {
     "name": "stdout",
     "output_type": "stream",
     "text": [
      "Epoch 151 - loss: 0.9777 - weight x1: 0.05003462710130088 - weight x2: -0.28240064933095127\n",
      "\n",
      "Epoch [152 / 200] - "
     ]
    },
    {
     "name": "stderr",
     "output_type": "stream",
     "text": [
      "100%|██████████| 8/8 [00:00<?, ?it/s]\n"
     ]
    },
    {
     "name": "stdout",
     "output_type": "stream",
     "text": [
      "Epoch 152 - loss: 0.9777 - weight x1: 0.050034630516954934 - weight x2: -0.28240065122554303\n",
      "\n",
      "Epoch [153 / 200] - "
     ]
    },
    {
     "name": "stderr",
     "output_type": "stream",
     "text": [
      "100%|██████████| 8/8 [00:00<00:00, 7973.96it/s]\n"
     ]
    },
    {
     "name": "stdout",
     "output_type": "stream",
     "text": [
      "Epoch 153 - loss: 0.9777 - weight x1: 0.05003463362488379 - weight x2: -0.282400652949446\n",
      "\n",
      "Epoch [154 / 200] - "
     ]
    },
    {
     "name": "stderr",
     "output_type": "stream",
     "text": [
      "100%|██████████| 8/8 [00:00<00:00, 8044.70it/s]\n"
     ]
    },
    {
     "name": "stdout",
     "output_type": "stream",
     "text": [
      "Epoch 154 - loss: 0.9777 - weight x1: 0.050034636452811254 - weight x2: -0.2824006545180381\n",
      "\n",
      "Epoch [155 / 200] - "
     ]
    },
    {
     "name": "stderr",
     "output_type": "stream",
     "text": [
      "100%|██████████| 8/8 [00:00<00:00, 5304.21it/s]\n"
     ]
    },
    {
     "name": "stdout",
     "output_type": "stream",
     "text": [
      "Epoch 155 - loss: 0.9777 - weight x1: 0.05003463902596336 - weight x2: -0.2824006559453116\n",
      "\n",
      "Epoch [156 / 200] - "
     ]
    },
    {
     "name": "stderr",
     "output_type": "stream",
     "text": [
      "100%|██████████| 8/8 [00:00<?, ?it/s]\n"
     ]
    },
    {
     "name": "stdout",
     "output_type": "stream",
     "text": [
      "Epoch 156 - loss: 0.9777 - weight x1: 0.05003464136729341 - weight x2: -0.2824006572439983\n",
      "\n",
      "Epoch [157 / 200] - "
     ]
    },
    {
     "name": "stderr",
     "output_type": "stream",
     "text": [
      "100%|██████████| 8/8 [00:00<00:00, 7994.86it/s]\n"
     ]
    },
    {
     "name": "stdout",
     "output_type": "stream",
     "text": [
      "Epoch 157 - loss: 0.9777 - weight x1: 0.05003464349768695 - weight x2: -0.282400658425683\n",
      "\n",
      "Epoch [158 / 200] - "
     ]
    },
    {
     "name": "stderr",
     "output_type": "stream",
     "text": [
      "100%|██████████| 8/8 [00:00<?, ?it/s]\n"
     ]
    },
    {
     "name": "stdout",
     "output_type": "stream",
     "text": [
      "Epoch 158 - loss: 0.9777 - weight x1: 0.05003464543614779 - weight x2: -0.2824006595009066\n",
      "\n",
      "Epoch [159 / 200] - "
     ]
    },
    {
     "name": "stderr",
     "output_type": "stream",
     "text": [
      "100%|██████████| 8/8 [00:00<?, ?it/s]\n"
     ]
    },
    {
     "name": "stdout",
     "output_type": "stream",
     "text": [
      "Epoch 159 - loss: 0.9777 - weight x1: 0.05003464719996763 - weight x2: -0.2824006604792605\n",
      "\n",
      "Epoch [160 / 200] - "
     ]
    },
    {
     "name": "stderr",
     "output_type": "stream",
     "text": [
      "100%|██████████| 8/8 [00:00<?, ?it/s]\n"
     ]
    },
    {
     "name": "stdout",
     "output_type": "stream",
     "text": [
      "Epoch 160 - loss: 0.9777 - weight x1: 0.050034648804880316 - weight x2: -0.28240066136947195\n",
      "\n",
      "Epoch [161 / 200] - "
     ]
    },
    {
     "name": "stderr",
     "output_type": "stream",
     "text": [
      "100%|██████████| 8/8 [00:00<?, ?it/s]\n"
     ]
    },
    {
     "name": "stdout",
     "output_type": "stream",
     "text": [
      "Epoch 161 - loss: 0.9777 - weight x1: 0.050034650265202235 - weight x2: -0.2824006621794819\n",
      "\n",
      "Epoch [162 / 200] - "
     ]
    },
    {
     "name": "stderr",
     "output_type": "stream",
     "text": [
      "100%|██████████| 8/8 [00:00<?, ?it/s]"
     ]
    },
    {
     "name": "stdout",
     "output_type": "stream",
     "text": [
      "Epoch 162 - loss: 0.9777 - weight x1: 0.05003465159395995 - weight x2: -0.28240066291651594\n",
      "\n",
      "Epoch [163 / 200] - "
     ]
    },
    {
     "name": "stderr",
     "output_type": "stream",
     "text": [
      "\n",
      "100%|██████████| 8/8 [00:00<?, ?it/s]\n"
     ]
    },
    {
     "name": "stdout",
     "output_type": "stream",
     "text": [
      "Epoch 163 - loss: 0.9777 - weight x1: 0.050034652803006396 - weight x2: -0.28240066358714866\n",
      "\n",
      "Epoch [164 / 200] - "
     ]
    },
    {
     "name": "stderr",
     "output_type": "stream",
     "text": [
      "100%|██████████| 8/8 [00:00<?, ?it/s]\n"
     ]
    },
    {
     "name": "stdout",
     "output_type": "stream",
     "text": [
      "Epoch 164 - loss: 0.9777 - weight x1: 0.0500346539031267 - weight x2: -0.28240066419736237\n",
      "\n",
      "Epoch [165 / 200] - "
     ]
    },
    {
     "name": "stderr",
     "output_type": "stream",
     "text": [
      "100%|██████████| 8/8 [00:00<?, ?it/s]\n"
     ]
    },
    {
     "name": "stdout",
     "output_type": "stream",
     "text": [
      "Epoch 165 - loss: 0.9777 - weight x1: 0.05003465490413429 - weight x2: -0.2824006647526003\n",
      "\n",
      "Epoch [166 / 200] - "
     ]
    },
    {
     "name": "stderr",
     "output_type": "stream",
     "text": [
      "100%|██████████| 8/8 [00:00<?, ?it/s]\n"
     ]
    },
    {
     "name": "stdout",
     "output_type": "stream",
     "text": [
      "Epoch 166 - loss: 0.9777 - weight x1: 0.0500346558149585 - weight x2: -0.2824006652578154\n",
      "\n",
      "Epoch [167 / 200] - "
     ]
    },
    {
     "name": "stderr",
     "output_type": "stream",
     "text": [
      "100%|██████████| 8/8 [00:00<?, ?it/s]\n"
     ]
    },
    {
     "name": "stdout",
     "output_type": "stream",
     "text": [
      "Epoch 167 - loss: 0.9777 - weight x1: 0.050034656643724126 - weight x2: -0.2824006657175143\n",
      "\n",
      "Epoch [168 / 200] - "
     ]
    },
    {
     "name": "stderr",
     "output_type": "stream",
     "text": [
      "100%|██████████| 8/8 [00:00<?, ?it/s]\n"
     ]
    },
    {
     "name": "stdout",
     "output_type": "stream",
     "text": [
      "Epoch 168 - loss: 0.9777 - weight x1: 0.050034657397824145 - weight x2: -0.28240066613579784\n",
      "\n",
      "Epoch [169 / 200] - "
     ]
    },
    {
     "name": "stderr",
     "output_type": "stream",
     "text": [
      "100%|██████████| 8/8 [00:00<?, ?it/s]\n"
     ]
    },
    {
     "name": "stdout",
     "output_type": "stream",
     "text": [
      "Epoch 169 - loss: 0.9777 - weight x1: 0.05003465808398533 - weight x2: -0.28240066651639706\n",
      "\n",
      "Epoch [170 / 200] - "
     ]
    },
    {
     "name": "stderr",
     "output_type": "stream",
     "text": [
      "100%|██████████| 8/8 [00:00<?, ?it/s]\n"
     ]
    },
    {
     "name": "stdout",
     "output_type": "stream",
     "text": [
      "Epoch 170 - loss: 0.9777 - weight x1: 0.05003465870832845 - weight x2: -0.2824006668627071\n",
      "\n",
      "Epoch [171 / 200] - "
     ]
    },
    {
     "name": "stderr",
     "output_type": "stream",
     "text": [
      "100%|██████████| 8/8 [00:00<?, ?it/s]\n"
     ]
    },
    {
     "name": "stdout",
     "output_type": "stream",
     "text": [
      "Epoch 171 - loss: 0.9777 - weight x1: 0.05003465927642284 - weight x2: -0.2824006671778172\n",
      "\n",
      "Epoch [172 / 200] - "
     ]
    },
    {
     "name": "stderr",
     "output_type": "stream",
     "text": [
      "100%|██████████| 8/8 [00:00<?, ?it/s]\n"
     ]
    },
    {
     "name": "stdout",
     "output_type": "stream",
     "text": [
      "Epoch 172 - loss: 0.9777 - weight x1: 0.050034659793336184 - weight x2: -0.2824006674645382\n",
      "\n",
      "Epoch [173 / 200] - "
     ]
    },
    {
     "name": "stderr",
     "output_type": "stream",
     "text": [
      "100%|██████████| 8/8 [00:00<00:00, 8019.70it/s]\n"
     ]
    },
    {
     "name": "stdout",
     "output_type": "stream",
     "text": [
      "Epoch 173 - loss: 0.9777 - weight x1: 0.050034660263679434 - weight x2: -0.2824006677254277\n",
      "\n",
      "Epoch [174 / 200] - "
     ]
    },
    {
     "name": "stderr",
     "output_type": "stream",
     "text": [
      "100%|██████████| 8/8 [00:00<?, ?it/s]\n"
     ]
    },
    {
     "name": "stdout",
     "output_type": "stream",
     "text": [
      "Epoch 174 - loss: 0.9777 - weight x1: 0.05003466069164825 - weight x2: -0.282400667962813\n",
      "\n",
      "Epoch [175 / 200] - "
     ]
    },
    {
     "name": "stderr",
     "output_type": "stream",
     "text": [
      "100%|██████████| 8/8 [00:00<?, ?it/s]\n"
     ]
    },
    {
     "name": "stdout",
     "output_type": "stream",
     "text": [
      "Epoch 175 - loss: 0.9777 - weight x1: 0.05003466108106015 - weight x2: -0.28240066817881165\n",
      "\n",
      "Epoch [176 / 200] - "
     ]
    },
    {
     "name": "stderr",
     "output_type": "stream",
     "text": [
      "100%|██████████| 8/8 [00:00<?, ?it/s]\n"
     ]
    },
    {
     "name": "stdout",
     "output_type": "stream",
     "text": [
      "Epoch 176 - loss: 0.9777 - weight x1: 0.050034661435388955 - weight x2: -0.28240066837535044\n",
      "\n",
      "Epoch [177 / 200] - "
     ]
    },
    {
     "name": "stderr",
     "output_type": "stream",
     "text": [
      "100%|██████████| 8/8 [00:00<?, ?it/s]\n"
     ]
    },
    {
     "name": "stdout",
     "output_type": "stream",
     "text": [
      "Epoch 177 - loss: 0.9777 - weight x1: 0.05003466175779542 - weight x2: -0.28240066855418255\n",
      "\n",
      "Epoch [178 / 200] - "
     ]
    },
    {
     "name": "stderr",
     "output_type": "stream",
     "text": [
      "100%|██████████| 8/8 [00:00<?, ?it/s]\n"
     ]
    },
    {
     "name": "stdout",
     "output_type": "stream",
     "text": [
      "Epoch 178 - loss: 0.9777 - weight x1: 0.05003466205115541 - weight x2: -0.28240066871690317\n",
      "\n",
      "Epoch [179 / 200] - "
     ]
    },
    {
     "name": "stderr",
     "output_type": "stream",
     "text": [
      "100%|██████████| 8/8 [00:00<?, ?it/s]\n"
     ]
    },
    {
     "name": "stdout",
     "output_type": "stream",
     "text": [
      "Epoch 179 - loss: 0.9777 - weight x1: 0.05003466231808579 - weight x2: -0.28240066886496384\n",
      "\n",
      "Epoch [180 / 200] - "
     ]
    },
    {
     "name": "stderr",
     "output_type": "stream",
     "text": [
      "100%|██████████| 8/8 [00:00<?, ?it/s]\n"
     ]
    },
    {
     "name": "stdout",
     "output_type": "stream",
     "text": [
      "Epoch 180 - loss: 0.9777 - weight x1: 0.050034662560967696 - weight x2: -0.2824006689996854\n",
      "\n",
      "Epoch [181 / 200] - "
     ]
    },
    {
     "name": "stderr",
     "output_type": "stream",
     "text": [
      "100%|██████████| 8/8 [00:00<?, ?it/s]\n"
     ]
    },
    {
     "name": "stdout",
     "output_type": "stream",
     "text": [
      "Epoch 181 - loss: 0.9777 - weight x1: 0.050034662781967804 - weight x2: -0.2824006691222695\n",
      "\n",
      "Epoch [182 / 200] - "
     ]
    },
    {
     "name": "stderr",
     "output_type": "stream",
     "text": [
      "100%|██████████| 8/8 [00:00<00:00, 8025.46it/s]\n"
     ]
    },
    {
     "name": "stdout",
     "output_type": "stream",
     "text": [
      "Epoch 182 - loss: 0.9777 - weight x1: 0.050034662983057435 - weight x2: -0.2824006692338097\n",
      "\n",
      "Epoch [183 / 200] - "
     ]
    },
    {
     "name": "stderr",
     "output_type": "stream",
     "text": [
      "100%|██████████| 8/8 [00:00<00:00, 7928.74it/s]\n"
     ]
    },
    {
     "name": "stdout",
     "output_type": "stream",
     "text": [
      "Epoch 183 - loss: 0.9777 - weight x1: 0.05003466316603036 - weight x2: -0.28240066933530095\n",
      "\n",
      "Epoch [184 / 200] - "
     ]
    },
    {
     "name": "stderr",
     "output_type": "stream",
     "text": [
      "100%|██████████| 8/8 [00:00<?, ?it/s]\n"
     ]
    },
    {
     "name": "stdout",
     "output_type": "stream",
     "text": [
      "Epoch 184 - loss: 0.9777 - weight x1: 0.0500346633325188 - weight x2: -0.28240066942764863\n",
      "\n",
      "Epoch [185 / 200] - "
     ]
    },
    {
     "name": "stderr",
     "output_type": "stream",
     "text": [
      "100%|██████████| 8/8 [00:00<?, ?it/s]\n"
     ]
    },
    {
     "name": "stdout",
     "output_type": "stream",
     "text": [
      "Epoch 185 - loss: 0.9777 - weight x1: 0.05003466348400784 - weight x2: -0.2824006695116764\n",
      "\n",
      "Epoch [186 / 200] - "
     ]
    },
    {
     "name": "stderr",
     "output_type": "stream",
     "text": [
      "100%|██████████| 8/8 [00:00<?, ?it/s]\n"
     ]
    },
    {
     "name": "stdout",
     "output_type": "stream",
     "text": [
      "Epoch 186 - loss: 0.9777 - weight x1: 0.05003466362184883 - weight x2: -0.2824006695881339\n",
      "\n",
      "Epoch [187 / 200] - "
     ]
    },
    {
     "name": "stderr",
     "output_type": "stream",
     "text": [
      "100%|██████████| 8/8 [00:00<00:00, 7690.68it/s]\n"
     ]
    },
    {
     "name": "stdout",
     "output_type": "stream",
     "text": [
      "Epoch 187 - loss: 0.9777 - weight x1: 0.05003466374727138 - weight x2: -0.28240066965770316\n",
      "\n",
      "Epoch [188 / 200] - "
     ]
    },
    {
     "name": "stderr",
     "output_type": "stream",
     "text": [
      "100%|██████████| 8/8 [00:00<00:00, 7904.46it/s]\n"
     ]
    },
    {
     "name": "stdout",
     "output_type": "stream",
     "text": [
      "Epoch 188 - loss: 0.9777 - weight x1: 0.05003466386139427 - weight x2: -0.2824006697210047\n",
      "\n",
      "Epoch [189 / 200] - "
     ]
    },
    {
     "name": "stderr",
     "output_type": "stream",
     "text": [
      "100%|██████████| 8/8 [00:00<?, ?it/s]\n"
     ]
    },
    {
     "name": "stdout",
     "output_type": "stream",
     "text": [
      "Epoch 189 - loss: 0.9777 - weight x1: 0.05003466396523554 - weight x2: -0.2824006697786033\n",
      "\n",
      "Epoch [190 / 200] - "
     ]
    },
    {
     "name": "stderr",
     "output_type": "stream",
     "text": [
      "100%|██████████| 8/8 [00:00<?, ?it/s]\n"
     ]
    },
    {
     "name": "stdout",
     "output_type": "stream",
     "text": [
      "Epoch 190 - loss: 0.9777 - weight x1: 0.0500346640597215 - weight x2: -0.28240066983101264\n",
      "\n",
      "Epoch [191 / 200] - "
     ]
    },
    {
     "name": "stderr",
     "output_type": "stream",
     "text": [
      "100%|██████████| 8/8 [00:00<?, ?it/s]\n"
     ]
    },
    {
     "name": "stdout",
     "output_type": "stream",
     "text": [
      "Epoch 191 - loss: 0.9777 - weight x1: 0.05003466414569496 - weight x2: -0.28240066987870033\n",
      "\n",
      "Epoch [192 / 200] - "
     ]
    },
    {
     "name": "stderr",
     "output_type": "stream",
     "text": [
      "100%|██████████| 8/8 [00:00<?, ?it/s]\n"
     ]
    },
    {
     "name": "stdout",
     "output_type": "stream",
     "text": [
      "Epoch 192 - loss: 0.9777 - weight x1: 0.0500346642239228 - weight x2: -0.28240066992209173\n",
      "\n",
      "Epoch [193 / 200] - "
     ]
    },
    {
     "name": "stderr",
     "output_type": "stream",
     "text": [
      "100%|██████████| 8/8 [00:00<00:00, 8000.58it/s]\n"
     ]
    },
    {
     "name": "stdout",
     "output_type": "stream",
     "text": [
      "Epoch 193 - loss: 0.9777 - weight x1: 0.05003466429510289 - weight x2: -0.28240066996157387\n",
      "\n",
      "Epoch [194 / 200] - "
     ]
    },
    {
     "name": "stderr",
     "output_type": "stream",
     "text": [
      "100%|██████████| 8/8 [00:00<?, ?it/s]\n"
     ]
    },
    {
     "name": "stdout",
     "output_type": "stream",
     "text": [
      "Epoch 194 - loss: 0.9777 - weight x1: 0.05003466435987022 - weight x2: -0.2824006699974989\n",
      "\n",
      "Epoch [195 / 200] - "
     ]
    },
    {
     "name": "stderr",
     "output_type": "stream",
     "text": [
      "100%|██████████| 8/8 [00:00<00:00, 8017.79it/s]\n"
     ]
    },
    {
     "name": "stdout",
     "output_type": "stream",
     "text": [
      "Epoch 195 - loss: 0.9777 - weight x1: 0.05003466441880247 - weight x2: -0.28240067003018743\n",
      "\n",
      "Epoch [196 / 200] - "
     ]
    },
    {
     "name": "stderr",
     "output_type": "stream",
     "text": [
      "100%|██████████| 8/8 [00:00<?, ?it/s]\n"
     ]
    },
    {
     "name": "stdout",
     "output_type": "stream",
     "text": [
      "Epoch 196 - loss: 0.9777 - weight x1: 0.05003466447242537 - weight x2: -0.28240067005993086\n",
      "\n",
      "Epoch [197 / 200] - "
     ]
    },
    {
     "name": "stderr",
     "output_type": "stream",
     "text": [
      "100%|██████████| 8/8 [00:00<?, ?it/s]\n"
     ]
    },
    {
     "name": "stdout",
     "output_type": "stream",
     "text": [
      "Epoch 197 - loss: 0.9777 - weight x1: 0.050034664521217284 - weight x2: -0.2824006700869947\n",
      "\n",
      "Epoch [198 / 200] - "
     ]
    },
    {
     "name": "stderr",
     "output_type": "stream",
     "text": [
      "100%|██████████| 8/8 [00:00<?, ?it/s]\n"
     ]
    },
    {
     "name": "stdout",
     "output_type": "stream",
     "text": [
      "Epoch 198 - loss: 0.9777 - weight x1: 0.050034664565613354 - weight x2: -0.28240067011162034\n",
      "\n",
      "Epoch [199 / 200] - "
     ]
    },
    {
     "name": "stderr",
     "output_type": "stream",
     "text": [
      "100%|██████████| 8/8 [00:00<?, ?it/s]\n"
     ]
    },
    {
     "name": "stdout",
     "output_type": "stream",
     "text": [
      "Epoch 199 - loss: 0.9777 - weight x1: 0.05003466460600968 - weight x2: -0.28240067013402737\n",
      "\n",
      "Epoch [200 / 200] - "
     ]
    },
    {
     "name": "stderr",
     "output_type": "stream",
     "text": [
      "100%|██████████| 8/8 [00:00<?, ?it/s]\n"
     ]
    },
    {
     "name": "stdout",
     "output_type": "stream",
     "text": [
      "Epoch 200 - loss: 0.9777 - weight x1: 0.050034664642766624 - weight x2: -0.2824006701544156\n",
      "\n"
     ]
    },
    {
     "data": {
      "image/png": "[encoded data removed]",
      "text/plain": [
       "<Figure size 1000x600 with 1 Axes>"
      ]
     },
     "metadata": {},
     "output_type": "display_data"
    }
   ],
   "source": [
    "model = AdalineLMS(feature, label);\n",
    "model.train();"
   ]
  },
  {
   "cell_type": "code",
   "execution_count": 25,
   "metadata": {},
   "outputs": [
    {
     "data": {
      "text/plain": [
       "(1.0020063, float)"
      ]
     },
     "execution_count": 25,
     "metadata": {},
     "output_type": "execute_result"
    }
   ],
   "source": [
    "initializer = TruncatedNormal(mean = 1.0, stddev = 0.2)(shape = (1, 2)).numpy();\n",
    "initializer[0][0], type(initializer[0][1].item())"
   ]
  },
  {
   "cell_type": "code",
   "execution_count": 26,
   "metadata": {},
   "outputs": [],
   "source": [
    "# Hyperparameters\n",
    "learning_rate = 1e-1;\n",
    "epochs = 200;\n",
    "\n",
    "X_bias = numpy.c_[numpy.ones(feature.shape[0]), feature];\n",
    "weights = numpy.random.default_rng().random(feature.shape[1]);"
   ]
  },
  {
   "cell_type": "code",
   "execution_count": 27,
   "metadata": {},
   "outputs": [
    {
     "name": "stdout",
     "output_type": "stream",
     "text": [
      "0.36305007032005665\n",
      "0.6455533883928183\n"
     ]
    }
   ],
   "source": [
    "for i in weights:\n",
    "    print(i)"
   ]
  },
  {
   "cell_type": "code",
   "execution_count": 28,
   "metadata": {},
   "outputs": [
    {
     "data": {
      "text/plain": [
       "(array([[1.  , 0.08, 0.72],\n",
       "        [1.  , 0.26, 0.58],\n",
       "        [1.  , 0.45, 0.15],\n",
       "        [1.  , 0.6 , 0.3 ],\n",
       "        [1.  , 0.1 , 1.  ],\n",
       "        [1.  , 0.35, 0.95],\n",
       "        [1.  , 0.7 , 0.65],\n",
       "        [1.  , 0.92, 0.45]]),\n",
       " array([[1.  , 1.  , 1.  , 1.  , 1.  , 1.  , 1.  , 1.  ],\n",
       "        [0.08, 0.26, 0.45, 0.6 , 0.1 , 0.35, 0.7 , 0.92],\n",
       "        [0.72, 0.58, 0.15, 0.3 , 1.  , 0.95, 0.65, 0.45]]))"
      ]
     },
     "execution_count": 28,
     "metadata": {},
     "output_type": "execute_result"
    }
   ],
   "source": [
    "X_bias, X_bias.T"
   ]
  },
  {
   "cell_type": "code",
   "execution_count": 29,
   "metadata": {},
   "outputs": [],
   "source": [
    "# Function to calculate net input\n",
    "def net_input(X, weights):\n",
    "    return numpy.dot(X, weights)\n",
    "\n",
    "def net_input_without_style(X, weights):\n",
    "    lala = [];\n",
    "\n",
    "    for i in X:\n",
    "        y_pred = (i[0] * weights[0]) + (i[1] * weights[1]);\n",
    "        lala.append(y_pred);\n",
    "\n",
    "    return lala;\n",
    "\n",
    "# Function to calculate MSE\n",
    "def mean_squared_error(y_true, y_pred):\n",
    "    return numpy.mean((y_true - y_pred) ** 2)"
   ]
  },
  {
   "cell_type": "code",
   "execution_count": 30,
   "metadata": {},
   "outputs": [
    {
     "name": "stdout",
     "output_type": "stream",
     "text": [
      "0.4938424452684337\n",
      "0.4688139835510493\n",
      "0.26020553990294826\n",
      "0.4114960587098795\n",
      "0.681858395424824\n",
      "0.7403432435851971\n",
      "0.6737447516793715\n",
      "0.6245050894712204\n"
     ]
    }
   ],
   "source": [
    "for i in net_input(feature,weights):\n",
    "    print(i)"
   ]
  },
  {
   "cell_type": "code",
   "execution_count": 31,
   "metadata": {},
   "outputs": [
    {
     "data": {
      "text/plain": [
       "array([0.36305007, 0.64555339])"
      ]
     },
     "execution_count": 31,
     "metadata": {},
     "output_type": "execute_result"
    }
   ],
   "source": [
    "weights"
   ]
  },
  {
   "cell_type": "code",
   "execution_count": 32,
   "metadata": {},
   "outputs": [
    {
     "name": "stdout",
     "output_type": "stream",
     "text": [
      "0.4938424452684337\n",
      "0.4688139835510493\n",
      "0.26020553990294826\n",
      "0.4114960587098795\n",
      "0.681858395424824\n",
      "0.7403432435851971\n",
      "0.6737447516793715\n",
      "0.6245050894712204\n"
     ]
    }
   ],
   "source": [
    "for i in net_input_without_style(feature, weights):\n",
    "    print(i);"
   ]
  },
  {
   "cell_type": "code",
   "execution_count": 33,
   "metadata": {},
   "outputs": [
    {
     "ename": "ValueError",
     "evalue": "shapes (8,3) and (2,) not aligned: 3 (dim 1) != 2 (dim 0)",
     "output_type": "error",
     "traceback": [
      "\u001b[1;31m---------------------------------------------------------------------------\u001b[0m",
      "\u001b[1;31mValueError\u001b[0m                                Traceback (most recent call last)",
      "Cell \u001b[1;32mIn[33], line 4\u001b[0m\n\u001b[0;32m      2\u001b[0m mse_history \u001b[38;5;241m=\u001b[39m []\n\u001b[0;32m      3\u001b[0m \u001b[38;5;28;01mfor\u001b[39;00m epoch \u001b[38;5;129;01min\u001b[39;00m \u001b[38;5;28mrange\u001b[39m(epochs):\n\u001b[1;32m----> 4\u001b[0m     output \u001b[38;5;241m=\u001b[39m \u001b[43mnet_input\u001b[49m\u001b[43m(\u001b[49m\u001b[43mX_bias\u001b[49m\u001b[43m,\u001b[49m\u001b[43m \u001b[49m\u001b[43mweights\u001b[49m\u001b[43m)\u001b[49m\n\u001b[0;32m      5\u001b[0m     errors \u001b[38;5;241m=\u001b[39m y \u001b[38;5;241m-\u001b[39m output\n\u001b[0;32m      6\u001b[0m     weights \u001b[38;5;241m+\u001b[39m\u001b[38;5;241m=\u001b[39m learning_rate \u001b[38;5;241m*\u001b[39m np\u001b[38;5;241m.\u001b[39mdot(X_bias\u001b[38;5;241m.\u001b[39mT, errors)\n",
      "Cell \u001b[1;32mIn[29], line 3\u001b[0m, in \u001b[0;36mnet_input\u001b[1;34m(X, weights)\u001b[0m\n\u001b[0;32m      2\u001b[0m \u001b[38;5;28;01mdef\u001b[39;00m \u001b[38;5;21mnet_input\u001b[39m(X, weights):\n\u001b[1;32m----> 3\u001b[0m     \u001b[38;5;28;01mreturn\u001b[39;00m \u001b[43mnumpy\u001b[49m\u001b[38;5;241;43m.\u001b[39;49m\u001b[43mdot\u001b[49m\u001b[43m(\u001b[49m\u001b[43mX\u001b[49m\u001b[43m,\u001b[49m\u001b[43m \u001b[49m\u001b[43mweights\u001b[49m\u001b[43m)\u001b[49m\n",
      "File \u001b[1;32m<__array_function__ internals>:180\u001b[0m, in \u001b[0;36mdot\u001b[1;34m(*args, **kwargs)\u001b[0m\n",
      "\u001b[1;31mValueError\u001b[0m: shapes (8,3) and (2,) not aligned: 3 (dim 1) != 2 (dim 0)"
     ]
    }
   ],
   "source": [
    "# Training ADALINE\n",
    "mse_history = []\n",
    "for epoch in range(epochs):\n",
    "    output = net_input(X_bias, weights)\n",
    "    errors = y - output\n",
    "    weights += learning_rate * np.dot(X_bias.T, errors)\n",
    "    mse = mean_squared_error(y, output)\n",
    "    mse_history.append(mse)"
   ]
  },
  {
   "cell_type": "code",
   "execution_count": null,
   "metadata": {},
   "outputs": [
    {
     "ename": "",
     "evalue": "",
     "output_type": "error",
     "traceback": [
      "\u001b[1;31mFailed to start the Kernel. \n",
      "\u001b[1;31mUnable to start Kernel 'base (Python 3.10.9)' due to a connection timeout. \n",
      "\u001b[1;31mView Jupyter <a href='command:jupyter.viewOutput'>log</a> for further details."
     ]
    }
   ],
   "source": [
    "# Plotting MSE curve\n",
    "plt.figure(figsize=(10, 6))\n",
    "plt.plot(range(epochs), mse_history, label='MSE')\n",
    "plt.xlabel('Epoch')\n",
    "plt.ylabel('Mean Squared Error')\n",
    "plt.title('MSE over Epochs')\n",
    "plt.legend()\n",
    "plt.show()"
   ]
  },
  {
   "cell_type": "code",
   "execution_count": null,
   "metadata": {},
   "outputs": [
    {
     "ename": "",
     "evalue": "",
     "output_type": "error",
     "traceback": [
      "\u001b[1;31mFailed to start the Kernel. \n",
      "\u001b[1;31mUnable to start Kernel 'base (Python 3.10.9)' due to a connection timeout. \n",
      "\u001b[1;31mView Jupyter <a href='command:jupyter.viewOutput'>log</a> for further details."
     ]
    }
   ],
   "source": [
    "# Plotting decision boundary\n",
    "def plot_decision_boundary(X, y, weights):\n",
    "    min_x1, max_x1 = X[:, 0].min() - 1, X[:, 0].max() + 1;\n",
    "    min_x2, max_x2 = X[:, 1].min() - 1, X[:, 1].max() + 1;\n",
    "    x1, x2 = np.meshgrid(np.linspace(min_x1, max_x1, 200), np.linspace(min_x2, max_x2, 200));\n",
    "    Z = net_input(np.c_[np.ones(x1.ravel().shape), x1.ravel(), x2.ravel()], weights).reshape(x1.shape)\n",
    "    plt.contourf(x1, x2, Z, levels=[-float('inf'), 0, float('inf')], alpha=0.3, colors=['red', 'blue'])\n",
    "    plt.scatter(X[:, 0], X[:, 1], c=y, marker='o', edgecolor='k', cmap=plt.cm.Paired)\n",
    "    plt.xlabel('Feature 1')\n",
    "    plt.ylabel('Feature 2')\n",
    "    plt.title('Decision Boundary')\n",
    "    plt.show()\n",
    "\n",
    "plot_decision_boundary(X, y, weights)\n",
    "\n",
    "# Final weights\n",
    "print(\"Final weights (including bias):\", weights)"
   ]
  }
 ],
 "metadata": {
  "kernelspec": {
   "display_name": "base",
   "language": "python",
   "name": "python3"
  },
  "language_info": {
   "codemirror_mode": {
    "name": "ipython",
    "version": 3
   },
   "file_extension": ".py",
   "mimetype": "text/x-python",
   "name": "python",
   "nbconvert_exporter": "python",
   "pygments_lexer": "ipython3",
   "version": "3.10.9"
  }
 },
 "nbformat": 4,
 "nbformat_minor": 2
}

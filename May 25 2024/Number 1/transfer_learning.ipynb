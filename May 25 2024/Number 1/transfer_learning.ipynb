{
  "cells": [
    {
      "cell_type": "code",
      "execution_count": null,
      "metadata": {
        "colab": {
          "base_uri": "https://localhost:8080/"
        },
        "id": "2xmmdgziIJk8",
        "outputId": "3a9d5405-ae40-4a1d-d57d-6bacf0305b60"
      },
      "outputs": [
        {
          "name": "stdout",
          "output_type": "stream",
          "text": [
            "Requirement already satisfied: tensorflow in /usr/local/lib/python3.10/dist-packages (2.15.0)\n",
            "Requirement already satisfied: scikit-learn in /usr/local/lib/python3.10/dist-packages (1.2.2)\n",
            "Requirement already satisfied: opencv-python in /usr/local/lib/python3.10/dist-packages (4.8.0.76)\n",
            "Requirement already satisfied: numpy in /usr/local/lib/python3.10/dist-packages (1.25.2)\n",
            "Requirement already satisfied: matplotlib in /usr/local/lib/python3.10/dist-packages (3.7.1)\n",
            "Requirement already satisfied: tqdm in /usr/local/lib/python3.10/dist-packages (4.66.4)\n",
            "Requirement already satisfied: absl-py>=1.0.0 in /usr/local/lib/python3.10/dist-packages (from tensorflow) (1.4.0)\n",
            "Requirement already satisfied: astunparse>=1.6.0 in /usr/local/lib/python3.10/dist-packages (from tensorflow) (1.6.3)\n",
            "Requirement already satisfied: flatbuffers>=23.5.26 in /usr/local/lib/python3.10/dist-packages (from tensorflow) (24.3.25)\n",
            "Requirement already satisfied: gast!=0.5.0,!=0.5.1,!=0.5.2,>=0.2.1 in /usr/local/lib/python3.10/dist-packages (from tensorflow) (0.5.4)\n",
            "Requirement already satisfied: google-pasta>=0.1.1 in /usr/local/lib/python3.10/dist-packages (from tensorflow) (0.2.0)\n",
            "Requirement already satisfied: h5py>=2.9.0 in /usr/local/lib/python3.10/dist-packages (from tensorflow) (3.9.0)\n",
            "Requirement already satisfied: libclang>=13.0.0 in /usr/local/lib/python3.10/dist-packages (from tensorflow) (18.1.1)\n",
            "Requirement already satisfied: ml-dtypes~=0.2.0 in /usr/local/lib/python3.10/dist-packages (from tensorflow) (0.2.0)\n",
            "Requirement already satisfied: opt-einsum>=2.3.2 in /usr/local/lib/python3.10/dist-packages (from tensorflow) (3.3.0)\n",
            "Requirement already satisfied: packaging in /usr/local/lib/python3.10/dist-packages (from tensorflow) (24.0)\n",
            "Requirement already satisfied: protobuf!=4.21.0,!=4.21.1,!=4.21.2,!=4.21.3,!=4.21.4,!=4.21.5,<5.0.0dev,>=3.20.3 in /usr/local/lib/python3.10/dist-packages (from tensorflow) (3.20.3)\n",
            "Requirement already satisfied: setuptools in /usr/local/lib/python3.10/dist-packages (from tensorflow) (67.7.2)\n",
            "Requirement already satisfied: six>=1.12.0 in /usr/local/lib/python3.10/dist-packages (from tensorflow) (1.16.0)\n",
            "Requirement already satisfied: termcolor>=1.1.0 in /usr/local/lib/python3.10/dist-packages (from tensorflow) (2.4.0)\n",
            "Requirement already satisfied: typing-extensions>=3.6.6 in /usr/local/lib/python3.10/dist-packages (from tensorflow) (4.11.0)\n",
            "Requirement already satisfied: wrapt<1.15,>=1.11.0 in /usr/local/lib/python3.10/dist-packages (from tensorflow) (1.14.1)\n",
            "Requirement already satisfied: tensorflow-io-gcs-filesystem>=0.23.1 in /usr/local/lib/python3.10/dist-packages (from tensorflow) (0.37.0)\n",
            "Requirement already satisfied: grpcio<2.0,>=1.24.3 in /usr/local/lib/python3.10/dist-packages (from tensorflow) (1.64.0)\n",
            "Requirement already satisfied: tensorboard<2.16,>=2.15 in /usr/local/lib/python3.10/dist-packages (from tensorflow) (2.15.2)\n",
            "Requirement already satisfied: tensorflow-estimator<2.16,>=2.15.0 in /usr/local/lib/python3.10/dist-packages (from tensorflow) (2.15.0)\n",
            "Requirement already satisfied: keras<2.16,>=2.15.0 in /usr/local/lib/python3.10/dist-packages (from tensorflow) (2.15.0)\n",
            "Requirement already satisfied: scipy>=1.3.2 in /usr/local/lib/python3.10/dist-packages (from scikit-learn) (1.11.4)\n",
            "Requirement already satisfied: joblib>=1.1.1 in /usr/local/lib/python3.10/dist-packages (from scikit-learn) (1.4.2)\n",
            "Requirement already satisfied: threadpoolctl>=2.0.0 in /usr/local/lib/python3.10/dist-packages (from scikit-learn) (3.5.0)\n",
            "Requirement already satisfied: contourpy>=1.0.1 in /usr/local/lib/python3.10/dist-packages (from matplotlib) (1.2.1)\n",
            "Requirement already satisfied: cycler>=0.10 in /usr/local/lib/python3.10/dist-packages (from matplotlib) (0.12.1)\n",
            "Requirement already satisfied: fonttools>=4.22.0 in /usr/local/lib/python3.10/dist-packages (from matplotlib) (4.51.0)\n",
            "Requirement already satisfied: kiwisolver>=1.0.1 in /usr/local/lib/python3.10/dist-packages (from matplotlib) (1.4.5)\n",
            "Requirement already satisfied: pillow>=6.2.0 in /usr/local/lib/python3.10/dist-packages (from matplotlib) (9.4.0)\n",
            "Requirement already satisfied: pyparsing>=2.3.1 in /usr/local/lib/python3.10/dist-packages (from matplotlib) (3.1.2)\n",
            "Requirement already satisfied: python-dateutil>=2.7 in /usr/local/lib/python3.10/dist-packages (from matplotlib) (2.8.2)\n",
            "Requirement already satisfied: wheel<1.0,>=0.23.0 in /usr/local/lib/python3.10/dist-packages (from astunparse>=1.6.0->tensorflow) (0.43.0)\n",
            "Requirement already satisfied: google-auth<3,>=1.6.3 in /usr/local/lib/python3.10/dist-packages (from tensorboard<2.16,>=2.15->tensorflow) (2.27.0)\n",
            "Requirement already satisfied: google-auth-oauthlib<2,>=0.5 in /usr/local/lib/python3.10/dist-packages (from tensorboard<2.16,>=2.15->tensorflow) (1.2.0)\n",
            "Requirement already satisfied: markdown>=2.6.8 in /usr/local/lib/python3.10/dist-packages (from tensorboard<2.16,>=2.15->tensorflow) (3.6)\n",
            "Requirement already satisfied: requests<3,>=2.21.0 in /usr/local/lib/python3.10/dist-packages (from tensorboard<2.16,>=2.15->tensorflow) (2.31.0)\n",
            "Requirement already satisfied: tensorboard-data-server<0.8.0,>=0.7.0 in /usr/local/lib/python3.10/dist-packages (from tensorboard<2.16,>=2.15->tensorflow) (0.7.2)\n",
            "Requirement already satisfied: werkzeug>=1.0.1 in /usr/local/lib/python3.10/dist-packages (from tensorboard<2.16,>=2.15->tensorflow) (3.0.3)\n",
            "Requirement already satisfied: cachetools<6.0,>=2.0.0 in /usr/local/lib/python3.10/dist-packages (from google-auth<3,>=1.6.3->tensorboard<2.16,>=2.15->tensorflow) (5.3.3)\n",
            "Requirement already satisfied: pyasn1-modules>=0.2.1 in /usr/local/lib/python3.10/dist-packages (from google-auth<3,>=1.6.3->tensorboard<2.16,>=2.15->tensorflow) (0.4.0)\n",
            "Requirement already satisfied: rsa<5,>=3.1.4 in /usr/local/lib/python3.10/dist-packages (from google-auth<3,>=1.6.3->tensorboard<2.16,>=2.15->tensorflow) (4.9)\n",
            "Requirement already satisfied: requests-oauthlib>=0.7.0 in /usr/local/lib/python3.10/dist-packages (from google-auth-oauthlib<2,>=0.5->tensorboard<2.16,>=2.15->tensorflow) (1.3.1)\n",
            "Requirement already satisfied: charset-normalizer<4,>=2 in /usr/local/lib/python3.10/dist-packages (from requests<3,>=2.21.0->tensorboard<2.16,>=2.15->tensorflow) (3.3.2)\n",
            "Requirement already satisfied: idna<4,>=2.5 in /usr/local/lib/python3.10/dist-packages (from requests<3,>=2.21.0->tensorboard<2.16,>=2.15->tensorflow) (3.7)\n",
            "Requirement already satisfied: urllib3<3,>=1.21.1 in /usr/local/lib/python3.10/dist-packages (from requests<3,>=2.21.0->tensorboard<2.16,>=2.15->tensorflow) (2.0.7)\n",
            "Requirement already satisfied: certifi>=2017.4.17 in /usr/local/lib/python3.10/dist-packages (from requests<3,>=2.21.0->tensorboard<2.16,>=2.15->tensorflow) (2024.2.2)\n",
            "Requirement already satisfied: MarkupSafe>=2.1.1 in /usr/local/lib/python3.10/dist-packages (from werkzeug>=1.0.1->tensorboard<2.16,>=2.15->tensorflow) (2.1.5)\n",
            "Requirement already satisfied: pyasn1<0.7.0,>=0.4.6 in /usr/local/lib/python3.10/dist-packages (from pyasn1-modules>=0.2.1->google-auth<3,>=1.6.3->tensorboard<2.16,>=2.15->tensorflow) (0.6.0)\n",
            "Requirement already satisfied: oauthlib>=3.0.0 in /usr/local/lib/python3.10/dist-packages (from requests-oauthlib>=0.7.0->google-auth-oauthlib<2,>=0.5->tensorboard<2.16,>=2.15->tensorflow) (3.2.2)\n"
          ]
        }
      ],
      "source": [
        "!pip install tensorflow scikit-learn opencv-python numpy matplotlib tqdm"
      ]
    },
    {
      "cell_type": "markdown",
      "metadata": {
        "id": "ZNTyer5iIJk_"
      },
      "source": [
        "# Transfer Learning\n",
        "\n",
        "In endeavor finding the best model that fit for (Multi Label Image Classification Dataset)[https://www.kaggle.com/datasets/meherunnesashraboni/multi-label-image-classification-dataset/data], building CNN model using DenseNet121 was made. The work employing Tensorflow's deep learning backend with Keras's API.\n",
        "\n",
        "The process to make the model is as follow:\n",
        "\n",
        "1. Dataset Pre-Processing\n",
        "2. Dataset Loading\n",
        "3. Model Architecture\n",
        "4. Training the Model\n",
        "5. Model Evaluation"
      ]
    },
    {
      "cell_type": "markdown",
      "metadata": {
        "id": "d3H4lxOUIJlA"
      },
      "source": [
        "## 1. Dataset Pre-Processing\n",
        "\n",
        "The downloaded dataset structure as follow:\n",
        "\n",
        "1. multilabel_classification.csv\n",
        "2. multilabel_classification(2).csv\n",
        "3. multilabel_classification(6)-reduced_modified.csv\n",
        "4. multilabel_classification(7).csv\n",
        "5. /images\n",
        "\n",
        "During manual exploration, it is found there are 7844 images in total. So it is expected that the csv file, must also consist of only 7844 rows. With this requirement, the `multilabel_classification(6)-reduced_modified.csv` is chosen for its validity.\n",
        "\n",
        "In dataset pre-processing endeavor, the more precise data integrity checks is conducted. This to ensure the registered label within csv file is 1:1 with the image within `/images` folder."
      ]
    },
    {
      "cell_type": "code",
      "execution_count": null,
      "metadata": {
        "id": "QceWxKVVIJlA"
      },
      "outputs": [],
      "source": [
        "import pandas;\n",
        "import os;\n",
        "import pathlib;\n",
        "from tqdm import tqdm;\n",
        "import numpy;"
      ]
    },
    {
      "cell_type": "code",
      "execution_count": null,
      "metadata": {
        "colab": {
          "base_uri": "https://localhost:8080/"
        },
        "id": "NxtMEW0tIJlB",
        "outputId": "fc33a63c-cb17-4996-d3c8-8a67ba73c874"
      },
      "outputs": [
        {
          "name": "stdout",
          "output_type": "stream",
          "text": [
            "Mounted at /content/drive\n"
          ]
        }
      ],
      "source": [
        "from google.colab import drive;\n",
        "drive.mount('/content/drive');"
      ]
    },
    {
      "cell_type": "code",
      "execution_count": null,
      "metadata": {
        "id": "pEYgDEHMIJlB"
      },
      "outputs": [],
      "source": [
        "# Load csv file\n",
        "# dataframe = pandas.read_csv(\"/Users/yosuakristianto/Documents/Dataset Repository/FIN DL/Number 1/multilabel_classification(6)-reduced_modified.csv\");\n",
        "# dataframe = pandas.read_csv(\"D:\\\\tDatase\\\\FIN DL\\\\Number 1\\\\multilabel_classification(6)-reduced_modified.csv\");\n",
        "dataframe = pandas.read_csv(\"/content/drive/MyDrive/Collab Dataset/FIN DL/Number 1/multilabel_classification(6)-reduced_modified.csv\");"
      ]
    },
    {
      "cell_type": "code",
      "execution_count": null,
      "metadata": {
        "id": "D5tHedcXIJlC"
      },
      "outputs": [],
      "source": [
        "# Integrity checking initialization\n",
        "# image_folder_path = \"/Users/yosuakristianto/Documents/Dataset Repository/FIN DL/Number 1/images/\";\n",
        "# image_folder_path = \"D:\\\\tDatase\\\\FIN DL\\\\Number 1\\\\images\\\\\";\n",
        "image_folder_path = \"/content/drive/MyDrive/Collab Dataset/FIN DL/Number 1/images/\";"
      ]
    },
    {
      "cell_type": "code",
      "execution_count": null,
      "metadata": {
        "colab": {
          "base_uri": "https://localhost:8080/"
        },
        "id": "pVVUuvt1IJlC",
        "outputId": "489ab40e-1915-45ec-fe8f-a4f58e024aeb"
      },
      "outputs": [
        {
          "name": "stdout",
          "output_type": "stream",
          "text": [
            "Data integrity checking - "
          ]
        },
        {
          "name": "stderr",
          "output_type": "stream",
          "text": [
            "7943it [01:13, 107.83it/s] \n"
          ]
        },
        {
          "data": {
            "text/plain": [
              "((7843, 12), 0)"
            ]
          },
          "execution_count": 11,
          "metadata": {},
          "output_type": "execute_result"
        }
      ],
      "source": [
        "# Starts integrity checking\n",
        "print(\"Data integrity checking -\", end = \" \");\n",
        "\n",
        "# Check for image data that not exist in the folder but exist in csv\n",
        "not_found_image = [];\n",
        "\n",
        "for idx, row in tqdm(dataframe.iterrows()):\n",
        "    if(not os.path.exists(path = image_folder_path + row[\"Image_Name\"])):\n",
        "        not_found_image.append(idx);\n",
        "\n",
        "# Check for duplicated image name data in csv\n",
        "dataframe = dataframe.drop_duplicates(subset = [\"Image_Name\"]);\n",
        "\n",
        "dataframe.shape, len(not_found_image)"
      ]
    },
    {
      "cell_type": "markdown",
      "metadata": {
        "id": "Fs5XcEH5IJlD"
      },
      "source": [
        "## 2. Data Loading\n",
        "\n",
        "With no not found image came from csv file, further steps to do data pre-processing is unnecessary. The step continue to data loading. Data loading part consist of these process below:\n",
        "\n",
        "1. Load image data from disk as NumPy array\n",
        "Why? Because the deep learning model cannot directly read the image file. Instead, image convertion into HWC (Height-Width-Channel) array format, where every channels contains RGB color value.\n",
        "\n",
        "Since the csv and image files are separated entity, sorting image files by its name is conducted for both csv and the image folder during data loading\n",
        "\n",
        "2. Resize all images into 224 x 224 pixel\n",
        "\n",
        "3. Define feature - label for every loaded image data to replace the image name.\n",
        "\n",
        "4. Train-Test-Val splits\n",
        "\n",
        "The splits ratio is 70:30:30\n",
        "\n",
        "5. Data Loading Pattern\n",
        "Making data loading pattern for better batch data segmentation and transformation. This is necessary since the minimum image height is 33 and image width was 120. This can be done by standardizing all images to 224 x 224."
      ]
    },
    {
      "cell_type": "code",
      "execution_count": null,
      "metadata": {
        "id": "-BJIUZ6nIJlE"
      },
      "outputs": [],
      "source": [
        "from sklearn.model_selection import train_test_split;\n",
        "import cv2;"
      ]
    },
    {
      "cell_type": "code",
      "execution_count": null,
      "metadata": {
        "colab": {
          "base_uri": "https://localhost:8080/"
        },
        "id": "SzOVjr31IJlE",
        "outputId": "0027dd12-8a83-4352-f9e5-6a14c98f325a"
      },
      "outputs": [
        {
          "name": "stderr",
          "output_type": "stream",
          "text": [
            "100%|██████████| 7843/7843 [05:15<00:00, 24.87it/s] "
          ]
        },
        {
          "name": "stdout",
          "output_type": "stream",
          "text": [
            "Minimal size: height: 224 - width: 224\n"
          ]
        },
        {
          "name": "stderr",
          "output_type": "stream",
          "text": [
            "\n"
          ]
        }
      ],
      "source": [
        "# Load image data from disk as NumPy array\n",
        "\n",
        "# Sort image file by name\n",
        "list_files = os.listdir(image_folder_path);\n",
        "list_files.sort()\n",
        "\n",
        "images = [];\n",
        "\n",
        "heights, widths = [], [];\n",
        "\n",
        "for i in tqdm(list_files):\n",
        "    image = cv2.imread(filename = image_folder_path + i);\n",
        "\n",
        "    # Resize image to 224 x 224\n",
        "    image = cv2.resize(image, (224, 224));\n",
        "\n",
        "    images.append(image);\n",
        "\n",
        "    height, width, channels = image.shape;\n",
        "\n",
        "    heights.append(height);\n",
        "    widths.append(width);\n",
        "\n",
        "print(f\"Minimal size: height: {min(heights)} - width: {min(widths)}\");"
      ]
    },
    {
      "cell_type": "code",
      "execution_count": null,
      "metadata": {
        "colab": {
          "base_uri": "https://localhost:8080/"
        },
        "id": "hpVnCE4eIJlE",
        "outputId": "e1b2c679-efb4-4265-babd-8478e2c15114"
      },
      "outputs": [
        {
          "data": {
            "text/plain": [
              "(7843, (7843, 10))"
            ]
          },
          "execution_count": 14,
          "metadata": {},
          "output_type": "execute_result"
        }
      ],
      "source": [
        "# Defining which is label and which is feature\n",
        "\n",
        "# feature has been declared on the above cell as `images`\n",
        "images = images;\n",
        "\n",
        "# Convert dataframe's content by image name alp\n",
        "sorted_dataframe = dataframe.sort_values(by=[\"Image_Name\"], ascending=[True]);\n",
        "\n",
        "# label\n",
        "labels = sorted_dataframe.drop(columns = [\" Classes(motorcycle, truck, boat, bus, cycle, , , , , , , sitar, ektara, flutes, tabla, harmonium)\", \"Image_Name\"]);\n",
        "\n",
        "(len(images)), labels.shape"
      ]
    },
    {
      "cell_type": "code",
      "execution_count": null,
      "metadata": {
        "id": "PJLPXbCWIJlF"
      },
      "outputs": [],
      "source": [
        "# Train-Test-Split\n",
        "\n",
        "# First to split it into 70:30\n",
        "train_image, test_image, train_label, test_label = train_test_split(images, labels, train_size = 0.7, test_size = 0.3, random_state = 42);\n",
        "\n",
        "# Since the test is already 30, then to make it 15:15 with val, we need to split it to 50:50\n",
        "test_image, val_image, test_label, val_label = train_test_split(test_image, test_label, train_size = 0.5, test_size = 0.5, random_state = 42);\n",
        "\n",
        "train_image = numpy.array(train_image);\n",
        "test_image = numpy.array(test_image);\n",
        "val_image = numpy.array(val_image);\n",
        "train_label = train_label.to_numpy();\n",
        "test_label = test_label.to_numpy();\n",
        "val_label = val_label.to_numpy();"
      ]
    },
    {
      "cell_type": "code",
      "execution_count": null,
      "metadata": {
        "colab": {
          "base_uri": "https://localhost:8080/"
        },
        "id": "QL_udsAgIJlF",
        "outputId": "631cb455-5429-4b64-b43a-86b23161f250"
      },
      "outputs": [
        {
          "name": "stdout",
          "output_type": "stream",
          "text": [
            "Training dataset shape: \n",
            "Total dataset, width, height\n",
            "5490 224 224\n",
            "5490 10\n",
            "1176 224 224\n",
            "1176 10\n",
            "1177 224 224\n",
            "1177 10\n"
          ]
        }
      ],
      "source": [
        "print(\"Training dataset shape: \")\n",
        "\n",
        "print(\"Total dataset, width, height\")\n",
        "\n",
        "print(len(train_image), len(train_image[0]), len(train_image[0][0]))\n",
        "print(len(train_label), len(train_label[0]));\n",
        "\n",
        "print(len(test_image), len(test_image[0]), len(test_image[0][0]))\n",
        "print(len(test_label), len(test_label[0]));\n",
        "\n",
        "print(len(val_image), len(val_image[0]), len(val_image[0][0]))\n",
        "print(len(val_label), len(val_label[0]));"
      ]
    },
    {
      "cell_type": "code",
      "execution_count": null,
      "metadata": {
        "id": "owCxZpWdIJlF"
      },
      "outputs": [],
      "source": [
        "# Helper Function\n",
        "import requests;\n",
        "import time;\n",
        "\n",
        "# telegram_reporter\n",
        "\"\"\"\n",
        "This function helps to send message to telegram private channel\n",
        "\"\"\"\n",
        "def telegram_reporter(message):\n",
        "    message = \"[\" + time.strftime(\"%Y-%m-%d %H:%M:%S\") +\"][CNN FROM SCRATCH] \" + message\n",
        "    requests.request(\n",
        "        method=\"POST\",\n",
        "        url=\"https://api.telegram.org/bot6307342709:AAEehfQrvZzQhk2hFlOW7C1JnE2hRQYLEgE/sendMessage?chat_id=-1001525528850&text=\" + message,\n",
        "        headers={},\n",
        "        data={}\n",
        "    );"
      ]
    },
    {
      "cell_type": "markdown",
      "metadata": {
        "id": "ih38MrdXEdU7"
      },
      "source": [
        "### PEgangan\n",
        "https://a-a-r-s.org/proceeding/ACRS2022/ACRS22_156.pdf"
      ]
    },
    {
      "cell_type": "code",
      "execution_count": null,
      "metadata": {
        "id": "CSbPZe2jIJlG"
      },
      "outputs": [],
      "source": [
        "import tensorflow;\n",
        "from tensorflow.keras.models import Sequential;\n",
        "from tensorflow.keras.layers import Input, Conv2D, MaxPooling2D, Flatten, Dense, Dropout, GlobalAveragePooling2D, GlobalMaxPooling2D, BatchNormalization;\n",
        "from tensorflow.keras.optimizers import Adam, SGD, RMSprop;\n",
        "from tensorflow.keras.utils import plot_model;\n",
        "from tensorflow.keras.callbacks import EarlyStopping;\n",
        "from tensorflow.keras.regularizers import l2, l1_l2;\n",
        "from tensorflow.keras.applications import VGG19, DenseNet121;\n",
        "\n",
        "import matplotlib.pyplot as plt;"
      ]
    },
    {
      "cell_type": "code",
      "execution_count": null,
      "metadata": {
        "colab": {
          "base_uri": "https://localhost:8080/"
        },
        "id": "2MTNhgwiIJlG",
        "outputId": "5ea2c6b6-1422-4242-fd1f-e9718cc93914"
      },
      "outputs": [
        {
          "data": {
            "text/plain": [
              "[PhysicalDevice(name='/physical_device:GPU:0', device_type='GPU')]"
            ]
          },
          "execution_count": 19,
          "metadata": {},
          "output_type": "execute_result"
        }
      ],
      "source": [
        "# Check whether the GPU is exist\n",
        "tensorflow.config.list_physical_devices('GPU')"
      ]
    },
    {
      "cell_type": "code",
      "execution_count": null,
      "metadata": {
        "id": "4KQCUW2bIJlG"
      },
      "outputs": [],
      "source": [
        "class DenseNetModel:\n",
        "\n",
        "  def __init__(self):\n",
        "    self.model_name = \"densenet121.202405310431\";\n",
        "\n",
        "    self.densenet = DenseNet121(\n",
        "        include_top=False,\n",
        "        weights='imagenet',\n",
        "        input_shape=(224, 224, 3),\n",
        "    );\n",
        "\n",
        "    self.global_pool = GlobalMaxPooling2D();\n",
        "    self.bn1 = BatchNormalization();\n",
        "    self.do1 = Dropout(0.5);\n",
        "\n",
        "    self.dense1 = Dense(128, activation = \"relu\");\n",
        "    self.bn2 = BatchNormalization();\n",
        "    self.do2 = Dropout(0.5);\n",
        "\n",
        "    self.dense2 = Dense(64, activation = \"relu\");\n",
        "    self.bn3 = BatchNormalization();\n",
        "    self.do3 = Dropout(0.3);\n",
        "\n",
        "    self.output = Dense(10, activation = \"sigmoid\");\n",
        "\n",
        "  # Early stopping after loss are not improved for some epochs\n",
        "  def _callback_early_stopping(self):\n",
        "      early_stopping_tolerance = 50;\n",
        "      return EarlyStopping(\n",
        "          monitor = \"val_loss\",\n",
        "          patience = early_stopping_tolerance,\n",
        "          restore_best_weights = True\n",
        "      );\n",
        "\n",
        "  def init_build(self):\n",
        "    model = Sequential(name = self.model_name);\n",
        "\n",
        "    model.add(self.densenet);\n",
        "\n",
        "    model.add(self.global_pool);\n",
        "    model.add(self.bn1);\n",
        "    model.add(self.do1);\n",
        "\n",
        "    model.add(self.dense1);\n",
        "    model.add(self.bn2);\n",
        "    model.add(self.do2);\n",
        "\n",
        "    model.add(self.dense2);\n",
        "    model.add(self.bn3);\n",
        "    model.add(self.do3);\n",
        "\n",
        "    model.add(self.output);\n",
        "\n",
        "    return model;\n",
        "\n",
        "  def fitting(self):\n",
        "    model = self.init_build();\n",
        "    model.compile(optimizer = RMSprop(learning_rate = 1e-3, clipnorm = 1.0, clipvalue = 0.5), loss = \"binary_crossentropy\", metrics = [\"binary_accuracy\"]);\n",
        "    model.summary();\n",
        "\n",
        "    plot_model(model, to_file = (f\"model_architecture.{self.model_name}.png\"), show_shapes = True);\n",
        "\n",
        "    history = model.fit(\n",
        "        train_image,\n",
        "        train_label,\n",
        "        epochs = 300,\n",
        "        batch_size = 64,\n",
        "        validation_data = (val_image, val_label),\n",
        "        callbacks = [self._callback_early_stopping()]\n",
        "    );\n",
        "\n",
        "    # Plot training history\n",
        "    plt.figure(figsize=(15, 12))\n",
        "\n",
        "    # Loss\n",
        "    plt.subplot2grid((3, 2), (0, 0));\n",
        "    plt.plot(history.history['loss'], label='Training Loss');\n",
        "    plt.plot(history.history['val_loss'], label='Validation Loss');\n",
        "    plt.title('Loss Plots');\n",
        "    plt.xlabel('Epoch');\n",
        "    plt.ylabel('Loss');\n",
        "    plt.legend();\n",
        "\n",
        "    # Accuracy\n",
        "    plt.subplot2grid((3, 2), (0, 1));\n",
        "    plt.plot(history.history['binary_accuracy'], label='Training Binary Accuracy');\n",
        "    plt.plot(history.history['val_binary_accuracy'], label='Validation Binary Accuracy');\n",
        "    plt.title('Binary Accuracy Plots');\n",
        "    plt.xlabel('Epoch');\n",
        "    plt.ylabel('Binary Accuracy');\n",
        "    plt.legend();\n",
        "\n",
        "    plt.tight_layout();\n",
        "    plt.show();\n",
        "\n",
        "    return model;"
      ]
    },
    {
      "cell_type": "code",
      "execution_count": null,
      "metadata": {
        "colab": {
          "base_uri": "https://localhost:8080/",
          "height": 1000
        },
        "id": "j1ERjCBMIJlG",
        "outputId": "3adeea14-24f2-4555-8e53-698172ab2582"
      },
      "outputs": [
        {
          "name": "stdout",
          "output_type": "stream",
          "text": [
            "Model: \"densenet121.202405310431\"\n",
            "_________________________________________________________________\n",
            " Layer (type)                Output Shape              Param #   \n",
            "=================================================================\n",
            " densenet121 (Functional)    (None, 7, 7, 1024)        7037504   \n",
            "                                                                 \n",
            " global_max_pooling2d_6 (Gl  (None, 1024)              0         \n",
            " obalMaxPooling2D)                                               \n",
            "                                                                 \n",
            " batch_normalization_9 (Bat  (None, 1024)              4096      \n",
            " chNormalization)                                                \n",
            "                                                                 \n",
            " dropout_4 (Dropout)         (None, 1024)              0         \n",
            "                                                                 \n",
            " dense_11 (Dense)            (None, 128)               131200    \n",
            "                                                                 \n",
            " batch_normalization_10 (Ba  (None, 128)               512       \n",
            " tchNormalization)                                               \n",
            "                                                                 \n",
            " dropout_5 (Dropout)         (None, 128)               0         \n",
            "                                                                 \n",
            " dense_12 (Dense)            (None, 64)                8256      \n",
            "                                                                 \n",
            " batch_normalization_11 (Ba  (None, 64)                256       \n",
            " tchNormalization)                                               \n",
            "                                                                 \n",
            " dropout_6 (Dropout)         (None, 64)                0         \n",
            "                                                                 \n",
            " dense_13 (Dense)            (None, 10)                650       \n",
            "                                                                 \n",
            "=================================================================\n",
            "Total params: 7182474 (27.40 MB)\n",
            "Trainable params: 7096394 (27.07 MB)\n",
            "Non-trainable params: 86080 (336.25 KB)\n",
            "_________________________________________________________________\n",
            "Epoch 1/300\n",
            "86/86 [==============================] - 64s 184ms/step - loss: 0.6900 - binary_accuracy: 0.6343 - val_loss: 0.5660 - val_binary_accuracy: 0.7980\n",
            "Epoch 2/300\n",
            "86/86 [==============================] - 13s 156ms/step - loss: 0.4281 - binary_accuracy: 0.8351 - val_loss: 0.5427 - val_binary_accuracy: 0.8510\n",
            "Epoch 3/300\n",
            "86/86 [==============================] - 13s 156ms/step - loss: 0.2339 - binary_accuracy: 0.9306 - val_loss: 0.1902 - val_binary_accuracy: 0.9374\n",
            "Epoch 4/300\n",
            "86/86 [==============================] - 13s 157ms/step - loss: 0.1318 - binary_accuracy: 0.9609 - val_loss: 0.1360 - val_binary_accuracy: 0.9467\n",
            "Epoch 5/300\n",
            "86/86 [==============================] - 13s 157ms/step - loss: 0.0879 - binary_accuracy: 0.9715 - val_loss: 0.0744 - val_binary_accuracy: 0.9754\n",
            "Epoch 6/300\n",
            "86/86 [==============================] - 13s 157ms/step - loss: 0.0684 - binary_accuracy: 0.9788 - val_loss: 0.0631 - val_binary_accuracy: 0.9797\n",
            "Epoch 7/300\n",
            "86/86 [==============================] - 13s 154ms/step - loss: 0.0533 - binary_accuracy: 0.9833 - val_loss: 0.0820 - val_binary_accuracy: 0.9729\n",
            "Epoch 8/300\n",
            "86/86 [==============================] - 13s 155ms/step - loss: 0.0425 - binary_accuracy: 0.9874 - val_loss: 0.0675 - val_binary_accuracy: 0.9767\n",
            "Epoch 9/300\n",
            "86/86 [==============================] - 13s 157ms/step - loss: 0.0403 - binary_accuracy: 0.9879 - val_loss: 0.0563 - val_binary_accuracy: 0.9824\n",
            "Epoch 10/300\n",
            "86/86 [==============================] - 13s 155ms/step - loss: 0.0318 - binary_accuracy: 0.9906 - val_loss: 0.0707 - val_binary_accuracy: 0.9785\n",
            "Epoch 11/300\n",
            "86/86 [==============================] - 13s 155ms/step - loss: 0.0246 - binary_accuracy: 0.9929 - val_loss: 0.1411 - val_binary_accuracy: 0.9598\n",
            "Epoch 12/300\n",
            "86/86 [==============================] - 13s 155ms/step - loss: 0.0256 - binary_accuracy: 0.9927 - val_loss: 0.0706 - val_binary_accuracy: 0.9811\n",
            "Epoch 13/300\n",
            "86/86 [==============================] - 13s 155ms/step - loss: 0.0239 - binary_accuracy: 0.9924 - val_loss: 0.0710 - val_binary_accuracy: 0.9781\n",
            "Epoch 14/300\n",
            "86/86 [==============================] - 13s 156ms/step - loss: 0.0191 - binary_accuracy: 0.9951 - val_loss: 0.1163 - val_binary_accuracy: 0.9692\n",
            "Epoch 15/300\n",
            "86/86 [==============================] - 13s 155ms/step - loss: 0.0197 - binary_accuracy: 0.9945 - val_loss: 0.1400 - val_binary_accuracy: 0.9636\n",
            "Epoch 16/300\n",
            "86/86 [==============================] - 13s 155ms/step - loss: 0.0197 - binary_accuracy: 0.9940 - val_loss: 0.0600 - val_binary_accuracy: 0.9822\n",
            "Epoch 17/300\n",
            "86/86 [==============================] - 13s 155ms/step - loss: 0.0175 - binary_accuracy: 0.9951 - val_loss: 0.0731 - val_binary_accuracy: 0.9803\n",
            "Epoch 18/300\n",
            "86/86 [==============================] - 13s 156ms/step - loss: 0.0154 - binary_accuracy: 0.9954 - val_loss: 0.0864 - val_binary_accuracy: 0.9787\n",
            "Epoch 19/300\n",
            "86/86 [==============================] - 14s 157ms/step - loss: 0.0147 - binary_accuracy: 0.9963 - val_loss: 0.0521 - val_binary_accuracy: 0.9856\n",
            "Epoch 20/300\n",
            "86/86 [==============================] - 13s 156ms/step - loss: 0.0164 - binary_accuracy: 0.9954 - val_loss: 0.0687 - val_binary_accuracy: 0.9798\n",
            "Epoch 21/300\n",
            "86/86 [==============================] - 13s 155ms/step - loss: 0.0139 - binary_accuracy: 0.9962 - val_loss: 0.0887 - val_binary_accuracy: 0.9772\n",
            "Epoch 22/300\n",
            "86/86 [==============================] - 13s 155ms/step - loss: 0.0115 - binary_accuracy: 0.9970 - val_loss: 0.0911 - val_binary_accuracy: 0.9807\n",
            "Epoch 23/300\n",
            "86/86 [==============================] - 13s 156ms/step - loss: 0.0150 - binary_accuracy: 0.9961 - val_loss: 0.0809 - val_binary_accuracy: 0.9783\n",
            "Epoch 24/300\n",
            "86/86 [==============================] - 13s 156ms/step - loss: 0.0117 - binary_accuracy: 0.9968 - val_loss: 0.0524 - val_binary_accuracy: 0.9861\n",
            "Epoch 25/300\n",
            "86/86 [==============================] - 13s 156ms/step - loss: 0.0117 - binary_accuracy: 0.9969 - val_loss: 0.0715 - val_binary_accuracy: 0.9816\n",
            "Epoch 26/300\n",
            "86/86 [==============================] - 13s 157ms/step - loss: 0.0105 - binary_accuracy: 0.9969 - val_loss: 0.0389 - val_binary_accuracy: 0.9900\n",
            "Epoch 27/300\n",
            "86/86 [==============================] - 13s 156ms/step - loss: 0.0089 - binary_accuracy: 0.9975 - val_loss: 0.0838 - val_binary_accuracy: 0.9799\n",
            "Epoch 28/300\n",
            "86/86 [==============================] - 13s 157ms/step - loss: 0.0096 - binary_accuracy: 0.9973 - val_loss: 0.0380 - val_binary_accuracy: 0.9890\n",
            "Epoch 29/300\n",
            "86/86 [==============================] - 13s 155ms/step - loss: 0.0094 - binary_accuracy: 0.9975 - val_loss: 0.0778 - val_binary_accuracy: 0.9827\n",
            "Epoch 30/300\n",
            "86/86 [==============================] - 13s 155ms/step - loss: 0.0072 - binary_accuracy: 0.9985 - val_loss: 0.0400 - val_binary_accuracy: 0.9909\n",
            "Epoch 31/300\n",
            "86/86 [==============================] - 13s 156ms/step - loss: 0.0083 - binary_accuracy: 0.9977 - val_loss: 0.0820 - val_binary_accuracy: 0.9814\n",
            "Epoch 32/300\n",
            "86/86 [==============================] - 13s 156ms/step - loss: 0.0128 - binary_accuracy: 0.9964 - val_loss: 0.0657 - val_binary_accuracy: 0.9836\n",
            "Epoch 33/300\n",
            "86/86 [==============================] - 13s 155ms/step - loss: 0.0106 - binary_accuracy: 0.9973 - val_loss: 0.0805 - val_binary_accuracy: 0.9815\n",
            "Epoch 34/300\n",
            "86/86 [==============================] - 13s 155ms/step - loss: 0.0079 - binary_accuracy: 0.9981 - val_loss: 0.0586 - val_binary_accuracy: 0.9868\n",
            "Epoch 35/300\n",
            "86/86 [==============================] - 13s 155ms/step - loss: 0.0088 - binary_accuracy: 0.9975 - val_loss: 0.0500 - val_binary_accuracy: 0.9878\n",
            "Epoch 36/300\n",
            "86/86 [==============================] - 13s 155ms/step - loss: 0.0072 - binary_accuracy: 0.9983 - val_loss: 0.1162 - val_binary_accuracy: 0.9771\n",
            "Epoch 37/300\n",
            "86/86 [==============================] - 13s 156ms/step - loss: 0.0080 - binary_accuracy: 0.9980 - val_loss: 0.0448 - val_binary_accuracy: 0.9896\n",
            "Epoch 38/300\n",
            "86/86 [==============================] - 13s 155ms/step - loss: 0.0094 - binary_accuracy: 0.9979 - val_loss: 0.0695 - val_binary_accuracy: 0.9857\n",
            "Epoch 39/300\n",
            "86/86 [==============================] - 13s 155ms/step - loss: 0.0072 - binary_accuracy: 0.9979 - val_loss: 0.1070 - val_binary_accuracy: 0.9770\n",
            "Epoch 40/300\n",
            "86/86 [==============================] - 13s 155ms/step - loss: 0.0058 - binary_accuracy: 0.9986 - val_loss: 0.0518 - val_binary_accuracy: 0.9883\n",
            "Epoch 41/300\n",
            "86/86 [==============================] - 13s 156ms/step - loss: 0.0107 - binary_accuracy: 0.9970 - val_loss: 0.1867 - val_binary_accuracy: 0.9672\n",
            "Epoch 42/300\n",
            "86/86 [==============================] - 13s 155ms/step - loss: 0.0107 - binary_accuracy: 0.9974 - val_loss: 0.0558 - val_binary_accuracy: 0.9882\n",
            "Epoch 43/300\n",
            "86/86 [==============================] - 13s 155ms/step - loss: 0.0059 - binary_accuracy: 0.9981 - val_loss: 0.0419 - val_binary_accuracy: 0.9903\n",
            "Epoch 44/300\n",
            "86/86 [==============================] - 13s 155ms/step - loss: 0.0064 - binary_accuracy: 0.9985 - val_loss: 0.0436 - val_binary_accuracy: 0.9909\n",
            "Epoch 45/300\n",
            "86/86 [==============================] - 13s 155ms/step - loss: 0.0050 - binary_accuracy: 0.9986 - val_loss: 0.0664 - val_binary_accuracy: 0.9871\n",
            "Epoch 46/300\n",
            "86/86 [==============================] - 13s 155ms/step - loss: 0.0077 - binary_accuracy: 0.9979 - val_loss: 0.0392 - val_binary_accuracy: 0.9917\n",
            "Epoch 47/300\n",
            "86/86 [==============================] - 13s 155ms/step - loss: 0.0075 - binary_accuracy: 0.9978 - val_loss: 0.0605 - val_binary_accuracy: 0.9883\n",
            "Epoch 48/300\n",
            "86/86 [==============================] - 13s 155ms/step - loss: 0.0089 - binary_accuracy: 0.9977 - val_loss: 0.0567 - val_binary_accuracy: 0.9887\n",
            "Epoch 49/300\n",
            "86/86 [==============================] - 13s 156ms/step - loss: 0.0055 - binary_accuracy: 0.9987 - val_loss: 0.0784 - val_binary_accuracy: 0.9853\n",
            "Epoch 50/300\n",
            "86/86 [==============================] - 14s 158ms/step - loss: 0.0072 - binary_accuracy: 0.9980 - val_loss: 0.0363 - val_binary_accuracy: 0.9926\n",
            "Epoch 51/300\n",
            "86/86 [==============================] - 13s 156ms/step - loss: 0.0070 - binary_accuracy: 0.9982 - val_loss: 0.0962 - val_binary_accuracy: 0.9804\n",
            "Epoch 52/300\n",
            "86/86 [==============================] - 13s 156ms/step - loss: 0.0078 - binary_accuracy: 0.9978 - val_loss: 0.1178 - val_binary_accuracy: 0.9746\n",
            "Epoch 53/300\n",
            "86/86 [==============================] - 13s 155ms/step - loss: 0.0050 - binary_accuracy: 0.9985 - val_loss: 0.0701 - val_binary_accuracy: 0.9862\n",
            "Epoch 54/300\n",
            "86/86 [==============================] - 13s 155ms/step - loss: 0.0066 - binary_accuracy: 0.9981 - val_loss: 0.0766 - val_binary_accuracy: 0.9839\n",
            "Epoch 55/300\n",
            "86/86 [==============================] - 13s 155ms/step - loss: 0.0063 - binary_accuracy: 0.9982 - val_loss: 0.0531 - val_binary_accuracy: 0.9884\n",
            "Epoch 56/300\n",
            "86/86 [==============================] - 13s 155ms/step - loss: 0.0049 - binary_accuracy: 0.9988 - val_loss: 0.0428 - val_binary_accuracy: 0.9898\n",
            "Epoch 57/300\n",
            "86/86 [==============================] - 13s 155ms/step - loss: 0.0037 - binary_accuracy: 0.9991 - val_loss: 0.0444 - val_binary_accuracy: 0.9906\n",
            "Epoch 58/300\n",
            "86/86 [==============================] - 13s 157ms/step - loss: 0.0035 - binary_accuracy: 0.9990 - val_loss: 0.0353 - val_binary_accuracy: 0.9929\n",
            "Epoch 59/300\n",
            "86/86 [==============================] - 13s 155ms/step - loss: 0.0046 - binary_accuracy: 0.9989 - val_loss: 0.0650 - val_binary_accuracy: 0.9879\n",
            "Epoch 60/300\n",
            "86/86 [==============================] - 13s 155ms/step - loss: 0.0052 - binary_accuracy: 0.9985 - val_loss: 0.0489 - val_binary_accuracy: 0.9890\n",
            "Epoch 61/300\n",
            "86/86 [==============================] - 13s 156ms/step - loss: 0.0044 - binary_accuracy: 0.9988 - val_loss: 0.0476 - val_binary_accuracy: 0.9906\n",
            "Epoch 62/300\n",
            "86/86 [==============================] - 13s 155ms/step - loss: 0.0051 - binary_accuracy: 0.9986 - val_loss: 0.1008 - val_binary_accuracy: 0.9828\n",
            "Epoch 63/300\n",
            "86/86 [==============================] - 13s 155ms/step - loss: 0.0074 - binary_accuracy: 0.9983 - val_loss: 0.0809 - val_binary_accuracy: 0.9853\n",
            "Epoch 64/300\n",
            "86/86 [==============================] - 13s 156ms/step - loss: 0.0049 - binary_accuracy: 0.9986 - val_loss: 0.0463 - val_binary_accuracy: 0.9900\n",
            "Epoch 65/300\n",
            "86/86 [==============================] - 13s 155ms/step - loss: 0.0052 - binary_accuracy: 0.9985 - val_loss: 0.0610 - val_binary_accuracy: 0.9896\n",
            "Epoch 66/300\n",
            "86/86 [==============================] - 13s 154ms/step - loss: 0.0058 - binary_accuracy: 0.9984 - val_loss: 0.0431 - val_binary_accuracy: 0.9909\n",
            "Epoch 67/300\n",
            "86/86 [==============================] - 13s 155ms/step - loss: 0.0042 - binary_accuracy: 0.9988 - val_loss: 0.0540 - val_binary_accuracy: 0.9901\n",
            "Epoch 68/300\n",
            "86/86 [==============================] - 13s 155ms/step - loss: 0.0049 - binary_accuracy: 0.9988 - val_loss: 0.0570 - val_binary_accuracy: 0.9884\n",
            "Epoch 69/300\n",
            "86/86 [==============================] - 13s 155ms/step - loss: 0.0041 - binary_accuracy: 0.9989 - val_loss: 0.0434 - val_binary_accuracy: 0.9923\n",
            "Epoch 70/300\n",
            "86/86 [==============================] - 13s 154ms/step - loss: 0.0071 - binary_accuracy: 0.9984 - val_loss: 0.0745 - val_binary_accuracy: 0.9839\n",
            "Epoch 71/300\n",
            "86/86 [==============================] - 13s 154ms/step - loss: 0.0058 - binary_accuracy: 0.9985 - val_loss: 0.0544 - val_binary_accuracy: 0.9890\n",
            "Epoch 72/300\n",
            "86/86 [==============================] - 13s 154ms/step - loss: 0.0047 - binary_accuracy: 0.9987 - val_loss: 0.0529 - val_binary_accuracy: 0.9907\n",
            "Epoch 73/300\n",
            "86/86 [==============================] - 13s 155ms/step - loss: 0.0050 - binary_accuracy: 0.9987 - val_loss: 0.0574 - val_binary_accuracy: 0.9900\n",
            "Epoch 74/300\n",
            "86/86 [==============================] - 13s 155ms/step - loss: 0.0063 - binary_accuracy: 0.9983 - val_loss: 0.1661 - val_binary_accuracy: 0.9695\n",
            "Epoch 75/300\n",
            "86/86 [==============================] - 13s 154ms/step - loss: 0.0069 - binary_accuracy: 0.9981 - val_loss: 0.0496 - val_binary_accuracy: 0.9901\n",
            "Epoch 76/300\n",
            "86/86 [==============================] - 13s 154ms/step - loss: 0.0055 - binary_accuracy: 0.9984 - val_loss: 0.0670 - val_binary_accuracy: 0.9872\n",
            "Epoch 77/300\n",
            "86/86 [==============================] - 13s 155ms/step - loss: 0.0052 - binary_accuracy: 0.9986 - val_loss: 0.0809 - val_binary_accuracy: 0.9853\n",
            "Epoch 78/300\n",
            "86/86 [==============================] - 13s 156ms/step - loss: 0.0069 - binary_accuracy: 0.9980 - val_loss: 0.1102 - val_binary_accuracy: 0.9832\n",
            "Epoch 79/300\n",
            "86/86 [==============================] - 13s 155ms/step - loss: 0.0051 - binary_accuracy: 0.9985 - val_loss: 0.0591 - val_binary_accuracy: 0.9885\n",
            "Epoch 80/300\n",
            "86/86 [==============================] - 13s 155ms/step - loss: 0.0043 - binary_accuracy: 0.9986 - val_loss: 0.0546 - val_binary_accuracy: 0.9884\n",
            "Epoch 81/300\n",
            "86/86 [==============================] - 13s 155ms/step - loss: 0.0060 - binary_accuracy: 0.9983 - val_loss: 0.0526 - val_binary_accuracy: 0.9895\n",
            "Epoch 82/300\n",
            "86/86 [==============================] - 13s 155ms/step - loss: 0.0040 - binary_accuracy: 0.9989 - val_loss: 0.0592 - val_binary_accuracy: 0.9887\n",
            "Epoch 83/300\n",
            "86/86 [==============================] - 13s 155ms/step - loss: 0.0046 - binary_accuracy: 0.9988 - val_loss: 0.0717 - val_binary_accuracy: 0.9861\n",
            "Epoch 84/300\n",
            "86/86 [==============================] - 13s 155ms/step - loss: 0.0026 - binary_accuracy: 0.9993 - val_loss: 0.0383 - val_binary_accuracy: 0.9934\n",
            "Epoch 85/300\n",
            "86/86 [==============================] - 13s 155ms/step - loss: 0.0043 - binary_accuracy: 0.9989 - val_loss: 0.0475 - val_binary_accuracy: 0.9912\n",
            "Epoch 86/300\n",
            "86/86 [==============================] - 13s 155ms/step - loss: 0.0041 - binary_accuracy: 0.9989 - val_loss: 0.0433 - val_binary_accuracy: 0.9921\n",
            "Epoch 87/300\n",
            "86/86 [==============================] - 13s 155ms/step - loss: 0.0034 - binary_accuracy: 0.9991 - val_loss: 0.0411 - val_binary_accuracy: 0.9924\n",
            "Epoch 88/300\n",
            "86/86 [==============================] - 13s 155ms/step - loss: 0.0029 - binary_accuracy: 0.9993 - val_loss: 0.0427 - val_binary_accuracy: 0.9923\n",
            "Epoch 89/300\n",
            "86/86 [==============================] - 13s 155ms/step - loss: 0.0028 - binary_accuracy: 0.9992 - val_loss: 0.0412 - val_binary_accuracy: 0.9923\n",
            "Epoch 90/300\n",
            "86/86 [==============================] - 13s 155ms/step - loss: 0.0026 - binary_accuracy: 0.9992 - val_loss: 0.0400 - val_binary_accuracy: 0.9929\n",
            "Epoch 91/300\n",
            "86/86 [==============================] - 13s 155ms/step - loss: 0.0025 - binary_accuracy: 0.9994 - val_loss: 0.0428 - val_binary_accuracy: 0.9929\n",
            "Epoch 92/300\n",
            "86/86 [==============================] - 13s 155ms/step - loss: 0.0028 - binary_accuracy: 0.9994 - val_loss: 0.0408 - val_binary_accuracy: 0.9934\n",
            "Epoch 93/300\n",
            "86/86 [==============================] - 13s 155ms/step - loss: 0.0023 - binary_accuracy: 0.9995 - val_loss: 0.0389 - val_binary_accuracy: 0.9931\n",
            "Epoch 94/300\n",
            "86/86 [==============================] - 13s 155ms/step - loss: 0.0024 - binary_accuracy: 0.9993 - val_loss: 0.0365 - val_binary_accuracy: 0.9936\n",
            "Epoch 95/300\n",
            "86/86 [==============================] - 13s 155ms/step - loss: 0.0024 - binary_accuracy: 0.9994 - val_loss: 0.0387 - val_binary_accuracy: 0.9937\n",
            "Epoch 96/300\n",
            "86/86 [==============================] - 13s 155ms/step - loss: 0.0027 - binary_accuracy: 0.9994 - val_loss: 0.0428 - val_binary_accuracy: 0.9929\n",
            "Epoch 97/300\n",
            "86/86 [==============================] - 13s 155ms/step - loss: 0.0021 - binary_accuracy: 0.9995 - val_loss: 0.0393 - val_binary_accuracy: 0.9934\n",
            "Epoch 98/300\n",
            "86/86 [==============================] - 13s 155ms/step - loss: 0.0021 - binary_accuracy: 0.9993 - val_loss: 0.0444 - val_binary_accuracy: 0.9930\n",
            "Epoch 99/300\n",
            "86/86 [==============================] - 13s 154ms/step - loss: 0.0025 - binary_accuracy: 0.9994 - val_loss: 0.0415 - val_binary_accuracy: 0.9940\n",
            "Epoch 100/300\n",
            "86/86 [==============================] - 13s 155ms/step - loss: 0.0017 - binary_accuracy: 0.9994 - val_loss: 0.0464 - val_binary_accuracy: 0.9924\n",
            "Epoch 101/300\n",
            "86/86 [==============================] - 13s 155ms/step - loss: 0.0019 - binary_accuracy: 0.9995 - val_loss: 0.0394 - val_binary_accuracy: 0.9941\n",
            "Epoch 102/300\n",
            "86/86 [==============================] - 13s 155ms/step - loss: 0.0022 - binary_accuracy: 0.9995 - val_loss: 0.0373 - val_binary_accuracy: 0.9936\n",
            "Epoch 103/300\n",
            "86/86 [==============================] - 13s 155ms/step - loss: 0.0020 - binary_accuracy: 0.9995 - val_loss: 0.0393 - val_binary_accuracy: 0.9938\n",
            "Epoch 104/300\n",
            "86/86 [==============================] - 13s 154ms/step - loss: 0.0022 - binary_accuracy: 0.9994 - val_loss: 0.0367 - val_binary_accuracy: 0.9937\n",
            "Epoch 105/300\n",
            "86/86 [==============================] - 13s 155ms/step - loss: 0.0021 - binary_accuracy: 0.9994 - val_loss: 0.0383 - val_binary_accuracy: 0.9940\n",
            "Epoch 106/300\n",
            "86/86 [==============================] - 13s 156ms/step - loss: 0.0026 - binary_accuracy: 0.9994 - val_loss: 0.0439 - val_binary_accuracy: 0.9925\n",
            "Epoch 107/300\n",
            "86/86 [==============================] - 13s 155ms/step - loss: 0.0018 - binary_accuracy: 0.9994 - val_loss: 0.0392 - val_binary_accuracy: 0.9937\n",
            "Epoch 108/300\n",
            "86/86 [==============================] - 13s 157ms/step - loss: 0.0025 - binary_accuracy: 0.9993 - val_loss: 0.0506 - val_binary_accuracy: 0.9926\n"
          ]
        },
        {
          "data": {
            "image/png": "[encoded data removed]",
            "text/plain": [
              "<Figure size 1500x1200 with 2 Axes>"
            ]
          },
          "metadata": {},
          "output_type": "display_data"
        },
        {
          "name": "stdout",
          "output_type": "stream",
          "text": [
            "37/37 [==============================] - 1s 25ms/step - loss: 0.0424 - binary_accuracy: 0.9898\n",
            "Test accuracy: 0.9897959232330322\n"
          ]
        }
      ],
      "source": [
        "cnn = DenseNetModel();\n",
        "telegram_reporter(f\"Starting training {cnn.model_name}\");\n",
        "\n",
        "model = cnn.fitting();\n",
        "\n",
        "test_loss, test_acc = model.evaluate(test_image, test_label)\n",
        "print(f'Test accuracy: {test_acc}')\n",
        "\n",
        "telegram_reporter(\"Training done\");"
      ]
    }
  ],
  "metadata": {
    "accelerator": "GPU",
    "colab": {
      "gpuType": "A100",
      "machine_shape": "hm",
      "provenance": []
    },
    "kernelspec": {
      "display_name": "Python 3",
      "name": "python3"
    },
    "language_info": {
      "codemirror_mode": {
        "name": "ipython",
        "version": 3
      },
      "file_extension": ".py",
      "mimetype": "text/x-python",
      "name": "python",
      "nbconvert_exporter": "python",
      "pygments_lexer": "ipython3",
      "version": "3.12.3"
    }
  },
  "nbformat": 4,
  "nbformat_minor": 0
}

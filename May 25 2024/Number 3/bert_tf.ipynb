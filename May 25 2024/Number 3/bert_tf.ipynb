{
  "cells": [
    {
      "cell_type": "code",
      "execution_count": 40,
      "metadata": {
        "id": "63SP5dit7iUk"
      },
      "outputs": [],
      "source": [
        "# !pip install tensorflow tensorflow-hub pandas nltk matplotlib tqdm seaborn"
      ]
    },
    {
      "cell_type": "code",
      "source": [
        "# A dependency of the preprocessing for BERT inputs\n",
        "# !pip install -U \"tensorflow-text==2.13.*\""
      ],
      "metadata": {
        "id": "RGeFUM5l7-fF"
      },
      "execution_count": 41,
      "outputs": []
    },
    {
      "cell_type": "code",
      "source": [
        "# !pip install \"tf-models-official==2.13.*\""
      ],
      "metadata": {
        "id": "VWOGhffh8C_d"
      },
      "execution_count": 42,
      "outputs": []
    },
    {
      "cell_type": "code",
      "execution_count": 43,
      "metadata": {
        "colab": {
          "base_uri": "https://localhost:8080/"
        },
        "id": "ekU3p5Ui7iUn",
        "outputId": "ce39d488-a6df-4ada-f5e4-487bd9ef4494"
      },
      "outputs": [
        {
          "output_type": "stream",
          "name": "stdout",
          "text": [
            "Drive already mounted at /content/drive; to attempt to forcibly remount, call drive.mount(\"/content/drive\", force_remount=True).\n"
          ]
        }
      ],
      "source": [
        "from google.colab import drive;\n",
        "drive.mount('/content/drive');"
      ]
    },
    {
      "cell_type": "code",
      "execution_count": 44,
      "metadata": {
        "id": "lzUd8VX17iUo"
      },
      "outputs": [],
      "source": [
        "# Using datatype? Don't touch. When it work, it WORKS!\n",
        "# csv_data_path: str = \"data.csv\";\n",
        "csv_data_path: str = \"/content/drive/MyDrive/Collab Dataset/FIN DL/Number 3/data.csv\";\n",
        "\n",
        "# slang_data_path = \"slang.txt\";\n",
        "slang_data_path = \"/content/drive/MyDrive/Collab Dataset/FIN DL/Number 3/slang.txt\";"
      ]
    },
    {
      "cell_type": "markdown",
      "metadata": {
        "id": "sM3dJS4E7iUo"
      },
      "source": [
        "# Sentiment Analysis on Twitter US Airline with BERT\n",
        "\n",
        "This experimentation endeavor a sentiment analysis on Twitter US Airline data. The data originated from 2015. It was downloaded from [Kaggle](https://www.kaggle.com/datasets/crowdflower/twitter-airline-sentiment). The original source says,\n",
        "\n",
        "> \"*A sentiment analysis job about the problems of each major U.S. airline. Twitter data was scraped from February of 2015 and contributors were asked to first classify positive, negative, and neutral tweets, followed by categorizing negative reasons (such as \"late flight\" or \"rude service\").*\"\n",
        "\n",
        "However, since the focus on this experimentation is mainly focused on Natural Language Processing (NLP), other than `airline_sentiment` and `text` will be **ignored for the model training**, but used for exploration.\n",
        "\n",
        "The goal of this experiment is to produce a high prediction accuracy deep learning model. The work employing Tensorflow's deep learning backend with Keras's API.\n",
        "\n",
        "The process to make the model is as follow:\n",
        "\n",
        "1. Dataset Exploration\n",
        "2. Dataset Pre-Processing\n",
        "3. Dataset Loading\n",
        "4. Model Architecture\n",
        "5. Model Training\n",
        "6. Model Evaluation"
      ]
    },
    {
      "cell_type": "markdown",
      "metadata": {
        "id": "teK3DjAo7iUq"
      },
      "source": [
        "## 1. Dataset Exploration\n",
        "\n",
        "### First statements\n",
        "\n",
        "As per information available in Kaggle, some columns are not suit for this experimentation. Therefore, these columns below:\n",
        "\n",
        "| No | Name |\n",
        "|---|---|\n",
        "| 1 | tweet_id |\n",
        "| 2 | negativereason |\n",
        "| 3 | airline |\n",
        "| 4 | airline_sentiment_gold |\n",
        "| 5 | name |\n",
        "| 6 | negativereason_gold |\n",
        "| 7 | retweet_count |\n",
        "| 8 | tweet_coord |\n",
        "| 9 | tweet_created |\n",
        "| 10 | tweet_location |\n",
        "| 11 | user_timezone |\n",
        "\n",
        "are not used for explorations and training in this experiment. Leaving these columns below:\n",
        "\n",
        "| No | Name |\n",
        "|---|---|\n",
        "| 1 | airline_sentiment |\n",
        "| 2 | airline_sentiment_confidence |\n",
        "| 3 | negativereason_confidence |\n",
        "| 4 | text |\n",
        "\n",
        "are used."
      ]
    },
    {
      "cell_type": "code",
      "execution_count": 45,
      "metadata": {
        "id": "glfGDSAN7iUq"
      },
      "outputs": [],
      "source": [
        "import pandas;"
      ]
    },
    {
      "cell_type": "code",
      "execution_count": 46,
      "metadata": {
        "id": "f4XXUyZ-7iUr"
      },
      "outputs": [],
      "source": [
        "dataframe = pandas.read_csv(csv_data_path, index_col = False);\n",
        "dataframe = dataframe.drop(columns = [\n",
        "    \"tweet_id\",\n",
        "    \"negativereason\",\n",
        "    \"airline\",\n",
        "    \"airline_sentiment_gold\",\n",
        "    \"name\",\n",
        "    \"negativereason_gold\",\n",
        "    \"retweet_count\",\n",
        "    \"tweet_coord\",\n",
        "    \"tweet_created\",\n",
        "    \"tweet_location\",\n",
        "    \"user_timezone\"\n",
        "]);"
      ]
    },
    {
      "cell_type": "code",
      "execution_count": 47,
      "metadata": {
        "colab": {
          "base_uri": "https://localhost:8080/",
          "height": 276
        },
        "id": "jtqBKsAW7iUr",
        "outputId": "6d693011-9197-4d30-cd35-07e03fc24e77"
      },
      "outputs": [
        {
          "output_type": "execute_result",
          "data": {
            "text/plain": [
              "  airline_sentiment  airline_sentiment_confidence  negativereason_confidence  \\\n",
              "0           neutral                        1.0000                        NaN   \n",
              "1          positive                        0.3486                     0.0000   \n",
              "2           neutral                        0.6837                        NaN   \n",
              "3          negative                        1.0000                     0.7033   \n",
              "4          negative                        1.0000                     1.0000   \n",
              "\n",
              "                                                text  \n",
              "0                @VirginAmerica What @dhepburn said.  \n",
              "1  @VirginAmerica plus you've added commercials t...  \n",
              "2  @VirginAmerica I didn't today... Must mean I n...  \n",
              "3  @VirginAmerica it's really aggressive to blast...  \n",
              "4  @VirginAmerica and it's a really big bad thing...  "
            ],
            "text/html": [
              "\n",
              "  <div id=\"df-edb6404c-1276-4d0b-a6bc-ab8010b6c1a7\" class=\"colab-df-container\">\n",
              "    <div>\n",
              "<style scoped>\n",
              "    .dataframe tbody tr th:only-of-type {\n",
              "        vertical-align: middle;\n",
              "    }\n",
              "\n",
              "    .dataframe tbody tr th {\n",
              "        vertical-align: top;\n",
              "    }\n",
              "\n",
              "    .dataframe thead th {\n",
              "        text-align: right;\n",
              "    }\n",
              "</style>\n",
              "<table border=\"1\" class=\"dataframe\">\n",
              "  <thead>\n",
              "    <tr style=\"text-align: right;\">\n",
              "      <th></th>\n",
              "      <th>airline_sentiment</th>\n",
              "      <th>airline_sentiment_confidence</th>\n",
              "      <th>negativereason_confidence</th>\n",
              "      <th>text</th>\n",
              "    </tr>\n",
              "  </thead>\n",
              "  <tbody>\n",
              "    <tr>\n",
              "      <th>0</th>\n",
              "      <td>neutral</td>\n",
              "      <td>1.0000</td>\n",
              "      <td>NaN</td>\n",
              "      <td>@VirginAmerica What @dhepburn said.</td>\n",
              "    </tr>\n",
              "    <tr>\n",
              "      <th>1</th>\n",
              "      <td>positive</td>\n",
              "      <td>0.3486</td>\n",
              "      <td>0.0000</td>\n",
              "      <td>@VirginAmerica plus you've added commercials t...</td>\n",
              "    </tr>\n",
              "    <tr>\n",
              "      <th>2</th>\n",
              "      <td>neutral</td>\n",
              "      <td>0.6837</td>\n",
              "      <td>NaN</td>\n",
              "      <td>@VirginAmerica I didn't today... Must mean I n...</td>\n",
              "    </tr>\n",
              "    <tr>\n",
              "      <th>3</th>\n",
              "      <td>negative</td>\n",
              "      <td>1.0000</td>\n",
              "      <td>0.7033</td>\n",
              "      <td>@VirginAmerica it's really aggressive to blast...</td>\n",
              "    </tr>\n",
              "    <tr>\n",
              "      <th>4</th>\n",
              "      <td>negative</td>\n",
              "      <td>1.0000</td>\n",
              "      <td>1.0000</td>\n",
              "      <td>@VirginAmerica and it's a really big bad thing...</td>\n",
              "    </tr>\n",
              "  </tbody>\n",
              "</table>\n",
              "</div>\n",
              "    <div class=\"colab-df-buttons\">\n",
              "\n",
              "  <div class=\"colab-df-container\">\n",
              "    <button class=\"colab-df-convert\" onclick=\"convertToInteractive('df-edb6404c-1276-4d0b-a6bc-ab8010b6c1a7')\"\n",
              "            title=\"Convert this dataframe to an interactive table.\"\n",
              "            style=\"display:none;\">\n",
              "\n",
              "  <svg xmlns=\"http://www.w3.org/2000/svg\" height=\"24px\" viewBox=\"0 -960 960 960\">\n",
              "    <path d=\"M120-120v-720h720v720H120Zm60-500h600v-160H180v160Zm220 220h160v-160H400v160Zm0 220h160v-160H400v160ZM180-400h160v-160H180v160Zm440 0h160v-160H620v160ZM180-180h160v-160H180v160Zm440 0h160v-160H620v160Z\"/>\n",
              "  </svg>\n",
              "    </button>\n",
              "\n",
              "  <style>\n",
              "    .colab-df-container {\n",
              "      display:flex;\n",
              "      gap: 12px;\n",
              "    }\n",
              "\n",
              "    .colab-df-convert {\n",
              "      background-color: #E8F0FE;\n",
              "      border: none;\n",
              "      border-radius: 50%;\n",
              "      cursor: pointer;\n",
              "      display: none;\n",
              "      fill: #1967D2;\n",
              "      height: 32px;\n",
              "      padding: 0 0 0 0;\n",
              "      width: 32px;\n",
              "    }\n",
              "\n",
              "    .colab-df-convert:hover {\n",
              "      background-color: #E2EBFA;\n",
              "      box-shadow: 0px 1px 2px rgba(60, 64, 67, 0.3), 0px 1px 3px 1px rgba(60, 64, 67, 0.15);\n",
              "      fill: #174EA6;\n",
              "    }\n",
              "\n",
              "    .colab-df-buttons div {\n",
              "      margin-bottom: 4px;\n",
              "    }\n",
              "\n",
              "    [theme=dark] .colab-df-convert {\n",
              "      background-color: #3B4455;\n",
              "      fill: #D2E3FC;\n",
              "    }\n",
              "\n",
              "    [theme=dark] .colab-df-convert:hover {\n",
              "      background-color: #434B5C;\n",
              "      box-shadow: 0px 1px 3px 1px rgba(0, 0, 0, 0.15);\n",
              "      filter: drop-shadow(0px 1px 2px rgba(0, 0, 0, 0.3));\n",
              "      fill: #FFFFFF;\n",
              "    }\n",
              "  </style>\n",
              "\n",
              "    <script>\n",
              "      const buttonEl =\n",
              "        document.querySelector('#df-edb6404c-1276-4d0b-a6bc-ab8010b6c1a7 button.colab-df-convert');\n",
              "      buttonEl.style.display =\n",
              "        google.colab.kernel.accessAllowed ? 'block' : 'none';\n",
              "\n",
              "      async function convertToInteractive(key) {\n",
              "        const element = document.querySelector('#df-edb6404c-1276-4d0b-a6bc-ab8010b6c1a7');\n",
              "        const dataTable =\n",
              "          await google.colab.kernel.invokeFunction('convertToInteractive',\n",
              "                                                    [key], {});\n",
              "        if (!dataTable) return;\n",
              "\n",
              "        const docLinkHtml = 'Like what you see? Visit the ' +\n",
              "          '<a target=\"_blank\" href=https://colab.research.google.com/notebooks/data_table.ipynb>data table notebook</a>'\n",
              "          + ' to learn more about interactive tables.';\n",
              "        element.innerHTML = '';\n",
              "        dataTable['output_type'] = 'display_data';\n",
              "        await google.colab.output.renderOutput(dataTable, element);\n",
              "        const docLink = document.createElement('div');\n",
              "        docLink.innerHTML = docLinkHtml;\n",
              "        element.appendChild(docLink);\n",
              "      }\n",
              "    </script>\n",
              "  </div>\n",
              "\n",
              "\n",
              "<div id=\"df-7ed4173c-297b-440d-8128-210fa7f7890e\">\n",
              "  <button class=\"colab-df-quickchart\" onclick=\"quickchart('df-7ed4173c-297b-440d-8128-210fa7f7890e')\"\n",
              "            title=\"Suggest charts\"\n",
              "            style=\"display:none;\">\n",
              "\n",
              "<svg xmlns=\"http://www.w3.org/2000/svg\" height=\"24px\"viewBox=\"0 0 24 24\"\n",
              "     width=\"24px\">\n",
              "    <g>\n",
              "        <path d=\"M19 3H5c-1.1 0-2 .9-2 2v14c0 1.1.9 2 2 2h14c1.1 0 2-.9 2-2V5c0-1.1-.9-2-2-2zM9 17H7v-7h2v7zm4 0h-2V7h2v10zm4 0h-2v-4h2v4z\"/>\n",
              "    </g>\n",
              "</svg>\n",
              "  </button>\n",
              "\n",
              "<style>\n",
              "  .colab-df-quickchart {\n",
              "      --bg-color: #E8F0FE;\n",
              "      --fill-color: #1967D2;\n",
              "      --hover-bg-color: #E2EBFA;\n",
              "      --hover-fill-color: #174EA6;\n",
              "      --disabled-fill-color: #AAA;\n",
              "      --disabled-bg-color: #DDD;\n",
              "  }\n",
              "\n",
              "  [theme=dark] .colab-df-quickchart {\n",
              "      --bg-color: #3B4455;\n",
              "      --fill-color: #D2E3FC;\n",
              "      --hover-bg-color: #434B5C;\n",
              "      --hover-fill-color: #FFFFFF;\n",
              "      --disabled-bg-color: #3B4455;\n",
              "      --disabled-fill-color: #666;\n",
              "  }\n",
              "\n",
              "  .colab-df-quickchart {\n",
              "    background-color: var(--bg-color);\n",
              "    border: none;\n",
              "    border-radius: 50%;\n",
              "    cursor: pointer;\n",
              "    display: none;\n",
              "    fill: var(--fill-color);\n",
              "    height: 32px;\n",
              "    padding: 0;\n",
              "    width: 32px;\n",
              "  }\n",
              "\n",
              "  .colab-df-quickchart:hover {\n",
              "    background-color: var(--hover-bg-color);\n",
              "    box-shadow: 0 1px 2px rgba(60, 64, 67, 0.3), 0 1px 3px 1px rgba(60, 64, 67, 0.15);\n",
              "    fill: var(--button-hover-fill-color);\n",
              "  }\n",
              "\n",
              "  .colab-df-quickchart-complete:disabled,\n",
              "  .colab-df-quickchart-complete:disabled:hover {\n",
              "    background-color: var(--disabled-bg-color);\n",
              "    fill: var(--disabled-fill-color);\n",
              "    box-shadow: none;\n",
              "  }\n",
              "\n",
              "  .colab-df-spinner {\n",
              "    border: 2px solid var(--fill-color);\n",
              "    border-color: transparent;\n",
              "    border-bottom-color: var(--fill-color);\n",
              "    animation:\n",
              "      spin 1s steps(1) infinite;\n",
              "  }\n",
              "\n",
              "  @keyframes spin {\n",
              "    0% {\n",
              "      border-color: transparent;\n",
              "      border-bottom-color: var(--fill-color);\n",
              "      border-left-color: var(--fill-color);\n",
              "    }\n",
              "    20% {\n",
              "      border-color: transparent;\n",
              "      border-left-color: var(--fill-color);\n",
              "      border-top-color: var(--fill-color);\n",
              "    }\n",
              "    30% {\n",
              "      border-color: transparent;\n",
              "      border-left-color: var(--fill-color);\n",
              "      border-top-color: var(--fill-color);\n",
              "      border-right-color: var(--fill-color);\n",
              "    }\n",
              "    40% {\n",
              "      border-color: transparent;\n",
              "      border-right-color: var(--fill-color);\n",
              "      border-top-color: var(--fill-color);\n",
              "    }\n",
              "    60% {\n",
              "      border-color: transparent;\n",
              "      border-right-color: var(--fill-color);\n",
              "    }\n",
              "    80% {\n",
              "      border-color: transparent;\n",
              "      border-right-color: var(--fill-color);\n",
              "      border-bottom-color: var(--fill-color);\n",
              "    }\n",
              "    90% {\n",
              "      border-color: transparent;\n",
              "      border-bottom-color: var(--fill-color);\n",
              "    }\n",
              "  }\n",
              "</style>\n",
              "\n",
              "  <script>\n",
              "    async function quickchart(key) {\n",
              "      const quickchartButtonEl =\n",
              "        document.querySelector('#' + key + ' button');\n",
              "      quickchartButtonEl.disabled = true;  // To prevent multiple clicks.\n",
              "      quickchartButtonEl.classList.add('colab-df-spinner');\n",
              "      try {\n",
              "        const charts = await google.colab.kernel.invokeFunction(\n",
              "            'suggestCharts', [key], {});\n",
              "      } catch (error) {\n",
              "        console.error('Error during call to suggestCharts:', error);\n",
              "      }\n",
              "      quickchartButtonEl.classList.remove('colab-df-spinner');\n",
              "      quickchartButtonEl.classList.add('colab-df-quickchart-complete');\n",
              "    }\n",
              "    (() => {\n",
              "      let quickchartButtonEl =\n",
              "        document.querySelector('#df-7ed4173c-297b-440d-8128-210fa7f7890e button');\n",
              "      quickchartButtonEl.style.display =\n",
              "        google.colab.kernel.accessAllowed ? 'block' : 'none';\n",
              "    })();\n",
              "  </script>\n",
              "</div>\n",
              "    </div>\n",
              "  </div>\n"
            ],
            "application/vnd.google.colaboratory.intrinsic+json": {
              "type": "dataframe",
              "variable_name": "dataframe",
              "summary": "{\n  \"name\": \"dataframe\",\n  \"rows\": 14640,\n  \"fields\": [\n    {\n      \"column\": \"airline_sentiment\",\n      \"properties\": {\n        \"dtype\": \"category\",\n        \"num_unique_values\": 3,\n        \"samples\": [\n          \"neutral\",\n          \"positive\",\n          \"negative\"\n        ],\n        \"semantic_type\": \"\",\n        \"description\": \"\"\n      }\n    },\n    {\n      \"column\": \"airline_sentiment_confidence\",\n      \"properties\": {\n        \"dtype\": \"number\",\n        \"std\": 0.16282995909867212,\n        \"min\": 0.335,\n        \"max\": 1.0,\n        \"num_unique_values\": 1023,\n        \"samples\": [\n          0.6723,\n          0.3551,\n          0.6498\n        ],\n        \"semantic_type\": \"\",\n        \"description\": \"\"\n      }\n    },\n    {\n      \"column\": \"negativereason_confidence\",\n      \"properties\": {\n        \"dtype\": \"number\",\n        \"std\": 0.3304397596377297,\n        \"min\": 0.0,\n        \"max\": 1.0,\n        \"num_unique_values\": 1410,\n        \"samples\": [\n          0.6677,\n          0.6622,\n          0.6905\n        ],\n        \"semantic_type\": \"\",\n        \"description\": \"\"\n      }\n    },\n    {\n      \"column\": \"text\",\n      \"properties\": {\n        \"dtype\": \"string\",\n        \"num_unique_values\": 14427,\n        \"samples\": [\n          \"@JetBlue so technically I could drive to JFK now and put in. Request for tomorrow's flight?\",\n          \"@united why I won't check my carry on. Watched a handler throw this bag -- miss the conveyer belt -- sat there 10 min http://t.co/lyoocx5mSH\",\n          \"@SouthwestAir you guys are so clever \\ud83d\\ude03 http://t.co/qn5odUGFqK\"\n        ],\n        \"semantic_type\": \"\",\n        \"description\": \"\"\n      }\n    }\n  ]\n}"
            }
          },
          "metadata": {},
          "execution_count": 47
        }
      ],
      "source": [
        "dataframe.head()"
      ]
    },
    {
      "cell_type": "markdown",
      "metadata": {
        "id": "fP1VVNbB7iUs"
      },
      "source": [
        "### Data profile"
      ]
    },
    {
      "cell_type": "code",
      "execution_count": 48,
      "metadata": {
        "colab": {
          "base_uri": "https://localhost:8080/"
        },
        "id": "IWSw8CPA7iUt",
        "outputId": "08862037-c5b2-4a03-a5df-077f36fe403e"
      },
      "outputs": [
        {
          "output_type": "stream",
          "name": "stdout",
          "text": [
            "Total data (tweets): airline_sentiment               14640\n",
            "airline_sentiment_confidence    14640\n",
            "negativereason_confidence       10522\n",
            "text                            14640\n",
            "dtype: int64\n"
          ]
        }
      ],
      "source": [
        "print(f\"Total data (tweets): {dataframe.count()}\");"
      ]
    },
    {
      "cell_type": "markdown",
      "metadata": {
        "id": "SQUn-xhD7iUt"
      },
      "source": [
        "### 1. Check the most minimum confidence for qualitative checks\n",
        "Let's see how things going on the airline_sentiment_condifence. Check why some tweet get minimum confidence for qualitative checks."
      ]
    },
    {
      "cell_type": "code",
      "execution_count": 49,
      "metadata": {
        "colab": {
          "base_uri": "https://localhost:8080/",
          "height": 892
        },
        "id": "lDt6K-5w7iUu",
        "outputId": "2456fda1-0cda-4806-c50b-121b0fed9532"
      },
      "outputs": [
        {
          "output_type": "stream",
          "name": "stdout",
          "text": [
            "airline_sentiment_confidence\n",
            "======================================================================================\n",
            "Data:     airline_sentiment  airline_sentiment_confidence  \\\n",
            "989           neutral                         0.335   \n",
            "\n",
            "     negativereason_confidence  \\\n",
            "989                        0.0   \n",
            "\n",
            "                                                  text  \n",
            "989  @united Thank you, ^JH, appreciate the prompt ...   \n",
            "\n",
            "Tweet: @united Thank you, ^JH, appreciate the prompt responses--me and other passengers will be doing so.\n",
            "\n",
            "\n",
            "\n",
            "negativereason_confidence\n",
            "======================================================================================\n"
          ]
        },
        {
          "output_type": "execute_result",
          "data": {
            "text/plain": [
              "      airline_sentiment  airline_sentiment_confidence  \\\n",
              "15             negative                        0.6842   \n",
              "20             negative                        0.6705   \n",
              "24             negative                        1.0000   \n",
              "73             negative                        1.0000   \n",
              "82             negative                        0.6792   \n",
              "...                 ...                           ...   \n",
              "14568          negative                        1.0000   \n",
              "14572          negative                        1.0000   \n",
              "14577          negative                        0.6694   \n",
              "14599          negative                        1.0000   \n",
              "14622          negative                        1.0000   \n",
              "\n",
              "       negativereason_confidence  \\\n",
              "15                        0.3684   \n",
              "20                        0.3614   \n",
              "24                        0.3557   \n",
              "73                        0.3516   \n",
              "82                        0.3477   \n",
              "...                          ...   \n",
              "14568                     0.3555   \n",
              "14572                     0.3482   \n",
              "14577                     0.3451   \n",
              "14599                     0.3704   \n",
              "14622                     0.3358   \n",
              "\n",
              "                                                    text  \n",
              "15         @VirginAmerica SFO-PDX schedule is still MIA.  \n",
              "20     @VirginAmerica why are your first fares in May...  \n",
              "24     @VirginAmerica you guys messed up my seating.....  \n",
              "73     @VirginAmerica your airline is awesome but you...  \n",
              "82     @VirginAmerica you're the best!! Whenever I (b...  \n",
              "...                                                  ...  \n",
              "14568  @AmericanAir i was spoken 2 like I'm an idiot ...  \n",
              "14572  @AmericanAir When I left Orlando, I was 2nd in...  \n",
              "14577  @AmericanAir I have never on all my trips on a...  \n",
              "14599  @AmericanAir @travisamex It's not the weather....  \n",
              "14622  I just need a place to sleep when I land witho...  \n",
              "\n",
              "[1781 rows x 4 columns]"
            ],
            "text/html": [
              "\n",
              "  <div id=\"df-bf94edad-72fd-4aa7-9a58-973a6a0b4a4b\" class=\"colab-df-container\">\n",
              "    <div>\n",
              "<style scoped>\n",
              "    .dataframe tbody tr th:only-of-type {\n",
              "        vertical-align: middle;\n",
              "    }\n",
              "\n",
              "    .dataframe tbody tr th {\n",
              "        vertical-align: top;\n",
              "    }\n",
              "\n",
              "    .dataframe thead th {\n",
              "        text-align: right;\n",
              "    }\n",
              "</style>\n",
              "<table border=\"1\" class=\"dataframe\">\n",
              "  <thead>\n",
              "    <tr style=\"text-align: right;\">\n",
              "      <th></th>\n",
              "      <th>airline_sentiment</th>\n",
              "      <th>airline_sentiment_confidence</th>\n",
              "      <th>negativereason_confidence</th>\n",
              "      <th>text</th>\n",
              "    </tr>\n",
              "  </thead>\n",
              "  <tbody>\n",
              "    <tr>\n",
              "      <th>15</th>\n",
              "      <td>negative</td>\n",
              "      <td>0.6842</td>\n",
              "      <td>0.3684</td>\n",
              "      <td>@VirginAmerica SFO-PDX schedule is still MIA.</td>\n",
              "    </tr>\n",
              "    <tr>\n",
              "      <th>20</th>\n",
              "      <td>negative</td>\n",
              "      <td>0.6705</td>\n",
              "      <td>0.3614</td>\n",
              "      <td>@VirginAmerica why are your first fares in May...</td>\n",
              "    </tr>\n",
              "    <tr>\n",
              "      <th>24</th>\n",
              "      <td>negative</td>\n",
              "      <td>1.0000</td>\n",
              "      <td>0.3557</td>\n",
              "      <td>@VirginAmerica you guys messed up my seating.....</td>\n",
              "    </tr>\n",
              "    <tr>\n",
              "      <th>73</th>\n",
              "      <td>negative</td>\n",
              "      <td>1.0000</td>\n",
              "      <td>0.3516</td>\n",
              "      <td>@VirginAmerica your airline is awesome but you...</td>\n",
              "    </tr>\n",
              "    <tr>\n",
              "      <th>82</th>\n",
              "      <td>negative</td>\n",
              "      <td>0.6792</td>\n",
              "      <td>0.3477</td>\n",
              "      <td>@VirginAmerica you're the best!! Whenever I (b...</td>\n",
              "    </tr>\n",
              "    <tr>\n",
              "      <th>...</th>\n",
              "      <td>...</td>\n",
              "      <td>...</td>\n",
              "      <td>...</td>\n",
              "      <td>...</td>\n",
              "    </tr>\n",
              "    <tr>\n",
              "      <th>14568</th>\n",
              "      <td>negative</td>\n",
              "      <td>1.0000</td>\n",
              "      <td>0.3555</td>\n",
              "      <td>@AmericanAir i was spoken 2 like I'm an idiot ...</td>\n",
              "    </tr>\n",
              "    <tr>\n",
              "      <th>14572</th>\n",
              "      <td>negative</td>\n",
              "      <td>1.0000</td>\n",
              "      <td>0.3482</td>\n",
              "      <td>@AmericanAir When I left Orlando, I was 2nd in...</td>\n",
              "    </tr>\n",
              "    <tr>\n",
              "      <th>14577</th>\n",
              "      <td>negative</td>\n",
              "      <td>0.6694</td>\n",
              "      <td>0.3451</td>\n",
              "      <td>@AmericanAir I have never on all my trips on a...</td>\n",
              "    </tr>\n",
              "    <tr>\n",
              "      <th>14599</th>\n",
              "      <td>negative</td>\n",
              "      <td>1.0000</td>\n",
              "      <td>0.3704</td>\n",
              "      <td>@AmericanAir @travisamex It's not the weather....</td>\n",
              "    </tr>\n",
              "    <tr>\n",
              "      <th>14622</th>\n",
              "      <td>negative</td>\n",
              "      <td>1.0000</td>\n",
              "      <td>0.3358</td>\n",
              "      <td>I just need a place to sleep when I land witho...</td>\n",
              "    </tr>\n",
              "  </tbody>\n",
              "</table>\n",
              "<p>1781 rows × 4 columns</p>\n",
              "</div>\n",
              "    <div class=\"colab-df-buttons\">\n",
              "\n",
              "  <div class=\"colab-df-container\">\n",
              "    <button class=\"colab-df-convert\" onclick=\"convertToInteractive('df-bf94edad-72fd-4aa7-9a58-973a6a0b4a4b')\"\n",
              "            title=\"Convert this dataframe to an interactive table.\"\n",
              "            style=\"display:none;\">\n",
              "\n",
              "  <svg xmlns=\"http://www.w3.org/2000/svg\" height=\"24px\" viewBox=\"0 -960 960 960\">\n",
              "    <path d=\"M120-120v-720h720v720H120Zm60-500h600v-160H180v160Zm220 220h160v-160H400v160Zm0 220h160v-160H400v160ZM180-400h160v-160H180v160Zm440 0h160v-160H620v160ZM180-180h160v-160H180v160Zm440 0h160v-160H620v160Z\"/>\n",
              "  </svg>\n",
              "    </button>\n",
              "\n",
              "  <style>\n",
              "    .colab-df-container {\n",
              "      display:flex;\n",
              "      gap: 12px;\n",
              "    }\n",
              "\n",
              "    .colab-df-convert {\n",
              "      background-color: #E8F0FE;\n",
              "      border: none;\n",
              "      border-radius: 50%;\n",
              "      cursor: pointer;\n",
              "      display: none;\n",
              "      fill: #1967D2;\n",
              "      height: 32px;\n",
              "      padding: 0 0 0 0;\n",
              "      width: 32px;\n",
              "    }\n",
              "\n",
              "    .colab-df-convert:hover {\n",
              "      background-color: #E2EBFA;\n",
              "      box-shadow: 0px 1px 2px rgba(60, 64, 67, 0.3), 0px 1px 3px 1px rgba(60, 64, 67, 0.15);\n",
              "      fill: #174EA6;\n",
              "    }\n",
              "\n",
              "    .colab-df-buttons div {\n",
              "      margin-bottom: 4px;\n",
              "    }\n",
              "\n",
              "    [theme=dark] .colab-df-convert {\n",
              "      background-color: #3B4455;\n",
              "      fill: #D2E3FC;\n",
              "    }\n",
              "\n",
              "    [theme=dark] .colab-df-convert:hover {\n",
              "      background-color: #434B5C;\n",
              "      box-shadow: 0px 1px 3px 1px rgba(0, 0, 0, 0.15);\n",
              "      filter: drop-shadow(0px 1px 2px rgba(0, 0, 0, 0.3));\n",
              "      fill: #FFFFFF;\n",
              "    }\n",
              "  </style>\n",
              "\n",
              "    <script>\n",
              "      const buttonEl =\n",
              "        document.querySelector('#df-bf94edad-72fd-4aa7-9a58-973a6a0b4a4b button.colab-df-convert');\n",
              "      buttonEl.style.display =\n",
              "        google.colab.kernel.accessAllowed ? 'block' : 'none';\n",
              "\n",
              "      async function convertToInteractive(key) {\n",
              "        const element = document.querySelector('#df-bf94edad-72fd-4aa7-9a58-973a6a0b4a4b');\n",
              "        const dataTable =\n",
              "          await google.colab.kernel.invokeFunction('convertToInteractive',\n",
              "                                                    [key], {});\n",
              "        if (!dataTable) return;\n",
              "\n",
              "        const docLinkHtml = 'Like what you see? Visit the ' +\n",
              "          '<a target=\"_blank\" href=https://colab.research.google.com/notebooks/data_table.ipynb>data table notebook</a>'\n",
              "          + ' to learn more about interactive tables.';\n",
              "        element.innerHTML = '';\n",
              "        dataTable['output_type'] = 'display_data';\n",
              "        await google.colab.output.renderOutput(dataTable, element);\n",
              "        const docLink = document.createElement('div');\n",
              "        docLink.innerHTML = docLinkHtml;\n",
              "        element.appendChild(docLink);\n",
              "      }\n",
              "    </script>\n",
              "  </div>\n",
              "\n",
              "\n",
              "<div id=\"df-7c687a3a-bf80-4c68-9dbf-2cc1dba21ce9\">\n",
              "  <button class=\"colab-df-quickchart\" onclick=\"quickchart('df-7c687a3a-bf80-4c68-9dbf-2cc1dba21ce9')\"\n",
              "            title=\"Suggest charts\"\n",
              "            style=\"display:none;\">\n",
              "\n",
              "<svg xmlns=\"http://www.w3.org/2000/svg\" height=\"24px\"viewBox=\"0 0 24 24\"\n",
              "     width=\"24px\">\n",
              "    <g>\n",
              "        <path d=\"M19 3H5c-1.1 0-2 .9-2 2v14c0 1.1.9 2 2 2h14c1.1 0 2-.9 2-2V5c0-1.1-.9-2-2-2zM9 17H7v-7h2v7zm4 0h-2V7h2v10zm4 0h-2v-4h2v4z\"/>\n",
              "    </g>\n",
              "</svg>\n",
              "  </button>\n",
              "\n",
              "<style>\n",
              "  .colab-df-quickchart {\n",
              "      --bg-color: #E8F0FE;\n",
              "      --fill-color: #1967D2;\n",
              "      --hover-bg-color: #E2EBFA;\n",
              "      --hover-fill-color: #174EA6;\n",
              "      --disabled-fill-color: #AAA;\n",
              "      --disabled-bg-color: #DDD;\n",
              "  }\n",
              "\n",
              "  [theme=dark] .colab-df-quickchart {\n",
              "      --bg-color: #3B4455;\n",
              "      --fill-color: #D2E3FC;\n",
              "      --hover-bg-color: #434B5C;\n",
              "      --hover-fill-color: #FFFFFF;\n",
              "      --disabled-bg-color: #3B4455;\n",
              "      --disabled-fill-color: #666;\n",
              "  }\n",
              "\n",
              "  .colab-df-quickchart {\n",
              "    background-color: var(--bg-color);\n",
              "    border: none;\n",
              "    border-radius: 50%;\n",
              "    cursor: pointer;\n",
              "    display: none;\n",
              "    fill: var(--fill-color);\n",
              "    height: 32px;\n",
              "    padding: 0;\n",
              "    width: 32px;\n",
              "  }\n",
              "\n",
              "  .colab-df-quickchart:hover {\n",
              "    background-color: var(--hover-bg-color);\n",
              "    box-shadow: 0 1px 2px rgba(60, 64, 67, 0.3), 0 1px 3px 1px rgba(60, 64, 67, 0.15);\n",
              "    fill: var(--button-hover-fill-color);\n",
              "  }\n",
              "\n",
              "  .colab-df-quickchart-complete:disabled,\n",
              "  .colab-df-quickchart-complete:disabled:hover {\n",
              "    background-color: var(--disabled-bg-color);\n",
              "    fill: var(--disabled-fill-color);\n",
              "    box-shadow: none;\n",
              "  }\n",
              "\n",
              "  .colab-df-spinner {\n",
              "    border: 2px solid var(--fill-color);\n",
              "    border-color: transparent;\n",
              "    border-bottom-color: var(--fill-color);\n",
              "    animation:\n",
              "      spin 1s steps(1) infinite;\n",
              "  }\n",
              "\n",
              "  @keyframes spin {\n",
              "    0% {\n",
              "      border-color: transparent;\n",
              "      border-bottom-color: var(--fill-color);\n",
              "      border-left-color: var(--fill-color);\n",
              "    }\n",
              "    20% {\n",
              "      border-color: transparent;\n",
              "      border-left-color: var(--fill-color);\n",
              "      border-top-color: var(--fill-color);\n",
              "    }\n",
              "    30% {\n",
              "      border-color: transparent;\n",
              "      border-left-color: var(--fill-color);\n",
              "      border-top-color: var(--fill-color);\n",
              "      border-right-color: var(--fill-color);\n",
              "    }\n",
              "    40% {\n",
              "      border-color: transparent;\n",
              "      border-right-color: var(--fill-color);\n",
              "      border-top-color: var(--fill-color);\n",
              "    }\n",
              "    60% {\n",
              "      border-color: transparent;\n",
              "      border-right-color: var(--fill-color);\n",
              "    }\n",
              "    80% {\n",
              "      border-color: transparent;\n",
              "      border-right-color: var(--fill-color);\n",
              "      border-bottom-color: var(--fill-color);\n",
              "    }\n",
              "    90% {\n",
              "      border-color: transparent;\n",
              "      border-bottom-color: var(--fill-color);\n",
              "    }\n",
              "  }\n",
              "</style>\n",
              "\n",
              "  <script>\n",
              "    async function quickchart(key) {\n",
              "      const quickchartButtonEl =\n",
              "        document.querySelector('#' + key + ' button');\n",
              "      quickchartButtonEl.disabled = true;  // To prevent multiple clicks.\n",
              "      quickchartButtonEl.classList.add('colab-df-spinner');\n",
              "      try {\n",
              "        const charts = await google.colab.kernel.invokeFunction(\n",
              "            'suggestCharts', [key], {});\n",
              "      } catch (error) {\n",
              "        console.error('Error during call to suggestCharts:', error);\n",
              "      }\n",
              "      quickchartButtonEl.classList.remove('colab-df-spinner');\n",
              "      quickchartButtonEl.classList.add('colab-df-quickchart-complete');\n",
              "    }\n",
              "    (() => {\n",
              "      let quickchartButtonEl =\n",
              "        document.querySelector('#df-7c687a3a-bf80-4c68-9dbf-2cc1dba21ce9 button');\n",
              "      quickchartButtonEl.style.display =\n",
              "        google.colab.kernel.accessAllowed ? 'block' : 'none';\n",
              "    })();\n",
              "  </script>\n",
              "</div>\n",
              "    </div>\n",
              "  </div>\n"
            ],
            "application/vnd.google.colaboratory.intrinsic+json": {
              "type": "dataframe",
              "variable_name": "minimum_negative_confidence_data",
              "summary": "{\n  \"name\": \"minimum_negative_confidence_data\",\n  \"rows\": 1781,\n  \"fields\": [\n    {\n      \"column\": \"airline_sentiment\",\n      \"properties\": {\n        \"dtype\": \"category\",\n        \"num_unique_values\": 1,\n        \"samples\": [\n          \"negative\"\n        ],\n        \"semantic_type\": \"\",\n        \"description\": \"\"\n      }\n    },\n    {\n      \"column\": \"airline_sentiment_confidence\",\n      \"properties\": {\n        \"dtype\": \"number\",\n        \"std\": 0.1860522172347746,\n        \"min\": 0.3394,\n        \"max\": 1.0,\n        \"num_unique_values\": 528,\n        \"samples\": [\n          0.6679\n        ],\n        \"semantic_type\": \"\",\n        \"description\": \"\"\n      }\n    },\n    {\n      \"column\": \"negativereason_confidence\",\n      \"properties\": {\n        \"dtype\": \"number\",\n        \"std\": 0.015252820481836888,\n        \"min\": 0.3122,\n        \"max\": 0.4904,\n        \"num_unique_values\": 527,\n        \"samples\": [\n          0.3227\n        ],\n        \"semantic_type\": \"\",\n        \"description\": \"\"\n      }\n    },\n    {\n      \"column\": \"text\",\n      \"properties\": {\n        \"dtype\": \"string\",\n        \"num_unique_values\": 1776,\n        \"samples\": [\n          \"@united if I pay you $25 and $35 for my luggage to be delivered when I arrive. Why should I have to wait 3 additional days for its delivery?\"\n        ],\n        \"semantic_type\": \"\",\n        \"description\": \"\"\n      }\n    }\n  ]\n}"
            }
          },
          "metadata": {},
          "execution_count": 49
        }
      ],
      "source": [
        "# Get minimum, maximum of airline_sentiment_confidence\n",
        "\n",
        "minimum = dataframe[\"airline_sentiment_confidence\"].min();\n",
        "\n",
        "minimum_confidence_data = dataframe[dataframe[\"airline_sentiment_confidence\"] == minimum];\n",
        "minimum_negative_confidence_data = dataframe.where((dataframe[\"airline_sentiment\"] == \"negative\") & (dataframe[\"negativereason_confidence\"] < 0.5) & (dataframe[\"negativereason_confidence\"] > 0.0));\n",
        "minimum_negative_confidence_data = minimum_negative_confidence_data.dropna();\n",
        "\n",
        "print(\"airline_sentiment_confidence\");\n",
        "print(\"======================================================================================\");\n",
        "print(f\"Data: {minimum_confidence_data} \\n\\nTweet: {minimum_confidence_data['text'].values[0]}\");\n",
        "\n",
        "print(\"\\n\\n\");\n",
        "\n",
        "print(\"negativereason_confidence\");\n",
        "print(\"======================================================================================\");\n",
        "minimum_negative_confidence_data"
      ]
    },
    {
      "cell_type": "markdown",
      "metadata": {
        "id": "iCudNOMr7iUu"
      },
      "source": [
        "Seems like the data turns out classified as neutral. But there is appreciation words within the text that contains \"Thank you\". So that is why the data is classified as neutral, but the confidence level is not there to judge it entirely as neutral. Taking this random sampling, may help to reduce misleading data that may harden sentiment analysis process.\n",
        "\n",
        "But the negative confidence level is tough. After doing some qualitative analysis, it seems like the low confidence level caused by sarcastic texts.\n",
        "\n",
        "### 2. Boxplot analysis for confidence level"
      ]
    },
    {
      "cell_type": "code",
      "execution_count": 50,
      "metadata": {
        "id": "U3mpvUmv7iUv"
      },
      "outputs": [],
      "source": [
        "import matplotlib.pyplot as plt;\n",
        "import seaborn;"
      ]
    },
    {
      "cell_type": "code",
      "execution_count": 51,
      "metadata": {
        "colab": {
          "base_uri": "https://localhost:8080/",
          "height": 811
        },
        "id": "3Tf50hDr7iUv",
        "outputId": "c888e5a5-b28e-4f6c-8207-9b8c123dc2dc"
      },
      "outputs": [
        {
          "output_type": "display_data",
          "data": {
            "text/plain": [
              "<Figure size 800x1000 with 2 Axes>"
            ],
            "image/png": "[encoded data removed]"
          },
          "metadata": {}
        }
      ],
      "source": [
        "figure, axis = plt.subplots(ncols = 2, figsize = (8, 10)); # 20 is selected since the dimension of the data is 21, minus 1 for the label.\n",
        "\n",
        "seaborn.boxplot(dataframe[\"airline_sentiment_confidence\"], ax = axis[0]);\n",
        "seaborn.boxplot(minimum_negative_confidence_data[\"negativereason_confidence\"], ax = axis[1]);"
      ]
    },
    {
      "cell_type": "markdown",
      "metadata": {
        "id": "ISOZ1OGh7iUv"
      },
      "source": [
        "## 2. Dataset Pre-Processing\n",
        "\n",
        "Dataset pre-processing consist of two steps:\n",
        "\n",
        "1. Based-on exploration result\n",
        "2. Working with NLP dataset pre-processing pipeline\n",
        "\n",
        "### 2.1 Pre-Processing post-exploration\n",
        "\n",
        "Based-on data exploration, found that some data may just unfit to be load as it may cause problems with the training. The reason can be found on the upper section.\n",
        "So these following constraints, will be deleted.\n",
        "| No | Column | Constraints |\n",
        "|---|---|---|\n",
        "| 1 | airline_sentiment_confidence | Below 0.5 |\n",
        "| 2 | negativereason_confidence | Below 0.325 |"
      ]
    },
    {
      "cell_type": "code",
      "execution_count": 52,
      "metadata": {
        "colab": {
          "base_uri": "https://localhost:8080/"
        },
        "id": "8XSByN9W7iUw",
        "outputId": "4f3b1d27-3ad3-4fbd-e731-c1fa27463fe4"
      },
      "outputs": [
        {
          "output_type": "execute_result",
          "data": {
            "text/plain": [
              "Index([    1,   114,   142,   183,   309,   348,   349,   403,   462,   488,\n",
              "       ...\n",
              "       13997, 14020, 14075, 14078, 14147, 14261, 14297, 14414, 14530, 14635],\n",
              "      dtype='int64', length=265)"
            ]
          },
          "metadata": {},
          "execution_count": 52
        }
      ],
      "source": [
        "constraints = ((dataframe[\"airline_sentiment_confidence\"] < 0.5) | ((dataframe[\"airline_sentiment\"] == \"negative\") & (dataframe[\"negativereason_confidence\"] < 0.325)));\n",
        "\n",
        "dataframe[constraints].index"
      ]
    },
    {
      "cell_type": "code",
      "execution_count": 53,
      "metadata": {
        "id": "vHRpFSH67iUw"
      },
      "outputs": [],
      "source": [
        "dataframe = dataframe.drop(dataframe[constraints].index);"
      ]
    },
    {
      "cell_type": "code",
      "execution_count": 54,
      "metadata": {
        "colab": {
          "base_uri": "https://localhost:8080/"
        },
        "id": "knlJ0aCa7iUw",
        "outputId": "22608b96-fbdf-4be8-a4be-14b120ffb3b3"
      },
      "outputs": [
        {
          "output_type": "stream",
          "name": "stdout",
          "text": [
            "Total data after cleansing (tweets): airline_sentiment               14375\n",
            "airline_sentiment_confidence    14375\n",
            "negativereason_confidence       10257\n",
            "text                            14375\n",
            "dtype: int64\n"
          ]
        }
      ],
      "source": [
        "print(f\"Total data after cleansing (tweets): {dataframe.count()}\");"
      ]
    },
    {
      "cell_type": "markdown",
      "metadata": {
        "id": "e3w1UZME7iUw"
      },
      "source": [
        "### 2.2 NLP Dataset Pre-Processing\n",
        "\n",
        "NLP / NLU cases are known as not easy dataset pre-processing. <br />\n",
        "Imagine converting your text into numbers just to make computer understand what you try to do. <br />\n",
        "Public dataset also challenging. <br />\n",
        "\n",
        "Enough the ranting.\n",
        "\n",
        "#### IKUYOOOOO!!!\n",
        "![Screenshot_20231031_182734_YouTube.jpg](attachment:Screenshot_20231031_182734_YouTube.jpg)\n",
        "\n",
        "<br />\n",
        "<br />\n",
        "<br />\n",
        "\n",
        "The flow of NLP dataset pre-processing for this dataset is as follows:\n",
        "\n",
        "1. Convert the text into lowercase\n",
        "2. Take out any mention tags and URI. Like @some_user_name ; https://lalala\n",
        "3. Take out any punctuations\n",
        "4. Take out any stop words -> Employs NLTK Stopwords dataset\n",
        "5. Stemming Slang Words -> Employs https://github.com/rishabhverma17/sms_slang_translator/blob/master/slang.txt\n",
        "6. Stemming -> Employs NLTK\n",
        "\n",
        "Anyway... Something is missing.\n",
        "\n",
        "All of these, are going to be implemented using functional programming pattern. Why you ask? To make things easier. I want everything works like puzzle. So I implement Monad pattern that once function being called, it return something. This ease the process within dataframe process. Just see.\n",
        "\n",
        "How things going to? Like this below:"
      ]
    },
    {
      "cell_type": "code",
      "execution_count": 55,
      "metadata": {
        "id": "wcUIiwJS7iUx"
      },
      "outputs": [],
      "source": [
        "import re;\n",
        "\n",
        "import nltk;\n",
        "from nltk.corpus import stopwords;\n",
        "from nltk.tokenize import word_tokenize;\n",
        "from nltk.stem import PorterStemmer;\n",
        "\n",
        "from tqdm import tqdm;"
      ]
    },
    {
      "cell_type": "code",
      "execution_count": 56,
      "metadata": {
        "colab": {
          "base_uri": "https://localhost:8080/"
        },
        "id": "RpR0N1KV7iUx",
        "outputId": "07a2abea-0bd4-4854-f3a2-491680b74e87"
      },
      "outputs": [
        {
          "output_type": "stream",
          "name": "stderr",
          "text": [
            "[nltk_data] Downloading package stopwords to /root/nltk_data...\n",
            "[nltk_data]   Package stopwords is already up-to-date!\n"
          ]
        }
      ],
      "source": [
        "# Define helper functions\n",
        "\n",
        "def force_lowercase(corpus: str):\n",
        "    return corpus.lower();\n",
        "\n",
        "def uri_remover(corpus: str):\n",
        "    clean_text = re.sub(r'http\\S+|www\\S+|https\\S+', '', corpus, flags=re.MULTILINE);\n",
        "\n",
        "    return clean_text;\n",
        "\n",
        "def mention_tags_remover(corpus: str):\n",
        "    clean_text = re.sub(r'\\@\\w+|\\#','', corpus);\n",
        "\n",
        "    return clean_text;\n",
        "\n",
        "def punctuation_remover(corpus: str):\n",
        "    clean_text = re.sub(r'[^\\w\\s]', \"\", corpus);\n",
        "    return clean_text;\n",
        "\n",
        "# Slang Stemmer\n",
        "slang_db = {}\n",
        "with open(slang_data_path, 'r') as file:\n",
        "    for line in file:\n",
        "        key, value = line.split('=');\n",
        "        slang_db[key] = value;\n",
        "\n",
        "def slang_corpus_stemmer(corpus: str):\n",
        "    words = corpus.split();\n",
        "\n",
        "    clean_words = [slang_db.get(i, i) for i in words];\n",
        "\n",
        "    return \" \".join(clean_words);\n",
        "\n",
        "# Initialize NLTK stopwords\n",
        "nltk.download('stopwords')\n",
        "stop_words = stopwords.words('english');\n",
        "def stop_words_remover(corpus: str):\n",
        "    words = corpus.split();\n",
        "\n",
        "    clean_words = [i for i in words if i not in stop_words];\n",
        "\n",
        "    return \" \".join(clean_words);\n",
        "\n",
        "# Initlaize Stemmer\n",
        "stemmer = PorterStemmer();\n",
        "def corpus_stemmer(corpus: str):\n",
        "    words = corpus.split();\n",
        "\n",
        "    clean_words = [stemmer.stem(token) for token in words];\n",
        "\n",
        "    return \" \".join(clean_words);"
      ]
    },
    {
      "cell_type": "code",
      "execution_count": 57,
      "metadata": {
        "id": "JMxS9Ito7iUy"
      },
      "outputs": [],
      "source": [
        "# Let's separate the feature from label first\n",
        "untouched_tweets = dataframe[\"text\"];\n",
        "label = dataframe[\"airline_sentiment\"];"
      ]
    },
    {
      "cell_type": "code",
      "execution_count": 58,
      "metadata": {
        "colab": {
          "base_uri": "https://localhost:8080/"
        },
        "id": "UQsu-2nN7iUy",
        "outputId": "4fc43fa6-f1a4-4881-942f-3e55ddd9ab90"
      },
      "outputs": [
        {
          "output_type": "stream",
          "name": "stdout",
          "text": [
            "Convert the text into lowercase -  "
          ]
        },
        {
          "output_type": "stream",
          "name": "stderr",
          "text": [
            "100%|██████████| 14375/14375 [00:00<00:00, 738144.51it/s]\n"
          ]
        },
        {
          "output_type": "stream",
          "name": "stdout",
          "text": [
            "Take out any URI -  "
          ]
        },
        {
          "output_type": "stream",
          "name": "stderr",
          "text": [
            "100%|██████████| 14375/14375 [00:00<00:00, 287018.52it/s]\n"
          ]
        },
        {
          "output_type": "stream",
          "name": "stdout",
          "text": [
            "Take out any mention tags -  "
          ]
        },
        {
          "output_type": "stream",
          "name": "stderr",
          "text": [
            "100%|██████████| 14375/14375 [00:00<00:00, 322409.31it/s]\n"
          ]
        },
        {
          "output_type": "stream",
          "name": "stdout",
          "text": [
            "Take out any punctuations -  "
          ]
        },
        {
          "output_type": "stream",
          "name": "stderr",
          "text": [
            "100%|██████████| 14375/14375 [00:00<00:00, 231483.51it/s]\n"
          ]
        },
        {
          "output_type": "stream",
          "name": "stdout",
          "text": [
            "Take out any stop words -  "
          ]
        },
        {
          "output_type": "stream",
          "name": "stderr",
          "text": [
            "100%|██████████| 14375/14375 [00:00<00:00, 31990.10it/s]\n"
          ]
        },
        {
          "output_type": "stream",
          "name": "stdout",
          "text": [
            "Stemming Slang Words -  "
          ]
        },
        {
          "output_type": "stream",
          "name": "stderr",
          "text": [
            "100%|██████████| 14375/14375 [00:00<00:00, 304827.85it/s]\n"
          ]
        },
        {
          "output_type": "stream",
          "name": "stdout",
          "text": [
            "Stemming -  "
          ]
        },
        {
          "output_type": "stream",
          "name": "stderr",
          "text": [
            "100%|██████████| 14375/14375 [00:02<00:00, 6024.68it/s]\n"
          ]
        }
      ],
      "source": [
        "# This part is where we use functions above.\n",
        "\n",
        "tqdm.pandas();\n",
        "\n",
        "print(\"Convert the text into lowercase - \", end = \" \");\n",
        "corpus = untouched_tweets.progress_apply(lambda x: force_lowercase(x));\n",
        "\n",
        "print(\"Take out any URI - \", end = \" \");\n",
        "corpus = corpus.progress_apply(lambda x: uri_remover(x));\n",
        "\n",
        "print(\"Take out any mention tags - \", end = \" \");\n",
        "corpus = corpus.progress_apply(lambda x: mention_tags_remover(x));\n",
        "\n",
        "print(\"Take out any punctuations - \", end = \" \");\n",
        "corpus = corpus.progress_apply(lambda x: punctuation_remover(x));\n",
        "\n",
        "print(\"Take out any stop words - \", end = \" \");\n",
        "corpus = corpus.progress_apply(lambda x: stop_words_remover(x));\n",
        "\n",
        "print(\"Stemming Slang Words - \", end = \" \");\n",
        "corpus = corpus.progress_apply(lambda x: slang_corpus_stemmer(x));\n",
        "\n",
        "print(\"Stemming - \", end = \" \");\n",
        "stemmed_corpus = corpus.progress_apply(lambda x: corpus_stemmer(x));"
      ]
    },
    {
      "cell_type": "code",
      "execution_count": 59,
      "metadata": {
        "colab": {
          "base_uri": "https://localhost:8080/"
        },
        "id": "KWIocvKH7iUz",
        "outputId": "07e9ea65-90c8-459b-d37c-ff3185e2b604"
      },
      "outputs": [
        {
          "output_type": "execute_result",
          "data": {
            "text/plain": [
              "0                                                     said\n",
              "2               didnt today must mean need take anoth trip\n",
              "3        realli aggress blast obnoxi entertain guest fa...\n",
              "4                                     realli big bad thing\n",
              "5        serious would pay 30 flight seat didnt play re...\n",
              "                               ...                        \n",
              "14634                                      right cue delay\n",
              "14636    leav 20 minut late flight warn commun 15 minut...\n",
              "14637             pleas bring american airlin blackberry10\n",
              "14638    money chang flight dont answer phone suggest m...\n",
              "14639    8 ppl need 2 know mani seat next flight plz pu...\n",
              "Name: text, Length: 14375, dtype: object"
            ]
          },
          "metadata": {},
          "execution_count": 59
        }
      ],
      "source": [
        "stemmed_corpus"
      ]
    },
    {
      "cell_type": "markdown",
      "metadata": {
        "id": "4kOUFw8V7iUz"
      },
      "source": [
        "## 3. Data Loading\n",
        "\n",
        "Now with we got the stemmed data, we can now starts the data loading. There are several things that need to be done:\n",
        "\n",
        "1. Perform One-Hot Encoding to the labels\n",
        "2. Train-Test-Val Split\n",
        "\n",
        "The Train-Test-Val splits follow the segmentation below:\n",
        "70:15:15"
      ]
    },
    {
      "cell_type": "code",
      "execution_count": 60,
      "metadata": {
        "id": "wBZUgtB-7iUz"
      },
      "outputs": [],
      "source": [
        "from sklearn.model_selection import train_test_split;\n",
        "import numpy;"
      ]
    },
    {
      "cell_type": "code",
      "execution_count": 61,
      "metadata": {
        "id": "KMbwvrmA7iUz"
      },
      "outputs": [],
      "source": [
        "one_hot_labels = [];\n",
        "one_hot_labels = pandas.get_dummies(label, prefix = \"label\");\n",
        "one_hot_labels = one_hot_labels.to_numpy().astype('float32');"
      ]
    },
    {
      "cell_type": "code",
      "execution_count": 62,
      "metadata": {
        "colab": {
          "base_uri": "https://localhost:8080/"
        },
        "id": "g2RQc4de7iU0",
        "outputId": "1409ed7d-5e5a-42d3-ca1f-7a9ae4becaef"
      },
      "outputs": [
        {
          "output_type": "execute_result",
          "data": {
            "text/plain": [
              "(10062, 10062, 2156, 2156, 2157, 2157)"
            ]
          },
          "metadata": {},
          "execution_count": 62
        }
      ],
      "source": [
        "train_corpus, test_corpus, train_label, test_label = train_test_split(stemmed_corpus, one_hot_labels, train_size = 0.7, test_size = 0.3);\n",
        "test_corpus, val_corpus, test_label, val_label = train_test_split(test_corpus, test_label, train_size = 0.5, test_size = 0.5);\n",
        "\n",
        "len(train_corpus), len(train_label), len(test_corpus), len(test_label), len(val_corpus), len(val_label)"
      ]
    },
    {
      "cell_type": "markdown",
      "metadata": {
        "id": "MBWsReNt7iU0"
      },
      "source": [
        "## 4. Model Architecture\n",
        "\n",
        "Before jumping into the actual model, a little step of pre-processing using Bidirectional Encoder Representations from Transformers (BERT) is necessary. This include tokenization, and vectorization. Yes you're not wrong when you can tell that something was missing on the functional helper part. Because, this part are handled using BERT.\n",
        "\n",
        "The special thing is, this part employed Tensorflow Hub. Tensorflow's model zoo repository. [Check this out](https://www.tensorflow.org/text/tutorials/classify_text_with_bert).\n",
        "\n",
        "What this part gonna do are:\n",
        "\n",
        "1. Load BERT model (Small BERT 512)\n",
        "2. Tokenize & Vectorize all Train-Test-Val data\n",
        "3. Define Model Architecture (Yes the OOP thingy again)"
      ]
    },
    {
      "cell_type": "code",
      "execution_count": 63,
      "metadata": {
        "id": "nP_NildP7iU0"
      },
      "outputs": [],
      "source": [
        "import tensorflow;\n",
        "import tensorflow_hub;\n",
        "import tensorflow_text as text;"
      ]
    },
    {
      "cell_type": "code",
      "execution_count": 64,
      "metadata": {
        "colab": {
          "base_uri": "https://localhost:8080/"
        },
        "id": "nTmRY7Hy7iU0",
        "outputId": "5779977d-353a-40da-8e6e-fe589ffc181f"
      },
      "outputs": [
        {
          "output_type": "stream",
          "name": "stdout",
          "text": [
            "BERT model selected           : https://tfhub.dev/tensorflow/small_bert/bert_en_uncased_L-6_H-512_A-8/1\n",
            "Preprocess model auto-selected: https://tfhub.dev/tensorflow/bert_en_uncased_preprocess/3\n"
          ]
        }
      ],
      "source": [
        "#@title Choose a BERT model to fine-tune\n",
        "\n",
        "bert_model_name = 'small_bert/bert_en_uncased_L-6_H-512_A-8'  #@param [\"bert_en_uncased_L-12_H-768_A-12\", \"bert_en_cased_L-12_H-768_A-12\", \"bert_multi_cased_L-12_H-768_A-12\", \"small_bert/bert_en_uncased_L-2_H-128_A-2\", \"small_bert/bert_en_uncased_L-2_H-256_A-4\", \"small_bert/bert_en_uncased_L-2_H-512_A-8\", \"small_bert/bert_en_uncased_L-2_H-768_A-12\", \"small_bert/bert_en_uncased_L-4_H-128_A-2\", \"small_bert/bert_en_uncased_L-4_H-256_A-4\", \"small_bert/bert_en_uncased_L-4_H-512_A-8\", \"small_bert/bert_en_uncased_L-4_H-768_A-12\", \"small_bert/bert_en_uncased_L-6_H-128_A-2\", \"small_bert/bert_en_uncased_L-6_H-256_A-4\", \"small_bert/bert_en_uncased_L-6_H-512_A-8\", \"small_bert/bert_en_uncased_L-6_H-768_A-12\", \"small_bert/bert_en_uncased_L-8_H-128_A-2\", \"small_bert/bert_en_uncased_L-8_H-256_A-4\", \"small_bert/bert_en_uncased_L-8_H-512_A-8\", \"small_bert/bert_en_uncased_L-8_H-768_A-12\", \"small_bert/bert_en_uncased_L-10_H-128_A-2\", \"small_bert/bert_en_uncased_L-10_H-256_A-4\", \"small_bert/bert_en_uncased_L-10_H-512_A-8\", \"small_bert/bert_en_uncased_L-10_H-768_A-12\", \"small_bert/bert_en_uncased_L-12_H-128_A-2\", \"small_bert/bert_en_uncased_L-12_H-256_A-4\", \"small_bert/bert_en_uncased_L-12_H-512_A-8\", \"small_bert/bert_en_uncased_L-12_H-768_A-12\", \"albert_en_base\", \"electra_small\", \"electra_base\", \"experts_pubmed\", \"experts_wiki_books\", \"talking-heads_base\"]\n",
        "\n",
        "map_name_to_handle = {\n",
        "    'bert_en_uncased_L-12_H-768_A-12':\n",
        "        'https://tfhub.dev/tensorflow/bert_en_uncased_L-12_H-768_A-12/3',\n",
        "    'bert_en_cased_L-12_H-768_A-12':\n",
        "        'https://tfhub.dev/tensorflow/bert_en_cased_L-12_H-768_A-12/3',\n",
        "    'bert_multi_cased_L-12_H-768_A-12':\n",
        "        'https://tfhub.dev/tensorflow/bert_multi_cased_L-12_H-768_A-12/3',\n",
        "    'small_bert/bert_en_uncased_L-2_H-128_A-2':\n",
        "        'https://tfhub.dev/tensorflow/small_bert/bert_en_uncased_L-2_H-128_A-2/1',\n",
        "    'small_bert/bert_en_uncased_L-2_H-256_A-4':\n",
        "        'https://tfhub.dev/tensorflow/small_bert/bert_en_uncased_L-2_H-256_A-4/1',\n",
        "    'small_bert/bert_en_uncased_L-2_H-512_A-8':\n",
        "        'https://tfhub.dev/tensorflow/small_bert/bert_en_uncased_L-2_H-512_A-8/1',\n",
        "    'small_bert/bert_en_uncased_L-2_H-768_A-12':\n",
        "        'https://tfhub.dev/tensorflow/small_bert/bert_en_uncased_L-2_H-768_A-12/1',\n",
        "    'small_bert/bert_en_uncased_L-4_H-128_A-2':\n",
        "        'https://tfhub.dev/tensorflow/small_bert/bert_en_uncased_L-4_H-128_A-2/1',\n",
        "    'small_bert/bert_en_uncased_L-4_H-256_A-4':\n",
        "        'https://tfhub.dev/tensorflow/small_bert/bert_en_uncased_L-4_H-256_A-4/1',\n",
        "    'small_bert/bert_en_uncased_L-4_H-512_A-8':\n",
        "        'https://tfhub.dev/tensorflow/small_bert/bert_en_uncased_L-4_H-512_A-8/1',\n",
        "    'small_bert/bert_en_uncased_L-4_H-768_A-12':\n",
        "        'https://tfhub.dev/tensorflow/small_bert/bert_en_uncased_L-4_H-768_A-12/1',\n",
        "    'small_bert/bert_en_uncased_L-6_H-128_A-2':\n",
        "        'https://tfhub.dev/tensorflow/small_bert/bert_en_uncased_L-6_H-128_A-2/1',\n",
        "    'small_bert/bert_en_uncased_L-6_H-256_A-4':\n",
        "        'https://tfhub.dev/tensorflow/small_bert/bert_en_uncased_L-6_H-256_A-4/1',\n",
        "    'small_bert/bert_en_uncased_L-6_H-512_A-8':\n",
        "        'https://tfhub.dev/tensorflow/small_bert/bert_en_uncased_L-6_H-512_A-8/1',\n",
        "    'small_bert/bert_en_uncased_L-6_H-768_A-12':\n",
        "        'https://tfhub.dev/tensorflow/small_bert/bert_en_uncased_L-6_H-768_A-12/1',\n",
        "    'small_bert/bert_en_uncased_L-8_H-128_A-2':\n",
        "        'https://tfhub.dev/tensorflow/small_bert/bert_en_uncased_L-8_H-128_A-2/1',\n",
        "    'small_bert/bert_en_uncased_L-8_H-256_A-4':\n",
        "        'https://tfhub.dev/tensorflow/small_bert/bert_en_uncased_L-8_H-256_A-4/1',\n",
        "    'small_bert/bert_en_uncased_L-8_H-512_A-8':\n",
        "        'https://tfhub.dev/tensorflow/small_bert/bert_en_uncased_L-8_H-512_A-8/1',\n",
        "    'small_bert/bert_en_uncased_L-8_H-768_A-12':\n",
        "        'https://tfhub.dev/tensorflow/small_bert/bert_en_uncased_L-8_H-768_A-12/1',\n",
        "    'small_bert/bert_en_uncased_L-10_H-128_A-2':\n",
        "        'https://tfhub.dev/tensorflow/small_bert/bert_en_uncased_L-10_H-128_A-2/1',\n",
        "    'small_bert/bert_en_uncased_L-10_H-256_A-4':\n",
        "        'https://tfhub.dev/tensorflow/small_bert/bert_en_uncased_L-10_H-256_A-4/1',\n",
        "    'small_bert/bert_en_uncased_L-10_H-512_A-8':\n",
        "        'https://tfhub.dev/tensorflow/small_bert/bert_en_uncased_L-10_H-512_A-8/1',\n",
        "    'small_bert/bert_en_uncased_L-10_H-768_A-12':\n",
        "        'https://tfhub.dev/tensorflow/small_bert/bert_en_uncased_L-10_H-768_A-12/1',\n",
        "    'small_bert/bert_en_uncased_L-12_H-128_A-2':\n",
        "        'https://tfhub.dev/tensorflow/small_bert/bert_en_uncased_L-12_H-128_A-2/1',\n",
        "    'small_bert/bert_en_uncased_L-12_H-256_A-4':\n",
        "        'https://tfhub.dev/tensorflow/small_bert/bert_en_uncased_L-12_H-256_A-4/1',\n",
        "    'small_bert/bert_en_uncased_L-12_H-512_A-8':\n",
        "        'https://tfhub.dev/tensorflow/small_bert/bert_en_uncased_L-12_H-512_A-8/1',\n",
        "    'small_bert/bert_en_uncased_L-12_H-768_A-12':\n",
        "        'https://tfhub.dev/tensorflow/small_bert/bert_en_uncased_L-12_H-768_A-12/1',\n",
        "    'albert_en_base':\n",
        "        'https://tfhub.dev/tensorflow/albert_en_base/2',\n",
        "    'electra_small':\n",
        "        'https://tfhub.dev/google/electra_small/2',\n",
        "    'electra_base':\n",
        "        'https://tfhub.dev/google/electra_base/2',\n",
        "    'experts_pubmed':\n",
        "        'https://tfhub.dev/google/experts/bert/pubmed/2',\n",
        "    'experts_wiki_books':\n",
        "        'https://tfhub.dev/google/experts/bert/wiki_books/2',\n",
        "    'talking-heads_base':\n",
        "        'https://tfhub.dev/tensorflow/talkheads_ggelu_bert_en_base/1',\n",
        "}\n",
        "\n",
        "map_model_to_preprocess = {\n",
        "    'bert_en_uncased_L-12_H-768_A-12':\n",
        "        'https://tfhub.dev/tensorflow/bert_en_uncased_preprocess/3',\n",
        "    'bert_en_cased_L-12_H-768_A-12':\n",
        "        'https://tfhub.dev/tensorflow/bert_en_cased_preprocess/3',\n",
        "    'small_bert/bert_en_uncased_L-2_H-128_A-2':\n",
        "        'https://tfhub.dev/tensorflow/bert_en_uncased_preprocess/3',\n",
        "    'small_bert/bert_en_uncased_L-2_H-256_A-4':\n",
        "        'https://tfhub.dev/tensorflow/bert_en_uncased_preprocess/3',\n",
        "    'small_bert/bert_en_uncased_L-2_H-512_A-8':\n",
        "        'https://tfhub.dev/tensorflow/bert_en_uncased_preprocess/3',\n",
        "    'small_bert/bert_en_uncased_L-2_H-768_A-12':\n",
        "        'https://tfhub.dev/tensorflow/bert_en_uncased_preprocess/3',\n",
        "    'small_bert/bert_en_uncased_L-4_H-128_A-2':\n",
        "        'https://tfhub.dev/tensorflow/bert_en_uncased_preprocess/3',\n",
        "    'small_bert/bert_en_uncased_L-4_H-256_A-4':\n",
        "        'https://tfhub.dev/tensorflow/bert_en_uncased_preprocess/3',\n",
        "    'small_bert/bert_en_uncased_L-4_H-512_A-8':\n",
        "        'https://tfhub.dev/tensorflow/bert_en_uncased_preprocess/3',\n",
        "    'small_bert/bert_en_uncased_L-4_H-768_A-12':\n",
        "        'https://tfhub.dev/tensorflow/bert_en_uncased_preprocess/3',\n",
        "    'small_bert/bert_en_uncased_L-6_H-128_A-2':\n",
        "        'https://tfhub.dev/tensorflow/bert_en_uncased_preprocess/3',\n",
        "    'small_bert/bert_en_uncased_L-6_H-256_A-4':\n",
        "        'https://tfhub.dev/tensorflow/bert_en_uncased_preprocess/3',\n",
        "    'small_bert/bert_en_uncased_L-6_H-512_A-8':\n",
        "        'https://tfhub.dev/tensorflow/bert_en_uncased_preprocess/3',\n",
        "    'small_bert/bert_en_uncased_L-6_H-768_A-12':\n",
        "        'https://tfhub.dev/tensorflow/bert_en_uncased_preprocess/3',\n",
        "    'small_bert/bert_en_uncased_L-8_H-128_A-2':\n",
        "        'https://tfhub.dev/tensorflow/bert_en_uncased_preprocess/3',\n",
        "    'small_bert/bert_en_uncased_L-8_H-256_A-4':\n",
        "        'https://tfhub.dev/tensorflow/bert_en_uncased_preprocess/3',\n",
        "    'small_bert/bert_en_uncased_L-8_H-512_A-8':\n",
        "        'https://tfhub.dev/tensorflow/bert_en_uncased_preprocess/3',\n",
        "    'small_bert/bert_en_uncased_L-8_H-768_A-12':\n",
        "        'https://tfhub.dev/tensorflow/bert_en_uncased_preprocess/3',\n",
        "    'small_bert/bert_en_uncased_L-10_H-128_A-2':\n",
        "        'https://tfhub.dev/tensorflow/bert_en_uncased_preprocess/3',\n",
        "    'small_bert/bert_en_uncased_L-10_H-256_A-4':\n",
        "        'https://tfhub.dev/tensorflow/bert_en_uncased_preprocess/3',\n",
        "    'small_bert/bert_en_uncased_L-10_H-512_A-8':\n",
        "        'https://tfhub.dev/tensorflow/bert_en_uncased_preprocess/3',\n",
        "    'small_bert/bert_en_uncased_L-10_H-768_A-12':\n",
        "        'https://tfhub.dev/tensorflow/bert_en_uncased_preprocess/3',\n",
        "    'small_bert/bert_en_uncased_L-12_H-128_A-2':\n",
        "        'https://tfhub.dev/tensorflow/bert_en_uncased_preprocess/3',\n",
        "    'small_bert/bert_en_uncased_L-12_H-256_A-4':\n",
        "        'https://tfhub.dev/tensorflow/bert_en_uncased_preprocess/3',\n",
        "    'small_bert/bert_en_uncased_L-12_H-512_A-8':\n",
        "        'https://tfhub.dev/tensorflow/bert_en_uncased_preprocess/3',\n",
        "    'small_bert/bert_en_uncased_L-12_H-768_A-12':\n",
        "        'https://tfhub.dev/tensorflow/bert_en_uncased_preprocess/3',\n",
        "    'bert_multi_cased_L-12_H-768_A-12':\n",
        "        'https://tfhub.dev/tensorflow/bert_multi_cased_preprocess/3',\n",
        "    'albert_en_base':\n",
        "        'https://tfhub.dev/tensorflow/albert_en_preprocess/3',\n",
        "    'electra_small':\n",
        "        'https://tfhub.dev/tensorflow/bert_en_uncased_preprocess/3',\n",
        "    'electra_base':\n",
        "        'https://tfhub.dev/tensorflow/bert_en_uncased_preprocess/3',\n",
        "    'experts_pubmed':\n",
        "        'https://tfhub.dev/tensorflow/bert_en_uncased_preprocess/3',\n",
        "    'experts_wiki_books':\n",
        "        'https://tfhub.dev/tensorflow/bert_en_uncased_preprocess/3',\n",
        "    'talking-heads_base':\n",
        "        'https://tfhub.dev/tensorflow/bert_en_uncased_preprocess/3',\n",
        "}\n",
        "\n",
        "tfhub_handle_encoder = map_name_to_handle[bert_model_name]\n",
        "tfhub_handle_preprocess = map_model_to_preprocess[bert_model_name]\n",
        "\n",
        "print(f'BERT model selected           : {tfhub_handle_encoder}')\n",
        "print(f'Preprocess model auto-selected: {tfhub_handle_preprocess}')"
      ]
    },
    {
      "cell_type": "code",
      "execution_count": 65,
      "metadata": {
        "id": "jegh8BDp7iU1"
      },
      "outputs": [],
      "source": [
        "bert_preprocess_model = tensorflow_hub.KerasLayer(tfhub_handle_preprocess);\n",
        "bert_model = tensorflow_hub.KerasLayer(tfhub_handle_encoder);"
      ]
    },
    {
      "cell_type": "code",
      "source": [
        "vectorized_train_corpus = bert_preprocess_model(train_corpus);\n",
        "vectorized_test_corpus = bert_preprocess_model(test_corpus);\n",
        "vectorized_val_corpus = bert_preprocess_model(val_corpus);"
      ],
      "metadata": {
        "id": "rqoc1qOa-qge"
      },
      "execution_count": 66,
      "outputs": []
    },
    {
      "cell_type": "code",
      "source": [
        "# vectorized_train_corpus"
      ],
      "metadata": {
        "id": "-WQJ1RIH_fQq"
      },
      "execution_count": 67,
      "outputs": []
    },
    {
      "cell_type": "code",
      "source": [
        "from tensorflow.keras.layers import Input, Dropout, Dense, Lambda;\n",
        "from tensorflow.keras.models import Sequential, Model;\n",
        "from tensorflow.keras.optimizers import Adam, SGD;\n",
        "from tensorflow.keras.utils import plot_model;\n",
        "from tensorflow.keras.callbacks import EarlyStopping;\n",
        "from tensorflow.keras.regularizers import l2, l1_l2;\n",
        "from tensorflow.data import Dataset;\n",
        "\n",
        "import matplotlib.pyplot as plt;\n",
        "\n",
        "from tensorflow_hub import KerasLayer;"
      ],
      "metadata": {
        "id": "xfJ_RJO-AxVm"
      },
      "execution_count": 68,
      "outputs": []
    },
    {
      "cell_type": "code",
      "source": [
        "train_set_loader = Dataset.from_tensor_slices((vectorized_train_corpus, train_label));\n",
        "test_set_loader = Dataset.from_tensor_slices((vectorized_test_corpus, test_label));\n",
        "val_set_loader = Dataset.from_tensor_slices((vectorized_val_corpus, val_label));"
      ],
      "metadata": {
        "id": "tE6jFYckLDRZ"
      },
      "execution_count": 69,
      "outputs": []
    },
    {
      "cell_type": "code",
      "source": [
        "vectorized_train_corpus.keys()\n",
        "\n",
        "# vectorized_train_corpus[\"input_type_ids\"].shape"
      ],
      "metadata": {
        "colab": {
          "base_uri": "https://localhost:8080/"
        },
        "id": "g8FmnaYzTmOE",
        "outputId": "3900f925-e979-433d-f3b8-ec6a48e25e5a"
      },
      "execution_count": 74,
      "outputs": [
        {
          "output_type": "execute_result",
          "data": {
            "text/plain": [
              "dict_keys(['input_mask', 'input_type_ids', 'input_word_ids'])"
            ]
          },
          "metadata": {},
          "execution_count": 74
        }
      ]
    },
    {
      "cell_type": "code",
      "source": [
        "# Model Architecture. Oh yeah. Here we go again...\n",
        "class BERTModel():\n",
        "    def __init__(self):\n",
        "        self.model_name = \"bert.202405310722\";\n",
        "        self.encoder = bert_model;\n",
        "        self.dropout = Dropout(0.1);\n",
        "        self.output = Dense(3, activation=\"softmax\");\n",
        "\n",
        "    def init_build(self):\n",
        "        input_word_ids = Input(shape=(None,), dtype=tensorflow.int32, name='input_word_ids');\n",
        "        input_mask = Input(shape=(None,), dtype=tensorflow.int32, name='input_mask');\n",
        "        input_type_ids = Input(shape=(None,), dtype=tensorflow.int32, name='input_type_ids');\n",
        "\n",
        "        inputs = {\n",
        "            'input_word_ids': input_word_ids,\n",
        "            'input_mask': input_mask,\n",
        "            'input_type_ids': input_type_ids\n",
        "        };\n",
        "\n",
        "        encoder_output = self.encoder(inputs);\n",
        "        net = self.dropout(encoder_output['pooled_output']);\n",
        "        net = self.output(net);\n",
        "\n",
        "        model = Model(inputs=inputs, outputs=net, name=self.model_name);\n",
        "        return model;\n",
        "\n",
        "    # Early stopping after loss are not improved for some epochs\n",
        "    def _callback_early_stopping(self):\n",
        "        early_stopping_tolerance = 5;\n",
        "        return EarlyStopping(\n",
        "            monitor = \"val_loss\",\n",
        "            patience = early_stopping_tolerance,\n",
        "            restore_best_weights = True\n",
        "        );\n",
        "\n",
        "    def fitting(self):\n",
        "        model = self.init_build();\n",
        "\n",
        "        model.compile(optimizer = Adam(learning_rate = 1e-3), loss = \"categorical_crossentropy\", metrics = [\"accuracy\"]);\n",
        "        model.summary();\n",
        "\n",
        "        plot_model(model, to_file = (f\"model_architecture.{self.model_name}.png\"), show_shapes = True);\n",
        "\n",
        "        history = model.fit(\n",
        "            vectorized_train_corpus,\n",
        "            train_label,\n",
        "            epochs = 10,\n",
        "            batch_size = 64,\n",
        "            validation_data = (vectorized_val_corpus, val_label),\n",
        "            callbacks = [self._callback_early_stopping()]\n",
        "        );\n",
        "\n",
        "        # Plot training history\n",
        "        plt.figure(figsize=(15, 12))\n",
        "\n",
        "        # Loss\n",
        "        plt.subplot2grid((3, 2), (0, 0));\n",
        "        plt.plot(history.history['loss'], label='Training Loss');\n",
        "        plt.plot(history.history['val_loss'], label='Validation Loss');\n",
        "        plt.title('Loss Plots');\n",
        "        plt.xlabel('Epoch');\n",
        "        plt.ylabel('Loss');\n",
        "        plt.legend();\n",
        "\n",
        "        # Accuracy\n",
        "        plt.subplot2grid((3, 2), (0, 1));\n",
        "        plt.plot(history.history['accuracy'], label='Training Accuracy');\n",
        "        plt.plot(history.history['accuracy'], label='Validation Accuracy');\n",
        "        plt.title('Binary Accuracy Plots');\n",
        "        plt.xlabel('Epoch');\n",
        "        plt.ylabel('Binary Accuracy');\n",
        "        plt.legend();\n",
        "\n",
        "        plt.tight_layout();\n",
        "        plt.show();\n",
        "\n",
        "        return model;"
      ],
      "metadata": {
        "id": "sOGiu_0wAhYJ"
      },
      "execution_count": 80,
      "outputs": []
    },
    {
      "cell_type": "markdown",
      "source": [
        "## 5 & 6. Model Training & Evaluation\n",
        "\n",
        "Yes. Train it. Evaluate it."
      ],
      "metadata": {
        "id": "3bt_stjICnHL"
      }
    },
    {
      "cell_type": "code",
      "source": [
        "# Helper Function\n",
        "import requests;\n",
        "import time;\n",
        "\n",
        "# telegram_reporter\n",
        "\"\"\"\n",
        "This function helps to send message to telegram private channel\n",
        "\"\"\"\n",
        "def telegram_reporter(message):\n",
        "    message = \"[\" + time.strftime(\"%Y-%m-%d %H:%M:%S\") +\"][CNN FROM SCRATCH] \" + message\n",
        "    requests.request(\n",
        "        method=\"POST\",\n",
        "        url=\"https://api.telegram.org/bot6307342709:AAEehfQrvZzQhk2hFlOW7C1JnE2hRQYLEgE/sendMessage?chat_id=-1001525528850&text=\" + message,\n",
        "        headers={},\n",
        "        data={}\n",
        "    );"
      ],
      "metadata": {
        "id": "y5NBUBDECwAQ"
      },
      "execution_count": 72,
      "outputs": []
    },
    {
      "cell_type": "code",
      "source": [
        "# telegram_reporter(\"Starting training\");\n",
        "\n",
        "cnn = BERTModel();\n",
        "model = cnn.fitting();\n",
        "\n",
        "test_loss, test_acc = model.evaluate(test_corpus, test_label)\n",
        "print(f'Test accuracy: {test_acc}')\n",
        "\n",
        "telegram_reporter(\"Training done\");"
      ],
      "metadata": {
        "colab": {
          "base_uri": "https://localhost:8080/"
        },
        "id": "TJtqlotDCpbp",
        "outputId": "d1f8c7a3-7d16-4b63-cae8-c6243d6ea783"
      },
      "execution_count": null,
      "outputs": [
        {
          "output_type": "stream",
          "name": "stdout",
          "text": [
            "Model: \"bert.202405310722\"\n",
            "__________________________________________________________________________________________________\n",
            " Layer (type)                Output Shape                 Param #   Connected to                  \n",
            "==================================================================================================\n",
            " input_mask (InputLayer)     [(None, None)]               0         []                            \n",
            "                                                                                                  \n",
            " input_type_ids (InputLayer  [(None, None)]               0         []                            \n",
            " )                                                                                                \n",
            "                                                                                                  \n",
            " input_word_ids (InputLayer  [(None, None)]               0         []                            \n",
            " )                                                                                                \n",
            "                                                                                                  \n",
            " keras_layer_3 (KerasLayer)  {'encoder_outputs': [(None   3506841   ['input_mask[0][0]',          \n",
            "                             , None, 512),                7          'input_type_ids[0][0]',      \n",
            "                              (None, None, 512),                     'input_word_ids[0][0]']      \n",
            "                              (None, None, 512),                                                  \n",
            "                              (None, None, 512),                                                  \n",
            "                              (None, None, 512),                                                  \n",
            "                              (None, None, 512)],                                                 \n",
            "                              'pooled_output': (None, 5                                           \n",
            "                             12),                                                                 \n",
            "                              'sequence_output': (None,                                           \n",
            "                              None, 512),                                                         \n",
            "                              'default': (None, 512)}                                             \n",
            "                                                                                                  \n",
            " dropout_4 (Dropout)         (None, 512)                  0         ['keras_layer_3[0][7]']       \n",
            "                                                                                                  \n",
            " dense_3 (Dense)             (None, 3)                    1539      ['dropout_4[0][0]']           \n",
            "                                                                                                  \n",
            "==================================================================================================\n",
            "Total params: 35069956 (133.78 MB)\n",
            "Trainable params: 1539 (6.01 KB)\n",
            "Non-trainable params: 35068417 (133.78 MB)\n",
            "__________________________________________________________________________________________________\n",
            "Epoch 1/10\n",
            "158/158 [==============================] - 153s 943ms/step - loss: 0.7961 - accuracy: 0.6712 - val_loss: 0.7281 - val_accuracy: 0.7038\n",
            "Epoch 2/10\n",
            "158/158 [==============================] - 149s 945ms/step - loss: 0.7137 - accuracy: 0.7039 - val_loss: 0.6965 - val_accuracy: 0.7149\n",
            "Epoch 3/10\n",
            "158/158 [==============================] - 147s 934ms/step - loss: 0.6906 - accuracy: 0.7192 - val_loss: 0.6872 - val_accuracy: 0.7172\n",
            "Epoch 4/10\n",
            "158/158 [==============================] - 149s 943ms/step - loss: 0.6759 - accuracy: 0.7232 - val_loss: 0.6826 - val_accuracy: 0.7177\n",
            "Epoch 5/10\n",
            "158/158 [==============================] - 147s 933ms/step - loss: 0.6711 - accuracy: 0.7244 - val_loss: 0.6679 - val_accuracy: 0.7232\n",
            "Epoch 6/10\n",
            "158/158 [==============================] - 148s 938ms/step - loss: 0.6643 - accuracy: 0.7275 - val_loss: 0.6801 - val_accuracy: 0.7218\n",
            "Epoch 7/10\n",
            "158/158 [==============================] - ETA: 0s - loss: 0.6641 - accuracy: 0.7261"
          ]
        }
      ]
    }
  ],
  "metadata": {
    "kernelspec": {
      "display_name": "Python 3",
      "name": "python3"
    },
    "language_info": {
      "codemirror_mode": {
        "name": "ipython",
        "version": 3
      },
      "file_extension": ".py",
      "mimetype": "text/x-python",
      "name": "python",
      "nbconvert_exporter": "python",
      "pygments_lexer": "ipython3",
      "version": "3.12.3"
    },
    "colab": {
      "provenance": [],
      "machine_shape": "hm",
      "gpuType": "A100"
    },
    "accelerator": "GPU"
  },
  "nbformat": 4,
  "nbformat_minor": 0
}
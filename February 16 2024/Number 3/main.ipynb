{
 "cells": [
  {
   "cell_type": "markdown",
   "metadata": {},
   "source": [
    "# Number 3\n",
    "\n",
    "There are several cost functions available, but one which is in our interests and is also most widely used in regression and classification tasks is the MSE Cost Function. Your task is to find a polynomial regression model to establish an optimal relation between salary and position level by minimising the MSE cost function using a gradient descent approach. Please ensure the code is written in a Python notebook and put your relevant explanations/comments within the markdown cells. You may use a dataset taken from raw.githubusercontent.com/mkgurucharan/Regression/master/PositionSalaries_Data.csv"
   ]
  },
  {
   "cell_type": "markdown",
   "metadata": {},
   "source": [
    "## Importing Libraries\n",
    "\n",
    "These libraries below are used to work with polynomial regression models. In this case, I employed Artificial Neural Network regression to working with the minimizing the MSE cost function."
   ]
  },
  {
   "cell_type": "code",
   "execution_count": 126,
   "metadata": {},
   "outputs": [],
   "source": [
    "import pandas;\n",
    "import numpy;\n",
    "from sklearn.preprocessing import StandardScaler;\n",
    "from sklearn.model_selection import train_test_split;\n",
    "from tensorflow.keras.layers import Dense, InputLayer;\n",
    "from tensorflow.keras.models import Sequential;\n",
    "from tensorflow.keras.utils import plot_model;\n",
    "from tensorflow.keras.optimizers import Adam;\n",
    "import matplotlib.pyplot as plt;\n",
    "from tensorflow.keras.callbacks import EarlyStopping;"
   ]
  },
  {
   "cell_type": "markdown",
   "metadata": {},
   "source": [
    "## Data Loading & Exploration\n",
    "\n",
    "This section is about data loading and explorations.  "
   ]
  },
  {
   "cell_type": "code",
   "execution_count": 127,
   "metadata": {},
   "outputs": [
    {
     "data": {
      "text/html": [
       "<div>\n",
       "<style scoped>\n",
       "    .dataframe tbody tr th:only-of-type {\n",
       "        vertical-align: middle;\n",
       "    }\n",
       "\n",
       "    .dataframe tbody tr th {\n",
       "        vertical-align: top;\n",
       "    }\n",
       "\n",
       "    .dataframe thead th {\n",
       "        text-align: right;\n",
       "    }\n",
       "</style>\n",
       "<table border=\"1\" class=\"dataframe\">\n",
       "  <thead>\n",
       "    <tr style=\"text-align: right;\">\n",
       "      <th></th>\n",
       "      <th>Position</th>\n",
       "      <th>Level</th>\n",
       "      <th>Salary</th>\n",
       "    </tr>\n",
       "  </thead>\n",
       "  <tbody>\n",
       "    <tr>\n",
       "      <th>0</th>\n",
       "      <td>Partner</td>\n",
       "      <td>7</td>\n",
       "      <td>200000</td>\n",
       "    </tr>\n",
       "    <tr>\n",
       "      <th>1</th>\n",
       "      <td>Region Manager</td>\n",
       "      <td>6</td>\n",
       "      <td>150000</td>\n",
       "    </tr>\n",
       "    <tr>\n",
       "      <th>2</th>\n",
       "      <td>C-level</td>\n",
       "      <td>9</td>\n",
       "      <td>500000</td>\n",
       "    </tr>\n",
       "    <tr>\n",
       "      <th>3</th>\n",
       "      <td>Senior Partner</td>\n",
       "      <td>8</td>\n",
       "      <td>300000</td>\n",
       "    </tr>\n",
       "    <tr>\n",
       "      <th>4</th>\n",
       "      <td>CEO</td>\n",
       "      <td>10</td>\n",
       "      <td>1000000</td>\n",
       "    </tr>\n",
       "  </tbody>\n",
       "</table>\n",
       "</div>"
      ],
      "text/plain": [
       "         Position  Level   Salary\n",
       "0         Partner      7   200000\n",
       "1  Region Manager      6   150000\n",
       "2         C-level      9   500000\n",
       "3  Senior Partner      8   300000\n",
       "4             CEO     10  1000000"
      ]
     },
     "execution_count": 127,
     "metadata": {},
     "output_type": "execute_result"
    }
   ],
   "source": [
    "dataframe = pandas.read_csv(\"PositionSalaries_Data.csv\", index_col = None, );\n",
    "dataframe.reset_index(drop=True, inplace=True);\n",
    "\n",
    "# Randomize the data within dataframe\n",
    "dataframe = dataframe.sample(frac = 1).reset_index(drop = True)\n",
    "\n",
    "# Print some data\n",
    "dataframe.head()"
   ]
  },
  {
   "cell_type": "code",
   "execution_count": 128,
   "metadata": {},
   "outputs": [
    {
     "data": {
      "text/plain": [
       "(10, 3)"
      ]
     },
     "execution_count": 128,
     "metadata": {},
     "output_type": "execute_result"
    }
   ],
   "source": [
    "# Found that this data contains 10 rows and 3 columns. \n",
    "dataframe.shape"
   ]
  },
  {
   "cell_type": "markdown",
   "metadata": {},
   "source": [
    "## Data Pre-Processing\n",
    "\n",
    "This section is about data pre-processing. The following actions are taken to clean and ease the training process:\n",
    "\n",
    "1. Setting up Features and Label\n",
    "Position and Level are used as features, while Salary for label\n",
    "\n",
    "2. Drop Position column\n",
    "Since level contains flag values for position, the \"Position\" column should be dropped.\n",
    "\n",
    "3. Standardize the data with standard scaler\n",
    "The question is asking me to control the MSE cost. Well, controlling MSE is hard since its barely readable especially when it comes to Gradient Descent. So the plan is to normalize the each data within feature and label, by lowering the standard deviation, in which turning the means within the data into 0.\n",
    "\n",
    "4. Train-Test Split\n",
    "Split the data into training and testing with ratio below:\n",
    "\n",
    "| Split | Ratio |\n",
    "|---|---|\n",
    "| Train | 70% |\n",
    "| Test | 30% |"
   ]
  },
  {
   "cell_type": "code",
   "execution_count": 129,
   "metadata": {},
   "outputs": [
    {
     "data": {
      "text/plain": [
       "(10,)"
      ]
     },
     "execution_count": 129,
     "metadata": {},
     "output_type": "execute_result"
    }
   ],
   "source": [
    "# Call out Step 1\n",
    "\n",
    "features = dataframe.drop(columns = [\"Salary\"]);\n",
    "label = dataframe[\"Salary\"];\n",
    "\n",
    "label.shape"
   ]
  },
  {
   "cell_type": "code",
   "execution_count": 130,
   "metadata": {},
   "outputs": [
    {
     "data": {
      "text/plain": [
       "(10, 1)"
      ]
     },
     "execution_count": 130,
     "metadata": {},
     "output_type": "execute_result"
    }
   ],
   "source": [
    "# Call out Step 2\n",
    "\n",
    "features = features.drop(columns = [\"Position\"]);\n",
    "features.shape"
   ]
  },
  {
   "cell_type": "code",
   "execution_count": 132,
   "metadata": {},
   "outputs": [
    {
     "data": {
      "text/plain": [
       "(10, 1)"
      ]
     },
     "execution_count": 132,
     "metadata": {},
     "output_type": "execute_result"
    }
   ],
   "source": [
    "# Call out Step 3\n",
    "scaler = StandardScaler();\n",
    "features = scaler.fit_transform(features);\n",
    "label = scaler.fit_transform(numpy.array(label).reshape(-1, 1));\n",
    "\n",
    "features.shape"
   ]
  },
  {
   "cell_type": "code",
   "execution_count": 133,
   "metadata": {},
   "outputs": [],
   "source": [
    "feature_train, feature_test, label_train, label_test = train_test_split(\n",
    "    features, \n",
    "    label, \n",
    "    train_size = 0.7, \n",
    "    test_size = 0.3, \n",
    "    random_state = 42\n",
    ");"
   ]
  },
  {
   "cell_type": "markdown",
   "metadata": {},
   "source": [
    "## Techniques\n",
    "\n",
    "In endavour producing a high precision prediction polynomial regression model, the Artificial Neural Network (ANN) algorithm with Adam optimizer gradient descent method is employed. \n",
    "The Techniques section are consist of the following steps below:\n",
    "\n",
    "1. ANN Model Factory\n",
    "This part contains required meta data, and code design pattern to ease the training process of ANN model\n",
    "\n",
    "2. Models fitting and evaluation\n",
    "This part contains the training and evaluation process of the ANN model. Things to be known include:\n",
    "- Mean Squared Error (MSE) is employed as model's loss (in this question wise, MSE treated as cost) function\n",
    "- Mean Absolute Error (MAE) is employed as model's metrics function due to easier estimation and its readibility.\n",
    "\n",
    "Both of MSE and MAE can be qualitatively said as:\n",
    "\"The more near zero both MSE and MAE, the more accurate the model prediction.\""
   ]
  },
  {
   "cell_type": "markdown",
   "metadata": {},
   "source": [
    "### Model Factory\n",
    "\n",
    "Click [here to open LightGBM docs reference](https://lightgbm.readthedocs.io/en/latest/Parameters.html)"
   ]
  },
  {
   "cell_type": "code",
   "execution_count": 162,
   "metadata": {},
   "outputs": [],
   "source": [
    "\"\"\"\n",
    "ANNModel\n",
    "\n",
    "This class implements a OO-pattern to ease model generation. \n",
    "\"\"\"\n",
    "class ANNModel:\n",
    "\n",
    "    def __init__(self):\n",
    "        # The constructor only allowed to construct a standardized unchangeable configuration.\n",
    "        model = Sequential();\n",
    "        \n",
    "        # Input Layer\n",
    "        model.add(InputLayer(input_shape = (1,)));\n",
    "        \n",
    "        # Hidden Layer\n",
    "\n",
    "        for i in [self.hidden_layer()]:\n",
    "            for j in i:\n",
    "                model.add(j);\n",
    "\n",
    "        # Output Layer\n",
    "        model.add(Dense(1, activation = \"linear\"));\n",
    "    \n",
    "        self.model = model;\n",
    "\n",
    "    def hidden_layer(self):\n",
    "        n = 1;\n",
    "        return [\n",
    "            Dense(32, activation = \"relu\"),\n",
    "        ];\n",
    "\n",
    "    # Early stopping after loss are not improved for some epochs\n",
    "    def _callback_early_stopping(self):\n",
    "        early_stopping_tolerance = 50;\n",
    "\n",
    "        return EarlyStopping(\n",
    "            monitor = \"val_loss\",\n",
    "            patience = early_stopping_tolerance,\n",
    "            restore_best_weights = True,\n",
    "        );\n",
    "\n",
    "    def fitting(self, train_feature, train_label, test_feature, test_label):\n",
    "        \n",
    "        model = self.model;\n",
    "\n",
    "        plot_model(model, to_file = (\"model_architecture.png\"), show_shapes = True);\n",
    "\n",
    "        model.compile(loss = \"mse\", optimizer = Adam(learning_rate = 1e-3), metrics = [\"mae\"]);\n",
    "\n",
    "        # Fitting\n",
    "        model_plot = model.fit(\n",
    "            train_feature, \n",
    "            train_label, \n",
    "            epochs = int(1e+3), \n",
    "            validation_data = (test_feature, test_label), \n",
    "            verbose = 0,\n",
    "            callbacks = [self._callback_early_stopping()] \n",
    "        );\n",
    "\n",
    "        plt.plot(model_plot.history[\"loss\"], label = \"Model Training Loss (MSE)\");\n",
    "        plt.plot(model_plot.history[\"val_loss\"], label = \"Model Validation Loss (MSE)\");\n",
    "\n",
    "        plt.title(\"Training and Validation Loss\");\n",
    "        plt.xlabel(\"Epochs\");\n",
    "        plt.ylabel(\"Loss (MSE)\");\n",
    "        plt.legend(loc='upper left', bbox_to_anchor=(1, 0.5));\n",
    "        plt.show();\n",
    "\n",
    "        epoch = len(model_plot.history[\"loss\"]);\n",
    "        print(f\"Fixed Epoch: {epoch}\");\n",
    "\n",
    "        return model;"
   ]
  },
  {
   "cell_type": "code",
   "execution_count": 163,
   "metadata": {},
   "outputs": [
    {
     "data": {
      "image/png": "[encoded data removed]",
      "text/plain": [
       "<Figure size 640x480 with 1 Axes>"
      ]
     },
     "metadata": {},
     "output_type": "display_data"
    },
    {
     "name": "stdout",
     "output_type": "stream",
     "text": [
      "Fixed Epoch: 341\n",
      "1/1 [==============================] - 0s 21ms/step - loss: 0.0041 - mae: 0.0512\n"
     ]
    }
   ],
   "source": [
    "model = ANNModel();\n",
    "dojo = model.fitting(feature_train, label_train, feature_test, label_test);\n",
    "loss, accuracy = dojo.evaluate(feature_test, label_test);"
   ]
  }
 ],
 "metadata": {
  "kernelspec": {
   "display_name": "Python 3",
   "language": "python",
   "name": "python3"
  },
  "language_info": {
   "codemirror_mode": {
    "name": "ipython",
    "version": 3
   },
   "file_extension": ".py",
   "mimetype": "text/x-python",
   "name": "python",
   "nbconvert_exporter": "python",
   "pygments_lexer": "ipython3",
   "version": "3.10.13"
  },
  "orig_nbformat": 4
 },
 "nbformat": 4,
 "nbformat_minor": 2
}
